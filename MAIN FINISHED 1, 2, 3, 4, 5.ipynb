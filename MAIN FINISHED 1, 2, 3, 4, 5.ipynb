{
 "cells": [
  {
   "cell_type": "markdown",
   "metadata": {},
   "source": [
    "# Import packages and database"
   ]
  },
  {
   "cell_type": "code",
   "execution_count": 1,
   "metadata": {
    "execution": {
     "iopub.execute_input": "2023-12-16T14:02:13.407324Z",
     "iopub.status.busy": "2023-12-16T14:02:13.406688Z",
     "iopub.status.idle": "2023-12-16T14:02:15.965185Z",
     "shell.execute_reply": "2023-12-16T14:02:15.963635Z",
     "shell.execute_reply.started": "2023-12-16T14:02:13.407267Z"
    },
    "tags": []
   },
   "outputs": [],
   "source": [
    "import pandas as pd\n",
    "import numpy as np\n",
    "import biogeme.database as db\n",
    "import biogeme.biogeme as bio\n",
    "import biogeme.segmentation as seg\n",
    "from biogeme.expressions import Beta, Variable, Derive, exp\n",
    "from biogeme import models\n",
    "from biogeme import results as res\n",
    "from biogeme.expressions import DefineVariable, log\n",
    "from collections import namedtuple\n",
    "\n",
    "data_file ='https://raw.githubusercontent.com/GustavePellier/MMOB/main/lpmc19.dat'\n",
    "LPMC = pd.read_csv(data_file, sep='\\t')\n",
    "LPMC\n",
    "\n",
    "database = db.Database('LPMC', LPMC)\n",
    "all_results = {}"
   ]
  },
  {
   "cell_type": "markdown",
   "metadata": {},
   "source": [
    "# Model 0"
   ]
  },
  {
   "cell_type": "markdown",
   "metadata": {},
   "source": [
    "We calculate the total public transport duration and the total driving cost"
   ]
  },
  {
   "cell_type": "code",
   "execution_count": 2,
   "metadata": {
    "execution": {
     "iopub.execute_input": "2023-12-16T14:02:16.287562Z",
     "iopub.status.busy": "2023-12-16T14:02:16.286937Z",
     "iopub.status.idle": "2023-12-16T14:02:16.300524Z",
     "shell.execute_reply": "2023-12-16T14:02:16.299115Z",
     "shell.execute_reply.started": "2023-12-16T14:02:16.287506Z"
    },
    "tags": []
   },
   "outputs": [],
   "source": [
    "LPMC[\"dur_pt\"]= LPMC[\"dur_pt_access\"] + LPMC[\"dur_pt_rail\"] + LPMC[\"dur_pt_bus\"] + LPMC[\"dur_pt_int\"] \n",
    "LPMC[\"cost_drive\"] = LPMC[\"cost_driving_ccharge\"] + LPMC[\"cost_driving_fuel\"]"
   ]
  },
  {
   "cell_type": "markdown",
   "metadata": {},
   "source": [
    "Some variables are created with the columns that seem to be useful"
   ]
  },
  {
   "cell_type": "code",
   "execution_count": 3,
   "metadata": {
    "execution": {
     "iopub.execute_input": "2023-12-16T14:02:17.292153Z",
     "iopub.status.busy": "2023-12-16T14:02:17.291346Z",
     "iopub.status.idle": "2023-12-16T14:02:17.303638Z",
     "shell.execute_reply": "2023-12-16T14:02:17.302283Z",
     "shell.execute_reply.started": "2023-12-16T14:02:17.292092Z"
    },
    "tags": []
   },
   "outputs": [],
   "source": [
    "travel_mode=Variable('travel_mode')\n",
    "\n",
    "dur_pt_access=Variable('dur_pt_access')\n",
    "dur_pt_rail=Variable('dur_pt_rail')\n",
    "dur_pt_bus=Variable('dur_pt_bus')\n",
    "dur_pt_int=Variable('dur_pt_int')\n",
    "\n",
    "pt_interchanges=Variable('pt_interchanges')\n",
    "\n",
    "cost_driving_fuel=Variable('cost_driving_fuel')\n",
    "cost_driving_ccharge=Variable('cost_driving_ccharge')\n",
    "cost_drive=Variable('cost_drive')\n",
    "cost_pt=Variable('cost_transit')\n",
    "\n",
    "time_walk=Variable('dur_walking')\n",
    "time_cycle=Variable('dur_cycling')\n",
    "time_pt=Variable('dur_pt')\n",
    "time_drive=Variable('dur_driving')\n",
    "\n",
    "female=Variable('female')\n",
    "age=Variable('age')"
   ]
  },
  {
   "cell_type": "markdown",
   "metadata": {},
   "source": [
    "There are 4 different travel mode, we will thus build a model with 4 utility functions, we create 3 alternative specific constant, a generic parameter for travel time and a generic parameter for cost"
   ]
  },
  {
   "cell_type": "code",
   "execution_count": 4,
   "metadata": {
    "execution": {
     "iopub.execute_input": "2023-12-16T14:02:18.180687Z",
     "iopub.status.busy": "2023-12-16T14:02:18.180065Z",
     "iopub.status.idle": "2023-12-16T14:02:18.190355Z",
     "shell.execute_reply": "2023-12-16T14:02:18.188725Z",
     "shell.execute_reply.started": "2023-12-16T14:02:18.180633Z"
    },
    "tags": []
   },
   "outputs": [],
   "source": [
    "asc_cycle = Beta('asc_cycle', 0, None, None, 0)\n",
    "asc_pt = Beta('asc_pt', 0, None, None, 0)\n",
    "asc_drive = Beta('asc_drive', 0, None, None, 0)\n",
    "beta_cost = Beta('beta_cost', 0, None, None, 0)\n",
    "beta_time = Beta('beta_time', 0, None, None, 0)"
   ]
  },
  {
   "cell_type": "markdown",
   "metadata": {},
   "source": [
    "Utility functions creation"
   ]
  },
  {
   "cell_type": "code",
   "execution_count": 5,
   "metadata": {
    "execution": {
     "iopub.execute_input": "2023-12-16T14:02:19.081106Z",
     "iopub.status.busy": "2023-12-16T14:02:19.080446Z",
     "iopub.status.idle": "2023-12-16T14:02:19.089050Z",
     "shell.execute_reply": "2023-12-16T14:02:19.087463Z",
     "shell.execute_reply.started": "2023-12-16T14:02:19.081048Z"
    },
    "tags": []
   },
   "outputs": [],
   "source": [
    "v_walk_model0= beta_time * time_walk  \n",
    "v_cycle_model0= asc_cycle + beta_time * time_cycle \n",
    "v_pt_model0= asc_pt + beta_time * time_pt + beta_cost * cost_pt\n",
    "v_drive_model0= asc_drive + beta_time * time_drive + beta_cost * cost_drive"
   ]
  },
  {
   "cell_type": "markdown",
   "metadata": {},
   "source": [
    "availability of each mode, all available here"
   ]
  },
  {
   "cell_type": "code",
   "execution_count": 6,
   "metadata": {
    "execution": {
     "iopub.execute_input": "2023-12-16T14:02:20.000147Z",
     "iopub.status.busy": "2023-12-16T14:02:19.999513Z",
     "iopub.status.idle": "2023-12-16T14:02:20.006869Z",
     "shell.execute_reply": "2023-12-16T14:02:20.005240Z",
     "shell.execute_reply.started": "2023-12-16T14:02:20.000090Z"
    },
    "tags": []
   },
   "outputs": [],
   "source": [
    "av = {1: 1, 2: 1, 3: 1, 4:1}"
   ]
  },
  {
   "cell_type": "markdown",
   "metadata": {},
   "source": [
    "The estimation results (parameter values, t-tests or p-values, null and final log likelihoods)"
   ]
  },
  {
   "cell_type": "code",
   "execution_count": 7,
   "metadata": {
    "execution": {
     "iopub.execute_input": "2023-12-16T14:02:20.877500Z",
     "iopub.status.busy": "2023-12-16T14:02:20.876813Z",
     "iopub.status.idle": "2023-12-16T14:02:21.838776Z",
     "shell.execute_reply": "2023-12-16T14:02:21.837321Z",
     "shell.execute_reply.started": "2023-12-16T14:02:20.877444Z"
    },
    "tags": []
   },
   "outputs": [
    {
     "data": {
      "text/html": [
       "<div>\n",
       "<style scoped>\n",
       "    .dataframe tbody tr th:only-of-type {\n",
       "        vertical-align: middle;\n",
       "    }\n",
       "\n",
       "    .dataframe tbody tr th {\n",
       "        vertical-align: top;\n",
       "    }\n",
       "\n",
       "    .dataframe thead th {\n",
       "        text-align: right;\n",
       "    }\n",
       "</style>\n",
       "<table border=\"1\" class=\"dataframe\">\n",
       "  <thead>\n",
       "    <tr style=\"text-align: right;\">\n",
       "      <th></th>\n",
       "      <th>Value</th>\n",
       "      <th>Rob. Std err</th>\n",
       "      <th>Rob. t-test</th>\n",
       "      <th>Rob. p-value</th>\n",
       "    </tr>\n",
       "  </thead>\n",
       "  <tbody>\n",
       "    <tr>\n",
       "      <th>asc_cycle</th>\n",
       "      <td>-3.878619</td>\n",
       "      <td>0.107672</td>\n",
       "      <td>-36.022418</td>\n",
       "      <td>0.0</td>\n",
       "    </tr>\n",
       "    <tr>\n",
       "      <th>asc_drive</th>\n",
       "      <td>-1.295191</td>\n",
       "      <td>0.080505</td>\n",
       "      <td>-16.088354</td>\n",
       "      <td>0.0</td>\n",
       "    </tr>\n",
       "    <tr>\n",
       "      <th>asc_pt</th>\n",
       "      <td>-0.503354</td>\n",
       "      <td>0.054123</td>\n",
       "      <td>-9.300119</td>\n",
       "      <td>0.0</td>\n",
       "    </tr>\n",
       "    <tr>\n",
       "      <th>beta_cost</th>\n",
       "      <td>-0.193629</td>\n",
       "      <td>0.013958</td>\n",
       "      <td>-13.871889</td>\n",
       "      <td>0.0</td>\n",
       "    </tr>\n",
       "    <tr>\n",
       "      <th>beta_time</th>\n",
       "      <td>-5.495527</td>\n",
       "      <td>0.208596</td>\n",
       "      <td>-26.345342</td>\n",
       "      <td>0.0</td>\n",
       "    </tr>\n",
       "  </tbody>\n",
       "</table>\n",
       "</div>"
      ],
      "text/plain": [
       "              Value  Rob. Std err  Rob. t-test  Rob. p-value\n",
       "asc_cycle -3.878619      0.107672   -36.022418           0.0\n",
       "asc_drive -1.295191      0.080505   -16.088354           0.0\n",
       "asc_pt    -0.503354      0.054123    -9.300119           0.0\n",
       "beta_cost -0.193629      0.013958   -13.871889           0.0\n",
       "beta_time -5.495527      0.208596   -26.345342           0.0"
      ]
     },
     "execution_count": 7,
     "metadata": {},
     "output_type": "execute_result"
    }
   ],
   "source": [
    "V_model0 = {1: v_walk_model0 , 2: v_cycle_model0, 3: v_pt_model0, 4: v_drive_model0}\n",
    "logprob_model0 = models.loglogit(V_model0, av, travel_mode)\n",
    "biogeme_model0 = bio.BIOGEME(database, logprob_model0)\n",
    "biogeme_model0.modelName = 'Model_0'\n",
    "all_results['Model0'] = biogeme_model0.estimate()\n",
    "results_generic = biogeme_model0.estimate()\n",
    "results_generic.getEstimatedParameters()"
   ]
  },
  {
   "cell_type": "code",
   "execution_count": 8,
   "metadata": {
    "execution": {
     "iopub.execute_input": "2023-12-16T14:02:21.841378Z",
     "iopub.status.busy": "2023-12-16T14:02:21.841009Z",
     "iopub.status.idle": "2023-12-16T14:02:21.859148Z",
     "shell.execute_reply": "2023-12-16T14:02:21.858010Z",
     "shell.execute_reply.started": "2023-12-16T14:02:21.841343Z"
    },
    "scrolled": true,
    "tags": []
   },
   "outputs": [
    {
     "data": {
      "text/plain": [
       "(                                         Model0\n",
       " Number of estimated parameters                5\n",
       " Sample size                                5000\n",
       " Final log likelihood               -4587.818071\n",
       " Akaike Information Criterion        9185.636142\n",
       " Bayesian Information Criterion      9218.222108\n",
       " asc_cycle (t-test)                 -3.88  (-36)\n",
       " asc_drive (t-test)                -1.3  (-16.1)\n",
       " asc_pt (t-test)                  -0.503  (-9.3)\n",
       " beta_cost (t-test)              -0.194  (-13.9)\n",
       " beta_time (t-test)                -5.5  (-26.3),\n",
       " {'Model0': 'Model0'})"
      ]
     },
     "execution_count": 8,
     "metadata": {},
     "output_type": "execute_result"
    }
   ],
   "source": [
    "res.compile_estimation_results(all_results)"
   ]
  },
  {
   "cell_type": "code",
   "execution_count": 9,
   "metadata": {
    "execution": {
     "iopub.execute_input": "2023-12-16T14:02:21.860705Z",
     "iopub.status.busy": "2023-12-16T14:02:21.860334Z",
     "iopub.status.idle": "2023-12-16T14:02:22.013945Z",
     "shell.execute_reply": "2023-12-16T14:02:22.012357Z",
     "shell.execute_reply.started": "2023-12-16T14:02:21.860673Z"
    },
    "tags": []
   },
   "outputs": [
    {
     "name": "stdout",
     "output_type": "stream",
     "text": [
      "Null Loglikelihood : \n"
     ]
    },
    {
     "data": {
      "text/plain": [
       "-6931.471805599917"
      ]
     },
     "execution_count": 9,
     "metadata": {},
     "output_type": "execute_result"
    }
   ],
   "source": [
    "print(\"Null Loglikelihood : \")\n",
    "biogeme_model0.calculateNullLoglikelihood(av)"
   ]
  },
  {
   "cell_type": "markdown",
   "metadata": {},
   "source": [
    "# Model 1"
   ]
  },
  {
   "cell_type": "markdown",
   "metadata": {},
   "source": [
    "We choose to do a specification for the time attribute, the cost stays generic in this model. Therefore we obtain a beta_time parameter for each transportation mode. "
   ]
  },
  {
   "cell_type": "code",
   "execution_count": 10,
   "metadata": {
    "execution": {
     "iopub.execute_input": "2023-12-16T14:02:23.023894Z",
     "iopub.status.busy": "2023-12-16T14:02:23.023378Z",
     "iopub.status.idle": "2023-12-16T14:02:23.034341Z",
     "shell.execute_reply": "2023-12-16T14:02:23.032412Z",
     "shell.execute_reply.started": "2023-12-16T14:02:23.023855Z"
    },
    "tags": []
   },
   "outputs": [],
   "source": [
    "beta_time_walk = Beta('beta_time_walk', 0, None, None, 0)\n",
    "beta_time_cycle = Beta('beta_time_cycle', 0, None, None, 0)\n",
    "beta_time_pt = Beta('beta_time_pt', 0, None, None, 0)\n",
    "beta_time_drive = Beta('beta_time_drive', 0, None, None, 0)"
   ]
  },
  {
   "cell_type": "markdown",
   "metadata": {},
   "source": [
    "The utility functions are rewritten with the new parameters :"
   ]
  },
  {
   "cell_type": "code",
   "execution_count": 11,
   "metadata": {
    "execution": {
     "iopub.execute_input": "2023-12-16T14:02:23.939150Z",
     "iopub.status.busy": "2023-12-16T14:02:23.937523Z",
     "iopub.status.idle": "2023-12-16T14:02:23.946535Z",
     "shell.execute_reply": "2023-12-16T14:02:23.944992Z",
     "shell.execute_reply.started": "2023-12-16T14:02:23.939087Z"
    },
    "tags": []
   },
   "outputs": [],
   "source": [
    "v_walk_model1= beta_time_walk * time_walk  \n",
    "v_cycle_model1= asc_cycle + beta_time_cycle * time_cycle \n",
    "v_pt_model1= asc_pt + beta_time_pt * time_pt + beta_cost * cost_pt\n",
    "v_drive_model1= asc_drive + beta_time_drive * time_drive + beta_cost * cost_drive"
   ]
  },
  {
   "cell_type": "markdown",
   "metadata": {},
   "source": [
    "The results are computed (parameter values, t-tests or p-values, null and final log likelihoods)"
   ]
  },
  {
   "cell_type": "code",
   "execution_count": 12,
   "metadata": {
    "execution": {
     "iopub.execute_input": "2023-12-16T14:02:24.808534Z",
     "iopub.status.busy": "2023-12-16T14:02:24.807782Z",
     "iopub.status.idle": "2023-12-16T14:02:26.566064Z",
     "shell.execute_reply": "2023-12-16T14:02:26.564445Z",
     "shell.execute_reply.started": "2023-12-16T14:02:24.808448Z"
    },
    "tags": []
   },
   "outputs": [
    {
     "data": {
      "text/html": [
       "<div>\n",
       "<style scoped>\n",
       "    .dataframe tbody tr th:only-of-type {\n",
       "        vertical-align: middle;\n",
       "    }\n",
       "\n",
       "    .dataframe tbody tr th {\n",
       "        vertical-align: top;\n",
       "    }\n",
       "\n",
       "    .dataframe thead th {\n",
       "        text-align: right;\n",
       "    }\n",
       "</style>\n",
       "<table border=\"1\" class=\"dataframe\">\n",
       "  <thead>\n",
       "    <tr style=\"text-align: right;\">\n",
       "      <th></th>\n",
       "      <th>Value</th>\n",
       "      <th>Rob. Std err</th>\n",
       "      <th>Rob. t-test</th>\n",
       "      <th>Rob. p-value</th>\n",
       "    </tr>\n",
       "  </thead>\n",
       "  <tbody>\n",
       "    <tr>\n",
       "      <th>asc_cycle</th>\n",
       "      <td>-4.847244</td>\n",
       "      <td>0.202571</td>\n",
       "      <td>-23.928591</td>\n",
       "      <td>0.0</td>\n",
       "    </tr>\n",
       "    <tr>\n",
       "      <th>asc_drive</th>\n",
       "      <td>-1.969893</td>\n",
       "      <td>0.137931</td>\n",
       "      <td>-14.281745</td>\n",
       "      <td>0.0</td>\n",
       "    </tr>\n",
       "    <tr>\n",
       "      <th>asc_pt</th>\n",
       "      <td>-2.337215</td>\n",
       "      <td>0.139508</td>\n",
       "      <td>-16.753254</td>\n",
       "      <td>0.0</td>\n",
       "    </tr>\n",
       "    <tr>\n",
       "      <th>beta_cost</th>\n",
       "      <td>-0.182008</td>\n",
       "      <td>0.016087</td>\n",
       "      <td>-11.314053</td>\n",
       "      <td>0.0</td>\n",
       "    </tr>\n",
       "    <tr>\n",
       "      <th>beta_time_cycle</th>\n",
       "      <td>-5.312453</td>\n",
       "      <td>0.462002</td>\n",
       "      <td>-11.498764</td>\n",
       "      <td>0.0</td>\n",
       "    </tr>\n",
       "    <tr>\n",
       "      <th>beta_time_drive</th>\n",
       "      <td>-6.474309</td>\n",
       "      <td>0.378989</td>\n",
       "      <td>-17.083106</td>\n",
       "      <td>0.0</td>\n",
       "    </tr>\n",
       "    <tr>\n",
       "      <th>beta_time_pt</th>\n",
       "      <td>-3.538621</td>\n",
       "      <td>0.250656</td>\n",
       "      <td>-14.117425</td>\n",
       "      <td>0.0</td>\n",
       "    </tr>\n",
       "    <tr>\n",
       "      <th>beta_time_walk</th>\n",
       "      <td>-8.430841</td>\n",
       "      <td>0.418999</td>\n",
       "      <td>-20.121396</td>\n",
       "      <td>0.0</td>\n",
       "    </tr>\n",
       "  </tbody>\n",
       "</table>\n",
       "</div>"
      ],
      "text/plain": [
       "                    Value  Rob. Std err  Rob. t-test  Rob. p-value\n",
       "asc_cycle       -4.847244      0.202571   -23.928591           0.0\n",
       "asc_drive       -1.969893      0.137931   -14.281745           0.0\n",
       "asc_pt          -2.337215      0.139508   -16.753254           0.0\n",
       "beta_cost       -0.182008      0.016087   -11.314053           0.0\n",
       "beta_time_cycle -5.312453      0.462002   -11.498764           0.0\n",
       "beta_time_drive -6.474309      0.378989   -17.083106           0.0\n",
       "beta_time_pt    -3.538621      0.250656   -14.117425           0.0\n",
       "beta_time_walk  -8.430841      0.418999   -20.121396           0.0"
      ]
     },
     "execution_count": 12,
     "metadata": {},
     "output_type": "execute_result"
    }
   ],
   "source": [
    "V_model1 = {1: v_walk_model1 , 2: v_cycle_model1, 3: v_pt_model1, 4: v_drive_model1}\n",
    "logprob_model1 = models.loglogit(V_model1, av, travel_mode)\n",
    "biogeme_model1 = bio.BIOGEME(database, logprob_model1)\n",
    "biogeme_model1.modelName = 'Model_1'\n",
    "all_results['Model1'] = biogeme_model1.estimate()\n",
    "results_specific_time = biogeme_model1.estimate()\n",
    "results_specific_time.getEstimatedParameters()"
   ]
  },
  {
   "cell_type": "code",
   "execution_count": 13,
   "metadata": {
    "execution": {
     "iopub.execute_input": "2023-12-16T14:02:26.568600Z",
     "iopub.status.busy": "2023-12-16T14:02:26.568209Z",
     "iopub.status.idle": "2023-12-16T14:02:26.592512Z",
     "shell.execute_reply": "2023-12-16T14:02:26.590863Z",
     "shell.execute_reply.started": "2023-12-16T14:02:26.568566Z"
    },
    "tags": []
   },
   "outputs": [
    {
     "data": {
      "text/plain": [
       "(                                         Model0           Model1\n",
       " Number of estimated parameters                5                8\n",
       " Sample size                                5000             5000\n",
       " Final log likelihood               -4587.818071     -4275.496542\n",
       " Akaike Information Criterion        9185.636142      8566.993084\n",
       " Bayesian Information Criterion      9218.222108      8619.130629\n",
       " asc_cycle (t-test)                 -3.88  (-36)   -4.85  (-23.9)\n",
       " asc_drive (t-test)                -1.3  (-16.1)   -1.97  (-14.3)\n",
       " asc_pt (t-test)                  -0.503  (-9.3)   -2.34  (-16.8)\n",
       " beta_cost (t-test)              -0.194  (-13.9)  -0.182  (-11.3)\n",
       " beta_time (t-test)                -5.5  (-26.3)                 \n",
       " beta_time_cycle (t-test)                          -5.31  (-11.5)\n",
       " beta_time_drive (t-test)                          -6.47  (-17.1)\n",
       " beta_time_pt (t-test)                             -3.54  (-14.1)\n",
       " beta_time_walk (t-test)                           -8.43  (-20.1),\n",
       " {'Model0': 'Model0', 'Model1': 'Model1'})"
      ]
     },
     "execution_count": 13,
     "metadata": {},
     "output_type": "execute_result"
    }
   ],
   "source": [
    "res.compile_estimation_results(all_results)"
   ]
  },
  {
   "cell_type": "code",
   "execution_count": 14,
   "metadata": {
    "execution": {
     "iopub.execute_input": "2023-12-16T14:02:27.322470Z",
     "iopub.status.busy": "2023-12-16T14:02:27.321747Z",
     "iopub.status.idle": "2023-12-16T14:02:27.370310Z",
     "shell.execute_reply": "2023-12-16T14:02:27.368613Z",
     "shell.execute_reply.started": "2023-12-16T14:02:27.322421Z"
    },
    "tags": []
   },
   "outputs": [
    {
     "data": {
      "text/plain": [
       "-6931.471805599917"
      ]
     },
     "execution_count": 14,
     "metadata": {},
     "output_type": "execute_result"
    }
   ],
   "source": [
    "biogeme_model1.calculateNullLoglikelihood(av)"
   ]
  },
  {
   "cell_type": "markdown",
   "metadata": {},
   "source": [
    "We compare the 2 models with the likelihood ratio test because model 0 is a reduction of model 1.  "
   ]
  },
  {
   "cell_type": "code",
   "execution_count": 15,
   "metadata": {
    "execution": {
     "iopub.execute_input": "2023-12-16T14:02:28.219514Z",
     "iopub.status.busy": "2023-12-16T14:02:28.217623Z",
     "iopub.status.idle": "2023-12-16T14:02:28.247819Z",
     "shell.execute_reply": "2023-12-16T14:02:28.246118Z",
     "shell.execute_reply.started": "2023-12-16T14:02:28.219447Z"
    },
    "tags": []
   },
   "outputs": [
    {
     "data": {
      "text/plain": [
       "LRTuple(message='H0 can be rejected at level 5.0%', statistic=624.6430584290811, threshold=7.814727903251179)"
      ]
     },
     "execution_count": 15,
     "metadata": {},
     "output_type": "execute_result"
    }
   ],
   "source": [
    "results_specific_time.likelihood_ratio_test(results_generic, 0.05)"
   ]
  },
  {
   "cell_type": "markdown",
   "metadata": {},
   "source": [
    "The model 1 is then our model pref as they are significantly different "
   ]
  },
  {
   "cell_type": "markdown",
   "metadata": {},
   "source": [
    "# Model 2"
   ]
  },
  {
   "cell_type": "markdown",
   "metadata": {},
   "source": [
    "Using Model 1 as the base model, we choose to study how gender interact with the\n",
    "ASCs and the alternative attributes. "
   ]
  },
  {
   "cell_type": "markdown",
   "metadata": {},
   "source": [
    "Lets start by segmenting the population by gender"
   ]
  },
  {
   "cell_type": "code",
   "execution_count": 16,
   "metadata": {
    "execution": {
     "iopub.execute_input": "2023-12-16T14:02:29.769549Z",
     "iopub.status.busy": "2023-12-16T14:02:29.768795Z",
     "iopub.status.idle": "2023-12-16T14:02:29.778407Z",
     "shell.execute_reply": "2023-12-16T14:02:29.776427Z",
     "shell.execute_reply.started": "2023-12-16T14:02:29.769491Z"
    },
    "tags": []
   },
   "outputs": [],
   "source": [
    "gender_segmentation = seg.DiscreteSegmentationTuple(variable=female, mapping={1: 'female', 0: 'male'})"
   ]
  },
  {
   "cell_type": "markdown",
   "metadata": {},
   "source": [
    "### ASC segmentation"
   ]
  },
  {
   "cell_type": "code",
   "execution_count": 17,
   "metadata": {
    "execution": {
     "iopub.execute_input": "2023-12-16T14:02:30.444809Z",
     "iopub.status.busy": "2023-12-16T14:02:30.444008Z",
     "iopub.status.idle": "2023-12-16T14:02:30.460117Z",
     "shell.execute_reply": "2023-12-16T14:02:30.458770Z",
     "shell.execute_reply.started": "2023-12-16T14:02:30.444750Z"
    },
    "tags": []
   },
   "outputs": [],
   "source": [
    "asc_cycle = Beta('asc_cycle', 0, None, None, 0)\n",
    "segmented_asc_cycle = seg.Segmentation(asc_cycle,[gender_segmentation]).segmented_beta()\n",
    "\n",
    "asc_pt = Beta('asc_pt', 0, None, None, 0)\n",
    "segmented_asc_pt = seg.Segmentation(asc_pt,[gender_segmentation]).segmented_beta()\n",
    "\n",
    "asc_drive = Beta('asc_drive', 0, None, None, 0)\n",
    "segmented_asc_drive = seg.Segmentation(asc_drive,[gender_segmentation]).segmented_beta()"
   ]
  },
  {
   "cell_type": "markdown",
   "metadata": {},
   "source": [
    "We redefine the value function of the 4 alternatives, introducing the segmented ASC and the segmented cost attribute"
   ]
  },
  {
   "cell_type": "code",
   "execution_count": 18,
   "metadata": {
    "execution": {
     "iopub.execute_input": "2023-12-16T14:02:30.849407Z",
     "iopub.status.busy": "2023-12-16T14:02:30.848794Z",
     "iopub.status.idle": "2023-12-16T14:02:30.861596Z",
     "shell.execute_reply": "2023-12-16T14:02:30.859083Z",
     "shell.execute_reply.started": "2023-12-16T14:02:30.849354Z"
    },
    "tags": []
   },
   "outputs": [],
   "source": [
    "v_walk_model2= beta_time_walk * time_walk  \n",
    "v_cycle_model2= segmented_asc_cycle + beta_time_cycle * time_cycle \n",
    "v_pt_model2= segmented_asc_pt + beta_time_pt * time_pt + beta_cost * cost_pt\n",
    "v_drive_model2= segmented_asc_drive + beta_time_drive * time_drive + beta_cost * cost_drive"
   ]
  },
  {
   "cell_type": "markdown",
   "metadata": {},
   "source": [
    "We can compute the result of the new model"
   ]
  },
  {
   "cell_type": "code",
   "execution_count": 19,
   "metadata": {
    "execution": {
     "iopub.execute_input": "2023-12-16T14:02:31.214396Z",
     "iopub.status.busy": "2023-12-16T14:02:31.213600Z",
     "iopub.status.idle": "2023-12-16T14:02:33.540921Z",
     "shell.execute_reply": "2023-12-16T14:02:33.539645Z",
     "shell.execute_reply.started": "2023-12-16T14:02:31.214336Z"
    },
    "tags": []
   },
   "outputs": [
    {
     "data": {
      "text/html": [
       "<div>\n",
       "<style scoped>\n",
       "    .dataframe tbody tr th:only-of-type {\n",
       "        vertical-align: middle;\n",
       "    }\n",
       "\n",
       "    .dataframe tbody tr th {\n",
       "        vertical-align: top;\n",
       "    }\n",
       "\n",
       "    .dataframe thead th {\n",
       "        text-align: right;\n",
       "    }\n",
       "</style>\n",
       "<table border=\"1\" class=\"dataframe\">\n",
       "  <thead>\n",
       "    <tr style=\"text-align: right;\">\n",
       "      <th></th>\n",
       "      <th>Value</th>\n",
       "      <th>Rob. Std err</th>\n",
       "      <th>Rob. t-test</th>\n",
       "      <th>Rob. p-value</th>\n",
       "    </tr>\n",
       "  </thead>\n",
       "  <tbody>\n",
       "    <tr>\n",
       "      <th>asc_cycle</th>\n",
       "      <td>-5.454930</td>\n",
       "      <td>0.253358</td>\n",
       "      <td>-21.530508</td>\n",
       "      <td>0.000000e+00</td>\n",
       "    </tr>\n",
       "    <tr>\n",
       "      <th>asc_cycle_male</th>\n",
       "      <td>1.051942</td>\n",
       "      <td>0.208777</td>\n",
       "      <td>5.038603</td>\n",
       "      <td>4.689426e-07</td>\n",
       "    </tr>\n",
       "    <tr>\n",
       "      <th>asc_drive</th>\n",
       "      <td>-1.893652</td>\n",
       "      <td>0.144299</td>\n",
       "      <td>-13.123080</td>\n",
       "      <td>0.000000e+00</td>\n",
       "    </tr>\n",
       "    <tr>\n",
       "      <th>asc_drive_male</th>\n",
       "      <td>-0.197936</td>\n",
       "      <td>0.095253</td>\n",
       "      <td>-2.078005</td>\n",
       "      <td>3.770893e-02</td>\n",
       "    </tr>\n",
       "    <tr>\n",
       "      <th>asc_pt</th>\n",
       "      <td>-2.208482</td>\n",
       "      <td>0.146369</td>\n",
       "      <td>-15.088403</td>\n",
       "      <td>0.000000e+00</td>\n",
       "    </tr>\n",
       "    <tr>\n",
       "      <th>asc_pt_male</th>\n",
       "      <td>-0.333138</td>\n",
       "      <td>0.099553</td>\n",
       "      <td>-3.346326</td>\n",
       "      <td>8.189020e-04</td>\n",
       "    </tr>\n",
       "    <tr>\n",
       "      <th>beta_cost</th>\n",
       "      <td>-0.182829</td>\n",
       "      <td>0.016154</td>\n",
       "      <td>-11.317871</td>\n",
       "      <td>0.000000e+00</td>\n",
       "    </tr>\n",
       "    <tr>\n",
       "      <th>beta_time_cycle</th>\n",
       "      <td>-5.580963</td>\n",
       "      <td>0.473150</td>\n",
       "      <td>-11.795344</td>\n",
       "      <td>0.000000e+00</td>\n",
       "    </tr>\n",
       "    <tr>\n",
       "      <th>beta_time_drive</th>\n",
       "      <td>-6.487905</td>\n",
       "      <td>0.380054</td>\n",
       "      <td>-17.071030</td>\n",
       "      <td>0.000000e+00</td>\n",
       "    </tr>\n",
       "    <tr>\n",
       "      <th>beta_time_pt</th>\n",
       "      <td>-3.526973</td>\n",
       "      <td>0.251404</td>\n",
       "      <td>-14.029132</td>\n",
       "      <td>0.000000e+00</td>\n",
       "    </tr>\n",
       "    <tr>\n",
       "      <th>beta_time_walk</th>\n",
       "      <td>-8.456571</td>\n",
       "      <td>0.417756</td>\n",
       "      <td>-20.242857</td>\n",
       "      <td>0.000000e+00</td>\n",
       "    </tr>\n",
       "  </tbody>\n",
       "</table>\n",
       "</div>"
      ],
      "text/plain": [
       "                    Value  Rob. Std err  Rob. t-test  Rob. p-value\n",
       "asc_cycle       -5.454930      0.253358   -21.530508  0.000000e+00\n",
       "asc_cycle_male   1.051942      0.208777     5.038603  4.689426e-07\n",
       "asc_drive       -1.893652      0.144299   -13.123080  0.000000e+00\n",
       "asc_drive_male  -0.197936      0.095253    -2.078005  3.770893e-02\n",
       "asc_pt          -2.208482      0.146369   -15.088403  0.000000e+00\n",
       "asc_pt_male     -0.333138      0.099553    -3.346326  8.189020e-04\n",
       "beta_cost       -0.182829      0.016154   -11.317871  0.000000e+00\n",
       "beta_time_cycle -5.580963      0.473150   -11.795344  0.000000e+00\n",
       "beta_time_drive -6.487905      0.380054   -17.071030  0.000000e+00\n",
       "beta_time_pt    -3.526973      0.251404   -14.029132  0.000000e+00\n",
       "beta_time_walk  -8.456571      0.417756   -20.242857  0.000000e+00"
      ]
     },
     "execution_count": 19,
     "metadata": {},
     "output_type": "execute_result"
    }
   ],
   "source": [
    "V_model2 = {1: v_walk_model2 , 2: v_cycle_model2, 3: v_pt_model2, 4: v_drive_model2}\n",
    "logprob_model2 = models.loglogit(V_model2, av, travel_mode)\n",
    "biogeme_model2 = bio.BIOGEME(database, logprob_model2)\n",
    "biogeme_model2.modelName = 'Model_2'\n",
    "all_results['Model2'] = biogeme_model2.estimate()\n",
    "results_segmented_gender = biogeme_model2.estimate()\n",
    "results_segmented_gender.getEstimatedParameters()"
   ]
  },
  {
   "cell_type": "code",
   "execution_count": 20,
   "metadata": {
    "execution": {
     "iopub.execute_input": "2023-12-16T14:02:33.543099Z",
     "iopub.status.busy": "2023-12-16T14:02:33.542790Z",
     "iopub.status.idle": "2023-12-16T14:02:33.579376Z",
     "shell.execute_reply": "2023-12-16T14:02:33.578213Z",
     "shell.execute_reply.started": "2023-12-16T14:02:33.543071Z"
    },
    "tags": []
   },
   "outputs": [
    {
     "data": {
      "text/plain": [
       "-6931.471805599917"
      ]
     },
     "execution_count": 20,
     "metadata": {},
     "output_type": "execute_result"
    }
   ],
   "source": [
    "biogeme_model2.calculateNullLoglikelihood(av)"
   ]
  },
  {
   "cell_type": "markdown",
   "metadata": {},
   "source": [
    "### Cost segmentation"
   ]
  },
  {
   "cell_type": "markdown",
   "metadata": {},
   "source": [
    "And its interaction on the cost attribute in the car and public transport alternative."
   ]
  },
  {
   "cell_type": "code",
   "execution_count": 21,
   "metadata": {
    "execution": {
     "iopub.execute_input": "2023-12-16T14:02:33.580807Z",
     "iopub.status.busy": "2023-12-16T14:02:33.580496Z",
     "iopub.status.idle": "2023-12-16T14:02:33.679478Z",
     "shell.execute_reply": "2023-12-16T14:02:33.677861Z",
     "shell.execute_reply.started": "2023-12-16T14:02:33.580780Z"
    },
    "tags": []
   },
   "outputs": [],
   "source": [
    "beta_cost = Beta('beta_cost', 0, None, None, 0)\n",
    "segmented_beta_cost = seg.Segmentation(beta_cost, [gender_segmentation]).segmented_beta()"
   ]
  },
  {
   "cell_type": "code",
   "execution_count": 22,
   "metadata": {
    "execution": {
     "iopub.execute_input": "2023-12-16T14:02:33.683342Z",
     "iopub.status.busy": "2023-12-16T14:02:33.682864Z",
     "iopub.status.idle": "2023-12-16T14:02:33.727022Z",
     "shell.execute_reply": "2023-12-16T14:02:33.725253Z",
     "shell.execute_reply.started": "2023-12-16T14:02:33.683298Z"
    },
    "tags": []
   },
   "outputs": [],
   "source": [
    "v_walk_model2_2= beta_time_walk * time_walk  \n",
    "v_cycle_model2_2= asc_cycle + beta_time_cycle * time_cycle \n",
    "v_pt_model2_2= asc_pt + beta_time_pt * time_pt + segmented_beta_cost * cost_pt\n",
    "v_drive_model2_2= asc_drive + beta_time_drive * time_drive + segmented_beta_cost * cost_drive"
   ]
  },
  {
   "cell_type": "markdown",
   "metadata": {},
   "source": [
    "We can compute the result of the new model"
   ]
  },
  {
   "cell_type": "code",
   "execution_count": 23,
   "metadata": {
    "execution": {
     "iopub.execute_input": "2023-12-16T14:02:33.729358Z",
     "iopub.status.busy": "2023-12-16T14:02:33.728919Z",
     "iopub.status.idle": "2023-12-16T14:02:35.659933Z",
     "shell.execute_reply": "2023-12-16T14:02:35.658334Z",
     "shell.execute_reply.started": "2023-12-16T14:02:33.729319Z"
    },
    "tags": []
   },
   "outputs": [
    {
     "data": {
      "text/html": [
       "<div>\n",
       "<style scoped>\n",
       "    .dataframe tbody tr th:only-of-type {\n",
       "        vertical-align: middle;\n",
       "    }\n",
       "\n",
       "    .dataframe tbody tr th {\n",
       "        vertical-align: top;\n",
       "    }\n",
       "\n",
       "    .dataframe thead th {\n",
       "        text-align: right;\n",
       "    }\n",
       "</style>\n",
       "<table border=\"1\" class=\"dataframe\">\n",
       "  <thead>\n",
       "    <tr style=\"text-align: right;\">\n",
       "      <th></th>\n",
       "      <th>Value</th>\n",
       "      <th>Rob. Std err</th>\n",
       "      <th>Rob. t-test</th>\n",
       "      <th>Rob. p-value</th>\n",
       "    </tr>\n",
       "  </thead>\n",
       "  <tbody>\n",
       "    <tr>\n",
       "      <th>asc_cycle</th>\n",
       "      <td>-4.843794</td>\n",
       "      <td>0.202194</td>\n",
       "      <td>-23.956171</td>\n",
       "      <td>0.000000e+00</td>\n",
       "    </tr>\n",
       "    <tr>\n",
       "      <th>asc_drive</th>\n",
       "      <td>-1.971743</td>\n",
       "      <td>0.137733</td>\n",
       "      <td>-14.315671</td>\n",
       "      <td>0.000000e+00</td>\n",
       "    </tr>\n",
       "    <tr>\n",
       "      <th>asc_pt</th>\n",
       "      <td>-2.343140</td>\n",
       "      <td>0.139310</td>\n",
       "      <td>-16.819666</td>\n",
       "      <td>0.000000e+00</td>\n",
       "    </tr>\n",
       "    <tr>\n",
       "      <th>beta_cost</th>\n",
       "      <td>-0.151591</td>\n",
       "      <td>0.018749</td>\n",
       "      <td>-8.085484</td>\n",
       "      <td>6.661338e-16</td>\n",
       "    </tr>\n",
       "    <tr>\n",
       "      <th>beta_cost_male</th>\n",
       "      <td>-0.065394</td>\n",
       "      <td>0.031840</td>\n",
       "      <td>-2.053796</td>\n",
       "      <td>3.999542e-02</td>\n",
       "    </tr>\n",
       "    <tr>\n",
       "      <th>beta_time_cycle</th>\n",
       "      <td>-5.348639</td>\n",
       "      <td>0.459248</td>\n",
       "      <td>-11.646523</td>\n",
       "      <td>0.000000e+00</td>\n",
       "    </tr>\n",
       "    <tr>\n",
       "      <th>beta_time_drive</th>\n",
       "      <td>-6.483027</td>\n",
       "      <td>0.380414</td>\n",
       "      <td>-17.042043</td>\n",
       "      <td>0.000000e+00</td>\n",
       "    </tr>\n",
       "    <tr>\n",
       "      <th>beta_time_pt</th>\n",
       "      <td>-3.536892</td>\n",
       "      <td>0.250704</td>\n",
       "      <td>-14.107825</td>\n",
       "      <td>0.000000e+00</td>\n",
       "    </tr>\n",
       "    <tr>\n",
       "      <th>beta_time_walk</th>\n",
       "      <td>-8.435704</td>\n",
       "      <td>0.418411</td>\n",
       "      <td>-20.161287</td>\n",
       "      <td>0.000000e+00</td>\n",
       "    </tr>\n",
       "  </tbody>\n",
       "</table>\n",
       "</div>"
      ],
      "text/plain": [
       "                    Value  Rob. Std err  Rob. t-test  Rob. p-value\n",
       "asc_cycle       -4.843794      0.202194   -23.956171  0.000000e+00\n",
       "asc_drive       -1.971743      0.137733   -14.315671  0.000000e+00\n",
       "asc_pt          -2.343140      0.139310   -16.819666  0.000000e+00\n",
       "beta_cost       -0.151591      0.018749    -8.085484  6.661338e-16\n",
       "beta_cost_male  -0.065394      0.031840    -2.053796  3.999542e-02\n",
       "beta_time_cycle -5.348639      0.459248   -11.646523  0.000000e+00\n",
       "beta_time_drive -6.483027      0.380414   -17.042043  0.000000e+00\n",
       "beta_time_pt    -3.536892      0.250704   -14.107825  0.000000e+00\n",
       "beta_time_walk  -8.435704      0.418411   -20.161287  0.000000e+00"
      ]
     },
     "execution_count": 23,
     "metadata": {},
     "output_type": "execute_result"
    }
   ],
   "source": [
    "V_model2_2 = {1: v_walk_model2_2 , 2: v_cycle_model2_2, 3: v_pt_model2_2, 4: v_drive_model2_2}\n",
    "logprob_model2_2 = models.loglogit(V_model2_2, av, travel_mode)\n",
    "biogeme_model2_2 = bio.BIOGEME(database, logprob_model2_2)\n",
    "biogeme_model2_2.modelName = 'Model_2_2'\n",
    "all_results['Model2_2'] = biogeme_model2_2.estimate()\n",
    "results_segmented_gender_2 = biogeme_model2_2.estimate()\n",
    "results_segmented_gender_2.getEstimatedParameters()"
   ]
  },
  {
   "cell_type": "code",
   "execution_count": 24,
   "metadata": {
    "execution": {
     "iopub.execute_input": "2023-12-16T14:02:35.661816Z",
     "iopub.status.busy": "2023-12-16T14:02:35.661440Z",
     "iopub.status.idle": "2023-12-16T14:02:35.700907Z",
     "shell.execute_reply": "2023-12-16T14:02:35.699697Z",
     "shell.execute_reply.started": "2023-12-16T14:02:35.661759Z"
    },
    "tags": []
   },
   "outputs": [
    {
     "data": {
      "text/plain": [
       "-6931.471805599917"
      ]
     },
     "execution_count": 24,
     "metadata": {},
     "output_type": "execute_result"
    }
   ],
   "source": [
    "biogeme_model2_2.calculateNullLoglikelihood(av)"
   ]
  },
  {
   "cell_type": "markdown",
   "metadata": {},
   "source": [
    "### Compiling all results from the different models"
   ]
  },
  {
   "cell_type": "code",
   "execution_count": 25,
   "metadata": {
    "execution": {
     "iopub.execute_input": "2023-12-16T14:02:35.702416Z",
     "iopub.status.busy": "2023-12-16T14:02:35.702091Z",
     "iopub.status.idle": "2023-12-16T14:02:35.759386Z",
     "shell.execute_reply": "2023-12-16T14:02:35.758133Z",
     "shell.execute_reply.started": "2023-12-16T14:02:35.702385Z"
    },
    "tags": []
   },
   "outputs": [
    {
     "data": {
      "text/plain": [
       "(                                         Model0           Model1  \\\n",
       " Number of estimated parameters                5                8   \n",
       " Sample size                                5000             5000   \n",
       " Final log likelihood               -4587.818071     -4275.496542   \n",
       " Akaike Information Criterion        9185.636142      8566.993084   \n",
       " Bayesian Information Criterion      9218.222108      8619.130629   \n",
       " asc_cycle (t-test)                 -3.88  (-36)   -4.85  (-23.9)   \n",
       " asc_drive (t-test)                -1.3  (-16.1)   -1.97  (-14.3)   \n",
       " asc_pt (t-test)                  -0.503  (-9.3)   -2.34  (-16.8)   \n",
       " beta_cost (t-test)              -0.194  (-13.9)  -0.182  (-11.3)   \n",
       " beta_time (t-test)                -5.5  (-26.3)                    \n",
       " beta_time_cycle (t-test)                          -5.31  (-11.5)   \n",
       " beta_time_drive (t-test)                          -6.47  (-17.1)   \n",
       " beta_time_pt (t-test)                             -3.54  (-14.1)   \n",
       " beta_time_walk (t-test)                           -8.43  (-20.1)   \n",
       " asc_cycle_male (t-test)                                            \n",
       " asc_drive_male (t-test)                                            \n",
       " asc_pt_male (t-test)                                               \n",
       " beta_cost_male (t-test)                                            \n",
       " \n",
       "                                          Model2          Model2_2  \n",
       " Number of estimated parameters               11                 9  \n",
       " Sample size                                5000              5000  \n",
       " Final log likelihood               -4245.240231      -4273.204021  \n",
       " Akaike Information Criterion        8512.480462       8564.408041  \n",
       " Bayesian Information Criterion      8584.169587        8623.06278  \n",
       " asc_cycle (t-test)               -5.45  (-21.5)      -4.84  (-24)  \n",
       " asc_drive (t-test)               -1.89  (-13.1)    -1.97  (-14.3)  \n",
       " asc_pt (t-test)                  -2.21  (-15.1)    -2.34  (-16.8)  \n",
       " beta_cost (t-test)              -0.183  (-11.3)   -0.152  (-8.09)  \n",
       " beta_time (t-test)                                                 \n",
       " beta_time_cycle (t-test)         -5.58  (-11.8)    -5.35  (-11.6)  \n",
       " beta_time_drive (t-test)         -6.49  (-17.1)      -6.48  (-17)  \n",
       " beta_time_pt (t-test)              -3.53  (-14)    -3.54  (-14.1)  \n",
       " beta_time_walk (t-test)          -8.46  (-20.2)    -8.44  (-20.2)  \n",
       " asc_cycle_male (t-test)            1.05  (5.04)                    \n",
       " asc_drive_male (t-test)         -0.198  (-2.08)                    \n",
       " asc_pt_male (t-test)            -0.333  (-3.35)                    \n",
       " beta_cost_male (t-test)                          -0.0654  (-2.05)  ,\n",
       " {'Model0': 'Model0',\n",
       "  'Model1': 'Model1',\n",
       "  'Model2': 'Model2',\n",
       "  'Model2_2': 'Model2_2'})"
      ]
     },
     "execution_count": 25,
     "metadata": {},
     "output_type": "execute_result"
    }
   ],
   "source": [
    "res.compile_estimation_results(all_results)"
   ]
  },
  {
   "cell_type": "markdown",
   "metadata": {},
   "source": [
    "### Likelihood ratio test to check if model_2 and model_2_2 are equivalent or not"
   ]
  },
  {
   "cell_type": "code",
   "execution_count": 26,
   "metadata": {
    "execution": {
     "iopub.execute_input": "2023-12-16T14:02:35.761066Z",
     "iopub.status.busy": "2023-12-16T14:02:35.760716Z",
     "iopub.status.idle": "2023-12-16T14:02:35.807345Z",
     "shell.execute_reply": "2023-12-16T14:02:35.805740Z",
     "shell.execute_reply.started": "2023-12-16T14:02:35.761035Z"
    },
    "tags": []
   },
   "outputs": [
    {
     "data": {
      "text/plain": [
       "LRTuple(message='H0 can be rejected at level 5.0%', statistic=55.92757937251554, threshold=5.991464547107979)"
      ]
     },
     "execution_count": 26,
     "metadata": {},
     "output_type": "execute_result"
    }
   ],
   "source": [
    "results_segmented_gender.likelihood_ratio_test(results_segmented_gender_2, 0.05)"
   ]
  },
  {
   "cell_type": "markdown",
   "metadata": {},
   "source": [
    "Model2 (interaction with ASC) is preferred because they are not equivalent. The BIC and AIC are smaller and the final likelihood is bigger for model 2"
   ]
  },
  {
   "cell_type": "markdown",
   "metadata": {},
   "source": [
    "### Comparison with model 1"
   ]
  },
  {
   "cell_type": "code",
   "execution_count": 27,
   "metadata": {
    "execution": {
     "iopub.execute_input": "2023-12-16T14:02:35.810474Z",
     "iopub.status.busy": "2023-12-16T14:02:35.810154Z",
     "iopub.status.idle": "2023-12-16T14:02:35.856083Z",
     "shell.execute_reply": "2023-12-16T14:02:35.854721Z",
     "shell.execute_reply.started": "2023-12-16T14:02:35.810443Z"
    },
    "tags": []
   },
   "outputs": [
    {
     "data": {
      "text/plain": [
       "LRTuple(message='H0 can be rejected at level 5.0%', statistic=60.51262208264234, threshold=7.814727903251179)"
      ]
     },
     "execution_count": 27,
     "metadata": {},
     "output_type": "execute_result"
    }
   ],
   "source": [
    "results_segmented_gender.likelihood_ratio_test(results_specific_time, 0.05)"
   ]
  },
  {
   "cell_type": "markdown",
   "metadata": {},
   "source": [
    "Model2 is preferred to Model 1 because they are not equivalent. The BIC and AIC are smaller and the final likelihood is bigger for model 2."
   ]
  },
  {
   "cell_type": "markdown",
   "metadata": {},
   "source": [
    "# Model 3 "
   ]
  },
  {
   "cell_type": "markdown",
   "metadata": {
    "execution": {
     "iopub.execute_input": "2023-12-16T14:02:35.858593Z",
     "iopub.status.busy": "2023-12-16T14:02:35.858124Z",
     "iopub.status.idle": "2023-12-16T14:02:35.898120Z",
     "shell.execute_reply": "2023-12-16T14:02:35.896538Z",
     "shell.execute_reply.started": "2023-12-16T14:02:35.858549Z"
    },
    "tags": []
   },
   "source": [
    "Model2 is our base model, we will now include a non-linear transformation of one of the variables, we choose to do a boxcox transformation for the time"
   ]
  },
  {
   "cell_type": "code",
   "execution_count": 121,
   "metadata": {
    "execution": {
     "iopub.execute_input": "2023-12-16T15:07:16.401865Z",
     "iopub.status.busy": "2023-12-16T15:07:16.401030Z",
     "iopub.status.idle": "2023-12-16T15:07:16.424404Z",
     "shell.execute_reply": "2023-12-16T15:07:16.423034Z",
     "shell.execute_reply.started": "2023-12-16T15:07:16.401745Z"
    },
    "tags": []
   },
   "outputs": [
    {
     "name": "stderr",
     "output_type": "stream",
     "text": [
      "It is advised to set the bounds on parameter lambda_boxcox. A value of -10 and 10 should be appropriate: Beta(\"lambda_boxcox\", 1, -10, 10, 0)\n",
      "It is advised to set the bounds on parameter lambda_boxcox. A value of -10 and 10 should be appropriate: Beta(\"lambda_boxcox\", 1, -10, 10, 0)\n",
      "It is advised to set the bounds on parameter lambda_boxcox. A value of -10 and 10 should be appropriate: Beta(\"lambda_boxcox\", 1, -10, 10, 0)\n",
      "It is advised to set the bounds on parameter lambda_boxcox. A value of -10 and 10 should be appropriate: Beta(\"lambda_boxcox\", 1, -10, 10, 0)\n"
     ]
    }
   ],
   "source": [
    "\n",
    "lambda_boxcox = Beta('lambda_boxcox', 1, None, None, 0) \n",
    "boxcox_time_walk = models.boxcox(time_walk, lambda_boxcox)\n",
    "boxcox_time_cycle = models.boxcox(time_cycle, lambda_boxcox)\n",
    "boxcox_time_pt = models.boxcox(time_pt, lambda_boxcox)\n",
    "boxcox_time_drive = models.boxcox(time_drive , lambda_boxcox)\n",
    "beta_elapsed_time_walk = Beta('beta_elapsed_walk', 0, None, None, 0)\n",
    "beta_elapsed_time_cycle = Beta('beta_elapsed_cycle', 0, None, None, 0)\n",
    "beta_elapsed_time_pt = Beta('beta_elapsed_time_pt', 0, None, None, 0)\n",
    "beta_elapsed_time_drive = Beta('beta_elapsed_time_drive', 0, None, None, 0)\n",
    "\n",
    "\n",
    "v_walk_model3 = beta_elapsed_time_walk * boxcox_time_walk\n",
    "v_cycle_model3  = segmented_asc_cycle + beta_elapsed_time_cycle * boxcox_time_cycle \n",
    "v_pt_model3  = segmented_asc_pt + beta_elapsed_time_pt * boxcox_time_pt   + beta_cost * cost_pt \n",
    "v_drive_model3  = segmented_asc_drive + beta_elapsed_time_drive * boxcox_time_drive + beta_cost * cost_drive "
   ]
  },
  {
   "cell_type": "code",
   "execution_count": 122,
   "metadata": {
    "execution": {
     "iopub.execute_input": "2023-12-16T15:07:22.414272Z",
     "iopub.status.busy": "2023-12-16T15:07:22.413579Z",
     "iopub.status.idle": "2023-12-16T15:07:25.507853Z",
     "shell.execute_reply": "2023-12-16T15:07:25.505938Z",
     "shell.execute_reply.started": "2023-12-16T15:07:22.414220Z"
    },
    "tags": []
   },
   "outputs": [
    {
     "data": {
      "text/html": [
       "<div>\n",
       "<style scoped>\n",
       "    .dataframe tbody tr th:only-of-type {\n",
       "        vertical-align: middle;\n",
       "    }\n",
       "\n",
       "    .dataframe tbody tr th {\n",
       "        vertical-align: top;\n",
       "    }\n",
       "\n",
       "    .dataframe thead th {\n",
       "        text-align: right;\n",
       "    }\n",
       "</style>\n",
       "<table border=\"1\" class=\"dataframe\">\n",
       "  <thead>\n",
       "    <tr style=\"text-align: right;\">\n",
       "      <th></th>\n",
       "      <th>Value</th>\n",
       "      <th>Rob. Std err</th>\n",
       "      <th>Rob. t-test</th>\n",
       "      <th>Rob. p-value</th>\n",
       "    </tr>\n",
       "  </thead>\n",
       "  <tbody>\n",
       "    <tr>\n",
       "      <th>asc_cycle</th>\n",
       "      <td>-3.218580</td>\n",
       "      <td>0.303919</td>\n",
       "      <td>-10.590266</td>\n",
       "      <td>0.000000e+00</td>\n",
       "    </tr>\n",
       "    <tr>\n",
       "      <th>asc_cycle_male</th>\n",
       "      <td>1.053207</td>\n",
       "      <td>0.210048</td>\n",
       "      <td>5.014128</td>\n",
       "      <td>5.327445e-07</td>\n",
       "    </tr>\n",
       "    <tr>\n",
       "      <th>asc_drive</th>\n",
       "      <td>0.068989</td>\n",
       "      <td>0.217651</td>\n",
       "      <td>0.316969</td>\n",
       "      <td>7.512668e-01</td>\n",
       "    </tr>\n",
       "    <tr>\n",
       "      <th>asc_drive_male</th>\n",
       "      <td>-0.226071</td>\n",
       "      <td>0.101484</td>\n",
       "      <td>-2.227656</td>\n",
       "      <td>2.590350e-02</td>\n",
       "    </tr>\n",
       "    <tr>\n",
       "      <th>asc_pt</th>\n",
       "      <td>1.844824</td>\n",
       "      <td>0.170760</td>\n",
       "      <td>10.803594</td>\n",
       "      <td>0.000000e+00</td>\n",
       "    </tr>\n",
       "    <tr>\n",
       "      <th>asc_pt_male</th>\n",
       "      <td>-0.375193</td>\n",
       "      <td>0.107310</td>\n",
       "      <td>-3.496343</td>\n",
       "      <td>4.716816e-04</td>\n",
       "    </tr>\n",
       "    <tr>\n",
       "      <th>beta_cost</th>\n",
       "      <td>-0.174890</td>\n",
       "      <td>0.015669</td>\n",
       "      <td>-11.161372</td>\n",
       "      <td>0.000000e+00</td>\n",
       "    </tr>\n",
       "    <tr>\n",
       "      <th>beta_elapsed_cycle</th>\n",
       "      <td>-3.318114</td>\n",
       "      <td>0.268396</td>\n",
       "      <td>-12.362746</td>\n",
       "      <td>0.000000e+00</td>\n",
       "    </tr>\n",
       "    <tr>\n",
       "      <th>beta_elapsed_time_drive</th>\n",
       "      <td>-3.301138</td>\n",
       "      <td>0.265805</td>\n",
       "      <td>-12.419415</td>\n",
       "      <td>0.000000e+00</td>\n",
       "    </tr>\n",
       "    <tr>\n",
       "      <th>beta_elapsed_time_pt</th>\n",
       "      <td>-2.637892</td>\n",
       "      <td>0.182665</td>\n",
       "      <td>-14.441112</td>\n",
       "      <td>0.000000e+00</td>\n",
       "    </tr>\n",
       "    <tr>\n",
       "      <th>beta_elapsed_walk</th>\n",
       "      <td>-5.446293</td>\n",
       "      <td>0.252865</td>\n",
       "      <td>-21.538327</td>\n",
       "      <td>0.000000e+00</td>\n",
       "    </tr>\n",
       "    <tr>\n",
       "      <th>lambda_boxcox</th>\n",
       "      <td>0.268645</td>\n",
       "      <td>0.049841</td>\n",
       "      <td>5.390084</td>\n",
       "      <td>7.042489e-08</td>\n",
       "    </tr>\n",
       "  </tbody>\n",
       "</table>\n",
       "</div>"
      ],
      "text/plain": [
       "                            Value  Rob. Std err  Rob. t-test  Rob. p-value\n",
       "asc_cycle               -3.218580      0.303919   -10.590266  0.000000e+00\n",
       "asc_cycle_male           1.053207      0.210048     5.014128  5.327445e-07\n",
       "asc_drive                0.068989      0.217651     0.316969  7.512668e-01\n",
       "asc_drive_male          -0.226071      0.101484    -2.227656  2.590350e-02\n",
       "asc_pt                   1.844824      0.170760    10.803594  0.000000e+00\n",
       "asc_pt_male             -0.375193      0.107310    -3.496343  4.716816e-04\n",
       "beta_cost               -0.174890      0.015669   -11.161372  0.000000e+00\n",
       "beta_elapsed_cycle      -3.318114      0.268396   -12.362746  0.000000e+00\n",
       "beta_elapsed_time_drive -3.301138      0.265805   -12.419415  0.000000e+00\n",
       "beta_elapsed_time_pt    -2.637892      0.182665   -14.441112  0.000000e+00\n",
       "beta_elapsed_walk       -5.446293      0.252865   -21.538327  0.000000e+00\n",
       "lambda_boxcox            0.268645      0.049841     5.390084  7.042489e-08"
      ]
     },
     "execution_count": 122,
     "metadata": {},
     "output_type": "execute_result"
    }
   ],
   "source": [
    "V_model3 = {1: v_walk_model3 , 2: v_cycle_model3, 3: v_pt_model3, 4: v_drive_model3}\n",
    "logprob_model3 = models.loglogit(V_model3, av, travel_mode)\n",
    "biogeme_model3 = bio.BIOGEME(database, logprob_model3)\n",
    "biogeme_model3.modelName = 'Model_3'\n",
    "all_results['Model_3'] = biogeme_model3.estimate()\n",
    "results_model3 = biogeme_model3.estimate()\n",
    "results_model3.getEstimatedParameters()"
   ]
  },
  {
   "cell_type": "code",
   "execution_count": 123,
   "metadata": {
    "execution": {
     "iopub.execute_input": "2023-12-16T15:07:25.762581Z",
     "iopub.status.busy": "2023-12-16T15:07:25.761551Z",
     "iopub.status.idle": "2023-12-16T15:07:25.830341Z",
     "shell.execute_reply": "2023-12-16T15:07:25.829057Z",
     "shell.execute_reply.started": "2023-12-16T15:07:25.762520Z"
    },
    "tags": []
   },
   "outputs": [
    {
     "name": "stderr",
     "output_type": "stream",
     "text": [
      "The syntax \"compileEstimationResults\" is deprecated and is replaced by the syntax \"compile_estimation_results\".\n"
     ]
    },
    {
     "data": {
      "text/plain": [
       "(                                              Model0           Model1  \\\n",
       " Number of estimated parameters                     5                8   \n",
       " Sample size                                     5000             5000   \n",
       " Final log likelihood                    -4587.818071     -4275.496542   \n",
       " Akaike Information Criterion             9185.636142      8566.993084   \n",
       " Bayesian Information Criterion           9218.222108      8619.130629   \n",
       " asc_cycle (t-test)                      -3.88  (-36)   -4.85  (-23.9)   \n",
       " asc_drive (t-test)                     -1.3  (-16.1)   -1.97  (-14.3)   \n",
       " asc_pt (t-test)                       -0.503  (-9.3)   -2.34  (-16.8)   \n",
       " beta_cost (t-test)                   -0.194  (-13.9)  -0.182  (-11.3)   \n",
       " beta_time (t-test)                     -5.5  (-26.3)                    \n",
       " beta_time_cycle (t-test)                               -5.31  (-11.5)   \n",
       " beta_time_drive (t-test)                               -6.47  (-17.1)   \n",
       " beta_time_pt (t-test)                                  -3.54  (-14.1)   \n",
       " beta_time_walk (t-test)                                -8.43  (-20.1)   \n",
       " asc_cycle_male (t-test)                                                 \n",
       " asc_drive_male (t-test)                                                 \n",
       " asc_pt_male (t-test)                                                    \n",
       " beta_cost_male (t-test)                                                 \n",
       " asc_drive_3bis (t-test)                                                 \n",
       " asc_drive_3bis_male (t-test)                                            \n",
       " beta_cost_3bis (t-test)                                                 \n",
       " beta_time_cycle_3bis (t-test)                                           \n",
       " beta_time_drive_3bis (t-test)                                           \n",
       " beta_time_pt_3bis (t-test)                                              \n",
       " beta_time_pt_3bis_squarred (t-test)                                     \n",
       " beta_time_walk_3bis (t-test)                                            \n",
       " beta_time_pt_33_squarred (t-test)                                       \n",
       " beta_elapsed_cycle (t-test)                                             \n",
       " beta_elapsed_time_drive (t-test)                                        \n",
       " beta_elapsed_time_pt (t-test)                                           \n",
       " beta_elapsed_walk (t-test)                                              \n",
       " lambda_boxcox (t-test)                                                  \n",
       " Mu_Drive (t-test)                                                       \n",
       " Mu_PT (t-test)                                                          \n",
       " Mu_SoftModes (t-test)                                                   \n",
       " Mu_not_vehicle (t-test)                                                 \n",
       " Mu_vehicle (t-test)                                                     \n",
       " \n",
       "                                               Model2          Model2_2  \\\n",
       " Number of estimated parameters                    11                 9   \n",
       " Sample size                                     5000              5000   \n",
       " Final log likelihood                    -4245.240231      -4273.204021   \n",
       " Akaike Information Criterion             8512.480462       8564.408041   \n",
       " Bayesian Information Criterion           8584.169587        8623.06278   \n",
       " asc_cycle (t-test)                    -5.45  (-21.5)      -4.84  (-24)   \n",
       " asc_drive (t-test)                    -1.89  (-13.1)    -1.97  (-14.3)   \n",
       " asc_pt (t-test)                       -2.21  (-15.1)    -2.34  (-16.8)   \n",
       " beta_cost (t-test)                   -0.183  (-11.3)   -0.152  (-8.09)   \n",
       " beta_time (t-test)                                                       \n",
       " beta_time_cycle (t-test)              -5.58  (-11.8)    -5.35  (-11.6)   \n",
       " beta_time_drive (t-test)              -6.49  (-17.1)      -6.48  (-17)   \n",
       " beta_time_pt (t-test)                   -3.53  (-14)    -3.54  (-14.1)   \n",
       " beta_time_walk (t-test)               -8.46  (-20.2)    -8.44  (-20.2)   \n",
       " asc_cycle_male (t-test)                 1.05  (5.04)                     \n",
       " asc_drive_male (t-test)              -0.198  (-2.08)                     \n",
       " asc_pt_male (t-test)                 -0.333  (-3.35)                     \n",
       " beta_cost_male (t-test)                               -0.0654  (-2.05)   \n",
       " asc_drive_3bis (t-test)                                                  \n",
       " asc_drive_3bis_male (t-test)                                             \n",
       " beta_cost_3bis (t-test)                                                  \n",
       " beta_time_cycle_3bis (t-test)                                            \n",
       " beta_time_drive_3bis (t-test)                                            \n",
       " beta_time_pt_3bis (t-test)                                               \n",
       " beta_time_pt_3bis_squarred (t-test)                                      \n",
       " beta_time_walk_3bis (t-test)                                             \n",
       " beta_time_pt_33_squarred (t-test)                                        \n",
       " beta_elapsed_cycle (t-test)                                              \n",
       " beta_elapsed_time_drive (t-test)                                         \n",
       " beta_elapsed_time_pt (t-test)                                            \n",
       " beta_elapsed_walk (t-test)                                               \n",
       " lambda_boxcox (t-test)                                                   \n",
       " Mu_Drive (t-test)                                                        \n",
       " Mu_PT (t-test)                                                           \n",
       " Mu_SoftModes (t-test)                                                    \n",
       " Mu_not_vehicle (t-test)                                                  \n",
       " Mu_vehicle (t-test)                                                      \n",
       " \n",
       "                                          Model_3bis         Model_33  \\\n",
       " Number of estimated parameters                   12               10   \n",
       " Sample size                                    5000             5000   \n",
       " Final log likelihood                    -4236.58918     -4264.777606   \n",
       " Akaike Information Criterion            8497.178361      8549.555213   \n",
       " Bayesian Information Criterion          8575.384679      8614.727144   \n",
       " asc_cycle (t-test)                   -5.37  (-21.4)   -4.76  (-23.9)   \n",
       " asc_drive (t-test)                                    -1.88  (-13.5)   \n",
       " asc_pt (t-test)                      -2.49  (-15.6)     -2.62  (-17)   \n",
       " beta_cost (t-test)                                   -0.149  (-7.88)   \n",
       " beta_time (t-test)                                                     \n",
       " beta_time_cycle (t-test)                                -5.35  (-12)   \n",
       " beta_time_drive (t-test)                              -6.56  (-16.9)   \n",
       " beta_time_pt (t-test)                                 -2.01  (-4.28)   \n",
       " beta_time_walk (t-test)                               -8.29  (-19.8)   \n",
       " asc_cycle_male (t-test)                1.05  (5.05)                    \n",
       " asc_drive_male (t-test)                                                \n",
       " asc_pt_male (t-test)                 -0.34  (-3.36)                    \n",
       " beta_cost_male (t-test)                              -0.066  (-2.05)   \n",
       " asc_drive_3bis (t-test)               -1.8  (-12.4)                    \n",
       " asc_drive_3bis_male (t-test)         -0.198  (-2.1)                    \n",
       " beta_cost_3bis (t-test)                -0.18  (-11)                    \n",
       " beta_time_cycle_3bis (t-test)        -5.57  (-12.2)                    \n",
       " beta_time_drive_3bis (t-test)        -6.56  (-16.9)                    \n",
       " beta_time_pt_3bis (t-test)           -1.98  (-4.22)                    \n",
       " beta_time_pt_3bis_squarred (t-test)  -1.23  (-3.53)                    \n",
       " beta_time_walk_3bis (t-test)         -8.31  (-19.9)                    \n",
       " beta_time_pt_33_squarred (t-test)                     -1.22  (-3.46)   \n",
       " beta_elapsed_cycle (t-test)                                            \n",
       " beta_elapsed_time_drive (t-test)                                       \n",
       " beta_elapsed_time_pt (t-test)                                          \n",
       " beta_elapsed_walk (t-test)                                             \n",
       " lambda_boxcox (t-test)                                                 \n",
       " Mu_Drive (t-test)                                                      \n",
       " Mu_PT (t-test)                                                         \n",
       " Mu_SoftModes (t-test)                                                  \n",
       " Mu_not_vehicle (t-test)                                                \n",
       " Mu_vehicle (t-test)                                                    \n",
       " \n",
       "                                              Model_3     Model_generic  \\\n",
       " Number of estimated parameters                    12                16   \n",
       " Sample size                                     5000              5000   \n",
       " Final log likelihood                    -4157.246366      -4149.464413   \n",
       " Akaike Information Criterion             8338.492732       8330.928825   \n",
       " Bayesian Information Criterion           8416.699051       8435.203916   \n",
       " asc_cycle (t-test)                    -3.22  (-10.6)     -2.7  (-2.22)   \n",
       " asc_drive (t-test)                    0.069  (0.317)    0.707  (0.788)   \n",
       " asc_pt (t-test)                         1.84  (10.8)      5.56  (3.23)   \n",
       " beta_cost (t-test)                   -0.175  (-11.2)   -0.171  (-10.8)   \n",
       " beta_time (t-test)                                                       \n",
       " beta_time_cycle (t-test)                                  2.33  (1.07)   \n",
       " beta_time_drive (t-test)                                 2.12  (0.762)   \n",
       " beta_time_pt (t-test)                                 -0.993  (-0.844)   \n",
       " beta_time_walk (t-test)                                   2.97  (1.26)   \n",
       " asc_cycle_male (t-test)                 1.05  (5.01)      1.06  (5.03)   \n",
       " asc_drive_male (t-test)              -0.226  (-2.23)   -0.225  (-2.22)   \n",
       " asc_pt_male (t-test)                  -0.375  (-3.5)    -0.37  (-3.42)   \n",
       " beta_cost_male (t-test)                                                  \n",
       " asc_drive_3bis (t-test)                                                  \n",
       " asc_drive_3bis_male (t-test)                                             \n",
       " beta_cost_3bis (t-test)                                                  \n",
       " beta_time_cycle_3bis (t-test)                                            \n",
       " beta_time_drive_3bis (t-test)                                            \n",
       " beta_time_pt_3bis (t-test)                                               \n",
       " beta_time_pt_3bis_squarred (t-test)                                      \n",
       " beta_time_walk_3bis (t-test)                                             \n",
       " beta_time_pt_33_squarred (t-test)                                        \n",
       " beta_elapsed_cycle (t-test)           -3.32  (-12.4)     -5.5  (-2.62)   \n",
       " beta_elapsed_time_drive (t-test)       -3.3  (-12.4)    -5.41  (-2.25)   \n",
       " beta_elapsed_time_pt (t-test)         -2.64  (-14.4)    -2.44  (-2.37)   \n",
       " beta_elapsed_walk (t-test)            -5.45  (-21.5)     -8.19  (-3.3)   \n",
       " lambda_boxcox (t-test)                 0.269  (5.39)      0.45  (3.29)   \n",
       " Mu_Drive (t-test)                                                        \n",
       " Mu_PT (t-test)                                                           \n",
       " Mu_SoftModes (t-test)                                                    \n",
       " Mu_not_vehicle (t-test)                                                  \n",
       " Mu_vehicle (t-test)                                                      \n",
       " \n",
       "                                            Nestmodes Model_nested_vehicle  \n",
       " Number of estimated parameters                    15                   14  \n",
       " Sample size                                     5000                 5000  \n",
       " Final log likelihood                    -4149.661795         -4156.794116  \n",
       " Akaike Information Criterion             8329.323589          8341.588233  \n",
       " Bayesian Information Criterion           8427.081487          8432.828937  \n",
       " asc_cycle (t-test)                    -2.96  (-7.88)       -2.35  (-2.45)  \n",
       " asc_drive (t-test)                     0.295  (1.24)        0.523  (1.01)  \n",
       " asc_pt (t-test)                         2.18  (11.1)         2.08  (7.07)  \n",
       " beta_cost (t-test)                   -0.172  (-10.9)      -0.153  (-5.51)  \n",
       " beta_time (t-test)                                                         \n",
       " beta_time_cycle (t-test)                                                   \n",
       " beta_time_drive (t-test)                                                   \n",
       " beta_time_pt (t-test)                                                      \n",
       " beta_time_walk (t-test)                                                    \n",
       " asc_cycle_male (t-test)                  1.57  (4.5)        0.899  (3.62)  \n",
       " asc_drive_male (t-test)              -0.148  (-1.33)      -0.222  (-2.22)  \n",
       " asc_pt_male (t-test)                 -0.291  (-2.49)      -0.352  (-3.29)  \n",
       " beta_cost_male (t-test)                                                    \n",
       " asc_drive_3bis (t-test)                                                    \n",
       " asc_drive_3bis_male (t-test)                                               \n",
       " beta_cost_3bis (t-test)                                                    \n",
       " beta_time_cycle_3bis (t-test)                                              \n",
       " beta_time_drive_3bis (t-test)                                              \n",
       " beta_time_pt_3bis (t-test)                                                 \n",
       " beta_time_pt_3bis_squarred (t-test)                                        \n",
       " beta_time_walk_3bis (t-test)                                               \n",
       " beta_time_pt_33_squarred (t-test)                                          \n",
       " beta_elapsed_cycle (t-test)           -2.58  (-7.86)       -2.88  (-5.49)  \n",
       " beta_elapsed_time_drive (t-test)      -3.59  (-12.7)       -2.87  (-5.58)  \n",
       " beta_elapsed_time_pt (t-test)          -2.8  (-14.8)       -2.32  (-6.11)  \n",
       " beta_elapsed_walk (t-test)                 -6  (-21)       -5.15  (-12.6)  \n",
       " lambda_boxcox (t-test)                 0.318  (6.34)         0.25  (4.64)  \n",
       " Mu_Drive (t-test)                      1  (8.99e+14)                       \n",
       " Mu_PT (t-test)                         1  (8.45e+13)                       \n",
       " Mu_SoftModes (t-test)                  0.604  (7.89)                       \n",
       " Mu_not_vehicle (t-test)                                    1  (5.56e-309)  \n",
       " Mu_vehicle (t-test)                                          1.14  (6.68)  ,\n",
       " {'Model0': 'Model0',\n",
       "  'Model1': 'Model1',\n",
       "  'Model2': 'Model2',\n",
       "  'Model2_2': 'Model2_2',\n",
       "  'Model_3bis': 'Model_3bis',\n",
       "  'Model_33': 'Model_33',\n",
       "  'Model_3': 'Model_3',\n",
       "  'Model_generic': 'Model_generic',\n",
       "  'Nestmodes': 'Nestmodes',\n",
       "  'Model_nested_vehicle': 'Model_nested_vehicle'})"
      ]
     },
     "execution_count": 123,
     "metadata": {},
     "output_type": "execute_result"
    }
   ],
   "source": [
    "res.compileEstimationResults(all_results)"
   ]
  },
  {
   "cell_type": "code",
   "execution_count": 124,
   "metadata": {
    "execution": {
     "iopub.execute_input": "2023-12-16T15:07:33.327351Z",
     "iopub.status.busy": "2023-12-16T15:07:33.326485Z",
     "iopub.status.idle": "2023-12-16T15:07:33.371484Z",
     "shell.execute_reply": "2023-12-16T15:07:33.369362Z",
     "shell.execute_reply.started": "2023-12-16T15:07:33.327295Z"
    },
    "tags": []
   },
   "outputs": [
    {
     "name": "stdout",
     "output_type": "stream",
     "text": [
      "Null Loglikelihood : \n"
     ]
    },
    {
     "data": {
      "text/plain": [
       "-6931.471805599917"
      ]
     },
     "execution_count": 124,
     "metadata": {},
     "output_type": "execute_result"
    }
   ],
   "source": [
    "print(\"Null Loglikelihood : \")\n",
    "biogeme_model3.calculateNullLoglikelihood(av)"
   ]
  },
  {
   "cell_type": "code",
   "execution_count": 126,
   "metadata": {
    "execution": {
     "iopub.execute_input": "2023-12-16T15:07:45.207026Z",
     "iopub.status.busy": "2023-12-16T15:07:45.206399Z",
     "iopub.status.idle": "2023-12-16T15:07:45.218469Z",
     "shell.execute_reply": "2023-12-16T15:07:45.217203Z",
     "shell.execute_reply.started": "2023-12-16T15:07:45.206972Z"
    },
    "tags": []
   },
   "outputs": [
    {
     "data": {
      "text/plain": [
       "LRTuple(message='H0 can be rejected at level 5.0%', statistic=175.98772937935792, threshold=3.841458820694124)"
      ]
     },
     "execution_count": 126,
     "metadata": {},
     "output_type": "execute_result"
    }
   ],
   "source": [
    "results_model3.likelihood_ratio_test(results_segmented_gender, 0.05)"
   ]
  },
  {
   "cell_type": "code",
   "execution_count": 127,
   "metadata": {
    "execution": {
     "iopub.execute_input": "2023-12-16T15:07:46.863206Z",
     "iopub.status.busy": "2023-12-16T15:07:46.862365Z",
     "iopub.status.idle": "2023-12-16T15:07:46.871885Z",
     "shell.execute_reply": "2023-12-16T15:07:46.870069Z",
     "shell.execute_reply.started": "2023-12-16T15:07:46.863142Z"
    },
    "tags": []
   },
   "outputs": [
    {
     "name": "stdout",
     "output_type": "stream",
     "text": [
      "Number of estimated parameters:\t12\n",
      "Sample size:\t5000\n",
      "Excluded observations:\t0\n",
      "Init log likelihood:\t-4157.246\n",
      "Final log likelihood:\t-4157.246\n",
      "Likelihood ratio test for the init. model:\t-0\n",
      "Rho-square for the init. model:\t0\n",
      "Rho-square-bar for the init. model:\t-0.00289\n",
      "Akaike Information Criterion:\t8338.493\n",
      "Bayesian Information Criterion:\t8416.699\n",
      "Final gradient norm:\t1.1239E-03\n",
      "Nbr of threads:\t16\n",
      "\n"
     ]
    }
   ],
   "source": [
    "print(results_model3.printGeneralStatistics())"
   ]
  },
  {
   "cell_type": "code",
   "execution_count": 54,
   "metadata": {
    "execution": {
     "iopub.execute_input": "2023-12-16T14:03:32.378000Z",
     "iopub.status.busy": "2023-12-16T14:03:32.377536Z",
     "iopub.status.idle": "2023-12-16T14:03:32.423424Z",
     "shell.execute_reply": "2023-12-16T14:03:32.422089Z",
     "shell.execute_reply.started": "2023-12-16T14:03:32.377961Z"
    },
    "tags": []
   },
   "outputs": [
    {
     "name": "stderr",
     "output_type": "stream",
     "text": [
      "The syntax \"compileEstimationResults\" is deprecated and is replaced by the syntax \"compile_estimation_results\".\n"
     ]
    },
    {
     "data": {
      "text/plain": [
       "(                                              Model0           Model1  \\\n",
       " Number of estimated parameters                     5                8   \n",
       " Sample size                                     5000             5000   \n",
       " Final log likelihood                    -4587.818071     -4275.496542   \n",
       " Akaike Information Criterion             9185.636142      8566.993084   \n",
       " Bayesian Information Criterion           9218.222108      8619.130629   \n",
       " asc_cycle (t-test)                      -3.88  (-36)   -4.85  (-23.9)   \n",
       " asc_drive (t-test)                     -1.3  (-16.1)   -1.97  (-14.3)   \n",
       " asc_pt (t-test)                       -0.503  (-9.3)   -2.34  (-16.8)   \n",
       " beta_cost (t-test)                   -0.194  (-13.9)  -0.182  (-11.3)   \n",
       " beta_time (t-test)                     -5.5  (-26.3)                    \n",
       " beta_time_cycle (t-test)                               -5.31  (-11.5)   \n",
       " beta_time_drive (t-test)                               -6.47  (-17.1)   \n",
       " beta_time_pt (t-test)                                  -3.54  (-14.1)   \n",
       " beta_time_walk (t-test)                                -8.43  (-20.1)   \n",
       " asc_cycle_male (t-test)                                                 \n",
       " asc_drive_male (t-test)                                                 \n",
       " asc_pt_male (t-test)                                                    \n",
       " beta_cost_male (t-test)                                                 \n",
       " asc_drive_3bis (t-test)                                                 \n",
       " asc_drive_3bis_male (t-test)                                            \n",
       " beta_cost_3bis (t-test)                                                 \n",
       " beta_time_cycle_3bis (t-test)                                           \n",
       " beta_time_drive_3bis (t-test)                                           \n",
       " beta_time_pt_3bis (t-test)                                              \n",
       " beta_time_pt_3bis_squarred (t-test)                                     \n",
       " beta_time_walk_3bis (t-test)                                            \n",
       " beta_time_pt_33_squarred (t-test)                                       \n",
       " beta_elapsed_cycle (t-test)                                             \n",
       " beta_elapsed_time_drive (t-test)                                        \n",
       " beta_elapsed_time_pt (t-test)                                           \n",
       " beta_elapsed_walk (t-test)                                              \n",
       " lambda_boxcox (t-test)                                                  \n",
       " \n",
       "                                               Model2          Model2_2  \\\n",
       " Number of estimated parameters                    11                 9   \n",
       " Sample size                                     5000              5000   \n",
       " Final log likelihood                    -4245.240231      -4273.204021   \n",
       " Akaike Information Criterion             8512.480462       8564.408041   \n",
       " Bayesian Information Criterion           8584.169587        8623.06278   \n",
       " asc_cycle (t-test)                    -5.45  (-21.5)      -4.84  (-24)   \n",
       " asc_drive (t-test)                    -1.89  (-13.1)    -1.97  (-14.3)   \n",
       " asc_pt (t-test)                       -2.21  (-15.1)    -2.34  (-16.8)   \n",
       " beta_cost (t-test)                   -0.183  (-11.3)   -0.152  (-8.09)   \n",
       " beta_time (t-test)                                                       \n",
       " beta_time_cycle (t-test)              -5.58  (-11.8)    -5.35  (-11.6)   \n",
       " beta_time_drive (t-test)              -6.49  (-17.1)      -6.48  (-17)   \n",
       " beta_time_pt (t-test)                   -3.53  (-14)    -3.54  (-14.1)   \n",
       " beta_time_walk (t-test)               -8.46  (-20.2)    -8.44  (-20.2)   \n",
       " asc_cycle_male (t-test)                 1.05  (5.04)                     \n",
       " asc_drive_male (t-test)              -0.198  (-2.08)                     \n",
       " asc_pt_male (t-test)                 -0.333  (-3.35)                     \n",
       " beta_cost_male (t-test)                               -0.0654  (-2.05)   \n",
       " asc_drive_3bis (t-test)                                                  \n",
       " asc_drive_3bis_male (t-test)                                             \n",
       " beta_cost_3bis (t-test)                                                  \n",
       " beta_time_cycle_3bis (t-test)                                            \n",
       " beta_time_drive_3bis (t-test)                                            \n",
       " beta_time_pt_3bis (t-test)                                               \n",
       " beta_time_pt_3bis_squarred (t-test)                                      \n",
       " beta_time_walk_3bis (t-test)                                             \n",
       " beta_time_pt_33_squarred (t-test)                                        \n",
       " beta_elapsed_cycle (t-test)                                              \n",
       " beta_elapsed_time_drive (t-test)                                         \n",
       " beta_elapsed_time_pt (t-test)                                            \n",
       " beta_elapsed_walk (t-test)                                               \n",
       " lambda_boxcox (t-test)                                                   \n",
       " \n",
       "                                          Model_3bis         Model_33  \\\n",
       " Number of estimated parameters                   12               10   \n",
       " Sample size                                    5000             5000   \n",
       " Final log likelihood                    -4236.58918     -4264.777606   \n",
       " Akaike Information Criterion            8497.178361      8549.555213   \n",
       " Bayesian Information Criterion          8575.384679      8614.727144   \n",
       " asc_cycle (t-test)                   -5.37  (-21.4)   -4.76  (-23.9)   \n",
       " asc_drive (t-test)                                    -1.88  (-13.5)   \n",
       " asc_pt (t-test)                      -2.49  (-15.6)     -2.62  (-17)   \n",
       " beta_cost (t-test)                                   -0.149  (-7.88)   \n",
       " beta_time (t-test)                                                     \n",
       " beta_time_cycle (t-test)                                -5.35  (-12)   \n",
       " beta_time_drive (t-test)                              -6.56  (-16.9)   \n",
       " beta_time_pt (t-test)                                 -2.01  (-4.28)   \n",
       " beta_time_walk (t-test)                               -8.29  (-19.8)   \n",
       " asc_cycle_male (t-test)                1.05  (5.05)                    \n",
       " asc_drive_male (t-test)                                                \n",
       " asc_pt_male (t-test)                 -0.34  (-3.36)                    \n",
       " beta_cost_male (t-test)                              -0.066  (-2.05)   \n",
       " asc_drive_3bis (t-test)               -1.8  (-12.4)                    \n",
       " asc_drive_3bis_male (t-test)         -0.198  (-2.1)                    \n",
       " beta_cost_3bis (t-test)                -0.18  (-11)                    \n",
       " beta_time_cycle_3bis (t-test)        -5.57  (-12.2)                    \n",
       " beta_time_drive_3bis (t-test)        -6.56  (-16.9)                    \n",
       " beta_time_pt_3bis (t-test)           -1.98  (-4.22)                    \n",
       " beta_time_pt_3bis_squarred (t-test)  -1.23  (-3.53)                    \n",
       " beta_time_walk_3bis (t-test)         -8.31  (-19.9)                    \n",
       " beta_time_pt_33_squarred (t-test)                     -1.22  (-3.46)   \n",
       " beta_elapsed_cycle (t-test)                                            \n",
       " beta_elapsed_time_drive (t-test)                                       \n",
       " beta_elapsed_time_pt (t-test)                                          \n",
       " beta_elapsed_walk (t-test)                                             \n",
       " lambda_boxcox (t-test)                                                 \n",
       " \n",
       "                                              Model_3     Model_generic  \n",
       " Number of estimated parameters                    12                16  \n",
       " Sample size                                     5000              5000  \n",
       " Final log likelihood                    -4157.246366      -4149.464413  \n",
       " Akaike Information Criterion             8338.492732       8330.928825  \n",
       " Bayesian Information Criterion           8416.699051       8435.203916  \n",
       " asc_cycle (t-test)                    -3.22  (-10.6)     -2.7  (-2.22)  \n",
       " asc_drive (t-test)                    0.069  (0.317)    0.707  (0.788)  \n",
       " asc_pt (t-test)                         1.84  (10.8)      5.56  (3.23)  \n",
       " beta_cost (t-test)                   -0.175  (-11.2)   -0.171  (-10.8)  \n",
       " beta_time (t-test)                                                      \n",
       " beta_time_cycle (t-test)                                  2.33  (1.07)  \n",
       " beta_time_drive (t-test)                                 2.12  (0.762)  \n",
       " beta_time_pt (t-test)                                 -0.993  (-0.844)  \n",
       " beta_time_walk (t-test)                                   2.97  (1.26)  \n",
       " asc_cycle_male (t-test)                 1.05  (5.01)      1.06  (5.03)  \n",
       " asc_drive_male (t-test)              -0.226  (-2.23)   -0.225  (-2.22)  \n",
       " asc_pt_male (t-test)                  -0.375  (-3.5)    -0.37  (-3.42)  \n",
       " beta_cost_male (t-test)                                                 \n",
       " asc_drive_3bis (t-test)                                                 \n",
       " asc_drive_3bis_male (t-test)                                            \n",
       " beta_cost_3bis (t-test)                                                 \n",
       " beta_time_cycle_3bis (t-test)                                           \n",
       " beta_time_drive_3bis (t-test)                                           \n",
       " beta_time_pt_3bis (t-test)                                              \n",
       " beta_time_pt_3bis_squarred (t-test)                                     \n",
       " beta_time_walk_3bis (t-test)                                            \n",
       " beta_time_pt_33_squarred (t-test)                                       \n",
       " beta_elapsed_cycle (t-test)           -3.32  (-12.4)     -5.5  (-2.62)  \n",
       " beta_elapsed_time_drive (t-test)       -3.3  (-12.4)    -5.41  (-2.25)  \n",
       " beta_elapsed_time_pt (t-test)         -2.64  (-14.4)    -2.44  (-2.37)  \n",
       " beta_elapsed_walk (t-test)            -5.45  (-21.5)     -8.19  (-3.3)  \n",
       " lambda_boxcox (t-test)                 0.269  (5.39)      0.45  (3.29)  ,\n",
       " {'Model0': 'Model0',\n",
       "  'Model1': 'Model1',\n",
       "  'Model2': 'Model2',\n",
       "  'Model2_2': 'Model2_2',\n",
       "  'Model_3bis': 'Model_3bis',\n",
       "  'Model_33': 'Model_33',\n",
       "  'Model_3': 'Model_3',\n",
       "  'Model_generic': 'Model_generic'})"
      ]
     },
     "execution_count": 54,
     "metadata": {},
     "output_type": "execute_result"
    }
   ],
   "source": [
    "res.compileEstimationResults(all_results)"
   ]
  },
  {
   "cell_type": "code",
   "execution_count": 56,
   "metadata": {
    "execution": {
     "iopub.execute_input": "2023-12-16T14:03:33.293371Z",
     "iopub.status.busy": "2023-12-16T14:03:33.292809Z",
     "iopub.status.idle": "2023-12-16T14:03:34.819925Z",
     "shell.execute_reply": "2023-12-16T14:03:34.818283Z",
     "shell.execute_reply.started": "2023-12-16T14:03:33.293336Z"
    },
    "tags": []
   },
   "outputs": [
    {
     "data": {
      "text/plain": [
       "LRTuple(message='H0 can be rejected at level 5.0%', statistic=15.56390729514169, threshold=9.487729036781154)"
      ]
     },
     "execution_count": 56,
     "metadata": {},
     "output_type": "execute_result"
    }
   ],
   "source": [
    "model_base=biogeme_model3\n",
    "results_base=model_base.estimate()\n",
    "results_model_generic.likelihood_ratio_test(results_base, 0.05)"
   ]
  },
  {
   "cell_type": "markdown",
   "metadata": {},
   "source": [
    "Our new model pref is model 3"
   ]
  },
  {
   "cell_type": "markdown",
   "metadata": {},
   "source": [
    "## Model 4"
   ]
  },
  {
   "cell_type": "markdown",
   "metadata": {},
   "source": [
    "We chose to separate the modes by nesting walking and cycling as \"soft modes\" and keeping driving and PT separeted. "
   ]
  },
  {
   "cell_type": "code",
   "execution_count": 57,
   "metadata": {
    "execution": {
     "iopub.execute_input": "2023-12-16T14:03:34.821976Z",
     "iopub.status.busy": "2023-12-16T14:03:34.821604Z",
     "iopub.status.idle": "2023-12-16T14:03:34.830195Z",
     "shell.execute_reply": "2023-12-16T14:03:34.828886Z",
     "shell.execute_reply.started": "2023-12-16T14:03:34.821942Z"
    },
    "tags": []
   },
   "outputs": [],
   "source": [
    "model_base=biogeme_model3\n",
    "V_nested=V_model3\n",
    "#create the nests\n",
    "Mu_Drive =Beta(\"Mu_Drive\",1,0,None,0)\n",
    "Mu_PT =Beta(\"Mu_PT\",1,0,None,0)\n",
    "Mu_SM =Beta(\"Mu_SoftModes\",1,0,None,0)\n",
    "drive= Mu_Drive,[4]\n",
    "PT=Mu_PT, [3]\n",
    "SM=Mu_SM, [1,2]\n",
    "nests_modes=drive, PT, SM"
   ]
  },
  {
   "cell_type": "code",
   "execution_count": 58,
   "metadata": {
    "execution": {
     "iopub.execute_input": "2023-12-16T14:03:34.831724Z",
     "iopub.status.busy": "2023-12-16T14:03:34.831420Z",
     "iopub.status.idle": "2023-12-16T14:03:50.910823Z",
     "shell.execute_reply": "2023-12-16T14:03:50.909439Z",
     "shell.execute_reply.started": "2023-12-16T14:03:34.831697Z"
    },
    "tags": []
   },
   "outputs": [
    {
     "data": {
      "text/html": [
       "<div>\n",
       "<style scoped>\n",
       "    .dataframe tbody tr th:only-of-type {\n",
       "        vertical-align: middle;\n",
       "    }\n",
       "\n",
       "    .dataframe tbody tr th {\n",
       "        vertical-align: top;\n",
       "    }\n",
       "\n",
       "    .dataframe thead th {\n",
       "        text-align: right;\n",
       "    }\n",
       "</style>\n",
       "<table border=\"1\" class=\"dataframe\">\n",
       "  <thead>\n",
       "    <tr style=\"text-align: right;\">\n",
       "      <th></th>\n",
       "      <th>Value</th>\n",
       "      <th>Rob. Std err</th>\n",
       "      <th>Rob. t-test</th>\n",
       "      <th>Rob. p-value</th>\n",
       "    </tr>\n",
       "  </thead>\n",
       "  <tbody>\n",
       "    <tr>\n",
       "      <th>Mu_Drive</th>\n",
       "      <td>1.000000</td>\n",
       "      <td>1.111763e-15</td>\n",
       "      <td>8.994726e+14</td>\n",
       "      <td>0.000000e+00</td>\n",
       "    </tr>\n",
       "    <tr>\n",
       "      <th>Mu_PT</th>\n",
       "      <td>1.000000</td>\n",
       "      <td>1.183718e-14</td>\n",
       "      <td>8.447959e+13</td>\n",
       "      <td>0.000000e+00</td>\n",
       "    </tr>\n",
       "    <tr>\n",
       "      <th>Mu_SoftModes</th>\n",
       "      <td>0.603680</td>\n",
       "      <td>7.647250e-02</td>\n",
       "      <td>7.894081e+00</td>\n",
       "      <td>2.886580e-15</td>\n",
       "    </tr>\n",
       "    <tr>\n",
       "      <th>asc_cycle</th>\n",
       "      <td>-2.955125</td>\n",
       "      <td>3.748133e-01</td>\n",
       "      <td>-7.884260e+00</td>\n",
       "      <td>3.108624e-15</td>\n",
       "    </tr>\n",
       "    <tr>\n",
       "      <th>asc_cycle_male</th>\n",
       "      <td>1.574252</td>\n",
       "      <td>3.494973e-01</td>\n",
       "      <td>4.504332e+00</td>\n",
       "      <td>6.658196e-06</td>\n",
       "    </tr>\n",
       "    <tr>\n",
       "      <th>asc_drive</th>\n",
       "      <td>0.294558</td>\n",
       "      <td>2.368810e-01</td>\n",
       "      <td>1.243484e+00</td>\n",
       "      <td>2.136896e-01</td>\n",
       "    </tr>\n",
       "    <tr>\n",
       "      <th>asc_drive_male</th>\n",
       "      <td>-0.147821</td>\n",
       "      <td>1.109199e-01</td>\n",
       "      <td>-1.332681e+00</td>\n",
       "      <td>1.826365e-01</td>\n",
       "    </tr>\n",
       "    <tr>\n",
       "      <th>asc_pt</th>\n",
       "      <td>2.181106</td>\n",
       "      <td>1.969324e-01</td>\n",
       "      <td>1.107540e+01</td>\n",
       "      <td>0.000000e+00</td>\n",
       "    </tr>\n",
       "    <tr>\n",
       "      <th>asc_pt_male</th>\n",
       "      <td>-0.290546</td>\n",
       "      <td>1.165381e-01</td>\n",
       "      <td>-2.493145e+00</td>\n",
       "      <td>1.266172e-02</td>\n",
       "    </tr>\n",
       "    <tr>\n",
       "      <th>beta_cost</th>\n",
       "      <td>-0.171546</td>\n",
       "      <td>1.569916e-02</td>\n",
       "      <td>-1.092708e+01</td>\n",
       "      <td>0.000000e+00</td>\n",
       "    </tr>\n",
       "    <tr>\n",
       "      <th>beta_elapsed_cycle</th>\n",
       "      <td>-2.579132</td>\n",
       "      <td>3.283196e-01</td>\n",
       "      <td>-7.855553e+00</td>\n",
       "      <td>3.996803e-15</td>\n",
       "    </tr>\n",
       "    <tr>\n",
       "      <th>beta_elapsed_time_drive</th>\n",
       "      <td>-3.589863</td>\n",
       "      <td>2.820850e-01</td>\n",
       "      <td>-1.272618e+01</td>\n",
       "      <td>0.000000e+00</td>\n",
       "    </tr>\n",
       "    <tr>\n",
       "      <th>beta_elapsed_time_pt</th>\n",
       "      <td>-2.801978</td>\n",
       "      <td>1.889614e-01</td>\n",
       "      <td>-1.482831e+01</td>\n",
       "      <td>0.000000e+00</td>\n",
       "    </tr>\n",
       "    <tr>\n",
       "      <th>beta_elapsed_walk</th>\n",
       "      <td>-5.995689</td>\n",
       "      <td>2.853938e-01</td>\n",
       "      <td>-2.100847e+01</td>\n",
       "      <td>0.000000e+00</td>\n",
       "    </tr>\n",
       "    <tr>\n",
       "      <th>lambda_boxcox</th>\n",
       "      <td>0.318275</td>\n",
       "      <td>5.021259e-02</td>\n",
       "      <td>6.338556e+00</td>\n",
       "      <td>2.319291e-10</td>\n",
       "    </tr>\n",
       "  </tbody>\n",
       "</table>\n",
       "</div>"
      ],
      "text/plain": [
       "                            Value  Rob. Std err   Rob. t-test  Rob. p-value\n",
       "Mu_Drive                 1.000000  1.111763e-15  8.994726e+14  0.000000e+00\n",
       "Mu_PT                    1.000000  1.183718e-14  8.447959e+13  0.000000e+00\n",
       "Mu_SoftModes             0.603680  7.647250e-02  7.894081e+00  2.886580e-15\n",
       "asc_cycle               -2.955125  3.748133e-01 -7.884260e+00  3.108624e-15\n",
       "asc_cycle_male           1.574252  3.494973e-01  4.504332e+00  6.658196e-06\n",
       "asc_drive                0.294558  2.368810e-01  1.243484e+00  2.136896e-01\n",
       "asc_drive_male          -0.147821  1.109199e-01 -1.332681e+00  1.826365e-01\n",
       "asc_pt                   2.181106  1.969324e-01  1.107540e+01  0.000000e+00\n",
       "asc_pt_male             -0.290546  1.165381e-01 -2.493145e+00  1.266172e-02\n",
       "beta_cost               -0.171546  1.569916e-02 -1.092708e+01  0.000000e+00\n",
       "beta_elapsed_cycle      -2.579132  3.283196e-01 -7.855553e+00  3.996803e-15\n",
       "beta_elapsed_time_drive -3.589863  2.820850e-01 -1.272618e+01  0.000000e+00\n",
       "beta_elapsed_time_pt    -2.801978  1.889614e-01 -1.482831e+01  0.000000e+00\n",
       "beta_elapsed_walk       -5.995689  2.853938e-01 -2.100847e+01  0.000000e+00\n",
       "lambda_boxcox            0.318275  5.021259e-02  6.338556e+00  2.319291e-10"
      ]
     },
     "execution_count": 58,
     "metadata": {},
     "output_type": "execute_result"
    }
   ],
   "source": [
    "logprob_model_nested = models.lognested(V_nested, av, nests_modes, travel_mode)\n",
    "biogeme_model_nested = bio.BIOGEME(database, logprob_model_nested)\n",
    "biogeme_model_nested.modelName = 'nestmodes'\n",
    "all_results['Nestmodes'] = biogeme_model_nested.estimate()\n",
    "results_model_nested = biogeme_model_nested.estimate()\n",
    "results_model_nested.getEstimatedParameters()"
   ]
  },
  {
   "cell_type": "markdown",
   "metadata": {},
   "source": [
    "The model is rejected as Mu soft modes in < 1"
   ]
  },
  {
   "cell_type": "markdown",
   "metadata": {},
   "source": [
    "We try another model : vehicles (bikes, cars, PT) and not vehicle (walk) "
   ]
  },
  {
   "cell_type": "code",
   "execution_count": 59,
   "metadata": {
    "execution": {
     "iopub.execute_input": "2023-12-16T14:03:50.912501Z",
     "iopub.status.busy": "2023-12-16T14:03:50.912169Z",
     "iopub.status.idle": "2023-12-16T14:03:50.919073Z",
     "shell.execute_reply": "2023-12-16T14:03:50.917999Z",
     "shell.execute_reply.started": "2023-12-16T14:03:50.912471Z"
    },
    "tags": []
   },
   "outputs": [],
   "source": [
    "Mu_vehicle=Beta(\"Mu_vehicle\",1,0,None,0)\n",
    "Mu_not_vehicle=Beta(\"Mu_not_vehicle\",1,0,None,0)\n",
    "vehicle= Mu_vehicle,[2,3,4]\n",
    "not_vehicle=Mu_not_vehicle,[1]\n",
    "nests_vehicle=vehicle, not_vehicle\n"
   ]
  },
  {
   "cell_type": "code",
   "execution_count": 60,
   "metadata": {
    "execution": {
     "iopub.execute_input": "2023-12-16T14:03:50.920301Z",
     "iopub.status.busy": "2023-12-16T14:03:50.920011Z",
     "iopub.status.idle": "2023-12-16T14:03:55.911971Z",
     "shell.execute_reply": "2023-12-16T14:03:55.910678Z",
     "shell.execute_reply.started": "2023-12-16T14:03:50.920274Z"
    },
    "tags": []
   },
   "outputs": [
    {
     "data": {
      "text/html": [
       "<div>\n",
       "<style scoped>\n",
       "    .dataframe tbody tr th:only-of-type {\n",
       "        vertical-align: middle;\n",
       "    }\n",
       "\n",
       "    .dataframe tbody tr th {\n",
       "        vertical-align: top;\n",
       "    }\n",
       "\n",
       "    .dataframe thead th {\n",
       "        text-align: right;\n",
       "    }\n",
       "</style>\n",
       "<table border=\"1\" class=\"dataframe\">\n",
       "  <thead>\n",
       "    <tr style=\"text-align: right;\">\n",
       "      <th></th>\n",
       "      <th>Value</th>\n",
       "      <th>Rob. Std err</th>\n",
       "      <th>Rob. t-test</th>\n",
       "      <th>Rob. p-value</th>\n",
       "    </tr>\n",
       "  </thead>\n",
       "  <tbody>\n",
       "    <tr>\n",
       "      <th>Mu_not_vehicle</th>\n",
       "      <td>1.000000</td>\n",
       "      <td>1.797693e+308</td>\n",
       "      <td>5.562685e-309</td>\n",
       "      <td>1.000000e+00</td>\n",
       "    </tr>\n",
       "    <tr>\n",
       "      <th>Mu_vehicle</th>\n",
       "      <td>1.142143</td>\n",
       "      <td>1.710858e-01</td>\n",
       "      <td>6.675852e+00</td>\n",
       "      <td>2.458012e-11</td>\n",
       "    </tr>\n",
       "    <tr>\n",
       "      <th>asc_cycle</th>\n",
       "      <td>-2.349335</td>\n",
       "      <td>9.584148e-01</td>\n",
       "      <td>-2.451272e+00</td>\n",
       "      <td>1.423524e-02</td>\n",
       "    </tr>\n",
       "    <tr>\n",
       "      <th>asc_cycle_male</th>\n",
       "      <td>0.899325</td>\n",
       "      <td>2.486350e-01</td>\n",
       "      <td>3.617050e+00</td>\n",
       "      <td>2.979797e-04</td>\n",
       "    </tr>\n",
       "    <tr>\n",
       "      <th>asc_drive</th>\n",
       "      <td>0.523291</td>\n",
       "      <td>5.205580e-01</td>\n",
       "      <td>1.005249e+00</td>\n",
       "      <td>3.147769e-01</td>\n",
       "    </tr>\n",
       "    <tr>\n",
       "      <th>asc_drive_male</th>\n",
       "      <td>-0.221889</td>\n",
       "      <td>1.000770e-01</td>\n",
       "      <td>-2.217179e+00</td>\n",
       "      <td>2.661087e-02</td>\n",
       "    </tr>\n",
       "    <tr>\n",
       "      <th>asc_pt</th>\n",
       "      <td>2.077333</td>\n",
       "      <td>2.936414e-01</td>\n",
       "      <td>7.074389e+00</td>\n",
       "      <td>1.501022e-12</td>\n",
       "    </tr>\n",
       "    <tr>\n",
       "      <th>asc_pt_male</th>\n",
       "      <td>-0.352432</td>\n",
       "      <td>1.071007e-01</td>\n",
       "      <td>-3.290664e+00</td>\n",
       "      <td>9.995108e-04</td>\n",
       "    </tr>\n",
       "    <tr>\n",
       "      <th>beta_cost</th>\n",
       "      <td>-0.153248</td>\n",
       "      <td>2.782004e-02</td>\n",
       "      <td>-5.508557e+00</td>\n",
       "      <td>3.617861e-08</td>\n",
       "    </tr>\n",
       "    <tr>\n",
       "      <th>beta_elapsed_cycle</th>\n",
       "      <td>-2.879902</td>\n",
       "      <td>5.242357e-01</td>\n",
       "      <td>-5.493526e+00</td>\n",
       "      <td>3.939878e-08</td>\n",
       "    </tr>\n",
       "    <tr>\n",
       "      <th>beta_elapsed_time_drive</th>\n",
       "      <td>-2.869768</td>\n",
       "      <td>5.140570e-01</td>\n",
       "      <td>-5.582588e+00</td>\n",
       "      <td>2.369660e-08</td>\n",
       "    </tr>\n",
       "    <tr>\n",
       "      <th>beta_elapsed_time_pt</th>\n",
       "      <td>-2.318716</td>\n",
       "      <td>3.796288e-01</td>\n",
       "      <td>-6.107851e+00</td>\n",
       "      <td>1.009815e-09</td>\n",
       "    </tr>\n",
       "    <tr>\n",
       "      <th>beta_elapsed_walk</th>\n",
       "      <td>-5.146258</td>\n",
       "      <td>4.086589e-01</td>\n",
       "      <td>-1.259304e+01</td>\n",
       "      <td>0.000000e+00</td>\n",
       "    </tr>\n",
       "    <tr>\n",
       "      <th>lambda_boxcox</th>\n",
       "      <td>0.250434</td>\n",
       "      <td>5.399259e-02</td>\n",
       "      <td>4.638298e+00</td>\n",
       "      <td>3.512907e-06</td>\n",
       "    </tr>\n",
       "  </tbody>\n",
       "</table>\n",
       "</div>"
      ],
      "text/plain": [
       "                            Value   Rob. Std err    Rob. t-test  Rob. p-value\n",
       "Mu_not_vehicle           1.000000  1.797693e+308  5.562685e-309  1.000000e+00\n",
       "Mu_vehicle               1.142143   1.710858e-01   6.675852e+00  2.458012e-11\n",
       "asc_cycle               -2.349335   9.584148e-01  -2.451272e+00  1.423524e-02\n",
       "asc_cycle_male           0.899325   2.486350e-01   3.617050e+00  2.979797e-04\n",
       "asc_drive                0.523291   5.205580e-01   1.005249e+00  3.147769e-01\n",
       "asc_drive_male          -0.221889   1.000770e-01  -2.217179e+00  2.661087e-02\n",
       "asc_pt                   2.077333   2.936414e-01   7.074389e+00  1.501022e-12\n",
       "asc_pt_male             -0.352432   1.071007e-01  -3.290664e+00  9.995108e-04\n",
       "beta_cost               -0.153248   2.782004e-02  -5.508557e+00  3.617861e-08\n",
       "beta_elapsed_cycle      -2.879902   5.242357e-01  -5.493526e+00  3.939878e-08\n",
       "beta_elapsed_time_drive -2.869768   5.140570e-01  -5.582588e+00  2.369660e-08\n",
       "beta_elapsed_time_pt    -2.318716   3.796288e-01  -6.107851e+00  1.009815e-09\n",
       "beta_elapsed_walk       -5.146258   4.086589e-01  -1.259304e+01  0.000000e+00\n",
       "lambda_boxcox            0.250434   5.399259e-02   4.638298e+00  3.512907e-06"
      ]
     },
     "execution_count": 60,
     "metadata": {},
     "output_type": "execute_result"
    }
   ],
   "source": [
    "logprob_model_nestedvehicle = models.lognested(V_nested, av, nests_vehicle, travel_mode)\n",
    "biogeme_model_nestedvehicle = bio.BIOGEME(database, logprob_model_nestedvehicle)\n",
    "biogeme_model_nestedvehicle.modelName = 'Model_nested_vehicle'\n",
    "results_model_nestedvehicle = biogeme_model_nestedvehicle.estimate()\n",
    "all_results['Model_nested_vehicle'] = results_model_nestedvehicle\n",
    "table_nestedvehicle=results_model_nestedvehicle.getEstimatedParameters()\n",
    "table_nestedvehicle"
   ]
  },
  {
   "cell_type": "code",
   "execution_count": 61,
   "metadata": {
    "execution": {
     "iopub.execute_input": "2023-12-16T14:03:55.913510Z",
     "iopub.status.busy": "2023-12-16T14:03:55.913187Z",
     "iopub.status.idle": "2023-12-16T14:03:55.983042Z",
     "shell.execute_reply": "2023-12-16T14:03:55.981681Z",
     "shell.execute_reply.started": "2023-12-16T14:03:55.913477Z"
    },
    "tags": []
   },
   "outputs": [
    {
     "name": "stderr",
     "output_type": "stream",
     "text": [
      "The syntax \"compileEstimationResults\" is deprecated and is replaced by the syntax \"compile_estimation_results\".\n"
     ]
    },
    {
     "data": {
      "text/plain": [
       "(                                              Model0           Model1  \\\n",
       " Number of estimated parameters                     5                8   \n",
       " Sample size                                     5000             5000   \n",
       " Final log likelihood                    -4587.818071     -4275.496542   \n",
       " Akaike Information Criterion             9185.636142      8566.993084   \n",
       " Bayesian Information Criterion           9218.222108      8619.130629   \n",
       " asc_cycle (t-test)                      -3.88  (-36)   -4.85  (-23.9)   \n",
       " asc_drive (t-test)                     -1.3  (-16.1)   -1.97  (-14.3)   \n",
       " asc_pt (t-test)                       -0.503  (-9.3)   -2.34  (-16.8)   \n",
       " beta_cost (t-test)                   -0.194  (-13.9)  -0.182  (-11.3)   \n",
       " beta_time (t-test)                     -5.5  (-26.3)                    \n",
       " beta_time_cycle (t-test)                               -5.31  (-11.5)   \n",
       " beta_time_drive (t-test)                               -6.47  (-17.1)   \n",
       " beta_time_pt (t-test)                                  -3.54  (-14.1)   \n",
       " beta_time_walk (t-test)                                -8.43  (-20.1)   \n",
       " asc_cycle_male (t-test)                                                 \n",
       " asc_drive_male (t-test)                                                 \n",
       " asc_pt_male (t-test)                                                    \n",
       " beta_cost_male (t-test)                                                 \n",
       " asc_drive_3bis (t-test)                                                 \n",
       " asc_drive_3bis_male (t-test)                                            \n",
       " beta_cost_3bis (t-test)                                                 \n",
       " beta_time_cycle_3bis (t-test)                                           \n",
       " beta_time_drive_3bis (t-test)                                           \n",
       " beta_time_pt_3bis (t-test)                                              \n",
       " beta_time_pt_3bis_squarred (t-test)                                     \n",
       " beta_time_walk_3bis (t-test)                                            \n",
       " beta_time_pt_33_squarred (t-test)                                       \n",
       " beta_elapsed_cycle (t-test)                                             \n",
       " beta_elapsed_time_drive (t-test)                                        \n",
       " beta_elapsed_time_pt (t-test)                                           \n",
       " beta_elapsed_walk (t-test)                                              \n",
       " lambda_boxcox (t-test)                                                  \n",
       " Mu_Drive (t-test)                                                       \n",
       " Mu_PT (t-test)                                                          \n",
       " Mu_SoftModes (t-test)                                                   \n",
       " Mu_not_vehicle (t-test)                                                 \n",
       " Mu_vehicle (t-test)                                                     \n",
       " \n",
       "                                               Model2          Model2_2  \\\n",
       " Number of estimated parameters                    11                 9   \n",
       " Sample size                                     5000              5000   \n",
       " Final log likelihood                    -4245.240231      -4273.204021   \n",
       " Akaike Information Criterion             8512.480462       8564.408041   \n",
       " Bayesian Information Criterion           8584.169587        8623.06278   \n",
       " asc_cycle (t-test)                    -5.45  (-21.5)      -4.84  (-24)   \n",
       " asc_drive (t-test)                    -1.89  (-13.1)    -1.97  (-14.3)   \n",
       " asc_pt (t-test)                       -2.21  (-15.1)    -2.34  (-16.8)   \n",
       " beta_cost (t-test)                   -0.183  (-11.3)   -0.152  (-8.09)   \n",
       " beta_time (t-test)                                                       \n",
       " beta_time_cycle (t-test)              -5.58  (-11.8)    -5.35  (-11.6)   \n",
       " beta_time_drive (t-test)              -6.49  (-17.1)      -6.48  (-17)   \n",
       " beta_time_pt (t-test)                   -3.53  (-14)    -3.54  (-14.1)   \n",
       " beta_time_walk (t-test)               -8.46  (-20.2)    -8.44  (-20.2)   \n",
       " asc_cycle_male (t-test)                 1.05  (5.04)                     \n",
       " asc_drive_male (t-test)              -0.198  (-2.08)                     \n",
       " asc_pt_male (t-test)                 -0.333  (-3.35)                     \n",
       " beta_cost_male (t-test)                               -0.0654  (-2.05)   \n",
       " asc_drive_3bis (t-test)                                                  \n",
       " asc_drive_3bis_male (t-test)                                             \n",
       " beta_cost_3bis (t-test)                                                  \n",
       " beta_time_cycle_3bis (t-test)                                            \n",
       " beta_time_drive_3bis (t-test)                                            \n",
       " beta_time_pt_3bis (t-test)                                               \n",
       " beta_time_pt_3bis_squarred (t-test)                                      \n",
       " beta_time_walk_3bis (t-test)                                             \n",
       " beta_time_pt_33_squarred (t-test)                                        \n",
       " beta_elapsed_cycle (t-test)                                              \n",
       " beta_elapsed_time_drive (t-test)                                         \n",
       " beta_elapsed_time_pt (t-test)                                            \n",
       " beta_elapsed_walk (t-test)                                               \n",
       " lambda_boxcox (t-test)                                                   \n",
       " Mu_Drive (t-test)                                                        \n",
       " Mu_PT (t-test)                                                           \n",
       " Mu_SoftModes (t-test)                                                    \n",
       " Mu_not_vehicle (t-test)                                                  \n",
       " Mu_vehicle (t-test)                                                      \n",
       " \n",
       "                                          Model_3bis         Model_33  \\\n",
       " Number of estimated parameters                   12               10   \n",
       " Sample size                                    5000             5000   \n",
       " Final log likelihood                    -4236.58918     -4264.777606   \n",
       " Akaike Information Criterion            8497.178361      8549.555213   \n",
       " Bayesian Information Criterion          8575.384679      8614.727144   \n",
       " asc_cycle (t-test)                   -5.37  (-21.4)   -4.76  (-23.9)   \n",
       " asc_drive (t-test)                                    -1.88  (-13.5)   \n",
       " asc_pt (t-test)                      -2.49  (-15.6)     -2.62  (-17)   \n",
       " beta_cost (t-test)                                   -0.149  (-7.88)   \n",
       " beta_time (t-test)                                                     \n",
       " beta_time_cycle (t-test)                                -5.35  (-12)   \n",
       " beta_time_drive (t-test)                              -6.56  (-16.9)   \n",
       " beta_time_pt (t-test)                                 -2.01  (-4.28)   \n",
       " beta_time_walk (t-test)                               -8.29  (-19.8)   \n",
       " asc_cycle_male (t-test)                1.05  (5.05)                    \n",
       " asc_drive_male (t-test)                                                \n",
       " asc_pt_male (t-test)                 -0.34  (-3.36)                    \n",
       " beta_cost_male (t-test)                              -0.066  (-2.05)   \n",
       " asc_drive_3bis (t-test)               -1.8  (-12.4)                    \n",
       " asc_drive_3bis_male (t-test)         -0.198  (-2.1)                    \n",
       " beta_cost_3bis (t-test)                -0.18  (-11)                    \n",
       " beta_time_cycle_3bis (t-test)        -5.57  (-12.2)                    \n",
       " beta_time_drive_3bis (t-test)        -6.56  (-16.9)                    \n",
       " beta_time_pt_3bis (t-test)           -1.98  (-4.22)                    \n",
       " beta_time_pt_3bis_squarred (t-test)  -1.23  (-3.53)                    \n",
       " beta_time_walk_3bis (t-test)         -8.31  (-19.9)                    \n",
       " beta_time_pt_33_squarred (t-test)                     -1.22  (-3.46)   \n",
       " beta_elapsed_cycle (t-test)                                            \n",
       " beta_elapsed_time_drive (t-test)                                       \n",
       " beta_elapsed_time_pt (t-test)                                          \n",
       " beta_elapsed_walk (t-test)                                             \n",
       " lambda_boxcox (t-test)                                                 \n",
       " Mu_Drive (t-test)                                                      \n",
       " Mu_PT (t-test)                                                         \n",
       " Mu_SoftModes (t-test)                                                  \n",
       " Mu_not_vehicle (t-test)                                                \n",
       " Mu_vehicle (t-test)                                                    \n",
       " \n",
       "                                              Model_3     Model_generic  \\\n",
       " Number of estimated parameters                    12                16   \n",
       " Sample size                                     5000              5000   \n",
       " Final log likelihood                    -4157.246366      -4149.464413   \n",
       " Akaike Information Criterion             8338.492732       8330.928825   \n",
       " Bayesian Information Criterion           8416.699051       8435.203916   \n",
       " asc_cycle (t-test)                    -3.22  (-10.6)     -2.7  (-2.22)   \n",
       " asc_drive (t-test)                    0.069  (0.317)    0.707  (0.788)   \n",
       " asc_pt (t-test)                         1.84  (10.8)      5.56  (3.23)   \n",
       " beta_cost (t-test)                   -0.175  (-11.2)   -0.171  (-10.8)   \n",
       " beta_time (t-test)                                                       \n",
       " beta_time_cycle (t-test)                                  2.33  (1.07)   \n",
       " beta_time_drive (t-test)                                 2.12  (0.762)   \n",
       " beta_time_pt (t-test)                                 -0.993  (-0.844)   \n",
       " beta_time_walk (t-test)                                   2.97  (1.26)   \n",
       " asc_cycle_male (t-test)                 1.05  (5.01)      1.06  (5.03)   \n",
       " asc_drive_male (t-test)              -0.226  (-2.23)   -0.225  (-2.22)   \n",
       " asc_pt_male (t-test)                  -0.375  (-3.5)    -0.37  (-3.42)   \n",
       " beta_cost_male (t-test)                                                  \n",
       " asc_drive_3bis (t-test)                                                  \n",
       " asc_drive_3bis_male (t-test)                                             \n",
       " beta_cost_3bis (t-test)                                                  \n",
       " beta_time_cycle_3bis (t-test)                                            \n",
       " beta_time_drive_3bis (t-test)                                            \n",
       " beta_time_pt_3bis (t-test)                                               \n",
       " beta_time_pt_3bis_squarred (t-test)                                      \n",
       " beta_time_walk_3bis (t-test)                                             \n",
       " beta_time_pt_33_squarred (t-test)                                        \n",
       " beta_elapsed_cycle (t-test)           -3.32  (-12.4)     -5.5  (-2.62)   \n",
       " beta_elapsed_time_drive (t-test)       -3.3  (-12.4)    -5.41  (-2.25)   \n",
       " beta_elapsed_time_pt (t-test)         -2.64  (-14.4)    -2.44  (-2.37)   \n",
       " beta_elapsed_walk (t-test)            -5.45  (-21.5)     -8.19  (-3.3)   \n",
       " lambda_boxcox (t-test)                 0.269  (5.39)      0.45  (3.29)   \n",
       " Mu_Drive (t-test)                                                        \n",
       " Mu_PT (t-test)                                                           \n",
       " Mu_SoftModes (t-test)                                                    \n",
       " Mu_not_vehicle (t-test)                                                  \n",
       " Mu_vehicle (t-test)                                                      \n",
       " \n",
       "                                            Nestmodes Model_nested_vehicle  \n",
       " Number of estimated parameters                    15                   14  \n",
       " Sample size                                     5000                 5000  \n",
       " Final log likelihood                    -4149.661795         -4156.794116  \n",
       " Akaike Information Criterion             8329.323589          8341.588233  \n",
       " Bayesian Information Criterion           8427.081487          8432.828937  \n",
       " asc_cycle (t-test)                    -2.96  (-7.88)       -2.35  (-2.45)  \n",
       " asc_drive (t-test)                     0.295  (1.24)        0.523  (1.01)  \n",
       " asc_pt (t-test)                         2.18  (11.1)         2.08  (7.07)  \n",
       " beta_cost (t-test)                   -0.172  (-10.9)      -0.153  (-5.51)  \n",
       " beta_time (t-test)                                                         \n",
       " beta_time_cycle (t-test)                                                   \n",
       " beta_time_drive (t-test)                                                   \n",
       " beta_time_pt (t-test)                                                      \n",
       " beta_time_walk (t-test)                                                    \n",
       " asc_cycle_male (t-test)                  1.57  (4.5)        0.899  (3.62)  \n",
       " asc_drive_male (t-test)              -0.148  (-1.33)      -0.222  (-2.22)  \n",
       " asc_pt_male (t-test)                 -0.291  (-2.49)      -0.352  (-3.29)  \n",
       " beta_cost_male (t-test)                                                    \n",
       " asc_drive_3bis (t-test)                                                    \n",
       " asc_drive_3bis_male (t-test)                                               \n",
       " beta_cost_3bis (t-test)                                                    \n",
       " beta_time_cycle_3bis (t-test)                                              \n",
       " beta_time_drive_3bis (t-test)                                              \n",
       " beta_time_pt_3bis (t-test)                                                 \n",
       " beta_time_pt_3bis_squarred (t-test)                                        \n",
       " beta_time_walk_3bis (t-test)                                               \n",
       " beta_time_pt_33_squarred (t-test)                                          \n",
       " beta_elapsed_cycle (t-test)           -2.58  (-7.86)       -2.88  (-5.49)  \n",
       " beta_elapsed_time_drive (t-test)      -3.59  (-12.7)       -2.87  (-5.58)  \n",
       " beta_elapsed_time_pt (t-test)          -2.8  (-14.8)       -2.32  (-6.11)  \n",
       " beta_elapsed_walk (t-test)                 -6  (-21)       -5.15  (-12.6)  \n",
       " lambda_boxcox (t-test)                 0.318  (6.34)         0.25  (4.64)  \n",
       " Mu_Drive (t-test)                      1  (8.99e+14)                       \n",
       " Mu_PT (t-test)                         1  (8.45e+13)                       \n",
       " Mu_SoftModes (t-test)                  0.604  (7.89)                       \n",
       " Mu_not_vehicle (t-test)                                    1  (5.56e-309)  \n",
       " Mu_vehicle (t-test)                                          1.14  (6.68)  ,\n",
       " {'Model0': 'Model0',\n",
       "  'Model1': 'Model1',\n",
       "  'Model2': 'Model2',\n",
       "  'Model2_2': 'Model2_2',\n",
       "  'Model_3bis': 'Model_3bis',\n",
       "  'Model_33': 'Model_33',\n",
       "  'Model_3': 'Model_3',\n",
       "  'Model_generic': 'Model_generic',\n",
       "  'Nestmodes': 'Nestmodes',\n",
       "  'Model_nested_vehicle': 'Model_nested_vehicle'})"
      ]
     },
     "execution_count": 61,
     "metadata": {},
     "output_type": "execute_result"
    }
   ],
   "source": [
    "res.compileEstimationResults(all_results)"
   ]
  },
  {
   "cell_type": "code",
   "execution_count": 62,
   "metadata": {
    "execution": {
     "iopub.execute_input": "2023-12-16T14:03:55.984726Z",
     "iopub.status.busy": "2023-12-16T14:03:55.984382Z",
     "iopub.status.idle": "2023-12-16T14:03:57.521557Z",
     "shell.execute_reply": "2023-12-16T14:03:57.519915Z",
     "shell.execute_reply.started": "2023-12-16T14:03:55.984697Z"
    },
    "scrolled": true,
    "tags": []
   },
   "outputs": [
    {
     "data": {
      "text/plain": [
       "LRTuple(message='H0 cannot be rejected at level 5.0%', statistic=0.904499968066375, threshold=5.991464547107979)"
      ]
     },
     "execution_count": 62,
     "metadata": {},
     "output_type": "execute_result"
    }
   ],
   "source": [
    "results_base=model_base.estimate()\n",
    "results_model_nestedvehicle.likelihood_ratio_test(results_base, 0.05)"
   ]
  },
  {
   "cell_type": "markdown",
   "metadata": {},
   "source": [
    "So the model pref keeps being Model_3 (Box-cox transformation)"
   ]
  },
  {
   "cell_type": "markdown",
   "metadata": {},
   "source": [
    "## Market Shares"
   ]
  },
  {
   "cell_type": "markdown",
   "metadata": {},
   "source": [
    "The census data report the following number $N_g$ of individuals in each segment $g$."
   ]
  },
  {
   "cell_type": "code",
   "execution_count": 63,
   "metadata": {
    "execution": {
     "iopub.execute_input": "2023-12-16T14:03:57.523923Z",
     "iopub.status.busy": "2023-12-16T14:03:57.523454Z",
     "iopub.status.idle": "2023-12-16T14:03:57.531026Z",
     "shell.execute_reply": "2023-12-16T14:03:57.529734Z",
     "shell.execute_reply.started": "2023-12-16T14:03:57.523878Z"
    },
    "tags": []
   },
   "outputs": [],
   "source": [
    "census = {\n",
    "    'male_45_more':  1379198,\n",
    "    'male_45_less':  2926408,\n",
    "    'female_45_more':   1519948,\n",
    "    'female_45_less':  2841376,\n",
    "}"
   ]
  },
  {
   "cell_type": "markdown",
   "metadata": {},
   "source": [
    "The total size $N$ of the population is the sum over all segments."
   ]
  },
  {
   "cell_type": "code",
   "execution_count": 64,
   "metadata": {
    "execution": {
     "iopub.execute_input": "2023-12-16T14:03:57.532960Z",
     "iopub.status.busy": "2023-12-16T14:03:57.532627Z",
     "iopub.status.idle": "2023-12-16T14:03:57.676224Z",
     "shell.execute_reply": "2023-12-16T14:03:57.674604Z",
     "shell.execute_reply.started": "2023-12-16T14:03:57.532930Z"
    },
    "tags": []
   },
   "outputs": [
    {
     "data": {
      "text/plain": [
       "8666930"
      ]
     },
     "execution_count": 64,
     "metadata": {},
     "output_type": "execute_result"
    }
   ],
   "source": [
    "total = sum(census.values())\n",
    "total"
   ]
  },
  {
   "cell_type": "markdown",
   "metadata": {},
   "source": [
    "Identify each segment in the database."
   ]
  },
  {
   "cell_type": "code",
   "execution_count": 65,
   "metadata": {
    "execution": {
     "iopub.execute_input": "2023-12-16T14:03:57.680000Z",
     "iopub.status.busy": "2023-12-16T14:03:57.679118Z",
     "iopub.status.idle": "2023-12-16T14:03:57.744573Z",
     "shell.execute_reply": "2023-12-16T14:03:57.742661Z",
     "shell.execute_reply.started": "2023-12-16T14:03:57.679916Z"
    },
    "tags": []
   },
   "outputs": [],
   "source": [
    "filters = {\n",
    "    'male_45_more': (LPMC.age >=45) & (LPMC.female == 0),\n",
    "    'male_45_less': (LPMC.age < 45) & (LPMC.female == 0),\n",
    "    'female_45_more': (LPMC.age >= 45) & (LPMC.female == 1),\n",
    "    'female_45_less': (LPMC.age < 45) & (LPMC.female == 1),\n",
    "}"
   ]
  },
  {
   "cell_type": "markdown",
   "metadata": {},
   "source": [
    "We count the number \n",
    "$S_g$ of individuals in each segment $g$ in the sample."
   ]
  },
  {
   "cell_type": "code",
   "execution_count": 66,
   "metadata": {
    "execution": {
     "iopub.execute_input": "2023-12-16T14:03:57.746982Z",
     "iopub.status.busy": "2023-12-16T14:03:57.746500Z",
     "iopub.status.idle": "2023-12-16T14:03:57.788348Z",
     "shell.execute_reply": "2023-12-16T14:03:57.786693Z",
     "shell.execute_reply.started": "2023-12-16T14:03:57.746938Z"
    },
    "tags": []
   },
   "outputs": [
    {
     "data": {
      "text/plain": [
       "{'male_45_more': 903,\n",
       " 'male_45_less': 1436,\n",
       " 'female_45_more': 997,\n",
       " 'female_45_less': 1664}"
      ]
     },
     "execution_count": 66,
     "metadata": {},
     "output_type": "execute_result"
    }
   ],
   "source": [
    "\n",
    "sample_segments = {\n",
    "    k: v.sum() for k, v in filters.items()\n",
    "}\n",
    "sample_segments"
   ]
  },
  {
   "cell_type": "markdown",
   "metadata": {},
   "source": [
    "We check the total sample size $S$."
   ]
  },
  {
   "cell_type": "code",
   "execution_count": 67,
   "metadata": {
    "execution": {
     "iopub.execute_input": "2023-12-16T14:03:57.790712Z",
     "iopub.status.busy": "2023-12-16T14:03:57.790260Z",
     "iopub.status.idle": "2023-12-16T14:03:57.827185Z",
     "shell.execute_reply": "2023-12-16T14:03:57.825312Z",
     "shell.execute_reply.started": "2023-12-16T14:03:57.790669Z"
    },
    "tags": []
   },
   "outputs": [
    {
     "data": {
      "text/plain": [
       "5000"
      ]
     },
     "execution_count": 67,
     "metadata": {},
     "output_type": "execute_result"
    }
   ],
   "source": [
    "total_sample = sum(sample_segments.values())\n",
    "total_sample"
   ]
  },
  {
   "cell_type": "markdown",
   "metadata": {},
   "source": [
    "The weight $w_g$ associated with segment $g$ is defined as\n",
    "$$\n",
    "w_g = \\frac{N_g}{N}\\frac{S}{S_g}.\n",
    "$$"
   ]
  },
  {
   "cell_type": "code",
   "execution_count": 68,
   "metadata": {
    "execution": {
     "iopub.execute_input": "2023-12-16T14:03:57.829242Z",
     "iopub.status.busy": "2023-12-16T14:03:57.828890Z",
     "iopub.status.idle": "2023-12-16T14:03:57.873218Z",
     "shell.execute_reply": "2023-12-16T14:03:57.871170Z",
     "shell.execute_reply.started": "2023-12-16T14:03:57.829208Z"
    },
    "tags": []
   },
   "outputs": [
    {
     "data": {
      "text/plain": [
       "{'male_45_more': 0.881137295471826,\n",
       " 'male_45_less': 1.17566922738916,\n",
       " 'female_45_more': 0.8795049485193039,\n",
       " 'female_45_less': 0.9850995060002171}"
      ]
     },
     "execution_count": 68,
     "metadata": {},
     "output_type": "execute_result"
    }
   ],
   "source": [
    "weights = {\n",
    "    k: census[k] * total_sample / (v * total) \n",
    "    for k, v in sample_segments.items()\n",
    "}\n",
    "weights"
   ]
  },
  {
   "cell_type": "markdown",
   "metadata": {},
   "source": [
    "We insert the weight as a new column in the database."
   ]
  },
  {
   "cell_type": "code",
   "execution_count": 69,
   "metadata": {
    "execution": {
     "iopub.execute_input": "2023-12-16T14:03:57.875759Z",
     "iopub.status.busy": "2023-12-16T14:03:57.875227Z",
     "iopub.status.idle": "2023-12-16T14:03:57.916821Z",
     "shell.execute_reply": "2023-12-16T14:03:57.914927Z",
     "shell.execute_reply.started": "2023-12-16T14:03:57.875710Z"
    },
    "tags": []
   },
   "outputs": [],
   "source": [
    "for k, f in filters.items():\n",
    "    LPMC.loc[f, 'Weight'] = weights[k] "
   ]
  },
  {
   "cell_type": "markdown",
   "metadata": {},
   "source": [
    "We check that the sum of the weights is the sample size."
   ]
  },
  {
   "cell_type": "code",
   "execution_count": 70,
   "metadata": {
    "execution": {
     "iopub.execute_input": "2023-12-16T14:03:57.925798Z",
     "iopub.status.busy": "2023-12-16T14:03:57.925403Z",
     "iopub.status.idle": "2023-12-16T14:03:57.955205Z",
     "shell.execute_reply": "2023-12-16T14:03:57.953525Z",
     "shell.execute_reply.started": "2023-12-16T14:03:57.925740Z"
    },
    "tags": []
   },
   "outputs": [
    {
     "data": {
      "text/plain": [
       "5000.0"
      ]
     },
     "execution_count": 70,
     "metadata": {},
     "output_type": "execute_result"
    }
   ],
   "source": [
    "sum_weights = LPMC['Weight'].sum()\n",
    "sum_weights"
   ]
  },
  {
   "cell_type": "markdown",
   "metadata": {},
   "source": [
    "It is equal."
   ]
  },
  {
   "cell_type": "markdown",
   "metadata": {},
   "source": [
    "#### Perform sample enumeration"
   ]
  },
  {
   "cell_type": "markdown",
   "metadata": {},
   "source": [
    "The goal is to estimate predicted shares using the formula :\n",
    "    $$Ŵ(i) = \\frac{1}{S}\\sum_{n=1}^{S}w_n*P(i|x_n; θ)$$"
   ]
  },
  {
   "cell_type": "markdown",
   "metadata": {},
   "source": [
    "First we need to obtain $P(i|x_n; θ)$ for each option $i$"
   ]
  },
  {
   "cell_type": "markdown",
   "metadata": {},
   "source": [
    "Using Model 3 ( the preferred model so far ) and the logit model $$ P(i|x_n; θ)= \\frac{exp(V_{in})}{\\sum_{j \\in C}{exp(V_{jn})}}$$ where $\\mu$ is normalized to 1."
   ]
  },
  {
   "cell_type": "code",
   "execution_count": 71,
   "metadata": {
    "execution": {
     "iopub.execute_input": "2023-12-16T14:03:57.957336Z",
     "iopub.status.busy": "2023-12-16T14:03:57.956874Z",
     "iopub.status.idle": "2023-12-16T14:03:58.019053Z",
     "shell.execute_reply": "2023-12-16T14:03:58.017167Z",
     "shell.execute_reply.started": "2023-12-16T14:03:57.957294Z"
    },
    "tags": []
   },
   "outputs": [],
   "source": [
    "prob_walk =  exp(v_walk_model3) /( exp(v_walk_model3)+ exp(v_drive_model3)+exp(v_pt_model3)+exp(v_cycle_model3))\n",
    "prob_drive = exp(v_drive_model3) /( exp(v_walk_model3)+ exp(v_drive_model3)+exp(v_pt_model3)+exp(v_cycle_model3))\n",
    "prob_cycle = exp(v_cycle_model3) /( exp(v_walk_model3)+ exp(v_drive_model3)+exp(v_pt_model3)+exp(v_cycle_model3))\n",
    "prob_pt =  exp(v_pt_model3) /( exp(v_walk_model3)+ exp(v_drive_model3)+exp(v_pt_model3)+exp(v_cycle_model3))"
   ]
  },
  {
   "cell_type": "markdown",
   "metadata": {},
   "source": [
    "We calculate the choice probability of each alternative for each observation. We include the weight in the simulation results."
   ]
  },
  {
   "cell_type": "code",
   "execution_count": 72,
   "metadata": {
    "execution": {
     "iopub.execute_input": "2023-12-16T14:03:58.021380Z",
     "iopub.status.busy": "2023-12-16T14:03:58.020846Z",
     "iopub.status.idle": "2023-12-16T14:03:58.060430Z",
     "shell.execute_reply": "2023-12-16T14:03:58.058388Z",
     "shell.execute_reply.started": "2023-12-16T14:03:58.021330Z"
    },
    "tags": []
   },
   "outputs": [],
   "source": [
    "Weight = Variable('Weight')"
   ]
  },
  {
   "cell_type": "code",
   "execution_count": 73,
   "metadata": {
    "execution": {
     "iopub.execute_input": "2023-12-16T14:03:58.063251Z",
     "iopub.status.busy": "2023-12-16T14:03:58.062687Z",
     "iopub.status.idle": "2023-12-16T14:03:58.147540Z",
     "shell.execute_reply": "2023-12-16T14:03:58.145737Z",
     "shell.execute_reply.started": "2023-12-16T14:03:58.063196Z"
    },
    "tags": []
   },
   "outputs": [],
   "source": [
    "simulate = {\n",
    "    'Weight': Weight,\n",
    "    'Prob. walk': prob_walk,\n",
    "    'Prob. drive': prob_drive,\n",
    "    'Prob. cycle': prob_cycle,\n",
    "    'Prob. pt': prob_pt,    \n",
    "}"
   ]
  },
  {
   "cell_type": "code",
   "execution_count": 74,
   "metadata": {
    "execution": {
     "iopub.execute_input": "2023-12-16T14:03:58.149505Z",
     "iopub.status.busy": "2023-12-16T14:03:58.149073Z",
     "iopub.status.idle": "2023-12-16T14:03:58.487648Z",
     "shell.execute_reply": "2023-12-16T14:03:58.485663Z",
     "shell.execute_reply.started": "2023-12-16T14:03:58.149462Z"
    },
    "tags": []
   },
   "outputs": [],
   "source": [
    "database = db.Database('LPMC',  LPMC)\n",
    "biosim = bio.BIOGEME(database, simulate)\n",
    "simulated_values = biosim.simulate(results_model3.getBetaValues())"
   ]
  },
  {
   "cell_type": "code",
   "execution_count": 75,
   "metadata": {
    "execution": {
     "iopub.execute_input": "2023-12-16T14:03:58.490486Z",
     "iopub.status.busy": "2023-12-16T14:03:58.489850Z",
     "iopub.status.idle": "2023-12-16T14:03:58.588746Z",
     "shell.execute_reply": "2023-12-16T14:03:58.587516Z",
     "shell.execute_reply.started": "2023-12-16T14:03:58.490369Z"
    },
    "tags": []
   },
   "outputs": [
    {
     "data": {
      "text/html": [
       "<div>\n",
       "<style scoped>\n",
       "    .dataframe tbody tr th:only-of-type {\n",
       "        vertical-align: middle;\n",
       "    }\n",
       "\n",
       "    .dataframe tbody tr th {\n",
       "        vertical-align: top;\n",
       "    }\n",
       "\n",
       "    .dataframe thead th {\n",
       "        text-align: right;\n",
       "    }\n",
       "</style>\n",
       "<table border=\"1\" class=\"dataframe\">\n",
       "  <thead>\n",
       "    <tr style=\"text-align: right;\">\n",
       "      <th></th>\n",
       "      <th>Weight</th>\n",
       "      <th>Prob. walk</th>\n",
       "      <th>Prob. drive</th>\n",
       "      <th>Prob. cycle</th>\n",
       "      <th>Prob. pt</th>\n",
       "    </tr>\n",
       "  </thead>\n",
       "  <tbody>\n",
       "    <tr>\n",
       "      <th>0</th>\n",
       "      <td>0.879505</td>\n",
       "      <td>0.001361</td>\n",
       "      <td>0.231612</td>\n",
       "      <td>0.010645</td>\n",
       "      <td>0.756383</td>\n",
       "    </tr>\n",
       "    <tr>\n",
       "      <th>1</th>\n",
       "      <td>0.881137</td>\n",
       "      <td>0.000098</td>\n",
       "      <td>0.199560</td>\n",
       "      <td>0.020165</td>\n",
       "      <td>0.780177</td>\n",
       "    </tr>\n",
       "    <tr>\n",
       "      <th>2</th>\n",
       "      <td>1.175669</td>\n",
       "      <td>0.029810</td>\n",
       "      <td>0.441930</td>\n",
       "      <td>0.037850</td>\n",
       "      <td>0.490410</td>\n",
       "    </tr>\n",
       "    <tr>\n",
       "      <th>3</th>\n",
       "      <td>1.175669</td>\n",
       "      <td>0.586454</td>\n",
       "      <td>0.203986</td>\n",
       "      <td>0.027478</td>\n",
       "      <td>0.182082</td>\n",
       "    </tr>\n",
       "    <tr>\n",
       "      <th>4</th>\n",
       "      <td>0.879505</td>\n",
       "      <td>0.413058</td>\n",
       "      <td>0.343854</td>\n",
       "      <td>0.017955</td>\n",
       "      <td>0.225134</td>\n",
       "    </tr>\n",
       "    <tr>\n",
       "      <th>...</th>\n",
       "      <td>...</td>\n",
       "      <td>...</td>\n",
       "      <td>...</td>\n",
       "      <td>...</td>\n",
       "      <td>...</td>\n",
       "    </tr>\n",
       "    <tr>\n",
       "      <th>4995</th>\n",
       "      <td>1.175669</td>\n",
       "      <td>0.449571</td>\n",
       "      <td>0.387903</td>\n",
       "      <td>0.044240</td>\n",
       "      <td>0.118286</td>\n",
       "    </tr>\n",
       "    <tr>\n",
       "      <th>4996</th>\n",
       "      <td>1.175669</td>\n",
       "      <td>0.000237</td>\n",
       "      <td>0.859189</td>\n",
       "      <td>0.010705</td>\n",
       "      <td>0.129868</td>\n",
       "    </tr>\n",
       "    <tr>\n",
       "      <th>4997</th>\n",
       "      <td>1.175669</td>\n",
       "      <td>0.105457</td>\n",
       "      <td>0.717433</td>\n",
       "      <td>0.063042</td>\n",
       "      <td>0.114069</td>\n",
       "    </tr>\n",
       "    <tr>\n",
       "      <th>4998</th>\n",
       "      <td>0.879505</td>\n",
       "      <td>0.123393</td>\n",
       "      <td>0.532409</td>\n",
       "      <td>0.026802</td>\n",
       "      <td>0.317395</td>\n",
       "    </tr>\n",
       "    <tr>\n",
       "      <th>4999</th>\n",
       "      <td>1.175669</td>\n",
       "      <td>0.002112</td>\n",
       "      <td>0.711794</td>\n",
       "      <td>0.020129</td>\n",
       "      <td>0.265964</td>\n",
       "    </tr>\n",
       "  </tbody>\n",
       "</table>\n",
       "<p>5000 rows × 5 columns</p>\n",
       "</div>"
      ],
      "text/plain": [
       "        Weight  Prob. walk  Prob. drive  Prob. cycle  Prob. pt\n",
       "0     0.879505    0.001361     0.231612     0.010645  0.756383\n",
       "1     0.881137    0.000098     0.199560     0.020165  0.780177\n",
       "2     1.175669    0.029810     0.441930     0.037850  0.490410\n",
       "3     1.175669    0.586454     0.203986     0.027478  0.182082\n",
       "4     0.879505    0.413058     0.343854     0.017955  0.225134\n",
       "...        ...         ...          ...          ...       ...\n",
       "4995  1.175669    0.449571     0.387903     0.044240  0.118286\n",
       "4996  1.175669    0.000237     0.859189     0.010705  0.129868\n",
       "4997  1.175669    0.105457     0.717433     0.063042  0.114069\n",
       "4998  0.879505    0.123393     0.532409     0.026802  0.317395\n",
       "4999  1.175669    0.002112     0.711794     0.020129  0.265964\n",
       "\n",
       "[5000 rows x 5 columns]"
      ]
     },
     "execution_count": 75,
     "metadata": {},
     "output_type": "execute_result"
    }
   ],
   "source": [
    "simulated_values\n"
   ]
  },
  {
   "cell_type": "markdown",
   "metadata": {},
   "source": [
    "Market shares are calculated using the weighted mean of the\n",
    "individual probabilities."
   ]
  },
  {
   "cell_type": "code",
   "execution_count": 76,
   "metadata": {
    "execution": {
     "iopub.execute_input": "2023-12-16T14:03:58.590838Z",
     "iopub.status.busy": "2023-12-16T14:03:58.589953Z",
     "iopub.status.idle": "2023-12-16T14:03:58.673318Z",
     "shell.execute_reply": "2023-12-16T14:03:58.672024Z",
     "shell.execute_reply.started": "2023-12-16T14:03:58.590801Z"
    },
    "tags": []
   },
   "outputs": [],
   "source": [
    "simulated_values['Weighted walk'] = (\n",
    "    simulated_values['Weight'] * \n",
    "    simulated_values['Prob. walk']\n",
    ")\n",
    "simulated_values['Weighted drive'] = (\n",
    "    simulated_values['Weight'] * \n",
    "    simulated_values['Prob. drive']\n",
    ")\n",
    "simulated_values['Weighted cycle'] = (\n",
    "    simulated_values['Weight'] * \n",
    "    simulated_values['Prob. cycle']\n",
    ")\n",
    "simulated_values['Weighted pt'] = (\n",
    "    simulated_values['Weight'] * \n",
    "    simulated_values['Prob. pt']\n",
    ")"
   ]
  },
  {
   "cell_type": "code",
   "execution_count": 77,
   "metadata": {
    "execution": {
     "iopub.execute_input": "2023-12-16T14:03:58.675471Z",
     "iopub.status.busy": "2023-12-16T14:03:58.674577Z",
     "iopub.status.idle": "2023-12-16T14:03:58.829814Z",
     "shell.execute_reply": "2023-12-16T14:03:58.828213Z",
     "shell.execute_reply.started": "2023-12-16T14:03:58.675432Z"
    },
    "tags": []
   },
   "outputs": [
    {
     "name": "stdout",
     "output_type": "stream",
     "text": [
      "Market share for walk: 17.8%\n",
      "Market share for drive: 43.0%\n",
      "Market share for cycle: 3.0%\n",
      "Market share for pt: 36.2%\n",
      "0.1780234921267555\n",
      "0.4295051344710808\n"
     ]
    }
   ],
   "source": [
    "market_share_walk = simulated_values['Weighted walk'].mean()\n",
    "print(f'Market share for walk: {100*market_share_walk:.1f}%')\n",
    "market_share_drive = simulated_values['Weighted drive'].mean()\n",
    "print(f'Market share for drive: {100*market_share_drive:.1f}%')\n",
    "market_share_cycle = simulated_values['Weighted cycle'].mean()\n",
    "print(f'Market share for cycle: {100*market_share_cycle:.1f}%')\n",
    "market_share_pt = simulated_values['Weighted pt'].mean()\n",
    "print(f'Market share for pt: {100*market_share_pt:.1f}%')\n",
    "\n",
    "print(market_share_walk)\n",
    "print(market_share_drive)\n",
    "\n"
   ]
  },
  {
   "cell_type": "markdown",
   "metadata": {},
   "source": [
    "#### Perform sample enumeration"
   ]
  },
  {
   "cell_type": "markdown",
   "metadata": {},
   "source": [
    "In order to calculate confidence intervals, we need to re-estimate the parameters using bootstrapping."
   ]
  },
  {
   "cell_type": "code",
   "execution_count": 78,
   "metadata": {
    "execution": {
     "iopub.execute_input": "2023-12-16T14:03:58.832176Z",
     "iopub.status.busy": "2023-12-16T14:03:58.831762Z",
     "iopub.status.idle": "2023-12-16T14:11:01.964256Z",
     "shell.execute_reply": "2023-12-16T14:11:01.962236Z",
     "shell.execute_reply.started": "2023-12-16T14:03:58.832141Z"
    },
    "tags": []
   },
   "outputs": [
    {
     "name": "stderr",
     "output_type": "stream",
     "text": [
      "You have not defined a name for the model. The output files are named from the model name. The default is [biogemeModelDefaultName]\n",
      "100%|██████████| 100/100 [07:00<00:00,  4.21s/it]\n"
     ]
    }
   ],
   "source": [
    "biogeme_model3 = bio.BIOGEME(database, logprob_model3)\n",
    "biogeme_model3.bootstrap_samples=100\n",
    "results_bootstrapping = biogeme_model3.estimate(run_bootstrap=True)"
   ]
  },
  {
   "cell_type": "markdown",
   "metadata": {},
   "source": [
    "We obtain a sample of values for the parameters. We use then to calculate empirically (that is, using simulation), the 90% confidence intervals on the simulated quantities."
   ]
  },
  {
   "cell_type": "code",
   "execution_count": 79,
   "metadata": {
    "execution": {
     "iopub.execute_input": "2023-12-16T14:15:39.813574Z",
     "iopub.status.busy": "2023-12-16T14:15:39.812650Z",
     "iopub.status.idle": "2023-12-16T14:15:39.851338Z",
     "shell.execute_reply": "2023-12-16T14:15:39.849408Z",
     "shell.execute_reply.started": "2023-12-16T14:15:39.813483Z"
    },
    "tags": []
   },
   "outputs": [
    {
     "name": "stderr",
     "output_type": "stream",
     "text": [
      "The syntax \"freeBetaNames\" is deprecated and is replaced by the syntax \"free_beta_names\".\n"
     ]
    }
   ],
   "source": [
    "betas = biogeme_model3.freeBetaNames()\n",
    "b = results_bootstrapping.getBetasForSensitivityAnalysis(betas, useBootstrap = False)"
   ]
  },
  {
   "cell_type": "code",
   "execution_count": 80,
   "metadata": {
    "execution": {
     "iopub.execute_input": "2023-12-16T14:15:39.990813Z",
     "iopub.status.busy": "2023-12-16T14:15:39.990177Z",
     "iopub.status.idle": "2023-12-16T14:16:08.776117Z",
     "shell.execute_reply": "2023-12-16T14:16:08.774788Z",
     "shell.execute_reply.started": "2023-12-16T14:15:39.990755Z"
    },
    "tags": []
   },
   "outputs": [],
   "source": [
    "left, right = biosim.confidenceIntervals(b, 0.9)"
   ]
  },
  {
   "cell_type": "code",
   "execution_count": 81,
   "metadata": {
    "execution": {
     "iopub.execute_input": "2023-12-16T14:16:08.777990Z",
     "iopub.status.busy": "2023-12-16T14:16:08.777697Z",
     "iopub.status.idle": "2023-12-16T14:16:08.787989Z",
     "shell.execute_reply": "2023-12-16T14:16:08.786759Z",
     "shell.execute_reply.started": "2023-12-16T14:16:08.777963Z"
    },
    "tags": []
   },
   "outputs": [],
   "source": [
    "left['Weighted walk'] = (\n",
    "    left['Weight'] * \n",
    "    left['Prob. walk']\n",
    ")\n",
    "left['Weighted drive'] = (\n",
    "    left['Weight'] * \n",
    "    left['Prob. drive']\n",
    ")\n",
    "left['Weighted pt'] = (\n",
    "    left['Weight'] * \n",
    "    left['Prob. pt']\n",
    ")\n",
    "left['Weighted cycle'] = (\n",
    "    left['Weight'] * \n",
    "    left['Prob. cycle']\n",
    ")"
   ]
  },
  {
   "cell_type": "code",
   "execution_count": 82,
   "metadata": {
    "execution": {
     "iopub.execute_input": "2023-12-16T14:16:08.789315Z",
     "iopub.status.busy": "2023-12-16T14:16:08.789040Z",
     "iopub.status.idle": "2023-12-16T14:16:08.835976Z",
     "shell.execute_reply": "2023-12-16T14:16:08.834418Z",
     "shell.execute_reply.started": "2023-12-16T14:16:08.789274Z"
    },
    "tags": []
   },
   "outputs": [],
   "source": [
    "left_market_share_walk = left['Weighted walk'].mean()\n",
    "left_market_share_drive = left['Weighted drive'].mean()\n",
    "left_market_share_pt = left['Weighted pt'].mean()\n",
    "left_market_share_cycle = left['Weighted cycle'].mean()"
   ]
  },
  {
   "cell_type": "code",
   "execution_count": 83,
   "metadata": {
    "execution": {
     "iopub.execute_input": "2023-12-16T14:16:08.840302Z",
     "iopub.status.busy": "2023-12-16T14:16:08.839867Z",
     "iopub.status.idle": "2023-12-16T14:16:08.917694Z",
     "shell.execute_reply": "2023-12-16T14:16:08.916190Z",
     "shell.execute_reply.started": "2023-12-16T14:16:08.840263Z"
    },
    "tags": []
   },
   "outputs": [],
   "source": [
    "right['Weighted walk'] = (\n",
    "    right['Weight'] * \n",
    "    right['Prob. walk']\n",
    ")\n",
    "right['Weighted drive'] = (\n",
    "    right['Weight'] * \n",
    "    right['Prob. drive']\n",
    ")\n",
    "right['Weighted pt'] = (\n",
    "    right['Weight'] * \n",
    "    right['Prob. pt']\n",
    ")\n",
    "right['Weighted cycle'] = (\n",
    "    right['Weight'] * \n",
    "    right['Prob. cycle']\n",
    ")"
   ]
  },
  {
   "cell_type": "code",
   "execution_count": 84,
   "metadata": {
    "execution": {
     "iopub.execute_input": "2023-12-16T14:16:08.919472Z",
     "iopub.status.busy": "2023-12-16T14:16:08.919100Z",
     "iopub.status.idle": "2023-12-16T14:16:08.963842Z",
     "shell.execute_reply": "2023-12-16T14:16:08.962225Z",
     "shell.execute_reply.started": "2023-12-16T14:16:08.919438Z"
    },
    "tags": []
   },
   "outputs": [],
   "source": [
    "right_market_share_walk = right['Weighted walk'].mean()\n",
    "right_market_share_drive = right['Weighted drive'].mean()\n",
    "right_market_share_pt = right['Weighted pt'].mean()\n",
    "right_market_share_cycle = right['Weighted cycle'].mean()\n"
   ]
  },
  {
   "cell_type": "code",
   "execution_count": 85,
   "metadata": {
    "execution": {
     "iopub.execute_input": "2023-12-16T14:16:08.965473Z",
     "iopub.status.busy": "2023-12-16T14:16:08.965059Z",
     "iopub.status.idle": "2023-12-16T14:16:09.119983Z",
     "shell.execute_reply": "2023-12-16T14:16:09.118148Z",
     "shell.execute_reply.started": "2023-12-16T14:16:08.965437Z"
    },
    "tags": []
   },
   "outputs": [
    {
     "name": "stdout",
     "output_type": "stream",
     "text": [
      "Market share for walking: 17.8% CI: [16.5%-18.9]\n",
      "Market share for driving: 43.0% CI: [40.6%-45.0]\n",
      "Market share for public transportation: 36.2% CI: [34.3%-38.4]\n",
      "Market share for cycling: 3.0% CI: [2.4%-3.9]\n"
     ]
    }
   ],
   "source": [
    "print(\n",
    "    f'Market share for walking: {100*market_share_walk:.1f}% '\n",
    "    f'CI: ['\n",
    "    f'{100*left_market_share_walk:.1f}%-'\n",
    "    f'{100*right_market_share_walk:.1f}'\n",
    "    f']'\n",
    ")\n",
    "print(\n",
    "    f'Market share for driving: {100*market_share_drive:.1f}% '\n",
    "    f'CI: ['\n",
    "    f'{100*left_market_share_drive:.1f}%-'\n",
    "    f'{100*right_market_share_drive:.1f}'\n",
    "    f']'\n",
    ")\n",
    "print(\n",
    "    f'Market share for public transportation: {100*market_share_pt:.1f}% '\n",
    "    f'CI: ['\n",
    "    f'{100*left_market_share_pt:.1f}%-'\n",
    "    f'{100*right_market_share_pt:.1f}'\n",
    "    f']'\n",
    ")\n",
    "print(\n",
    "    f'Market share for cycling: {100*market_share_cycle:.1f}% '\n",
    "    f'CI: ['\n",
    "    f'{100*left_market_share_cycle:.1f}%-'\n",
    "    f'{100*right_market_share_cycle:.1f}'\n",
    "    f']'\n",
    ")"
   ]
  },
  {
   "cell_type": "markdown",
   "metadata": {},
   "source": [
    "#### Comparing with the weighted market shares computed using the actual choices"
   ]
  },
  {
   "cell_type": "markdown",
   "metadata": {},
   "source": [
    "Instead of using the predictive Model we will use the actual choice of the individual from the sample and the weights computed earlier to calculate the Markets shares."
   ]
  },
  {
   "cell_type": "code",
   "execution_count": 86,
   "metadata": {
    "execution": {
     "iopub.execute_input": "2023-12-16T14:16:09.122467Z",
     "iopub.status.busy": "2023-12-16T14:16:09.121927Z",
     "iopub.status.idle": "2023-12-16T14:16:09.164786Z",
     "shell.execute_reply": "2023-12-16T14:16:09.163223Z",
     "shell.execute_reply.started": "2023-12-16T14:16:09.122418Z"
    },
    "tags": []
   },
   "outputs": [],
   "source": [
    "LPMC['walk']= (LPMC.travel_mode==1)\n",
    "LPMC['drive']= (LPMC.travel_mode==4)\n",
    "LPMC['cycle']=(LPMC.travel_mode==2)\n",
    "LPMC['pt']=(LPMC.travel_mode==3)"
   ]
  },
  {
   "cell_type": "code",
   "execution_count": 87,
   "metadata": {
    "execution": {
     "iopub.execute_input": "2023-12-16T14:16:09.166686Z",
     "iopub.status.busy": "2023-12-16T14:16:09.166273Z",
     "iopub.status.idle": "2023-12-16T14:16:09.211106Z",
     "shell.execute_reply": "2023-12-16T14:16:09.209599Z",
     "shell.execute_reply.started": "2023-12-16T14:16:09.166649Z"
    },
    "tags": []
   },
   "outputs": [],
   "source": [
    "LPMC ['Weighted walk real'] = (\n",
    "    LPMC ['Weight'] * \n",
    "    LPMC ['walk']\n",
    ")\n",
    "LPMC ['Weighted drive real'] = (\n",
    "    LPMC ['Weight'] * \n",
    "    LPMC ['drive']\n",
    ")\n",
    "LPMC ['Weighted cycle real'] = (\n",
    "    LPMC ['Weight'] * \n",
    "    LPMC ['cycle']\n",
    ")\n",
    "LPMC ['Weighted pt real'] = (\n",
    "    LPMC ['Weight'] * \n",
    "    LPMC ['pt']\n",
    ")"
   ]
  },
  {
   "cell_type": "code",
   "execution_count": 88,
   "metadata": {
    "execution": {
     "iopub.execute_input": "2023-12-16T14:16:09.212934Z",
     "iopub.status.busy": "2023-12-16T14:16:09.212521Z",
     "iopub.status.idle": "2023-12-16T14:16:09.267526Z",
     "shell.execute_reply": "2023-12-16T14:16:09.265836Z",
     "shell.execute_reply.started": "2023-12-16T14:16:09.212895Z"
    },
    "tags": []
   },
   "outputs": [
    {
     "name": "stdout",
     "output_type": "stream",
     "text": [
      "Market share for walking from the sample: 17.9%\n",
      "Market share for cycling from the sample: 3.1%\n",
      "Market share for driving from the sample: 42.6%\n",
      "Market share for public transport from the sample: 36.5%\n"
     ]
    }
   ],
   "source": [
    "market_share_walk_real = (LPMC['Weighted walk real'].sum())/5000\n",
    "print(f'Market share for walking from the sample: {100*market_share_walk_real:.1f}%')\n",
    "\n",
    "market_share_cycle_real = (LPMC['Weighted cycle real'].sum())/5000\n",
    "print(f'Market share for cycling from the sample: {100*market_share_cycle_real:.1f}%')\n",
    "\n",
    "market_share_drive_real = (LPMC['Weighted drive real'].sum())/5000\n",
    "print(f'Market share for driving from the sample: {100*market_share_drive_real:.1f}%')\n",
    "\n",
    "market_share_pt_real = (LPMC['Weighted pt real'].sum())/5000\n",
    "print(f'Market share for public transport from the sample: {100*market_share_pt_real:.1f}%')"
   ]
  },
  {
   "cell_type": "markdown",
   "metadata": {},
   "source": [
    "## Quick Data Cleaning"
   ]
  },
  {
   "cell_type": "markdown",
   "metadata": {},
   "source": [
    "We need to exlude the boolean variables created during the caluclation of market share because Jupyter can't simulate bolean"
   ]
  },
  {
   "cell_type": "code",
   "execution_count": 89,
   "metadata": {
    "execution": {
     "iopub.execute_input": "2023-12-16T14:16:09.272894Z",
     "iopub.status.busy": "2023-12-16T14:16:09.272524Z",
     "iopub.status.idle": "2023-12-16T14:16:09.306251Z",
     "shell.execute_reply": "2023-12-16T14:16:09.304460Z",
     "shell.execute_reply.started": "2023-12-16T14:16:09.272863Z"
    },
    "tags": []
   },
   "outputs": [],
   "source": [
    "my_cols = list(LPMC.columns)\n",
    " \n",
    "# removing the desired column\n",
    "my_cols.remove('walk')\n",
    "my_cols.remove('drive')\n",
    "my_cols.remove('cycle')\n",
    "my_cols.remove('pt')\n",
    "\n",
    "\n",
    "\n",
    "LPMC2 = LPMC[my_cols]"
   ]
  },
  {
   "cell_type": "markdown",
   "metadata": {},
   "source": [
    "# Forecasting"
   ]
  },
  {
   "cell_type": "markdown",
   "metadata": {},
   "source": [
    "### Scenario 1"
   ]
  },
  {
   "cell_type": "markdown",
   "metadata": {},
   "source": [
    "Taking Model pref ( model 3) implemantation of the first scenario, where the price for automobilist increase by 1.5£ "
   ]
  },
  {
   "cell_type": "code",
   "execution_count": 90,
   "metadata": {
    "execution": {
     "iopub.execute_input": "2023-12-16T14:16:09.308044Z",
     "iopub.status.busy": "2023-12-16T14:16:09.307652Z",
     "iopub.status.idle": "2023-12-16T14:16:09.369771Z",
     "shell.execute_reply": "2023-12-16T14:16:09.367804Z",
     "shell.execute_reply.started": "2023-12-16T14:16:09.308006Z"
    },
    "tags": []
   },
   "outputs": [],
   "source": [
    "\n",
    "v_drive_scenario1  = segmented_asc_drive + beta_elapsed_time_drive * boxcox_time_drive + beta_cost * (cost_drive+1.5)\n"
   ]
  },
  {
   "cell_type": "markdown",
   "metadata": {},
   "source": [
    "Using the same method as the one we used to compute the market share before, we update the probability : $P(i|x_n; θ)$ for each option $i$ "
   ]
  },
  {
   "cell_type": "code",
   "execution_count": 91,
   "metadata": {
    "execution": {
     "iopub.execute_input": "2023-12-16T14:16:09.372570Z",
     "iopub.status.busy": "2023-12-16T14:16:09.372026Z",
     "iopub.status.idle": "2023-12-16T14:16:09.413128Z",
     "shell.execute_reply": "2023-12-16T14:16:09.411459Z",
     "shell.execute_reply.started": "2023-12-16T14:16:09.372518Z"
    },
    "tags": []
   },
   "outputs": [],
   "source": [
    "prob_walk_s1 =  exp(v_walk_model3) /( exp(v_walk_model3)+ exp(v_drive_scenario1)+exp(v_pt_model3)+exp(v_cycle_model3))\n",
    "prob_drive_s1 = exp(v_drive_scenario1) /( exp(v_walk_model3)+ exp(v_drive_scenario1)+exp(v_pt_model3)+exp(v_cycle_model3))\n",
    "prob_cycle_s1 = exp(v_cycle_model3) /( exp(v_walk_model3)+ exp(v_drive_scenario1)+exp(v_pt_model3)+exp(v_cycle_model3))\n",
    "prob_pt_s1 =  exp(v_pt_model3) /( exp(v_walk_model3)+ exp(v_drive_scenario1)+exp(v_pt_model3)+exp(v_cycle_model3))"
   ]
  },
  {
   "cell_type": "markdown",
   "metadata": {},
   "source": [
    "Simulating the results"
   ]
  },
  {
   "cell_type": "code",
   "execution_count": 92,
   "metadata": {
    "execution": {
     "iopub.execute_input": "2023-12-16T14:16:09.415634Z",
     "iopub.status.busy": "2023-12-16T14:16:09.415128Z",
     "iopub.status.idle": "2023-12-16T14:16:09.451132Z",
     "shell.execute_reply": "2023-12-16T14:16:09.449294Z",
     "shell.execute_reply.started": "2023-12-16T14:16:09.415587Z"
    },
    "tags": []
   },
   "outputs": [],
   "source": [
    "simulate_1 = {\n",
    "    'Weight': Weight,\n",
    "    'Prob. walk s1': prob_walk_s1,\n",
    "    'Prob. drive s1': prob_drive_s1,\n",
    "    'Prob. cycle s1': prob_cycle_s1,\n",
    "    'Prob. pt s1': prob_pt_s1,    \n",
    "}\n"
   ]
  },
  {
   "cell_type": "code",
   "execution_count": 93,
   "metadata": {
    "execution": {
     "iopub.execute_input": "2023-12-16T14:16:09.453897Z",
     "iopub.status.busy": "2023-12-16T14:16:09.453269Z",
     "iopub.status.idle": "2023-12-16T14:16:09.808340Z",
     "shell.execute_reply": "2023-12-16T14:16:09.806712Z",
     "shell.execute_reply.started": "2023-12-16T14:16:09.453843Z"
    },
    "tags": []
   },
   "outputs": [
    {
     "data": {
      "text/html": [
       "<div>\n",
       "<style scoped>\n",
       "    .dataframe tbody tr th:only-of-type {\n",
       "        vertical-align: middle;\n",
       "    }\n",
       "\n",
       "    .dataframe tbody tr th {\n",
       "        vertical-align: top;\n",
       "    }\n",
       "\n",
       "    .dataframe thead th {\n",
       "        text-align: right;\n",
       "    }\n",
       "</style>\n",
       "<table border=\"1\" class=\"dataframe\">\n",
       "  <thead>\n",
       "    <tr style=\"text-align: right;\">\n",
       "      <th></th>\n",
       "      <th>Weight</th>\n",
       "      <th>Prob. walk s1</th>\n",
       "      <th>Prob. drive s1</th>\n",
       "      <th>Prob. cycle s1</th>\n",
       "      <th>Prob. pt s1</th>\n",
       "    </tr>\n",
       "  </thead>\n",
       "  <tbody>\n",
       "    <tr>\n",
       "      <th>0</th>\n",
       "      <td>0.879505</td>\n",
       "      <td>0.001438</td>\n",
       "      <td>0.188228</td>\n",
       "      <td>0.011246</td>\n",
       "      <td>0.799089</td>\n",
       "    </tr>\n",
       "    <tr>\n",
       "      <th>1</th>\n",
       "      <td>0.881137</td>\n",
       "      <td>0.000103</td>\n",
       "      <td>0.160923</td>\n",
       "      <td>0.021138</td>\n",
       "      <td>0.817837</td>\n",
       "    </tr>\n",
       "    <tr>\n",
       "      <th>2</th>\n",
       "      <td>1.175669</td>\n",
       "      <td>0.033195</td>\n",
       "      <td>0.378559</td>\n",
       "      <td>0.042148</td>\n",
       "      <td>0.546097</td>\n",
       "    </tr>\n",
       "    <tr>\n",
       "      <th>3</th>\n",
       "      <td>1.175669</td>\n",
       "      <td>0.615422</td>\n",
       "      <td>0.164668</td>\n",
       "      <td>0.028835</td>\n",
       "      <td>0.191075</td>\n",
       "    </tr>\n",
       "    <tr>\n",
       "      <th>4</th>\n",
       "      <td>0.879505</td>\n",
       "      <td>0.448655</td>\n",
       "      <td>0.287306</td>\n",
       "      <td>0.019502</td>\n",
       "      <td>0.244536</td>\n",
       "    </tr>\n",
       "    <tr>\n",
       "      <th>...</th>\n",
       "      <td>...</td>\n",
       "      <td>...</td>\n",
       "      <td>...</td>\n",
       "      <td>...</td>\n",
       "      <td>...</td>\n",
       "    </tr>\n",
       "    <tr>\n",
       "      <th>4995</th>\n",
       "      <td>1.175669</td>\n",
       "      <td>0.493767</td>\n",
       "      <td>0.327730</td>\n",
       "      <td>0.048589</td>\n",
       "      <td>0.129914</td>\n",
       "    </tr>\n",
       "    <tr>\n",
       "      <th>4996</th>\n",
       "      <td>1.175669</td>\n",
       "      <td>0.000296</td>\n",
       "      <td>0.824370</td>\n",
       "      <td>0.013352</td>\n",
       "      <td>0.161982</td>\n",
       "    </tr>\n",
       "    <tr>\n",
       "      <th>4997</th>\n",
       "      <td>1.175669</td>\n",
       "      <td>0.126378</td>\n",
       "      <td>0.661375</td>\n",
       "      <td>0.075548</td>\n",
       "      <td>0.136699</td>\n",
       "    </tr>\n",
       "    <tr>\n",
       "      <th>4998</th>\n",
       "      <td>0.879505</td>\n",
       "      <td>0.140675</td>\n",
       "      <td>0.466919</td>\n",
       "      <td>0.030556</td>\n",
       "      <td>0.361849</td>\n",
       "    </tr>\n",
       "    <tr>\n",
       "      <th>4999</th>\n",
       "      <td>1.175669</td>\n",
       "      <td>0.002528</td>\n",
       "      <td>0.655156</td>\n",
       "      <td>0.024085</td>\n",
       "      <td>0.318232</td>\n",
       "    </tr>\n",
       "  </tbody>\n",
       "</table>\n",
       "<p>5000 rows × 5 columns</p>\n",
       "</div>"
      ],
      "text/plain": [
       "        Weight  Prob. walk s1  Prob. drive s1  Prob. cycle s1  Prob. pt s1\n",
       "0     0.879505       0.001438        0.188228        0.011246     0.799089\n",
       "1     0.881137       0.000103        0.160923        0.021138     0.817837\n",
       "2     1.175669       0.033195        0.378559        0.042148     0.546097\n",
       "3     1.175669       0.615422        0.164668        0.028835     0.191075\n",
       "4     0.879505       0.448655        0.287306        0.019502     0.244536\n",
       "...        ...            ...             ...             ...          ...\n",
       "4995  1.175669       0.493767        0.327730        0.048589     0.129914\n",
       "4996  1.175669       0.000296        0.824370        0.013352     0.161982\n",
       "4997  1.175669       0.126378        0.661375        0.075548     0.136699\n",
       "4998  0.879505       0.140675        0.466919        0.030556     0.361849\n",
       "4999  1.175669       0.002528        0.655156        0.024085     0.318232\n",
       "\n",
       "[5000 rows x 5 columns]"
      ]
     },
     "execution_count": 93,
     "metadata": {},
     "output_type": "execute_result"
    }
   ],
   "source": [
    "database = db.Database('LPMC2',  LPMC2)\n",
    "biosim1 = bio.BIOGEME(database, simulate_1)\n",
    "simulated_values_s1 = biosim1.simulate(results_model3.getBetaValues())\n",
    "simulated_values_s1\n"
   ]
  },
  {
   "cell_type": "markdown",
   "metadata": {},
   "source": [
    "Observing the simulated data, we can see a slight decrease in Probability for the drive option"
   ]
  },
  {
   "cell_type": "code",
   "execution_count": 94,
   "metadata": {
    "execution": {
     "iopub.execute_input": "2023-12-16T14:16:09.809989Z",
     "iopub.status.busy": "2023-12-16T14:16:09.809625Z",
     "iopub.status.idle": "2023-12-16T14:16:09.821918Z",
     "shell.execute_reply": "2023-12-16T14:16:09.820635Z",
     "shell.execute_reply.started": "2023-12-16T14:16:09.809954Z"
    },
    "tags": []
   },
   "outputs": [],
   "source": [
    "\n",
    "\n",
    "simulated_values_s1['Weighted walk s1'] = (\n",
    "    simulated_values_s1['Weight'] * \n",
    "    simulated_values_s1['Prob. walk s1']\n",
    ")\n",
    "simulated_values_s1['Weighted drive s1'] = (\n",
    "    simulated_values_s1['Weight'] * \n",
    "    simulated_values_s1['Prob. drive s1']\n",
    ")\n",
    "simulated_values_s1['Weighted cycle s1'] = (\n",
    "    simulated_values_s1['Weight'] * \n",
    "    simulated_values_s1['Prob. cycle s1']\n",
    ")\n",
    "simulated_values_s1['Weighted pt s1'] = (\n",
    "    simulated_values_s1['Weight'] * \n",
    "    simulated_values_s1['Prob. pt s1']\n",
    ")\n",
    "\n"
   ]
  },
  {
   "cell_type": "markdown",
   "metadata": {},
   "source": [
    "Using the weight as before we compute the weighted of each option, and print the market share"
   ]
  },
  {
   "cell_type": "code",
   "execution_count": 95,
   "metadata": {
    "execution": {
     "iopub.execute_input": "2023-12-16T14:16:09.823349Z",
     "iopub.status.busy": "2023-12-16T14:16:09.823022Z",
     "iopub.status.idle": "2023-12-16T14:16:09.974187Z",
     "shell.execute_reply": "2023-12-16T14:16:09.972050Z",
     "shell.execute_reply.started": "2023-12-16T14:16:09.823318Z"
    },
    "tags": []
   },
   "outputs": [
    {
     "name": "stdout",
     "output_type": "stream",
     "text": [
      "Market share for walk: 19.1%\n",
      "Market share for drive: 37.9%\n",
      "Market share for cycle: 3.4%\n",
      "Market share for pt: 39.6%\n"
     ]
    }
   ],
   "source": [
    "market_share_walk_s1 = simulated_values_s1['Weighted walk s1'].mean()\n",
    "\n",
    "print(f'Market share for walk: {100*market_share_walk_s1:.1f}%')\n",
    "market_share_drive_s1 = simulated_values_s1['Weighted drive s1'].mean()\n",
    "print(f'Market share for drive: {100*market_share_drive_s1:.1f}%')\n",
    "market_share_cycle_s1 = simulated_values_s1['Weighted cycle s1'].mean()\n",
    "print(f'Market share for cycle: {100*market_share_cycle_s1:.1f}%')\n",
    "market_share_pt_s1 = simulated_values_s1['Weighted pt s1'].mean()\n",
    "print(f'Market share for pt: {100*market_share_pt_s1:.1f}%')"
   ]
  },
  {
   "cell_type": "markdown",
   "metadata": {},
   "source": [
    "### Scenario 2"
   ]
  },
  {
   "cell_type": "markdown",
   "metadata": {},
   "source": [
    "Taking Model pref ( model 3) we create the first scenario, where the price for public transport decrease by 20% "
   ]
  },
  {
   "cell_type": "code",
   "execution_count": 96,
   "metadata": {
    "execution": {
     "iopub.execute_input": "2023-12-16T14:16:09.976807Z",
     "iopub.status.busy": "2023-12-16T14:16:09.976294Z",
     "iopub.status.idle": "2023-12-16T14:16:10.062275Z",
     "shell.execute_reply": "2023-12-16T14:16:10.060162Z",
     "shell.execute_reply.started": "2023-12-16T14:16:09.976759Z"
    },
    "tags": []
   },
   "outputs": [],
   "source": [
    "\n",
    "v_pt_scenario2  = segmented_asc_pt + beta_elapsed_time_pt * boxcox_time_pt   + beta_cost * cost_pt*0.8\n"
   ]
  },
  {
   "cell_type": "code",
   "execution_count": 97,
   "metadata": {
    "execution": {
     "iopub.execute_input": "2023-12-16T14:16:10.065913Z",
     "iopub.status.busy": "2023-12-16T14:16:10.065028Z",
     "iopub.status.idle": "2023-12-16T14:16:10.280869Z",
     "shell.execute_reply": "2023-12-16T14:16:10.279163Z",
     "shell.execute_reply.started": "2023-12-16T14:16:10.065846Z"
    },
    "tags": []
   },
   "outputs": [],
   "source": [
    "prob_walk_s2 =  exp(v_walk_model3) /( exp(v_walk_model3)+ exp(v_drive_model3)+exp(v_pt_scenario2)+exp(v_cycle_model3))\n",
    "prob_drive_s2 = exp(v_drive_model3) /( exp(v_walk_model3)+ exp(v_drive_model3)+exp(v_pt_scenario2)+exp(v_cycle_model3))\n",
    "prob_cycle_s2 = exp(v_cycle_model3) /( exp(v_walk_model3)+ exp(v_drive_model3)+exp(v_pt_scenario2)+exp(v_cycle_model3))\n",
    "prob_pt_s2 =  exp(v_pt_scenario2) /( exp(v_walk_model3)+ exp(v_drive_model3)+exp(v_pt_scenario2)+exp(v_cycle_model3))"
   ]
  },
  {
   "cell_type": "code",
   "execution_count": 98,
   "metadata": {
    "execution": {
     "iopub.execute_input": "2023-12-16T14:16:10.283838Z",
     "iopub.status.busy": "2023-12-16T14:16:10.283278Z",
     "iopub.status.idle": "2023-12-16T14:16:10.322361Z",
     "shell.execute_reply": "2023-12-16T14:16:10.320263Z",
     "shell.execute_reply.started": "2023-12-16T14:16:10.283770Z"
    },
    "tags": []
   },
   "outputs": [],
   "source": [
    "simulate_2 = {\n",
    "    'Weight': Weight,\n",
    "    'Prob. walk s2': prob_walk_s2,\n",
    "    'Prob. drive s2': prob_drive_s2,\n",
    "    'Prob. cycle s2': prob_cycle_s2,\n",
    "    'Prob. pt s2': prob_pt_s2,    \n",
    "}\n"
   ]
  },
  {
   "cell_type": "code",
   "execution_count": 99,
   "metadata": {
    "execution": {
     "iopub.execute_input": "2023-12-16T14:16:10.325133Z",
     "iopub.status.busy": "2023-12-16T14:16:10.324599Z",
     "iopub.status.idle": "2023-12-16T14:16:10.697998Z",
     "shell.execute_reply": "2023-12-16T14:16:10.696431Z",
     "shell.execute_reply.started": "2023-12-16T14:16:10.325083Z"
    },
    "tags": []
   },
   "outputs": [
    {
     "data": {
      "text/html": [
       "<div>\n",
       "<style scoped>\n",
       "    .dataframe tbody tr th:only-of-type {\n",
       "        vertical-align: middle;\n",
       "    }\n",
       "\n",
       "    .dataframe tbody tr th {\n",
       "        vertical-align: top;\n",
       "    }\n",
       "\n",
       "    .dataframe thead th {\n",
       "        text-align: right;\n",
       "    }\n",
       "</style>\n",
       "<table border=\"1\" class=\"dataframe\">\n",
       "  <thead>\n",
       "    <tr style=\"text-align: right;\">\n",
       "      <th></th>\n",
       "      <th>Weight</th>\n",
       "      <th>Prob. walk s2</th>\n",
       "      <th>Prob. drive s2</th>\n",
       "      <th>Prob. cycle s2</th>\n",
       "      <th>Prob. pt s2</th>\n",
       "    </tr>\n",
       "  </thead>\n",
       "  <tbody>\n",
       "    <tr>\n",
       "      <th>0</th>\n",
       "      <td>0.879505</td>\n",
       "      <td>0.001308</td>\n",
       "      <td>0.222544</td>\n",
       "      <td>0.010228</td>\n",
       "      <td>0.765920</td>\n",
       "    </tr>\n",
       "    <tr>\n",
       "      <th>1</th>\n",
       "      <td>0.881137</td>\n",
       "      <td>0.000098</td>\n",
       "      <td>0.199560</td>\n",
       "      <td>0.020165</td>\n",
       "      <td>0.780177</td>\n",
       "    </tr>\n",
       "    <tr>\n",
       "      <th>2</th>\n",
       "      <td>1.175669</td>\n",
       "      <td>0.028583</td>\n",
       "      <td>0.423732</td>\n",
       "      <td>0.036291</td>\n",
       "      <td>0.511393</td>\n",
       "    </tr>\n",
       "    <tr>\n",
       "      <th>3</th>\n",
       "      <td>1.175669</td>\n",
       "      <td>0.580758</td>\n",
       "      <td>0.202005</td>\n",
       "      <td>0.027211</td>\n",
       "      <td>0.190026</td>\n",
       "    </tr>\n",
       "    <tr>\n",
       "      <th>4</th>\n",
       "      <td>0.879505</td>\n",
       "      <td>0.408108</td>\n",
       "      <td>0.339734</td>\n",
       "      <td>0.017740</td>\n",
       "      <td>0.234418</td>\n",
       "    </tr>\n",
       "    <tr>\n",
       "      <th>...</th>\n",
       "      <td>...</td>\n",
       "      <td>...</td>\n",
       "      <td>...</td>\n",
       "      <td>...</td>\n",
       "      <td>...</td>\n",
       "    </tr>\n",
       "    <tr>\n",
       "      <th>4995</th>\n",
       "      <td>1.175669</td>\n",
       "      <td>0.449571</td>\n",
       "      <td>0.387903</td>\n",
       "      <td>0.044240</td>\n",
       "      <td>0.118286</td>\n",
       "    </tr>\n",
       "    <tr>\n",
       "      <th>4996</th>\n",
       "      <td>1.175669</td>\n",
       "      <td>0.000234</td>\n",
       "      <td>0.847019</td>\n",
       "      <td>0.010553</td>\n",
       "      <td>0.142193</td>\n",
       "    </tr>\n",
       "    <tr>\n",
       "      <th>4997</th>\n",
       "      <td>1.175669</td>\n",
       "      <td>0.104813</td>\n",
       "      <td>0.713051</td>\n",
       "      <td>0.062657</td>\n",
       "      <td>0.119479</td>\n",
       "    </tr>\n",
       "    <tr>\n",
       "      <th>4998</th>\n",
       "      <td>0.879505</td>\n",
       "      <td>0.123393</td>\n",
       "      <td>0.532409</td>\n",
       "      <td>0.026802</td>\n",
       "      <td>0.317395</td>\n",
       "    </tr>\n",
       "    <tr>\n",
       "      <th>4999</th>\n",
       "      <td>1.175669</td>\n",
       "      <td>0.002083</td>\n",
       "      <td>0.701741</td>\n",
       "      <td>0.019845</td>\n",
       "      <td>0.276332</td>\n",
       "    </tr>\n",
       "  </tbody>\n",
       "</table>\n",
       "<p>5000 rows × 5 columns</p>\n",
       "</div>"
      ],
      "text/plain": [
       "        Weight  Prob. walk s2  Prob. drive s2  Prob. cycle s2  Prob. pt s2\n",
       "0     0.879505       0.001308        0.222544        0.010228     0.765920\n",
       "1     0.881137       0.000098        0.199560        0.020165     0.780177\n",
       "2     1.175669       0.028583        0.423732        0.036291     0.511393\n",
       "3     1.175669       0.580758        0.202005        0.027211     0.190026\n",
       "4     0.879505       0.408108        0.339734        0.017740     0.234418\n",
       "...        ...            ...             ...             ...          ...\n",
       "4995  1.175669       0.449571        0.387903        0.044240     0.118286\n",
       "4996  1.175669       0.000234        0.847019        0.010553     0.142193\n",
       "4997  1.175669       0.104813        0.713051        0.062657     0.119479\n",
       "4998  0.879505       0.123393        0.532409        0.026802     0.317395\n",
       "4999  1.175669       0.002083        0.701741        0.019845     0.276332\n",
       "\n",
       "[5000 rows x 5 columns]"
      ]
     },
     "execution_count": 99,
     "metadata": {},
     "output_type": "execute_result"
    }
   ],
   "source": [
    "database = db.Database('LPMC2',  LPMC2)\n",
    "biosim2 = bio.BIOGEME(database, simulate_2)\n",
    "simulated_values_s2 = biosim2.simulate(results_model3.getBetaValues())\n",
    "simulated_values_s2\n",
    "\n"
   ]
  },
  {
   "cell_type": "code",
   "execution_count": 100,
   "metadata": {
    "execution": {
     "iopub.execute_input": "2023-12-16T14:16:10.699648Z",
     "iopub.status.busy": "2023-12-16T14:16:10.699297Z",
     "iopub.status.idle": "2023-12-16T14:16:10.712943Z",
     "shell.execute_reply": "2023-12-16T14:16:10.711540Z",
     "shell.execute_reply.started": "2023-12-16T14:16:10.699614Z"
    },
    "tags": []
   },
   "outputs": [],
   "source": [
    "simulated_values_s2['Weighted walk s2'] = (\n",
    "    simulated_values_s2['Weight'] * \n",
    "    simulated_values_s2['Prob. walk s2']\n",
    ")\n",
    "simulated_values_s2['Weighted drive s2'] = (\n",
    "    simulated_values_s2['Weight'] * \n",
    "    simulated_values_s2['Prob. drive s2']\n",
    ")\n",
    "simulated_values_s2['Weighted cycle s2'] = (\n",
    "    simulated_values_s2['Weight'] * \n",
    "    simulated_values_s2['Prob. cycle s2']\n",
    ")\n",
    "simulated_values_s2['Weighted pt s2'] = (\n",
    "    simulated_values_s2['Weight'] * \n",
    "    simulated_values_s2['Prob. pt s2']\n",
    ")\n"
   ]
  },
  {
   "cell_type": "code",
   "execution_count": 101,
   "metadata": {
    "execution": {
     "iopub.execute_input": "2023-12-16T14:16:10.714540Z",
     "iopub.status.busy": "2023-12-16T14:16:10.714207Z",
     "iopub.status.idle": "2023-12-16T14:16:10.769242Z",
     "shell.execute_reply": "2023-12-16T14:16:10.767513Z",
     "shell.execute_reply.started": "2023-12-16T14:16:10.714509Z"
    },
    "tags": []
   },
   "outputs": [
    {
     "name": "stdout",
     "output_type": "stream",
     "text": [
      "Market share for walk: 17.7%\n",
      "Market share for drive: 42.2%\n",
      "Market share for cycle: 3.4%\n",
      "Market share for pt: 37.1%\n"
     ]
    }
   ],
   "source": [
    "market_share_walk_s2 = simulated_values_s2['Weighted walk s2'].mean()\n",
    "\n",
    "\n",
    "print(f'Market share for walk: {100*market_share_walk_s2:.1f}%')\n",
    "market_share_drive_s2 = simulated_values_s2['Weighted drive s2'].mean()\n",
    "print(f'Market share for drive: {100*market_share_drive_s2:.1f}%')\n",
    "market_share_cycle_s2 = simulated_values_s2['Weighted cycle s2'].mean()\n",
    "print(f'Market share for cycle: {100*market_share_cycle_s1:.1f}%')\n",
    "market_share_pt_s2 = simulated_values_s2['Weighted pt s2'].mean()\n",
    "print(f'Market share for pt: {100*market_share_pt_s2:.1f}%')"
   ]
  },
  {
   "cell_type": "markdown",
   "metadata": {},
   "source": [
    "The change is quite small !"
   ]
  },
  {
   "cell_type": "markdown",
   "metadata": {},
   "source": [
    "#### Quick intuition on impact "
   ]
  },
  {
   "cell_type": "code",
   "execution_count": 102,
   "metadata": {
    "execution": {
     "iopub.execute_input": "2023-12-16T14:16:10.771149Z",
     "iopub.status.busy": "2023-12-16T14:16:10.770803Z",
     "iopub.status.idle": "2023-12-16T14:16:10.809868Z",
     "shell.execute_reply": "2023-12-16T14:16:10.808138Z",
     "shell.execute_reply.started": "2023-12-16T14:16:10.771115Z"
    },
    "tags": []
   },
   "outputs": [
    {
     "data": {
      "text/plain": [
       "1.5720739999999997"
      ]
     },
     "execution_count": 102,
     "metadata": {},
     "output_type": "execute_result"
    }
   ],
   "source": [
    "LPMC['cost_transit'].mean()"
   ]
  },
  {
   "cell_type": "markdown",
   "metadata": {},
   "source": [
    "Personnal Remark : On average the cost for public transportation is 1.5£ so decreasing it by 20% decrease in average would be 0.157 as the $beta$ is equal to -0.170998 ie it will increase the value function of pt by 0.026846686\n",
    "Wheras increasing the price of car by 1.5 decrease its car value fucntion by 0.256497 (much bigger impact)"
   ]
  },
  {
   "cell_type": "markdown",
   "metadata": {},
   "source": [
    "**Question 3**"
   ]
  },
  {
   "cell_type": "code",
   "execution_count": 118,
   "metadata": {
    "execution": {
     "iopub.execute_input": "2023-12-16T14:27:35.028952Z",
     "iopub.status.busy": "2023-12-16T14:27:35.027543Z",
     "iopub.status.idle": "2023-12-16T14:27:35.042209Z",
     "shell.execute_reply": "2023-12-16T14:27:35.039919Z",
     "shell.execute_reply.started": "2023-12-16T14:27:35.028894Z"
    },
    "tags": []
   },
   "outputs": [],
   "source": [
    "#Caclulate the total revenue of public transportation for the two scenarios and without any policies\n",
    "\n",
    "Revenue_tot_0 = (simulated_values['Weighted pt'] * LPMC['cost_transit']).sum()\n",
    "\n",
    "Revenue_tot_1 = (simulated_values_s1['Weighted pt s1'] * LPMC['cost_transit']).sum()\n",
    "\n",
    "Revenue_tot_2 = (simulated_values_s2['Weighted pt s2'] * (LPMC['cost_transit']* 0.8) ).sum()\n"
   ]
  },
  {
   "cell_type": "code",
   "execution_count": 119,
   "metadata": {
    "execution": {
     "iopub.execute_input": "2023-12-16T14:27:37.058117Z",
     "iopub.status.busy": "2023-12-16T14:27:37.057324Z",
     "iopub.status.idle": "2023-12-16T14:27:37.067737Z",
     "shell.execute_reply": "2023-12-16T14:27:37.065831Z",
     "shell.execute_reply.started": "2023-12-16T14:27:37.058059Z"
    },
    "tags": []
   },
   "outputs": [
    {
     "name": "stdout",
     "output_type": "stream",
     "text": [
      "Total Revenue - No Scenario: 3623.2422976943494\n",
      "Total Revenue - Scenario 1: 3902.2247485100143\n",
      "Total Revenue - Scenario 2: 3009.047849829667\n"
     ]
    }
   ],
   "source": [
    "# Print the results\n",
    "print(f\"Total Revenue - No Scenario: {Revenue_tot_0 }\")\n",
    "print(f\"Total Revenue - Scenario 1: {Revenue_tot_1 }\")\n",
    "print(f\"Total Revenue - Scenario 2: {Revenue_tot_2 }\")"
   ]
  },
  {
   "cell_type": "markdown",
   "metadata": {
    "tags": []
   },
   "source": [
    "\n",
    "**Question 4**"
   ]
  },
  {
   "cell_type": "code",
   "execution_count": 317,
   "metadata": {},
   "outputs": [],
   "source": [
    "vot_pt = (Derive(v_pt_model3,'dur_pt') / Derive(v_pt_model3, 'cost_transit') )"
   ]
  },
  {
   "cell_type": "code",
   "execution_count": 323,
   "metadata": {},
   "outputs": [],
   "source": [
    "vot_drive = (Derive(v_drive_model3 ,'dur_driving') / Derive(v_drive_model3 , 'cost_drive') )"
   ]
  },
  {
   "cell_type": "code",
   "execution_count": 324,
   "metadata": {},
   "outputs": [
    {
     "name": "stdout",
     "output_type": "stream",
     "text": [
      "0       1.23\n",
      "1       2.60\n",
      "2       0.72\n",
      "3       0.33\n",
      "4       0.30\n",
      "        ... \n",
      "4995    0.29\n",
      "4996    1.31\n",
      "4997    0.39\n",
      "4998    0.58\n",
      "4999    0.88\n",
      "Name: cost_drive, Length: 5000, dtype: float64\n",
      "0       32.901543\n",
      "1       21.007323\n",
      "2       53.197513\n",
      "3       79.158031\n",
      "4       84.592133\n",
      "          ...    \n",
      "4995    92.623011\n",
      "4996    42.596552\n",
      "4997    79.967009\n",
      "4998    57.389318\n",
      "4999    50.673290\n",
      "Name: VOT CAR, Length: 5000, dtype: float64\n"
     ]
    }
   ],
   "source": [
    "simulate = {\n",
    "    'Weight': Weight,\n",
    "    'Prob. walk': prob_walk,\n",
    "    'Prob. drive': prob_drive,\n",
    "    'Prob. cycle': prob_cycle,\n",
    "    'Prob. pt': prob_pt,    \n",
    "    'VOT PT': vot_pt,\n",
    "    'VOT CAR': vot_drive,\n",
    "    'cost_transit': cost_pt,\n",
    "    'cost_drive' : cost_drive,\n",
    "    'dur_pt' : time_pt,\n",
    "    'dur_driving' : time_drive\n",
    "}\n",
    "biosim = bio.BIOGEME(database, simulate)\n",
    "simulated_vot_values = biosim.simulate(results_model3.getBetaValues())"
   ]
  },
  {
   "cell_type": "code",
   "execution_count": 332,
   "metadata": {},
   "outputs": [],
   "source": [
    "simulated_vot_values.loc[simulated_vot_values.cost_transit == 0, 'VOT PT'] = 0\n",
    "simulated_vot_values.loc[simulated_vot_values.cost_drive == 0, 'VOT CAR'] = 0"
   ]
  },
  {
   "cell_type": "code",
   "execution_count": 333,
   "metadata": {},
   "outputs": [
    {
     "data": {
      "image/png": "[encoded data removed]",
      "text/plain": [
       "<Figure size 432x288 with 1 Axes>"
      ]
     },
     "metadata": {
      "needs_background": "light"
     },
     "output_type": "display_data"
    }
   ],
   "source": [
    "_ = simulated_vot_values[simulated_vot_values['VOT CAR'] != 0]['VOT CAR'].hist(bins=200)"
   ]
  },
  {
   "cell_type": "code",
   "execution_count": 334,
   "metadata": {},
   "outputs": [
    {
     "data": {
      "image/png": "[encoded data removed]",
      "text/plain": [
       "<Figure size 432x288 with 1 Axes>"
      ]
     },
     "metadata": {
      "needs_background": "light"
     },
     "output_type": "display_data"
    }
   ],
   "source": [
    "\n",
    "_ = simulated_vot_values[simulated_vot_values['VOT PT'] != 0]['VOT PT'].hist(bins=200)"
   ]
  },
  {
   "cell_type": "code",
   "execution_count": 335,
   "metadata": {},
   "outputs": [
    {
     "name": "stdout",
     "output_type": "stream",
     "text": [
      "Average value of time for PT: 23.4 CHF/hour\n"
     ]
    }
   ],
   "source": [
    "avg_vot_pt = (\n",
    "    simulated_vot_values['VOT PT'] * \n",
    "    simulated_vot_values['Weight']\n",
    ").sum() / simulated_vot_values['Weight'].sum()\n",
    "print(f'Average value of time for PT: {avg_vot_pt:.3g} CHF/hour')"
   ]
  },
  {
   "cell_type": "code",
   "execution_count": 330,
   "metadata": {},
   "outputs": [
    {
     "name": "stdout",
     "output_type": "stream",
     "text": [
      "Average value of time for car: 74.1 CHF/hour\n"
     ]
    }
   ],
   "source": [
    "avg_vot_car = (\n",
    "    simulated_vot_values['VOT CAR'] * \n",
    "    simulated_vot_values['Weight']\n",
    ").sum() / simulated_vot_values['Weight'].sum()\n",
    "print(f'Average value of time for car: {avg_vot_car:.3g} CHF/hour')"
   ]
  },
  {
   "cell_type": "markdown",
   "metadata": {},
   "source": [
    "**Question 5**"
   ]
  },
  {
   "cell_type": "code",
   "execution_count": 339,
   "metadata": {},
   "outputs": [],
   "source": [
    " #Choice proba:\n",
    "prob_drive = exp(v_drive_model3) /( exp(v_walk_model3)+ exp(v_drive_model3)+exp(v_pt_model3)+exp(v_cycle_model3))\n",
    "prob_pt =  exp(v_pt_model3) /( exp(v_walk_model3)+ exp(v_drive_model3)+exp(v_pt_model3)+exp(v_cycle_model3))"
   ]
  },
  {
   "cell_type": "code",
   "execution_count": 364,
   "metadata": {},
   "outputs": [],
   "source": [
    "#Direct point elasticity of car cost\n",
    "direct_elas_drive_cost= (Derive(prob_drive,'cost_drive')*cost_drive/prob_drive) \n",
    "#Direct point elasticity of public transportation cost \n",
    "direct_elas_pt_cost=(Derive(prob_pt,'cost_transit')*cost_pt/prob_pt)\n",
    "#Cross point elasticity\n",
    "cross_elas_drive_walk = Derive(prob_walk,'cost_drive') * cost_drive / prob_walk \n",
    "cross_elas_drive_pt = Derive(prob_pt,'cost_drive') * cost_drive / prob_pt\n",
    "cross_elas_drive_cycle = Derive(prob_cycle,'cost_drive') * cost_drive / prob_cycle \n",
    "cross_elas_pt_walk = Derive(prob_walk,'cost_transit') * cost_pt / prob_walk \n",
    "cross_elas_pt_drive = Derive(prob_drive,'cost_transit') * cost_pt / prob_drive\n",
    "cross_elas_pt_cycle = Derive(prob_cycle,'cost_transit') * cost_pt / prob_cycle "
   ]
  },
  {
   "cell_type": "code",
   "execution_count": 376,
   "metadata": {},
   "outputs": [],
   "source": [
    "\n",
    "#Simulate\n",
    "simulate_elast={\n",
    "    'Weight': Weight,\n",
    "    'Prob DRIVE': prob_drive,\n",
    "    'Prob PT': prob_pt,\n",
    "    'Prob walk' : prob_walk,\n",
    "    'Prob cycle' : prob_cycle,\n",
    "    'direct_elas_drive_cost':direct_elas_drive_cost,\n",
    "    'direct_elas_pt_cost':direct_elas_pt_cost,\n",
    "    'cross_elas_drive_walk':cross_elas_drive_walk,\n",
    "    'cross_elas_drive_pt':cross_elas_drive_pt,\n",
    "    'cross_elas_drive_cycle' : cross_elas_drive_cycle,\n",
    "    'cross_elas_pt_walk' : cross_elas_pt_walk,\n",
    "    'cross_elas_pt_drive' : cross_elas_pt_drive,\n",
    "    'cross_elas_pt_cycle': cross_elas_pt_cycle\n",
    "}"
   ]
  },
  {
   "cell_type": "code",
   "execution_count": 377,
   "metadata": {},
   "outputs": [],
   "source": [
    "biosim = bio.BIOGEME(database, simulate_elast)\n",
    "simulated_values_elast = biosim.simulate(results_model3.getBetaValues())  "
   ]
  },
  {
   "cell_type": "code",
   "execution_count": 378,
   "metadata": {},
   "outputs": [
    {
     "data": {
      "text/plain": [
       "Weight                    0.879505\n",
       "Prob DRIVE                0.231612\n",
       "Prob PT                   0.756383\n",
       "Prob walk                 0.001361\n",
       "Prob cycle                0.010644\n",
       "direct_elas_drive_cost   -0.165292\n",
       "direct_elas_pt_cost      -0.063909\n",
       "cross_elas_drive_walk     0.049823\n",
       "cross_elas_drive_pt       0.049823\n",
       "cross_elas_drive_cycle    0.049823\n",
       "cross_elas_pt_walk        0.198427\n",
       "cross_elas_pt_drive       0.198427\n",
       "cross_elas_pt_cycle       0.198427\n",
       "Name: 0, dtype: float64"
      ]
     },
     "execution_count": 378,
     "metadata": {},
     "output_type": "execute_result"
    }
   ],
   "source": [
    "simulated_values_elast.iloc[0]"
   ]
  },
  {
   "cell_type": "code",
   "execution_count": 381,
   "metadata": {},
   "outputs": [],
   "source": [
    "#Aggregations numerator/denominator\n",
    "simulated_values_elast['denominator_pt'] = (\n",
    "    simulated_values_elast['Weight'] *\n",
    "    simulated_values_elast['Prob PT']\n",
    ")\n",
    "simulated_values_elast['denominator_drive'] = (\n",
    "    simulated_values_elast['Weight'] *\n",
    "    simulated_values_elast['Prob DRIVE']\n",
    ")\n",
    "#direct\n",
    "simulated_values_elast['numerator_pt_dir']=(\n",
    "    simulated_values_elast['Weight'] *\n",
    "    simulated_values_elast['Prob PT']*\n",
    "    simulated_values_elast['direct_elas_pt_cost']\n",
    ")\n",
    "simulated_values_elast['numerator_drive_dir']=(\n",
    "    simulated_values_elast['Weight'] *\n",
    "    simulated_values_elast['Prob DRIVE']*\n",
    "    simulated_values_elast['direct_elas_drive_cost'])\n",
    "#cross\n",
    "simulated_values_elast['numerator_drive_walk']=(\n",
    "    simulated_values_elast['Weight'] *\n",
    "    simulated_values_elast['Prob DRIVE']*\n",
    "    simulated_values_elast['cross_elas_drive_walk']\n",
    ")\n",
    "simulated_values_elast['numerator_drive_pt']=(\n",
    "    simulated_values_elast['Weight'] *\n",
    "    simulated_values_elast['Prob PT']*\n",
    "    simulated_values_elast['cross_elas_drive_pt']\n",
    ")\n",
    "simulated_values_elast['numerator_drive_cycle']=(\n",
    "    simulated_values_elast['Weight'] *\n",
    "    simulated_values_elast['Prob cycle']*\n",
    "    simulated_values_elast['cross_elas_drive_cycle']\n",
    ")\n",
    "simulated_values_elast['numerator_pt_cycle']=(\n",
    "    simulated_values_elast['Weight'] *\n",
    "    simulated_values_elast['Prob cycle']*\n",
    "    simulated_values_elast['cross_elas_pt_cycle']\n",
    ")\n",
    "simulated_values_elast['numerator_pt_walk']=(\n",
    "    simulated_values_elast['Weight'] *\n",
    "    simulated_values_elast['Prob walk']*\n",
    "    simulated_values_elast['cross_elas_pt_walk']\n",
    ")\n",
    "simulated_values_elast['numerator_pt_drive']=(\n",
    "    simulated_values_elast['Weight'] *\n",
    "    simulated_values_elast['Prob DRIVE']*\n",
    "    simulated_values_elast['cross_elas_pt_drive']\n",
    ")"
   ]
  },
  {
   "cell_type": "code",
   "execution_count": 391,
   "metadata": {},
   "outputs": [],
   "source": [
    "#Aggregation\n",
    "agg_direct_elas_pt_cost=simulated_values_elast['numerator_pt_dir'].sum()/simulated_values_elast['denominator_pt'].sum()\n",
    "agg_direct_elas_drive_cost=simulated_values_elast['numerator_drive_dir'].sum()/simulated_values_elast['denominator_drive'].sum()\n",
    "agg_cross_elas_drive_pt=simulated_values_elast['numerator_drive_pt'].sum()/simulated_values_elast['denominator_drive'].sum()\n",
    "agg_cross_elas_pt_walk=simulated_values_elast['numerator_pt_walk'].sum()/simulated_values_elast['denominator_pt'].sum()\n",
    "agg_cross_elas_pt_drive=simulated_values_elast['numerator_pt_drive'].sum()/simulated_values_elast['denominator_pt'].sum()\n",
    "agg_cross_elas_pt_cycle=simulated_values_elast['numerator_pt_cycle'].sum()/simulated_values_elast['denominator_pt'].sum()\n",
    "agg_cross_elas_drive_walk=simulated_values_elast['numerator_drive_walk'].sum()/simulated_values_elast['denominator_pt'].sum()\n",
    "agg_cross_elas_drive_cycle=simulated_values_elast['numerator_drive_cycle'].sum()/simulated_values_elast['denominator_pt'].sum()"
   ]
  },
  {
   "cell_type": "code",
   "execution_count": 394,
   "metadata": {},
   "outputs": [
    {
     "name": "stdout",
     "output_type": "stream",
     "text": [
      "denominator pt 1810.1952771512779\n",
      "denominator drive 2147.5257927035937\n",
      "agg_direct_elas_pt_cost -0.12731195427781558\n",
      "agg_direct_elas_drive_cost -0.08574203921750838\n",
      "agg_cross_elas_drive_pt 0.07195238513941418\n",
      "agg_cross_elas_pt_walk 0.013499022724244752\n",
      "agg_cross_elas_pt_drive 0.10357481513265218\n",
      "agg_cross_elas_pt_cycle 0.010238116420918649\n",
      "agg_cross_elas_drive_walk 0.08891408695457778\n",
      "agg_cross_elas_drive_cycle 0.0062123196649545125\n"
     ]
    }
   ],
   "source": [
    "print('denominator pt',simulated_values_elast['denominator_pt'].sum())\n",
    "print('denominator drive',simulated_values_elast['denominator_drive'].sum())\n",
    "print('agg_direct_elas_pt_cost',agg_direct_elas_pt_cost)\n",
    "print('agg_direct_elas_drive_cost',agg_direct_elas_drive_cost)\n",
    "print('agg_cross_elas_drive_pt',agg_cross_elas_drive_pt)\n",
    "print('agg_cross_elas_pt_walk',agg_cross_elas_pt_walk)\n",
    "print('agg_cross_elas_pt_drive',agg_cross_elas_pt_drive)\n",
    "print('agg_cross_elas_pt_cycle',agg_cross_elas_pt_cycle)\n",
    "print('agg_cross_elas_drive_walk',agg_cross_elas_drive_walk)\n",
    "print('agg_cross_elas_drive_cycle',agg_cross_elas_drive_cycle)"
   ]
  }
 ],
 "metadata": {
  "kernelspec": {
   "display_name": "Python 3",
   "language": "python",
   "name": "python3"
  },
  "language_info": {
   "codemirror_mode": {
    "name": "ipython",
    "version": 3
   },
   "file_extension": ".py",
   "mimetype": "text/x-python",
   "name": "python",
   "nbconvert_exporter": "python",
   "pygments_lexer": "ipython3",
   "version": "3.8.3"
  }
 },
 "nbformat": 4,
 "nbformat_minor": 5
}
