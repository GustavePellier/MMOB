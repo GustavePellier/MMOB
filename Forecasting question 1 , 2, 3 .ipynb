{
 "cells": [
  {
   "cell_type": "markdown",
   "id": "d5e158ed",
   "metadata": {},
   "source": [
    "# Import packages and database"
   ]
  },
  {
   "cell_type": "code",
   "execution_count": 1,
   "id": "a6abb197",
   "metadata": {
    "execution": {
     "iopub.execute_input": "2023-12-06T17:22:51.840923Z",
     "iopub.status.busy": "2023-12-06T17:22:51.840596Z",
     "iopub.status.idle": "2023-12-06T17:22:55.130310Z",
     "shell.execute_reply": "2023-12-06T17:22:55.128603Z",
     "shell.execute_reply.started": "2023-12-06T17:22:51.840886Z"
    }
   },
   "outputs": [],
   "source": [
    "import pandas as pd\n",
    "import numpy as np\n",
    "import biogeme.database as db\n",
    "import biogeme.biogeme as bio\n",
    "import biogeme.segmentation as seg\n",
    "from biogeme.expressions import Beta, Variable, Derive, exp\n",
    "from biogeme import models\n",
    "from biogeme import results as res\n",
    "from biogeme.expressions import DefineVariable, log\n",
    "from collections import namedtuple\n",
    "\n",
    "data_file ='https://raw.githubusercontent.com/GustavePellier/MMOB/main/lpmc19.dat'\n",
    "LPMC = pd.read_csv(data_file, sep='\\t')\n",
    "LPMC\n",
    "\n",
    "database = db.Database('LPMC', LPMC)\n",
    "all_results = {}"
   ]
  },
  {
   "cell_type": "markdown",
   "id": "c50cce66",
   "metadata": {},
   "source": [
    "# Model 0"
   ]
  },
  {
   "cell_type": "markdown",
   "id": "457b8a7a",
   "metadata": {},
   "source": [
    "We calculate the total public transport duration and the total driving cost"
   ]
  },
  {
   "cell_type": "code",
   "execution_count": 2,
   "id": "7e754a5d",
   "metadata": {
    "execution": {
     "iopub.execute_input": "2023-12-06T17:22:55.133474Z",
     "iopub.status.busy": "2023-12-06T17:22:55.133084Z",
     "iopub.status.idle": "2023-12-06T17:22:55.143950Z",
     "shell.execute_reply": "2023-12-06T17:22:55.142108Z",
     "shell.execute_reply.started": "2023-12-06T17:22:55.133438Z"
    }
   },
   "outputs": [],
   "source": [
    "LPMC[\"dur_pt\"]= LPMC[\"dur_pt_access\"] + LPMC[\"dur_pt_rail\"] + LPMC[\"dur_pt_bus\"] + LPMC[\"dur_pt_int\"] \n",
    "LPMC[\"cost_drive\"] = LPMC[\"cost_driving_ccharge\"] + LPMC[\"cost_driving_fuel\"]"
   ]
  },
  {
   "cell_type": "markdown",
   "id": "66233335",
   "metadata": {},
   "source": [
    "Some variables are created with the columns that seem to be useful"
   ]
  },
  {
   "cell_type": "code",
   "execution_count": 3,
   "id": "257d7bbc",
   "metadata": {
    "execution": {
     "iopub.execute_input": "2023-12-06T17:22:55.145390Z",
     "iopub.status.busy": "2023-12-06T17:22:55.145030Z",
     "iopub.status.idle": "2023-12-06T17:22:55.192719Z",
     "shell.execute_reply": "2023-12-06T17:22:55.190929Z",
     "shell.execute_reply.started": "2023-12-06T17:22:55.145356Z"
    }
   },
   "outputs": [],
   "source": [
    "travel_mode=Variable('travel_mode')\n",
    "\n",
    "dur_pt_access=Variable('dur_pt_access')\n",
    "dur_pt_rail=Variable('dur_pt_rail')\n",
    "dur_pt_bus=Variable('dur_pt_bus')\n",
    "dur_pt_int=Variable('dur_pt_int')\n",
    "\n",
    "pt_interchanges=Variable('pt_interchanges')\n",
    "\n",
    "cost_driving_fuel=Variable('cost_driving_fuel')\n",
    "cost_driving_ccharge=Variable('cost_driving_ccharge')\n",
    "cost_drive=Variable('cost_drive')\n",
    "cost_pt=Variable('cost_transit')\n",
    "\n",
    "time_walk=Variable('dur_walking')\n",
    "time_cycle=Variable('dur_cycling')\n",
    "time_pt=Variable('dur_pt')\n",
    "time_drive=Variable('dur_driving')\n",
    "\n",
    "female=Variable('female')\n",
    "age=Variable('age')"
   ]
  },
  {
   "cell_type": "markdown",
   "id": "7f8ff102",
   "metadata": {},
   "source": [
    "There are 4 different travel mode, we will thus build a model with 4 utility functions, we create 3 alternative specific constant, a generic parameter for travel time and a generic parameter for cost"
   ]
  },
  {
   "cell_type": "code",
   "execution_count": 4,
   "id": "c2d6736e",
   "metadata": {
    "execution": {
     "iopub.execute_input": "2023-12-06T17:22:55.195362Z",
     "iopub.status.busy": "2023-12-06T17:22:55.194767Z",
     "iopub.status.idle": "2023-12-06T17:22:55.233539Z",
     "shell.execute_reply": "2023-12-06T17:22:55.231665Z",
     "shell.execute_reply.started": "2023-12-06T17:22:55.195308Z"
    }
   },
   "outputs": [],
   "source": [
    "asc_cycle = Beta('asc_cycle', 0, None, None, 0)\n",
    "asc_pt = Beta('asc_pt', 0, None, None, 0)\n",
    "asc_drive = Beta('asc_drive', 0, None, None, 0)\n",
    "beta_cost = Beta('beta_cost', 0, None, None, 0)\n",
    "beta_time = Beta('beta_time', 0, None, None, 0)"
   ]
  },
  {
   "cell_type": "markdown",
   "id": "86848c67",
   "metadata": {},
   "source": [
    "Utility functions creation"
   ]
  },
  {
   "cell_type": "code",
   "execution_count": 5,
   "id": "50658ba2",
   "metadata": {
    "execution": {
     "iopub.execute_input": "2023-12-06T17:22:55.236190Z",
     "iopub.status.busy": "2023-12-06T17:22:55.235631Z",
     "iopub.status.idle": "2023-12-06T17:22:55.330697Z",
     "shell.execute_reply": "2023-12-06T17:22:55.328787Z",
     "shell.execute_reply.started": "2023-12-06T17:22:55.236133Z"
    }
   },
   "outputs": [],
   "source": [
    "v_walk_model0= beta_time * time_walk  \n",
    "v_cycle_model0= asc_cycle + beta_time * time_cycle \n",
    "v_pt_model0= asc_pt + beta_time * time_pt + beta_cost * cost_pt\n",
    "v_drive_model0= asc_drive + beta_time * time_drive + beta_cost * cost_drive"
   ]
  },
  {
   "cell_type": "markdown",
   "id": "abf9dda3",
   "metadata": {},
   "source": [
    "availability of each mode, all available here"
   ]
  },
  {
   "cell_type": "code",
   "execution_count": 6,
   "id": "d06082e5",
   "metadata": {
    "execution": {
     "iopub.execute_input": "2023-12-06T17:22:55.333111Z",
     "iopub.status.busy": "2023-12-06T17:22:55.332579Z",
     "iopub.status.idle": "2023-12-06T17:22:55.371619Z",
     "shell.execute_reply": "2023-12-06T17:22:55.369575Z",
     "shell.execute_reply.started": "2023-12-06T17:22:55.333056Z"
    }
   },
   "outputs": [],
   "source": [
    "av = {1: 1, 2: 1, 3: 1, 4:1}"
   ]
  },
  {
   "cell_type": "markdown",
   "id": "57c0d342",
   "metadata": {},
   "source": [
    "The estimation results (parameter values, t-tests or p-values, null and final log likelihoods)"
   ]
  },
  {
   "cell_type": "code",
   "execution_count": 7,
   "id": "b475a4fd",
   "metadata": {
    "execution": {
     "iopub.execute_input": "2023-12-06T17:22:55.377361Z",
     "iopub.status.busy": "2023-12-06T17:22:55.376929Z",
     "iopub.status.idle": "2023-12-06T17:22:57.460518Z",
     "shell.execute_reply": "2023-12-06T17:22:57.459271Z",
     "shell.execute_reply.started": "2023-12-06T17:22:55.377323Z"
    }
   },
   "outputs": [
    {
     "name": "stderr",
     "output_type": "stream",
     "text": [
      "File biogeme.toml has been created\n"
     ]
    },
    {
     "data": {
      "text/html": [
       "<div>\n",
       "<style scoped>\n",
       "    .dataframe tbody tr th:only-of-type {\n",
       "        vertical-align: middle;\n",
       "    }\n",
       "\n",
       "    .dataframe tbody tr th {\n",
       "        vertical-align: top;\n",
       "    }\n",
       "\n",
       "    .dataframe thead th {\n",
       "        text-align: right;\n",
       "    }\n",
       "</style>\n",
       "<table border=\"1\" class=\"dataframe\">\n",
       "  <thead>\n",
       "    <tr style=\"text-align: right;\">\n",
       "      <th></th>\n",
       "      <th>Value</th>\n",
       "      <th>Rob. Std err</th>\n",
       "      <th>Rob. t-test</th>\n",
       "      <th>Rob. p-value</th>\n",
       "    </tr>\n",
       "  </thead>\n",
       "  <tbody>\n",
       "    <tr>\n",
       "      <th>asc_cycle</th>\n",
       "      <td>-3.878619</td>\n",
       "      <td>0.107672</td>\n",
       "      <td>-36.022418</td>\n",
       "      <td>0.0</td>\n",
       "    </tr>\n",
       "    <tr>\n",
       "      <th>asc_drive</th>\n",
       "      <td>-1.295191</td>\n",
       "      <td>0.080505</td>\n",
       "      <td>-16.088354</td>\n",
       "      <td>0.0</td>\n",
       "    </tr>\n",
       "    <tr>\n",
       "      <th>asc_pt</th>\n",
       "      <td>-0.503354</td>\n",
       "      <td>0.054123</td>\n",
       "      <td>-9.300119</td>\n",
       "      <td>0.0</td>\n",
       "    </tr>\n",
       "    <tr>\n",
       "      <th>beta_cost</th>\n",
       "      <td>-0.193629</td>\n",
       "      <td>0.013958</td>\n",
       "      <td>-13.871889</td>\n",
       "      <td>0.0</td>\n",
       "    </tr>\n",
       "    <tr>\n",
       "      <th>beta_time</th>\n",
       "      <td>-5.495527</td>\n",
       "      <td>0.208596</td>\n",
       "      <td>-26.345342</td>\n",
       "      <td>0.0</td>\n",
       "    </tr>\n",
       "  </tbody>\n",
       "</table>\n",
       "</div>"
      ],
      "text/plain": [
       "              Value  Rob. Std err  Rob. t-test  Rob. p-value\n",
       "asc_cycle -3.878619      0.107672   -36.022418           0.0\n",
       "asc_drive -1.295191      0.080505   -16.088354           0.0\n",
       "asc_pt    -0.503354      0.054123    -9.300119           0.0\n",
       "beta_cost -0.193629      0.013958   -13.871889           0.0\n",
       "beta_time -5.495527      0.208596   -26.345342           0.0"
      ]
     },
     "execution_count": 7,
     "metadata": {},
     "output_type": "execute_result"
    }
   ],
   "source": [
    "V_model0 = {1: v_walk_model0 , 2: v_cycle_model0, 3: v_pt_model0, 4: v_drive_model0}\n",
    "logprob_model0 = models.loglogit(V_model0, av, travel_mode)\n",
    "biogeme_model0 = bio.BIOGEME(database, logprob_model0)\n",
    "biogeme_model0.modelName = 'Model_0'\n",
    "all_results['Model0'] = biogeme_model0.estimate()\n",
    "results_generic = biogeme_model0.estimate()\n",
    "results_generic.getEstimatedParameters()"
   ]
  },
  {
   "cell_type": "code",
   "execution_count": 8,
   "id": "05acabb0",
   "metadata": {
    "execution": {
     "iopub.execute_input": "2023-12-06T17:22:57.462220Z",
     "iopub.status.busy": "2023-12-06T17:22:57.461891Z",
     "iopub.status.idle": "2023-12-06T17:22:57.914252Z",
     "shell.execute_reply": "2023-12-06T17:22:57.906489Z",
     "shell.execute_reply.started": "2023-12-06T17:22:57.462186Z"
    },
    "scrolled": true
   },
   "outputs": [
    {
     "ename": "AttributeError",
     "evalue": "module 'biogeme.results' has no attribute 'compile_estimation_results'",
     "output_type": "error",
     "traceback": [
      "\u001b[0;31m---------------------------------------------------------------------------\u001b[0m",
      "\u001b[0;31mAttributeError\u001b[0m                            Traceback (most recent call last)",
      "Cell \u001b[0;32mIn[8], line 1\u001b[0m\n\u001b[0;32m----> 1\u001b[0m \u001b[43mres\u001b[49m\u001b[38;5;241;43m.\u001b[39;49m\u001b[43mcompile_estimation_results\u001b[49m(all_results)\n",
      "\u001b[0;31mAttributeError\u001b[0m: module 'biogeme.results' has no attribute 'compile_estimation_results'"
     ]
    }
   ],
   "source": [
    "res.compile_estimation_results(all_results)"
   ]
  },
  {
   "cell_type": "code",
   "execution_count": 9,
   "id": "d9ae5a6a",
   "metadata": {
    "execution": {
     "iopub.execute_input": "2023-12-06T17:23:18.650759Z",
     "iopub.status.busy": "2023-12-06T17:23:18.650101Z",
     "iopub.status.idle": "2023-12-06T17:23:18.692434Z",
     "shell.execute_reply": "2023-12-06T17:23:18.690868Z",
     "shell.execute_reply.started": "2023-12-06T17:23:18.650702Z"
    },
    "tags": []
   },
   "outputs": [
    {
     "name": "stdout",
     "output_type": "stream",
     "text": [
      "Null Loglikelihood : \n"
     ]
    },
    {
     "data": {
      "text/plain": [
       "-6931.471805599917"
      ]
     },
     "execution_count": 9,
     "metadata": {},
     "output_type": "execute_result"
    }
   ],
   "source": [
    "print(\"Null Loglikelihood : \")\n",
    "biogeme_model0.calculateNullLoglikelihood(av)"
   ]
  },
  {
   "cell_type": "markdown",
   "id": "df7ce50b",
   "metadata": {},
   "source": [
    "# Model 1"
   ]
  },
  {
   "cell_type": "markdown",
   "id": "c79928a0",
   "metadata": {},
   "source": [
    "We choose to do a specification for the time attribute, the cost stays generic in this model. Therefore we obtain a beta_time parameter for each transportation mode. "
   ]
  },
  {
   "cell_type": "code",
   "execution_count": 10,
   "id": "47758ef0",
   "metadata": {
    "execution": {
     "iopub.execute_input": "2023-12-06T17:23:20.502581Z",
     "iopub.status.busy": "2023-12-06T17:23:20.501914Z",
     "iopub.status.idle": "2023-12-06T17:23:20.511922Z",
     "shell.execute_reply": "2023-12-06T17:23:20.510331Z",
     "shell.execute_reply.started": "2023-12-06T17:23:20.502524Z"
    },
    "tags": []
   },
   "outputs": [],
   "source": [
    "beta_time_walk = Beta('beta_time_walk', 0, None, None, 0)\n",
    "beta_time_cycle = Beta('beta_time_cycle', 0, None, None, 0)\n",
    "beta_time_pt = Beta('beta_time_pt', 0, None, None, 0)\n",
    "beta_time_drive = Beta('beta_time_drive', 0, None, None, 0)"
   ]
  },
  {
   "cell_type": "markdown",
   "id": "3f80fd72",
   "metadata": {},
   "source": [
    "The utility functions are rewritten with the new parameters :"
   ]
  },
  {
   "cell_type": "code",
   "execution_count": 11,
   "id": "52e9db3c",
   "metadata": {
    "execution": {
     "iopub.execute_input": "2023-12-06T17:23:21.367371Z",
     "iopub.status.busy": "2023-12-06T17:23:21.366674Z",
     "iopub.status.idle": "2023-12-06T17:23:21.377161Z",
     "shell.execute_reply": "2023-12-06T17:23:21.375272Z",
     "shell.execute_reply.started": "2023-12-06T17:23:21.367313Z"
    },
    "tags": []
   },
   "outputs": [],
   "source": [
    "v_walk_model1= beta_time_walk * time_walk  \n",
    "v_cycle_model1= asc_cycle + beta_time_cycle * time_cycle \n",
    "v_pt_model1= asc_pt + beta_time_pt * time_pt + beta_cost * cost_pt\n",
    "v_drive_model1= asc_drive + beta_time_drive * time_drive + beta_cost * cost_drive"
   ]
  },
  {
   "cell_type": "markdown",
   "id": "975a88c9",
   "metadata": {},
   "source": [
    "The results are computed (parameter values, t-tests or p-values, null and final log likelihoods)"
   ]
  },
  {
   "cell_type": "code",
   "execution_count": 12,
   "id": "f6b9fc37",
   "metadata": {
    "execution": {
     "iopub.execute_input": "2023-12-06T17:23:22.023143Z",
     "iopub.status.busy": "2023-12-06T17:23:22.022460Z",
     "iopub.status.idle": "2023-12-06T17:23:25.175893Z",
     "shell.execute_reply": "2023-12-06T17:23:25.174073Z",
     "shell.execute_reply.started": "2023-12-06T17:23:22.023086Z"
    },
    "tags": []
   },
   "outputs": [
    {
     "data": {
      "text/html": [
       "<div>\n",
       "<style scoped>\n",
       "    .dataframe tbody tr th:only-of-type {\n",
       "        vertical-align: middle;\n",
       "    }\n",
       "\n",
       "    .dataframe tbody tr th {\n",
       "        vertical-align: top;\n",
       "    }\n",
       "\n",
       "    .dataframe thead th {\n",
       "        text-align: right;\n",
       "    }\n",
       "</style>\n",
       "<table border=\"1\" class=\"dataframe\">\n",
       "  <thead>\n",
       "    <tr style=\"text-align: right;\">\n",
       "      <th></th>\n",
       "      <th>Value</th>\n",
       "      <th>Rob. Std err</th>\n",
       "      <th>Rob. t-test</th>\n",
       "      <th>Rob. p-value</th>\n",
       "    </tr>\n",
       "  </thead>\n",
       "  <tbody>\n",
       "    <tr>\n",
       "      <th>asc_cycle</th>\n",
       "      <td>-4.847427</td>\n",
       "      <td>0.202567</td>\n",
       "      <td>-23.929963</td>\n",
       "      <td>0.0</td>\n",
       "    </tr>\n",
       "    <tr>\n",
       "      <th>asc_drive</th>\n",
       "      <td>-1.969868</td>\n",
       "      <td>0.137928</td>\n",
       "      <td>-14.281882</td>\n",
       "      <td>0.0</td>\n",
       "    </tr>\n",
       "    <tr>\n",
       "      <th>asc_pt</th>\n",
       "      <td>-2.337230</td>\n",
       "      <td>0.139505</td>\n",
       "      <td>-16.753691</td>\n",
       "      <td>0.0</td>\n",
       "    </tr>\n",
       "    <tr>\n",
       "      <th>beta_cost</th>\n",
       "      <td>-0.182006</td>\n",
       "      <td>0.016086</td>\n",
       "      <td>-11.314629</td>\n",
       "      <td>0.0</td>\n",
       "    </tr>\n",
       "    <tr>\n",
       "      <th>beta_time_cycle</th>\n",
       "      <td>-5.311244</td>\n",
       "      <td>0.461876</td>\n",
       "      <td>-11.499292</td>\n",
       "      <td>0.0</td>\n",
       "    </tr>\n",
       "    <tr>\n",
       "      <th>beta_time_drive</th>\n",
       "      <td>-6.473579</td>\n",
       "      <td>0.378946</td>\n",
       "      <td>-17.083101</td>\n",
       "      <td>0.0</td>\n",
       "    </tr>\n",
       "    <tr>\n",
       "      <th>beta_time_pt</th>\n",
       "      <td>-3.538116</td>\n",
       "      <td>0.250631</td>\n",
       "      <td>-14.116823</td>\n",
       "      <td>0.0</td>\n",
       "    </tr>\n",
       "    <tr>\n",
       "      <th>beta_time_walk</th>\n",
       "      <td>-8.430537</td>\n",
       "      <td>0.418984</td>\n",
       "      <td>-20.121406</td>\n",
       "      <td>0.0</td>\n",
       "    </tr>\n",
       "  </tbody>\n",
       "</table>\n",
       "</div>"
      ],
      "text/plain": [
       "                    Value  Rob. Std err  Rob. t-test  Rob. p-value\n",
       "asc_cycle       -4.847427      0.202567   -23.929963           0.0\n",
       "asc_drive       -1.969868      0.137928   -14.281882           0.0\n",
       "asc_pt          -2.337230      0.139505   -16.753691           0.0\n",
       "beta_cost       -0.182006      0.016086   -11.314629           0.0\n",
       "beta_time_cycle -5.311244      0.461876   -11.499292           0.0\n",
       "beta_time_drive -6.473579      0.378946   -17.083101           0.0\n",
       "beta_time_pt    -3.538116      0.250631   -14.116823           0.0\n",
       "beta_time_walk  -8.430537      0.418984   -20.121406           0.0"
      ]
     },
     "execution_count": 12,
     "metadata": {},
     "output_type": "execute_result"
    }
   ],
   "source": [
    "V_model1 = {1: v_walk_model1 , 2: v_cycle_model1, 3: v_pt_model1, 4: v_drive_model1}\n",
    "logprob_model1 = models.loglogit(V_model1, av, travel_mode)\n",
    "biogeme_model1 = bio.BIOGEME(database, logprob_model1)\n",
    "biogeme_model1.modelName = 'Model_1'\n",
    "all_results['Model1'] = biogeme_model1.estimate()\n",
    "results_specific_time = biogeme_model1.estimate()\n",
    "results_specific_time.getEstimatedParameters()"
   ]
  },
  {
   "cell_type": "code",
   "execution_count": 13,
   "id": "8fc9db6b",
   "metadata": {
    "execution": {
     "iopub.execute_input": "2023-12-06T17:23:25.178425Z",
     "iopub.status.busy": "2023-12-06T17:23:25.178056Z",
     "iopub.status.idle": "2023-12-06T17:23:25.203724Z",
     "shell.execute_reply": "2023-12-06T17:23:25.201971Z",
     "shell.execute_reply.started": "2023-12-06T17:23:25.178389Z"
    },
    "tags": []
   },
   "outputs": [
    {
     "ename": "AttributeError",
     "evalue": "module 'biogeme.results' has no attribute 'compile_estimation_results'",
     "output_type": "error",
     "traceback": [
      "\u001b[0;31m---------------------------------------------------------------------------\u001b[0m",
      "\u001b[0;31mAttributeError\u001b[0m                            Traceback (most recent call last)",
      "Cell \u001b[0;32mIn[13], line 1\u001b[0m\n\u001b[0;32m----> 1\u001b[0m \u001b[43mres\u001b[49m\u001b[38;5;241;43m.\u001b[39;49m\u001b[43mcompile_estimation_results\u001b[49m(all_results)\n",
      "\u001b[0;31mAttributeError\u001b[0m: module 'biogeme.results' has no attribute 'compile_estimation_results'"
     ]
    }
   ],
   "source": [
    "res.compile_estimation_results(all_results)"
   ]
  },
  {
   "cell_type": "code",
   "execution_count": null,
   "id": "5e1d12cb",
   "metadata": {
    "execution": {
     "iopub.status.busy": "2023-12-06T17:23:25.204671Z",
     "iopub.status.idle": "2023-12-06T17:23:25.205116Z",
     "shell.execute_reply": "2023-12-06T17:23:25.204918Z",
     "shell.execute_reply.started": "2023-12-06T17:23:25.204894Z"
    },
    "tags": []
   },
   "outputs": [],
   "source": [
    "biogeme_model1.calculateNullLoglikelihood(av)"
   ]
  },
  {
   "cell_type": "markdown",
   "id": "f36d4b1b",
   "metadata": {},
   "source": [
    "We compare the 2 models with the likelihood ratio test because model 0 is a reduction of model 1.  "
   ]
  },
  {
   "cell_type": "code",
   "execution_count": null,
   "id": "b22e126c",
   "metadata": {
    "execution": {
     "iopub.status.busy": "2023-12-06T17:23:25.206458Z",
     "iopub.status.idle": "2023-12-06T17:23:25.206895Z",
     "shell.execute_reply": "2023-12-06T17:23:25.206698Z",
     "shell.execute_reply.started": "2023-12-06T17:23:25.206675Z"
    },
    "tags": []
   },
   "outputs": [],
   "source": [
    "results_specific_time.likelihood_ratio_test(results_generic, 0.05)"
   ]
  },
  {
   "cell_type": "markdown",
   "id": "e8d602fe",
   "metadata": {},
   "source": [
    "# Model 2"
   ]
  },
  {
   "cell_type": "markdown",
   "id": "72cdf1ed",
   "metadata": {},
   "source": [
    "Using Model 1 as the base model, we choose to study how gender interact with the\n",
    "ASCs and the alternative attributes. "
   ]
  },
  {
   "cell_type": "markdown",
   "id": "ad9c3f16",
   "metadata": {},
   "source": [
    "Lets start by segmenting the population by gender"
   ]
  },
  {
   "cell_type": "code",
   "execution_count": 14,
   "id": "db20090d",
   "metadata": {
    "execution": {
     "iopub.execute_input": "2023-12-06T17:23:27.795510Z",
     "iopub.status.busy": "2023-12-06T17:23:27.794854Z",
     "iopub.status.idle": "2023-12-06T17:23:27.806030Z",
     "shell.execute_reply": "2023-12-06T17:23:27.804389Z",
     "shell.execute_reply.started": "2023-12-06T17:23:27.795454Z"
    },
    "tags": []
   },
   "outputs": [],
   "source": [
    "gender_segmentation = seg.DiscreteSegmentationTuple(variable=female, mapping={1: 'female', 0: 'male'})"
   ]
  },
  {
   "cell_type": "markdown",
   "id": "3efdc164",
   "metadata": {},
   "source": [
    "### ASC segmentation"
   ]
  },
  {
   "cell_type": "code",
   "execution_count": 15,
   "id": "96ce8232",
   "metadata": {
    "execution": {
     "iopub.execute_input": "2023-12-06T17:23:28.773729Z",
     "iopub.status.busy": "2023-12-06T17:23:28.773112Z",
     "iopub.status.idle": "2023-12-06T17:23:28.785466Z",
     "shell.execute_reply": "2023-12-06T17:23:28.783190Z",
     "shell.execute_reply.started": "2023-12-06T17:23:28.773683Z"
    },
    "tags": []
   },
   "outputs": [],
   "source": [
    "asc_cycle = Beta('asc_cycle', 0, None, None, 0)\n",
    "segmented_asc_cycle = seg.Segmentation(asc_cycle,[gender_segmentation]).segmented_beta()\n",
    "\n",
    "asc_pt = Beta('asc_pt', 0, None, None, 0)\n",
    "segmented_asc_pt = seg.Segmentation(asc_pt,[gender_segmentation]).segmented_beta()\n",
    "\n",
    "asc_drive = Beta('asc_drive', 0, None, None, 0)\n",
    "segmented_asc_drive = seg.Segmentation(asc_drive,[gender_segmentation]).segmented_beta()"
   ]
  },
  {
   "cell_type": "markdown",
   "id": "f67213bd",
   "metadata": {},
   "source": [
    "We redefine the value function of the 4 alternatives, introducing the segmented ASC and the segmented cost attribute"
   ]
  },
  {
   "cell_type": "code",
   "execution_count": 16,
   "id": "bf868d8e",
   "metadata": {
    "execution": {
     "iopub.execute_input": "2023-12-06T17:23:29.993697Z",
     "iopub.status.busy": "2023-12-06T17:23:29.992959Z",
     "iopub.status.idle": "2023-12-06T17:23:30.004407Z",
     "shell.execute_reply": "2023-12-06T17:23:30.002459Z",
     "shell.execute_reply.started": "2023-12-06T17:23:29.993637Z"
    },
    "tags": []
   },
   "outputs": [],
   "source": [
    "v_walk_model2= beta_time_walk * time_walk  \n",
    "v_cycle_model2= segmented_asc_cycle + beta_time_cycle * time_cycle \n",
    "v_pt_model2= segmented_asc_pt + beta_time_pt * time_pt + beta_cost * cost_pt\n",
    "v_drive_model2= segmented_asc_drive + beta_time_drive * time_drive + beta_cost * cost_drive"
   ]
  },
  {
   "cell_type": "markdown",
   "id": "55584126",
   "metadata": {},
   "source": [
    "We can compute the result of the new model"
   ]
  },
  {
   "cell_type": "code",
   "execution_count": 17,
   "id": "4b27684e",
   "metadata": {
    "execution": {
     "iopub.execute_input": "2023-12-06T17:23:30.607590Z",
     "iopub.status.busy": "2023-12-06T17:23:30.606924Z",
     "iopub.status.idle": "2023-12-06T17:23:37.849781Z",
     "shell.execute_reply": "2023-12-06T17:23:37.848059Z",
     "shell.execute_reply.started": "2023-12-06T17:23:30.607532Z"
    },
    "tags": []
   },
   "outputs": [
    {
     "data": {
      "text/html": [
       "<div>\n",
       "<style scoped>\n",
       "    .dataframe tbody tr th:only-of-type {\n",
       "        vertical-align: middle;\n",
       "    }\n",
       "\n",
       "    .dataframe tbody tr th {\n",
       "        vertical-align: top;\n",
       "    }\n",
       "\n",
       "    .dataframe thead th {\n",
       "        text-align: right;\n",
       "    }\n",
       "</style>\n",
       "<table border=\"1\" class=\"dataframe\">\n",
       "  <thead>\n",
       "    <tr style=\"text-align: right;\">\n",
       "      <th></th>\n",
       "      <th>Value</th>\n",
       "      <th>Rob. Std err</th>\n",
       "      <th>Rob. t-test</th>\n",
       "      <th>Rob. p-value</th>\n",
       "    </tr>\n",
       "  </thead>\n",
       "  <tbody>\n",
       "    <tr>\n",
       "      <th>asc_cycle</th>\n",
       "      <td>-5.455325</td>\n",
       "      <td>0.253369</td>\n",
       "      <td>-21.531171</td>\n",
       "      <td>0.000000e+00</td>\n",
       "    </tr>\n",
       "    <tr>\n",
       "      <th>asc_cycle_male</th>\n",
       "      <td>1.051739</td>\n",
       "      <td>0.208784</td>\n",
       "      <td>5.037450</td>\n",
       "      <td>4.717743e-07</td>\n",
       "    </tr>\n",
       "    <tr>\n",
       "      <th>asc_drive</th>\n",
       "      <td>-1.893902</td>\n",
       "      <td>0.144319</td>\n",
       "      <td>-13.123064</td>\n",
       "      <td>0.000000e+00</td>\n",
       "    </tr>\n",
       "    <tr>\n",
       "      <th>asc_drive_male</th>\n",
       "      <td>-0.198107</td>\n",
       "      <td>0.095256</td>\n",
       "      <td>-2.079723</td>\n",
       "      <td>3.755098e-02</td>\n",
       "    </tr>\n",
       "    <tr>\n",
       "      <th>asc_pt</th>\n",
       "      <td>-2.208746</td>\n",
       "      <td>0.146387</td>\n",
       "      <td>-15.088360</td>\n",
       "      <td>0.000000e+00</td>\n",
       "    </tr>\n",
       "    <tr>\n",
       "      <th>asc_pt_male</th>\n",
       "      <td>-0.333315</td>\n",
       "      <td>0.099556</td>\n",
       "      <td>-3.348019</td>\n",
       "      <td>8.139129e-04</td>\n",
       "    </tr>\n",
       "    <tr>\n",
       "      <th>beta_cost</th>\n",
       "      <td>-0.182830</td>\n",
       "      <td>0.016152</td>\n",
       "      <td>-11.318997</td>\n",
       "      <td>0.000000e+00</td>\n",
       "    </tr>\n",
       "    <tr>\n",
       "      <th>beta_time_cycle</th>\n",
       "      <td>-5.579489</td>\n",
       "      <td>0.473019</td>\n",
       "      <td>-11.795475</td>\n",
       "      <td>0.000000e+00</td>\n",
       "    </tr>\n",
       "    <tr>\n",
       "      <th>beta_time_drive</th>\n",
       "      <td>-6.486591</td>\n",
       "      <td>0.379978</td>\n",
       "      <td>-17.070956</td>\n",
       "      <td>0.000000e+00</td>\n",
       "    </tr>\n",
       "    <tr>\n",
       "      <th>beta_time_pt</th>\n",
       "      <td>-3.526173</td>\n",
       "      <td>0.251364</td>\n",
       "      <td>-14.028129</td>\n",
       "      <td>0.000000e+00</td>\n",
       "    </tr>\n",
       "    <tr>\n",
       "      <th>beta_time_walk</th>\n",
       "      <td>-8.457122</td>\n",
       "      <td>0.417835</td>\n",
       "      <td>-20.240317</td>\n",
       "      <td>0.000000e+00</td>\n",
       "    </tr>\n",
       "  </tbody>\n",
       "</table>\n",
       "</div>"
      ],
      "text/plain": [
       "                    Value  Rob. Std err  Rob. t-test  Rob. p-value\n",
       "asc_cycle       -5.455325      0.253369   -21.531171  0.000000e+00\n",
       "asc_cycle_male   1.051739      0.208784     5.037450  4.717743e-07\n",
       "asc_drive       -1.893902      0.144319   -13.123064  0.000000e+00\n",
       "asc_drive_male  -0.198107      0.095256    -2.079723  3.755098e-02\n",
       "asc_pt          -2.208746      0.146387   -15.088360  0.000000e+00\n",
       "asc_pt_male     -0.333315      0.099556    -3.348019  8.139129e-04\n",
       "beta_cost       -0.182830      0.016152   -11.318997  0.000000e+00\n",
       "beta_time_cycle -5.579489      0.473019   -11.795475  0.000000e+00\n",
       "beta_time_drive -6.486591      0.379978   -17.070956  0.000000e+00\n",
       "beta_time_pt    -3.526173      0.251364   -14.028129  0.000000e+00\n",
       "beta_time_walk  -8.457122      0.417835   -20.240317  0.000000e+00"
      ]
     },
     "execution_count": 17,
     "metadata": {},
     "output_type": "execute_result"
    }
   ],
   "source": [
    "V_model2 = {1: v_walk_model2 , 2: v_cycle_model2, 3: v_pt_model2, 4: v_drive_model2}\n",
    "logprob_model2 = models.loglogit(V_model2, av, travel_mode)\n",
    "biogeme_model2 = bio.BIOGEME(database, logprob_model2)\n",
    "biogeme_model2.modelName = 'Model_2'\n",
    "all_results['Model2'] = biogeme_model2.estimate()\n",
    "results_segmented_gender = biogeme_model2.estimate()\n",
    "results_segmented_gender.getEstimatedParameters()"
   ]
  },
  {
   "cell_type": "code",
   "execution_count": 18,
   "id": "710c9e7b",
   "metadata": {
    "execution": {
     "iopub.execute_input": "2023-12-06T17:23:37.852123Z",
     "iopub.status.busy": "2023-12-06T17:23:37.851734Z",
     "iopub.status.idle": "2023-12-06T17:23:37.888454Z",
     "shell.execute_reply": "2023-12-06T17:23:37.887078Z",
     "shell.execute_reply.started": "2023-12-06T17:23:37.852090Z"
    },
    "tags": []
   },
   "outputs": [
    {
     "data": {
      "text/plain": [
       "-6931.471805599917"
      ]
     },
     "execution_count": 18,
     "metadata": {},
     "output_type": "execute_result"
    }
   ],
   "source": [
    "biogeme_model2.calculateNullLoglikelihood(av)"
   ]
  },
  {
   "cell_type": "markdown",
   "id": "83116db7",
   "metadata": {},
   "source": [
    "### Cost segmentation"
   ]
  },
  {
   "cell_type": "markdown",
   "id": "3fa78a34",
   "metadata": {},
   "source": [
    "And its interaction on the cost attribute in the car and public transport alternative."
   ]
  },
  {
   "cell_type": "code",
   "execution_count": 19,
   "id": "c92a1c7b",
   "metadata": {
    "execution": {
     "iopub.execute_input": "2023-12-06T17:23:39.439448Z",
     "iopub.status.busy": "2023-12-06T17:23:39.438794Z",
     "iopub.status.idle": "2023-12-06T17:23:39.449228Z",
     "shell.execute_reply": "2023-12-06T17:23:39.447196Z",
     "shell.execute_reply.started": "2023-12-06T17:23:39.439390Z"
    },
    "tags": []
   },
   "outputs": [],
   "source": [
    "beta_cost = Beta('beta_cost', 0, None, None, 0)\n",
    "segmented_beta_cost = seg.Segmentation(beta_cost, [gender_segmentation]).segmented_beta()"
   ]
  },
  {
   "cell_type": "code",
   "execution_count": 20,
   "id": "007e2465",
   "metadata": {
    "execution": {
     "iopub.execute_input": "2023-12-06T17:23:39.750960Z",
     "iopub.status.busy": "2023-12-06T17:23:39.750359Z",
     "iopub.status.idle": "2023-12-06T17:23:39.760611Z",
     "shell.execute_reply": "2023-12-06T17:23:39.758535Z",
     "shell.execute_reply.started": "2023-12-06T17:23:39.750906Z"
    },
    "tags": []
   },
   "outputs": [],
   "source": [
    "v_walk_model2_2= beta_time_walk * time_walk  \n",
    "v_cycle_model2_2= asc_cycle + beta_time_cycle * time_cycle \n",
    "v_pt_model2_2= asc_pt + beta_time_pt * time_pt + segmented_beta_cost * cost_pt\n",
    "v_drive_model2_2= asc_drive + beta_time_drive * time_drive + segmented_beta_cost * cost_drive"
   ]
  },
  {
   "cell_type": "markdown",
   "id": "06d64d74",
   "metadata": {},
   "source": [
    "We can compute the result of the new model"
   ]
  },
  {
   "cell_type": "code",
   "execution_count": 21,
   "id": "573b49fd",
   "metadata": {
    "execution": {
     "iopub.execute_input": "2023-12-06T17:23:40.936203Z",
     "iopub.status.busy": "2023-12-06T17:23:40.935517Z",
     "iopub.status.idle": "2023-12-06T17:23:45.226708Z",
     "shell.execute_reply": "2023-12-06T17:23:45.224501Z",
     "shell.execute_reply.started": "2023-12-06T17:23:40.936148Z"
    },
    "tags": []
   },
   "outputs": [
    {
     "data": {
      "text/html": [
       "<div>\n",
       "<style scoped>\n",
       "    .dataframe tbody tr th:only-of-type {\n",
       "        vertical-align: middle;\n",
       "    }\n",
       "\n",
       "    .dataframe tbody tr th {\n",
       "        vertical-align: top;\n",
       "    }\n",
       "\n",
       "    .dataframe thead th {\n",
       "        text-align: right;\n",
       "    }\n",
       "</style>\n",
       "<table border=\"1\" class=\"dataframe\">\n",
       "  <thead>\n",
       "    <tr style=\"text-align: right;\">\n",
       "      <th></th>\n",
       "      <th>Value</th>\n",
       "      <th>Rob. Std err</th>\n",
       "      <th>Rob. t-test</th>\n",
       "      <th>Rob. p-value</th>\n",
       "    </tr>\n",
       "  </thead>\n",
       "  <tbody>\n",
       "    <tr>\n",
       "      <th>asc_cycle</th>\n",
       "      <td>-4.844027</td>\n",
       "      <td>0.202228</td>\n",
       "      <td>-23.953349</td>\n",
       "      <td>0.000000e+00</td>\n",
       "    </tr>\n",
       "    <tr>\n",
       "      <th>asc_drive</th>\n",
       "      <td>-1.972287</td>\n",
       "      <td>0.137775</td>\n",
       "      <td>-14.315283</td>\n",
       "      <td>0.000000e+00</td>\n",
       "    </tr>\n",
       "    <tr>\n",
       "      <th>asc_pt</th>\n",
       "      <td>-2.343575</td>\n",
       "      <td>0.139349</td>\n",
       "      <td>-16.818048</td>\n",
       "      <td>0.000000e+00</td>\n",
       "    </tr>\n",
       "    <tr>\n",
       "      <th>beta_cost</th>\n",
       "      <td>-0.151589</td>\n",
       "      <td>0.018751</td>\n",
       "      <td>-8.084372</td>\n",
       "      <td>6.661338e-16</td>\n",
       "    </tr>\n",
       "    <tr>\n",
       "      <th>beta_cost_male</th>\n",
       "      <td>-0.065408</td>\n",
       "      <td>0.031847</td>\n",
       "      <td>-2.053803</td>\n",
       "      <td>3.999473e-02</td>\n",
       "    </tr>\n",
       "    <tr>\n",
       "      <th>beta_time_cycle</th>\n",
       "      <td>-5.351123</td>\n",
       "      <td>0.459469</td>\n",
       "      <td>-11.646320</td>\n",
       "      <td>0.000000e+00</td>\n",
       "    </tr>\n",
       "    <tr>\n",
       "      <th>beta_time_drive</th>\n",
       "      <td>-6.485093</td>\n",
       "      <td>0.380532</td>\n",
       "      <td>-17.042162</td>\n",
       "      <td>0.000000e+00</td>\n",
       "    </tr>\n",
       "    <tr>\n",
       "      <th>beta_time_pt</th>\n",
       "      <td>-3.538310</td>\n",
       "      <td>0.250774</td>\n",
       "      <td>-14.109548</td>\n",
       "      <td>0.000000e+00</td>\n",
       "    </tr>\n",
       "    <tr>\n",
       "      <th>beta_time_walk</th>\n",
       "      <td>-8.437905</td>\n",
       "      <td>0.418584</td>\n",
       "      <td>-20.158223</td>\n",
       "      <td>0.000000e+00</td>\n",
       "    </tr>\n",
       "  </tbody>\n",
       "</table>\n",
       "</div>"
      ],
      "text/plain": [
       "                    Value  Rob. Std err  Rob. t-test  Rob. p-value\n",
       "asc_cycle       -4.844027      0.202228   -23.953349  0.000000e+00\n",
       "asc_drive       -1.972287      0.137775   -14.315283  0.000000e+00\n",
       "asc_pt          -2.343575      0.139349   -16.818048  0.000000e+00\n",
       "beta_cost       -0.151589      0.018751    -8.084372  6.661338e-16\n",
       "beta_cost_male  -0.065408      0.031847    -2.053803  3.999473e-02\n",
       "beta_time_cycle -5.351123      0.459469   -11.646320  0.000000e+00\n",
       "beta_time_drive -6.485093      0.380532   -17.042162  0.000000e+00\n",
       "beta_time_pt    -3.538310      0.250774   -14.109548  0.000000e+00\n",
       "beta_time_walk  -8.437905      0.418584   -20.158223  0.000000e+00"
      ]
     },
     "execution_count": 21,
     "metadata": {},
     "output_type": "execute_result"
    }
   ],
   "source": [
    "V_model2_2 = {1: v_walk_model2_2 , 2: v_cycle_model2_2, 3: v_pt_model2_2, 4: v_drive_model2_2}\n",
    "logprob_model2_2 = models.loglogit(V_model2_2, av, travel_mode)\n",
    "biogeme_model2_2 = bio.BIOGEME(database, logprob_model2_2)\n",
    "biogeme_model2_2.modelName = 'Model_2_2'\n",
    "all_results['Model2_2'] = biogeme_model2_2.estimate()\n",
    "results_segmented_gender_2 = biogeme_model2_2.estimate()\n",
    "results_segmented_gender_2.getEstimatedParameters()"
   ]
  },
  {
   "cell_type": "code",
   "execution_count": 22,
   "id": "be195af2",
   "metadata": {
    "execution": {
     "iopub.execute_input": "2023-12-06T17:23:45.229024Z",
     "iopub.status.busy": "2023-12-06T17:23:45.228683Z",
     "iopub.status.idle": "2023-12-06T17:23:45.264876Z",
     "shell.execute_reply": "2023-12-06T17:23:45.263100Z",
     "shell.execute_reply.started": "2023-12-06T17:23:45.228989Z"
    },
    "tags": []
   },
   "outputs": [
    {
     "data": {
      "text/plain": [
       "-6931.471805599917"
      ]
     },
     "execution_count": 22,
     "metadata": {},
     "output_type": "execute_result"
    }
   ],
   "source": [
    "biogeme_model2_2.calculateNullLoglikelihood(av)"
   ]
  },
  {
   "cell_type": "markdown",
   "id": "12f856bb",
   "metadata": {},
   "source": [
    "### Compiling all results from the different models"
   ]
  },
  {
   "cell_type": "code",
   "execution_count": 23,
   "id": "77b46352",
   "metadata": {
    "execution": {
     "iopub.execute_input": "2023-12-06T17:23:46.527435Z",
     "iopub.status.busy": "2023-12-06T17:23:46.526827Z",
     "iopub.status.idle": "2023-12-06T17:23:46.559629Z",
     "shell.execute_reply": "2023-12-06T17:23:46.556440Z",
     "shell.execute_reply.started": "2023-12-06T17:23:46.527384Z"
    },
    "tags": []
   },
   "outputs": [
    {
     "ename": "AttributeError",
     "evalue": "module 'biogeme.results' has no attribute 'compile_estimation_results'",
     "output_type": "error",
     "traceback": [
      "\u001b[0;31m---------------------------------------------------------------------------\u001b[0m",
      "\u001b[0;31mAttributeError\u001b[0m                            Traceback (most recent call last)",
      "Cell \u001b[0;32mIn[23], line 1\u001b[0m\n\u001b[0;32m----> 1\u001b[0m \u001b[43mres\u001b[49m\u001b[38;5;241;43m.\u001b[39;49m\u001b[43mcompile_estimation_results\u001b[49m(all_results)\n",
      "\u001b[0;31mAttributeError\u001b[0m: module 'biogeme.results' has no attribute 'compile_estimation_results'"
     ]
    }
   ],
   "source": [
    "res.compile_estimation_results(all_results)"
   ]
  },
  {
   "cell_type": "markdown",
   "id": "ba30ee54",
   "metadata": {},
   "source": [
    "### Likelihood ratio test to check if model_2 and model_2_2 are equivalent or not"
   ]
  },
  {
   "cell_type": "code",
   "execution_count": 24,
   "id": "fcbcacce",
   "metadata": {
    "execution": {
     "iopub.execute_input": "2023-12-06T17:23:47.359177Z",
     "iopub.status.busy": "2023-12-06T17:23:47.358476Z",
     "iopub.status.idle": "2023-12-06T17:23:47.373413Z",
     "shell.execute_reply": "2023-12-06T17:23:47.371304Z",
     "shell.execute_reply.started": "2023-12-06T17:23:47.359122Z"
    },
    "tags": []
   },
   "outputs": [
    {
     "data": {
      "text/plain": [
       "LRTuple(message='H0 can be rejected at level 5.0%', statistic=55.92763171322622, threshold=5.991464547107979)"
      ]
     },
     "execution_count": 24,
     "metadata": {},
     "output_type": "execute_result"
    }
   ],
   "source": [
    "results_segmented_gender.likelihood_ratio_test(results_segmented_gender_2, 0.05)"
   ]
  },
  {
   "cell_type": "markdown",
   "id": "1a9d818c",
   "metadata": {},
   "source": [
    "Model_2 is preferred because they are not equivalent. The BIC and AIC are smaller and the final likelihood is bigger for model 2"
   ]
  },
  {
   "cell_type": "markdown",
   "id": "dce53b05",
   "metadata": {},
   "source": [
    "### Comparison with model 1"
   ]
  },
  {
   "cell_type": "code",
   "execution_count": 25,
   "id": "955192ec",
   "metadata": {
    "execution": {
     "iopub.execute_input": "2023-12-06T17:23:48.543677Z",
     "iopub.status.busy": "2023-12-06T17:23:48.543059Z",
     "iopub.status.idle": "2023-12-06T17:23:48.555486Z",
     "shell.execute_reply": "2023-12-06T17:23:48.553812Z",
     "shell.execute_reply.started": "2023-12-06T17:23:48.543626Z"
    },
    "tags": []
   },
   "outputs": [
    {
     "data": {
      "text/plain": [
       "LRTuple(message='H0 can be rejected at level 5.0%', statistic=60.51259860517712, threshold=7.814727903251179)"
      ]
     },
     "execution_count": 25,
     "metadata": {},
     "output_type": "execute_result"
    }
   ],
   "source": [
    "results_segmented_gender.likelihood_ratio_test(results_specific_time, 0.05)"
   ]
  },
  {
   "cell_type": "markdown",
   "id": "c7630c71",
   "metadata": {},
   "source": [
    "Model_2 is preferred to Model_1 because they are not equivalent. The BIC and AIC are smaller and the final likelihood is bigger for model 2."
   ]
  },
  {
   "cell_type": "markdown",
   "id": "63390388",
   "metadata": {},
   "source": [
    "# Model 3 - Thomas"
   ]
  },
  {
   "cell_type": "code",
   "execution_count": 26,
   "id": "1e98a5f0",
   "metadata": {
    "execution": {
     "iopub.execute_input": "2023-12-06T17:23:49.330269Z",
     "iopub.status.busy": "2023-12-06T17:23:49.329588Z",
     "iopub.status.idle": "2023-12-06T17:23:49.337852Z",
     "shell.execute_reply": "2023-12-06T17:23:49.336067Z",
     "shell.execute_reply.started": "2023-12-06T17:23:49.330213Z"
    },
    "tags": []
   },
   "outputs": [],
   "source": [
    "# Repartir du model segmenté, Modèle 2"
   ]
  },
  {
   "cell_type": "code",
   "execution_count": 27,
   "id": "a90aa09f",
   "metadata": {
    "execution": {
     "iopub.execute_input": "2023-12-06T17:23:49.568000Z",
     "iopub.status.busy": "2023-12-06T17:23:49.567422Z",
     "iopub.status.idle": "2023-12-06T17:23:49.576816Z",
     "shell.execute_reply": "2023-12-06T17:23:49.574496Z",
     "shell.execute_reply.started": "2023-12-06T17:23:49.567945Z"
    },
    "tags": []
   },
   "outputs": [],
   "source": [
    "#GENDER segmentation\n",
    "gender_segmentation_3bis = seg.DiscreteSegmentationTuple(variable=female, mapping={1: 'female', 0: 'male'})"
   ]
  },
  {
   "cell_type": "code",
   "execution_count": 28,
   "id": "e32c4808",
   "metadata": {
    "execution": {
     "iopub.execute_input": "2023-12-06T17:23:49.834448Z",
     "iopub.status.busy": "2023-12-06T17:23:49.833884Z",
     "iopub.status.idle": "2023-12-06T17:23:49.846269Z",
     "shell.execute_reply": "2023-12-06T17:23:49.844136Z",
     "shell.execute_reply.started": "2023-12-06T17:23:49.834395Z"
    },
    "tags": []
   },
   "outputs": [],
   "source": [
    "asc_cycle_3bis = Beta('asc_cycle_3bis', 0, None, None, 0)\n",
    "segmented_asc_cycle_3bis = seg.Segmentation(asc_cycle,[gender_segmentation]).segmented_beta()\n",
    "\n",
    "asc_pt_3bis = Beta('asc_pt_3bis', 0, None, None, 0)\n",
    "segmented_asc_pt_3bis = seg.Segmentation(asc_pt,[gender_segmentation]).segmented_beta()\n",
    "\n",
    "asc_drive_3bis = Beta('asc_drive_3bis', 0, None, None, 0)\n",
    "segmented_asc_drive_3bis = seg.Segmentation(asc_drive_3bis,[gender_segmentation_3bis]).segmented_beta()"
   ]
  },
  {
   "cell_type": "code",
   "execution_count": 29,
   "id": "f8c5dd93",
   "metadata": {
    "execution": {
     "iopub.execute_input": "2023-12-06T17:23:50.094099Z",
     "iopub.status.busy": "2023-12-06T17:23:50.093496Z",
     "iopub.status.idle": "2023-12-06T17:23:50.107454Z",
     "shell.execute_reply": "2023-12-06T17:23:50.105996Z",
     "shell.execute_reply.started": "2023-12-06T17:23:50.094045Z"
    },
    "tags": []
   },
   "outputs": [],
   "source": [
    "beta_time_walk_3bis = Beta('beta_time_walk_3bis', 0, None, None, 0)\n",
    "beta_time_cycle_3bis = Beta('beta_time_cycle_3bis', 0, None, None, 0)\n",
    "\n",
    "beta_time_pt_3bis = Beta('beta_time_pt_3bis', 0, None, None, 0)\n",
    "beta_time_pt_3bis_squarred = Beta('beta_time_pt_3bis_squarred', 0, None, None, 0)\n",
    "\n",
    "beta_time_drive_3bis = Beta('beta_time_drive_3bis', 0, None, None, 0)\n",
    "beta_cost_3bis = Beta('beta_cost_3bis', 0, None, None, 0)\n",
    "\n",
    "\n",
    "v_walk_model_3bis= beta_time_walk_3bis * time_walk  \n",
    "\n",
    "v_cycle_model_3bis= segmented_asc_cycle_3bis + beta_time_cycle_3bis * time_cycle \n",
    "\n",
    "v_pt_model_3bis= segmented_asc_pt_3bis + beta_time_pt_3bis * time_pt + beta_time_pt_3bis_squarred *time_pt*time_pt + beta_cost_3bis * cost_pt\n",
    "\n",
    "v_drive_model_3bis= segmented_asc_drive_3bis + beta_time_drive_3bis * time_drive + beta_cost_3bis * cost_drive"
   ]
  },
  {
   "cell_type": "code",
   "execution_count": 30,
   "id": "20c08b22",
   "metadata": {
    "execution": {
     "iopub.execute_input": "2023-12-06T17:23:50.342009Z",
     "iopub.status.busy": "2023-12-06T17:23:50.341437Z",
     "iopub.status.idle": "2023-12-06T17:24:02.820016Z",
     "shell.execute_reply": "2023-12-06T17:24:02.818601Z",
     "shell.execute_reply.started": "2023-12-06T17:23:50.341956Z"
    },
    "tags": []
   },
   "outputs": [
    {
     "data": {
      "text/html": [
       "<div>\n",
       "<style scoped>\n",
       "    .dataframe tbody tr th:only-of-type {\n",
       "        vertical-align: middle;\n",
       "    }\n",
       "\n",
       "    .dataframe tbody tr th {\n",
       "        vertical-align: top;\n",
       "    }\n",
       "\n",
       "    .dataframe thead th {\n",
       "        text-align: right;\n",
       "    }\n",
       "</style>\n",
       "<table border=\"1\" class=\"dataframe\">\n",
       "  <thead>\n",
       "    <tr style=\"text-align: right;\">\n",
       "      <th></th>\n",
       "      <th>Value</th>\n",
       "      <th>Rob. Std err</th>\n",
       "      <th>Rob. t-test</th>\n",
       "      <th>Rob. p-value</th>\n",
       "    </tr>\n",
       "  </thead>\n",
       "  <tbody>\n",
       "    <tr>\n",
       "      <th>asc_cycle</th>\n",
       "      <td>-5.373578</td>\n",
       "      <td>0.250692</td>\n",
       "      <td>-21.435022</td>\n",
       "      <td>0.000000e+00</td>\n",
       "    </tr>\n",
       "    <tr>\n",
       "      <th>asc_cycle_male</th>\n",
       "      <td>1.052561</td>\n",
       "      <td>0.208478</td>\n",
       "      <td>5.048787</td>\n",
       "      <td>4.446244e-07</td>\n",
       "    </tr>\n",
       "    <tr>\n",
       "      <th>asc_drive_3bis</th>\n",
       "      <td>-1.801719</td>\n",
       "      <td>0.145466</td>\n",
       "      <td>-12.385877</td>\n",
       "      <td>0.000000e+00</td>\n",
       "    </tr>\n",
       "    <tr>\n",
       "      <th>asc_drive_3bis_male</th>\n",
       "      <td>-0.197955</td>\n",
       "      <td>0.094442</td>\n",
       "      <td>-2.096049</td>\n",
       "      <td>3.607786e-02</td>\n",
       "    </tr>\n",
       "    <tr>\n",
       "      <th>asc_pt</th>\n",
       "      <td>-2.490617</td>\n",
       "      <td>0.160122</td>\n",
       "      <td>-15.554520</td>\n",
       "      <td>0.000000e+00</td>\n",
       "    </tr>\n",
       "    <tr>\n",
       "      <th>asc_pt_male</th>\n",
       "      <td>-0.339677</td>\n",
       "      <td>0.101135</td>\n",
       "      <td>-3.358637</td>\n",
       "      <td>7.832796e-04</td>\n",
       "    </tr>\n",
       "    <tr>\n",
       "      <th>beta_cost_3bis</th>\n",
       "      <td>-0.180471</td>\n",
       "      <td>0.016392</td>\n",
       "      <td>-11.009904</td>\n",
       "      <td>0.000000e+00</td>\n",
       "    </tr>\n",
       "    <tr>\n",
       "      <th>beta_time_cycle_3bis</th>\n",
       "      <td>-5.572466</td>\n",
       "      <td>0.458294</td>\n",
       "      <td>-12.159164</td>\n",
       "      <td>0.000000e+00</td>\n",
       "    </tr>\n",
       "    <tr>\n",
       "      <th>beta_time_drive_3bis</th>\n",
       "      <td>-6.562155</td>\n",
       "      <td>0.388228</td>\n",
       "      <td>-16.902822</td>\n",
       "      <td>0.000000e+00</td>\n",
       "    </tr>\n",
       "    <tr>\n",
       "      <th>beta_time_pt_3bis</th>\n",
       "      <td>-1.980048</td>\n",
       "      <td>0.470361</td>\n",
       "      <td>-4.209633</td>\n",
       "      <td>2.557854e-05</td>\n",
       "    </tr>\n",
       "    <tr>\n",
       "      <th>beta_time_pt_3bis_squarred</th>\n",
       "      <td>-1.236528</td>\n",
       "      <td>0.350196</td>\n",
       "      <td>-3.530960</td>\n",
       "      <td>4.140547e-04</td>\n",
       "    </tr>\n",
       "    <tr>\n",
       "      <th>beta_time_walk_3bis</th>\n",
       "      <td>-8.306788</td>\n",
       "      <td>0.417955</td>\n",
       "      <td>-19.874833</td>\n",
       "      <td>0.000000e+00</td>\n",
       "    </tr>\n",
       "  </tbody>\n",
       "</table>\n",
       "</div>"
      ],
      "text/plain": [
       "                               Value  Rob. Std err  Rob. t-test  Rob. p-value\n",
       "asc_cycle                  -5.373578      0.250692   -21.435022  0.000000e+00\n",
       "asc_cycle_male              1.052561      0.208478     5.048787  4.446244e-07\n",
       "asc_drive_3bis             -1.801719      0.145466   -12.385877  0.000000e+00\n",
       "asc_drive_3bis_male        -0.197955      0.094442    -2.096049  3.607786e-02\n",
       "asc_pt                     -2.490617      0.160122   -15.554520  0.000000e+00\n",
       "asc_pt_male                -0.339677      0.101135    -3.358637  7.832796e-04\n",
       "beta_cost_3bis             -0.180471      0.016392   -11.009904  0.000000e+00\n",
       "beta_time_cycle_3bis       -5.572466      0.458294   -12.159164  0.000000e+00\n",
       "beta_time_drive_3bis       -6.562155      0.388228   -16.902822  0.000000e+00\n",
       "beta_time_pt_3bis          -1.980048      0.470361    -4.209633  2.557854e-05\n",
       "beta_time_pt_3bis_squarred -1.236528      0.350196    -3.530960  4.140547e-04\n",
       "beta_time_walk_3bis        -8.306788      0.417955   -19.874833  0.000000e+00"
      ]
     },
     "execution_count": 30,
     "metadata": {},
     "output_type": "execute_result"
    }
   ],
   "source": [
    "V_model_3bis = {1: v_walk_model_3bis , 2: v_cycle_model_3bis, 3: v_pt_model_3bis, 4: v_drive_model_3bis}\n",
    "logprob_model_3bis = models.loglogit(V_model_3bis, av, travel_mode)\n",
    "biogeme_model_3bis = bio.BIOGEME(database, logprob_model_3bis)\n",
    "biogeme_model_3bis.modelName = 'Model_3bis'\n",
    "all_results['Model_3bis'] = biogeme_model_3bis.estimate()\n",
    "results_segmented_gender_3bis = biogeme_model_3bis.estimate()\n",
    "results_segmented_gender_3bis.getEstimatedParameters()"
   ]
  },
  {
   "cell_type": "code",
   "execution_count": 31,
   "id": "9588e35f",
   "metadata": {
    "execution": {
     "iopub.execute_input": "2023-12-06T17:24:03.893319Z",
     "iopub.status.busy": "2023-12-06T17:24:03.891772Z",
     "iopub.status.idle": "2023-12-06T17:24:03.899606Z",
     "shell.execute_reply": "2023-12-06T17:24:03.897756Z",
     "shell.execute_reply.started": "2023-12-06T17:24:03.893224Z"
    },
    "tags": []
   },
   "outputs": [],
   "source": [
    "#COST segmentation"
   ]
  },
  {
   "cell_type": "code",
   "execution_count": 32,
   "id": "bac426fa",
   "metadata": {
    "execution": {
     "iopub.execute_input": "2023-12-06T17:24:04.257885Z",
     "iopub.status.busy": "2023-12-06T17:24:04.257182Z",
     "iopub.status.idle": "2023-12-06T17:24:04.266792Z",
     "shell.execute_reply": "2023-12-06T17:24:04.265058Z",
     "shell.execute_reply.started": "2023-12-06T17:24:04.257827Z"
    },
    "tags": []
   },
   "outputs": [],
   "source": [
    "beta_cost_33 = Beta('beta_cost_33', 0, None, None, 0)\n",
    "segmented_beta_cost_33 = seg.Segmentation(beta_cost_33, [gender_segmentation_3bis]).segmented_beta()"
   ]
  },
  {
   "cell_type": "code",
   "execution_count": 33,
   "id": "641607b6",
   "metadata": {
    "execution": {
     "iopub.execute_input": "2023-12-06T17:24:04.581654Z",
     "iopub.status.busy": "2023-12-06T17:24:04.580610Z",
     "iopub.status.idle": "2023-12-06T17:24:04.589522Z",
     "shell.execute_reply": "2023-12-06T17:24:04.588148Z",
     "shell.execute_reply.started": "2023-12-06T17:24:04.581610Z"
    },
    "tags": []
   },
   "outputs": [],
   "source": [
    "beta_time_pt_33_squarred = Beta('beta_time_pt_33_squarred', 0, None, None, 0)\n",
    "\n",
    "v_walk_model_33= beta_time_walk * time_walk  \n",
    "\n",
    "v_cycle_model_33= asc_cycle + beta_time_cycle * time_cycle \n",
    "\n",
    "v_pt_model_33= asc_pt + beta_time_pt * time_pt + beta_time_pt_33_squarred * time_pt * time_pt + segmented_beta_cost * cost_pt\n",
    "\n",
    "v_drive_model_33= asc_drive + beta_time_drive * time_drive + segmented_beta_cost * cost_drive"
   ]
  },
  {
   "cell_type": "code",
   "execution_count": 34,
   "id": "5298c7fb",
   "metadata": {
    "execution": {
     "iopub.execute_input": "2023-12-06T17:24:04.823622Z",
     "iopub.status.busy": "2023-12-06T17:24:04.822897Z",
     "iopub.status.idle": "2023-12-06T17:24:08.982655Z",
     "shell.execute_reply": "2023-12-06T17:24:08.980890Z",
     "shell.execute_reply.started": "2023-12-06T17:24:04.823566Z"
    },
    "tags": []
   },
   "outputs": [
    {
     "data": {
      "text/html": [
       "<div>\n",
       "<style scoped>\n",
       "    .dataframe tbody tr th:only-of-type {\n",
       "        vertical-align: middle;\n",
       "    }\n",
       "\n",
       "    .dataframe tbody tr th {\n",
       "        vertical-align: top;\n",
       "    }\n",
       "\n",
       "    .dataframe thead th {\n",
       "        text-align: right;\n",
       "    }\n",
       "</style>\n",
       "<table border=\"1\" class=\"dataframe\">\n",
       "  <thead>\n",
       "    <tr style=\"text-align: right;\">\n",
       "      <th></th>\n",
       "      <th>Value</th>\n",
       "      <th>Rob. Std err</th>\n",
       "      <th>Rob. t-test</th>\n",
       "      <th>Rob. p-value</th>\n",
       "    </tr>\n",
       "  </thead>\n",
       "  <tbody>\n",
       "    <tr>\n",
       "      <th>asc_cycle</th>\n",
       "      <td>-4.761814</td>\n",
       "      <td>0.199493</td>\n",
       "      <td>-23.869533</td>\n",
       "      <td>0.000000e+00</td>\n",
       "    </tr>\n",
       "    <tr>\n",
       "      <th>asc_drive</th>\n",
       "      <td>-1.881604</td>\n",
       "      <td>0.139072</td>\n",
       "      <td>-13.529732</td>\n",
       "      <td>0.000000e+00</td>\n",
       "    </tr>\n",
       "    <tr>\n",
       "      <th>asc_pt</th>\n",
       "      <td>-2.623117</td>\n",
       "      <td>0.154054</td>\n",
       "      <td>-17.027293</td>\n",
       "      <td>0.000000e+00</td>\n",
       "    </tr>\n",
       "    <tr>\n",
       "      <th>beta_cost</th>\n",
       "      <td>-0.149045</td>\n",
       "      <td>0.018924</td>\n",
       "      <td>-7.876005</td>\n",
       "      <td>3.330669e-15</td>\n",
       "    </tr>\n",
       "    <tr>\n",
       "      <th>beta_cost_male</th>\n",
       "      <td>-0.065958</td>\n",
       "      <td>0.032232</td>\n",
       "      <td>-2.046391</td>\n",
       "      <td>4.071788e-02</td>\n",
       "    </tr>\n",
       "    <tr>\n",
       "      <th>beta_time_cycle</th>\n",
       "      <td>-5.345030</td>\n",
       "      <td>0.445769</td>\n",
       "      <td>-11.990577</td>\n",
       "      <td>0.000000e+00</td>\n",
       "    </tr>\n",
       "    <tr>\n",
       "      <th>beta_time_drive</th>\n",
       "      <td>-6.554809</td>\n",
       "      <td>0.388246</td>\n",
       "      <td>-16.883113</td>\n",
       "      <td>0.000000e+00</td>\n",
       "    </tr>\n",
       "    <tr>\n",
       "      <th>beta_time_pt</th>\n",
       "      <td>-2.014886</td>\n",
       "      <td>0.470745</td>\n",
       "      <td>-4.280209</td>\n",
       "      <td>1.867176e-05</td>\n",
       "    </tr>\n",
       "    <tr>\n",
       "      <th>beta_time_pt_33_squarred</th>\n",
       "      <td>-1.218155</td>\n",
       "      <td>0.352161</td>\n",
       "      <td>-3.459080</td>\n",
       "      <td>5.420238e-04</td>\n",
       "    </tr>\n",
       "    <tr>\n",
       "      <th>beta_time_walk</th>\n",
       "      <td>-8.288463</td>\n",
       "      <td>0.418764</td>\n",
       "      <td>-19.792673</td>\n",
       "      <td>0.000000e+00</td>\n",
       "    </tr>\n",
       "  </tbody>\n",
       "</table>\n",
       "</div>"
      ],
      "text/plain": [
       "                             Value  Rob. Std err  Rob. t-test  Rob. p-value\n",
       "asc_cycle                -4.761814      0.199493   -23.869533  0.000000e+00\n",
       "asc_drive                -1.881604      0.139072   -13.529732  0.000000e+00\n",
       "asc_pt                   -2.623117      0.154054   -17.027293  0.000000e+00\n",
       "beta_cost                -0.149045      0.018924    -7.876005  3.330669e-15\n",
       "beta_cost_male           -0.065958      0.032232    -2.046391  4.071788e-02\n",
       "beta_time_cycle          -5.345030      0.445769   -11.990577  0.000000e+00\n",
       "beta_time_drive          -6.554809      0.388246   -16.883113  0.000000e+00\n",
       "beta_time_pt             -2.014886      0.470745    -4.280209  1.867176e-05\n",
       "beta_time_pt_33_squarred -1.218155      0.352161    -3.459080  5.420238e-04\n",
       "beta_time_walk           -8.288463      0.418764   -19.792673  0.000000e+00"
      ]
     },
     "execution_count": 34,
     "metadata": {},
     "output_type": "execute_result"
    }
   ],
   "source": [
    "V_model_33 = {1: v_walk_model_33 , 2: v_cycle_model_33, 3: v_pt_model_33, 4: v_drive_model_33}\n",
    "logprob_model_33 = models.loglogit(V_model_33, av, travel_mode)\n",
    "biogeme_model_33 = bio.BIOGEME(database, logprob_model_33)\n",
    "biogeme_model_33.modelName = 'Model__33'\n",
    "all_results['Model_33'] = biogeme_model_33.estimate()\n",
    "results_segmented_gender_33 = biogeme_model_33.estimate()\n",
    "results_segmented_gender_33.getEstimatedParameters()"
   ]
  },
  {
   "cell_type": "markdown",
   "id": "0bb3f84e",
   "metadata": {},
   "source": [
    "### Comparison model_3bis and model_33"
   ]
  },
  {
   "cell_type": "code",
   "execution_count": 35,
   "id": "0ae44d6b",
   "metadata": {
    "execution": {
     "iopub.execute_input": "2023-12-06T17:24:10.111717Z",
     "iopub.status.busy": "2023-12-06T17:24:10.110870Z",
     "iopub.status.idle": "2023-12-06T17:24:10.125283Z",
     "shell.execute_reply": "2023-12-06T17:24:10.123438Z",
     "shell.execute_reply.started": "2023-12-06T17:24:10.111655Z"
    },
    "tags": []
   },
   "outputs": [
    {
     "data": {
      "text/plain": [
       "LRTuple(message='H0 can be rejected at level 5.0%', statistic=56.37680619025741, threshold=5.991464547107979)"
      ]
     },
     "execution_count": 35,
     "metadata": {},
     "output_type": "execute_result"
    }
   ],
   "source": [
    "\n",
    "\n",
    "results_segmented_gender_3bis.likelihood_ratio_test(results_segmented_gender_33, 0.05)\n"
   ]
  },
  {
   "cell_type": "code",
   "execution_count": 36,
   "id": "7e48a6bc",
   "metadata": {
    "execution": {
     "iopub.execute_input": "2023-12-06T17:24:10.453982Z",
     "iopub.status.busy": "2023-12-06T17:24:10.453174Z",
     "iopub.status.idle": "2023-12-06T17:24:10.464324Z",
     "shell.execute_reply": "2023-12-06T17:24:10.462354Z",
     "shell.execute_reply.started": "2023-12-06T17:24:10.453923Z"
    },
    "tags": []
   },
   "outputs": [
    {
     "name": "stdout",
     "output_type": "stream",
     "text": [
      "Number of estimated parameters:\t12\n",
      "Sample size:\t5000\n",
      "Excluded observations:\t0\n",
      "Init log likelihood:\t-4236.589\n",
      "Final log likelihood:\t-4236.589\n",
      "Likelihood ratio test for the init. model:\t9.494579e-07\n",
      "Rho-square for the init. model:\t1.12e-10\n",
      "Rho-square-bar for the init. model:\t-0.00283\n",
      "Akaike Information Criterion:\t8497.178\n",
      "Bayesian Information Criterion:\t8575.385\n",
      "Final gradient norm:\t2.2161E-02\n",
      "Nbr of threads:\t16\n",
      "\n"
     ]
    }
   ],
   "source": [
    "print(results_segmented_gender_3bis.printGeneralStatistics())"
   ]
  },
  {
   "cell_type": "code",
   "execution_count": 37,
   "id": "691441b6",
   "metadata": {
    "execution": {
     "iopub.execute_input": "2023-12-06T17:24:10.718824Z",
     "iopub.status.busy": "2023-12-06T17:24:10.718105Z",
     "iopub.status.idle": "2023-12-06T17:24:11.002426Z",
     "shell.execute_reply": "2023-12-06T17:24:10.999788Z",
     "shell.execute_reply.started": "2023-12-06T17:24:10.718770Z"
    },
    "tags": []
   },
   "outputs": [
    {
     "name": "stdout",
     "output_type": "stream",
     "text": [
      "Number of estimated parameters:\t10\n",
      "Sample size:\t5000\n",
      "Excluded observations:\t0\n",
      "Init log likelihood:\t-4264.778\n",
      "Final log likelihood:\t-4264.778\n",
      "Likelihood ratio test for the init. model:\t1.892731e-07\n",
      "Rho-square for the init. model:\t2.22e-11\n",
      "Rho-square-bar for the init. model:\t-0.00234\n",
      "Akaike Information Criterion:\t8549.555\n",
      "Bayesian Information Criterion:\t8614.727\n",
      "Final gradient norm:\t2.1113E-02\n",
      "Nbr of threads:\t16\n",
      "\n"
     ]
    }
   ],
   "source": [
    "print(results_segmented_gender_33.printGeneralStatistics())"
   ]
  },
  {
   "cell_type": "markdown",
   "id": "4f2ece33",
   "metadata": {},
   "source": [
    "### Preferred model is model_3bis\n",
    "\n",
    "The model_3bis is preferred to model_33 as its log likelihood is greater and the AIC and BIC are smaller as well for this model."
   ]
  },
  {
   "cell_type": "markdown",
   "id": "64a24eba",
   "metadata": {},
   "source": [
    "### Comparison model_3bis and model_2"
   ]
  },
  {
   "cell_type": "code",
   "execution_count": 38,
   "id": "80bab76f",
   "metadata": {
    "execution": {
     "iopub.execute_input": "2023-12-06T17:24:11.616559Z",
     "iopub.status.busy": "2023-12-06T17:24:11.615774Z",
     "iopub.status.idle": "2023-12-06T17:24:11.629399Z",
     "shell.execute_reply": "2023-12-06T17:24:11.627557Z",
     "shell.execute_reply.started": "2023-12-06T17:24:11.616501Z"
    },
    "tags": []
   },
   "outputs": [
    {
     "data": {
      "text/plain": [
       "LRTuple(message='H0 can be rejected at level 5.0%', statistic=17.302067316242756, threshold=3.841458820694124)"
      ]
     },
     "execution_count": 38,
     "metadata": {},
     "output_type": "execute_result"
    }
   ],
   "source": [
    "results_segmented_gender_3bis.likelihood_ratio_test(results_segmented_gender, 0.05)"
   ]
  },
  {
   "cell_type": "code",
   "execution_count": 39,
   "id": "0c1c5171",
   "metadata": {
    "execution": {
     "iopub.execute_input": "2023-12-06T17:24:11.891279Z",
     "iopub.status.busy": "2023-12-06T17:24:11.890635Z",
     "iopub.status.idle": "2023-12-06T17:24:11.900083Z",
     "shell.execute_reply": "2023-12-06T17:24:11.898456Z",
     "shell.execute_reply.started": "2023-12-06T17:24:11.891229Z"
    },
    "tags": []
   },
   "outputs": [
    {
     "name": "stdout",
     "output_type": "stream",
     "text": [
      "Number of estimated parameters:\t11\n",
      "Sample size:\t5000\n",
      "Excluded observations:\t0\n",
      "Init log likelihood:\t-4245.24\n",
      "Final log likelihood:\t-4245.24\n",
      "Likelihood ratio test for the init. model:\t9.47326e-07\n",
      "Rho-square for the init. model:\t1.12e-10\n",
      "Rho-square-bar for the init. model:\t-0.00259\n",
      "Akaike Information Criterion:\t8512.48\n",
      "Bayesian Information Criterion:\t8584.17\n",
      "Final gradient norm:\t2.5082E-02\n",
      "Nbr of threads:\t16\n",
      "\n"
     ]
    }
   ],
   "source": [
    "print(results_segmented_gender.printGeneralStatistics())"
   ]
  },
  {
   "cell_type": "markdown",
   "id": "654f9e6c",
   "metadata": {},
   "source": [
    "We notice that the Final loglikelyhood as well as AIC & BIC are lower for the model_3bis than for model_2.\n",
    "As those two model are not equivalent at the 5% significance level, we can conclude that the model 3 bis is preferred"
   ]
  },
  {
   "cell_type": "markdown",
   "id": "2d8b19e2",
   "metadata": {},
   "source": [
    "### Version ancienne du power series "
   ]
  },
  {
   "cell_type": "code",
   "execution_count": 40,
   "id": "77365dba",
   "metadata": {
    "execution": {
     "iopub.execute_input": "2023-12-06T17:24:12.704788Z",
     "iopub.status.busy": "2023-12-06T17:24:12.703684Z",
     "iopub.status.idle": "2023-12-06T17:24:12.720415Z",
     "shell.execute_reply": "2023-12-06T17:24:12.718905Z",
     "shell.execute_reply.started": "2023-12-06T17:24:12.704696Z"
    },
    "tags": []
   },
   "outputs": [],
   "source": [
    "# Power Series transformation on 'pt_dur'.\n",
    "\n",
    "asc_cycle_3 = Beta('asc_cycle_3', 0, None, None, 0)\n",
    "\n",
    "asc_pt_3 = Beta('asc_pt_3', 0, None, None, 0)\n",
    "\n",
    "asc_drive_3 = Beta('asc_drive_3', 0, None, None, 0)\n",
    "\n",
    "\n",
    "beta_time_walk_3 = Beta('beta_time_walk_3', 0, None, None, 0)\n",
    "beta_time_cycle_3 = Beta('beta_time_cycle_3', 0, None, None, 0)\n",
    "\n",
    "beta_time_pt_3 = Beta('beta_time_pt_3', 0, None, None, 0)\n",
    "beta_time_pt_3_squarred = Beta('beta_time_pt_3_squarred', 0, None, None, 0)\n",
    "\n",
    "beta_time_drive_3 = Beta('beta_time_drive_3', 0, None, None, 0)\n",
    "beta_cost_3 = Beta('beta_cost_3', 0, None, None, 0)\n",
    "\n",
    "\n",
    "\n",
    "v_walk_model_3= beta_time_walk_3 * time_walk \n",
    "\n",
    "v_cycle_model_3= asc_cycle_3 + beta_time_cycle_3 * time_cycle \n",
    "\n",
    "v_pt_model_3= asc_pt_3 + beta_time_pt_3 * time_pt +beta_time_pt_3_squarred * time_pt * time_pt + beta_cost * cost_pt\n",
    "\n",
    "v_drive_model_3= asc_drive_3 + beta_time_drive_3 * time_drive + beta_cost_3 * cost_drive"
   ]
  },
  {
   "cell_type": "code",
   "execution_count": 41,
   "id": "74f820dd",
   "metadata": {
    "execution": {
     "iopub.execute_input": "2023-12-06T17:24:12.939668Z",
     "iopub.status.busy": "2023-12-06T17:24:12.938926Z",
     "iopub.status.idle": "2023-12-06T17:24:18.410433Z",
     "shell.execute_reply": "2023-12-06T17:24:18.408819Z",
     "shell.execute_reply.started": "2023-12-06T17:24:12.939611Z"
    },
    "tags": []
   },
   "outputs": [
    {
     "data": {
      "text/html": [
       "<div>\n",
       "<style scoped>\n",
       "    .dataframe tbody tr th:only-of-type {\n",
       "        vertical-align: middle;\n",
       "    }\n",
       "\n",
       "    .dataframe tbody tr th {\n",
       "        vertical-align: top;\n",
       "    }\n",
       "\n",
       "    .dataframe thead th {\n",
       "        text-align: right;\n",
       "    }\n",
       "</style>\n",
       "<table border=\"1\" class=\"dataframe\">\n",
       "  <thead>\n",
       "    <tr style=\"text-align: right;\">\n",
       "      <th></th>\n",
       "      <th>Value</th>\n",
       "      <th>Rob. Std err</th>\n",
       "      <th>Rob. t-test</th>\n",
       "      <th>Rob. p-value</th>\n",
       "    </tr>\n",
       "  </thead>\n",
       "  <tbody>\n",
       "    <tr>\n",
       "      <th>asc_cycle_3</th>\n",
       "      <td>-4.763017</td>\n",
       "      <td>0.199834</td>\n",
       "      <td>-23.834853</td>\n",
       "      <td>0.000000e+00</td>\n",
       "    </tr>\n",
       "    <tr>\n",
       "      <th>asc_drive_3</th>\n",
       "      <td>-1.873620</td>\n",
       "      <td>0.139311</td>\n",
       "      <td>-13.449210</td>\n",
       "      <td>0.000000e+00</td>\n",
       "    </tr>\n",
       "    <tr>\n",
       "      <th>asc_pt_3</th>\n",
       "      <td>-2.601337</td>\n",
       "      <td>0.155169</td>\n",
       "      <td>-16.764558</td>\n",
       "      <td>0.000000e+00</td>\n",
       "    </tr>\n",
       "    <tr>\n",
       "      <th>beta_cost</th>\n",
       "      <td>-0.210760</td>\n",
       "      <td>0.031139</td>\n",
       "      <td>-6.768377</td>\n",
       "      <td>1.302358e-11</td>\n",
       "    </tr>\n",
       "    <tr>\n",
       "      <th>beta_cost_3</th>\n",
       "      <td>-0.168078</td>\n",
       "      <td>0.017601</td>\n",
       "      <td>-9.549575</td>\n",
       "      <td>0.000000e+00</td>\n",
       "    </tr>\n",
       "    <tr>\n",
       "      <th>beta_time_cycle_3</th>\n",
       "      <td>-5.431857</td>\n",
       "      <td>0.464195</td>\n",
       "      <td>-11.701663</td>\n",
       "      <td>0.000000e+00</td>\n",
       "    </tr>\n",
       "    <tr>\n",
       "      <th>beta_time_drive_3</th>\n",
       "      <td>-6.751930</td>\n",
       "      <td>0.442094</td>\n",
       "      <td>-15.272612</td>\n",
       "      <td>0.000000e+00</td>\n",
       "    </tr>\n",
       "    <tr>\n",
       "      <th>beta_time_pt_3</th>\n",
       "      <td>-2.023468</td>\n",
       "      <td>0.471800</td>\n",
       "      <td>-4.288829</td>\n",
       "      <td>1.796173e-05</td>\n",
       "    </tr>\n",
       "    <tr>\n",
       "      <th>beta_time_pt_3_squarred</th>\n",
       "      <td>-1.228960</td>\n",
       "      <td>0.352693</td>\n",
       "      <td>-3.484505</td>\n",
       "      <td>4.930474e-04</td>\n",
       "    </tr>\n",
       "    <tr>\n",
       "      <th>beta_time_walk_3</th>\n",
       "      <td>-8.318663</td>\n",
       "      <td>0.421280</td>\n",
       "      <td>-19.746177</td>\n",
       "      <td>0.000000e+00</td>\n",
       "    </tr>\n",
       "  </tbody>\n",
       "</table>\n",
       "</div>"
      ],
      "text/plain": [
       "                            Value  Rob. Std err  Rob. t-test  Rob. p-value\n",
       "asc_cycle_3             -4.763017      0.199834   -23.834853  0.000000e+00\n",
       "asc_drive_3             -1.873620      0.139311   -13.449210  0.000000e+00\n",
       "asc_pt_3                -2.601337      0.155169   -16.764558  0.000000e+00\n",
       "beta_cost               -0.210760      0.031139    -6.768377  1.302358e-11\n",
       "beta_cost_3             -0.168078      0.017601    -9.549575  0.000000e+00\n",
       "beta_time_cycle_3       -5.431857      0.464195   -11.701663  0.000000e+00\n",
       "beta_time_drive_3       -6.751930      0.442094   -15.272612  0.000000e+00\n",
       "beta_time_pt_3          -2.023468      0.471800    -4.288829  1.796173e-05\n",
       "beta_time_pt_3_squarred -1.228960      0.352693    -3.484505  4.930474e-04\n",
       "beta_time_walk_3        -8.318663      0.421280   -19.746177  0.000000e+00"
      ]
     },
     "execution_count": 41,
     "metadata": {},
     "output_type": "execute_result"
    }
   ],
   "source": [
    "V_model_3 = {1: v_walk_model_3 , 2: v_cycle_model_3, 3: v_pt_model_3, 4: v_drive_model_3}\n",
    "\n",
    "logprob_model_3 = models.loglogit(V_model_3, av, travel_mode)\n",
    "\n",
    "biogeme_model_3 = bio.BIOGEME(database, logprob_model_3)\n",
    "\n",
    "biogeme_model_3.modelName = 'Model_3'\n",
    "\n",
    "all_results['Model_3'] = biogeme_model_3.estimate()\n",
    "\n",
    "results_power_3 = biogeme_model_3.estimate()\n",
    "\n",
    "results_power_3.getEstimatedParameters()"
   ]
  },
  {
   "cell_type": "code",
   "execution_count": 42,
   "id": "fdef7384",
   "metadata": {
    "execution": {
     "iopub.execute_input": "2023-12-06T17:24:18.412868Z",
     "iopub.status.busy": "2023-12-06T17:24:18.412509Z",
     "iopub.status.idle": "2023-12-06T17:24:18.450141Z",
     "shell.execute_reply": "2023-12-06T17:24:18.448600Z",
     "shell.execute_reply.started": "2023-12-06T17:24:18.412834Z"
    },
    "tags": []
   },
   "outputs": [
    {
     "data": {
      "text/plain": [
       "-6931.471805599917"
      ]
     },
     "execution_count": 42,
     "metadata": {},
     "output_type": "execute_result"
    }
   ],
   "source": [
    "#Calculate Null Log likelihood\n",
    "\n",
    "biogeme_model_3.calculateNullLoglikelihood(av)"
   ]
  },
  {
   "cell_type": "code",
   "execution_count": 43,
   "id": "187a02e3",
   "metadata": {
    "execution": {
     "iopub.execute_input": "2023-12-06T17:24:18.451806Z",
     "iopub.status.busy": "2023-12-06T17:24:18.451432Z",
     "iopub.status.idle": "2023-12-06T17:24:18.480711Z",
     "shell.execute_reply": "2023-12-06T17:24:18.479016Z",
     "shell.execute_reply.started": "2023-12-06T17:24:18.451727Z"
    },
    "tags": []
   },
   "outputs": [
    {
     "data": {
      "text/plain": [
       "LRTuple(message='H0 can be rejected at level 5.0%', statistic=18.422512163630017, threshold=5.991464547107979)"
      ]
     },
     "execution_count": 43,
     "metadata": {},
     "output_type": "execute_result"
    }
   ],
   "source": [
    "#Comparison to model 1\n",
    "\n",
    "results_power_3.likelihood_ratio_test(results_specific_time, 0.05)\n",
    "\n",
    "\n"
   ]
  },
  {
   "cell_type": "markdown",
   "id": "fe319ce0",
   "metadata": {},
   "source": [
    "The model 3 is not preferred compare to model 1.\n",
    "\n",
    "-Is it due to the non linear transformation that is not appropriate ? Should we use boxplot instead ? --> Yes we should \n",
    "\n",
    "-Is it stated 'non-linear transfronation on one of the variables' so I just took public transport time, should I apply to the other time ? --> I think but I will ask\n",
    "\n",
    "-Should the non linear transformation be applied to an other time variable like car ? Yes I think but I will ask\n",
    "\n",
    "-Is the loglikelyhood ratio test still appropirate ? --> Maybe we should use a cox-text instead \n",
    "\n",
    "Remarks: I think that the non-linear transformation is not done on beta but rather on variables such as time, cost, etc.!\n"
   ]
  },
  {
   "cell_type": "markdown",
   "id": "8e1163d3",
   "metadata": {},
   "source": [
    "# Model 3 - Salomé"
   ]
  },
  {
   "cell_type": "code",
   "execution_count": 44,
   "id": "1b2ba158",
   "metadata": {
    "execution": {
     "iopub.execute_input": "2023-12-06T17:24:19.803907Z",
     "iopub.status.busy": "2023-12-06T17:24:19.803230Z",
     "iopub.status.idle": "2023-12-06T17:24:19.820988Z",
     "shell.execute_reply": "2023-12-06T17:24:19.819412Z",
     "shell.execute_reply.started": "2023-12-06T17:24:19.803851Z"
    },
    "tags": []
   },
   "outputs": [],
   "source": [
    "\n",
    "lambda_boxcox = Beta('lambda_boxcox', 1, None, None, 0) #vu dans le modèle 01-logit_airline_solution\n",
    "boxcox_time_walk = models.boxcox(time_walk, lambda_boxcox)\n",
    "boxcox_time_cycle = models.boxcox(time_cycle, lambda_boxcox)\n",
    "boxcox_time_pt = models.boxcox(time_pt, lambda_boxcox)\n",
    "boxcox_time_drive = models.boxcox(time_drive , lambda_boxcox)\n",
    "beta_elapsed_time_walk = Beta('beta_elapsed_walk', 0, None, None, 0)\n",
    "beta_elapsed_time_cycle = Beta('beta_elapsed_cycle', 0, None, None, 0)\n",
    "beta_elapsed_time_pt = Beta('beta_elapsed_time_pt', 0, None, None, 0)\n",
    "beta_elapsed_time_drive = Beta('beta_elapsed_time_drive', 0, None, None, 0)\n",
    "\n",
    "\n",
    "v_walk_model2= beta_time_walk * time_walk  \n",
    "v_cycle_model2= segmented_asc_cycle + beta_time_cycle * time_cycle \n",
    "v_pt_model2= segmented_asc_pt + beta_time_pt * time_pt + beta_cost * cost_pt\n",
    "v_drive_model2= segmented_asc_drive + beta_time_drive * time_drive + beta_cost * cost_drive\n",
    "\n",
    "\n",
    "v_walk_model3 = beta_elapsed_time_walk * boxcox_time_walk\n",
    "v_cycle_model3  = segmented_asc_cycle + beta_elapsed_time_cycle * boxcox_time_cycle \n",
    "v_pt_model3  = segmented_asc_pt + beta_elapsed_time_pt * boxcox_time_pt   + beta_cost * cost_pt \n",
    "v_drive_model3  = segmented_asc_drive + beta_elapsed_time_drive * boxcox_time_drive + beta_cost * cost_drive "
   ]
  },
  {
   "cell_type": "code",
   "execution_count": 45,
   "id": "609deaee",
   "metadata": {
    "execution": {
     "iopub.execute_input": "2023-12-06T17:24:20.088736Z",
     "iopub.status.busy": "2023-12-06T17:24:20.088078Z",
     "iopub.status.idle": "2023-12-06T17:24:35.385685Z",
     "shell.execute_reply": "2023-12-06T17:24:35.383971Z",
     "shell.execute_reply.started": "2023-12-06T17:24:20.088681Z"
    },
    "tags": []
   },
   "outputs": [
    {
     "data": {
      "text/html": [
       "<div>\n",
       "<style scoped>\n",
       "    .dataframe tbody tr th:only-of-type {\n",
       "        vertical-align: middle;\n",
       "    }\n",
       "\n",
       "    .dataframe tbody tr th {\n",
       "        vertical-align: top;\n",
       "    }\n",
       "\n",
       "    .dataframe thead th {\n",
       "        text-align: right;\n",
       "    }\n",
       "</style>\n",
       "<table border=\"1\" class=\"dataframe\">\n",
       "  <thead>\n",
       "    <tr style=\"text-align: right;\">\n",
       "      <th></th>\n",
       "      <th>Value</th>\n",
       "      <th>Rob. Std err</th>\n",
       "      <th>Rob. t-test</th>\n",
       "      <th>Rob. p-value</th>\n",
       "    </tr>\n",
       "  </thead>\n",
       "  <tbody>\n",
       "    <tr>\n",
       "      <th>asc_cycle</th>\n",
       "      <td>-3.218695</td>\n",
       "      <td>0.303935</td>\n",
       "      <td>-10.590091</td>\n",
       "      <td>0.000000e+00</td>\n",
       "    </tr>\n",
       "    <tr>\n",
       "      <th>asc_cycle_male</th>\n",
       "      <td>1.053099</td>\n",
       "      <td>0.210054</td>\n",
       "      <td>5.013472</td>\n",
       "      <td>5.345658e-07</td>\n",
       "    </tr>\n",
       "    <tr>\n",
       "      <th>asc_drive</th>\n",
       "      <td>0.069633</td>\n",
       "      <td>0.217615</td>\n",
       "      <td>0.319981</td>\n",
       "      <td>7.489826e-01</td>\n",
       "    </tr>\n",
       "    <tr>\n",
       "      <th>asc_drive_male</th>\n",
       "      <td>-0.226226</td>\n",
       "      <td>0.101485</td>\n",
       "      <td>-2.229157</td>\n",
       "      <td>2.580347e-02</td>\n",
       "    </tr>\n",
       "    <tr>\n",
       "      <th>asc_pt</th>\n",
       "      <td>1.845084</td>\n",
       "      <td>0.170744</td>\n",
       "      <td>10.806121</td>\n",
       "      <td>0.000000e+00</td>\n",
       "    </tr>\n",
       "    <tr>\n",
       "      <th>asc_pt_male</th>\n",
       "      <td>-0.375360</td>\n",
       "      <td>0.107311</td>\n",
       "      <td>-3.497861</td>\n",
       "      <td>4.690047e-04</td>\n",
       "    </tr>\n",
       "    <tr>\n",
       "      <th>beta_cost</th>\n",
       "      <td>-0.174902</td>\n",
       "      <td>0.015669</td>\n",
       "      <td>-11.162336</td>\n",
       "      <td>0.000000e+00</td>\n",
       "    </tr>\n",
       "    <tr>\n",
       "      <th>beta_elapsed_cycle</th>\n",
       "      <td>-3.317701</td>\n",
       "      <td>0.268357</td>\n",
       "      <td>-12.363001</td>\n",
       "      <td>0.000000e+00</td>\n",
       "    </tr>\n",
       "    <tr>\n",
       "      <th>beta_elapsed_time_drive</th>\n",
       "      <td>-3.300208</td>\n",
       "      <td>0.265680</td>\n",
       "      <td>-12.421741</td>\n",
       "      <td>0.000000e+00</td>\n",
       "    </tr>\n",
       "    <tr>\n",
       "      <th>beta_elapsed_time_pt</th>\n",
       "      <td>-2.637301</td>\n",
       "      <td>0.182612</td>\n",
       "      <td>-14.442126</td>\n",
       "      <td>0.000000e+00</td>\n",
       "    </tr>\n",
       "    <tr>\n",
       "      <th>beta_elapsed_walk</th>\n",
       "      <td>-5.445614</td>\n",
       "      <td>0.252783</td>\n",
       "      <td>-21.542633</td>\n",
       "      <td>0.000000e+00</td>\n",
       "    </tr>\n",
       "    <tr>\n",
       "      <th>lambda_boxcox</th>\n",
       "      <td>0.268511</td>\n",
       "      <td>0.049829</td>\n",
       "      <td>5.388650</td>\n",
       "      <td>7.098906e-08</td>\n",
       "    </tr>\n",
       "  </tbody>\n",
       "</table>\n",
       "</div>"
      ],
      "text/plain": [
       "                            Value  Rob. Std err  Rob. t-test  Rob. p-value\n",
       "asc_cycle               -3.218695      0.303935   -10.590091  0.000000e+00\n",
       "asc_cycle_male           1.053099      0.210054     5.013472  5.345658e-07\n",
       "asc_drive                0.069633      0.217615     0.319981  7.489826e-01\n",
       "asc_drive_male          -0.226226      0.101485    -2.229157  2.580347e-02\n",
       "asc_pt                   1.845084      0.170744    10.806121  0.000000e+00\n",
       "asc_pt_male             -0.375360      0.107311    -3.497861  4.690047e-04\n",
       "beta_cost               -0.174902      0.015669   -11.162336  0.000000e+00\n",
       "beta_elapsed_cycle      -3.317701      0.268357   -12.363001  0.000000e+00\n",
       "beta_elapsed_time_drive -3.300208      0.265680   -12.421741  0.000000e+00\n",
       "beta_elapsed_time_pt    -2.637301      0.182612   -14.442126  0.000000e+00\n",
       "beta_elapsed_walk       -5.445614      0.252783   -21.542633  0.000000e+00\n",
       "lambda_boxcox            0.268511      0.049829     5.388650  7.098906e-08"
      ]
     },
     "execution_count": 45,
     "metadata": {},
     "output_type": "execute_result"
    }
   ],
   "source": [
    "V_model3 = {1: v_walk_model3 , 2: v_cycle_model3, 3: v_pt_model3, 4: v_drive_model3}\n",
    "logprob_model3 = models.loglogit(V_model3, av, travel_mode)\n",
    "biogeme_model3 = bio.BIOGEME(database, logprob_model3)\n",
    "biogeme_model3.modelName = 'Model_3'\n",
    "all_results['Model_3'] = biogeme_model3.estimate()\n",
    "results_model3 = biogeme_model3.estimate()\n",
    "results_model3.getEstimatedParameters()"
   ]
  },
  {
   "cell_type": "code",
   "execution_count": 46,
   "id": "aaac9920",
   "metadata": {
    "execution": {
     "iopub.execute_input": "2023-12-06T17:24:35.388168Z",
     "iopub.status.busy": "2023-12-06T17:24:35.387807Z",
     "iopub.status.idle": "2023-12-06T17:24:35.433169Z",
     "shell.execute_reply": "2023-12-06T17:24:35.431877Z",
     "shell.execute_reply.started": "2023-12-06T17:24:35.388133Z"
    },
    "tags": []
   },
   "outputs": [
    {
     "data": {
      "text/plain": [
       "(                                              Model0           Model1  \\\n",
       " Number of estimated parameters                     5                8   \n",
       " Sample size                                     5000             5000   \n",
       " Final log likelihood                    -4587.818071     -4275.496547   \n",
       " Akaike Information Criterion             9185.636142      8566.993094   \n",
       " Bayesian Information Criterion           9218.222108      8619.130639   \n",
       " asc_cycle (t-test)                      -3.88  (-36)   -4.85  (-23.9)   \n",
       " asc_drive (t-test)                     -1.3  (-16.1)   -1.97  (-14.3)   \n",
       " asc_pt (t-test)                       -0.503  (-9.3)   -2.34  (-16.8)   \n",
       " beta_cost (t-test)                   -0.194  (-13.9)  -0.182  (-11.3)   \n",
       " beta_time (t-test)                     -5.5  (-26.3)                    \n",
       " beta_time_cycle (t-test)                               -5.31  (-11.5)   \n",
       " beta_time_drive (t-test)                               -6.47  (-17.1)   \n",
       " beta_time_pt (t-test)                                  -3.54  (-14.1)   \n",
       " beta_time_walk (t-test)                                -8.43  (-20.1)   \n",
       " asc_cycle_male (t-test)                                                 \n",
       " asc_drive_male (t-test)                                                 \n",
       " asc_pt_male (t-test)                                                    \n",
       " beta_cost_male (t-test)                                                 \n",
       " asc_drive_3bis (t-test)                                                 \n",
       " asc_drive_3bis_male (t-test)                                            \n",
       " beta_cost_3bis (t-test)                                                 \n",
       " beta_time_cycle_3bis (t-test)                                           \n",
       " beta_time_drive_3bis (t-test)                                           \n",
       " beta_time_pt_3bis (t-test)                                              \n",
       " beta_time_pt_3bis_squarred (t-test)                                     \n",
       " beta_time_walk_3bis (t-test)                                            \n",
       " beta_time_pt_33_squarred (t-test)                                       \n",
       " beta_elapsed_cycle (t-test)                                             \n",
       " beta_elapsed_time_drive (t-test)                                        \n",
       " beta_elapsed_time_pt (t-test)                                           \n",
       " beta_elapsed_walk (t-test)                                              \n",
       " lambda_boxcox (t-test)                                                  \n",
       " \n",
       "                                               Model2          Model2_2  \\\n",
       " Number of estimated parameters                    11                 9   \n",
       " Sample size                                     5000              5000   \n",
       " Final log likelihood                    -4245.240248      -4273.204064   \n",
       " Akaike Information Criterion             8512.480496       8564.408128   \n",
       " Bayesian Information Criterion           8584.169621       8623.062867   \n",
       " asc_cycle (t-test)                    -5.46  (-21.5)      -4.84  (-24)   \n",
       " asc_drive (t-test)                    -1.89  (-13.1)    -1.97  (-14.3)   \n",
       " asc_pt (t-test)                       -2.21  (-15.1)    -2.34  (-16.8)   \n",
       " beta_cost (t-test)                   -0.183  (-11.3)   -0.152  (-8.08)   \n",
       " beta_time (t-test)                                                       \n",
       " beta_time_cycle (t-test)              -5.58  (-11.8)    -5.35  (-11.6)   \n",
       " beta_time_drive (t-test)              -6.49  (-17.1)      -6.49  (-17)   \n",
       " beta_time_pt (t-test)                   -3.53  (-14)    -3.54  (-14.1)   \n",
       " beta_time_walk (t-test)               -8.46  (-20.2)    -8.44  (-20.2)   \n",
       " asc_cycle_male (t-test)                 1.05  (5.04)                     \n",
       " asc_drive_male (t-test)              -0.198  (-2.08)                     \n",
       " asc_pt_male (t-test)                 -0.333  (-3.35)                     \n",
       " beta_cost_male (t-test)                               -0.0654  (-2.05)   \n",
       " asc_drive_3bis (t-test)                                                  \n",
       " asc_drive_3bis_male (t-test)                                             \n",
       " beta_cost_3bis (t-test)                                                  \n",
       " beta_time_cycle_3bis (t-test)                                            \n",
       " beta_time_drive_3bis (t-test)                                            \n",
       " beta_time_pt_3bis (t-test)                                               \n",
       " beta_time_pt_3bis_squarred (t-test)                                      \n",
       " beta_time_walk_3bis (t-test)                                             \n",
       " beta_time_pt_33_squarred (t-test)                                        \n",
       " beta_elapsed_cycle (t-test)                                              \n",
       " beta_elapsed_time_drive (t-test)                                         \n",
       " beta_elapsed_time_pt (t-test)                                            \n",
       " beta_elapsed_walk (t-test)                                               \n",
       " lambda_boxcox (t-test)                                                   \n",
       " \n",
       "                                          Model_3bis         Model_33  \\\n",
       " Number of estimated parameters                   12               10   \n",
       " Sample size                                    5000             5000   \n",
       " Final log likelihood                   -4236.589214     -4264.777617   \n",
       " Akaike Information Criterion            8497.178429      8549.555234   \n",
       " Bayesian Information Criterion          8575.384747      8614.727166   \n",
       " asc_cycle (t-test)                   -5.37  (-21.4)   -4.76  (-23.9)   \n",
       " asc_drive (t-test)                                    -1.88  (-13.5)   \n",
       " asc_pt (t-test)                      -2.49  (-15.6)     -2.62  (-17)   \n",
       " beta_cost (t-test)                                   -0.149  (-7.88)   \n",
       " beta_time (t-test)                                                     \n",
       " beta_time_cycle (t-test)                                -5.35  (-12)   \n",
       " beta_time_drive (t-test)                              -6.55  (-16.9)   \n",
       " beta_time_pt (t-test)                                 -2.01  (-4.28)   \n",
       " beta_time_walk (t-test)                               -8.29  (-19.8)   \n",
       " asc_cycle_male (t-test)                1.05  (5.05)                    \n",
       " asc_drive_male (t-test)                                                \n",
       " asc_pt_male (t-test)                 -0.34  (-3.36)                    \n",
       " beta_cost_male (t-test)                              -0.066  (-2.05)   \n",
       " asc_drive_3bis (t-test)               -1.8  (-12.4)                    \n",
       " asc_drive_3bis_male (t-test)         -0.198  (-2.1)                    \n",
       " beta_cost_3bis (t-test)                -0.18  (-11)                    \n",
       " beta_time_cycle_3bis (t-test)        -5.57  (-12.2)                    \n",
       " beta_time_drive_3bis (t-test)        -6.56  (-16.9)                    \n",
       " beta_time_pt_3bis (t-test)           -1.98  (-4.21)                    \n",
       " beta_time_pt_3bis_squarred (t-test)  -1.24  (-3.53)                    \n",
       " beta_time_walk_3bis (t-test)         -8.31  (-19.9)                    \n",
       " beta_time_pt_33_squarred (t-test)                     -1.22  (-3.46)   \n",
       " beta_elapsed_cycle (t-test)                                            \n",
       " beta_elapsed_time_drive (t-test)                                       \n",
       " beta_elapsed_time_pt (t-test)                                          \n",
       " beta_elapsed_walk (t-test)                                             \n",
       " lambda_boxcox (t-test)                                                 \n",
       " \n",
       "                                              Model_3  \n",
       " Number of estimated parameters                    12  \n",
       " Sample size                                     5000  \n",
       " Final log likelihood                    -4157.246378  \n",
       " Akaike Information Criterion             8338.492755  \n",
       " Bayesian Information Criterion           8416.699073  \n",
       " asc_cycle (t-test)                    -3.22  (-10.6)  \n",
       " asc_drive (t-test)                    0.0696  (0.32)  \n",
       " asc_pt (t-test)                         1.85  (10.8)  \n",
       " beta_cost (t-test)                   -0.175  (-11.2)  \n",
       " beta_time (t-test)                                    \n",
       " beta_time_cycle (t-test)                              \n",
       " beta_time_drive (t-test)                              \n",
       " beta_time_pt (t-test)                                 \n",
       " beta_time_walk (t-test)                               \n",
       " asc_cycle_male (t-test)                 1.05  (5.01)  \n",
       " asc_drive_male (t-test)              -0.226  (-2.23)  \n",
       " asc_pt_male (t-test)                  -0.375  (-3.5)  \n",
       " beta_cost_male (t-test)                               \n",
       " asc_drive_3bis (t-test)                               \n",
       " asc_drive_3bis_male (t-test)                          \n",
       " beta_cost_3bis (t-test)                               \n",
       " beta_time_cycle_3bis (t-test)                         \n",
       " beta_time_drive_3bis (t-test)                         \n",
       " beta_time_pt_3bis (t-test)                            \n",
       " beta_time_pt_3bis_squarred (t-test)                   \n",
       " beta_time_walk_3bis (t-test)                          \n",
       " beta_time_pt_33_squarred (t-test)                     \n",
       " beta_elapsed_cycle (t-test)           -3.32  (-12.4)  \n",
       " beta_elapsed_time_drive (t-test)       -3.3  (-12.4)  \n",
       " beta_elapsed_time_pt (t-test)         -2.64  (-14.4)  \n",
       " beta_elapsed_walk (t-test)            -5.45  (-21.5)  \n",
       " lambda_boxcox (t-test)                 0.269  (5.39)  ,\n",
       " {'Model0': 'Model0',\n",
       "  'Model1': 'Model1',\n",
       "  'Model2': 'Model2',\n",
       "  'Model2_2': 'Model2_2',\n",
       "  'Model_3bis': 'Model_3bis',\n",
       "  'Model_33': 'Model_33',\n",
       "  'Model_3': 'Model_3'})"
      ]
     },
     "execution_count": 46,
     "metadata": {},
     "output_type": "execute_result"
    }
   ],
   "source": [
    "res.compileEstimationResults(all_results)"
   ]
  },
  {
   "cell_type": "code",
   "execution_count": 47,
   "id": "8ec027b6",
   "metadata": {
    "execution": {
     "iopub.execute_input": "2023-12-06T17:24:35.434899Z",
     "iopub.status.busy": "2023-12-06T17:24:35.434554Z",
     "iopub.status.idle": "2023-12-06T17:24:35.508812Z",
     "shell.execute_reply": "2023-12-06T17:24:35.507360Z",
     "shell.execute_reply.started": "2023-12-06T17:24:35.434866Z"
    },
    "tags": []
   },
   "outputs": [
    {
     "name": "stdout",
     "output_type": "stream",
     "text": [
      "Null Loglikelihood : \n"
     ]
    },
    {
     "data": {
      "text/plain": [
       "-6931.471805599917"
      ]
     },
     "execution_count": 47,
     "metadata": {},
     "output_type": "execute_result"
    }
   ],
   "source": [
    "print(\"Null Loglikelihood : \")\n",
    "biogeme_model3.calculateNullLoglikelihood(av)"
   ]
  },
  {
   "cell_type": "code",
   "execution_count": 48,
   "id": "dc3d2404",
   "metadata": {
    "execution": {
     "iopub.execute_input": "2023-12-06T17:24:35.511770Z",
     "iopub.status.busy": "2023-12-06T17:24:35.511429Z",
     "iopub.status.idle": "2023-12-06T17:24:35.550623Z",
     "shell.execute_reply": "2023-12-06T17:24:35.537520Z",
     "shell.execute_reply.started": "2023-12-06T17:24:35.511738Z"
    },
    "tags": []
   },
   "outputs": [
    {
     "data": {
      "text/plain": [
       "LRTuple(message='H0 can be rejected at level 5.0%', statistic=175.98774088707978, threshold=3.841458820694124)"
      ]
     },
     "execution_count": 48,
     "metadata": {},
     "output_type": "execute_result"
    }
   ],
   "source": [
    "results_model3.likelihood_ratio_test(results_segmented_gender, 0.05)"
   ]
  },
  {
   "cell_type": "code",
   "execution_count": 49,
   "id": "977c325b",
   "metadata": {
    "execution": {
     "iopub.execute_input": "2023-12-06T17:24:35.552954Z",
     "iopub.status.busy": "2023-12-06T17:24:35.552438Z",
     "iopub.status.idle": "2023-12-06T17:24:35.581562Z",
     "shell.execute_reply": "2023-12-06T17:24:35.579608Z",
     "shell.execute_reply.started": "2023-12-06T17:24:35.552904Z"
    },
    "tags": []
   },
   "outputs": [
    {
     "name": "stdout",
     "output_type": "stream",
     "text": [
      "Number of estimated parameters:\t12\n",
      "Sample size:\t5000\n",
      "Excluded observations:\t0\n",
      "Init log likelihood:\t-4157.246\n",
      "Final log likelihood:\t-4157.246\n",
      "Likelihood ratio test for the init. model:\t6.619157e-07\n",
      "Rho-square for the init. model:\t7.96e-11\n",
      "Rho-square-bar for the init. model:\t-0.00289\n",
      "Akaike Information Criterion:\t8338.493\n",
      "Bayesian Information Criterion:\t8416.699\n",
      "Final gradient norm:\t2.1054E-02\n",
      "Nbr of threads:\t16\n",
      "\n"
     ]
    }
   ],
   "source": [
    "print(results_model3.printGeneralStatistics())"
   ]
  },
  {
   "cell_type": "markdown",
   "id": "facacbc9",
   "metadata": {},
   "source": [
    "To compare Model 2 and Model 3 I think we should use a Cox test as Model 3 is not a a linear restriction of Model 2, to do that we create a composite model C such that both models 1 and 2 are restricted cases of model C.\n"
   ]
  },
  {
   "cell_type": "code",
   "execution_count": 50,
   "id": "a0a16213",
   "metadata": {
    "execution": {
     "iopub.execute_input": "2023-12-06T17:24:35.584002Z",
     "iopub.status.busy": "2023-12-06T17:24:35.583422Z",
     "iopub.status.idle": "2023-12-06T17:24:35.728419Z",
     "shell.execute_reply": "2023-12-06T17:24:35.726539Z",
     "shell.execute_reply.started": "2023-12-06T17:24:35.583950Z"
    },
    "tags": []
   },
   "outputs": [],
   "source": [
    "v_walk_model2= beta_time_walk * time_walk  \n",
    "v_cycle_model2= segmented_asc_cycle + beta_time_cycle * time_cycle \n",
    "v_pt_model2= segmented_asc_pt + beta_time_pt * time_pt + beta_cost * cost_pt\n",
    "v_drive_model2= segmented_asc_drive + beta_time_drive * time_drive + beta_cost * cost_drive\n",
    "\n",
    "\n",
    "v_walk_model3 = beta_elapsed_time_walk * boxcox_time_walk\n",
    "v_cycle_model3  = segmented_asc_cycle + beta_elapsed_time_cycle * boxcox_time_cycle \n",
    "v_pt_model3  = segmented_asc_pt + beta_elapsed_time_pt * boxcox_time_pt   + beta_cost * cost_pt \n",
    "v_drive_model3  = segmented_asc_drive + beta_elapsed_time_drive * boxcox_time_drive + beta_cost * cost_drive \n",
    "\n",
    "\n",
    "v_walk_model_generic = beta_time_walk * time_walk + beta_elapsed_time_walk * boxcox_time_walk\n",
    "v_cycle_model_generic = segmented_asc_cycle + beta_time_cycle * time_cycle +  beta_elapsed_time_cycle * boxcox_time_cycle \n",
    "v_pt_model_generic = segmented_asc_pt + beta_time_pt * time_pt + beta_cost * cost_pt + beta_elapsed_time_pt * boxcox_time_pt \n",
    "v_drive_model_generic = segmented_asc_drive + beta_time_drive * time_drive + beta_cost * cost_drive + beta_elapsed_time_drive * boxcox_time_drive"
   ]
  },
  {
   "cell_type": "code",
   "execution_count": 51,
   "id": "2867b8c9",
   "metadata": {
    "execution": {
     "iopub.execute_input": "2023-12-06T17:24:35.730992Z",
     "iopub.status.busy": "2023-12-06T17:24:35.730429Z",
     "iopub.status.idle": "2023-12-06T17:25:21.297671Z",
     "shell.execute_reply": "2023-12-06T17:25:21.296087Z",
     "shell.execute_reply.started": "2023-12-06T17:24:35.730908Z"
    },
    "tags": []
   },
   "outputs": [
    {
     "data": {
      "text/html": [
       "<div>\n",
       "<style scoped>\n",
       "    .dataframe tbody tr th:only-of-type {\n",
       "        vertical-align: middle;\n",
       "    }\n",
       "\n",
       "    .dataframe tbody tr th {\n",
       "        vertical-align: top;\n",
       "    }\n",
       "\n",
       "    .dataframe thead th {\n",
       "        text-align: right;\n",
       "    }\n",
       "</style>\n",
       "<table border=\"1\" class=\"dataframe\">\n",
       "  <thead>\n",
       "    <tr style=\"text-align: right;\">\n",
       "      <th></th>\n",
       "      <th>Value</th>\n",
       "      <th>Rob. Std err</th>\n",
       "      <th>Rob. t-test</th>\n",
       "      <th>Rob. p-value</th>\n",
       "    </tr>\n",
       "  </thead>\n",
       "  <tbody>\n",
       "    <tr>\n",
       "      <th>asc_cycle</th>\n",
       "      <td>-2.719436</td>\n",
       "      <td>1.209630</td>\n",
       "      <td>-2.248156</td>\n",
       "      <td>2.456623e-02</td>\n",
       "    </tr>\n",
       "    <tr>\n",
       "      <th>asc_cycle_male</th>\n",
       "      <td>1.056040</td>\n",
       "      <td>0.209809</td>\n",
       "      <td>5.033341</td>\n",
       "      <td>4.820036e-07</td>\n",
       "    </tr>\n",
       "    <tr>\n",
       "      <th>asc_drive</th>\n",
       "      <td>0.714623</td>\n",
       "      <td>0.889158</td>\n",
       "      <td>0.803708</td>\n",
       "      <td>4.215658e-01</td>\n",
       "    </tr>\n",
       "    <tr>\n",
       "      <th>asc_drive_male</th>\n",
       "      <td>-0.224762</td>\n",
       "      <td>0.101194</td>\n",
       "      <td>-2.221109</td>\n",
       "      <td>2.634355e-02</td>\n",
       "    </tr>\n",
       "    <tr>\n",
       "      <th>asc_pt</th>\n",
       "      <td>5.472905</td>\n",
       "      <td>1.694865</td>\n",
       "      <td>3.229109</td>\n",
       "      <td>1.241764e-03</td>\n",
       "    </tr>\n",
       "    <tr>\n",
       "      <th>asc_pt_male</th>\n",
       "      <td>-0.369799</td>\n",
       "      <td>0.108181</td>\n",
       "      <td>-3.418342</td>\n",
       "      <td>6.300379e-04</td>\n",
       "    </tr>\n",
       "    <tr>\n",
       "      <th>beta_cost</th>\n",
       "      <td>-0.171005</td>\n",
       "      <td>0.015857</td>\n",
       "      <td>-10.784486</td>\n",
       "      <td>0.000000e+00</td>\n",
       "    </tr>\n",
       "    <tr>\n",
       "      <th>beta_elapsed_cycle</th>\n",
       "      <td>-5.388632</td>\n",
       "      <td>2.032559</td>\n",
       "      <td>-2.651157</td>\n",
       "      <td>8.021650e-03</td>\n",
       "    </tr>\n",
       "    <tr>\n",
       "      <th>beta_elapsed_time_drive</th>\n",
       "      <td>-5.281332</td>\n",
       "      <td>2.313922</td>\n",
       "      <td>-2.282416</td>\n",
       "      <td>2.246478e-02</td>\n",
       "    </tr>\n",
       "    <tr>\n",
       "      <th>beta_elapsed_time_pt</th>\n",
       "      <td>-2.398180</td>\n",
       "      <td>1.003280</td>\n",
       "      <td>-2.390341</td>\n",
       "      <td>1.683275e-02</td>\n",
       "    </tr>\n",
       "    <tr>\n",
       "      <th>beta_elapsed_walk</th>\n",
       "      <td>-8.055440</td>\n",
       "      <td>2.421026</td>\n",
       "      <td>-3.327283</td>\n",
       "      <td>8.769713e-04</td>\n",
       "    </tr>\n",
       "    <tr>\n",
       "      <th>beta_time_cycle</th>\n",
       "      <td>2.219195</td>\n",
       "      <td>2.119540</td>\n",
       "      <td>1.047017</td>\n",
       "      <td>2.950918e-01</td>\n",
       "    </tr>\n",
       "    <tr>\n",
       "      <th>beta_time_drive</th>\n",
       "      <td>1.978882</td>\n",
       "      <td>2.695846</td>\n",
       "      <td>0.734049</td>\n",
       "      <td>4.629191e-01</td>\n",
       "    </tr>\n",
       "    <tr>\n",
       "      <th>beta_time_pt</th>\n",
       "      <td>-1.039108</td>\n",
       "      <td>1.152049</td>\n",
       "      <td>-0.901965</td>\n",
       "      <td>3.670756e-01</td>\n",
       "    </tr>\n",
       "    <tr>\n",
       "      <th>beta_time_walk</th>\n",
       "      <td>2.846187</td>\n",
       "      <td>2.313754</td>\n",
       "      <td>1.230117</td>\n",
       "      <td>2.186534e-01</td>\n",
       "    </tr>\n",
       "    <tr>\n",
       "      <th>lambda_boxcox</th>\n",
       "      <td>0.442852</td>\n",
       "      <td>0.135806</td>\n",
       "      <td>3.260920</td>\n",
       "      <td>1.110515e-03</td>\n",
       "    </tr>\n",
       "  </tbody>\n",
       "</table>\n",
       "</div>"
      ],
      "text/plain": [
       "                            Value  Rob. Std err  Rob. t-test  Rob. p-value\n",
       "asc_cycle               -2.719436      1.209630    -2.248156  2.456623e-02\n",
       "asc_cycle_male           1.056040      0.209809     5.033341  4.820036e-07\n",
       "asc_drive                0.714623      0.889158     0.803708  4.215658e-01\n",
       "asc_drive_male          -0.224762      0.101194    -2.221109  2.634355e-02\n",
       "asc_pt                   5.472905      1.694865     3.229109  1.241764e-03\n",
       "asc_pt_male             -0.369799      0.108181    -3.418342  6.300379e-04\n",
       "beta_cost               -0.171005      0.015857   -10.784486  0.000000e+00\n",
       "beta_elapsed_cycle      -5.388632      2.032559    -2.651157  8.021650e-03\n",
       "beta_elapsed_time_drive -5.281332      2.313922    -2.282416  2.246478e-02\n",
       "beta_elapsed_time_pt    -2.398180      1.003280    -2.390341  1.683275e-02\n",
       "beta_elapsed_walk       -8.055440      2.421026    -3.327283  8.769713e-04\n",
       "beta_time_cycle          2.219195      2.119540     1.047017  2.950918e-01\n",
       "beta_time_drive          1.978882      2.695846     0.734049  4.629191e-01\n",
       "beta_time_pt            -1.039108      1.152049    -0.901965  3.670756e-01\n",
       "beta_time_walk           2.846187      2.313754     1.230117  2.186534e-01\n",
       "lambda_boxcox            0.442852      0.135806     3.260920  1.110515e-03"
      ]
     },
     "execution_count": 51,
     "metadata": {},
     "output_type": "execute_result"
    }
   ],
   "source": [
    "V_model_generic = {1: v_walk_model_generic , 2: v_cycle_model_generic, 3: v_pt_model_generic, 4: v_drive_model_generic}\n",
    "logprob_model_generic = models.loglogit(V_model_generic, av, travel_mode)\n",
    "biogeme_model_generic = bio.BIOGEME(database, logprob_model_generic)\n",
    "biogeme_model_generic.modelName = 'Model_generic'\n",
    "all_results['Model_generic'] = biogeme_model_generic.estimate()\n",
    "results_model_generic = biogeme_model_generic.estimate()\n",
    "results_model_generic.getEstimatedParameters()"
   ]
  },
  {
   "cell_type": "code",
   "execution_count": 52,
   "id": "1cb82353",
   "metadata": {
    "execution": {
     "iopub.execute_input": "2023-12-06T17:25:21.299441Z",
     "iopub.status.busy": "2023-12-06T17:25:21.299127Z",
     "iopub.status.idle": "2023-12-06T17:25:21.340359Z",
     "shell.execute_reply": "2023-12-06T17:25:21.338949Z",
     "shell.execute_reply.started": "2023-12-06T17:25:21.299411Z"
    },
    "tags": []
   },
   "outputs": [
    {
     "data": {
      "text/plain": [
       "(                                              Model0           Model1  \\\n",
       " Number of estimated parameters                     5                8   \n",
       " Sample size                                     5000             5000   \n",
       " Final log likelihood                    -4587.818071     -4275.496547   \n",
       " Akaike Information Criterion             9185.636142      8566.993094   \n",
       " Bayesian Information Criterion           9218.222108      8619.130639   \n",
       " asc_cycle (t-test)                      -3.88  (-36)   -4.85  (-23.9)   \n",
       " asc_drive (t-test)                     -1.3  (-16.1)   -1.97  (-14.3)   \n",
       " asc_pt (t-test)                       -0.503  (-9.3)   -2.34  (-16.8)   \n",
       " beta_cost (t-test)                   -0.194  (-13.9)  -0.182  (-11.3)   \n",
       " beta_time (t-test)                     -5.5  (-26.3)                    \n",
       " beta_time_cycle (t-test)                               -5.31  (-11.5)   \n",
       " beta_time_drive (t-test)                               -6.47  (-17.1)   \n",
       " beta_time_pt (t-test)                                  -3.54  (-14.1)   \n",
       " beta_time_walk (t-test)                                -8.43  (-20.1)   \n",
       " asc_cycle_male (t-test)                                                 \n",
       " asc_drive_male (t-test)                                                 \n",
       " asc_pt_male (t-test)                                                    \n",
       " beta_cost_male (t-test)                                                 \n",
       " asc_drive_3bis (t-test)                                                 \n",
       " asc_drive_3bis_male (t-test)                                            \n",
       " beta_cost_3bis (t-test)                                                 \n",
       " beta_time_cycle_3bis (t-test)                                           \n",
       " beta_time_drive_3bis (t-test)                                           \n",
       " beta_time_pt_3bis (t-test)                                              \n",
       " beta_time_pt_3bis_squarred (t-test)                                     \n",
       " beta_time_walk_3bis (t-test)                                            \n",
       " beta_time_pt_33_squarred (t-test)                                       \n",
       " beta_elapsed_cycle (t-test)                                             \n",
       " beta_elapsed_time_drive (t-test)                                        \n",
       " beta_elapsed_time_pt (t-test)                                           \n",
       " beta_elapsed_walk (t-test)                                              \n",
       " lambda_boxcox (t-test)                                                  \n",
       " \n",
       "                                               Model2          Model2_2  \\\n",
       " Number of estimated parameters                    11                 9   \n",
       " Sample size                                     5000              5000   \n",
       " Final log likelihood                    -4245.240248      -4273.204064   \n",
       " Akaike Information Criterion             8512.480496       8564.408128   \n",
       " Bayesian Information Criterion           8584.169621       8623.062867   \n",
       " asc_cycle (t-test)                    -5.46  (-21.5)      -4.84  (-24)   \n",
       " asc_drive (t-test)                    -1.89  (-13.1)    -1.97  (-14.3)   \n",
       " asc_pt (t-test)                       -2.21  (-15.1)    -2.34  (-16.8)   \n",
       " beta_cost (t-test)                   -0.183  (-11.3)   -0.152  (-8.08)   \n",
       " beta_time (t-test)                                                       \n",
       " beta_time_cycle (t-test)              -5.58  (-11.8)    -5.35  (-11.6)   \n",
       " beta_time_drive (t-test)              -6.49  (-17.1)      -6.49  (-17)   \n",
       " beta_time_pt (t-test)                   -3.53  (-14)    -3.54  (-14.1)   \n",
       " beta_time_walk (t-test)               -8.46  (-20.2)    -8.44  (-20.2)   \n",
       " asc_cycle_male (t-test)                 1.05  (5.04)                     \n",
       " asc_drive_male (t-test)              -0.198  (-2.08)                     \n",
       " asc_pt_male (t-test)                 -0.333  (-3.35)                     \n",
       " beta_cost_male (t-test)                               -0.0654  (-2.05)   \n",
       " asc_drive_3bis (t-test)                                                  \n",
       " asc_drive_3bis_male (t-test)                                             \n",
       " beta_cost_3bis (t-test)                                                  \n",
       " beta_time_cycle_3bis (t-test)                                            \n",
       " beta_time_drive_3bis (t-test)                                            \n",
       " beta_time_pt_3bis (t-test)                                               \n",
       " beta_time_pt_3bis_squarred (t-test)                                      \n",
       " beta_time_walk_3bis (t-test)                                             \n",
       " beta_time_pt_33_squarred (t-test)                                        \n",
       " beta_elapsed_cycle (t-test)                                              \n",
       " beta_elapsed_time_drive (t-test)                                         \n",
       " beta_elapsed_time_pt (t-test)                                            \n",
       " beta_elapsed_walk (t-test)                                               \n",
       " lambda_boxcox (t-test)                                                   \n",
       " \n",
       "                                          Model_3bis         Model_33  \\\n",
       " Number of estimated parameters                   12               10   \n",
       " Sample size                                    5000             5000   \n",
       " Final log likelihood                   -4236.589214     -4264.777617   \n",
       " Akaike Information Criterion            8497.178429      8549.555234   \n",
       " Bayesian Information Criterion          8575.384747      8614.727166   \n",
       " asc_cycle (t-test)                   -5.37  (-21.4)   -4.76  (-23.9)   \n",
       " asc_drive (t-test)                                    -1.88  (-13.5)   \n",
       " asc_pt (t-test)                      -2.49  (-15.6)     -2.62  (-17)   \n",
       " beta_cost (t-test)                                   -0.149  (-7.88)   \n",
       " beta_time (t-test)                                                     \n",
       " beta_time_cycle (t-test)                                -5.35  (-12)   \n",
       " beta_time_drive (t-test)                              -6.55  (-16.9)   \n",
       " beta_time_pt (t-test)                                 -2.01  (-4.28)   \n",
       " beta_time_walk (t-test)                               -8.29  (-19.8)   \n",
       " asc_cycle_male (t-test)                1.05  (5.05)                    \n",
       " asc_drive_male (t-test)                                                \n",
       " asc_pt_male (t-test)                 -0.34  (-3.36)                    \n",
       " beta_cost_male (t-test)                              -0.066  (-2.05)   \n",
       " asc_drive_3bis (t-test)               -1.8  (-12.4)                    \n",
       " asc_drive_3bis_male (t-test)         -0.198  (-2.1)                    \n",
       " beta_cost_3bis (t-test)                -0.18  (-11)                    \n",
       " beta_time_cycle_3bis (t-test)        -5.57  (-12.2)                    \n",
       " beta_time_drive_3bis (t-test)        -6.56  (-16.9)                    \n",
       " beta_time_pt_3bis (t-test)           -1.98  (-4.21)                    \n",
       " beta_time_pt_3bis_squarred (t-test)  -1.24  (-3.53)                    \n",
       " beta_time_walk_3bis (t-test)         -8.31  (-19.9)                    \n",
       " beta_time_pt_33_squarred (t-test)                     -1.22  (-3.46)   \n",
       " beta_elapsed_cycle (t-test)                                            \n",
       " beta_elapsed_time_drive (t-test)                                       \n",
       " beta_elapsed_time_pt (t-test)                                          \n",
       " beta_elapsed_walk (t-test)                                             \n",
       " lambda_boxcox (t-test)                                                 \n",
       " \n",
       "                                              Model_3    Model_generic  \n",
       " Number of estimated parameters                    12               16  \n",
       " Sample size                                     5000             5000  \n",
       " Final log likelihood                    -4157.246378     -4149.466034  \n",
       " Akaike Information Criterion             8338.492755      8330.932067  \n",
       " Bayesian Information Criterion           8416.699073      8435.207158  \n",
       " asc_cycle (t-test)                    -3.22  (-10.6)   -2.72  (-2.25)  \n",
       " asc_drive (t-test)                    0.0696  (0.32)   0.715  (0.804)  \n",
       " asc_pt (t-test)                         1.85  (10.8)     5.47  (3.23)  \n",
       " beta_cost (t-test)                   -0.175  (-11.2)  -0.171  (-10.8)  \n",
       " beta_time (t-test)                                                     \n",
       " beta_time_cycle (t-test)                                 2.22  (1.05)  \n",
       " beta_time_drive (t-test)                                1.98  (0.734)  \n",
       " beta_time_pt (t-test)                                 -1.04  (-0.902)  \n",
       " beta_time_walk (t-test)                                  2.85  (1.23)  \n",
       " asc_cycle_male (t-test)                 1.05  (5.01)     1.06  (5.03)  \n",
       " asc_drive_male (t-test)              -0.226  (-2.23)  -0.225  (-2.22)  \n",
       " asc_pt_male (t-test)                  -0.375  (-3.5)   -0.37  (-3.42)  \n",
       " beta_cost_male (t-test)                                                \n",
       " asc_drive_3bis (t-test)                                                \n",
       " asc_drive_3bis_male (t-test)                                           \n",
       " beta_cost_3bis (t-test)                                                \n",
       " beta_time_cycle_3bis (t-test)                                          \n",
       " beta_time_drive_3bis (t-test)                                          \n",
       " beta_time_pt_3bis (t-test)                                             \n",
       " beta_time_pt_3bis_squarred (t-test)                                    \n",
       " beta_time_walk_3bis (t-test)                                           \n",
       " beta_time_pt_33_squarred (t-test)                                      \n",
       " beta_elapsed_cycle (t-test)           -3.32  (-12.4)   -5.39  (-2.65)  \n",
       " beta_elapsed_time_drive (t-test)       -3.3  (-12.4)   -5.28  (-2.28)  \n",
       " beta_elapsed_time_pt (t-test)         -2.64  (-14.4)    -2.4  (-2.39)  \n",
       " beta_elapsed_walk (t-test)            -5.45  (-21.5)   -8.06  (-3.33)  \n",
       " lambda_boxcox (t-test)                 0.269  (5.39)    0.443  (3.26)  ,\n",
       " {'Model0': 'Model0',\n",
       "  'Model1': 'Model1',\n",
       "  'Model2': 'Model2',\n",
       "  'Model2_2': 'Model2_2',\n",
       "  'Model_3bis': 'Model_3bis',\n",
       "  'Model_33': 'Model_33',\n",
       "  'Model_3': 'Model_3',\n",
       "  'Model_generic': 'Model_generic'})"
      ]
     },
     "execution_count": 52,
     "metadata": {},
     "output_type": "execute_result"
    }
   ],
   "source": [
    "res.compileEstimationResults(all_results)"
   ]
  },
  {
   "cell_type": "code",
   "execution_count": 53,
   "id": "56c500b5",
   "metadata": {
    "execution": {
     "iopub.execute_input": "2023-12-06T17:25:21.350328Z",
     "iopub.status.busy": "2023-12-06T17:25:21.341661Z",
     "iopub.status.idle": "2023-12-06T17:25:22.661972Z",
     "shell.execute_reply": "2023-12-06T17:25:22.660280Z",
     "shell.execute_reply.started": "2023-12-06T17:25:21.350275Z"
    },
    "tags": []
   },
   "outputs": [
    {
     "data": {
      "text/plain": [
       "LRTuple(message='H0 can be rejected at level 5.0%', statistic=191.54842730616838, threshold=11.070497693516351)"
      ]
     },
     "execution_count": 53,
     "metadata": {},
     "output_type": "execute_result"
    }
   ],
   "source": [
    "model_base=biogeme_model2\n",
    "results_base=model_base.estimate()\n",
    "results_model_generic.likelihood_ratio_test(results_base, 0.05)"
   ]
  },
  {
   "cell_type": "code",
   "execution_count": 54,
   "id": "82b1d36e",
   "metadata": {
    "execution": {
     "iopub.execute_input": "2023-12-06T17:25:22.666567Z",
     "iopub.status.busy": "2023-12-06T17:25:22.666132Z",
     "iopub.status.idle": "2023-12-06T17:25:25.127807Z",
     "shell.execute_reply": "2023-12-06T17:25:25.126043Z",
     "shell.execute_reply.started": "2023-12-06T17:25:22.666526Z"
    },
    "tags": []
   },
   "outputs": [
    {
     "data": {
      "text/plain": [
       "LRTuple(message='H0 can be rejected at level 5.0%', statistic=15.56068676695395, threshold=9.487729036781154)"
      ]
     },
     "execution_count": 54,
     "metadata": {},
     "output_type": "execute_result"
    }
   ],
   "source": [
    "model_base=biogeme_model3\n",
    "results_base=model_base.estimate()\n",
    "results_model_generic.likelihood_ratio_test(results_base, 0.05)"
   ]
  },
  {
   "cell_type": "markdown",
   "id": "b0129f46",
   "metadata": {},
   "source": [
    "## Model 4"
   ]
  },
  {
   "cell_type": "markdown",
   "id": "e9bb587f",
   "metadata": {},
   "source": [
    "We chose to separate the modes by nesting walking and cycling as \"soft modes\" and keeping driving and PT separeted. "
   ]
  },
  {
   "cell_type": "code",
   "execution_count": 55,
   "id": "ca542886",
   "metadata": {
    "execution": {
     "iopub.execute_input": "2023-12-06T17:25:25.130169Z",
     "iopub.status.busy": "2023-12-06T17:25:25.129655Z",
     "iopub.status.idle": "2023-12-06T17:25:25.139452Z",
     "shell.execute_reply": "2023-12-06T17:25:25.137981Z",
     "shell.execute_reply.started": "2023-12-06T17:25:25.130118Z"
    },
    "tags": []
   },
   "outputs": [],
   "source": [
    "model_base=biogeme_model3\n",
    "V_nested=V_model3\n",
    "#create the nests\n",
    "Mu_Drive =Beta(\"Mu_Drive\",1,0,None,0)\n",
    "Mu_PT =Beta(\"Mu_PT\",1,0,None,0)\n",
    "Mu_SM =Beta(\"Mu_SoftModes\",1,0,None,0)\n",
    "drive= Mu_Drive,[4]\n",
    "PT=Mu_PT, [3]\n",
    "SM=Mu_SM, [1,2]\n",
    "nests_modes=drive, PT, SM"
   ]
  },
  {
   "cell_type": "code",
   "execution_count": 56,
   "id": "f247548a",
   "metadata": {
    "execution": {
     "iopub.execute_input": "2023-12-06T17:25:25.141228Z",
     "iopub.status.busy": "2023-12-06T17:25:25.140827Z",
     "iopub.status.idle": "2023-12-06T17:26:10.587373Z",
     "shell.execute_reply": "2023-12-06T17:26:10.586174Z",
     "shell.execute_reply.started": "2023-12-06T17:25:25.141193Z"
    },
    "tags": []
   },
   "outputs": [
    {
     "data": {
      "text/html": [
       "<div>\n",
       "<style scoped>\n",
       "    .dataframe tbody tr th:only-of-type {\n",
       "        vertical-align: middle;\n",
       "    }\n",
       "\n",
       "    .dataframe tbody tr th {\n",
       "        vertical-align: top;\n",
       "    }\n",
       "\n",
       "    .dataframe thead th {\n",
       "        text-align: right;\n",
       "    }\n",
       "</style>\n",
       "<table border=\"1\" class=\"dataframe\">\n",
       "  <thead>\n",
       "    <tr style=\"text-align: right;\">\n",
       "      <th></th>\n",
       "      <th>Value</th>\n",
       "      <th>Rob. Std err</th>\n",
       "      <th>Rob. t-test</th>\n",
       "      <th>Rob. p-value</th>\n",
       "    </tr>\n",
       "  </thead>\n",
       "  <tbody>\n",
       "    <tr>\n",
       "      <th>Mu_Drive</th>\n",
       "      <td>1.000000</td>\n",
       "      <td>1.797693e+308</td>\n",
       "      <td>5.562685e-309</td>\n",
       "      <td>1.000000e+00</td>\n",
       "    </tr>\n",
       "    <tr>\n",
       "      <th>Mu_PT</th>\n",
       "      <td>1.000000</td>\n",
       "      <td>5.089742e-15</td>\n",
       "      <td>1.964736e+14</td>\n",
       "      <td>0.000000e+00</td>\n",
       "    </tr>\n",
       "    <tr>\n",
       "      <th>Mu_SoftModes</th>\n",
       "      <td>0.603667</td>\n",
       "      <td>7.646856e-02</td>\n",
       "      <td>7.894319e+00</td>\n",
       "      <td>2.886580e-15</td>\n",
       "    </tr>\n",
       "    <tr>\n",
       "      <th>asc_cycle</th>\n",
       "      <td>-2.956200</td>\n",
       "      <td>3.749334e-01</td>\n",
       "      <td>-7.884600e+00</td>\n",
       "      <td>3.108624e-15</td>\n",
       "    </tr>\n",
       "    <tr>\n",
       "      <th>asc_cycle_male</th>\n",
       "      <td>1.575047</td>\n",
       "      <td>3.496813e-01</td>\n",
       "      <td>4.504236e+00</td>\n",
       "      <td>6.661221e-06</td>\n",
       "    </tr>\n",
       "    <tr>\n",
       "      <th>asc_drive</th>\n",
       "      <td>0.294201</td>\n",
       "      <td>2.368848e-01</td>\n",
       "      <td>1.241958e+00</td>\n",
       "      <td>2.142521e-01</td>\n",
       "    </tr>\n",
       "    <tr>\n",
       "      <th>asc_drive_male</th>\n",
       "      <td>-0.147699</td>\n",
       "      <td>1.109258e-01</td>\n",
       "      <td>-1.331508e+00</td>\n",
       "      <td>1.830220e-01</td>\n",
       "    </tr>\n",
       "    <tr>\n",
       "      <th>asc_pt</th>\n",
       "      <td>2.180841</td>\n",
       "      <td>1.969116e-01</td>\n",
       "      <td>1.107523e+01</td>\n",
       "      <td>0.000000e+00</td>\n",
       "    </tr>\n",
       "    <tr>\n",
       "      <th>asc_pt_male</th>\n",
       "      <td>-0.290424</td>\n",
       "      <td>1.165442e-01</td>\n",
       "      <td>-2.491965e+00</td>\n",
       "      <td>1.270386e-02</td>\n",
       "    </tr>\n",
       "    <tr>\n",
       "      <th>beta_cost</th>\n",
       "      <td>-0.171546</td>\n",
       "      <td>1.569953e-02</td>\n",
       "      <td>-1.092681e+01</td>\n",
       "      <td>0.000000e+00</td>\n",
       "    </tr>\n",
       "    <tr>\n",
       "      <th>beta_elapsed_cycle</th>\n",
       "      <td>-2.579524</td>\n",
       "      <td>3.283478e-01</td>\n",
       "      <td>-7.856073e+00</td>\n",
       "      <td>3.996803e-15</td>\n",
       "    </tr>\n",
       "    <tr>\n",
       "      <th>beta_elapsed_time_drive</th>\n",
       "      <td>-3.590104</td>\n",
       "      <td>2.821274e-01</td>\n",
       "      <td>-1.272511e+01</td>\n",
       "      <td>0.000000e+00</td>\n",
       "    </tr>\n",
       "    <tr>\n",
       "      <th>beta_elapsed_time_pt</th>\n",
       "      <td>-2.802172</td>\n",
       "      <td>1.889832e-01</td>\n",
       "      <td>-1.482762e+01</td>\n",
       "      <td>0.000000e+00</td>\n",
       "    </tr>\n",
       "    <tr>\n",
       "      <th>beta_elapsed_walk</th>\n",
       "      <td>-5.995745</td>\n",
       "      <td>2.853876e-01</td>\n",
       "      <td>-2.100913e+01</td>\n",
       "      <td>0.000000e+00</td>\n",
       "    </tr>\n",
       "    <tr>\n",
       "      <th>lambda_boxcox</th>\n",
       "      <td>0.318291</td>\n",
       "      <td>5.021485e-02</td>\n",
       "      <td>6.338588e+00</td>\n",
       "      <td>2.318803e-10</td>\n",
       "    </tr>\n",
       "  </tbody>\n",
       "</table>\n",
       "</div>"
      ],
      "text/plain": [
       "                            Value   Rob. Std err    Rob. t-test  Rob. p-value\n",
       "Mu_Drive                 1.000000  1.797693e+308  5.562685e-309  1.000000e+00\n",
       "Mu_PT                    1.000000   5.089742e-15   1.964736e+14  0.000000e+00\n",
       "Mu_SoftModes             0.603667   7.646856e-02   7.894319e+00  2.886580e-15\n",
       "asc_cycle               -2.956200   3.749334e-01  -7.884600e+00  3.108624e-15\n",
       "asc_cycle_male           1.575047   3.496813e-01   4.504236e+00  6.661221e-06\n",
       "asc_drive                0.294201   2.368848e-01   1.241958e+00  2.142521e-01\n",
       "asc_drive_male          -0.147699   1.109258e-01  -1.331508e+00  1.830220e-01\n",
       "asc_pt                   2.180841   1.969116e-01   1.107523e+01  0.000000e+00\n",
       "asc_pt_male             -0.290424   1.165442e-01  -2.491965e+00  1.270386e-02\n",
       "beta_cost               -0.171546   1.569953e-02  -1.092681e+01  0.000000e+00\n",
       "beta_elapsed_cycle      -2.579524   3.283478e-01  -7.856073e+00  3.996803e-15\n",
       "beta_elapsed_time_drive -3.590104   2.821274e-01  -1.272511e+01  0.000000e+00\n",
       "beta_elapsed_time_pt    -2.802172   1.889832e-01  -1.482762e+01  0.000000e+00\n",
       "beta_elapsed_walk       -5.995745   2.853876e-01  -2.100913e+01  0.000000e+00\n",
       "lambda_boxcox            0.318291   5.021485e-02   6.338588e+00  2.318803e-10"
      ]
     },
     "execution_count": 56,
     "metadata": {},
     "output_type": "execute_result"
    }
   ],
   "source": [
    "logprob_model_nested = models.lognested(V_nested, av, nests_modes, travel_mode)\n",
    "biogeme_model_nested = bio.BIOGEME(database, logprob_model_nested)\n",
    "biogeme_model_nested.modelName = 'nestmodes'\n",
    "all_results['Nestmodes'] = biogeme_model_nested.estimate()\n",
    "results_model_nested = biogeme_model_nested.estimate()\n",
    "results_model_nested.getEstimatedParameters()"
   ]
  },
  {
   "cell_type": "markdown",
   "id": "3e191cdf",
   "metadata": {},
   "source": [
    "The model is rejected as Mu soft modes in < 1"
   ]
  },
  {
   "cell_type": "markdown",
   "id": "69ecd781",
   "metadata": {},
   "source": [
    "We try another model : vehicles (bikes, cars, PT) and not vehicle (walk) "
   ]
  },
  {
   "cell_type": "code",
   "execution_count": 57,
   "id": "35073d29",
   "metadata": {
    "execution": {
     "iopub.execute_input": "2023-12-06T17:26:10.588937Z",
     "iopub.status.busy": "2023-12-06T17:26:10.588614Z",
     "iopub.status.idle": "2023-12-06T17:26:10.595512Z",
     "shell.execute_reply": "2023-12-06T17:26:10.594341Z",
     "shell.execute_reply.started": "2023-12-06T17:26:10.588905Z"
    },
    "tags": []
   },
   "outputs": [],
   "source": [
    "Mu_vehicle=Beta(\"Mu_vehicle\",1,0,None,0)\n",
    "Mu_not_vehicle=Beta(\"Mu_not_vehicle\",1,0,None,0)\n",
    "vehicle= Mu_vehicle,[2,3,4]\n",
    "not_vehicle=Mu_not_vehicle,[1]\n",
    "nests_vehicle=vehicle, not_vehicle\n"
   ]
  },
  {
   "cell_type": "code",
   "execution_count": 58,
   "id": "a1c8173d",
   "metadata": {
    "execution": {
     "iopub.execute_input": "2023-12-06T17:26:10.596976Z",
     "iopub.status.busy": "2023-12-06T17:26:10.596666Z",
     "iopub.status.idle": "2023-12-06T17:26:55.304998Z",
     "shell.execute_reply": "2023-12-06T17:26:55.303404Z",
     "shell.execute_reply.started": "2023-12-06T17:26:10.596948Z"
    },
    "tags": []
   },
   "outputs": [
    {
     "data": {
      "text/html": [
       "<div>\n",
       "<style scoped>\n",
       "    .dataframe tbody tr th:only-of-type {\n",
       "        vertical-align: middle;\n",
       "    }\n",
       "\n",
       "    .dataframe tbody tr th {\n",
       "        vertical-align: top;\n",
       "    }\n",
       "\n",
       "    .dataframe thead th {\n",
       "        text-align: right;\n",
       "    }\n",
       "</style>\n",
       "<table border=\"1\" class=\"dataframe\">\n",
       "  <thead>\n",
       "    <tr style=\"text-align: right;\">\n",
       "      <th></th>\n",
       "      <th>Value</th>\n",
       "      <th>Rob. Std err</th>\n",
       "      <th>Rob. t-test</th>\n",
       "      <th>Rob. p-value</th>\n",
       "    </tr>\n",
       "  </thead>\n",
       "  <tbody>\n",
       "    <tr>\n",
       "      <th>Mu_not_vehicle</th>\n",
       "      <td>1.000000</td>\n",
       "      <td>1.797693e+308</td>\n",
       "      <td>5.562685e-309</td>\n",
       "      <td>1.000000e+00</td>\n",
       "    </tr>\n",
       "    <tr>\n",
       "      <th>Mu_vehicle</th>\n",
       "      <td>1.142143</td>\n",
       "      <td>1.710858e-01</td>\n",
       "      <td>6.675852e+00</td>\n",
       "      <td>2.458012e-11</td>\n",
       "    </tr>\n",
       "    <tr>\n",
       "      <th>asc_cycle</th>\n",
       "      <td>-2.349335</td>\n",
       "      <td>9.584148e-01</td>\n",
       "      <td>-2.451272e+00</td>\n",
       "      <td>1.423524e-02</td>\n",
       "    </tr>\n",
       "    <tr>\n",
       "      <th>asc_cycle_male</th>\n",
       "      <td>0.899325</td>\n",
       "      <td>2.486350e-01</td>\n",
       "      <td>3.617050e+00</td>\n",
       "      <td>2.979797e-04</td>\n",
       "    </tr>\n",
       "    <tr>\n",
       "      <th>asc_drive</th>\n",
       "      <td>0.523291</td>\n",
       "      <td>5.205580e-01</td>\n",
       "      <td>1.005249e+00</td>\n",
       "      <td>3.147769e-01</td>\n",
       "    </tr>\n",
       "    <tr>\n",
       "      <th>asc_drive_male</th>\n",
       "      <td>-0.221889</td>\n",
       "      <td>1.000770e-01</td>\n",
       "      <td>-2.217179e+00</td>\n",
       "      <td>2.661087e-02</td>\n",
       "    </tr>\n",
       "    <tr>\n",
       "      <th>asc_pt</th>\n",
       "      <td>2.077333</td>\n",
       "      <td>2.936414e-01</td>\n",
       "      <td>7.074389e+00</td>\n",
       "      <td>1.501022e-12</td>\n",
       "    </tr>\n",
       "    <tr>\n",
       "      <th>asc_pt_male</th>\n",
       "      <td>-0.352432</td>\n",
       "      <td>1.071007e-01</td>\n",
       "      <td>-3.290664e+00</td>\n",
       "      <td>9.995108e-04</td>\n",
       "    </tr>\n",
       "    <tr>\n",
       "      <th>beta_cost</th>\n",
       "      <td>-0.153248</td>\n",
       "      <td>2.782004e-02</td>\n",
       "      <td>-5.508557e+00</td>\n",
       "      <td>3.617861e-08</td>\n",
       "    </tr>\n",
       "    <tr>\n",
       "      <th>beta_elapsed_cycle</th>\n",
       "      <td>-2.879902</td>\n",
       "      <td>5.242357e-01</td>\n",
       "      <td>-5.493526e+00</td>\n",
       "      <td>3.939878e-08</td>\n",
       "    </tr>\n",
       "    <tr>\n",
       "      <th>beta_elapsed_time_drive</th>\n",
       "      <td>-2.869768</td>\n",
       "      <td>5.140570e-01</td>\n",
       "      <td>-5.582588e+00</td>\n",
       "      <td>2.369660e-08</td>\n",
       "    </tr>\n",
       "    <tr>\n",
       "      <th>beta_elapsed_time_pt</th>\n",
       "      <td>-2.318716</td>\n",
       "      <td>3.796288e-01</td>\n",
       "      <td>-6.107851e+00</td>\n",
       "      <td>1.009815e-09</td>\n",
       "    </tr>\n",
       "    <tr>\n",
       "      <th>beta_elapsed_walk</th>\n",
       "      <td>-5.146258</td>\n",
       "      <td>4.086589e-01</td>\n",
       "      <td>-1.259304e+01</td>\n",
       "      <td>0.000000e+00</td>\n",
       "    </tr>\n",
       "    <tr>\n",
       "      <th>lambda_boxcox</th>\n",
       "      <td>0.250434</td>\n",
       "      <td>5.399259e-02</td>\n",
       "      <td>4.638298e+00</td>\n",
       "      <td>3.512907e-06</td>\n",
       "    </tr>\n",
       "  </tbody>\n",
       "</table>\n",
       "</div>"
      ],
      "text/plain": [
       "                            Value   Rob. Std err    Rob. t-test  Rob. p-value\n",
       "Mu_not_vehicle           1.000000  1.797693e+308  5.562685e-309  1.000000e+00\n",
       "Mu_vehicle               1.142143   1.710858e-01   6.675852e+00  2.458012e-11\n",
       "asc_cycle               -2.349335   9.584148e-01  -2.451272e+00  1.423524e-02\n",
       "asc_cycle_male           0.899325   2.486350e-01   3.617050e+00  2.979797e-04\n",
       "asc_drive                0.523291   5.205580e-01   1.005249e+00  3.147769e-01\n",
       "asc_drive_male          -0.221889   1.000770e-01  -2.217179e+00  2.661087e-02\n",
       "asc_pt                   2.077333   2.936414e-01   7.074389e+00  1.501022e-12\n",
       "asc_pt_male             -0.352432   1.071007e-01  -3.290664e+00  9.995108e-04\n",
       "beta_cost               -0.153248   2.782004e-02  -5.508557e+00  3.617861e-08\n",
       "beta_elapsed_cycle      -2.879902   5.242357e-01  -5.493526e+00  3.939878e-08\n",
       "beta_elapsed_time_drive -2.869768   5.140570e-01  -5.582588e+00  2.369660e-08\n",
       "beta_elapsed_time_pt    -2.318716   3.796288e-01  -6.107851e+00  1.009815e-09\n",
       "beta_elapsed_walk       -5.146258   4.086589e-01  -1.259304e+01  0.000000e+00\n",
       "lambda_boxcox            0.250434   5.399259e-02   4.638298e+00  3.512907e-06"
      ]
     },
     "execution_count": 58,
     "metadata": {},
     "output_type": "execute_result"
    }
   ],
   "source": [
    "logprob_model_nestedvehicle = models.lognested(V_nested, av, nests_vehicle, travel_mode)\n",
    "biogeme_model_nestedvehicle = bio.BIOGEME(database, logprob_model_nestedvehicle)\n",
    "biogeme_model_nestedvehicle.modelName = 'Model_nested_vehicle'\n",
    "results_model_nestedvehicle = biogeme_model_nestedvehicle.estimate()\n",
    "all_results['Model_nested_vehicle'] = results_model_nestedvehicle\n",
    "table_nestedvehicle=results_model_nestedvehicle.getEstimatedParameters()\n",
    "table_nestedvehicle"
   ]
  },
  {
   "cell_type": "code",
   "execution_count": 59,
   "id": "afbbc1fc",
   "metadata": {
    "execution": {
     "iopub.execute_input": "2023-12-06T17:26:55.306887Z",
     "iopub.status.busy": "2023-12-06T17:26:55.306536Z",
     "iopub.status.idle": "2023-12-06T17:26:55.360114Z",
     "shell.execute_reply": "2023-12-06T17:26:55.358738Z",
     "shell.execute_reply.started": "2023-12-06T17:26:55.306855Z"
    },
    "tags": []
   },
   "outputs": [
    {
     "data": {
      "text/plain": [
       "(                                              Model0           Model1  \\\n",
       " Number of estimated parameters                     5                8   \n",
       " Sample size                                     5000             5000   \n",
       " Final log likelihood                    -4587.818071     -4275.496547   \n",
       " Akaike Information Criterion             9185.636142      8566.993094   \n",
       " Bayesian Information Criterion           9218.222108      8619.130639   \n",
       " asc_cycle (t-test)                      -3.88  (-36)   -4.85  (-23.9)   \n",
       " asc_drive (t-test)                     -1.3  (-16.1)   -1.97  (-14.3)   \n",
       " asc_pt (t-test)                       -0.503  (-9.3)   -2.34  (-16.8)   \n",
       " beta_cost (t-test)                   -0.194  (-13.9)  -0.182  (-11.3)   \n",
       " beta_time (t-test)                     -5.5  (-26.3)                    \n",
       " beta_time_cycle (t-test)                               -5.31  (-11.5)   \n",
       " beta_time_drive (t-test)                               -6.47  (-17.1)   \n",
       " beta_time_pt (t-test)                                  -3.54  (-14.1)   \n",
       " beta_time_walk (t-test)                                -8.43  (-20.1)   \n",
       " asc_cycle_male (t-test)                                                 \n",
       " asc_drive_male (t-test)                                                 \n",
       " asc_pt_male (t-test)                                                    \n",
       " beta_cost_male (t-test)                                                 \n",
       " asc_drive_3bis (t-test)                                                 \n",
       " asc_drive_3bis_male (t-test)                                            \n",
       " beta_cost_3bis (t-test)                                                 \n",
       " beta_time_cycle_3bis (t-test)                                           \n",
       " beta_time_drive_3bis (t-test)                                           \n",
       " beta_time_pt_3bis (t-test)                                              \n",
       " beta_time_pt_3bis_squarred (t-test)                                     \n",
       " beta_time_walk_3bis (t-test)                                            \n",
       " beta_time_pt_33_squarred (t-test)                                       \n",
       " beta_elapsed_cycle (t-test)                                             \n",
       " beta_elapsed_time_drive (t-test)                                        \n",
       " beta_elapsed_time_pt (t-test)                                           \n",
       " beta_elapsed_walk (t-test)                                              \n",
       " lambda_boxcox (t-test)                                                  \n",
       " Mu_Drive (t-test)                                                       \n",
       " Mu_PT (t-test)                                                          \n",
       " Mu_SoftModes (t-test)                                                   \n",
       " Mu_not_vehicle (t-test)                                                 \n",
       " Mu_vehicle (t-test)                                                     \n",
       " \n",
       "                                               Model2          Model2_2  \\\n",
       " Number of estimated parameters                    11                 9   \n",
       " Sample size                                     5000              5000   \n",
       " Final log likelihood                    -4245.240248      -4273.204064   \n",
       " Akaike Information Criterion             8512.480496       8564.408128   \n",
       " Bayesian Information Criterion           8584.169621       8623.062867   \n",
       " asc_cycle (t-test)                    -5.46  (-21.5)      -4.84  (-24)   \n",
       " asc_drive (t-test)                    -1.89  (-13.1)    -1.97  (-14.3)   \n",
       " asc_pt (t-test)                       -2.21  (-15.1)    -2.34  (-16.8)   \n",
       " beta_cost (t-test)                   -0.183  (-11.3)   -0.152  (-8.08)   \n",
       " beta_time (t-test)                                                       \n",
       " beta_time_cycle (t-test)              -5.58  (-11.8)    -5.35  (-11.6)   \n",
       " beta_time_drive (t-test)              -6.49  (-17.1)      -6.49  (-17)   \n",
       " beta_time_pt (t-test)                   -3.53  (-14)    -3.54  (-14.1)   \n",
       " beta_time_walk (t-test)               -8.46  (-20.2)    -8.44  (-20.2)   \n",
       " asc_cycle_male (t-test)                 1.05  (5.04)                     \n",
       " asc_drive_male (t-test)              -0.198  (-2.08)                     \n",
       " asc_pt_male (t-test)                 -0.333  (-3.35)                     \n",
       " beta_cost_male (t-test)                               -0.0654  (-2.05)   \n",
       " asc_drive_3bis (t-test)                                                  \n",
       " asc_drive_3bis_male (t-test)                                             \n",
       " beta_cost_3bis (t-test)                                                  \n",
       " beta_time_cycle_3bis (t-test)                                            \n",
       " beta_time_drive_3bis (t-test)                                            \n",
       " beta_time_pt_3bis (t-test)                                               \n",
       " beta_time_pt_3bis_squarred (t-test)                                      \n",
       " beta_time_walk_3bis (t-test)                                             \n",
       " beta_time_pt_33_squarred (t-test)                                        \n",
       " beta_elapsed_cycle (t-test)                                              \n",
       " beta_elapsed_time_drive (t-test)                                         \n",
       " beta_elapsed_time_pt (t-test)                                            \n",
       " beta_elapsed_walk (t-test)                                               \n",
       " lambda_boxcox (t-test)                                                   \n",
       " Mu_Drive (t-test)                                                        \n",
       " Mu_PT (t-test)                                                           \n",
       " Mu_SoftModes (t-test)                                                    \n",
       " Mu_not_vehicle (t-test)                                                  \n",
       " Mu_vehicle (t-test)                                                      \n",
       " \n",
       "                                          Model_3bis         Model_33  \\\n",
       " Number of estimated parameters                   12               10   \n",
       " Sample size                                    5000             5000   \n",
       " Final log likelihood                   -4236.589214     -4264.777617   \n",
       " Akaike Information Criterion            8497.178429      8549.555234   \n",
       " Bayesian Information Criterion          8575.384747      8614.727166   \n",
       " asc_cycle (t-test)                   -5.37  (-21.4)   -4.76  (-23.9)   \n",
       " asc_drive (t-test)                                    -1.88  (-13.5)   \n",
       " asc_pt (t-test)                      -2.49  (-15.6)     -2.62  (-17)   \n",
       " beta_cost (t-test)                                   -0.149  (-7.88)   \n",
       " beta_time (t-test)                                                     \n",
       " beta_time_cycle (t-test)                                -5.35  (-12)   \n",
       " beta_time_drive (t-test)                              -6.55  (-16.9)   \n",
       " beta_time_pt (t-test)                                 -2.01  (-4.28)   \n",
       " beta_time_walk (t-test)                               -8.29  (-19.8)   \n",
       " asc_cycle_male (t-test)                1.05  (5.05)                    \n",
       " asc_drive_male (t-test)                                                \n",
       " asc_pt_male (t-test)                 -0.34  (-3.36)                    \n",
       " beta_cost_male (t-test)                              -0.066  (-2.05)   \n",
       " asc_drive_3bis (t-test)               -1.8  (-12.4)                    \n",
       " asc_drive_3bis_male (t-test)         -0.198  (-2.1)                    \n",
       " beta_cost_3bis (t-test)                -0.18  (-11)                    \n",
       " beta_time_cycle_3bis (t-test)        -5.57  (-12.2)                    \n",
       " beta_time_drive_3bis (t-test)        -6.56  (-16.9)                    \n",
       " beta_time_pt_3bis (t-test)           -1.98  (-4.21)                    \n",
       " beta_time_pt_3bis_squarred (t-test)  -1.24  (-3.53)                    \n",
       " beta_time_walk_3bis (t-test)         -8.31  (-19.9)                    \n",
       " beta_time_pt_33_squarred (t-test)                     -1.22  (-3.46)   \n",
       " beta_elapsed_cycle (t-test)                                            \n",
       " beta_elapsed_time_drive (t-test)                                       \n",
       " beta_elapsed_time_pt (t-test)                                          \n",
       " beta_elapsed_walk (t-test)                                             \n",
       " lambda_boxcox (t-test)                                                 \n",
       " Mu_Drive (t-test)                                                      \n",
       " Mu_PT (t-test)                                                         \n",
       " Mu_SoftModes (t-test)                                                  \n",
       " Mu_not_vehicle (t-test)                                                \n",
       " Mu_vehicle (t-test)                                                    \n",
       " \n",
       "                                              Model_3    Model_generic  \\\n",
       " Number of estimated parameters                    12               16   \n",
       " Sample size                                     5000             5000   \n",
       " Final log likelihood                    -4157.246378     -4149.466034   \n",
       " Akaike Information Criterion             8338.492755      8330.932067   \n",
       " Bayesian Information Criterion           8416.699073      8435.207158   \n",
       " asc_cycle (t-test)                    -3.22  (-10.6)   -2.72  (-2.25)   \n",
       " asc_drive (t-test)                    0.0696  (0.32)   0.715  (0.804)   \n",
       " asc_pt (t-test)                         1.85  (10.8)     5.47  (3.23)   \n",
       " beta_cost (t-test)                   -0.175  (-11.2)  -0.171  (-10.8)   \n",
       " beta_time (t-test)                                                      \n",
       " beta_time_cycle (t-test)                                 2.22  (1.05)   \n",
       " beta_time_drive (t-test)                                1.98  (0.734)   \n",
       " beta_time_pt (t-test)                                 -1.04  (-0.902)   \n",
       " beta_time_walk (t-test)                                  2.85  (1.23)   \n",
       " asc_cycle_male (t-test)                 1.05  (5.01)     1.06  (5.03)   \n",
       " asc_drive_male (t-test)              -0.226  (-2.23)  -0.225  (-2.22)   \n",
       " asc_pt_male (t-test)                  -0.375  (-3.5)   -0.37  (-3.42)   \n",
       " beta_cost_male (t-test)                                                 \n",
       " asc_drive_3bis (t-test)                                                 \n",
       " asc_drive_3bis_male (t-test)                                            \n",
       " beta_cost_3bis (t-test)                                                 \n",
       " beta_time_cycle_3bis (t-test)                                           \n",
       " beta_time_drive_3bis (t-test)                                           \n",
       " beta_time_pt_3bis (t-test)                                              \n",
       " beta_time_pt_3bis_squarred (t-test)                                     \n",
       " beta_time_walk_3bis (t-test)                                            \n",
       " beta_time_pt_33_squarred (t-test)                                       \n",
       " beta_elapsed_cycle (t-test)           -3.32  (-12.4)   -5.39  (-2.65)   \n",
       " beta_elapsed_time_drive (t-test)       -3.3  (-12.4)   -5.28  (-2.28)   \n",
       " beta_elapsed_time_pt (t-test)         -2.64  (-14.4)    -2.4  (-2.39)   \n",
       " beta_elapsed_walk (t-test)            -5.45  (-21.5)   -8.06  (-3.33)   \n",
       " lambda_boxcox (t-test)                 0.269  (5.39)    0.443  (3.26)   \n",
       " Mu_Drive (t-test)                                                       \n",
       " Mu_PT (t-test)                                                          \n",
       " Mu_SoftModes (t-test)                                                   \n",
       " Mu_not_vehicle (t-test)                                                 \n",
       " Mu_vehicle (t-test)                                                     \n",
       " \n",
       "                                            Nestmodes Model_nested_vehicle  \n",
       " Number of estimated parameters                    15                   14  \n",
       " Sample size                                     5000                 5000  \n",
       " Final log likelihood                    -4149.661799         -4156.794116  \n",
       " Akaike Information Criterion             8329.323599          8341.588233  \n",
       " Bayesian Information Criterion           8427.081497          8432.828937  \n",
       " asc_cycle (t-test)                    -2.96  (-7.88)       -2.35  (-2.45)  \n",
       " asc_drive (t-test)                     0.294  (1.24)        0.523  (1.01)  \n",
       " asc_pt (t-test)                         2.18  (11.1)         2.08  (7.07)  \n",
       " beta_cost (t-test)                   -0.172  (-10.9)      -0.153  (-5.51)  \n",
       " beta_time (t-test)                                                         \n",
       " beta_time_cycle (t-test)                                                   \n",
       " beta_time_drive (t-test)                                                   \n",
       " beta_time_pt (t-test)                                                      \n",
       " beta_time_walk (t-test)                                                    \n",
       " asc_cycle_male (t-test)                  1.58  (4.5)        0.899  (3.62)  \n",
       " asc_drive_male (t-test)              -0.148  (-1.33)      -0.222  (-2.22)  \n",
       " asc_pt_male (t-test)                  -0.29  (-2.49)      -0.352  (-3.29)  \n",
       " beta_cost_male (t-test)                                                    \n",
       " asc_drive_3bis (t-test)                                                    \n",
       " asc_drive_3bis_male (t-test)                                               \n",
       " beta_cost_3bis (t-test)                                                    \n",
       " beta_time_cycle_3bis (t-test)                                              \n",
       " beta_time_drive_3bis (t-test)                                              \n",
       " beta_time_pt_3bis (t-test)                                                 \n",
       " beta_time_pt_3bis_squarred (t-test)                                        \n",
       " beta_time_walk_3bis (t-test)                                               \n",
       " beta_time_pt_33_squarred (t-test)                                          \n",
       " beta_elapsed_cycle (t-test)           -2.58  (-7.86)       -2.88  (-5.49)  \n",
       " beta_elapsed_time_drive (t-test)      -3.59  (-12.7)       -2.87  (-5.58)  \n",
       " beta_elapsed_time_pt (t-test)          -2.8  (-14.8)       -2.32  (-6.11)  \n",
       " beta_elapsed_walk (t-test)                 -6  (-21)       -5.15  (-12.6)  \n",
       " lambda_boxcox (t-test)                 0.318  (6.34)         0.25  (4.64)  \n",
       " Mu_Drive (t-test)                     1  (5.56e-309)                       \n",
       " Mu_PT (t-test)                         1  (1.96e+14)                       \n",
       " Mu_SoftModes (t-test)                  0.604  (7.89)                       \n",
       " Mu_not_vehicle (t-test)                                    1  (5.56e-309)  \n",
       " Mu_vehicle (t-test)                                          1.14  (6.68)  ,\n",
       " {'Model0': 'Model0',\n",
       "  'Model1': 'Model1',\n",
       "  'Model2': 'Model2',\n",
       "  'Model2_2': 'Model2_2',\n",
       "  'Model_3bis': 'Model_3bis',\n",
       "  'Model_33': 'Model_33',\n",
       "  'Model_3': 'Model_3',\n",
       "  'Model_generic': 'Model_generic',\n",
       "  'Nestmodes': 'Nestmodes',\n",
       "  'Model_nested_vehicle': 'Model_nested_vehicle'})"
      ]
     },
     "execution_count": 59,
     "metadata": {},
     "output_type": "execute_result"
    }
   ],
   "source": [
    "res.compileEstimationResults(all_results)"
   ]
  },
  {
   "cell_type": "code",
   "execution_count": 60,
   "id": "dac64394",
   "metadata": {
    "execution": {
     "iopub.execute_input": "2023-12-06T17:26:55.361737Z",
     "iopub.status.busy": "2023-12-06T17:26:55.361406Z",
     "iopub.status.idle": "2023-12-06T17:26:58.106860Z",
     "shell.execute_reply": "2023-12-06T17:26:58.104857Z",
     "shell.execute_reply.started": "2023-12-06T17:26:55.361706Z"
    },
    "scrolled": true,
    "tags": []
   },
   "outputs": [
    {
     "data": {
      "text/plain": [
       "LRTuple(message='H0 cannot be rejected at level 5.0%', statistic=0.9045208996849396, threshold=5.991464547107979)"
      ]
     },
     "execution_count": 60,
     "metadata": {},
     "output_type": "execute_result"
    }
   ],
   "source": [
    "results_base=model_base.estimate()\n",
    "results_model_nestedvehicle.likelihood_ratio_test(results_base, 0.05)"
   ]
  },
  {
   "cell_type": "markdown",
   "id": "ffda17d3",
   "metadata": {},
   "source": [
    "So the model pref keeps being Model_3 (Box-cox transformation)"
   ]
  },
  {
   "cell_type": "markdown",
   "id": "c7c90efa",
   "metadata": {},
   "source": [
    "## Market Shares"
   ]
  },
  {
   "cell_type": "markdown",
   "id": "29c98067",
   "metadata": {},
   "source": [
    "The census data report the following number $N_g$ of individuals in each segment $g$."
   ]
  },
  {
   "cell_type": "code",
   "execution_count": 61,
   "id": "a8209c89",
   "metadata": {
    "execution": {
     "iopub.execute_input": "2023-12-06T17:27:31.337510Z",
     "iopub.status.busy": "2023-12-06T17:27:31.336707Z",
     "iopub.status.idle": "2023-12-06T17:27:31.346505Z",
     "shell.execute_reply": "2023-12-06T17:27:31.344339Z",
     "shell.execute_reply.started": "2023-12-06T17:27:31.337451Z"
    },
    "tags": []
   },
   "outputs": [],
   "source": [
    "census = {\n",
    "    'male_45_more':  1379198,\n",
    "    'male_45_less':  2926408,\n",
    "    'female_45_more':   1519948,\n",
    "    'female_45_less':  2841376,\n",
    "}"
   ]
  },
  {
   "cell_type": "markdown",
   "id": "7eac9687",
   "metadata": {},
   "source": [
    "The total size $N$ of the population is the sum over all segments."
   ]
  },
  {
   "cell_type": "code",
   "execution_count": 62,
   "id": "b75ed3b8",
   "metadata": {
    "execution": {
     "iopub.execute_input": "2023-12-06T17:27:32.691151Z",
     "iopub.status.busy": "2023-12-06T17:27:32.690374Z",
     "iopub.status.idle": "2023-12-06T17:27:32.702506Z",
     "shell.execute_reply": "2023-12-06T17:27:32.700927Z",
     "shell.execute_reply.started": "2023-12-06T17:27:32.691094Z"
    },
    "tags": []
   },
   "outputs": [
    {
     "data": {
      "text/plain": [
       "8666930"
      ]
     },
     "execution_count": 62,
     "metadata": {},
     "output_type": "execute_result"
    }
   ],
   "source": [
    "total = sum(census.values())\n",
    "total"
   ]
  },
  {
   "cell_type": "markdown",
   "id": "f99d7961",
   "metadata": {},
   "source": [
    "Identify each segment in the database."
   ]
  },
  {
   "cell_type": "code",
   "execution_count": 63,
   "id": "50987da5",
   "metadata": {
    "execution": {
     "iopub.execute_input": "2023-12-06T17:27:33.548149Z",
     "iopub.status.busy": "2023-12-06T17:27:33.547251Z",
     "iopub.status.idle": "2023-12-06T17:27:33.562403Z",
     "shell.execute_reply": "2023-12-06T17:27:33.560996Z",
     "shell.execute_reply.started": "2023-12-06T17:27:33.548092Z"
    },
    "tags": []
   },
   "outputs": [],
   "source": [
    "filters = {\n",
    "    'male_45_more': (LPMC.age >=45) & (LPMC.female == 0),\n",
    "    'male_45_less': (LPMC.age < 45) & (LPMC.female == 0),\n",
    "    'female_45_more': (LPMC.age >= 45) & (LPMC.female == 1),\n",
    "    'female_45_less': (LPMC.age < 45) & (LPMC.female == 1),\n",
    "}"
   ]
  },
  {
   "cell_type": "markdown",
   "id": "59af345c",
   "metadata": {},
   "source": [
    "We count the number \n",
    "$S_g$ of individuals in each segment $g$ in the sample."
   ]
  },
  {
   "cell_type": "code",
   "execution_count": 64,
   "id": "2d3238fc",
   "metadata": {
    "execution": {
     "iopub.execute_input": "2023-12-06T17:27:33.962464Z",
     "iopub.status.busy": "2023-12-06T17:27:33.961692Z",
     "iopub.status.idle": "2023-12-06T17:27:33.978516Z",
     "shell.execute_reply": "2023-12-06T17:27:33.976279Z",
     "shell.execute_reply.started": "2023-12-06T17:27:33.962407Z"
    },
    "tags": []
   },
   "outputs": [
    {
     "data": {
      "text/plain": [
       "{'male_45_more': 903,\n",
       " 'male_45_less': 1436,\n",
       " 'female_45_more': 997,\n",
       " 'female_45_less': 1664}"
      ]
     },
     "execution_count": 64,
     "metadata": {},
     "output_type": "execute_result"
    }
   ],
   "source": [
    "\n",
    "sample_segments = {\n",
    "    k: v.sum() for k, v in filters.items()\n",
    "}\n",
    "sample_segments"
   ]
  },
  {
   "cell_type": "markdown",
   "id": "b3d97ed4",
   "metadata": {},
   "source": [
    "We check the total sample size $S$."
   ]
  },
  {
   "cell_type": "code",
   "execution_count": 65,
   "id": "b2117d65",
   "metadata": {
    "execution": {
     "iopub.execute_input": "2023-12-06T17:27:34.466986Z",
     "iopub.status.busy": "2023-12-06T17:27:34.466273Z",
     "iopub.status.idle": "2023-12-06T17:27:34.479779Z",
     "shell.execute_reply": "2023-12-06T17:27:34.477921Z",
     "shell.execute_reply.started": "2023-12-06T17:27:34.466930Z"
    },
    "tags": []
   },
   "outputs": [
    {
     "data": {
      "text/plain": [
       "5000"
      ]
     },
     "execution_count": 65,
     "metadata": {},
     "output_type": "execute_result"
    }
   ],
   "source": [
    "total_sample = sum(sample_segments.values())\n",
    "total_sample"
   ]
  },
  {
   "cell_type": "markdown",
   "id": "390beaf3",
   "metadata": {},
   "source": [
    "The weight $w_g$ associated with segment $g$ is defined as\n",
    "$$\n",
    "w_g = \\frac{N_g}{N}\\frac{S}{S_g}.\n",
    "$$"
   ]
  },
  {
   "cell_type": "code",
   "execution_count": 66,
   "id": "a9b53e38",
   "metadata": {
    "execution": {
     "iopub.execute_input": "2023-12-06T17:27:34.948565Z",
     "iopub.status.busy": "2023-12-06T17:27:34.947788Z",
     "iopub.status.idle": "2023-12-06T17:27:34.960946Z",
     "shell.execute_reply": "2023-12-06T17:27:34.959496Z",
     "shell.execute_reply.started": "2023-12-06T17:27:34.948519Z"
    },
    "tags": []
   },
   "outputs": [
    {
     "data": {
      "text/plain": [
       "{'male_45_more': 0.881137295471826,\n",
       " 'male_45_less': 1.17566922738916,\n",
       " 'female_45_more': 0.8795049485193039,\n",
       " 'female_45_less': 0.9850995060002171}"
      ]
     },
     "execution_count": 66,
     "metadata": {},
     "output_type": "execute_result"
    }
   ],
   "source": [
    "weights = {\n",
    "    k: census[k] * total_sample / (v * total) \n",
    "    for k, v in sample_segments.items()\n",
    "}\n",
    "weights"
   ]
  },
  {
   "cell_type": "markdown",
   "id": "41b32370",
   "metadata": {},
   "source": [
    "We insert the weight as a new column in the database."
   ]
  },
  {
   "cell_type": "code",
   "execution_count": 67,
   "id": "5b3d3c9a",
   "metadata": {
    "execution": {
     "iopub.execute_input": "2023-12-06T17:27:35.574586Z",
     "iopub.status.busy": "2023-12-06T17:27:35.573879Z",
     "iopub.status.idle": "2023-12-06T17:27:35.587444Z",
     "shell.execute_reply": "2023-12-06T17:27:35.585617Z",
     "shell.execute_reply.started": "2023-12-06T17:27:35.574528Z"
    },
    "tags": []
   },
   "outputs": [],
   "source": [
    "for k, f in filters.items():\n",
    "    LPMC.loc[f, 'Weight'] = weights[k] "
   ]
  },
  {
   "cell_type": "markdown",
   "id": "97cbdbf7",
   "metadata": {},
   "source": [
    "We check that the sum of the weights is the sample size."
   ]
  },
  {
   "cell_type": "code",
   "execution_count": 68,
   "id": "98e7a14e",
   "metadata": {
    "execution": {
     "iopub.execute_input": "2023-12-06T17:27:36.018661Z",
     "iopub.status.busy": "2023-12-06T17:27:36.018076Z",
     "iopub.status.idle": "2023-12-06T17:27:36.030633Z",
     "shell.execute_reply": "2023-12-06T17:27:36.028802Z",
     "shell.execute_reply.started": "2023-12-06T17:27:36.018607Z"
    },
    "tags": []
   },
   "outputs": [
    {
     "data": {
      "text/plain": [
       "5000.0"
      ]
     },
     "execution_count": 68,
     "metadata": {},
     "output_type": "execute_result"
    }
   ],
   "source": [
    "sum_weights = LPMC['Weight'].sum()\n",
    "sum_weights"
   ]
  },
  {
   "cell_type": "markdown",
   "id": "af805e7d",
   "metadata": {},
   "source": [
    "It is equal."
   ]
  },
  {
   "cell_type": "markdown",
   "id": "1d4468d2",
   "metadata": {},
   "source": [
    "#### Perform sample enumeration"
   ]
  },
  {
   "cell_type": "markdown",
   "id": "8edb489b",
   "metadata": {},
   "source": [
    "The goal is to estimate predicted shares using the formula :\n",
    "    $$Ŵ(i) = \\frac{1}{S}\\sum_{n=1}^{S}w_n*P(i|x_n; θ)$$"
   ]
  },
  {
   "cell_type": "markdown",
   "id": "d39eacb6",
   "metadata": {},
   "source": [
    "First we need to obtain $P(i|x_n; θ)$ for each option $i$"
   ]
  },
  {
   "cell_type": "markdown",
   "id": "6abcfd9e",
   "metadata": {},
   "source": [
    "Using Model 3 ( the preferred model so far ) and the logit model $$ P(i|x_n; θ)= \\frac{exp(V_{in})}{\\sum_{j \\in C}{exp(V_{jn})}}$$ where $\\mu$ is normalized to 1."
   ]
  },
  {
   "cell_type": "code",
   "execution_count": 69,
   "id": "e4ca1c4a",
   "metadata": {
    "execution": {
     "iopub.execute_input": "2023-12-06T17:27:37.162298Z",
     "iopub.status.busy": "2023-12-06T17:27:37.161578Z",
     "iopub.status.idle": "2023-12-06T17:27:37.175337Z",
     "shell.execute_reply": "2023-12-06T17:27:37.173060Z",
     "shell.execute_reply.started": "2023-12-06T17:27:37.162240Z"
    },
    "tags": []
   },
   "outputs": [],
   "source": [
    "prob_walk =  exp(v_walk_model3) /( exp(v_walk_model3)+ exp(v_drive_model3)+exp(v_pt_model3)+exp(v_cycle_model3))\n",
    "prob_drive = exp(v_drive_model3) /( exp(v_walk_model3)+ exp(v_drive_model3)+exp(v_pt_model3)+exp(v_cycle_model3))\n",
    "prob_cycle = exp(v_cycle_model3) /( exp(v_walk_model3)+ exp(v_drive_model3)+exp(v_pt_model3)+exp(v_cycle_model3))\n",
    "prob_pt =  exp(v_pt_model3) /( exp(v_walk_model3)+ exp(v_drive_model3)+exp(v_pt_model3)+exp(v_cycle_model3))"
   ]
  },
  {
   "cell_type": "markdown",
   "id": "dfb2eee9",
   "metadata": {},
   "source": [
    "We calculate the choice probability of each alternative for each observation. We include the weight in the simulation results."
   ]
  },
  {
   "cell_type": "code",
   "execution_count": 70,
   "id": "269b6b80",
   "metadata": {
    "execution": {
     "iopub.execute_input": "2023-12-06T17:27:38.002381Z",
     "iopub.status.busy": "2023-12-06T17:27:38.001664Z",
     "iopub.status.idle": "2023-12-06T17:27:38.010312Z",
     "shell.execute_reply": "2023-12-06T17:27:38.008463Z",
     "shell.execute_reply.started": "2023-12-06T17:27:38.002325Z"
    },
    "tags": []
   },
   "outputs": [],
   "source": [
    "Weight = Variable('Weight')"
   ]
  },
  {
   "cell_type": "code",
   "execution_count": 71,
   "id": "703e8cfe",
   "metadata": {
    "execution": {
     "iopub.execute_input": "2023-12-06T17:27:38.567326Z",
     "iopub.status.busy": "2023-12-06T17:27:38.566119Z",
     "iopub.status.idle": "2023-12-06T17:27:38.575138Z",
     "shell.execute_reply": "2023-12-06T17:27:38.573056Z",
     "shell.execute_reply.started": "2023-12-06T17:27:38.567269Z"
    },
    "tags": []
   },
   "outputs": [],
   "source": [
    "simulate = {\n",
    "    'Weight': Weight,\n",
    "    'Prob. walk': prob_walk,\n",
    "    'Prob. drive': prob_drive,\n",
    "    'Prob. cycle': prob_cycle,\n",
    "    'Prob. pt': prob_pt,    \n",
    "}"
   ]
  },
  {
   "cell_type": "code",
   "execution_count": 72,
   "id": "f41d135d",
   "metadata": {
    "execution": {
     "iopub.execute_input": "2023-12-06T17:27:38.896991Z",
     "iopub.status.busy": "2023-12-06T17:27:38.896356Z",
     "iopub.status.idle": "2023-12-06T17:27:39.170660Z",
     "shell.execute_reply": "2023-12-06T17:27:39.168747Z",
     "shell.execute_reply.started": "2023-12-06T17:27:38.896935Z"
    },
    "tags": []
   },
   "outputs": [],
   "source": [
    "database = db.Database('LPMC',  LPMC)\n",
    "biosim = bio.BIOGEME(database, simulate)\n",
    "simulated_values = biosim.simulate(results_model3.getBetaValues())"
   ]
  },
  {
   "cell_type": "code",
   "execution_count": 73,
   "id": "3af30b70",
   "metadata": {
    "execution": {
     "iopub.execute_input": "2023-12-06T17:27:39.190681Z",
     "iopub.status.busy": "2023-12-06T17:27:39.190133Z",
     "iopub.status.idle": "2023-12-06T17:27:39.272947Z",
     "shell.execute_reply": "2023-12-06T17:27:39.271374Z",
     "shell.execute_reply.started": "2023-12-06T17:27:39.190630Z"
    },
    "tags": []
   },
   "outputs": [
    {
     "data": {
      "text/html": [
       "<div>\n",
       "<style scoped>\n",
       "    .dataframe tbody tr th:only-of-type {\n",
       "        vertical-align: middle;\n",
       "    }\n",
       "\n",
       "    .dataframe tbody tr th {\n",
       "        vertical-align: top;\n",
       "    }\n",
       "\n",
       "    .dataframe thead th {\n",
       "        text-align: right;\n",
       "    }\n",
       "</style>\n",
       "<table border=\"1\" class=\"dataframe\">\n",
       "  <thead>\n",
       "    <tr style=\"text-align: right;\">\n",
       "      <th></th>\n",
       "      <th>Weight</th>\n",
       "      <th>Prob. walk</th>\n",
       "      <th>Prob. drive</th>\n",
       "      <th>Prob. cycle</th>\n",
       "      <th>Prob. pt</th>\n",
       "    </tr>\n",
       "  </thead>\n",
       "  <tbody>\n",
       "    <tr>\n",
       "      <th>0</th>\n",
       "      <td>0.879505</td>\n",
       "      <td>0.001362</td>\n",
       "      <td>0.231642</td>\n",
       "      <td>0.010642</td>\n",
       "      <td>0.756355</td>\n",
       "    </tr>\n",
       "    <tr>\n",
       "      <th>1</th>\n",
       "      <td>0.881137</td>\n",
       "      <td>0.000098</td>\n",
       "      <td>0.199590</td>\n",
       "      <td>0.020157</td>\n",
       "      <td>0.780154</td>\n",
       "    </tr>\n",
       "    <tr>\n",
       "      <th>2</th>\n",
       "      <td>1.175669</td>\n",
       "      <td>0.029816</td>\n",
       "      <td>0.441943</td>\n",
       "      <td>0.037847</td>\n",
       "      <td>0.490394</td>\n",
       "    </tr>\n",
       "    <tr>\n",
       "      <th>3</th>\n",
       "      <td>1.175669</td>\n",
       "      <td>0.586472</td>\n",
       "      <td>0.203978</td>\n",
       "      <td>0.027479</td>\n",
       "      <td>0.182071</td>\n",
       "    </tr>\n",
       "    <tr>\n",
       "      <th>4</th>\n",
       "      <td>0.879505</td>\n",
       "      <td>0.413033</td>\n",
       "      <td>0.343868</td>\n",
       "      <td>0.017958</td>\n",
       "      <td>0.225142</td>\n",
       "    </tr>\n",
       "    <tr>\n",
       "      <th>...</th>\n",
       "      <td>...</td>\n",
       "      <td>...</td>\n",
       "      <td>...</td>\n",
       "      <td>...</td>\n",
       "      <td>...</td>\n",
       "    </tr>\n",
       "    <tr>\n",
       "      <th>4995</th>\n",
       "      <td>1.175669</td>\n",
       "      <td>0.449580</td>\n",
       "      <td>0.387890</td>\n",
       "      <td>0.044243</td>\n",
       "      <td>0.118286</td>\n",
       "    </tr>\n",
       "    <tr>\n",
       "      <th>4996</th>\n",
       "      <td>1.175669</td>\n",
       "      <td>0.000238</td>\n",
       "      <td>0.859160</td>\n",
       "      <td>0.010704</td>\n",
       "      <td>0.129898</td>\n",
       "    </tr>\n",
       "    <tr>\n",
       "      <th>4997</th>\n",
       "      <td>1.175669</td>\n",
       "      <td>0.105463</td>\n",
       "      <td>0.717418</td>\n",
       "      <td>0.063042</td>\n",
       "      <td>0.114077</td>\n",
       "    </tr>\n",
       "    <tr>\n",
       "      <th>4998</th>\n",
       "      <td>0.879505</td>\n",
       "      <td>0.123379</td>\n",
       "      <td>0.532403</td>\n",
       "      <td>0.026800</td>\n",
       "      <td>0.317419</td>\n",
       "    </tr>\n",
       "    <tr>\n",
       "      <th>4999</th>\n",
       "      <td>1.175669</td>\n",
       "      <td>0.002114</td>\n",
       "      <td>0.711777</td>\n",
       "      <td>0.020126</td>\n",
       "      <td>0.265984</td>\n",
       "    </tr>\n",
       "  </tbody>\n",
       "</table>\n",
       "<p>5000 rows × 5 columns</p>\n",
       "</div>"
      ],
      "text/plain": [
       "        Weight  Prob. walk  Prob. drive  Prob. cycle  Prob. pt\n",
       "0     0.879505    0.001362     0.231642     0.010642  0.756355\n",
       "1     0.881137    0.000098     0.199590     0.020157  0.780154\n",
       "2     1.175669    0.029816     0.441943     0.037847  0.490394\n",
       "3     1.175669    0.586472     0.203978     0.027479  0.182071\n",
       "4     0.879505    0.413033     0.343868     0.017958  0.225142\n",
       "...        ...         ...          ...          ...       ...\n",
       "4995  1.175669    0.449580     0.387890     0.044243  0.118286\n",
       "4996  1.175669    0.000238     0.859160     0.010704  0.129898\n",
       "4997  1.175669    0.105463     0.717418     0.063042  0.114077\n",
       "4998  0.879505    0.123379     0.532403     0.026800  0.317419\n",
       "4999  1.175669    0.002114     0.711777     0.020126  0.265984\n",
       "\n",
       "[5000 rows x 5 columns]"
      ]
     },
     "execution_count": 73,
     "metadata": {},
     "output_type": "execute_result"
    }
   ],
   "source": [
    "simulated_values\n"
   ]
  },
  {
   "cell_type": "markdown",
   "id": "74bb0e5d",
   "metadata": {},
   "source": [
    "Market shares are calculated using the weighted mean of the\n",
    "individual probabilities."
   ]
  },
  {
   "cell_type": "code",
   "execution_count": 74,
   "id": "8b4e41db",
   "metadata": {
    "execution": {
     "iopub.execute_input": "2023-12-06T17:27:39.714470Z",
     "iopub.status.busy": "2023-12-06T17:27:39.713777Z",
     "iopub.status.idle": "2023-12-06T17:27:39.731236Z",
     "shell.execute_reply": "2023-12-06T17:27:39.729559Z",
     "shell.execute_reply.started": "2023-12-06T17:27:39.714414Z"
    },
    "tags": []
   },
   "outputs": [],
   "source": [
    "simulated_values['Weighted walk'] = (\n",
    "    simulated_values['Weight'] * \n",
    "    simulated_values['Prob. walk']\n",
    ")\n",
    "simulated_values['Weighted drive'] = (\n",
    "    simulated_values['Weight'] * \n",
    "    simulated_values['Prob. drive']\n",
    ")\n",
    "simulated_values['Weighted cycle'] = (\n",
    "    simulated_values['Weight'] * \n",
    "    simulated_values['Prob. cycle']\n",
    ")\n",
    "simulated_values['Weighted pt'] = (\n",
    "    simulated_values['Weight'] * \n",
    "    simulated_values['Prob. pt']\n",
    ")"
   ]
  },
  {
   "cell_type": "code",
   "execution_count": 75,
   "id": "3d5192a4",
   "metadata": {
    "execution": {
     "iopub.execute_input": "2023-12-06T17:27:39.933048Z",
     "iopub.status.busy": "2023-12-06T17:27:39.932486Z",
     "iopub.status.idle": "2023-12-06T17:27:39.948114Z",
     "shell.execute_reply": "2023-12-06T17:27:39.946437Z",
     "shell.execute_reply.started": "2023-12-06T17:27:39.932994Z"
    },
    "tags": []
   },
   "outputs": [
    {
     "name": "stdout",
     "output_type": "stream",
     "text": [
      "Market share for walk: 17.8%\n",
      "Market share for drive: 43.0%\n",
      "Market share for cycle: 3.0%\n",
      "Market share for pt: 36.2%\n",
      "0.17802342940076016\n",
      "0.4295060060967573\n"
     ]
    }
   ],
   "source": [
    "market_share_walk = simulated_values['Weighted walk'].mean()\n",
    "print(f'Market share for walk: {100*market_share_walk:.1f}%')\n",
    "market_share_drive = simulated_values['Weighted drive'].mean()\n",
    "print(f'Market share for drive: {100*market_share_drive:.1f}%')\n",
    "market_share_cycle = simulated_values['Weighted cycle'].mean()\n",
    "print(f'Market share for cycle: {100*market_share_cycle:.1f}%')\n",
    "market_share_pt = simulated_values['Weighted pt'].mean()\n",
    "print(f'Market share for pt: {100*market_share_pt:.1f}%')\n",
    "\n",
    "print(market_share_walk)\n",
    "print(market_share_drive)\n",
    "\n"
   ]
  },
  {
   "cell_type": "markdown",
   "id": "f7a885db",
   "metadata": {},
   "source": [
    "#### Perform sample enumeration"
   ]
  },
  {
   "cell_type": "markdown",
   "id": "ae063ec3",
   "metadata": {},
   "source": [
    "In order to calculate confidence intervals, we need to re-estimate the parameters using bootstrapping."
   ]
  },
  {
   "cell_type": "code",
   "execution_count": 101,
   "id": "55c579c1",
   "metadata": {
    "execution": {
     "iopub.execute_input": "2023-12-06T17:36:05.844837Z",
     "iopub.status.busy": "2023-12-06T17:36:05.844067Z",
     "iopub.status.idle": "2023-12-06T17:36:08.499325Z",
     "shell.execute_reply": "2023-12-06T17:36:08.497383Z",
     "shell.execute_reply.started": "2023-12-06T17:36:05.844779Z"
    },
    "tags": []
   },
   "outputs": [
    {
     "name": "stderr",
     "output_type": "stream",
     "text": [
      "You have not defined a name for the model. The output files are named from the model name. The default is [biogemeModelDefaultName]\n"
     ]
    }
   ],
   "source": [
    "biogeme_model3 = bio.BIOGEME(database, logprob_model3)\n",
    "biogeme_model3.bootstrap_samples=100\n",
    "results_bootstrapping = biogeme_model3.estimate(run_bootstrap=True)"
   ]
  },
  {
   "cell_type": "markdown",
   "id": "de18af25",
   "metadata": {},
   "source": [
    "We obtain a sample of values for the parameters. We use then to calculate empirically (that is, using simulation), the 90% confidence intervals on the simulated quantities."
   ]
  },
  {
   "cell_type": "code",
   "execution_count": 102,
   "id": "0fa5d988",
   "metadata": {
    "execution": {
     "iopub.execute_input": "2023-12-06T17:36:08.502935Z",
     "iopub.status.busy": "2023-12-06T17:36:08.502234Z",
     "iopub.status.idle": "2023-12-06T17:36:08.511872Z",
     "shell.execute_reply": "2023-12-06T17:36:08.510695Z",
     "shell.execute_reply.started": "2023-12-06T17:36:08.502866Z"
    },
    "tags": []
   },
   "outputs": [],
   "source": [
    "betas = biogeme_model3.freeBetaNames()\n",
    "b = results_bootstrapping.getBetasForSensitivityAnalysis(betas, useBootstrap = False)"
   ]
  },
  {
   "cell_type": "code",
   "execution_count": 103,
   "id": "a607ad5d",
   "metadata": {
    "execution": {
     "iopub.execute_input": "2023-12-06T17:36:08.513495Z",
     "iopub.status.busy": "2023-12-06T17:36:08.513128Z",
     "iopub.status.idle": "2023-12-06T17:36:37.441613Z",
     "shell.execute_reply": "2023-12-06T17:36:37.440612Z",
     "shell.execute_reply.started": "2023-12-06T17:36:08.513463Z"
    },
    "tags": []
   },
   "outputs": [],
   "source": [
    "left, right = biosim.confidenceIntervals(b, 0.9)"
   ]
  },
  {
   "cell_type": "code",
   "execution_count": 104,
   "id": "072c0b63",
   "metadata": {
    "execution": {
     "iopub.execute_input": "2023-12-06T17:36:37.443829Z",
     "iopub.status.busy": "2023-12-06T17:36:37.443550Z",
     "iopub.status.idle": "2023-12-06T17:36:37.457052Z",
     "shell.execute_reply": "2023-12-06T17:36:37.455961Z",
     "shell.execute_reply.started": "2023-12-06T17:36:37.443804Z"
    },
    "tags": []
   },
   "outputs": [],
   "source": [
    "left['Weighted walk'] = (\n",
    "    left['Weight'] * \n",
    "    left['Prob. walk']\n",
    ")\n",
    "left['Weighted drive'] = (\n",
    "    left['Weight'] * \n",
    "    left['Prob. drive']\n",
    ")\n",
    "left['Weighted pt'] = (\n",
    "    left['Weight'] * \n",
    "    left['Prob. pt']\n",
    ")\n",
    "left['Weighted cycle'] = (\n",
    "    left['Weight'] * \n",
    "    left['Prob. cycle']\n",
    ")"
   ]
  },
  {
   "cell_type": "code",
   "execution_count": 105,
   "id": "f855fec1",
   "metadata": {
    "execution": {
     "iopub.execute_input": "2023-12-06T17:36:37.458368Z",
     "iopub.status.busy": "2023-12-06T17:36:37.458095Z",
     "iopub.status.idle": "2023-12-06T17:36:37.498633Z",
     "shell.execute_reply": "2023-12-06T17:36:37.497171Z",
     "shell.execute_reply.started": "2023-12-06T17:36:37.458343Z"
    },
    "tags": []
   },
   "outputs": [],
   "source": [
    "left_market_share_walk = left['Weighted walk'].mean()\n",
    "left_market_share_drive = left['Weighted drive'].mean()\n",
    "left_market_share_pt = left['Weighted pt'].mean()\n",
    "left_market_share_cycle = left['Weighted cycle'].mean()"
   ]
  },
  {
   "cell_type": "code",
   "execution_count": 106,
   "id": "1e13dfb3",
   "metadata": {
    "execution": {
     "iopub.execute_input": "2023-12-06T17:36:37.500571Z",
     "iopub.status.busy": "2023-12-06T17:36:37.500150Z",
     "iopub.status.idle": "2023-12-06T17:36:37.538345Z",
     "shell.execute_reply": "2023-12-06T17:36:37.536903Z",
     "shell.execute_reply.started": "2023-12-06T17:36:37.500528Z"
    },
    "tags": []
   },
   "outputs": [],
   "source": [
    "right['Weighted walk'] = (\n",
    "    right['Weight'] * \n",
    "    right['Prob. walk']\n",
    ")\n",
    "right['Weighted drive'] = (\n",
    "    right['Weight'] * \n",
    "    right['Prob. drive']\n",
    ")\n",
    "right['Weighted pt'] = (\n",
    "    right['Weight'] * \n",
    "    right['Prob. pt']\n",
    ")\n",
    "right['Weighted cycle'] = (\n",
    "    right['Weight'] * \n",
    "    right['Prob. cycle']\n",
    ")"
   ]
  },
  {
   "cell_type": "code",
   "execution_count": 107,
   "id": "a5926bd7",
   "metadata": {
    "execution": {
     "iopub.execute_input": "2023-12-06T17:36:37.539856Z",
     "iopub.status.busy": "2023-12-06T17:36:37.539560Z",
     "iopub.status.idle": "2023-12-06T17:36:37.583017Z",
     "shell.execute_reply": "2023-12-06T17:36:37.581334Z",
     "shell.execute_reply.started": "2023-12-06T17:36:37.539827Z"
    },
    "tags": []
   },
   "outputs": [],
   "source": [
    "right_market_share_walk = right['Weighted walk'].mean()\n",
    "right_market_share_drive = right['Weighted drive'].mean()\n",
    "right_market_share_pt = right['Weighted pt'].mean()\n",
    "right_market_share_cycle = right['Weighted cycle'].mean()\n"
   ]
  },
  {
   "cell_type": "code",
   "execution_count": 108,
   "id": "94875dfb",
   "metadata": {
    "execution": {
     "iopub.execute_input": "2023-12-06T17:36:37.585638Z",
     "iopub.status.busy": "2023-12-06T17:36:37.585246Z",
     "iopub.status.idle": "2023-12-06T17:36:37.630377Z",
     "shell.execute_reply": "2023-12-06T17:36:37.627966Z",
     "shell.execute_reply.started": "2023-12-06T17:36:37.585604Z"
    },
    "tags": []
   },
   "outputs": [
    {
     "name": "stdout",
     "output_type": "stream",
     "text": [
      "Market share for walking: 17.8% CI: [16.5%-19.1]\n",
      "Market share for driving: 43.0% CI: [40.6%-45.3]\n",
      "Market share for public transportation: 36.2% CI: [34.2%-38.3]\n",
      "Market share for cycling: 3.0% CI: [2.4%-3.9]\n"
     ]
    }
   ],
   "source": [
    "print(\n",
    "    f'Market share for walking: {100*market_share_walk:.1f}% '\n",
    "    f'CI: ['\n",
    "    f'{100*left_market_share_walk:.1f}%-'\n",
    "    f'{100*right_market_share_walk:.1f}'\n",
    "    f']'\n",
    ")\n",
    "print(\n",
    "    f'Market share for driving: {100*market_share_drive:.1f}% '\n",
    "    f'CI: ['\n",
    "    f'{100*left_market_share_drive:.1f}%-'\n",
    "    f'{100*right_market_share_drive:.1f}'\n",
    "    f']'\n",
    ")\n",
    "print(\n",
    "    f'Market share for public transportation: {100*market_share_pt:.1f}% '\n",
    "    f'CI: ['\n",
    "    f'{100*left_market_share_pt:.1f}%-'\n",
    "    f'{100*right_market_share_pt:.1f}'\n",
    "    f']'\n",
    ")\n",
    "print(\n",
    "    f'Market share for cycling: {100*market_share_cycle:.1f}% '\n",
    "    f'CI: ['\n",
    "    f'{100*left_market_share_cycle:.1f}%-'\n",
    "    f'{100*right_market_share_cycle:.1f}'\n",
    "    f']'\n",
    ")"
   ]
  },
  {
   "cell_type": "markdown",
   "id": "0a30cdba",
   "metadata": {},
   "source": [
    "#### Comparing with the weighted market shares computed using the actual choices"
   ]
  },
  {
   "cell_type": "markdown",
   "id": "8852a4ae",
   "metadata": {},
   "source": [
    "Instead of using the predictive Model we will use the actual choice of the individual from the sample and the weights computed earlier to calculate the Markets shares."
   ]
  },
  {
   "cell_type": "code",
   "execution_count": 109,
   "id": "1c6b8a47",
   "metadata": {
    "execution": {
     "iopub.execute_input": "2023-12-06T17:36:52.238948Z",
     "iopub.status.busy": "2023-12-06T17:36:52.238051Z",
     "iopub.status.idle": "2023-12-06T17:36:52.255209Z",
     "shell.execute_reply": "2023-12-06T17:36:52.253181Z",
     "shell.execute_reply.started": "2023-12-06T17:36:52.238888Z"
    },
    "tags": []
   },
   "outputs": [],
   "source": [
    "LPMC['walk']= (LPMC.travel_mode==1)\n",
    "LPMC['drive']= (LPMC.travel_mode==4)\n",
    "LPMC['cycle']=(LPMC.travel_mode==2)\n",
    "LPMC['pt']=(LPMC.travel_mode==3)"
   ]
  },
  {
   "cell_type": "code",
   "execution_count": 110,
   "id": "a858b5ee",
   "metadata": {
    "execution": {
     "iopub.execute_input": "2023-12-06T17:36:52.645522Z",
     "iopub.status.busy": "2023-12-06T17:36:52.644771Z",
     "iopub.status.idle": "2023-12-06T17:36:52.662101Z",
     "shell.execute_reply": "2023-12-06T17:36:52.660406Z",
     "shell.execute_reply.started": "2023-12-06T17:36:52.645463Z"
    },
    "tags": []
   },
   "outputs": [],
   "source": [
    "LPMC ['Weighted walk real'] = (\n",
    "    LPMC ['Weight'] * \n",
    "    LPMC ['walk']\n",
    ")\n",
    "LPMC ['Weighted drive real'] = (\n",
    "    LPMC ['Weight'] * \n",
    "    LPMC ['drive']\n",
    ")\n",
    "LPMC ['Weighted cycle real'] = (\n",
    "    LPMC ['Weight'] * \n",
    "    LPMC ['cycle']\n",
    ")\n",
    "LPMC ['Weighted pt real'] = (\n",
    "    LPMC ['Weight'] * \n",
    "    LPMC ['pt']\n",
    ")"
   ]
  },
  {
   "cell_type": "code",
   "execution_count": 111,
   "id": "8310b035",
   "metadata": {
    "execution": {
     "iopub.execute_input": "2023-12-06T17:36:52.981152Z",
     "iopub.status.busy": "2023-12-06T17:36:52.980505Z",
     "iopub.status.idle": "2023-12-06T17:36:52.997786Z",
     "shell.execute_reply": "2023-12-06T17:36:52.996319Z",
     "shell.execute_reply.started": "2023-12-06T17:36:52.981096Z"
    },
    "tags": []
   },
   "outputs": [
    {
     "name": "stdout",
     "output_type": "stream",
     "text": [
      "Market share for walking from the sample: 17.9%\n",
      "Market share for cycling from the sample: 3.1%\n",
      "Market share for driving from the sample: 42.6%\n",
      "Market share for public transport from the sample: 36.5%\n"
     ]
    }
   ],
   "source": [
    "market_share_walk_real = (LPMC['Weighted walk real'].sum())/5000\n",
    "print(f'Market share for walking from the sample: {100*market_share_walk_real:.1f}%')\n",
    "\n",
    "market_share_cycle_real = (LPMC['Weighted cycle real'].sum())/5000\n",
    "print(f'Market share for cycling from the sample: {100*market_share_cycle_real:.1f}%')\n",
    "\n",
    "market_share_drive_real = (LPMC['Weighted drive real'].sum())/5000\n",
    "print(f'Market share for driving from the sample: {100*market_share_drive_real:.1f}%')\n",
    "\n",
    "market_share_pt_real = (LPMC['Weighted pt real'].sum())/5000\n",
    "print(f'Market share for public transport from the sample: {100*market_share_pt_real:.1f}%')"
   ]
  },
  {
   "cell_type": "markdown",
   "id": "8c66285b",
   "metadata": {},
   "source": [
    "## Quick Data Cleaning"
   ]
  },
  {
   "cell_type": "markdown",
   "id": "0e541f44",
   "metadata": {},
   "source": [
    "We need to exlude the boolean variables created during the caluclation of market share because Jupyter can't simulate bolean"
   ]
  },
  {
   "cell_type": "code",
   "execution_count": 114,
   "id": "398ba260",
   "metadata": {
    "execution": {
     "iopub.execute_input": "2023-12-06T17:38:47.804235Z",
     "iopub.status.busy": "2023-12-06T17:38:47.803420Z",
     "iopub.status.idle": "2023-12-06T17:38:47.819943Z",
     "shell.execute_reply": "2023-12-06T17:38:47.818420Z",
     "shell.execute_reply.started": "2023-12-06T17:38:47.804176Z"
    },
    "tags": []
   },
   "outputs": [],
   "source": [
    "my_cols = list(LPMC.columns)\n",
    " \n",
    "# removing the desired column\n",
    "my_cols.remove('walk')\n",
    "my_cols.remove('drive')\n",
    "my_cols.remove('cycle')\n",
    "my_cols.remove('pt')\n",
    "\n",
    "\n",
    "\n",
    "LPMC2 = LPMC[my_cols]"
   ]
  },
  {
   "cell_type": "markdown",
   "id": "a1e1701c",
   "metadata": {},
   "source": [
    "# Forecasting"
   ]
  },
  {
   "cell_type": "markdown",
   "id": "565a749b",
   "metadata": {},
   "source": [
    "### Scenario 1"
   ]
  },
  {
   "cell_type": "markdown",
   "id": "1931fe4f",
   "metadata": {},
   "source": [
    "Taking Model pref ( model 3) implemantation of the first scenario, where the price for automobilist increase by 1.5£ "
   ]
  },
  {
   "cell_type": "code",
   "execution_count": 181,
   "id": "989f4714",
   "metadata": {
    "execution": {
     "iopub.execute_input": "2023-12-06T18:05:21.437230Z",
     "iopub.status.busy": "2023-12-06T18:05:21.436466Z",
     "iopub.status.idle": "2023-12-06T18:05:21.446298Z",
     "shell.execute_reply": "2023-12-06T18:05:21.444387Z",
     "shell.execute_reply.started": "2023-12-06T18:05:21.437172Z"
    },
    "tags": []
   },
   "outputs": [],
   "source": [
    "\n",
    "v_drive_scenario1  = segmented_asc_drive + beta_elapsed_time_drive * boxcox_time_drive + beta_cost * (cost_drive+1.5)\n"
   ]
  },
  {
   "cell_type": "markdown",
   "id": "90204b50",
   "metadata": {},
   "source": [
    "Using the same method as the one we used to compute the market share before, we update the probability : $P(i|x_n; θ)$ for each option $i$ "
   ]
  },
  {
   "cell_type": "code",
   "execution_count": 182,
   "id": "265aa976",
   "metadata": {
    "execution": {
     "iopub.execute_input": "2023-12-06T18:05:23.424816Z",
     "iopub.status.busy": "2023-12-06T18:05:23.424034Z",
     "iopub.status.idle": "2023-12-06T18:05:23.437287Z",
     "shell.execute_reply": "2023-12-06T18:05:23.435768Z",
     "shell.execute_reply.started": "2023-12-06T18:05:23.424756Z"
    },
    "tags": []
   },
   "outputs": [],
   "source": [
    "prob_walk_s1 =  exp(v_walk_model3) /( exp(v_walk_model3)+ exp(v_drive_scenario1)+exp(v_pt_model3)+exp(v_cycle_model3))\n",
    "prob_drive_s1 = exp(v_drive_scenario1) /( exp(v_walk_model3)+ exp(v_drive_scenario1)+exp(v_pt_model3)+exp(v_cycle_model3))\n",
    "prob_cycle_s1 = exp(v_cycle_model3) /( exp(v_walk_model3)+ exp(v_drive_scenario1)+exp(v_pt_model3)+exp(v_cycle_model3))\n",
    "prob_pt_s1 =  exp(v_pt_model3) /( exp(v_walk_model3)+ exp(v_drive_scenario1)+exp(v_pt_model3)+exp(v_cycle_model3))"
   ]
  },
  {
   "cell_type": "markdown",
   "id": "10a86560",
   "metadata": {},
   "source": [
    "Simulating the results"
   ]
  },
  {
   "cell_type": "code",
   "execution_count": 183,
   "id": "256170d1",
   "metadata": {
    "execution": {
     "iopub.execute_input": "2023-12-06T18:05:23.531714Z",
     "iopub.status.busy": "2023-12-06T18:05:23.531090Z",
     "iopub.status.idle": "2023-12-06T18:05:23.540949Z",
     "shell.execute_reply": "2023-12-06T18:05:23.538981Z",
     "shell.execute_reply.started": "2023-12-06T18:05:23.531659Z"
    },
    "tags": []
   },
   "outputs": [],
   "source": [
    "simulate_1 = {\n",
    "    'Weight': Weight,\n",
    "    'Prob. walk s1': prob_walk_s1,\n",
    "    'Prob. drive s1': prob_drive_s1,\n",
    "    'Prob. cycle s1': prob_cycle_s1,\n",
    "    'Prob. pt s1': prob_pt_s1,    \n",
    "}\n"
   ]
  },
  {
   "cell_type": "code",
   "execution_count": 184,
   "id": "674174cd",
   "metadata": {
    "execution": {
     "iopub.execute_input": "2023-12-06T18:05:23.904584Z",
     "iopub.status.busy": "2023-12-06T18:05:23.903911Z",
     "iopub.status.idle": "2023-12-06T18:05:24.181722Z",
     "shell.execute_reply": "2023-12-06T18:05:24.180231Z",
     "shell.execute_reply.started": "2023-12-06T18:05:23.904529Z"
    },
    "tags": []
   },
   "outputs": [
    {
     "data": {
      "text/html": [
       "<div>\n",
       "<style scoped>\n",
       "    .dataframe tbody tr th:only-of-type {\n",
       "        vertical-align: middle;\n",
       "    }\n",
       "\n",
       "    .dataframe tbody tr th {\n",
       "        vertical-align: top;\n",
       "    }\n",
       "\n",
       "    .dataframe thead th {\n",
       "        text-align: right;\n",
       "    }\n",
       "</style>\n",
       "<table border=\"1\" class=\"dataframe\">\n",
       "  <thead>\n",
       "    <tr style=\"text-align: right;\">\n",
       "      <th></th>\n",
       "      <th>Weight</th>\n",
       "      <th>Prob. walk s1</th>\n",
       "      <th>Prob. drive s1</th>\n",
       "      <th>Prob. cycle s1</th>\n",
       "      <th>Prob. pt s1</th>\n",
       "    </tr>\n",
       "  </thead>\n",
       "  <tbody>\n",
       "    <tr>\n",
       "      <th>0</th>\n",
       "      <td>0.879505</td>\n",
       "      <td>0.001439</td>\n",
       "      <td>0.188250</td>\n",
       "      <td>0.011243</td>\n",
       "      <td>0.799068</td>\n",
       "    </tr>\n",
       "    <tr>\n",
       "      <th>1</th>\n",
       "      <td>0.881137</td>\n",
       "      <td>0.000103</td>\n",
       "      <td>0.160945</td>\n",
       "      <td>0.021130</td>\n",
       "      <td>0.817821</td>\n",
       "    </tr>\n",
       "    <tr>\n",
       "      <th>2</th>\n",
       "      <td>1.175669</td>\n",
       "      <td>0.033202</td>\n",
       "      <td>0.378567</td>\n",
       "      <td>0.042145</td>\n",
       "      <td>0.546086</td>\n",
       "    </tr>\n",
       "    <tr>\n",
       "      <th>3</th>\n",
       "      <td>1.175669</td>\n",
       "      <td>0.615441</td>\n",
       "      <td>0.164659</td>\n",
       "      <td>0.028836</td>\n",
       "      <td>0.191064</td>\n",
       "    </tr>\n",
       "    <tr>\n",
       "      <th>4</th>\n",
       "      <td>0.879505</td>\n",
       "      <td>0.448632</td>\n",
       "      <td>0.287315</td>\n",
       "      <td>0.019505</td>\n",
       "      <td>0.244547</td>\n",
       "    </tr>\n",
       "    <tr>\n",
       "      <th>...</th>\n",
       "      <td>...</td>\n",
       "      <td>...</td>\n",
       "      <td>...</td>\n",
       "      <td>...</td>\n",
       "      <td>...</td>\n",
       "    </tr>\n",
       "    <tr>\n",
       "      <th>4995</th>\n",
       "      <td>1.175669</td>\n",
       "      <td>0.493779</td>\n",
       "      <td>0.327714</td>\n",
       "      <td>0.048593</td>\n",
       "      <td>0.129915</td>\n",
       "    </tr>\n",
       "    <tr>\n",
       "      <th>4996</th>\n",
       "      <td>1.175669</td>\n",
       "      <td>0.000296</td>\n",
       "      <td>0.824332</td>\n",
       "      <td>0.013351</td>\n",
       "      <td>0.162021</td>\n",
       "    </tr>\n",
       "    <tr>\n",
       "      <th>4997</th>\n",
       "      <td>1.175669</td>\n",
       "      <td>0.126387</td>\n",
       "      <td>0.661354</td>\n",
       "      <td>0.075549</td>\n",
       "      <td>0.136710</td>\n",
       "    </tr>\n",
       "    <tr>\n",
       "      <th>4998</th>\n",
       "      <td>0.879505</td>\n",
       "      <td>0.140660</td>\n",
       "      <td>0.466908</td>\n",
       "      <td>0.030553</td>\n",
       "      <td>0.361879</td>\n",
       "    </tr>\n",
       "    <tr>\n",
       "      <th>4999</th>\n",
       "      <td>1.175669</td>\n",
       "      <td>0.002529</td>\n",
       "      <td>0.655132</td>\n",
       "      <td>0.024081</td>\n",
       "      <td>0.318258</td>\n",
       "    </tr>\n",
       "  </tbody>\n",
       "</table>\n",
       "<p>5000 rows × 5 columns</p>\n",
       "</div>"
      ],
      "text/plain": [
       "        Weight  Prob. walk s1  Prob. drive s1  Prob. cycle s1  Prob. pt s1\n",
       "0     0.879505       0.001439        0.188250        0.011243     0.799068\n",
       "1     0.881137       0.000103        0.160945        0.021130     0.817821\n",
       "2     1.175669       0.033202        0.378567        0.042145     0.546086\n",
       "3     1.175669       0.615441        0.164659        0.028836     0.191064\n",
       "4     0.879505       0.448632        0.287315        0.019505     0.244547\n",
       "...        ...            ...             ...             ...          ...\n",
       "4995  1.175669       0.493779        0.327714        0.048593     0.129915\n",
       "4996  1.175669       0.000296        0.824332        0.013351     0.162021\n",
       "4997  1.175669       0.126387        0.661354        0.075549     0.136710\n",
       "4998  0.879505       0.140660        0.466908        0.030553     0.361879\n",
       "4999  1.175669       0.002529        0.655132        0.024081     0.318258\n",
       "\n",
       "[5000 rows x 5 columns]"
      ]
     },
     "execution_count": 184,
     "metadata": {},
     "output_type": "execute_result"
    }
   ],
   "source": [
    "database = db.Database('LPMC2',  LPMC2)\n",
    "biosim1 = bio.BIOGEME(database, simulate_1)\n",
    "simulated_values_s1 = biosim1.simulate(results_model3.getBetaValues())\n",
    "simulated_values_s1\n"
   ]
  },
  {
   "cell_type": "markdown",
   "id": "3b0e25bc",
   "metadata": {},
   "source": [
    "Observing the simulated data, we can see a slight decrease in Probability for the drive option"
   ]
  },
  {
   "cell_type": "code",
   "execution_count": 185,
   "id": "fdffae1d",
   "metadata": {
    "execution": {
     "iopub.execute_input": "2023-12-06T18:05:24.528888Z",
     "iopub.status.busy": "2023-12-06T18:05:24.528286Z",
     "iopub.status.idle": "2023-12-06T18:05:24.544357Z",
     "shell.execute_reply": "2023-12-06T18:05:24.542572Z",
     "shell.execute_reply.started": "2023-12-06T18:05:24.528833Z"
    },
    "tags": []
   },
   "outputs": [],
   "source": [
    "\n",
    "\n",
    "simulated_values_s1['Weighted walk s1'] = (\n",
    "    simulated_values_s1['Weight'] * \n",
    "    simulated_values_s1['Prob. walk s1']\n",
    ")\n",
    "simulated_values_s1['Weighted drive s1'] = (\n",
    "    simulated_values_s1['Weight'] * \n",
    "    simulated_values_s1['Prob. drive s1']\n",
    ")\n",
    "simulated_values_s1['Weighted cycle s1'] = (\n",
    "    simulated_values_s1['Weight'] * \n",
    "    simulated_values_s1['Prob. cycle s1']\n",
    ")\n",
    "simulated_values_s1['Weighted pt s1'] = (\n",
    "    simulated_values_s1['Weight'] * \n",
    "    simulated_values_s1['Prob. pt s1']\n",
    ")\n",
    "\n"
   ]
  },
  {
   "cell_type": "markdown",
   "id": "fb2c6188",
   "metadata": {},
   "source": [
    "Using the weight as before we compute the weighted of each option, and print the market share"
   ]
  },
  {
   "cell_type": "code",
   "execution_count": 186,
   "id": "0324e811",
   "metadata": {
    "execution": {
     "iopub.execute_input": "2023-12-06T18:05:25.325183Z",
     "iopub.status.busy": "2023-12-06T18:05:25.324468Z",
     "iopub.status.idle": "2023-12-06T18:05:25.341700Z",
     "shell.execute_reply": "2023-12-06T18:05:25.339830Z",
     "shell.execute_reply.started": "2023-12-06T18:05:25.325120Z"
    },
    "tags": []
   },
   "outputs": [
    {
     "name": "stdout",
     "output_type": "stream",
     "text": [
      "Market share for walk: 19.1%\n",
      "Market share for drive: 37.9%\n",
      "Market share for cycle: 3.4%\n",
      "Market share for pt: 39.6%\n"
     ]
    }
   ],
   "source": [
    "market_share_walk_s1 = simulated_values_s1['Weighted walk s1'].mean()\n",
    "\n",
    "print(f'Market share for walk: {100*market_share_walk_s1:.1f}%')\n",
    "market_share_drive_s1 = simulated_values_s1['Weighted drive s1'].mean()\n",
    "print(f'Market share for drive: {100*market_share_drive_s1:.1f}%')\n",
    "market_share_cycle_s1 = simulated_values_s1['Weighted cycle s1'].mean()\n",
    "print(f'Market share for cycle: {100*market_share_cycle_s1:.1f}%')\n",
    "market_share_pt_s1 = simulated_values_s1['Weighted pt s1'].mean()\n",
    "print(f'Market share for pt: {100*market_share_pt_s1:.1f}%')"
   ]
  },
  {
   "cell_type": "markdown",
   "id": "ee2ad713",
   "metadata": {},
   "source": [
    "### Scenario 2"
   ]
  },
  {
   "cell_type": "markdown",
   "id": "dcbfa9d9",
   "metadata": {},
   "source": [
    "Taking Model pref ( model 3) we create the first scenario, where the price for public transport decrease by 10% "
   ]
  },
  {
   "cell_type": "code",
   "execution_count": 187,
   "id": "480cd843",
   "metadata": {
    "execution": {
     "iopub.execute_input": "2023-12-06T18:05:26.771427Z",
     "iopub.status.busy": "2023-12-06T18:05:26.770725Z",
     "iopub.status.idle": "2023-12-06T18:05:26.780364Z",
     "shell.execute_reply": "2023-12-06T18:05:26.778484Z",
     "shell.execute_reply.started": "2023-12-06T18:05:26.771370Z"
    },
    "tags": []
   },
   "outputs": [],
   "source": [
    "\n",
    "v_pt_scenario2  = segmented_asc_pt + beta_elapsed_time_pt * boxcox_time_pt   + beta_cost * cost_pt*0.8\n"
   ]
  },
  {
   "cell_type": "code",
   "execution_count": 188,
   "id": "d94a03fe",
   "metadata": {
    "execution": {
     "iopub.execute_input": "2023-12-06T18:05:27.122322Z",
     "iopub.status.busy": "2023-12-06T18:05:27.120987Z",
     "iopub.status.idle": "2023-12-06T18:05:27.133574Z",
     "shell.execute_reply": "2023-12-06T18:05:27.131724Z",
     "shell.execute_reply.started": "2023-12-06T18:05:27.122265Z"
    },
    "tags": []
   },
   "outputs": [],
   "source": [
    "prob_walk_s2 =  exp(v_walk_model3) /( exp(v_walk_model3)+ exp(v_drive_model3)+exp(v_pt_scenario2)+exp(v_cycle_model3))\n",
    "prob_drive_s2 = exp(v_drive_model3) /( exp(v_walk_model3)+ exp(v_drive_model3)+exp(v_pt_scenario2)+exp(v_cycle_model3))\n",
    "prob_cycle_s2 = exp(v_cycle_model3) /( exp(v_walk_model3)+ exp(v_drive_model3)+exp(v_pt_scenario2)+exp(v_cycle_model3))\n",
    "prob_pt_s2 =  exp(v_pt_scenario2) /( exp(v_walk_model3)+ exp(v_drive_model3)+exp(v_pt_scenario2)+exp(v_cycle_model3))"
   ]
  },
  {
   "cell_type": "code",
   "execution_count": 189,
   "id": "7eee9986",
   "metadata": {
    "execution": {
     "iopub.execute_input": "2023-12-06T18:05:27.634485Z",
     "iopub.status.busy": "2023-12-06T18:05:27.633785Z",
     "iopub.status.idle": "2023-12-06T18:05:27.643323Z",
     "shell.execute_reply": "2023-12-06T18:05:27.641417Z",
     "shell.execute_reply.started": "2023-12-06T18:05:27.634425Z"
    },
    "tags": []
   },
   "outputs": [],
   "source": [
    "simulate_2 = {\n",
    "    'Weight': Weight,\n",
    "    'Prob. walk s2': prob_walk_s2,\n",
    "    'Prob. drive s2': prob_drive_s2,\n",
    "    'Prob. cycle s2': prob_cycle_s2,\n",
    "    'Prob. pt s2': prob_pt_s2,    \n",
    "}\n"
   ]
  },
  {
   "cell_type": "code",
   "execution_count": 190,
   "id": "99e289be",
   "metadata": {
    "execution": {
     "iopub.execute_input": "2023-12-06T18:05:28.881795Z",
     "iopub.status.busy": "2023-12-06T18:05:28.881028Z",
     "iopub.status.idle": "2023-12-06T18:05:29.178880Z",
     "shell.execute_reply": "2023-12-06T18:05:29.177641Z",
     "shell.execute_reply.started": "2023-12-06T18:05:28.881737Z"
    },
    "tags": []
   },
   "outputs": [
    {
     "data": {
      "text/html": [
       "<div>\n",
       "<style scoped>\n",
       "    .dataframe tbody tr th:only-of-type {\n",
       "        vertical-align: middle;\n",
       "    }\n",
       "\n",
       "    .dataframe tbody tr th {\n",
       "        vertical-align: top;\n",
       "    }\n",
       "\n",
       "    .dataframe thead th {\n",
       "        text-align: right;\n",
       "    }\n",
       "</style>\n",
       "<table border=\"1\" class=\"dataframe\">\n",
       "  <thead>\n",
       "    <tr style=\"text-align: right;\">\n",
       "      <th></th>\n",
       "      <th>Weight</th>\n",
       "      <th>Prob. walk s2</th>\n",
       "      <th>Prob. drive s2</th>\n",
       "      <th>Prob. cycle s2</th>\n",
       "      <th>Prob. pt s2</th>\n",
       "    </tr>\n",
       "  </thead>\n",
       "  <tbody>\n",
       "    <tr>\n",
       "      <th>0</th>\n",
       "      <td>0.879505</td>\n",
       "      <td>0.001308</td>\n",
       "      <td>0.222573</td>\n",
       "      <td>0.010225</td>\n",
       "      <td>0.765894</td>\n",
       "    </tr>\n",
       "    <tr>\n",
       "      <th>1</th>\n",
       "      <td>0.881137</td>\n",
       "      <td>0.000098</td>\n",
       "      <td>0.199590</td>\n",
       "      <td>0.020157</td>\n",
       "      <td>0.780154</td>\n",
       "    </tr>\n",
       "    <tr>\n",
       "      <th>2</th>\n",
       "      <td>1.175669</td>\n",
       "      <td>0.028588</td>\n",
       "      <td>0.423744</td>\n",
       "      <td>0.036288</td>\n",
       "      <td>0.511379</td>\n",
       "    </tr>\n",
       "    <tr>\n",
       "      <th>3</th>\n",
       "      <td>1.175669</td>\n",
       "      <td>0.580776</td>\n",
       "      <td>0.201997</td>\n",
       "      <td>0.027212</td>\n",
       "      <td>0.190015</td>\n",
       "    </tr>\n",
       "    <tr>\n",
       "      <th>4</th>\n",
       "      <td>0.879505</td>\n",
       "      <td>0.408083</td>\n",
       "      <td>0.339747</td>\n",
       "      <td>0.017742</td>\n",
       "      <td>0.234427</td>\n",
       "    </tr>\n",
       "    <tr>\n",
       "      <th>...</th>\n",
       "      <td>...</td>\n",
       "      <td>...</td>\n",
       "      <td>...</td>\n",
       "      <td>...</td>\n",
       "      <td>...</td>\n",
       "    </tr>\n",
       "    <tr>\n",
       "      <th>4995</th>\n",
       "      <td>1.175669</td>\n",
       "      <td>0.449580</td>\n",
       "      <td>0.387890</td>\n",
       "      <td>0.044243</td>\n",
       "      <td>0.118286</td>\n",
       "    </tr>\n",
       "    <tr>\n",
       "      <th>4996</th>\n",
       "      <td>1.175669</td>\n",
       "      <td>0.000234</td>\n",
       "      <td>0.846987</td>\n",
       "      <td>0.010552</td>\n",
       "      <td>0.142227</td>\n",
       "    </tr>\n",
       "    <tr>\n",
       "      <th>4997</th>\n",
       "      <td>1.175669</td>\n",
       "      <td>0.104819</td>\n",
       "      <td>0.713036</td>\n",
       "      <td>0.062657</td>\n",
       "      <td>0.119489</td>\n",
       "    </tr>\n",
       "    <tr>\n",
       "      <th>4998</th>\n",
       "      <td>0.879505</td>\n",
       "      <td>0.123379</td>\n",
       "      <td>0.532403</td>\n",
       "      <td>0.026800</td>\n",
       "      <td>0.317419</td>\n",
       "    </tr>\n",
       "    <tr>\n",
       "      <th>4999</th>\n",
       "      <td>1.175669</td>\n",
       "      <td>0.002084</td>\n",
       "      <td>0.701722</td>\n",
       "      <td>0.019841</td>\n",
       "      <td>0.276353</td>\n",
       "    </tr>\n",
       "  </tbody>\n",
       "</table>\n",
       "<p>5000 rows × 5 columns</p>\n",
       "</div>"
      ],
      "text/plain": [
       "        Weight  Prob. walk s2  Prob. drive s2  Prob. cycle s2  Prob. pt s2\n",
       "0     0.879505       0.001308        0.222573        0.010225     0.765894\n",
       "1     0.881137       0.000098        0.199590        0.020157     0.780154\n",
       "2     1.175669       0.028588        0.423744        0.036288     0.511379\n",
       "3     1.175669       0.580776        0.201997        0.027212     0.190015\n",
       "4     0.879505       0.408083        0.339747        0.017742     0.234427\n",
       "...        ...            ...             ...             ...          ...\n",
       "4995  1.175669       0.449580        0.387890        0.044243     0.118286\n",
       "4996  1.175669       0.000234        0.846987        0.010552     0.142227\n",
       "4997  1.175669       0.104819        0.713036        0.062657     0.119489\n",
       "4998  0.879505       0.123379        0.532403        0.026800     0.317419\n",
       "4999  1.175669       0.002084        0.701722        0.019841     0.276353\n",
       "\n",
       "[5000 rows x 5 columns]"
      ]
     },
     "execution_count": 190,
     "metadata": {},
     "output_type": "execute_result"
    }
   ],
   "source": [
    "database = db.Database('LPMC2',  LPMC2)\n",
    "biosim2 = bio.BIOGEME(database, simulate_2)\n",
    "simulated_values_s2 = biosim2.simulate(results_model3.getBetaValues())\n",
    "simulated_values_s2\n",
    "\n"
   ]
  },
  {
   "cell_type": "code",
   "execution_count": 191,
   "id": "23992b6c",
   "metadata": {
    "execution": {
     "iopub.execute_input": "2023-12-06T18:05:29.862543Z",
     "iopub.status.busy": "2023-12-06T18:05:29.861858Z",
     "iopub.status.idle": "2023-12-06T18:05:29.878427Z",
     "shell.execute_reply": "2023-12-06T18:05:29.876816Z",
     "shell.execute_reply.started": "2023-12-06T18:05:29.862485Z"
    },
    "tags": []
   },
   "outputs": [],
   "source": [
    "simulated_values_s2['Weighted walk s2'] = (\n",
    "    simulated_values_s2['Weight'] * \n",
    "    simulated_values_s2['Prob. walk s2']\n",
    ")\n",
    "simulated_values_s2['Weighted drive s2'] = (\n",
    "    simulated_values_s2['Weight'] * \n",
    "    simulated_values_s2['Prob. drive s2']\n",
    ")\n",
    "simulated_values_s2['Weighted cycle s2'] = (\n",
    "    simulated_values_s2['Weight'] * \n",
    "    simulated_values_s2['Prob. cycle s2']\n",
    ")\n",
    "simulated_values_s2['Weighted pt s2'] = (\n",
    "    simulated_values_s2['Weight'] * \n",
    "    simulated_values_s2['Prob. pt s2']\n",
    ")\n"
   ]
  },
  {
   "cell_type": "code",
   "execution_count": 192,
   "id": "14c1532d",
   "metadata": {
    "execution": {
     "iopub.execute_input": "2023-12-06T18:05:30.575891Z",
     "iopub.status.busy": "2023-12-06T18:05:30.575208Z",
     "iopub.status.idle": "2023-12-06T18:05:30.590851Z",
     "shell.execute_reply": "2023-12-06T18:05:30.589434Z",
     "shell.execute_reply.started": "2023-12-06T18:05:30.575834Z"
    },
    "tags": []
   },
   "outputs": [
    {
     "name": "stdout",
     "output_type": "stream",
     "text": [
      "Market share for walk: 17.7%\n",
      "Market share for drive: 42.2%\n",
      "Market share for cycle: 3.4%\n",
      "Market share for pt: 37.1%\n"
     ]
    }
   ],
   "source": [
    "market_share_walk_s2 = simulated_values_s2['Weighted walk s2'].mean()\n",
    "\n",
    "\n",
    "print(f'Market share for walk: {100*market_share_walk_s2:.1f}%')\n",
    "market_share_drive_s2 = simulated_values_s2['Weighted drive s2'].mean()\n",
    "print(f'Market share for drive: {100*market_share_drive_s2:.1f}%')\n",
    "market_share_cycle_s2 = simulated_values_s2['Weighted cycle s2'].mean()\n",
    "print(f'Market share for cycle: {100*market_share_cycle_s1:.1f}%')\n",
    "market_share_pt_s2 = simulated_values_s2['Weighted pt s2'].mean()\n",
    "print(f'Market share for pt: {100*market_share_pt_s2:.1f}%')"
   ]
  },
  {
   "cell_type": "markdown",
   "id": "dfbc2674",
   "metadata": {},
   "source": [
    "The change is quite small !"
   ]
  },
  {
   "cell_type": "markdown",
   "id": "b76974db",
   "metadata": {},
   "source": [
    "#### Quick intuition on impact "
   ]
  },
  {
   "cell_type": "code",
   "execution_count": 193,
   "id": "603d6e2f",
   "metadata": {
    "execution": {
     "iopub.execute_input": "2023-12-06T18:05:32.210261Z",
     "iopub.status.busy": "2023-12-06T18:05:32.208386Z",
     "iopub.status.idle": "2023-12-06T18:05:32.220301Z",
     "shell.execute_reply": "2023-12-06T18:05:32.218686Z",
     "shell.execute_reply.started": "2023-12-06T18:05:32.210195Z"
    },
    "tags": []
   },
   "outputs": [
    {
     "data": {
      "text/plain": [
       "1.5720739999999997"
      ]
     },
     "execution_count": 193,
     "metadata": {},
     "output_type": "execute_result"
    }
   ],
   "source": [
    "LPMC['cost_transit'].mean()"
   ]
  },
  {
   "cell_type": "markdown",
   "id": "77f0bbba",
   "metadata": {},
   "source": [
    "Personnal Remark : On average the cost for public transportation is 1.5£ so decreasing it by 10% decrease in average would be 0.157 as the $beta$ is equal to -0.170998 ie it will increase the value function of pt by 0.026846686\n",
    "Wheras increasing the price of car by 1.5 decrease its car value fucntion by 0.256497 (much bigger impact)"
   ]
  },
  {
   "cell_type": "markdown",
   "id": "02c61798-14b3-44a3-81a5-01cf2b36fb3a",
   "metadata": {},
   "source": [
    "**Question 3**"
   ]
  },
  {
   "cell_type": "code",
   "execution_count": 215,
   "id": "b98ff4db-2544-4074-8b20-ba864e9c3b27",
   "metadata": {
    "execution": {
     "iopub.execute_input": "2023-12-06T18:20:32.309390Z",
     "iopub.status.busy": "2023-12-06T18:20:32.308650Z",
     "iopub.status.idle": "2023-12-06T18:20:32.324575Z",
     "shell.execute_reply": "2023-12-06T18:20:32.322924Z",
     "shell.execute_reply.started": "2023-12-06T18:20:32.309330Z"
    },
    "tags": []
   },
   "outputs": [],
   "source": [
    "Total_revenue_no_scenario = (simulated_values['Weighted pt'].mean() * LPMC[\"cost_transit\"]).sum()\n",
    "\n",
    "Total_revenue_scenario_1 = (simulated_values_s1['Weighted pt s1'].mean() * LPMC[\"cost_transit\"]).sum()\n",
    "\n",
    "Total_revenue_scenario_2 = (simulated_values_s1['Weighted pt s1'].mean() * LPMC[\"cost_transit\"] * 0.8).sum()"
   ]
  },
  {
   "cell_type": "code",
   "execution_count": 216,
   "id": "5dfe9d16-98e7-4db2-8f2e-88678ad454ba",
   "metadata": {
    "execution": {
     "iopub.execute_input": "2023-12-06T18:20:34.181997Z",
     "iopub.status.busy": "2023-12-06T18:20:34.181195Z",
     "iopub.status.idle": "2023-12-06T18:20:34.192403Z",
     "shell.execute_reply": "2023-12-06T18:20:34.190528Z",
     "shell.execute_reply.started": "2023-12-06T18:20:34.181935Z"
    },
    "tags": []
   },
   "outputs": [
    {
     "name": "stdout",
     "output_type": "stream",
     "text": [
      "Total Revenue - No Scenario: 2845.7665648274688\n",
      "Total Revenue - Scenario 1: 3111.204739192196\n",
      "Total Revenue - Scenario 2: 2488.963791353757\n"
     ]
    }
   ],
   "source": [
    "# Print the results\n",
    "print(f\"Total Revenue - No Scenario: {Total_revenue_no_scenario }\")\n",
    "print(f\"Total Revenue - Scenario 1: {Total_revenue_scenario_1 }\")\n",
    "print(f\"Total Revenue - Scenario 2: {Total_revenue_scenario_2 }\")"
   ]
  },
  {
   "cell_type": "code",
   "execution_count": null,
   "id": "cb4a22f9-eae9-4969-8c73-c26fbf38a6d5",
   "metadata": {
    "tags": []
   },
   "outputs": [],
   "source": [
    "\n"
   ]
  }
 ],
 "metadata": {
  "kernelspec": {
   "display_name": "biogeme_py_kernel",
   "language": "python",
   "name": "biogeme_py_kernel"
  },
  "language_info": {
   "codemirror_mode": {
    "name": "ipython",
    "version": 3
   },
   "file_extension": ".py",
   "mimetype": "text/x-python",
   "name": "python",
   "nbconvert_exporter": "python",
   "pygments_lexer": "ipython3",
   "version": "3.11.5"
  }
 },
 "nbformat": 4,
 "nbformat_minor": 5
}
