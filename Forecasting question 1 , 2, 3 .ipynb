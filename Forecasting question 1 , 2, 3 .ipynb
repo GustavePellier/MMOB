{
 "cells": [
  {
   "cell_type": "markdown",
   "metadata": {},
   "source": [
    "# Import packages and database"
   ]
  },
  {
   "cell_type": "code",
   "execution_count": 170,
   "metadata": {
    "execution": {
     "iopub.execute_input": "2023-12-06T17:22:51.840923Z",
     "iopub.status.busy": "2023-12-06T17:22:51.840596Z",
     "iopub.status.idle": "2023-12-06T17:22:55.130310Z",
     "shell.execute_reply": "2023-12-06T17:22:55.128603Z",
     "shell.execute_reply.started": "2023-12-06T17:22:51.840886Z"
    }
   },
   "outputs": [],
   "source": [
    "import pandas as pd\n",
    "import numpy as np\n",
    "import biogeme.database as db\n",
    "import biogeme.biogeme as bio\n",
    "import biogeme.segmentation as seg\n",
    "from biogeme.expressions import Beta, Variable, Derive, exp\n",
    "from biogeme import models\n",
    "from biogeme import results as res\n",
    "from biogeme.expressions import DefineVariable, log\n",
    "from collections import namedtuple\n",
    "\n",
    "data_file ='https://raw.githubusercontent.com/GustavePellier/MMOB/main/lpmc19.dat'\n",
    "LPMC = pd.read_csv(data_file, sep='\\t')\n",
    "LPMC\n",
    "\n",
    "database = db.Database('LPMC', LPMC)\n",
    "all_results = {}"
   ]
  },
  {
   "cell_type": "markdown",
   "metadata": {},
   "source": [
    "# Model 0"
   ]
  },
  {
   "cell_type": "markdown",
   "metadata": {},
   "source": [
    "We calculate the total public transport duration and the total driving cost"
   ]
  },
  {
   "cell_type": "code",
   "execution_count": 171,
   "metadata": {
    "execution": {
     "iopub.execute_input": "2023-12-06T17:22:55.133474Z",
     "iopub.status.busy": "2023-12-06T17:22:55.133084Z",
     "iopub.status.idle": "2023-12-06T17:22:55.143950Z",
     "shell.execute_reply": "2023-12-06T17:22:55.142108Z",
     "shell.execute_reply.started": "2023-12-06T17:22:55.133438Z"
    }
   },
   "outputs": [],
   "source": [
    "LPMC[\"dur_pt\"]= LPMC[\"dur_pt_access\"] + LPMC[\"dur_pt_rail\"] + LPMC[\"dur_pt_bus\"] + LPMC[\"dur_pt_int\"] \n",
    "LPMC[\"cost_drive\"] = LPMC[\"cost_driving_ccharge\"] + LPMC[\"cost_driving_fuel\"]"
   ]
  },
  {
   "cell_type": "markdown",
   "metadata": {},
   "source": [
    "Some variables are created with the columns that seem to be useful"
   ]
  },
  {
   "cell_type": "code",
   "execution_count": 172,
   "metadata": {
    "execution": {
     "iopub.execute_input": "2023-12-06T17:22:55.145390Z",
     "iopub.status.busy": "2023-12-06T17:22:55.145030Z",
     "iopub.status.idle": "2023-12-06T17:22:55.192719Z",
     "shell.execute_reply": "2023-12-06T17:22:55.190929Z",
     "shell.execute_reply.started": "2023-12-06T17:22:55.145356Z"
    }
   },
   "outputs": [],
   "source": [
    "travel_mode=Variable('travel_mode')\n",
    "\n",
    "dur_pt_access=Variable('dur_pt_access')\n",
    "dur_pt_rail=Variable('dur_pt_rail')\n",
    "dur_pt_bus=Variable('dur_pt_bus')\n",
    "dur_pt_int=Variable('dur_pt_int')\n",
    "\n",
    "pt_interchanges=Variable('pt_interchanges')\n",
    "\n",
    "cost_driving_fuel=Variable('cost_driving_fuel')\n",
    "cost_driving_ccharge=Variable('cost_driving_ccharge')\n",
    "cost_drive=Variable('cost_drive')\n",
    "cost_pt=Variable('cost_transit')\n",
    "\n",
    "time_walk=Variable('dur_walking')\n",
    "time_cycle=Variable('dur_cycling')\n",
    "time_pt=Variable('dur_pt')\n",
    "time_drive=Variable('dur_driving')\n",
    "\n",
    "female=Variable('female')\n",
    "age=Variable('age')"
   ]
  },
  {
   "cell_type": "markdown",
   "metadata": {},
   "source": [
    "There are 4 different travel mode, we will thus build a model with 4 utility functions, we create 3 alternative specific constant, a generic parameter for travel time and a generic parameter for cost"
   ]
  },
  {
   "cell_type": "code",
   "execution_count": 173,
   "metadata": {
    "execution": {
     "iopub.execute_input": "2023-12-06T17:22:55.195362Z",
     "iopub.status.busy": "2023-12-06T17:22:55.194767Z",
     "iopub.status.idle": "2023-12-06T17:22:55.233539Z",
     "shell.execute_reply": "2023-12-06T17:22:55.231665Z",
     "shell.execute_reply.started": "2023-12-06T17:22:55.195308Z"
    }
   },
   "outputs": [],
   "source": [
    "asc_cycle = Beta('asc_cycle', 0, None, None, 0)\n",
    "asc_pt = Beta('asc_pt', 0, None, None, 0)\n",
    "asc_drive = Beta('asc_drive', 0, None, None, 0)\n",
    "beta_cost = Beta('beta_cost', 0, None, None, 0)\n",
    "beta_time = Beta('beta_time', 0, None, None, 0)"
   ]
  },
  {
   "cell_type": "markdown",
   "metadata": {},
   "source": [
    "Utility functions creation"
   ]
  },
  {
   "cell_type": "code",
   "execution_count": 174,
   "metadata": {
    "execution": {
     "iopub.execute_input": "2023-12-06T17:22:55.236190Z",
     "iopub.status.busy": "2023-12-06T17:22:55.235631Z",
     "iopub.status.idle": "2023-12-06T17:22:55.330697Z",
     "shell.execute_reply": "2023-12-06T17:22:55.328787Z",
     "shell.execute_reply.started": "2023-12-06T17:22:55.236133Z"
    }
   },
   "outputs": [],
   "source": [
    "v_walk_model0= beta_time * time_walk  \n",
    "v_cycle_model0= asc_cycle + beta_time * time_cycle \n",
    "v_pt_model0= asc_pt + beta_time * time_pt + beta_cost * cost_pt\n",
    "v_drive_model0= asc_drive + beta_time * time_drive + beta_cost * cost_drive"
   ]
  },
  {
   "cell_type": "markdown",
   "metadata": {},
   "source": [
    "availability of each mode, all available here"
   ]
  },
  {
   "cell_type": "code",
   "execution_count": 175,
   "metadata": {
    "execution": {
     "iopub.execute_input": "2023-12-06T17:22:55.333111Z",
     "iopub.status.busy": "2023-12-06T17:22:55.332579Z",
     "iopub.status.idle": "2023-12-06T17:22:55.371619Z",
     "shell.execute_reply": "2023-12-06T17:22:55.369575Z",
     "shell.execute_reply.started": "2023-12-06T17:22:55.333056Z"
    }
   },
   "outputs": [],
   "source": [
    "av = {1: 1, 2: 1, 3: 1, 4:1}"
   ]
  },
  {
   "cell_type": "markdown",
   "metadata": {},
   "source": [
    "The estimation results (parameter values, t-tests or p-values, null and final log likelihoods)"
   ]
  },
  {
   "cell_type": "code",
   "execution_count": 176,
   "metadata": {
    "execution": {
     "iopub.execute_input": "2023-12-06T17:22:55.377361Z",
     "iopub.status.busy": "2023-12-06T17:22:55.376929Z",
     "iopub.status.idle": "2023-12-06T17:22:57.460518Z",
     "shell.execute_reply": "2023-12-06T17:22:57.459271Z",
     "shell.execute_reply.started": "2023-12-06T17:22:55.377323Z"
    }
   },
   "outputs": [
    {
     "data": {
      "text/html": [
       "<div>\n",
       "<style scoped>\n",
       "    .dataframe tbody tr th:only-of-type {\n",
       "        vertical-align: middle;\n",
       "    }\n",
       "\n",
       "    .dataframe tbody tr th {\n",
       "        vertical-align: top;\n",
       "    }\n",
       "\n",
       "    .dataframe thead th {\n",
       "        text-align: right;\n",
       "    }\n",
       "</style>\n",
       "<table border=\"1\" class=\"dataframe\">\n",
       "  <thead>\n",
       "    <tr style=\"text-align: right;\">\n",
       "      <th></th>\n",
       "      <th>Value</th>\n",
       "      <th>Rob. Std err</th>\n",
       "      <th>Rob. t-test</th>\n",
       "      <th>Rob. p-value</th>\n",
       "    </tr>\n",
       "  </thead>\n",
       "  <tbody>\n",
       "    <tr>\n",
       "      <th>asc_cycle</th>\n",
       "      <td>-3.878620</td>\n",
       "      <td>0.107672</td>\n",
       "      <td>-36.022417</td>\n",
       "      <td>0.0</td>\n",
       "    </tr>\n",
       "    <tr>\n",
       "      <th>asc_drive</th>\n",
       "      <td>-1.295192</td>\n",
       "      <td>0.080505</td>\n",
       "      <td>-16.088357</td>\n",
       "      <td>0.0</td>\n",
       "    </tr>\n",
       "    <tr>\n",
       "      <th>asc_pt</th>\n",
       "      <td>-0.503354</td>\n",
       "      <td>0.054123</td>\n",
       "      <td>-9.300121</td>\n",
       "      <td>0.0</td>\n",
       "    </tr>\n",
       "    <tr>\n",
       "      <th>beta_cost</th>\n",
       "      <td>-0.193629</td>\n",
       "      <td>0.013958</td>\n",
       "      <td>-13.871886</td>\n",
       "      <td>0.0</td>\n",
       "    </tr>\n",
       "    <tr>\n",
       "      <th>beta_time</th>\n",
       "      <td>-5.495530</td>\n",
       "      <td>0.208596</td>\n",
       "      <td>-26.345334</td>\n",
       "      <td>0.0</td>\n",
       "    </tr>\n",
       "  </tbody>\n",
       "</table>\n",
       "</div>"
      ],
      "text/plain": [
       "              Value  Rob. Std err  Rob. t-test  Rob. p-value\n",
       "asc_cycle -3.878620      0.107672   -36.022417           0.0\n",
       "asc_drive -1.295192      0.080505   -16.088357           0.0\n",
       "asc_pt    -0.503354      0.054123    -9.300121           0.0\n",
       "beta_cost -0.193629      0.013958   -13.871886           0.0\n",
       "beta_time -5.495530      0.208596   -26.345334           0.0"
      ]
     },
     "execution_count": 176,
     "metadata": {},
     "output_type": "execute_result"
    }
   ],
   "source": [
    "V_model0 = {1: v_walk_model0 , 2: v_cycle_model0, 3: v_pt_model0, 4: v_drive_model0}\n",
    "logprob_model0 = models.loglogit(V_model0, av, travel_mode)\n",
    "biogeme_model0 = bio.BIOGEME(database, logprob_model0)\n",
    "biogeme_model0.modelName = 'Model_0'\n",
    "all_results['Model0'] = biogeme_model0.estimate()\n",
    "results_generic = biogeme_model0.estimate()\n",
    "results_generic.getEstimatedParameters()"
   ]
  },
  {
   "cell_type": "code",
   "execution_count": 177,
   "metadata": {
    "execution": {
     "iopub.execute_input": "2023-12-06T17:22:57.462220Z",
     "iopub.status.busy": "2023-12-06T17:22:57.461891Z",
     "iopub.status.idle": "2023-12-06T17:22:57.914252Z",
     "shell.execute_reply": "2023-12-06T17:22:57.906489Z",
     "shell.execute_reply.started": "2023-12-06T17:22:57.462186Z"
    },
    "scrolled": true
   },
   "outputs": [
    {
     "data": {
      "text/plain": [
       "(                                         Model0\n",
       " Number of estimated parameters                5\n",
       " Sample size                                5000\n",
       " Final log likelihood               -4587.818071\n",
       " Akaike Information Criterion        9185.636142\n",
       " Bayesian Information Criterion      9218.222108\n",
       " asc_cycle (t-test)                 -3.88  (-36)\n",
       " asc_drive (t-test)                -1.3  (-16.1)\n",
       " asc_pt (t-test)                  -0.503  (-9.3)\n",
       " beta_cost (t-test)              -0.194  (-13.9)\n",
       " beta_time (t-test)                -5.5  (-26.3),\n",
       " {'Model0': 'Model0'})"
      ]
     },
     "execution_count": 177,
     "metadata": {},
     "output_type": "execute_result"
    }
   ],
   "source": [
    "res.compile_estimation_results(all_results)"
   ]
  },
  {
   "cell_type": "code",
   "execution_count": 178,
   "metadata": {
    "execution": {
     "iopub.execute_input": "2023-12-06T17:23:18.650759Z",
     "iopub.status.busy": "2023-12-06T17:23:18.650101Z",
     "iopub.status.idle": "2023-12-06T17:23:18.692434Z",
     "shell.execute_reply": "2023-12-06T17:23:18.690868Z",
     "shell.execute_reply.started": "2023-12-06T17:23:18.650702Z"
    },
    "tags": []
   },
   "outputs": [
    {
     "name": "stdout",
     "output_type": "stream",
     "text": [
      "Null Loglikelihood : \n"
     ]
    },
    {
     "data": {
      "text/plain": [
       "-6931.471805599917"
      ]
     },
     "execution_count": 178,
     "metadata": {},
     "output_type": "execute_result"
    }
   ],
   "source": [
    "print(\"Null Loglikelihood : \")\n",
    "biogeme_model0.calculateNullLoglikelihood(av)"
   ]
  },
  {
   "cell_type": "markdown",
   "metadata": {},
   "source": [
    "# Model 1"
   ]
  },
  {
   "cell_type": "markdown",
   "metadata": {},
   "source": [
    "We choose to do a specification for the time attribute, the cost stays generic in this model. Therefore we obtain a beta_time parameter for each transportation mode. "
   ]
  },
  {
   "cell_type": "code",
   "execution_count": 179,
   "metadata": {
    "execution": {
     "iopub.execute_input": "2023-12-06T17:23:20.502581Z",
     "iopub.status.busy": "2023-12-06T17:23:20.501914Z",
     "iopub.status.idle": "2023-12-06T17:23:20.511922Z",
     "shell.execute_reply": "2023-12-06T17:23:20.510331Z",
     "shell.execute_reply.started": "2023-12-06T17:23:20.502524Z"
    },
    "tags": []
   },
   "outputs": [],
   "source": [
    "beta_time_walk = Beta('beta_time_walk', 0, None, None, 0)\n",
    "beta_time_cycle = Beta('beta_time_cycle', 0, None, None, 0)\n",
    "beta_time_pt = Beta('beta_time_pt', 0, None, None, 0)\n",
    "beta_time_drive = Beta('beta_time_drive', 0, None, None, 0)"
   ]
  },
  {
   "cell_type": "markdown",
   "metadata": {},
   "source": [
    "The utility functions are rewritten with the new parameters :"
   ]
  },
  {
   "cell_type": "code",
   "execution_count": 180,
   "metadata": {
    "execution": {
     "iopub.execute_input": "2023-12-06T17:23:21.367371Z",
     "iopub.status.busy": "2023-12-06T17:23:21.366674Z",
     "iopub.status.idle": "2023-12-06T17:23:21.377161Z",
     "shell.execute_reply": "2023-12-06T17:23:21.375272Z",
     "shell.execute_reply.started": "2023-12-06T17:23:21.367313Z"
    },
    "tags": []
   },
   "outputs": [],
   "source": [
    "v_walk_model1= beta_time_walk * time_walk  \n",
    "v_cycle_model1= asc_cycle + beta_time_cycle * time_cycle \n",
    "v_pt_model1= asc_pt + beta_time_pt * time_pt + beta_cost * cost_pt\n",
    "v_drive_model1= asc_drive + beta_time_drive * time_drive + beta_cost * cost_drive"
   ]
  },
  {
   "cell_type": "markdown",
   "metadata": {},
   "source": [
    "The results are computed (parameter values, t-tests or p-values, null and final log likelihoods)"
   ]
  },
  {
   "cell_type": "code",
   "execution_count": 181,
   "metadata": {
    "execution": {
     "iopub.execute_input": "2023-12-06T17:23:22.023143Z",
     "iopub.status.busy": "2023-12-06T17:23:22.022460Z",
     "iopub.status.idle": "2023-12-06T17:23:25.175893Z",
     "shell.execute_reply": "2023-12-06T17:23:25.174073Z",
     "shell.execute_reply.started": "2023-12-06T17:23:22.023086Z"
    },
    "tags": []
   },
   "outputs": [
    {
     "data": {
      "text/html": [
       "<div>\n",
       "<style scoped>\n",
       "    .dataframe tbody tr th:only-of-type {\n",
       "        vertical-align: middle;\n",
       "    }\n",
       "\n",
       "    .dataframe tbody tr th {\n",
       "        vertical-align: top;\n",
       "    }\n",
       "\n",
       "    .dataframe thead th {\n",
       "        text-align: right;\n",
       "    }\n",
       "</style>\n",
       "<table border=\"1\" class=\"dataframe\">\n",
       "  <thead>\n",
       "    <tr style=\"text-align: right;\">\n",
       "      <th></th>\n",
       "      <th>Value</th>\n",
       "      <th>Rob. Std err</th>\n",
       "      <th>Rob. t-test</th>\n",
       "      <th>Rob. p-value</th>\n",
       "    </tr>\n",
       "  </thead>\n",
       "  <tbody>\n",
       "    <tr>\n",
       "      <th>asc_cycle</th>\n",
       "      <td>-4.847224</td>\n",
       "      <td>0.202570</td>\n",
       "      <td>-23.928655</td>\n",
       "      <td>0.0</td>\n",
       "    </tr>\n",
       "    <tr>\n",
       "      <th>asc_drive</th>\n",
       "      <td>-1.969874</td>\n",
       "      <td>0.137929</td>\n",
       "      <td>-14.281807</td>\n",
       "      <td>0.0</td>\n",
       "    </tr>\n",
       "    <tr>\n",
       "      <th>asc_pt</th>\n",
       "      <td>-2.337196</td>\n",
       "      <td>0.139506</td>\n",
       "      <td>-16.753340</td>\n",
       "      <td>0.0</td>\n",
       "    </tr>\n",
       "    <tr>\n",
       "      <th>beta_cost</th>\n",
       "      <td>-0.182009</td>\n",
       "      <td>0.016087</td>\n",
       "      <td>-11.314048</td>\n",
       "      <td>0.0</td>\n",
       "    </tr>\n",
       "    <tr>\n",
       "      <th>beta_time_cycle</th>\n",
       "      <td>-5.312452</td>\n",
       "      <td>0.462002</td>\n",
       "      <td>-11.498765</td>\n",
       "      <td>0.0</td>\n",
       "    </tr>\n",
       "    <tr>\n",
       "      <th>beta_time_drive</th>\n",
       "      <td>-6.474307</td>\n",
       "      <td>0.378989</td>\n",
       "      <td>-17.083106</td>\n",
       "      <td>0.0</td>\n",
       "    </tr>\n",
       "    <tr>\n",
       "      <th>beta_time_pt</th>\n",
       "      <td>-3.538619</td>\n",
       "      <td>0.250656</td>\n",
       "      <td>-14.117425</td>\n",
       "      <td>0.0</td>\n",
       "    </tr>\n",
       "    <tr>\n",
       "      <th>beta_time_walk</th>\n",
       "      <td>-8.430768</td>\n",
       "      <td>0.418991</td>\n",
       "      <td>-20.121615</td>\n",
       "      <td>0.0</td>\n",
       "    </tr>\n",
       "  </tbody>\n",
       "</table>\n",
       "</div>"
      ],
      "text/plain": [
       "                    Value  Rob. Std err  Rob. t-test  Rob. p-value\n",
       "asc_cycle       -4.847224      0.202570   -23.928655           0.0\n",
       "asc_drive       -1.969874      0.137929   -14.281807           0.0\n",
       "asc_pt          -2.337196      0.139506   -16.753340           0.0\n",
       "beta_cost       -0.182009      0.016087   -11.314048           0.0\n",
       "beta_time_cycle -5.312452      0.462002   -11.498765           0.0\n",
       "beta_time_drive -6.474307      0.378989   -17.083106           0.0\n",
       "beta_time_pt    -3.538619      0.250656   -14.117425           0.0\n",
       "beta_time_walk  -8.430768      0.418991   -20.121615           0.0"
      ]
     },
     "execution_count": 181,
     "metadata": {},
     "output_type": "execute_result"
    }
   ],
   "source": [
    "V_model1 = {1: v_walk_model1 , 2: v_cycle_model1, 3: v_pt_model1, 4: v_drive_model1}\n",
    "logprob_model1 = models.loglogit(V_model1, av, travel_mode)\n",
    "biogeme_model1 = bio.BIOGEME(database, logprob_model1)\n",
    "biogeme_model1.modelName = 'Model_1'\n",
    "all_results['Model1'] = biogeme_model1.estimate()\n",
    "results_specific_time = biogeme_model1.estimate()\n",
    "results_specific_time.getEstimatedParameters()"
   ]
  },
  {
   "cell_type": "code",
   "execution_count": 182,
   "metadata": {
    "execution": {
     "iopub.execute_input": "2023-12-06T17:23:25.178425Z",
     "iopub.status.busy": "2023-12-06T17:23:25.178056Z",
     "iopub.status.idle": "2023-12-06T17:23:25.203724Z",
     "shell.execute_reply": "2023-12-06T17:23:25.201971Z",
     "shell.execute_reply.started": "2023-12-06T17:23:25.178389Z"
    },
    "tags": []
   },
   "outputs": [
    {
     "data": {
      "text/plain": [
       "(                                         Model0           Model1\n",
       " Number of estimated parameters                5                8\n",
       " Sample size                                5000             5000\n",
       " Final log likelihood               -4587.818071     -4275.496542\n",
       " Akaike Information Criterion        9185.636142      8566.993084\n",
       " Bayesian Information Criterion      9218.222108       8619.13063\n",
       " asc_cycle (t-test)                 -3.88  (-36)   -4.85  (-23.9)\n",
       " asc_drive (t-test)                -1.3  (-16.1)   -1.97  (-14.3)\n",
       " asc_pt (t-test)                  -0.503  (-9.3)   -2.34  (-16.8)\n",
       " beta_cost (t-test)              -0.194  (-13.9)  -0.182  (-11.3)\n",
       " beta_time (t-test)                -5.5  (-26.3)                 \n",
       " beta_time_cycle (t-test)                          -5.31  (-11.5)\n",
       " beta_time_drive (t-test)                          -6.47  (-17.1)\n",
       " beta_time_pt (t-test)                             -3.54  (-14.1)\n",
       " beta_time_walk (t-test)                           -8.43  (-20.1),\n",
       " {'Model0': 'Model0', 'Model1': 'Model1'})"
      ]
     },
     "execution_count": 182,
     "metadata": {},
     "output_type": "execute_result"
    }
   ],
   "source": [
    "res.compile_estimation_results(all_results)"
   ]
  },
  {
   "cell_type": "code",
   "execution_count": 183,
   "metadata": {
    "execution": {
     "iopub.status.busy": "2023-12-06T17:23:25.204671Z",
     "iopub.status.idle": "2023-12-06T17:23:25.205116Z",
     "shell.execute_reply": "2023-12-06T17:23:25.204918Z",
     "shell.execute_reply.started": "2023-12-06T17:23:25.204894Z"
    },
    "tags": []
   },
   "outputs": [
    {
     "data": {
      "text/plain": [
       "-6931.471805599917"
      ]
     },
     "execution_count": 183,
     "metadata": {},
     "output_type": "execute_result"
    }
   ],
   "source": [
    "biogeme_model1.calculateNullLoglikelihood(av)"
   ]
  },
  {
   "cell_type": "markdown",
   "metadata": {},
   "source": [
    "We compare the 2 models with the likelihood ratio test because model 0 is a reduction of model 1.  "
   ]
  },
  {
   "cell_type": "code",
   "execution_count": 184,
   "metadata": {
    "execution": {
     "iopub.status.busy": "2023-12-06T17:23:25.206458Z",
     "iopub.status.idle": "2023-12-06T17:23:25.206895Z",
     "shell.execute_reply": "2023-12-06T17:23:25.206698Z",
     "shell.execute_reply.started": "2023-12-06T17:23:25.206675Z"
    },
    "tags": []
   },
   "outputs": [
    {
     "data": {
      "text/plain": [
       "LRTuple(message='H0 can be rejected at level 5.0%', statistic=624.6430583536785, threshold=7.814727903251179)"
      ]
     },
     "execution_count": 184,
     "metadata": {},
     "output_type": "execute_result"
    }
   ],
   "source": [
    "results_specific_time.likelihood_ratio_test(results_generic, 0.05)"
   ]
  },
  {
   "cell_type": "markdown",
   "metadata": {},
   "source": [
    "# Model 2"
   ]
  },
  {
   "cell_type": "markdown",
   "metadata": {},
   "source": [
    "Using Model 1 as the base model, we choose to study how gender interact with the\n",
    "ASCs and the alternative attributes. "
   ]
  },
  {
   "cell_type": "markdown",
   "metadata": {},
   "source": [
    "Lets start by segmenting the population by gender"
   ]
  },
  {
   "cell_type": "code",
   "execution_count": 185,
   "metadata": {
    "execution": {
     "iopub.execute_input": "2023-12-06T17:23:27.795510Z",
     "iopub.status.busy": "2023-12-06T17:23:27.794854Z",
     "iopub.status.idle": "2023-12-06T17:23:27.806030Z",
     "shell.execute_reply": "2023-12-06T17:23:27.804389Z",
     "shell.execute_reply.started": "2023-12-06T17:23:27.795454Z"
    },
    "tags": []
   },
   "outputs": [],
   "source": [
    "gender_segmentation = seg.DiscreteSegmentationTuple(variable=female, mapping={1: 'female', 0: 'male'})"
   ]
  },
  {
   "cell_type": "markdown",
   "metadata": {},
   "source": [
    "### ASC segmentation"
   ]
  },
  {
   "cell_type": "code",
   "execution_count": 186,
   "metadata": {
    "execution": {
     "iopub.execute_input": "2023-12-06T17:23:28.773729Z",
     "iopub.status.busy": "2023-12-06T17:23:28.773112Z",
     "iopub.status.idle": "2023-12-06T17:23:28.785466Z",
     "shell.execute_reply": "2023-12-06T17:23:28.783190Z",
     "shell.execute_reply.started": "2023-12-06T17:23:28.773683Z"
    },
    "tags": []
   },
   "outputs": [],
   "source": [
    "asc_cycle = Beta('asc_cycle', 0, None, None, 0)\n",
    "segmented_asc_cycle = seg.Segmentation(asc_cycle,[gender_segmentation]).segmented_beta()\n",
    "\n",
    "asc_pt = Beta('asc_pt', 0, None, None, 0)\n",
    "segmented_asc_pt = seg.Segmentation(asc_pt,[gender_segmentation]).segmented_beta()\n",
    "\n",
    "asc_drive = Beta('asc_drive', 0, None, None, 0)\n",
    "segmented_asc_drive = seg.Segmentation(asc_drive,[gender_segmentation]).segmented_beta()"
   ]
  },
  {
   "cell_type": "markdown",
   "metadata": {},
   "source": [
    "We redefine the value function of the 4 alternatives, introducing the segmented ASC and the segmented cost attribute"
   ]
  },
  {
   "cell_type": "code",
   "execution_count": 187,
   "metadata": {
    "execution": {
     "iopub.execute_input": "2023-12-06T17:23:29.993697Z",
     "iopub.status.busy": "2023-12-06T17:23:29.992959Z",
     "iopub.status.idle": "2023-12-06T17:23:30.004407Z",
     "shell.execute_reply": "2023-12-06T17:23:30.002459Z",
     "shell.execute_reply.started": "2023-12-06T17:23:29.993637Z"
    },
    "tags": []
   },
   "outputs": [],
   "source": [
    "v_walk_model2= beta_time_walk * time_walk  \n",
    "v_cycle_model2= segmented_asc_cycle + beta_time_cycle * time_cycle \n",
    "v_pt_model2= segmented_asc_pt + beta_time_pt * time_pt + beta_cost * cost_pt\n",
    "v_drive_model2= segmented_asc_drive + beta_time_drive * time_drive + beta_cost * cost_drive"
   ]
  },
  {
   "cell_type": "markdown",
   "metadata": {},
   "source": [
    "We can compute the result of the new model"
   ]
  },
  {
   "cell_type": "code",
   "execution_count": 188,
   "metadata": {
    "execution": {
     "iopub.execute_input": "2023-12-06T17:23:30.607590Z",
     "iopub.status.busy": "2023-12-06T17:23:30.606924Z",
     "iopub.status.idle": "2023-12-06T17:23:37.849781Z",
     "shell.execute_reply": "2023-12-06T17:23:37.848059Z",
     "shell.execute_reply.started": "2023-12-06T17:23:30.607532Z"
    },
    "tags": []
   },
   "outputs": [
    {
     "data": {
      "text/html": [
       "<div>\n",
       "<style scoped>\n",
       "    .dataframe tbody tr th:only-of-type {\n",
       "        vertical-align: middle;\n",
       "    }\n",
       "\n",
       "    .dataframe tbody tr th {\n",
       "        vertical-align: top;\n",
       "    }\n",
       "\n",
       "    .dataframe thead th {\n",
       "        text-align: right;\n",
       "    }\n",
       "</style>\n",
       "<table border=\"1\" class=\"dataframe\">\n",
       "  <thead>\n",
       "    <tr style=\"text-align: right;\">\n",
       "      <th></th>\n",
       "      <th>Value</th>\n",
       "      <th>Rob. Std err</th>\n",
       "      <th>Rob. t-test</th>\n",
       "      <th>Rob. p-value</th>\n",
       "    </tr>\n",
       "  </thead>\n",
       "  <tbody>\n",
       "    <tr>\n",
       "      <th>asc_cycle</th>\n",
       "      <td>-5.454906</td>\n",
       "      <td>0.253359</td>\n",
       "      <td>-21.530353</td>\n",
       "      <td>0.000000e+00</td>\n",
       "    </tr>\n",
       "    <tr>\n",
       "      <th>asc_cycle_male</th>\n",
       "      <td>1.051966</td>\n",
       "      <td>0.208777</td>\n",
       "      <td>5.038696</td>\n",
       "      <td>4.687141e-07</td>\n",
       "    </tr>\n",
       "    <tr>\n",
       "      <th>asc_drive</th>\n",
       "      <td>-1.893648</td>\n",
       "      <td>0.144299</td>\n",
       "      <td>-13.123111</td>\n",
       "      <td>0.000000e+00</td>\n",
       "    </tr>\n",
       "    <tr>\n",
       "      <th>asc_drive_male</th>\n",
       "      <td>-0.197931</td>\n",
       "      <td>0.095253</td>\n",
       "      <td>-2.077955</td>\n",
       "      <td>3.771347e-02</td>\n",
       "    </tr>\n",
       "    <tr>\n",
       "      <th>asc_pt</th>\n",
       "      <td>-2.208481</td>\n",
       "      <td>0.146369</td>\n",
       "      <td>-15.088464</td>\n",
       "      <td>0.000000e+00</td>\n",
       "    </tr>\n",
       "    <tr>\n",
       "      <th>asc_pt_male</th>\n",
       "      <td>-0.333133</td>\n",
       "      <td>0.099553</td>\n",
       "      <td>-3.346279</td>\n",
       "      <td>8.190405e-04</td>\n",
       "    </tr>\n",
       "    <tr>\n",
       "      <th>beta_cost</th>\n",
       "      <td>-0.182829</td>\n",
       "      <td>0.016154</td>\n",
       "      <td>-11.317962</td>\n",
       "      <td>0.000000e+00</td>\n",
       "    </tr>\n",
       "    <tr>\n",
       "      <th>beta_time_cycle</th>\n",
       "      <td>-5.580986</td>\n",
       "      <td>0.473158</td>\n",
       "      <td>-11.795183</td>\n",
       "      <td>0.000000e+00</td>\n",
       "    </tr>\n",
       "    <tr>\n",
       "      <th>beta_time_drive</th>\n",
       "      <td>-6.487796</td>\n",
       "      <td>0.380048</td>\n",
       "      <td>-17.070999</td>\n",
       "      <td>0.000000e+00</td>\n",
       "    </tr>\n",
       "    <tr>\n",
       "      <th>beta_time_pt</th>\n",
       "      <td>-3.526902</td>\n",
       "      <td>0.251400</td>\n",
       "      <td>-14.029021</td>\n",
       "      <td>0.000000e+00</td>\n",
       "    </tr>\n",
       "    <tr>\n",
       "      <th>beta_time_walk</th>\n",
       "      <td>-8.456516</td>\n",
       "      <td>0.417752</td>\n",
       "      <td>-20.242889</td>\n",
       "      <td>0.000000e+00</td>\n",
       "    </tr>\n",
       "  </tbody>\n",
       "</table>\n",
       "</div>"
      ],
      "text/plain": [
       "                    Value  Rob. Std err  Rob. t-test  Rob. p-value\n",
       "asc_cycle       -5.454906      0.253359   -21.530353  0.000000e+00\n",
       "asc_cycle_male   1.051966      0.208777     5.038696  4.687141e-07\n",
       "asc_drive       -1.893648      0.144299   -13.123111  0.000000e+00\n",
       "asc_drive_male  -0.197931      0.095253    -2.077955  3.771347e-02\n",
       "asc_pt          -2.208481      0.146369   -15.088464  0.000000e+00\n",
       "asc_pt_male     -0.333133      0.099553    -3.346279  8.190405e-04\n",
       "beta_cost       -0.182829      0.016154   -11.317962  0.000000e+00\n",
       "beta_time_cycle -5.580986      0.473158   -11.795183  0.000000e+00\n",
       "beta_time_drive -6.487796      0.380048   -17.070999  0.000000e+00\n",
       "beta_time_pt    -3.526902      0.251400   -14.029021  0.000000e+00\n",
       "beta_time_walk  -8.456516      0.417752   -20.242889  0.000000e+00"
      ]
     },
     "execution_count": 188,
     "metadata": {},
     "output_type": "execute_result"
    }
   ],
   "source": [
    "V_model2 = {1: v_walk_model2 , 2: v_cycle_model2, 3: v_pt_model2, 4: v_drive_model2}\n",
    "logprob_model2 = models.loglogit(V_model2, av, travel_mode)\n",
    "biogeme_model2 = bio.BIOGEME(database, logprob_model2)\n",
    "biogeme_model2.modelName = 'Model_2'\n",
    "all_results['Model2'] = biogeme_model2.estimate()\n",
    "results_segmented_gender = biogeme_model2.estimate()\n",
    "results_segmented_gender.getEstimatedParameters()"
   ]
  },
  {
   "cell_type": "code",
   "execution_count": 189,
   "metadata": {
    "execution": {
     "iopub.execute_input": "2023-12-06T17:23:37.852123Z",
     "iopub.status.busy": "2023-12-06T17:23:37.851734Z",
     "iopub.status.idle": "2023-12-06T17:23:37.888454Z",
     "shell.execute_reply": "2023-12-06T17:23:37.887078Z",
     "shell.execute_reply.started": "2023-12-06T17:23:37.852090Z"
    },
    "tags": []
   },
   "outputs": [
    {
     "data": {
      "text/plain": [
       "-6931.471805599917"
      ]
     },
     "execution_count": 189,
     "metadata": {},
     "output_type": "execute_result"
    }
   ],
   "source": [
    "biogeme_model2.calculateNullLoglikelihood(av)"
   ]
  },
  {
   "cell_type": "markdown",
   "metadata": {},
   "source": [
    "### Cost segmentation"
   ]
  },
  {
   "cell_type": "markdown",
   "metadata": {},
   "source": [
    "And its interaction on the cost attribute in the car and public transport alternative."
   ]
  },
  {
   "cell_type": "code",
   "execution_count": 190,
   "metadata": {
    "execution": {
     "iopub.execute_input": "2023-12-06T17:23:39.439448Z",
     "iopub.status.busy": "2023-12-06T17:23:39.438794Z",
     "iopub.status.idle": "2023-12-06T17:23:39.449228Z",
     "shell.execute_reply": "2023-12-06T17:23:39.447196Z",
     "shell.execute_reply.started": "2023-12-06T17:23:39.439390Z"
    },
    "tags": []
   },
   "outputs": [],
   "source": [
    "beta_cost = Beta('beta_cost', 0, None, None, 0)\n",
    "segmented_beta_cost = seg.Segmentation(beta_cost, [gender_segmentation]).segmented_beta()"
   ]
  },
  {
   "cell_type": "code",
   "execution_count": 191,
   "metadata": {
    "execution": {
     "iopub.execute_input": "2023-12-06T17:23:39.750960Z",
     "iopub.status.busy": "2023-12-06T17:23:39.750359Z",
     "iopub.status.idle": "2023-12-06T17:23:39.760611Z",
     "shell.execute_reply": "2023-12-06T17:23:39.758535Z",
     "shell.execute_reply.started": "2023-12-06T17:23:39.750906Z"
    },
    "tags": []
   },
   "outputs": [],
   "source": [
    "v_walk_model2_2= beta_time_walk * time_walk  \n",
    "v_cycle_model2_2= asc_cycle + beta_time_cycle * time_cycle \n",
    "v_pt_model2_2= asc_pt + beta_time_pt * time_pt + segmented_beta_cost * cost_pt\n",
    "v_drive_model2_2= asc_drive + beta_time_drive * time_drive + segmented_beta_cost * cost_drive"
   ]
  },
  {
   "cell_type": "markdown",
   "metadata": {},
   "source": [
    "We can compute the result of the new model"
   ]
  },
  {
   "cell_type": "code",
   "execution_count": 192,
   "metadata": {
    "execution": {
     "iopub.execute_input": "2023-12-06T17:23:40.936203Z",
     "iopub.status.busy": "2023-12-06T17:23:40.935517Z",
     "iopub.status.idle": "2023-12-06T17:23:45.226708Z",
     "shell.execute_reply": "2023-12-06T17:23:45.224501Z",
     "shell.execute_reply.started": "2023-12-06T17:23:40.936148Z"
    },
    "tags": []
   },
   "outputs": [
    {
     "data": {
      "text/html": [
       "<div>\n",
       "<style scoped>\n",
       "    .dataframe tbody tr th:only-of-type {\n",
       "        vertical-align: middle;\n",
       "    }\n",
       "\n",
       "    .dataframe tbody tr th {\n",
       "        vertical-align: top;\n",
       "    }\n",
       "\n",
       "    .dataframe thead th {\n",
       "        text-align: right;\n",
       "    }\n",
       "</style>\n",
       "<table border=\"1\" class=\"dataframe\">\n",
       "  <thead>\n",
       "    <tr style=\"text-align: right;\">\n",
       "      <th></th>\n",
       "      <th>Value</th>\n",
       "      <th>Rob. Std err</th>\n",
       "      <th>Rob. t-test</th>\n",
       "      <th>Rob. p-value</th>\n",
       "    </tr>\n",
       "  </thead>\n",
       "  <tbody>\n",
       "    <tr>\n",
       "      <th>asc_cycle</th>\n",
       "      <td>-4.843793</td>\n",
       "      <td>0.202194</td>\n",
       "      <td>-23.956159</td>\n",
       "      <td>0.000000e+00</td>\n",
       "    </tr>\n",
       "    <tr>\n",
       "      <th>asc_drive</th>\n",
       "      <td>-1.971743</td>\n",
       "      <td>0.137733</td>\n",
       "      <td>-14.315669</td>\n",
       "      <td>0.000000e+00</td>\n",
       "    </tr>\n",
       "    <tr>\n",
       "      <th>asc_pt</th>\n",
       "      <td>-2.343140</td>\n",
       "      <td>0.139310</td>\n",
       "      <td>-16.819666</td>\n",
       "      <td>0.000000e+00</td>\n",
       "    </tr>\n",
       "    <tr>\n",
       "      <th>beta_cost</th>\n",
       "      <td>-0.151591</td>\n",
       "      <td>0.018749</td>\n",
       "      <td>-8.085476</td>\n",
       "      <td>6.661338e-16</td>\n",
       "    </tr>\n",
       "    <tr>\n",
       "      <th>beta_cost_male</th>\n",
       "      <td>-0.065394</td>\n",
       "      <td>0.031840</td>\n",
       "      <td>-2.053794</td>\n",
       "      <td>3.999561e-02</td>\n",
       "    </tr>\n",
       "    <tr>\n",
       "      <th>beta_time_cycle</th>\n",
       "      <td>-5.348638</td>\n",
       "      <td>0.459248</td>\n",
       "      <td>-11.646508</td>\n",
       "      <td>0.000000e+00</td>\n",
       "    </tr>\n",
       "    <tr>\n",
       "      <th>beta_time_drive</th>\n",
       "      <td>-6.483024</td>\n",
       "      <td>0.380414</td>\n",
       "      <td>-17.042046</td>\n",
       "      <td>0.000000e+00</td>\n",
       "    </tr>\n",
       "    <tr>\n",
       "      <th>beta_time_pt</th>\n",
       "      <td>-3.536891</td>\n",
       "      <td>0.250704</td>\n",
       "      <td>-14.107825</td>\n",
       "      <td>0.000000e+00</td>\n",
       "    </tr>\n",
       "    <tr>\n",
       "      <th>beta_time_walk</th>\n",
       "      <td>-8.435703</td>\n",
       "      <td>0.418411</td>\n",
       "      <td>-20.161281</td>\n",
       "      <td>0.000000e+00</td>\n",
       "    </tr>\n",
       "  </tbody>\n",
       "</table>\n",
       "</div>"
      ],
      "text/plain": [
       "                    Value  Rob. Std err  Rob. t-test  Rob. p-value\n",
       "asc_cycle       -4.843793      0.202194   -23.956159  0.000000e+00\n",
       "asc_drive       -1.971743      0.137733   -14.315669  0.000000e+00\n",
       "asc_pt          -2.343140      0.139310   -16.819666  0.000000e+00\n",
       "beta_cost       -0.151591      0.018749    -8.085476  6.661338e-16\n",
       "beta_cost_male  -0.065394      0.031840    -2.053794  3.999561e-02\n",
       "beta_time_cycle -5.348638      0.459248   -11.646508  0.000000e+00\n",
       "beta_time_drive -6.483024      0.380414   -17.042046  0.000000e+00\n",
       "beta_time_pt    -3.536891      0.250704   -14.107825  0.000000e+00\n",
       "beta_time_walk  -8.435703      0.418411   -20.161281  0.000000e+00"
      ]
     },
     "execution_count": 192,
     "metadata": {},
     "output_type": "execute_result"
    }
   ],
   "source": [
    "V_model2_2 = {1: v_walk_model2_2 , 2: v_cycle_model2_2, 3: v_pt_model2_2, 4: v_drive_model2_2}\n",
    "logprob_model2_2 = models.loglogit(V_model2_2, av, travel_mode)\n",
    "biogeme_model2_2 = bio.BIOGEME(database, logprob_model2_2)\n",
    "biogeme_model2_2.modelName = 'Model_2_2'\n",
    "all_results['Model2_2'] = biogeme_model2_2.estimate()\n",
    "results_segmented_gender_2 = biogeme_model2_2.estimate()\n",
    "results_segmented_gender_2.getEstimatedParameters()"
   ]
  },
  {
   "cell_type": "code",
   "execution_count": 193,
   "metadata": {
    "execution": {
     "iopub.execute_input": "2023-12-06T17:23:45.229024Z",
     "iopub.status.busy": "2023-12-06T17:23:45.228683Z",
     "iopub.status.idle": "2023-12-06T17:23:45.264876Z",
     "shell.execute_reply": "2023-12-06T17:23:45.263100Z",
     "shell.execute_reply.started": "2023-12-06T17:23:45.228989Z"
    },
    "tags": []
   },
   "outputs": [
    {
     "data": {
      "text/plain": [
       "-6931.471805599917"
      ]
     },
     "execution_count": 193,
     "metadata": {},
     "output_type": "execute_result"
    }
   ],
   "source": [
    "biogeme_model2_2.calculateNullLoglikelihood(av)"
   ]
  },
  {
   "cell_type": "markdown",
   "metadata": {},
   "source": [
    "### Compiling all results from the different models"
   ]
  },
  {
   "cell_type": "code",
   "execution_count": 194,
   "metadata": {
    "execution": {
     "iopub.execute_input": "2023-12-06T17:23:46.527435Z",
     "iopub.status.busy": "2023-12-06T17:23:46.526827Z",
     "iopub.status.idle": "2023-12-06T17:23:46.559629Z",
     "shell.execute_reply": "2023-12-06T17:23:46.556440Z",
     "shell.execute_reply.started": "2023-12-06T17:23:46.527384Z"
    },
    "tags": []
   },
   "outputs": [
    {
     "data": {
      "text/plain": [
       "(                                         Model0           Model1  \\\n",
       " Number of estimated parameters                5                8   \n",
       " Sample size                                5000             5000   \n",
       " Final log likelihood               -4587.818071     -4275.496542   \n",
       " Akaike Information Criterion        9185.636142      8566.993084   \n",
       " Bayesian Information Criterion      9218.222108       8619.13063   \n",
       " asc_cycle (t-test)                 -3.88  (-36)   -4.85  (-23.9)   \n",
       " asc_drive (t-test)                -1.3  (-16.1)   -1.97  (-14.3)   \n",
       " asc_pt (t-test)                  -0.503  (-9.3)   -2.34  (-16.8)   \n",
       " beta_cost (t-test)              -0.194  (-13.9)  -0.182  (-11.3)   \n",
       " beta_time (t-test)                -5.5  (-26.3)                    \n",
       " beta_time_cycle (t-test)                          -5.31  (-11.5)   \n",
       " beta_time_drive (t-test)                          -6.47  (-17.1)   \n",
       " beta_time_pt (t-test)                             -3.54  (-14.1)   \n",
       " beta_time_walk (t-test)                           -8.43  (-20.1)   \n",
       " asc_cycle_male (t-test)                                            \n",
       " asc_drive_male (t-test)                                            \n",
       " asc_pt_male (t-test)                                               \n",
       " beta_cost_male (t-test)                                            \n",
       " \n",
       "                                          Model2          Model2_2  \n",
       " Number of estimated parameters               11                 9  \n",
       " Sample size                                5000              5000  \n",
       " Final log likelihood               -4245.240231      -4273.204021  \n",
       " Akaike Information Criterion        8512.480462       8564.408041  \n",
       " Bayesian Information Criterion      8584.169587        8623.06278  \n",
       " asc_cycle (t-test)               -5.45  (-21.5)      -4.84  (-24)  \n",
       " asc_drive (t-test)               -1.89  (-13.1)    -1.97  (-14.3)  \n",
       " asc_pt (t-test)                  -2.21  (-15.1)    -2.34  (-16.8)  \n",
       " beta_cost (t-test)              -0.183  (-11.3)   -0.152  (-8.09)  \n",
       " beta_time (t-test)                                                 \n",
       " beta_time_cycle (t-test)         -5.58  (-11.8)    -5.35  (-11.6)  \n",
       " beta_time_drive (t-test)         -6.49  (-17.1)      -6.48  (-17)  \n",
       " beta_time_pt (t-test)              -3.53  (-14)    -3.54  (-14.1)  \n",
       " beta_time_walk (t-test)          -8.46  (-20.2)    -8.44  (-20.2)  \n",
       " asc_cycle_male (t-test)            1.05  (5.04)                    \n",
       " asc_drive_male (t-test)         -0.198  (-2.08)                    \n",
       " asc_pt_male (t-test)            -0.333  (-3.35)                    \n",
       " beta_cost_male (t-test)                          -0.0654  (-2.05)  ,\n",
       " {'Model0': 'Model0',\n",
       "  'Model1': 'Model1',\n",
       "  'Model2': 'Model2',\n",
       "  'Model2_2': 'Model2_2'})"
      ]
     },
     "execution_count": 194,
     "metadata": {},
     "output_type": "execute_result"
    }
   ],
   "source": [
    "res.compile_estimation_results(all_results)"
   ]
  },
  {
   "cell_type": "markdown",
   "metadata": {},
   "source": [
    "### Likelihood ratio test to check if model_2 and model_2_2 are equivalent or not"
   ]
  },
  {
   "cell_type": "code",
   "execution_count": 195,
   "metadata": {
    "execution": {
     "iopub.execute_input": "2023-12-06T17:23:47.359177Z",
     "iopub.status.busy": "2023-12-06T17:23:47.358476Z",
     "iopub.status.idle": "2023-12-06T17:23:47.373413Z",
     "shell.execute_reply": "2023-12-06T17:23:47.371304Z",
     "shell.execute_reply.started": "2023-12-06T17:23:47.359122Z"
    },
    "tags": []
   },
   "outputs": [
    {
     "data": {
      "text/plain": [
       "LRTuple(message='H0 can be rejected at level 5.0%', statistic=55.92757903317943, threshold=5.991464547107979)"
      ]
     },
     "execution_count": 195,
     "metadata": {},
     "output_type": "execute_result"
    }
   ],
   "source": [
    "results_segmented_gender.likelihood_ratio_test(results_segmented_gender_2, 0.05)"
   ]
  },
  {
   "cell_type": "markdown",
   "metadata": {},
   "source": [
    "Model_2 is preferred because they are not equivalent. The BIC and AIC are smaller and the final likelihood is bigger for model 2"
   ]
  },
  {
   "cell_type": "markdown",
   "metadata": {},
   "source": [
    "### Comparison with model 1"
   ]
  },
  {
   "cell_type": "code",
   "execution_count": 196,
   "metadata": {
    "execution": {
     "iopub.execute_input": "2023-12-06T17:23:48.543677Z",
     "iopub.status.busy": "2023-12-06T17:23:48.543059Z",
     "iopub.status.idle": "2023-12-06T17:23:48.555486Z",
     "shell.execute_reply": "2023-12-06T17:23:48.553812Z",
     "shell.execute_reply.started": "2023-12-06T17:23:48.543626Z"
    },
    "tags": []
   },
   "outputs": [
    {
     "data": {
      "text/plain": [
       "LRTuple(message='H0 can be rejected at level 5.0%', statistic=60.51262181686252, threshold=7.814727903251179)"
      ]
     },
     "execution_count": 196,
     "metadata": {},
     "output_type": "execute_result"
    }
   ],
   "source": [
    "results_segmented_gender.likelihood_ratio_test(results_specific_time, 0.05)"
   ]
  },
  {
   "cell_type": "markdown",
   "metadata": {},
   "source": [
    "Model_2 is preferred to Model_1 because they are not equivalent. The BIC and AIC are smaller and the final likelihood is bigger for model 2."
   ]
  },
  {
   "cell_type": "markdown",
   "metadata": {},
   "source": [
    "# Model 3"
   ]
  },
  {
   "cell_type": "code",
   "execution_count": 197,
   "metadata": {
    "execution": {
     "iopub.execute_input": "2023-12-06T17:23:49.330269Z",
     "iopub.status.busy": "2023-12-06T17:23:49.329588Z",
     "iopub.status.idle": "2023-12-06T17:23:49.337852Z",
     "shell.execute_reply": "2023-12-06T17:23:49.336067Z",
     "shell.execute_reply.started": "2023-12-06T17:23:49.330213Z"
    },
    "tags": []
   },
   "outputs": [],
   "source": [
    "# Repartir du model segmenté, Modèle 2"
   ]
  },
  {
   "cell_type": "code",
   "execution_count": 198,
   "metadata": {
    "execution": {
     "iopub.execute_input": "2023-12-06T17:23:49.568000Z",
     "iopub.status.busy": "2023-12-06T17:23:49.567422Z",
     "iopub.status.idle": "2023-12-06T17:23:49.576816Z",
     "shell.execute_reply": "2023-12-06T17:23:49.574496Z",
     "shell.execute_reply.started": "2023-12-06T17:23:49.567945Z"
    },
    "tags": []
   },
   "outputs": [],
   "source": [
    "#GENDER segmentation\n",
    "gender_segmentation_3bis = seg.DiscreteSegmentationTuple(variable=female, mapping={1: 'female', 0: 'male'})"
   ]
  },
  {
   "cell_type": "code",
   "execution_count": 199,
   "metadata": {
    "execution": {
     "iopub.execute_input": "2023-12-06T17:23:49.834448Z",
     "iopub.status.busy": "2023-12-06T17:23:49.833884Z",
     "iopub.status.idle": "2023-12-06T17:23:49.846269Z",
     "shell.execute_reply": "2023-12-06T17:23:49.844136Z",
     "shell.execute_reply.started": "2023-12-06T17:23:49.834395Z"
    },
    "tags": []
   },
   "outputs": [],
   "source": [
    "asc_cycle_3bis = Beta('asc_cycle_3bis', 0, None, None, 0)\n",
    "segmented_asc_cycle_3bis = seg.Segmentation(asc_cycle,[gender_segmentation]).segmented_beta()\n",
    "\n",
    "asc_pt_3bis = Beta('asc_pt_3bis', 0, None, None, 0)\n",
    "segmented_asc_pt_3bis = seg.Segmentation(asc_pt,[gender_segmentation]).segmented_beta()\n",
    "\n",
    "asc_drive_3bis = Beta('asc_drive_3bis', 0, None, None, 0)\n",
    "segmented_asc_drive_3bis = seg.Segmentation(asc_drive_3bis,[gender_segmentation_3bis]).segmented_beta()"
   ]
  },
  {
   "cell_type": "code",
   "execution_count": 200,
   "metadata": {
    "execution": {
     "iopub.execute_input": "2023-12-06T17:23:50.094099Z",
     "iopub.status.busy": "2023-12-06T17:23:50.093496Z",
     "iopub.status.idle": "2023-12-06T17:23:50.107454Z",
     "shell.execute_reply": "2023-12-06T17:23:50.105996Z",
     "shell.execute_reply.started": "2023-12-06T17:23:50.094045Z"
    },
    "tags": []
   },
   "outputs": [],
   "source": [
    "beta_time_walk_3bis = Beta('beta_time_walk_3bis', 0, None, None, 0)\n",
    "beta_time_cycle_3bis = Beta('beta_time_cycle_3bis', 0, None, None, 0)\n",
    "\n",
    "beta_time_pt_3bis = Beta('beta_time_pt_3bis', 0, None, None, 0)\n",
    "beta_time_pt_3bis_squarred = Beta('beta_time_pt_3bis_squarred', 0, None, None, 0)\n",
    "\n",
    "beta_time_drive_3bis = Beta('beta_time_drive_3bis', 0, None, None, 0)\n",
    "beta_cost_3bis = Beta('beta_cost_3bis', 0, None, None, 0)\n",
    "\n",
    "\n",
    "v_walk_model_3bis= beta_time_walk_3bis * time_walk  \n",
    "\n",
    "v_cycle_model_3bis= segmented_asc_cycle_3bis + beta_time_cycle_3bis * time_cycle \n",
    "\n",
    "v_pt_model_3bis= segmented_asc_pt_3bis + beta_time_pt_3bis * time_pt + beta_time_pt_3bis_squarred *time_pt*time_pt + beta_cost_3bis * cost_pt\n",
    "\n",
    "v_drive_model_3bis= segmented_asc_drive_3bis + beta_time_drive_3bis * time_drive + beta_cost_3bis * cost_drive"
   ]
  },
  {
   "cell_type": "code",
   "execution_count": 201,
   "metadata": {
    "execution": {
     "iopub.execute_input": "2023-12-06T17:23:50.342009Z",
     "iopub.status.busy": "2023-12-06T17:23:50.341437Z",
     "iopub.status.idle": "2023-12-06T17:24:02.820016Z",
     "shell.execute_reply": "2023-12-06T17:24:02.818601Z",
     "shell.execute_reply.started": "2023-12-06T17:23:50.341956Z"
    },
    "tags": []
   },
   "outputs": [
    {
     "data": {
      "text/html": [
       "<div>\n",
       "<style scoped>\n",
       "    .dataframe tbody tr th:only-of-type {\n",
       "        vertical-align: middle;\n",
       "    }\n",
       "\n",
       "    .dataframe tbody tr th {\n",
       "        vertical-align: top;\n",
       "    }\n",
       "\n",
       "    .dataframe thead th {\n",
       "        text-align: right;\n",
       "    }\n",
       "</style>\n",
       "<table border=\"1\" class=\"dataframe\">\n",
       "  <thead>\n",
       "    <tr style=\"text-align: right;\">\n",
       "      <th></th>\n",
       "      <th>Value</th>\n",
       "      <th>Rob. Std err</th>\n",
       "      <th>Rob. t-test</th>\n",
       "      <th>Rob. p-value</th>\n",
       "    </tr>\n",
       "  </thead>\n",
       "  <tbody>\n",
       "    <tr>\n",
       "      <th>asc_cycle</th>\n",
       "      <td>-5.373633</td>\n",
       "      <td>0.250689</td>\n",
       "      <td>-21.435415</td>\n",
       "      <td>0.000000e+00</td>\n",
       "    </tr>\n",
       "    <tr>\n",
       "      <th>asc_cycle_male</th>\n",
       "      <td>1.052224</td>\n",
       "      <td>0.208454</td>\n",
       "      <td>5.047748</td>\n",
       "      <td>4.470478e-07</td>\n",
       "    </tr>\n",
       "    <tr>\n",
       "      <th>asc_drive_3bis</th>\n",
       "      <td>-1.802140</td>\n",
       "      <td>0.145490</td>\n",
       "      <td>-12.386676</td>\n",
       "      <td>0.000000e+00</td>\n",
       "    </tr>\n",
       "    <tr>\n",
       "      <th>asc_drive_3bis_male</th>\n",
       "      <td>-0.198042</td>\n",
       "      <td>0.094447</td>\n",
       "      <td>-2.096845</td>\n",
       "      <td>3.600732e-02</td>\n",
       "    </tr>\n",
       "    <tr>\n",
       "      <th>asc_pt</th>\n",
       "      <td>-2.490305</td>\n",
       "      <td>0.160124</td>\n",
       "      <td>-15.552319</td>\n",
       "      <td>0.000000e+00</td>\n",
       "    </tr>\n",
       "    <tr>\n",
       "      <th>asc_pt_male</th>\n",
       "      <td>-0.339756</td>\n",
       "      <td>0.101136</td>\n",
       "      <td>-3.359391</td>\n",
       "      <td>7.811443e-04</td>\n",
       "    </tr>\n",
       "    <tr>\n",
       "      <th>beta_cost_3bis</th>\n",
       "      <td>-0.180475</td>\n",
       "      <td>0.016392</td>\n",
       "      <td>-11.010049</td>\n",
       "      <td>0.000000e+00</td>\n",
       "    </tr>\n",
       "    <tr>\n",
       "      <th>beta_time_cycle_3bis</th>\n",
       "      <td>-5.573343</td>\n",
       "      <td>0.458404</td>\n",
       "      <td>-12.158134</td>\n",
       "      <td>0.000000e+00</td>\n",
       "    </tr>\n",
       "    <tr>\n",
       "      <th>beta_time_drive_3bis</th>\n",
       "      <td>-6.562530</td>\n",
       "      <td>0.388238</td>\n",
       "      <td>-16.903348</td>\n",
       "      <td>0.000000e+00</td>\n",
       "    </tr>\n",
       "    <tr>\n",
       "      <th>beta_time_pt_3bis</th>\n",
       "      <td>-1.983146</td>\n",
       "      <td>0.470332</td>\n",
       "      <td>-4.216483</td>\n",
       "      <td>2.481418e-05</td>\n",
       "    </tr>\n",
       "    <tr>\n",
       "      <th>beta_time_pt_3bis_squarred</th>\n",
       "      <td>-1.234442</td>\n",
       "      <td>0.350105</td>\n",
       "      <td>-3.525923</td>\n",
       "      <td>4.220091e-04</td>\n",
       "    </tr>\n",
       "    <tr>\n",
       "      <th>beta_time_walk_3bis</th>\n",
       "      <td>-8.308048</td>\n",
       "      <td>0.418052</td>\n",
       "      <td>-19.873241</td>\n",
       "      <td>0.000000e+00</td>\n",
       "    </tr>\n",
       "  </tbody>\n",
       "</table>\n",
       "</div>"
      ],
      "text/plain": [
       "                               Value  Rob. Std err  Rob. t-test  Rob. p-value\n",
       "asc_cycle                  -5.373633      0.250689   -21.435415  0.000000e+00\n",
       "asc_cycle_male              1.052224      0.208454     5.047748  4.470478e-07\n",
       "asc_drive_3bis             -1.802140      0.145490   -12.386676  0.000000e+00\n",
       "asc_drive_3bis_male        -0.198042      0.094447    -2.096845  3.600732e-02\n",
       "asc_pt                     -2.490305      0.160124   -15.552319  0.000000e+00\n",
       "asc_pt_male                -0.339756      0.101136    -3.359391  7.811443e-04\n",
       "beta_cost_3bis             -0.180475      0.016392   -11.010049  0.000000e+00\n",
       "beta_time_cycle_3bis       -5.573343      0.458404   -12.158134  0.000000e+00\n",
       "beta_time_drive_3bis       -6.562530      0.388238   -16.903348  0.000000e+00\n",
       "beta_time_pt_3bis          -1.983146      0.470332    -4.216483  2.481418e-05\n",
       "beta_time_pt_3bis_squarred -1.234442      0.350105    -3.525923  4.220091e-04\n",
       "beta_time_walk_3bis        -8.308048      0.418052   -19.873241  0.000000e+00"
      ]
     },
     "execution_count": 201,
     "metadata": {},
     "output_type": "execute_result"
    }
   ],
   "source": [
    "V_model_3bis = {1: v_walk_model_3bis , 2: v_cycle_model_3bis, 3: v_pt_model_3bis, 4: v_drive_model_3bis}\n",
    "logprob_model_3bis = models.loglogit(V_model_3bis, av, travel_mode)\n",
    "biogeme_model_3bis = bio.BIOGEME(database, logprob_model_3bis)\n",
    "biogeme_model_3bis.modelName = 'Model_3bis'\n",
    "all_results['Model_3bis'] = biogeme_model_3bis.estimate()\n",
    "results_segmented_gender_3bis = biogeme_model_3bis.estimate()\n",
    "results_segmented_gender_3bis.getEstimatedParameters()"
   ]
  },
  {
   "cell_type": "code",
   "execution_count": 202,
   "metadata": {
    "execution": {
     "iopub.execute_input": "2023-12-06T17:24:03.893319Z",
     "iopub.status.busy": "2023-12-06T17:24:03.891772Z",
     "iopub.status.idle": "2023-12-06T17:24:03.899606Z",
     "shell.execute_reply": "2023-12-06T17:24:03.897756Z",
     "shell.execute_reply.started": "2023-12-06T17:24:03.893224Z"
    },
    "tags": []
   },
   "outputs": [],
   "source": [
    "#COST segmentation"
   ]
  },
  {
   "cell_type": "code",
   "execution_count": 203,
   "metadata": {
    "execution": {
     "iopub.execute_input": "2023-12-06T17:24:04.257885Z",
     "iopub.status.busy": "2023-12-06T17:24:04.257182Z",
     "iopub.status.idle": "2023-12-06T17:24:04.266792Z",
     "shell.execute_reply": "2023-12-06T17:24:04.265058Z",
     "shell.execute_reply.started": "2023-12-06T17:24:04.257827Z"
    },
    "tags": []
   },
   "outputs": [],
   "source": [
    "beta_cost_33 = Beta('beta_cost_33', 0, None, None, 0)\n",
    "segmented_beta_cost_33 = seg.Segmentation(beta_cost_33, [gender_segmentation_3bis]).segmented_beta()"
   ]
  },
  {
   "cell_type": "code",
   "execution_count": 204,
   "metadata": {
    "execution": {
     "iopub.execute_input": "2023-12-06T17:24:04.581654Z",
     "iopub.status.busy": "2023-12-06T17:24:04.580610Z",
     "iopub.status.idle": "2023-12-06T17:24:04.589522Z",
     "shell.execute_reply": "2023-12-06T17:24:04.588148Z",
     "shell.execute_reply.started": "2023-12-06T17:24:04.581610Z"
    },
    "tags": []
   },
   "outputs": [],
   "source": [
    "beta_time_pt_33_squarred = Beta('beta_time_pt_33_squarred', 0, None, None, 0)\n",
    "\n",
    "v_walk_model_33= beta_time_walk * time_walk  \n",
    "\n",
    "v_cycle_model_33= asc_cycle + beta_time_cycle * time_cycle \n",
    "\n",
    "v_pt_model_33= asc_pt + beta_time_pt * time_pt + beta_time_pt_33_squarred * time_pt * time_pt + segmented_beta_cost * cost_pt\n",
    "\n",
    "v_drive_model_33= asc_drive + beta_time_drive * time_drive + segmented_beta_cost * cost_drive"
   ]
  },
  {
   "cell_type": "code",
   "execution_count": 205,
   "metadata": {
    "execution": {
     "iopub.execute_input": "2023-12-06T17:24:04.823622Z",
     "iopub.status.busy": "2023-12-06T17:24:04.822897Z",
     "iopub.status.idle": "2023-12-06T17:24:08.982655Z",
     "shell.execute_reply": "2023-12-06T17:24:08.980890Z",
     "shell.execute_reply.started": "2023-12-06T17:24:04.823566Z"
    },
    "tags": []
   },
   "outputs": [
    {
     "data": {
      "text/html": [
       "<div>\n",
       "<style scoped>\n",
       "    .dataframe tbody tr th:only-of-type {\n",
       "        vertical-align: middle;\n",
       "    }\n",
       "\n",
       "    .dataframe tbody tr th {\n",
       "        vertical-align: top;\n",
       "    }\n",
       "\n",
       "    .dataframe thead th {\n",
       "        text-align: right;\n",
       "    }\n",
       "</style>\n",
       "<table border=\"1\" class=\"dataframe\">\n",
       "  <thead>\n",
       "    <tr style=\"text-align: right;\">\n",
       "      <th></th>\n",
       "      <th>Value</th>\n",
       "      <th>Rob. Std err</th>\n",
       "      <th>Rob. t-test</th>\n",
       "      <th>Rob. p-value</th>\n",
       "    </tr>\n",
       "  </thead>\n",
       "  <tbody>\n",
       "    <tr>\n",
       "      <th>asc_cycle</th>\n",
       "      <td>-4.761737</td>\n",
       "      <td>0.199493</td>\n",
       "      <td>-23.869146</td>\n",
       "      <td>0.000000e+00</td>\n",
       "    </tr>\n",
       "    <tr>\n",
       "      <th>asc_drive</th>\n",
       "      <td>-1.881527</td>\n",
       "      <td>0.139072</td>\n",
       "      <td>-13.529112</td>\n",
       "      <td>0.000000e+00</td>\n",
       "    </tr>\n",
       "    <tr>\n",
       "      <th>asc_pt</th>\n",
       "      <td>-2.623410</td>\n",
       "      <td>0.154065</td>\n",
       "      <td>-17.027935</td>\n",
       "      <td>0.000000e+00</td>\n",
       "    </tr>\n",
       "    <tr>\n",
       "      <th>beta_cost</th>\n",
       "      <td>-0.149036</td>\n",
       "      <td>0.018925</td>\n",
       "      <td>-7.875277</td>\n",
       "      <td>3.330669e-15</td>\n",
       "    </tr>\n",
       "    <tr>\n",
       "      <th>beta_cost_male</th>\n",
       "      <td>-0.065963</td>\n",
       "      <td>0.032234</td>\n",
       "      <td>-2.046418</td>\n",
       "      <td>4.071531e-02</td>\n",
       "    </tr>\n",
       "    <tr>\n",
       "      <th>beta_time_cycle</th>\n",
       "      <td>-5.345713</td>\n",
       "      <td>0.445822</td>\n",
       "      <td>-11.990691</td>\n",
       "      <td>0.000000e+00</td>\n",
       "    </tr>\n",
       "    <tr>\n",
       "      <th>beta_time_drive</th>\n",
       "      <td>-6.555686</td>\n",
       "      <td>0.388305</td>\n",
       "      <td>-16.882845</td>\n",
       "      <td>0.000000e+00</td>\n",
       "    </tr>\n",
       "    <tr>\n",
       "      <th>beta_time_pt</th>\n",
       "      <td>-2.013847</td>\n",
       "      <td>0.470794</td>\n",
       "      <td>-4.277554</td>\n",
       "      <td>1.889584e-05</td>\n",
       "    </tr>\n",
       "    <tr>\n",
       "      <th>beta_time_pt_33_squarred</th>\n",
       "      <td>-1.219341</td>\n",
       "      <td>0.352244</td>\n",
       "      <td>-3.461636</td>\n",
       "      <td>5.369018e-04</td>\n",
       "    </tr>\n",
       "    <tr>\n",
       "      <th>beta_time_walk</th>\n",
       "      <td>-8.288616</td>\n",
       "      <td>0.418773</td>\n",
       "      <td>-19.792639</td>\n",
       "      <td>0.000000e+00</td>\n",
       "    </tr>\n",
       "  </tbody>\n",
       "</table>\n",
       "</div>"
      ],
      "text/plain": [
       "                             Value  Rob. Std err  Rob. t-test  Rob. p-value\n",
       "asc_cycle                -4.761737      0.199493   -23.869146  0.000000e+00\n",
       "asc_drive                -1.881527      0.139072   -13.529112  0.000000e+00\n",
       "asc_pt                   -2.623410      0.154065   -17.027935  0.000000e+00\n",
       "beta_cost                -0.149036      0.018925    -7.875277  3.330669e-15\n",
       "beta_cost_male           -0.065963      0.032234    -2.046418  4.071531e-02\n",
       "beta_time_cycle          -5.345713      0.445822   -11.990691  0.000000e+00\n",
       "beta_time_drive          -6.555686      0.388305   -16.882845  0.000000e+00\n",
       "beta_time_pt             -2.013847      0.470794    -4.277554  1.889584e-05\n",
       "beta_time_pt_33_squarred -1.219341      0.352244    -3.461636  5.369018e-04\n",
       "beta_time_walk           -8.288616      0.418773   -19.792639  0.000000e+00"
      ]
     },
     "execution_count": 205,
     "metadata": {},
     "output_type": "execute_result"
    }
   ],
   "source": [
    "V_model_33 = {1: v_walk_model_33 , 2: v_cycle_model_33, 3: v_pt_model_33, 4: v_drive_model_33}\n",
    "logprob_model_33 = models.loglogit(V_model_33, av, travel_mode)\n",
    "biogeme_model_33 = bio.BIOGEME(database, logprob_model_33)\n",
    "biogeme_model_33.modelName = 'Model__33'\n",
    "all_results['Model_33'] = biogeme_model_33.estimate()\n",
    "results_segmented_gender_33 = biogeme_model_33.estimate()\n",
    "results_segmented_gender_33.getEstimatedParameters()"
   ]
  },
  {
   "cell_type": "markdown",
   "metadata": {},
   "source": [
    "### Comparison model_3bis and model_33"
   ]
  },
  {
   "cell_type": "code",
   "execution_count": 206,
   "metadata": {
    "execution": {
     "iopub.execute_input": "2023-12-06T17:24:10.111717Z",
     "iopub.status.busy": "2023-12-06T17:24:10.110870Z",
     "iopub.status.idle": "2023-12-06T17:24:10.125283Z",
     "shell.execute_reply": "2023-12-06T17:24:10.123438Z",
     "shell.execute_reply.started": "2023-12-06T17:24:10.111655Z"
    },
    "tags": []
   },
   "outputs": [
    {
     "data": {
      "text/plain": [
       "LRTuple(message='H0 can be rejected at level 5.0%', statistic=56.37685201186832, threshold=5.991464547107979)"
      ]
     },
     "execution_count": 206,
     "metadata": {},
     "output_type": "execute_result"
    }
   ],
   "source": [
    "\n",
    "\n",
    "results_segmented_gender_3bis.likelihood_ratio_test(results_segmented_gender_33, 0.05)\n"
   ]
  },
  {
   "cell_type": "code",
   "execution_count": 207,
   "metadata": {
    "execution": {
     "iopub.execute_input": "2023-12-06T17:24:10.453982Z",
     "iopub.status.busy": "2023-12-06T17:24:10.453174Z",
     "iopub.status.idle": "2023-12-06T17:24:10.464324Z",
     "shell.execute_reply": "2023-12-06T17:24:10.462354Z",
     "shell.execute_reply.started": "2023-12-06T17:24:10.453923Z"
    },
    "tags": []
   },
   "outputs": [
    {
     "name": "stdout",
     "output_type": "stream",
     "text": [
      "Number of estimated parameters:\t12\n",
      "Sample size:\t5000\n",
      "Excluded observations:\t0\n",
      "Init log likelihood:\t-4236.589\n",
      "Final log likelihood:\t-4236.589\n",
      "Likelihood ratio test for the init. model:\t-0\n",
      "Rho-square for the init. model:\t0\n",
      "Rho-square-bar for the init. model:\t-0.00283\n",
      "Akaike Information Criterion:\t8497.178\n",
      "Bayesian Information Criterion:\t8575.385\n",
      "Final gradient norm:\t2.8382E-04\n",
      "Nbr of threads:\t8\n",
      "\n"
     ]
    }
   ],
   "source": [
    "print(results_segmented_gender_3bis.printGeneralStatistics())"
   ]
  },
  {
   "cell_type": "code",
   "execution_count": 208,
   "metadata": {
    "execution": {
     "iopub.execute_input": "2023-12-06T17:24:10.718824Z",
     "iopub.status.busy": "2023-12-06T17:24:10.718105Z",
     "iopub.status.idle": "2023-12-06T17:24:11.002426Z",
     "shell.execute_reply": "2023-12-06T17:24:10.999788Z",
     "shell.execute_reply.started": "2023-12-06T17:24:10.718770Z"
    },
    "tags": []
   },
   "outputs": [
    {
     "name": "stdout",
     "output_type": "stream",
     "text": [
      "Number of estimated parameters:\t10\n",
      "Sample size:\t5000\n",
      "Excluded observations:\t0\n",
      "Init log likelihood:\t-4264.778\n",
      "Final log likelihood:\t-4264.778\n",
      "Likelihood ratio test for the init. model:\t-0\n",
      "Rho-square for the init. model:\t0\n",
      "Rho-square-bar for the init. model:\t-0.00234\n",
      "Akaike Information Criterion:\t8549.555\n",
      "Bayesian Information Criterion:\t8614.727\n",
      "Final gradient norm:\t1.9340E-04\n",
      "Nbr of threads:\t8\n",
      "\n"
     ]
    }
   ],
   "source": [
    "print(results_segmented_gender_33.printGeneralStatistics())"
   ]
  },
  {
   "cell_type": "markdown",
   "metadata": {},
   "source": [
    "### Preferred model is model_3bis\n",
    "\n",
    "The model_3bis is preferred to model_33 as its log likelihood is greater and the AIC and BIC are smaller as well for this model."
   ]
  },
  {
   "cell_type": "markdown",
   "metadata": {},
   "source": [
    "### Comparison model_3bis and model_2"
   ]
  },
  {
   "cell_type": "code",
   "execution_count": 209,
   "metadata": {
    "execution": {
     "iopub.execute_input": "2023-12-06T17:24:11.616559Z",
     "iopub.status.busy": "2023-12-06T17:24:11.615774Z",
     "iopub.status.idle": "2023-12-06T17:24:11.629399Z",
     "shell.execute_reply": "2023-12-06T17:24:11.627557Z",
     "shell.execute_reply.started": "2023-12-06T17:24:11.616501Z"
    },
    "tags": []
   },
   "outputs": [
    {
     "data": {
      "text/plain": [
       "LRTuple(message='H0 can be rejected at level 5.0%', statistic=17.302101677916653, threshold=3.841458820694124)"
      ]
     },
     "execution_count": 209,
     "metadata": {},
     "output_type": "execute_result"
    }
   ],
   "source": [
    "results_segmented_gender_3bis.likelihood_ratio_test(results_segmented_gender, 0.05)"
   ]
  },
  {
   "cell_type": "code",
   "execution_count": 210,
   "metadata": {
    "execution": {
     "iopub.execute_input": "2023-12-06T17:24:11.891279Z",
     "iopub.status.busy": "2023-12-06T17:24:11.890635Z",
     "iopub.status.idle": "2023-12-06T17:24:11.900083Z",
     "shell.execute_reply": "2023-12-06T17:24:11.898456Z",
     "shell.execute_reply.started": "2023-12-06T17:24:11.891229Z"
    },
    "tags": []
   },
   "outputs": [
    {
     "name": "stdout",
     "output_type": "stream",
     "text": [
      "Number of estimated parameters:\t11\n",
      "Sample size:\t5000\n",
      "Excluded observations:\t0\n",
      "Init log likelihood:\t-4245.24\n",
      "Final log likelihood:\t-4245.24\n",
      "Likelihood ratio test for the init. model:\t-0\n",
      "Rho-square for the init. model:\t0\n",
      "Rho-square-bar for the init. model:\t-0.00259\n",
      "Akaike Information Criterion:\t8512.48\n",
      "Bayesian Information Criterion:\t8584.17\n",
      "Final gradient norm:\t1.9456E-03\n",
      "Nbr of threads:\t8\n",
      "\n"
     ]
    }
   ],
   "source": [
    "print(results_segmented_gender.printGeneralStatistics())"
   ]
  },
  {
   "cell_type": "markdown",
   "metadata": {},
   "source": [
    "We notice that the Final loglikelyhood as well as AIC & BIC are lower for the model_3bis than for model_2.\n",
    "As those two model are not equivalent at the 5% significance level, we can conclude that the model 3 bis is preferred"
   ]
  },
  {
   "cell_type": "markdown",
   "metadata": {},
   "source": [
    "### Version ancienne du power series "
   ]
  },
  {
   "cell_type": "code",
   "execution_count": 211,
   "metadata": {
    "execution": {
     "iopub.execute_input": "2023-12-06T17:24:12.704788Z",
     "iopub.status.busy": "2023-12-06T17:24:12.703684Z",
     "iopub.status.idle": "2023-12-06T17:24:12.720415Z",
     "shell.execute_reply": "2023-12-06T17:24:12.718905Z",
     "shell.execute_reply.started": "2023-12-06T17:24:12.704696Z"
    },
    "tags": []
   },
   "outputs": [],
   "source": [
    "# Power Series transformation on 'pt_dur'.\n",
    "\n",
    "asc_cycle_3 = Beta('asc_cycle_3', 0, None, None, 0)\n",
    "\n",
    "asc_pt_3 = Beta('asc_pt_3', 0, None, None, 0)\n",
    "\n",
    "asc_drive_3 = Beta('asc_drive_3', 0, None, None, 0)\n",
    "\n",
    "\n",
    "beta_time_walk_3 = Beta('beta_time_walk_3', 0, None, None, 0)\n",
    "beta_time_cycle_3 = Beta('beta_time_cycle_3', 0, None, None, 0)\n",
    "\n",
    "beta_time_pt_3 = Beta('beta_time_pt_3', 0, None, None, 0)\n",
    "beta_time_pt_3_squarred = Beta('beta_time_pt_3_squarred', 0, None, None, 0)\n",
    "\n",
    "beta_time_drive_3 = Beta('beta_time_drive_3', 0, None, None, 0)\n",
    "beta_cost_3 = Beta('beta_cost_3', 0, None, None, 0)\n",
    "\n",
    "\n",
    "\n",
    "v_walk_model_3= beta_time_walk_3 * time_walk \n",
    "\n",
    "v_cycle_model_3= asc_cycle_3 + beta_time_cycle_3 * time_cycle \n",
    "\n",
    "v_pt_model_3= asc_pt_3 + beta_time_pt_3 * time_pt +beta_time_pt_3_squarred * time_pt * time_pt + beta_cost * cost_pt\n",
    "\n",
    "v_drive_model_3= asc_drive_3 + beta_time_drive_3 * time_drive + beta_cost_3 * cost_drive"
   ]
  },
  {
   "cell_type": "code",
   "execution_count": 212,
   "metadata": {
    "execution": {
     "iopub.execute_input": "2023-12-06T17:24:12.939668Z",
     "iopub.status.busy": "2023-12-06T17:24:12.938926Z",
     "iopub.status.idle": "2023-12-06T17:24:18.410433Z",
     "shell.execute_reply": "2023-12-06T17:24:18.408819Z",
     "shell.execute_reply.started": "2023-12-06T17:24:12.939611Z"
    },
    "tags": []
   },
   "outputs": [
    {
     "data": {
      "text/html": [
       "<div>\n",
       "<style scoped>\n",
       "    .dataframe tbody tr th:only-of-type {\n",
       "        vertical-align: middle;\n",
       "    }\n",
       "\n",
       "    .dataframe tbody tr th {\n",
       "        vertical-align: top;\n",
       "    }\n",
       "\n",
       "    .dataframe thead th {\n",
       "        text-align: right;\n",
       "    }\n",
       "</style>\n",
       "<table border=\"1\" class=\"dataframe\">\n",
       "  <thead>\n",
       "    <tr style=\"text-align: right;\">\n",
       "      <th></th>\n",
       "      <th>Value</th>\n",
       "      <th>Rob. Std err</th>\n",
       "      <th>Rob. t-test</th>\n",
       "      <th>Rob. p-value</th>\n",
       "    </tr>\n",
       "  </thead>\n",
       "  <tbody>\n",
       "    <tr>\n",
       "      <th>asc_cycle_3</th>\n",
       "      <td>-4.763434</td>\n",
       "      <td>0.199847</td>\n",
       "      <td>-23.835399</td>\n",
       "      <td>0.000000e+00</td>\n",
       "    </tr>\n",
       "    <tr>\n",
       "      <th>asc_drive_3</th>\n",
       "      <td>-1.873748</td>\n",
       "      <td>0.139320</td>\n",
       "      <td>-13.449255</td>\n",
       "      <td>0.000000e+00</td>\n",
       "    </tr>\n",
       "    <tr>\n",
       "      <th>asc_pt_3</th>\n",
       "      <td>-2.601264</td>\n",
       "      <td>0.155172</td>\n",
       "      <td>-16.763701</td>\n",
       "      <td>0.000000e+00</td>\n",
       "    </tr>\n",
       "    <tr>\n",
       "      <th>beta_cost</th>\n",
       "      <td>-0.210770</td>\n",
       "      <td>0.031140</td>\n",
       "      <td>-6.768429</td>\n",
       "      <td>1.301892e-11</td>\n",
       "    </tr>\n",
       "    <tr>\n",
       "      <th>beta_cost_3</th>\n",
       "      <td>-0.168058</td>\n",
       "      <td>0.017600</td>\n",
       "      <td>-9.548949</td>\n",
       "      <td>0.000000e+00</td>\n",
       "    </tr>\n",
       "    <tr>\n",
       "      <th>beta_time_cycle_3</th>\n",
       "      <td>-5.431875</td>\n",
       "      <td>0.464148</td>\n",
       "      <td>-11.702905</td>\n",
       "      <td>0.000000e+00</td>\n",
       "    </tr>\n",
       "    <tr>\n",
       "      <th>beta_time_drive_3</th>\n",
       "      <td>-6.753131</td>\n",
       "      <td>0.442152</td>\n",
       "      <td>-15.273340</td>\n",
       "      <td>0.000000e+00</td>\n",
       "    </tr>\n",
       "    <tr>\n",
       "      <th>beta_time_pt_3</th>\n",
       "      <td>-2.024757</td>\n",
       "      <td>0.471819</td>\n",
       "      <td>-4.291382</td>\n",
       "      <td>1.775648e-05</td>\n",
       "    </tr>\n",
       "    <tr>\n",
       "      <th>beta_time_pt_3_squarred</th>\n",
       "      <td>-1.228551</td>\n",
       "      <td>0.352701</td>\n",
       "      <td>-3.483264</td>\n",
       "      <td>4.953405e-04</td>\n",
       "    </tr>\n",
       "    <tr>\n",
       "      <th>beta_time_walk_3</th>\n",
       "      <td>-8.319325</td>\n",
       "      <td>0.421317</td>\n",
       "      <td>-19.746000</td>\n",
       "      <td>0.000000e+00</td>\n",
       "    </tr>\n",
       "  </tbody>\n",
       "</table>\n",
       "</div>"
      ],
      "text/plain": [
       "                            Value  Rob. Std err  Rob. t-test  Rob. p-value\n",
       "asc_cycle_3             -4.763434      0.199847   -23.835399  0.000000e+00\n",
       "asc_drive_3             -1.873748      0.139320   -13.449255  0.000000e+00\n",
       "asc_pt_3                -2.601264      0.155172   -16.763701  0.000000e+00\n",
       "beta_cost               -0.210770      0.031140    -6.768429  1.301892e-11\n",
       "beta_cost_3             -0.168058      0.017600    -9.548949  0.000000e+00\n",
       "beta_time_cycle_3       -5.431875      0.464148   -11.702905  0.000000e+00\n",
       "beta_time_drive_3       -6.753131      0.442152   -15.273340  0.000000e+00\n",
       "beta_time_pt_3          -2.024757      0.471819    -4.291382  1.775648e-05\n",
       "beta_time_pt_3_squarred -1.228551      0.352701    -3.483264  4.953405e-04\n",
       "beta_time_walk_3        -8.319325      0.421317   -19.746000  0.000000e+00"
      ]
     },
     "execution_count": 212,
     "metadata": {},
     "output_type": "execute_result"
    }
   ],
   "source": [
    "V_model_3 = {1: v_walk_model_3 , 2: v_cycle_model_3, 3: v_pt_model_3, 4: v_drive_model_3}\n",
    "\n",
    "logprob_model_3 = models.loglogit(V_model_3, av, travel_mode)\n",
    "\n",
    "biogeme_model_3 = bio.BIOGEME(database, logprob_model_3)\n",
    "\n",
    "biogeme_model_3.modelName = 'Model_3'\n",
    "\n",
    "all_results['Model_3'] = biogeme_model_3.estimate()\n",
    "\n",
    "results_power_3 = biogeme_model_3.estimate()\n",
    "\n",
    "results_power_3.getEstimatedParameters()"
   ]
  },
  {
   "cell_type": "code",
   "execution_count": 213,
   "metadata": {
    "execution": {
     "iopub.execute_input": "2023-12-06T17:24:18.412868Z",
     "iopub.status.busy": "2023-12-06T17:24:18.412509Z",
     "iopub.status.idle": "2023-12-06T17:24:18.450141Z",
     "shell.execute_reply": "2023-12-06T17:24:18.448600Z",
     "shell.execute_reply.started": "2023-12-06T17:24:18.412834Z"
    },
    "tags": []
   },
   "outputs": [
    {
     "data": {
      "text/plain": [
       "-6931.471805599917"
      ]
     },
     "execution_count": 213,
     "metadata": {},
     "output_type": "execute_result"
    }
   ],
   "source": [
    "#Calculate Null Log likelihood\n",
    "\n",
    "biogeme_model_3.calculateNullLoglikelihood(av)"
   ]
  },
  {
   "cell_type": "code",
   "execution_count": 214,
   "metadata": {
    "execution": {
     "iopub.execute_input": "2023-12-06T17:24:18.451806Z",
     "iopub.status.busy": "2023-12-06T17:24:18.451432Z",
     "iopub.status.idle": "2023-12-06T17:24:18.480711Z",
     "shell.execute_reply": "2023-12-06T17:24:18.479016Z",
     "shell.execute_reply.started": "2023-12-06T17:24:18.451727Z"
    },
    "tags": []
   },
   "outputs": [
    {
     "data": {
      "text/plain": [
       "LRTuple(message='H0 can be rejected at level 5.0%', statistic=18.42252239267509, threshold=5.991464547107979)"
      ]
     },
     "execution_count": 214,
     "metadata": {},
     "output_type": "execute_result"
    }
   ],
   "source": [
    "#Comparison to model 1\n",
    "\n",
    "results_power_3.likelihood_ratio_test(results_specific_time, 0.05)\n",
    "\n",
    "\n"
   ]
  },
  {
   "cell_type": "markdown",
   "metadata": {},
   "source": [
    "The model 3 is not preferred compare to model 1.\n",
    "\n",
    "-Is it due to the non linear transformation that is not appropriate ? Should we use boxplot instead ? --> Yes we should \n",
    "\n",
    "-Is it stated 'non-linear transfronation on one of the variables' so I just took public transport time, should I apply to the other time ? --> I think but I will ask\n",
    "\n",
    "-Should the non linear transformation be applied to an other time variable like car ? Yes I think but I will ask\n",
    "\n",
    "-Is the loglikelyhood ratio test still appropirate ? --> Maybe we should use a cox-text instead \n",
    "\n",
    "Remarks: I think that the non-linear transformation is not done on beta but rather on variables such as time, cost, etc.!\n"
   ]
  },
  {
   "cell_type": "markdown",
   "metadata": {},
   "source": [
    "# Model 3 - Salomé"
   ]
  },
  {
   "cell_type": "code",
   "execution_count": 215,
   "metadata": {
    "execution": {
     "iopub.execute_input": "2023-12-06T17:24:19.803907Z",
     "iopub.status.busy": "2023-12-06T17:24:19.803230Z",
     "iopub.status.idle": "2023-12-06T17:24:19.820988Z",
     "shell.execute_reply": "2023-12-06T17:24:19.819412Z",
     "shell.execute_reply.started": "2023-12-06T17:24:19.803851Z"
    },
    "tags": []
   },
   "outputs": [
    {
     "name": "stderr",
     "output_type": "stream",
     "text": [
      "It is advised to set the bounds on parameter lambda_boxcox. A value of -10 and 10 should be appropriate: Beta(\"lambda_boxcox\", 1, -10, 10, 0)\n",
      "It is advised to set the bounds on parameter lambda_boxcox. A value of -10 and 10 should be appropriate: Beta(\"lambda_boxcox\", 1, -10, 10, 0)\n",
      "It is advised to set the bounds on parameter lambda_boxcox. A value of -10 and 10 should be appropriate: Beta(\"lambda_boxcox\", 1, -10, 10, 0)\n",
      "It is advised to set the bounds on parameter lambda_boxcox. A value of -10 and 10 should be appropriate: Beta(\"lambda_boxcox\", 1, -10, 10, 0)\n"
     ]
    }
   ],
   "source": [
    "\n",
    "lambda_boxcox = Beta('lambda_boxcox', 1, None, None, 0) #vu dans le modèle 01-logit_airline_solution\n",
    "boxcox_time_walk = models.boxcox(time_walk, lambda_boxcox)\n",
    "boxcox_time_cycle = models.boxcox(time_cycle, lambda_boxcox)\n",
    "boxcox_time_pt = models.boxcox(time_pt, lambda_boxcox)\n",
    "boxcox_time_drive = models.boxcox(time_drive , lambda_boxcox)\n",
    "beta_elapsed_time_walk = Beta('beta_elapsed_walk', 0, None, None, 0)\n",
    "beta_elapsed_time_cycle = Beta('beta_elapsed_cycle', 0, None, None, 0)\n",
    "beta_elapsed_time_pt = Beta('beta_elapsed_time_pt', 0, None, None, 0)\n",
    "beta_elapsed_time_drive = Beta('beta_elapsed_time_drive', 0, None, None, 0)\n",
    "\n",
    "\n",
    "v_walk_model2= beta_time_walk * time_walk  \n",
    "v_cycle_model2= segmented_asc_cycle + beta_time_cycle * time_cycle \n",
    "v_pt_model2= segmented_asc_pt + beta_time_pt * time_pt + beta_cost * cost_pt\n",
    "v_drive_model2= segmented_asc_drive + beta_time_drive * time_drive + beta_cost * cost_drive\n",
    "\n",
    "\n",
    "v_walk_model3 = beta_elapsed_time_walk * boxcox_time_walk\n",
    "v_cycle_model3  = segmented_asc_cycle + beta_elapsed_time_cycle * boxcox_time_cycle \n",
    "v_pt_model3  = segmented_asc_pt + beta_elapsed_time_pt * boxcox_time_pt   + beta_cost * cost_pt \n",
    "v_drive_model3  = segmented_asc_drive + beta_elapsed_time_drive * boxcox_time_drive + beta_cost * cost_drive "
   ]
  },
  {
   "cell_type": "code",
   "execution_count": 216,
   "metadata": {
    "execution": {
     "iopub.execute_input": "2023-12-06T17:24:20.088736Z",
     "iopub.status.busy": "2023-12-06T17:24:20.088078Z",
     "iopub.status.idle": "2023-12-06T17:24:35.385685Z",
     "shell.execute_reply": "2023-12-06T17:24:35.383971Z",
     "shell.execute_reply.started": "2023-12-06T17:24:20.088681Z"
    },
    "tags": []
   },
   "outputs": [
    {
     "data": {
      "text/html": [
       "<div>\n",
       "<style scoped>\n",
       "    .dataframe tbody tr th:only-of-type {\n",
       "        vertical-align: middle;\n",
       "    }\n",
       "\n",
       "    .dataframe tbody tr th {\n",
       "        vertical-align: top;\n",
       "    }\n",
       "\n",
       "    .dataframe thead th {\n",
       "        text-align: right;\n",
       "    }\n",
       "</style>\n",
       "<table border=\"1\" class=\"dataframe\">\n",
       "  <thead>\n",
       "    <tr style=\"text-align: right;\">\n",
       "      <th></th>\n",
       "      <th>Value</th>\n",
       "      <th>Rob. Std err</th>\n",
       "      <th>Rob. t-test</th>\n",
       "      <th>Rob. p-value</th>\n",
       "    </tr>\n",
       "  </thead>\n",
       "  <tbody>\n",
       "    <tr>\n",
       "      <th>asc_cycle</th>\n",
       "      <td>-3.218625</td>\n",
       "      <td>0.303923</td>\n",
       "      <td>-10.590262</td>\n",
       "      <td>0.000000e+00</td>\n",
       "    </tr>\n",
       "    <tr>\n",
       "      <th>asc_cycle_male</th>\n",
       "      <td>1.053238</td>\n",
       "      <td>0.210050</td>\n",
       "      <td>5.014213</td>\n",
       "      <td>5.325099e-07</td>\n",
       "    </tr>\n",
       "    <tr>\n",
       "      <th>asc_drive</th>\n",
       "      <td>0.068987</td>\n",
       "      <td>0.217651</td>\n",
       "      <td>0.316961</td>\n",
       "      <td>7.512731e-01</td>\n",
       "    </tr>\n",
       "    <tr>\n",
       "      <th>asc_drive_male</th>\n",
       "      <td>-0.226069</td>\n",
       "      <td>0.101484</td>\n",
       "      <td>-2.227638</td>\n",
       "      <td>2.590466e-02</td>\n",
       "    </tr>\n",
       "    <tr>\n",
       "      <th>asc_pt</th>\n",
       "      <td>1.844828</td>\n",
       "      <td>0.170761</td>\n",
       "      <td>10.803571</td>\n",
       "      <td>0.000000e+00</td>\n",
       "    </tr>\n",
       "    <tr>\n",
       "      <th>asc_pt_male</th>\n",
       "      <td>-0.375192</td>\n",
       "      <td>0.107310</td>\n",
       "      <td>-3.496329</td>\n",
       "      <td>4.717070e-04</td>\n",
       "    </tr>\n",
       "    <tr>\n",
       "      <th>beta_cost</th>\n",
       "      <td>-0.174891</td>\n",
       "      <td>0.015669</td>\n",
       "      <td>-11.161365</td>\n",
       "      <td>0.000000e+00</td>\n",
       "    </tr>\n",
       "    <tr>\n",
       "      <th>beta_elapsed_cycle</th>\n",
       "      <td>-3.318145</td>\n",
       "      <td>0.268400</td>\n",
       "      <td>-12.362686</td>\n",
       "      <td>0.000000e+00</td>\n",
       "    </tr>\n",
       "    <tr>\n",
       "      <th>beta_elapsed_time_drive</th>\n",
       "      <td>-3.301154</td>\n",
       "      <td>0.265806</td>\n",
       "      <td>-12.419408</td>\n",
       "      <td>0.000000e+00</td>\n",
       "    </tr>\n",
       "    <tr>\n",
       "      <th>beta_elapsed_time_pt</th>\n",
       "      <td>-2.637900</td>\n",
       "      <td>0.182666</td>\n",
       "      <td>-14.441116</td>\n",
       "      <td>0.000000e+00</td>\n",
       "    </tr>\n",
       "    <tr>\n",
       "      <th>beta_elapsed_walk</th>\n",
       "      <td>-5.446311</td>\n",
       "      <td>0.252867</td>\n",
       "      <td>-21.538230</td>\n",
       "      <td>0.000000e+00</td>\n",
       "    </tr>\n",
       "    <tr>\n",
       "      <th>lambda_boxcox</th>\n",
       "      <td>0.268648</td>\n",
       "      <td>0.049841</td>\n",
       "      <td>5.390126</td>\n",
       "      <td>7.040846e-08</td>\n",
       "    </tr>\n",
       "  </tbody>\n",
       "</table>\n",
       "</div>"
      ],
      "text/plain": [
       "                            Value  Rob. Std err  Rob. t-test  Rob. p-value\n",
       "asc_cycle               -3.218625      0.303923   -10.590262  0.000000e+00\n",
       "asc_cycle_male           1.053238      0.210050     5.014213  5.325099e-07\n",
       "asc_drive                0.068987      0.217651     0.316961  7.512731e-01\n",
       "asc_drive_male          -0.226069      0.101484    -2.227638  2.590466e-02\n",
       "asc_pt                   1.844828      0.170761    10.803571  0.000000e+00\n",
       "asc_pt_male             -0.375192      0.107310    -3.496329  4.717070e-04\n",
       "beta_cost               -0.174891      0.015669   -11.161365  0.000000e+00\n",
       "beta_elapsed_cycle      -3.318145      0.268400   -12.362686  0.000000e+00\n",
       "beta_elapsed_time_drive -3.301154      0.265806   -12.419408  0.000000e+00\n",
       "beta_elapsed_time_pt    -2.637900      0.182666   -14.441116  0.000000e+00\n",
       "beta_elapsed_walk       -5.446311      0.252867   -21.538230  0.000000e+00\n",
       "lambda_boxcox            0.268648      0.049841     5.390126  7.040846e-08"
      ]
     },
     "execution_count": 216,
     "metadata": {},
     "output_type": "execute_result"
    }
   ],
   "source": [
    "V_model3 = {1: v_walk_model3 , 2: v_cycle_model3, 3: v_pt_model3, 4: v_drive_model3}\n",
    "logprob_model3 = models.loglogit(V_model3, av, travel_mode)\n",
    "biogeme_model3 = bio.BIOGEME(database, logprob_model3)\n",
    "biogeme_model3.modelName = 'Model_3'\n",
    "all_results['Model_3'] = biogeme_model3.estimate()\n",
    "results_model3 = biogeme_model3.estimate()\n",
    "results_model3.getEstimatedParameters()"
   ]
  },
  {
   "cell_type": "code",
   "execution_count": 217,
   "metadata": {
    "execution": {
     "iopub.execute_input": "2023-12-06T17:24:35.388168Z",
     "iopub.status.busy": "2023-12-06T17:24:35.387807Z",
     "iopub.status.idle": "2023-12-06T17:24:35.433169Z",
     "shell.execute_reply": "2023-12-06T17:24:35.431877Z",
     "shell.execute_reply.started": "2023-12-06T17:24:35.388133Z"
    },
    "tags": []
   },
   "outputs": [
    {
     "name": "stderr",
     "output_type": "stream",
     "text": [
      "The syntax \"compileEstimationResults\" is deprecated and is replaced by the syntax \"compile_estimation_results\".\n"
     ]
    },
    {
     "data": {
      "text/plain": [
       "(                                              Model0           Model1  \\\n",
       " Number of estimated parameters                     5                8   \n",
       " Sample size                                     5000             5000   \n",
       " Final log likelihood                    -4587.818071     -4275.496542   \n",
       " Akaike Information Criterion             9185.636142      8566.993084   \n",
       " Bayesian Information Criterion           9218.222108       8619.13063   \n",
       " asc_cycle (t-test)                      -3.88  (-36)   -4.85  (-23.9)   \n",
       " asc_drive (t-test)                     -1.3  (-16.1)   -1.97  (-14.3)   \n",
       " asc_pt (t-test)                       -0.503  (-9.3)   -2.34  (-16.8)   \n",
       " beta_cost (t-test)                   -0.194  (-13.9)  -0.182  (-11.3)   \n",
       " beta_time (t-test)                     -5.5  (-26.3)                    \n",
       " beta_time_cycle (t-test)                               -5.31  (-11.5)   \n",
       " beta_time_drive (t-test)                               -6.47  (-17.1)   \n",
       " beta_time_pt (t-test)                                  -3.54  (-14.1)   \n",
       " beta_time_walk (t-test)                                -8.43  (-20.1)   \n",
       " asc_cycle_male (t-test)                                                 \n",
       " asc_drive_male (t-test)                                                 \n",
       " asc_pt_male (t-test)                                                    \n",
       " beta_cost_male (t-test)                                                 \n",
       " asc_drive_3bis (t-test)                                                 \n",
       " asc_drive_3bis_male (t-test)                                            \n",
       " beta_cost_3bis (t-test)                                                 \n",
       " beta_time_cycle_3bis (t-test)                                           \n",
       " beta_time_drive_3bis (t-test)                                           \n",
       " beta_time_pt_3bis (t-test)                                              \n",
       " beta_time_pt_3bis_squarred (t-test)                                     \n",
       " beta_time_walk_3bis (t-test)                                            \n",
       " beta_time_pt_33_squarred (t-test)                                       \n",
       " beta_elapsed_cycle (t-test)                                             \n",
       " beta_elapsed_time_drive (t-test)                                        \n",
       " beta_elapsed_time_pt (t-test)                                           \n",
       " beta_elapsed_walk (t-test)                                              \n",
       " lambda_boxcox (t-test)                                                  \n",
       " \n",
       "                                               Model2          Model2_2  \\\n",
       " Number of estimated parameters                    11                 9   \n",
       " Sample size                                     5000              5000   \n",
       " Final log likelihood                    -4245.240231      -4273.204021   \n",
       " Akaike Information Criterion             8512.480462       8564.408041   \n",
       " Bayesian Information Criterion           8584.169587        8623.06278   \n",
       " asc_cycle (t-test)                    -5.45  (-21.5)      -4.84  (-24)   \n",
       " asc_drive (t-test)                    -1.89  (-13.1)    -1.97  (-14.3)   \n",
       " asc_pt (t-test)                       -2.21  (-15.1)    -2.34  (-16.8)   \n",
       " beta_cost (t-test)                   -0.183  (-11.3)   -0.152  (-8.09)   \n",
       " beta_time (t-test)                                                       \n",
       " beta_time_cycle (t-test)              -5.58  (-11.8)    -5.35  (-11.6)   \n",
       " beta_time_drive (t-test)              -6.49  (-17.1)      -6.48  (-17)   \n",
       " beta_time_pt (t-test)                   -3.53  (-14)    -3.54  (-14.1)   \n",
       " beta_time_walk (t-test)               -8.46  (-20.2)    -8.44  (-20.2)   \n",
       " asc_cycle_male (t-test)                 1.05  (5.04)                     \n",
       " asc_drive_male (t-test)              -0.198  (-2.08)                     \n",
       " asc_pt_male (t-test)                 -0.333  (-3.35)                     \n",
       " beta_cost_male (t-test)                               -0.0654  (-2.05)   \n",
       " asc_drive_3bis (t-test)                                                  \n",
       " asc_drive_3bis_male (t-test)                                             \n",
       " beta_cost_3bis (t-test)                                                  \n",
       " beta_time_cycle_3bis (t-test)                                            \n",
       " beta_time_drive_3bis (t-test)                                            \n",
       " beta_time_pt_3bis (t-test)                                               \n",
       " beta_time_pt_3bis_squarred (t-test)                                      \n",
       " beta_time_walk_3bis (t-test)                                             \n",
       " beta_time_pt_33_squarred (t-test)                                        \n",
       " beta_elapsed_cycle (t-test)                                              \n",
       " beta_elapsed_time_drive (t-test)                                         \n",
       " beta_elapsed_time_pt (t-test)                                            \n",
       " beta_elapsed_walk (t-test)                                               \n",
       " lambda_boxcox (t-test)                                                   \n",
       " \n",
       "                                          Model_3bis         Model_33  \\\n",
       " Number of estimated parameters                   12               10   \n",
       " Sample size                                    5000             5000   \n",
       " Final log likelihood                    -4236.58918     -4264.777606   \n",
       " Akaike Information Criterion            8497.178361      8549.555213   \n",
       " Bayesian Information Criterion          8575.384679      8614.727144   \n",
       " asc_cycle (t-test)                   -5.37  (-21.4)   -4.76  (-23.9)   \n",
       " asc_drive (t-test)                                    -1.88  (-13.5)   \n",
       " asc_pt (t-test)                      -2.49  (-15.6)     -2.62  (-17)   \n",
       " beta_cost (t-test)                                   -0.149  (-7.88)   \n",
       " beta_time (t-test)                                                     \n",
       " beta_time_cycle (t-test)                                -5.35  (-12)   \n",
       " beta_time_drive (t-test)                              -6.56  (-16.9)   \n",
       " beta_time_pt (t-test)                                 -2.01  (-4.28)   \n",
       " beta_time_walk (t-test)                               -8.29  (-19.8)   \n",
       " asc_cycle_male (t-test)                1.05  (5.05)                    \n",
       " asc_drive_male (t-test)                                                \n",
       " asc_pt_male (t-test)                 -0.34  (-3.36)                    \n",
       " beta_cost_male (t-test)                              -0.066  (-2.05)   \n",
       " asc_drive_3bis (t-test)               -1.8  (-12.4)                    \n",
       " asc_drive_3bis_male (t-test)         -0.198  (-2.1)                    \n",
       " beta_cost_3bis (t-test)                -0.18  (-11)                    \n",
       " beta_time_cycle_3bis (t-test)        -5.57  (-12.2)                    \n",
       " beta_time_drive_3bis (t-test)        -6.56  (-16.9)                    \n",
       " beta_time_pt_3bis (t-test)           -1.98  (-4.22)                    \n",
       " beta_time_pt_3bis_squarred (t-test)  -1.23  (-3.53)                    \n",
       " beta_time_walk_3bis (t-test)         -8.31  (-19.9)                    \n",
       " beta_time_pt_33_squarred (t-test)                     -1.22  (-3.46)   \n",
       " beta_elapsed_cycle (t-test)                                            \n",
       " beta_elapsed_time_drive (t-test)                                       \n",
       " beta_elapsed_time_pt (t-test)                                          \n",
       " beta_elapsed_walk (t-test)                                             \n",
       " lambda_boxcox (t-test)                                                 \n",
       " \n",
       "                                              Model_3  \n",
       " Number of estimated parameters                    12  \n",
       " Sample size                                     5000  \n",
       " Final log likelihood                    -4157.246366  \n",
       " Akaike Information Criterion             8338.492732  \n",
       " Bayesian Information Criterion           8416.699051  \n",
       " asc_cycle (t-test)                    -3.22  (-10.6)  \n",
       " asc_drive (t-test)                    0.069  (0.317)  \n",
       " asc_pt (t-test)                         1.84  (10.8)  \n",
       " beta_cost (t-test)                   -0.175  (-11.2)  \n",
       " beta_time (t-test)                                    \n",
       " beta_time_cycle (t-test)                              \n",
       " beta_time_drive (t-test)                              \n",
       " beta_time_pt (t-test)                                 \n",
       " beta_time_walk (t-test)                               \n",
       " asc_cycle_male (t-test)                 1.05  (5.01)  \n",
       " asc_drive_male (t-test)              -0.226  (-2.23)  \n",
       " asc_pt_male (t-test)                  -0.375  (-3.5)  \n",
       " beta_cost_male (t-test)                               \n",
       " asc_drive_3bis (t-test)                               \n",
       " asc_drive_3bis_male (t-test)                          \n",
       " beta_cost_3bis (t-test)                               \n",
       " beta_time_cycle_3bis (t-test)                         \n",
       " beta_time_drive_3bis (t-test)                         \n",
       " beta_time_pt_3bis (t-test)                            \n",
       " beta_time_pt_3bis_squarred (t-test)                   \n",
       " beta_time_walk_3bis (t-test)                          \n",
       " beta_time_pt_33_squarred (t-test)                     \n",
       " beta_elapsed_cycle (t-test)           -3.32  (-12.4)  \n",
       " beta_elapsed_time_drive (t-test)       -3.3  (-12.4)  \n",
       " beta_elapsed_time_pt (t-test)         -2.64  (-14.4)  \n",
       " beta_elapsed_walk (t-test)            -5.45  (-21.5)  \n",
       " lambda_boxcox (t-test)                 0.269  (5.39)  ,\n",
       " {'Model0': 'Model0',\n",
       "  'Model1': 'Model1',\n",
       "  'Model2': 'Model2',\n",
       "  'Model2_2': 'Model2_2',\n",
       "  'Model_3bis': 'Model_3bis',\n",
       "  'Model_33': 'Model_33',\n",
       "  'Model_3': 'Model_3'})"
      ]
     },
     "execution_count": 217,
     "metadata": {},
     "output_type": "execute_result"
    }
   ],
   "source": [
    "res.compileEstimationResults(all_results)"
   ]
  },
  {
   "cell_type": "code",
   "execution_count": 218,
   "metadata": {
    "execution": {
     "iopub.execute_input": "2023-12-06T17:24:35.434899Z",
     "iopub.status.busy": "2023-12-06T17:24:35.434554Z",
     "iopub.status.idle": "2023-12-06T17:24:35.508812Z",
     "shell.execute_reply": "2023-12-06T17:24:35.507360Z",
     "shell.execute_reply.started": "2023-12-06T17:24:35.434866Z"
    },
    "tags": []
   },
   "outputs": [
    {
     "name": "stdout",
     "output_type": "stream",
     "text": [
      "Null Loglikelihood : \n"
     ]
    },
    {
     "data": {
      "text/plain": [
       "-6931.471805599917"
      ]
     },
     "execution_count": 218,
     "metadata": {},
     "output_type": "execute_result"
    }
   ],
   "source": [
    "print(\"Null Loglikelihood : \")\n",
    "biogeme_model3.calculateNullLoglikelihood(av)"
   ]
  },
  {
   "cell_type": "code",
   "execution_count": 219,
   "metadata": {
    "execution": {
     "iopub.execute_input": "2023-12-06T17:24:35.511770Z",
     "iopub.status.busy": "2023-12-06T17:24:35.511429Z",
     "iopub.status.idle": "2023-12-06T17:24:35.550623Z",
     "shell.execute_reply": "2023-12-06T17:24:35.537520Z",
     "shell.execute_reply.started": "2023-12-06T17:24:35.511738Z"
    },
    "tags": []
   },
   "outputs": [
    {
     "data": {
      "text/plain": [
       "LRTuple(message='H0 can be rejected at level 5.0%', statistic=175.987729750801, threshold=3.841458820694124)"
      ]
     },
     "execution_count": 219,
     "metadata": {},
     "output_type": "execute_result"
    }
   ],
   "source": [
    "results_model3.likelihood_ratio_test(results_segmented_gender, 0.05)"
   ]
  },
  {
   "cell_type": "code",
   "execution_count": 220,
   "metadata": {
    "execution": {
     "iopub.execute_input": "2023-12-06T17:24:35.552954Z",
     "iopub.status.busy": "2023-12-06T17:24:35.552438Z",
     "iopub.status.idle": "2023-12-06T17:24:35.581562Z",
     "shell.execute_reply": "2023-12-06T17:24:35.579608Z",
     "shell.execute_reply.started": "2023-12-06T17:24:35.552904Z"
    },
    "tags": []
   },
   "outputs": [
    {
     "name": "stdout",
     "output_type": "stream",
     "text": [
      "Number of estimated parameters:\t12\n",
      "Sample size:\t5000\n",
      "Excluded observations:\t0\n",
      "Init log likelihood:\t-4157.246\n",
      "Final log likelihood:\t-4157.246\n",
      "Likelihood ratio test for the init. model:\t-0\n",
      "Rho-square for the init. model:\t0\n",
      "Rho-square-bar for the init. model:\t-0.00289\n",
      "Akaike Information Criterion:\t8338.493\n",
      "Bayesian Information Criterion:\t8416.699\n",
      "Final gradient norm:\t9.3813E-04\n",
      "Nbr of threads:\t8\n",
      "\n"
     ]
    }
   ],
   "source": [
    "print(results_model3.printGeneralStatistics())"
   ]
  },
  {
   "cell_type": "markdown",
   "metadata": {},
   "source": [
    "To compare Model 2 and Model 3 I think we should use a Cox test as Model 3 is not a a linear restriction of Model 2, to do that we create a composite model C such that both models 1 and 2 are restricted cases of model C.\n"
   ]
  },
  {
   "cell_type": "code",
   "execution_count": 221,
   "metadata": {
    "execution": {
     "iopub.execute_input": "2023-12-06T17:24:35.584002Z",
     "iopub.status.busy": "2023-12-06T17:24:35.583422Z",
     "iopub.status.idle": "2023-12-06T17:24:35.728419Z",
     "shell.execute_reply": "2023-12-06T17:24:35.726539Z",
     "shell.execute_reply.started": "2023-12-06T17:24:35.583950Z"
    },
    "tags": []
   },
   "outputs": [],
   "source": [
    "v_walk_model2= beta_time_walk * time_walk  \n",
    "v_cycle_model2= segmented_asc_cycle + beta_time_cycle * time_cycle \n",
    "v_pt_model2= segmented_asc_pt + beta_time_pt * time_pt + beta_cost * cost_pt\n",
    "v_drive_model2= segmented_asc_drive + beta_time_drive * time_drive + beta_cost * cost_drive\n",
    "\n",
    "\n",
    "v_walk_model3 = beta_elapsed_time_walk * boxcox_time_walk\n",
    "v_cycle_model3  = segmented_asc_cycle + beta_elapsed_time_cycle * boxcox_time_cycle \n",
    "v_pt_model3  = segmented_asc_pt + beta_elapsed_time_pt * boxcox_time_pt   + beta_cost * cost_pt \n",
    "v_drive_model3  = segmented_asc_drive + beta_elapsed_time_drive * boxcox_time_drive + beta_cost * cost_drive \n",
    "\n",
    "\n",
    "v_walk_model_generic = beta_time_walk * time_walk + beta_elapsed_time_walk * boxcox_time_walk\n",
    "v_cycle_model_generic = segmented_asc_cycle + beta_time_cycle * time_cycle +  beta_elapsed_time_cycle * boxcox_time_cycle \n",
    "v_pt_model_generic = segmented_asc_pt + beta_time_pt * time_pt + beta_cost * cost_pt + beta_elapsed_time_pt * boxcox_time_pt \n",
    "v_drive_model_generic = segmented_asc_drive + beta_time_drive * time_drive + beta_cost * cost_drive + beta_elapsed_time_drive * boxcox_time_drive"
   ]
  },
  {
   "cell_type": "code",
   "execution_count": 222,
   "metadata": {
    "execution": {
     "iopub.execute_input": "2023-12-06T17:24:35.730992Z",
     "iopub.status.busy": "2023-12-06T17:24:35.730429Z",
     "iopub.status.idle": "2023-12-06T17:25:21.297671Z",
     "shell.execute_reply": "2023-12-06T17:25:21.296087Z",
     "shell.execute_reply.started": "2023-12-06T17:24:35.730908Z"
    },
    "tags": []
   },
   "outputs": [
    {
     "data": {
      "text/html": [
       "<div>\n",
       "<style scoped>\n",
       "    .dataframe tbody tr th:only-of-type {\n",
       "        vertical-align: middle;\n",
       "    }\n",
       "\n",
       "    .dataframe tbody tr th {\n",
       "        vertical-align: top;\n",
       "    }\n",
       "\n",
       "    .dataframe thead th {\n",
       "        text-align: right;\n",
       "    }\n",
       "</style>\n",
       "<table border=\"1\" class=\"dataframe\">\n",
       "  <thead>\n",
       "    <tr style=\"text-align: right;\">\n",
       "      <th></th>\n",
       "      <th>Value</th>\n",
       "      <th>Rob. Std err</th>\n",
       "      <th>Rob. t-test</th>\n",
       "      <th>Rob. p-value</th>\n",
       "    </tr>\n",
       "  </thead>\n",
       "  <tbody>\n",
       "    <tr>\n",
       "      <th>asc_cycle</th>\n",
       "      <td>-2.698422</td>\n",
       "      <td>1.213660</td>\n",
       "      <td>-2.223376</td>\n",
       "      <td>2.619047e-02</td>\n",
       "    </tr>\n",
       "    <tr>\n",
       "      <th>asc_cycle_male</th>\n",
       "      <td>1.056072</td>\n",
       "      <td>0.209817</td>\n",
       "      <td>5.033312</td>\n",
       "      <td>4.820785e-07</td>\n",
       "    </tr>\n",
       "    <tr>\n",
       "      <th>asc_drive</th>\n",
       "      <td>0.707880</td>\n",
       "      <td>0.899774</td>\n",
       "      <td>0.786731</td>\n",
       "      <td>4.314391e-01</td>\n",
       "    </tr>\n",
       "    <tr>\n",
       "      <th>asc_drive_male</th>\n",
       "      <td>-0.224704</td>\n",
       "      <td>0.101182</td>\n",
       "      <td>-2.220782</td>\n",
       "      <td>2.636573e-02</td>\n",
       "    </tr>\n",
       "    <tr>\n",
       "      <th>asc_pt</th>\n",
       "      <td>5.573208</td>\n",
       "      <td>1.725705</td>\n",
       "      <td>3.229526</td>\n",
       "      <td>1.239958e-03</td>\n",
       "    </tr>\n",
       "    <tr>\n",
       "      <th>asc_pt_male</th>\n",
       "      <td>-0.369760</td>\n",
       "      <td>0.108178</td>\n",
       "      <td>-3.418072</td>\n",
       "      <td>6.306631e-04</td>\n",
       "    </tr>\n",
       "    <tr>\n",
       "      <th>beta_cost</th>\n",
       "      <td>-0.170998</td>\n",
       "      <td>0.015858</td>\n",
       "      <td>-10.783335</td>\n",
       "      <td>0.000000e+00</td>\n",
       "    </tr>\n",
       "    <tr>\n",
       "      <th>beta_elapsed_cycle</th>\n",
       "      <td>-5.516379</td>\n",
       "      <td>2.115851</td>\n",
       "      <td>-2.607168</td>\n",
       "      <td>9.129461e-03</td>\n",
       "    </tr>\n",
       "    <tr>\n",
       "      <th>beta_elapsed_time_drive</th>\n",
       "      <td>-5.425926</td>\n",
       "      <td>2.415002</td>\n",
       "      <td>-2.246759</td>\n",
       "      <td>2.465546e-02</td>\n",
       "    </tr>\n",
       "    <tr>\n",
       "      <th>beta_elapsed_time_pt</th>\n",
       "      <td>-2.451080</td>\n",
       "      <td>1.035965</td>\n",
       "      <td>-2.365988</td>\n",
       "      <td>1.798201e-02</td>\n",
       "    </tr>\n",
       "    <tr>\n",
       "      <th>beta_elapsed_walk</th>\n",
       "      <td>-8.212161</td>\n",
       "      <td>2.495039</td>\n",
       "      <td>-3.291396</td>\n",
       "      <td>9.969152e-04</td>\n",
       "    </tr>\n",
       "    <tr>\n",
       "      <th>beta_time_cycle</th>\n",
       "      <td>2.348950</td>\n",
       "      <td>2.198550</td>\n",
       "      <td>1.068409</td>\n",
       "      <td>2.853362e-01</td>\n",
       "    </tr>\n",
       "    <tr>\n",
       "      <th>beta_time_drive</th>\n",
       "      <td>2.141094</td>\n",
       "      <td>2.795791</td>\n",
       "      <td>0.765828</td>\n",
       "      <td>4.437789e-01</td>\n",
       "    </tr>\n",
       "    <tr>\n",
       "      <th>beta_time_pt</th>\n",
       "      <td>-0.986738</td>\n",
       "      <td>1.181504</td>\n",
       "      <td>-0.835154</td>\n",
       "      <td>4.036308e-01</td>\n",
       "    </tr>\n",
       "    <tr>\n",
       "      <th>beta_time_walk</th>\n",
       "      <td>2.996234</td>\n",
       "      <td>2.368153</td>\n",
       "      <td>1.265220</td>\n",
       "      <td>2.057926e-01</td>\n",
       "    </tr>\n",
       "    <tr>\n",
       "      <th>lambda_boxcox</th>\n",
       "      <td>0.451287</td>\n",
       "      <td>0.137270</td>\n",
       "      <td>3.287598</td>\n",
       "      <td>1.010459e-03</td>\n",
       "    </tr>\n",
       "  </tbody>\n",
       "</table>\n",
       "</div>"
      ],
      "text/plain": [
       "                            Value  Rob. Std err  Rob. t-test  Rob. p-value\n",
       "asc_cycle               -2.698422      1.213660    -2.223376  2.619047e-02\n",
       "asc_cycle_male           1.056072      0.209817     5.033312  4.820785e-07\n",
       "asc_drive                0.707880      0.899774     0.786731  4.314391e-01\n",
       "asc_drive_male          -0.224704      0.101182    -2.220782  2.636573e-02\n",
       "asc_pt                   5.573208      1.725705     3.229526  1.239958e-03\n",
       "asc_pt_male             -0.369760      0.108178    -3.418072  6.306631e-04\n",
       "beta_cost               -0.170998      0.015858   -10.783335  0.000000e+00\n",
       "beta_elapsed_cycle      -5.516379      2.115851    -2.607168  9.129461e-03\n",
       "beta_elapsed_time_drive -5.425926      2.415002    -2.246759  2.465546e-02\n",
       "beta_elapsed_time_pt    -2.451080      1.035965    -2.365988  1.798201e-02\n",
       "beta_elapsed_walk       -8.212161      2.495039    -3.291396  9.969152e-04\n",
       "beta_time_cycle          2.348950      2.198550     1.068409  2.853362e-01\n",
       "beta_time_drive          2.141094      2.795791     0.765828  4.437789e-01\n",
       "beta_time_pt            -0.986738      1.181504    -0.835154  4.036308e-01\n",
       "beta_time_walk           2.996234      2.368153     1.265220  2.057926e-01\n",
       "lambda_boxcox            0.451287      0.137270     3.287598  1.010459e-03"
      ]
     },
     "execution_count": 222,
     "metadata": {},
     "output_type": "execute_result"
    }
   ],
   "source": [
    "V_model_generic = {1: v_walk_model_generic , 2: v_cycle_model_generic, 3: v_pt_model_generic, 4: v_drive_model_generic}\n",
    "logprob_model_generic = models.loglogit(V_model_generic, av, travel_mode)\n",
    "biogeme_model_generic = bio.BIOGEME(database, logprob_model_generic)\n",
    "biogeme_model_generic.modelName = 'Model_generic'\n",
    "all_results['Model_generic'] = biogeme_model_generic.estimate()\n",
    "results_model_generic = biogeme_model_generic.estimate()\n",
    "results_model_generic.getEstimatedParameters()"
   ]
  },
  {
   "cell_type": "code",
   "execution_count": 223,
   "metadata": {
    "execution": {
     "iopub.execute_input": "2023-12-06T17:25:21.299441Z",
     "iopub.status.busy": "2023-12-06T17:25:21.299127Z",
     "iopub.status.idle": "2023-12-06T17:25:21.340359Z",
     "shell.execute_reply": "2023-12-06T17:25:21.338949Z",
     "shell.execute_reply.started": "2023-12-06T17:25:21.299411Z"
    },
    "tags": []
   },
   "outputs": [
    {
     "name": "stderr",
     "output_type": "stream",
     "text": [
      "The syntax \"compileEstimationResults\" is deprecated and is replaced by the syntax \"compile_estimation_results\".\n"
     ]
    },
    {
     "data": {
      "text/plain": [
       "(                                              Model0           Model1  \\\n",
       " Number of estimated parameters                     5                8   \n",
       " Sample size                                     5000             5000   \n",
       " Final log likelihood                    -4587.818071     -4275.496542   \n",
       " Akaike Information Criterion             9185.636142      8566.993084   \n",
       " Bayesian Information Criterion           9218.222108       8619.13063   \n",
       " asc_cycle (t-test)                      -3.88  (-36)   -4.85  (-23.9)   \n",
       " asc_drive (t-test)                     -1.3  (-16.1)   -1.97  (-14.3)   \n",
       " asc_pt (t-test)                       -0.503  (-9.3)   -2.34  (-16.8)   \n",
       " beta_cost (t-test)                   -0.194  (-13.9)  -0.182  (-11.3)   \n",
       " beta_time (t-test)                     -5.5  (-26.3)                    \n",
       " beta_time_cycle (t-test)                               -5.31  (-11.5)   \n",
       " beta_time_drive (t-test)                               -6.47  (-17.1)   \n",
       " beta_time_pt (t-test)                                  -3.54  (-14.1)   \n",
       " beta_time_walk (t-test)                                -8.43  (-20.1)   \n",
       " asc_cycle_male (t-test)                                                 \n",
       " asc_drive_male (t-test)                                                 \n",
       " asc_pt_male (t-test)                                                    \n",
       " beta_cost_male (t-test)                                                 \n",
       " asc_drive_3bis (t-test)                                                 \n",
       " asc_drive_3bis_male (t-test)                                            \n",
       " beta_cost_3bis (t-test)                                                 \n",
       " beta_time_cycle_3bis (t-test)                                           \n",
       " beta_time_drive_3bis (t-test)                                           \n",
       " beta_time_pt_3bis (t-test)                                              \n",
       " beta_time_pt_3bis_squarred (t-test)                                     \n",
       " beta_time_walk_3bis (t-test)                                            \n",
       " beta_time_pt_33_squarred (t-test)                                       \n",
       " beta_elapsed_cycle (t-test)                                             \n",
       " beta_elapsed_time_drive (t-test)                                        \n",
       " beta_elapsed_time_pt (t-test)                                           \n",
       " beta_elapsed_walk (t-test)                                              \n",
       " lambda_boxcox (t-test)                                                  \n",
       " \n",
       "                                               Model2          Model2_2  \\\n",
       " Number of estimated parameters                    11                 9   \n",
       " Sample size                                     5000              5000   \n",
       " Final log likelihood                    -4245.240231      -4273.204021   \n",
       " Akaike Information Criterion             8512.480462       8564.408041   \n",
       " Bayesian Information Criterion           8584.169587        8623.06278   \n",
       " asc_cycle (t-test)                    -5.45  (-21.5)      -4.84  (-24)   \n",
       " asc_drive (t-test)                    -1.89  (-13.1)    -1.97  (-14.3)   \n",
       " asc_pt (t-test)                       -2.21  (-15.1)    -2.34  (-16.8)   \n",
       " beta_cost (t-test)                   -0.183  (-11.3)   -0.152  (-8.09)   \n",
       " beta_time (t-test)                                                       \n",
       " beta_time_cycle (t-test)              -5.58  (-11.8)    -5.35  (-11.6)   \n",
       " beta_time_drive (t-test)              -6.49  (-17.1)      -6.48  (-17)   \n",
       " beta_time_pt (t-test)                   -3.53  (-14)    -3.54  (-14.1)   \n",
       " beta_time_walk (t-test)               -8.46  (-20.2)    -8.44  (-20.2)   \n",
       " asc_cycle_male (t-test)                 1.05  (5.04)                     \n",
       " asc_drive_male (t-test)              -0.198  (-2.08)                     \n",
       " asc_pt_male (t-test)                 -0.333  (-3.35)                     \n",
       " beta_cost_male (t-test)                               -0.0654  (-2.05)   \n",
       " asc_drive_3bis (t-test)                                                  \n",
       " asc_drive_3bis_male (t-test)                                             \n",
       " beta_cost_3bis (t-test)                                                  \n",
       " beta_time_cycle_3bis (t-test)                                            \n",
       " beta_time_drive_3bis (t-test)                                            \n",
       " beta_time_pt_3bis (t-test)                                               \n",
       " beta_time_pt_3bis_squarred (t-test)                                      \n",
       " beta_time_walk_3bis (t-test)                                             \n",
       " beta_time_pt_33_squarred (t-test)                                        \n",
       " beta_elapsed_cycle (t-test)                                              \n",
       " beta_elapsed_time_drive (t-test)                                         \n",
       " beta_elapsed_time_pt (t-test)                                            \n",
       " beta_elapsed_walk (t-test)                                               \n",
       " lambda_boxcox (t-test)                                                   \n",
       " \n",
       "                                          Model_3bis         Model_33  \\\n",
       " Number of estimated parameters                   12               10   \n",
       " Sample size                                    5000             5000   \n",
       " Final log likelihood                    -4236.58918     -4264.777606   \n",
       " Akaike Information Criterion            8497.178361      8549.555213   \n",
       " Bayesian Information Criterion          8575.384679      8614.727144   \n",
       " asc_cycle (t-test)                   -5.37  (-21.4)   -4.76  (-23.9)   \n",
       " asc_drive (t-test)                                    -1.88  (-13.5)   \n",
       " asc_pt (t-test)                      -2.49  (-15.6)     -2.62  (-17)   \n",
       " beta_cost (t-test)                                   -0.149  (-7.88)   \n",
       " beta_time (t-test)                                                     \n",
       " beta_time_cycle (t-test)                                -5.35  (-12)   \n",
       " beta_time_drive (t-test)                              -6.56  (-16.9)   \n",
       " beta_time_pt (t-test)                                 -2.01  (-4.28)   \n",
       " beta_time_walk (t-test)                               -8.29  (-19.8)   \n",
       " asc_cycle_male (t-test)                1.05  (5.05)                    \n",
       " asc_drive_male (t-test)                                                \n",
       " asc_pt_male (t-test)                 -0.34  (-3.36)                    \n",
       " beta_cost_male (t-test)                              -0.066  (-2.05)   \n",
       " asc_drive_3bis (t-test)               -1.8  (-12.4)                    \n",
       " asc_drive_3bis_male (t-test)         -0.198  (-2.1)                    \n",
       " beta_cost_3bis (t-test)                -0.18  (-11)                    \n",
       " beta_time_cycle_3bis (t-test)        -5.57  (-12.2)                    \n",
       " beta_time_drive_3bis (t-test)        -6.56  (-16.9)                    \n",
       " beta_time_pt_3bis (t-test)           -1.98  (-4.22)                    \n",
       " beta_time_pt_3bis_squarred (t-test)  -1.23  (-3.53)                    \n",
       " beta_time_walk_3bis (t-test)         -8.31  (-19.9)                    \n",
       " beta_time_pt_33_squarred (t-test)                     -1.22  (-3.46)   \n",
       " beta_elapsed_cycle (t-test)                                            \n",
       " beta_elapsed_time_drive (t-test)                                       \n",
       " beta_elapsed_time_pt (t-test)                                          \n",
       " beta_elapsed_walk (t-test)                                             \n",
       " lambda_boxcox (t-test)                                                 \n",
       " \n",
       "                                              Model_3     Model_generic  \n",
       " Number of estimated parameters                    12                16  \n",
       " Sample size                                     5000              5000  \n",
       " Final log likelihood                    -4157.246366      -4149.464368  \n",
       " Akaike Information Criterion             8338.492732       8330.928737  \n",
       " Bayesian Information Criterion           8416.699051       8435.203828  \n",
       " asc_cycle (t-test)                    -3.22  (-10.6)     -2.7  (-2.22)  \n",
       " asc_drive (t-test)                    0.069  (0.317)    0.708  (0.787)  \n",
       " asc_pt (t-test)                         1.84  (10.8)      5.57  (3.23)  \n",
       " beta_cost (t-test)                   -0.175  (-11.2)   -0.171  (-10.8)  \n",
       " beta_time (t-test)                                                      \n",
       " beta_time_cycle (t-test)                                  2.35  (1.07)  \n",
       " beta_time_drive (t-test)                                 2.14  (0.766)  \n",
       " beta_time_pt (t-test)                                 -0.987  (-0.835)  \n",
       " beta_time_walk (t-test)                                      3  (1.27)  \n",
       " asc_cycle_male (t-test)                 1.05  (5.01)      1.06  (5.03)  \n",
       " asc_drive_male (t-test)              -0.226  (-2.23)   -0.225  (-2.22)  \n",
       " asc_pt_male (t-test)                  -0.375  (-3.5)    -0.37  (-3.42)  \n",
       " beta_cost_male (t-test)                                                 \n",
       " asc_drive_3bis (t-test)                                                 \n",
       " asc_drive_3bis_male (t-test)                                            \n",
       " beta_cost_3bis (t-test)                                                 \n",
       " beta_time_cycle_3bis (t-test)                                           \n",
       " beta_time_drive_3bis (t-test)                                           \n",
       " beta_time_pt_3bis (t-test)                                              \n",
       " beta_time_pt_3bis_squarred (t-test)                                     \n",
       " beta_time_walk_3bis (t-test)                                            \n",
       " beta_time_pt_33_squarred (t-test)                                       \n",
       " beta_elapsed_cycle (t-test)           -3.32  (-12.4)    -5.52  (-2.61)  \n",
       " beta_elapsed_time_drive (t-test)       -3.3  (-12.4)    -5.43  (-2.25)  \n",
       " beta_elapsed_time_pt (t-test)         -2.64  (-14.4)    -2.45  (-2.37)  \n",
       " beta_elapsed_walk (t-test)            -5.45  (-21.5)    -8.21  (-3.29)  \n",
       " lambda_boxcox (t-test)                 0.269  (5.39)     0.451  (3.29)  ,\n",
       " {'Model0': 'Model0',\n",
       "  'Model1': 'Model1',\n",
       "  'Model2': 'Model2',\n",
       "  'Model2_2': 'Model2_2',\n",
       "  'Model_3bis': 'Model_3bis',\n",
       "  'Model_33': 'Model_33',\n",
       "  'Model_3': 'Model_3',\n",
       "  'Model_generic': 'Model_generic'})"
      ]
     },
     "execution_count": 223,
     "metadata": {},
     "output_type": "execute_result"
    }
   ],
   "source": [
    "res.compileEstimationResults(all_results)"
   ]
  },
  {
   "cell_type": "code",
   "execution_count": 224,
   "metadata": {
    "execution": {
     "iopub.execute_input": "2023-12-06T17:25:21.350328Z",
     "iopub.status.busy": "2023-12-06T17:25:21.341661Z",
     "iopub.status.idle": "2023-12-06T17:25:22.661972Z",
     "shell.execute_reply": "2023-12-06T17:25:22.660280Z",
     "shell.execute_reply.started": "2023-12-06T17:25:21.350275Z"
    },
    "tags": []
   },
   "outputs": [
    {
     "data": {
      "text/plain": [
       "LRTuple(message='H0 can be rejected at level 5.0%', statistic=191.55172530098207, threshold=11.070497693516351)"
      ]
     },
     "execution_count": 224,
     "metadata": {},
     "output_type": "execute_result"
    }
   ],
   "source": [
    "model_base=biogeme_model2\n",
    "results_base=model_base.estimate()\n",
    "results_model_generic.likelihood_ratio_test(results_base, 0.05)"
   ]
  },
  {
   "cell_type": "code",
   "execution_count": 225,
   "metadata": {
    "execution": {
     "iopub.execute_input": "2023-12-06T17:25:22.666567Z",
     "iopub.status.busy": "2023-12-06T17:25:22.666132Z",
     "iopub.status.idle": "2023-12-06T17:25:25.127807Z",
     "shell.execute_reply": "2023-12-06T17:25:25.126043Z",
     "shell.execute_reply.started": "2023-12-06T17:25:22.666526Z"
    },
    "tags": []
   },
   "outputs": [
    {
     "data": {
      "text/plain": [
       "LRTuple(message='H0 can be rejected at level 5.0%', statistic=15.563995550181062, threshold=9.487729036781154)"
      ]
     },
     "execution_count": 225,
     "metadata": {},
     "output_type": "execute_result"
    }
   ],
   "source": [
    "model_base=biogeme_model3\n",
    "results_base=model_base.estimate()\n",
    "results_model_generic.likelihood_ratio_test(results_base, 0.05)"
   ]
  },
  {
   "cell_type": "markdown",
   "metadata": {},
   "source": [
    "## Model 4"
   ]
  },
  {
   "cell_type": "markdown",
   "metadata": {},
   "source": [
    "We chose to separate the modes by nesting walking and cycling as \"soft modes\" and keeping driving and PT separeted. "
   ]
  },
  {
   "cell_type": "code",
   "execution_count": 226,
   "metadata": {
    "execution": {
     "iopub.execute_input": "2023-12-06T17:25:25.130169Z",
     "iopub.status.busy": "2023-12-06T17:25:25.129655Z",
     "iopub.status.idle": "2023-12-06T17:25:25.139452Z",
     "shell.execute_reply": "2023-12-06T17:25:25.137981Z",
     "shell.execute_reply.started": "2023-12-06T17:25:25.130118Z"
    },
    "tags": []
   },
   "outputs": [],
   "source": [
    "model_base=biogeme_model3\n",
    "V_nested=V_model3\n",
    "#create the nests\n",
    "Mu_Drive =Beta(\"Mu_Drive\",1,0,None,0)\n",
    "Mu_PT =Beta(\"Mu_PT\",1,0,None,0)\n",
    "Mu_SM =Beta(\"Mu_SoftModes\",1,0,None,0)\n",
    "drive= Mu_Drive,[4]\n",
    "PT=Mu_PT, [3]\n",
    "SM=Mu_SM, [1,2]\n",
    "nests_modes=drive, PT, SM"
   ]
  },
  {
   "cell_type": "code",
   "execution_count": 227,
   "metadata": {
    "execution": {
     "iopub.execute_input": "2023-12-06T17:25:25.141228Z",
     "iopub.status.busy": "2023-12-06T17:25:25.140827Z",
     "iopub.status.idle": "2023-12-06T17:26:10.587373Z",
     "shell.execute_reply": "2023-12-06T17:26:10.586174Z",
     "shell.execute_reply.started": "2023-12-06T17:25:25.141193Z"
    },
    "tags": []
   },
   "outputs": [
    {
     "data": {
      "text/html": [
       "<div>\n",
       "<style scoped>\n",
       "    .dataframe tbody tr th:only-of-type {\n",
       "        vertical-align: middle;\n",
       "    }\n",
       "\n",
       "    .dataframe tbody tr th {\n",
       "        vertical-align: top;\n",
       "    }\n",
       "\n",
       "    .dataframe thead th {\n",
       "        text-align: right;\n",
       "    }\n",
       "</style>\n",
       "<table border=\"1\" class=\"dataframe\">\n",
       "  <thead>\n",
       "    <tr style=\"text-align: right;\">\n",
       "      <th></th>\n",
       "      <th>Value</th>\n",
       "      <th>Rob. Std err</th>\n",
       "      <th>Rob. t-test</th>\n",
       "      <th>Rob. p-value</th>\n",
       "    </tr>\n",
       "  </thead>\n",
       "  <tbody>\n",
       "    <tr>\n",
       "      <th>Mu_Drive</th>\n",
       "      <td>1.000000</td>\n",
       "      <td>1.717057e-15</td>\n",
       "      <td>5.823918e+14</td>\n",
       "      <td>0.000000e+00</td>\n",
       "    </tr>\n",
       "    <tr>\n",
       "      <th>Mu_PT</th>\n",
       "      <td>1.000000</td>\n",
       "      <td>1.797693e+308</td>\n",
       "      <td>5.562685e-309</td>\n",
       "      <td>1.000000e+00</td>\n",
       "    </tr>\n",
       "    <tr>\n",
       "      <th>Mu_SoftModes</th>\n",
       "      <td>0.603680</td>\n",
       "      <td>7.647243e-02</td>\n",
       "      <td>7.894089e+00</td>\n",
       "      <td>2.886580e-15</td>\n",
       "    </tr>\n",
       "    <tr>\n",
       "      <th>asc_cycle</th>\n",
       "      <td>-2.955126</td>\n",
       "      <td>3.748133e-01</td>\n",
       "      <td>-7.884260e+00</td>\n",
       "      <td>3.108624e-15</td>\n",
       "    </tr>\n",
       "    <tr>\n",
       "      <th>asc_cycle_male</th>\n",
       "      <td>1.574252</td>\n",
       "      <td>3.494973e-01</td>\n",
       "      <td>4.504333e+00</td>\n",
       "      <td>6.658163e-06</td>\n",
       "    </tr>\n",
       "    <tr>\n",
       "      <th>asc_drive</th>\n",
       "      <td>0.294558</td>\n",
       "      <td>2.368810e-01</td>\n",
       "      <td>1.243484e+00</td>\n",
       "      <td>2.136895e-01</td>\n",
       "    </tr>\n",
       "    <tr>\n",
       "      <th>asc_drive_male</th>\n",
       "      <td>-0.147821</td>\n",
       "      <td>1.109199e-01</td>\n",
       "      <td>-1.332681e+00</td>\n",
       "      <td>1.826365e-01</td>\n",
       "    </tr>\n",
       "    <tr>\n",
       "      <th>asc_pt</th>\n",
       "      <td>2.181106</td>\n",
       "      <td>1.969323e-01</td>\n",
       "      <td>1.107541e+01</td>\n",
       "      <td>0.000000e+00</td>\n",
       "    </tr>\n",
       "    <tr>\n",
       "      <th>asc_pt_male</th>\n",
       "      <td>-0.290546</td>\n",
       "      <td>1.165381e-01</td>\n",
       "      <td>-2.493145e+00</td>\n",
       "      <td>1.266173e-02</td>\n",
       "    </tr>\n",
       "    <tr>\n",
       "      <th>beta_cost</th>\n",
       "      <td>-0.171546</td>\n",
       "      <td>1.569916e-02</td>\n",
       "      <td>-1.092708e+01</td>\n",
       "      <td>0.000000e+00</td>\n",
       "    </tr>\n",
       "    <tr>\n",
       "      <th>beta_elapsed_cycle</th>\n",
       "      <td>-2.579132</td>\n",
       "      <td>3.283195e-01</td>\n",
       "      <td>-7.855556e+00</td>\n",
       "      <td>3.996803e-15</td>\n",
       "    </tr>\n",
       "    <tr>\n",
       "      <th>beta_elapsed_time_drive</th>\n",
       "      <td>-3.589863</td>\n",
       "      <td>2.820849e-01</td>\n",
       "      <td>-1.272618e+01</td>\n",
       "      <td>0.000000e+00</td>\n",
       "    </tr>\n",
       "    <tr>\n",
       "      <th>beta_elapsed_time_pt</th>\n",
       "      <td>-2.801978</td>\n",
       "      <td>1.889614e-01</td>\n",
       "      <td>-1.482831e+01</td>\n",
       "      <td>0.000000e+00</td>\n",
       "    </tr>\n",
       "    <tr>\n",
       "      <th>beta_elapsed_walk</th>\n",
       "      <td>-5.995689</td>\n",
       "      <td>2.853938e-01</td>\n",
       "      <td>-2.100848e+01</td>\n",
       "      <td>0.000000e+00</td>\n",
       "    </tr>\n",
       "    <tr>\n",
       "      <th>lambda_boxcox</th>\n",
       "      <td>0.318275</td>\n",
       "      <td>5.021258e-02</td>\n",
       "      <td>6.338556e+00</td>\n",
       "      <td>2.319291e-10</td>\n",
       "    </tr>\n",
       "  </tbody>\n",
       "</table>\n",
       "</div>"
      ],
      "text/plain": [
       "                            Value   Rob. Std err    Rob. t-test  Rob. p-value\n",
       "Mu_Drive                 1.000000   1.717057e-15   5.823918e+14  0.000000e+00\n",
       "Mu_PT                    1.000000  1.797693e+308  5.562685e-309  1.000000e+00\n",
       "Mu_SoftModes             0.603680   7.647243e-02   7.894089e+00  2.886580e-15\n",
       "asc_cycle               -2.955126   3.748133e-01  -7.884260e+00  3.108624e-15\n",
       "asc_cycle_male           1.574252   3.494973e-01   4.504333e+00  6.658163e-06\n",
       "asc_drive                0.294558   2.368810e-01   1.243484e+00  2.136895e-01\n",
       "asc_drive_male          -0.147821   1.109199e-01  -1.332681e+00  1.826365e-01\n",
       "asc_pt                   2.181106   1.969323e-01   1.107541e+01  0.000000e+00\n",
       "asc_pt_male             -0.290546   1.165381e-01  -2.493145e+00  1.266173e-02\n",
       "beta_cost               -0.171546   1.569916e-02  -1.092708e+01  0.000000e+00\n",
       "beta_elapsed_cycle      -2.579132   3.283195e-01  -7.855556e+00  3.996803e-15\n",
       "beta_elapsed_time_drive -3.589863   2.820849e-01  -1.272618e+01  0.000000e+00\n",
       "beta_elapsed_time_pt    -2.801978   1.889614e-01  -1.482831e+01  0.000000e+00\n",
       "beta_elapsed_walk       -5.995689   2.853938e-01  -2.100848e+01  0.000000e+00\n",
       "lambda_boxcox            0.318275   5.021258e-02   6.338556e+00  2.319291e-10"
      ]
     },
     "execution_count": 227,
     "metadata": {},
     "output_type": "execute_result"
    }
   ],
   "source": [
    "logprob_model_nested = models.lognested(V_nested, av, nests_modes, travel_mode)\n",
    "biogeme_model_nested = bio.BIOGEME(database, logprob_model_nested)\n",
    "biogeme_model_nested.modelName = 'nestmodes'\n",
    "all_results['Nestmodes'] = biogeme_model_nested.estimate()\n",
    "results_model_nested = biogeme_model_nested.estimate()\n",
    "results_model_nested.getEstimatedParameters()"
   ]
  },
  {
   "cell_type": "markdown",
   "metadata": {},
   "source": [
    "The model is rejected as Mu soft modes in < 1"
   ]
  },
  {
   "cell_type": "markdown",
   "metadata": {},
   "source": [
    "We try another model : vehicles (bikes, cars, PT) and not vehicle (walk) "
   ]
  },
  {
   "cell_type": "code",
   "execution_count": 228,
   "metadata": {
    "execution": {
     "iopub.execute_input": "2023-12-06T17:26:10.588937Z",
     "iopub.status.busy": "2023-12-06T17:26:10.588614Z",
     "iopub.status.idle": "2023-12-06T17:26:10.595512Z",
     "shell.execute_reply": "2023-12-06T17:26:10.594341Z",
     "shell.execute_reply.started": "2023-12-06T17:26:10.588905Z"
    },
    "tags": []
   },
   "outputs": [],
   "source": [
    "Mu_vehicle=Beta(\"Mu_vehicle\",1,0,None,0)\n",
    "Mu_not_vehicle=Beta(\"Mu_not_vehicle\",1,0,None,0)\n",
    "vehicle= Mu_vehicle,[2,3,4]\n",
    "not_vehicle=Mu_not_vehicle,[1]\n",
    "nests_vehicle=vehicle, not_vehicle\n"
   ]
  },
  {
   "cell_type": "code",
   "execution_count": 229,
   "metadata": {
    "execution": {
     "iopub.execute_input": "2023-12-06T17:26:10.596976Z",
     "iopub.status.busy": "2023-12-06T17:26:10.596666Z",
     "iopub.status.idle": "2023-12-06T17:26:55.304998Z",
     "shell.execute_reply": "2023-12-06T17:26:55.303404Z",
     "shell.execute_reply.started": "2023-12-06T17:26:10.596948Z"
    },
    "tags": []
   },
   "outputs": [
    {
     "data": {
      "text/html": [
       "<div>\n",
       "<style scoped>\n",
       "    .dataframe tbody tr th:only-of-type {\n",
       "        vertical-align: middle;\n",
       "    }\n",
       "\n",
       "    .dataframe tbody tr th {\n",
       "        vertical-align: top;\n",
       "    }\n",
       "\n",
       "    .dataframe thead th {\n",
       "        text-align: right;\n",
       "    }\n",
       "</style>\n",
       "<table border=\"1\" class=\"dataframe\">\n",
       "  <thead>\n",
       "    <tr style=\"text-align: right;\">\n",
       "      <th></th>\n",
       "      <th>Value</th>\n",
       "      <th>Rob. Std err</th>\n",
       "      <th>Rob. t-test</th>\n",
       "      <th>Rob. p-value</th>\n",
       "    </tr>\n",
       "  </thead>\n",
       "  <tbody>\n",
       "    <tr>\n",
       "      <th>Mu_not_vehicle</th>\n",
       "      <td>1.000000</td>\n",
       "      <td>1.797693e+308</td>\n",
       "      <td>5.562685e-309</td>\n",
       "      <td>1.000000e+00</td>\n",
       "    </tr>\n",
       "    <tr>\n",
       "      <th>Mu_vehicle</th>\n",
       "      <td>1.141220</td>\n",
       "      <td>1.709776e-01</td>\n",
       "      <td>6.674674e+00</td>\n",
       "      <td>2.477840e-11</td>\n",
       "    </tr>\n",
       "    <tr>\n",
       "      <th>asc_cycle</th>\n",
       "      <td>-2.354804</td>\n",
       "      <td>9.594116e-01</td>\n",
       "      <td>-2.454425e+00</td>\n",
       "      <td>1.411100e-02</td>\n",
       "    </tr>\n",
       "    <tr>\n",
       "      <th>asc_cycle_male</th>\n",
       "      <td>0.900330</td>\n",
       "      <td>2.488584e-01</td>\n",
       "      <td>3.617841e+00</td>\n",
       "      <td>2.970712e-04</td>\n",
       "    </tr>\n",
       "    <tr>\n",
       "      <th>asc_drive</th>\n",
       "      <td>0.520332</td>\n",
       "      <td>5.210454e-01</td>\n",
       "      <td>9.986313e-01</td>\n",
       "      <td>3.179733e-01</td>\n",
       "    </tr>\n",
       "    <tr>\n",
       "      <th>asc_drive_male</th>\n",
       "      <td>-0.221890</td>\n",
       "      <td>1.000822e-01</td>\n",
       "      <td>-2.217078e+00</td>\n",
       "      <td>2.661776e-02</td>\n",
       "    </tr>\n",
       "    <tr>\n",
       "      <th>asc_pt</th>\n",
       "      <td>2.075767</td>\n",
       "      <td>2.938127e-01</td>\n",
       "      <td>7.064933e+00</td>\n",
       "      <td>1.606937e-12</td>\n",
       "    </tr>\n",
       "    <tr>\n",
       "      <th>asc_pt_male</th>\n",
       "      <td>-0.352541</td>\n",
       "      <td>1.071163e-01</td>\n",
       "      <td>-3.291199e+00</td>\n",
       "      <td>9.976138e-04</td>\n",
       "    </tr>\n",
       "    <tr>\n",
       "      <th>beta_cost</th>\n",
       "      <td>-0.153371</td>\n",
       "      <td>2.784415e-02</td>\n",
       "      <td>-5.508211e+00</td>\n",
       "      <td>3.624985e-08</td>\n",
       "    </tr>\n",
       "    <tr>\n",
       "      <th>beta_elapsed_cycle</th>\n",
       "      <td>-2.882741</td>\n",
       "      <td>5.249754e-01</td>\n",
       "      <td>-5.491192e+00</td>\n",
       "      <td>3.992300e-08</td>\n",
       "    </tr>\n",
       "    <tr>\n",
       "      <th>beta_elapsed_time_drive</th>\n",
       "      <td>-2.872514</td>\n",
       "      <td>5.147548e-01</td>\n",
       "      <td>-5.580354e+00</td>\n",
       "      <td>2.400294e-08</td>\n",
       "    </tr>\n",
       "    <tr>\n",
       "      <th>beta_elapsed_time_pt</th>\n",
       "      <td>-2.320755</td>\n",
       "      <td>3.800700e-01</td>\n",
       "      <td>-6.106125e+00</td>\n",
       "      <td>1.020793e-09</td>\n",
       "    </tr>\n",
       "    <tr>\n",
       "      <th>beta_elapsed_walk</th>\n",
       "      <td>-5.148097</td>\n",
       "      <td>4.090640e-01</td>\n",
       "      <td>-1.258506e+01</td>\n",
       "      <td>0.000000e+00</td>\n",
       "    </tr>\n",
       "    <tr>\n",
       "      <th>lambda_boxcox</th>\n",
       "      <td>0.250580</td>\n",
       "      <td>5.401274e-02</td>\n",
       "      <td>4.639276e+00</td>\n",
       "      <td>3.496312e-06</td>\n",
       "    </tr>\n",
       "  </tbody>\n",
       "</table>\n",
       "</div>"
      ],
      "text/plain": [
       "                            Value   Rob. Std err    Rob. t-test  Rob. p-value\n",
       "Mu_not_vehicle           1.000000  1.797693e+308  5.562685e-309  1.000000e+00\n",
       "Mu_vehicle               1.141220   1.709776e-01   6.674674e+00  2.477840e-11\n",
       "asc_cycle               -2.354804   9.594116e-01  -2.454425e+00  1.411100e-02\n",
       "asc_cycle_male           0.900330   2.488584e-01   3.617841e+00  2.970712e-04\n",
       "asc_drive                0.520332   5.210454e-01   9.986313e-01  3.179733e-01\n",
       "asc_drive_male          -0.221890   1.000822e-01  -2.217078e+00  2.661776e-02\n",
       "asc_pt                   2.075767   2.938127e-01   7.064933e+00  1.606937e-12\n",
       "asc_pt_male             -0.352541   1.071163e-01  -3.291199e+00  9.976138e-04\n",
       "beta_cost               -0.153371   2.784415e-02  -5.508211e+00  3.624985e-08\n",
       "beta_elapsed_cycle      -2.882741   5.249754e-01  -5.491192e+00  3.992300e-08\n",
       "beta_elapsed_time_drive -2.872514   5.147548e-01  -5.580354e+00  2.400294e-08\n",
       "beta_elapsed_time_pt    -2.320755   3.800700e-01  -6.106125e+00  1.020793e-09\n",
       "beta_elapsed_walk       -5.148097   4.090640e-01  -1.258506e+01  0.000000e+00\n",
       "lambda_boxcox            0.250580   5.401274e-02   4.639276e+00  3.496312e-06"
      ]
     },
     "execution_count": 229,
     "metadata": {},
     "output_type": "execute_result"
    }
   ],
   "source": [
    "logprob_model_nestedvehicle = models.lognested(V_nested, av, nests_vehicle, travel_mode)\n",
    "biogeme_model_nestedvehicle = bio.BIOGEME(database, logprob_model_nestedvehicle)\n",
    "biogeme_model_nestedvehicle.modelName = 'Model_nested_vehicle'\n",
    "results_model_nestedvehicle = biogeme_model_nestedvehicle.estimate()\n",
    "all_results['Model_nested_vehicle'] = results_model_nestedvehicle\n",
    "table_nestedvehicle=results_model_nestedvehicle.getEstimatedParameters()\n",
    "table_nestedvehicle"
   ]
  },
  {
   "cell_type": "code",
   "execution_count": 230,
   "metadata": {
    "execution": {
     "iopub.execute_input": "2023-12-06T17:26:55.306887Z",
     "iopub.status.busy": "2023-12-06T17:26:55.306536Z",
     "iopub.status.idle": "2023-12-06T17:26:55.360114Z",
     "shell.execute_reply": "2023-12-06T17:26:55.358738Z",
     "shell.execute_reply.started": "2023-12-06T17:26:55.306855Z"
    },
    "tags": []
   },
   "outputs": [
    {
     "name": "stderr",
     "output_type": "stream",
     "text": [
      "The syntax \"compileEstimationResults\" is deprecated and is replaced by the syntax \"compile_estimation_results\".\n"
     ]
    },
    {
     "data": {
      "text/plain": [
       "(                                              Model0           Model1  \\\n",
       " Number of estimated parameters                     5                8   \n",
       " Sample size                                     5000             5000   \n",
       " Final log likelihood                    -4587.818071     -4275.496542   \n",
       " Akaike Information Criterion             9185.636142      8566.993084   \n",
       " Bayesian Information Criterion           9218.222108       8619.13063   \n",
       " asc_cycle (t-test)                      -3.88  (-36)   -4.85  (-23.9)   \n",
       " asc_drive (t-test)                     -1.3  (-16.1)   -1.97  (-14.3)   \n",
       " asc_pt (t-test)                       -0.503  (-9.3)   -2.34  (-16.8)   \n",
       " beta_cost (t-test)                   -0.194  (-13.9)  -0.182  (-11.3)   \n",
       " beta_time (t-test)                     -5.5  (-26.3)                    \n",
       " beta_time_cycle (t-test)                               -5.31  (-11.5)   \n",
       " beta_time_drive (t-test)                               -6.47  (-17.1)   \n",
       " beta_time_pt (t-test)                                  -3.54  (-14.1)   \n",
       " beta_time_walk (t-test)                                -8.43  (-20.1)   \n",
       " asc_cycle_male (t-test)                                                 \n",
       " asc_drive_male (t-test)                                                 \n",
       " asc_pt_male (t-test)                                                    \n",
       " beta_cost_male (t-test)                                                 \n",
       " asc_drive_3bis (t-test)                                                 \n",
       " asc_drive_3bis_male (t-test)                                            \n",
       " beta_cost_3bis (t-test)                                                 \n",
       " beta_time_cycle_3bis (t-test)                                           \n",
       " beta_time_drive_3bis (t-test)                                           \n",
       " beta_time_pt_3bis (t-test)                                              \n",
       " beta_time_pt_3bis_squarred (t-test)                                     \n",
       " beta_time_walk_3bis (t-test)                                            \n",
       " beta_time_pt_33_squarred (t-test)                                       \n",
       " beta_elapsed_cycle (t-test)                                             \n",
       " beta_elapsed_time_drive (t-test)                                        \n",
       " beta_elapsed_time_pt (t-test)                                           \n",
       " beta_elapsed_walk (t-test)                                              \n",
       " lambda_boxcox (t-test)                                                  \n",
       " Mu_Drive (t-test)                                                       \n",
       " Mu_PT (t-test)                                                          \n",
       " Mu_SoftModes (t-test)                                                   \n",
       " Mu_not_vehicle (t-test)                                                 \n",
       " Mu_vehicle (t-test)                                                     \n",
       " \n",
       "                                               Model2          Model2_2  \\\n",
       " Number of estimated parameters                    11                 9   \n",
       " Sample size                                     5000              5000   \n",
       " Final log likelihood                    -4245.240231      -4273.204021   \n",
       " Akaike Information Criterion             8512.480462       8564.408041   \n",
       " Bayesian Information Criterion           8584.169587        8623.06278   \n",
       " asc_cycle (t-test)                    -5.45  (-21.5)      -4.84  (-24)   \n",
       " asc_drive (t-test)                    -1.89  (-13.1)    -1.97  (-14.3)   \n",
       " asc_pt (t-test)                       -2.21  (-15.1)    -2.34  (-16.8)   \n",
       " beta_cost (t-test)                   -0.183  (-11.3)   -0.152  (-8.09)   \n",
       " beta_time (t-test)                                                       \n",
       " beta_time_cycle (t-test)              -5.58  (-11.8)    -5.35  (-11.6)   \n",
       " beta_time_drive (t-test)              -6.49  (-17.1)      -6.48  (-17)   \n",
       " beta_time_pt (t-test)                   -3.53  (-14)    -3.54  (-14.1)   \n",
       " beta_time_walk (t-test)               -8.46  (-20.2)    -8.44  (-20.2)   \n",
       " asc_cycle_male (t-test)                 1.05  (5.04)                     \n",
       " asc_drive_male (t-test)              -0.198  (-2.08)                     \n",
       " asc_pt_male (t-test)                 -0.333  (-3.35)                     \n",
       " beta_cost_male (t-test)                               -0.0654  (-2.05)   \n",
       " asc_drive_3bis (t-test)                                                  \n",
       " asc_drive_3bis_male (t-test)                                             \n",
       " beta_cost_3bis (t-test)                                                  \n",
       " beta_time_cycle_3bis (t-test)                                            \n",
       " beta_time_drive_3bis (t-test)                                            \n",
       " beta_time_pt_3bis (t-test)                                               \n",
       " beta_time_pt_3bis_squarred (t-test)                                      \n",
       " beta_time_walk_3bis (t-test)                                             \n",
       " beta_time_pt_33_squarred (t-test)                                        \n",
       " beta_elapsed_cycle (t-test)                                              \n",
       " beta_elapsed_time_drive (t-test)                                         \n",
       " beta_elapsed_time_pt (t-test)                                            \n",
       " beta_elapsed_walk (t-test)                                               \n",
       " lambda_boxcox (t-test)                                                   \n",
       " Mu_Drive (t-test)                                                        \n",
       " Mu_PT (t-test)                                                           \n",
       " Mu_SoftModes (t-test)                                                    \n",
       " Mu_not_vehicle (t-test)                                                  \n",
       " Mu_vehicle (t-test)                                                      \n",
       " \n",
       "                                          Model_3bis         Model_33  \\\n",
       " Number of estimated parameters                   12               10   \n",
       " Sample size                                    5000             5000   \n",
       " Final log likelihood                    -4236.58918     -4264.777606   \n",
       " Akaike Information Criterion            8497.178361      8549.555213   \n",
       " Bayesian Information Criterion          8575.384679      8614.727144   \n",
       " asc_cycle (t-test)                   -5.37  (-21.4)   -4.76  (-23.9)   \n",
       " asc_drive (t-test)                                    -1.88  (-13.5)   \n",
       " asc_pt (t-test)                      -2.49  (-15.6)     -2.62  (-17)   \n",
       " beta_cost (t-test)                                   -0.149  (-7.88)   \n",
       " beta_time (t-test)                                                     \n",
       " beta_time_cycle (t-test)                                -5.35  (-12)   \n",
       " beta_time_drive (t-test)                              -6.56  (-16.9)   \n",
       " beta_time_pt (t-test)                                 -2.01  (-4.28)   \n",
       " beta_time_walk (t-test)                               -8.29  (-19.8)   \n",
       " asc_cycle_male (t-test)                1.05  (5.05)                    \n",
       " asc_drive_male (t-test)                                                \n",
       " asc_pt_male (t-test)                 -0.34  (-3.36)                    \n",
       " beta_cost_male (t-test)                              -0.066  (-2.05)   \n",
       " asc_drive_3bis (t-test)               -1.8  (-12.4)                    \n",
       " asc_drive_3bis_male (t-test)         -0.198  (-2.1)                    \n",
       " beta_cost_3bis (t-test)                -0.18  (-11)                    \n",
       " beta_time_cycle_3bis (t-test)        -5.57  (-12.2)                    \n",
       " beta_time_drive_3bis (t-test)        -6.56  (-16.9)                    \n",
       " beta_time_pt_3bis (t-test)           -1.98  (-4.22)                    \n",
       " beta_time_pt_3bis_squarred (t-test)  -1.23  (-3.53)                    \n",
       " beta_time_walk_3bis (t-test)         -8.31  (-19.9)                    \n",
       " beta_time_pt_33_squarred (t-test)                     -1.22  (-3.46)   \n",
       " beta_elapsed_cycle (t-test)                                            \n",
       " beta_elapsed_time_drive (t-test)                                       \n",
       " beta_elapsed_time_pt (t-test)                                          \n",
       " beta_elapsed_walk (t-test)                                             \n",
       " lambda_boxcox (t-test)                                                 \n",
       " Mu_Drive (t-test)                                                      \n",
       " Mu_PT (t-test)                                                         \n",
       " Mu_SoftModes (t-test)                                                  \n",
       " Mu_not_vehicle (t-test)                                                \n",
       " Mu_vehicle (t-test)                                                    \n",
       " \n",
       "                                              Model_3     Model_generic  \\\n",
       " Number of estimated parameters                    12                16   \n",
       " Sample size                                     5000              5000   \n",
       " Final log likelihood                    -4157.246366      -4149.464368   \n",
       " Akaike Information Criterion             8338.492732       8330.928737   \n",
       " Bayesian Information Criterion           8416.699051       8435.203828   \n",
       " asc_cycle (t-test)                    -3.22  (-10.6)     -2.7  (-2.22)   \n",
       " asc_drive (t-test)                    0.069  (0.317)    0.708  (0.787)   \n",
       " asc_pt (t-test)                         1.84  (10.8)      5.57  (3.23)   \n",
       " beta_cost (t-test)                   -0.175  (-11.2)   -0.171  (-10.8)   \n",
       " beta_time (t-test)                                                       \n",
       " beta_time_cycle (t-test)                                  2.35  (1.07)   \n",
       " beta_time_drive (t-test)                                 2.14  (0.766)   \n",
       " beta_time_pt (t-test)                                 -0.987  (-0.835)   \n",
       " beta_time_walk (t-test)                                      3  (1.27)   \n",
       " asc_cycle_male (t-test)                 1.05  (5.01)      1.06  (5.03)   \n",
       " asc_drive_male (t-test)              -0.226  (-2.23)   -0.225  (-2.22)   \n",
       " asc_pt_male (t-test)                  -0.375  (-3.5)    -0.37  (-3.42)   \n",
       " beta_cost_male (t-test)                                                  \n",
       " asc_drive_3bis (t-test)                                                  \n",
       " asc_drive_3bis_male (t-test)                                             \n",
       " beta_cost_3bis (t-test)                                                  \n",
       " beta_time_cycle_3bis (t-test)                                            \n",
       " beta_time_drive_3bis (t-test)                                            \n",
       " beta_time_pt_3bis (t-test)                                               \n",
       " beta_time_pt_3bis_squarred (t-test)                                      \n",
       " beta_time_walk_3bis (t-test)                                             \n",
       " beta_time_pt_33_squarred (t-test)                                        \n",
       " beta_elapsed_cycle (t-test)           -3.32  (-12.4)    -5.52  (-2.61)   \n",
       " beta_elapsed_time_drive (t-test)       -3.3  (-12.4)    -5.43  (-2.25)   \n",
       " beta_elapsed_time_pt (t-test)         -2.64  (-14.4)    -2.45  (-2.37)   \n",
       " beta_elapsed_walk (t-test)            -5.45  (-21.5)    -8.21  (-3.29)   \n",
       " lambda_boxcox (t-test)                 0.269  (5.39)     0.451  (3.29)   \n",
       " Mu_Drive (t-test)                                                        \n",
       " Mu_PT (t-test)                                                           \n",
       " Mu_SoftModes (t-test)                                                    \n",
       " Mu_not_vehicle (t-test)                                                  \n",
       " Mu_vehicle (t-test)                                                      \n",
       " \n",
       "                                            Nestmodes Model_nested_vehicle  \n",
       " Number of estimated parameters                    15                   14  \n",
       " Sample size                                     5000                 5000  \n",
       " Final log likelihood                    -4149.661795         -4156.794087  \n",
       " Akaike Information Criterion             8329.323589          8341.588174  \n",
       " Bayesian Information Criterion           8427.081487          8432.828879  \n",
       " asc_cycle (t-test)                    -2.96  (-7.88)       -2.35  (-2.45)  \n",
       " asc_drive (t-test)                     0.295  (1.24)        0.52  (0.999)  \n",
       " asc_pt (t-test)                         2.18  (11.1)         2.08  (7.06)  \n",
       " beta_cost (t-test)                   -0.172  (-10.9)      -0.153  (-5.51)  \n",
       " beta_time (t-test)                                                         \n",
       " beta_time_cycle (t-test)                                                   \n",
       " beta_time_drive (t-test)                                                   \n",
       " beta_time_pt (t-test)                                                      \n",
       " beta_time_walk (t-test)                                                    \n",
       " asc_cycle_male (t-test)                  1.57  (4.5)          0.9  (3.62)  \n",
       " asc_drive_male (t-test)              -0.148  (-1.33)      -0.222  (-2.22)  \n",
       " asc_pt_male (t-test)                 -0.291  (-2.49)      -0.353  (-3.29)  \n",
       " beta_cost_male (t-test)                                                    \n",
       " asc_drive_3bis (t-test)                                                    \n",
       " asc_drive_3bis_male (t-test)                                               \n",
       " beta_cost_3bis (t-test)                                                    \n",
       " beta_time_cycle_3bis (t-test)                                              \n",
       " beta_time_drive_3bis (t-test)                                              \n",
       " beta_time_pt_3bis (t-test)                                                 \n",
       " beta_time_pt_3bis_squarred (t-test)                                        \n",
       " beta_time_walk_3bis (t-test)                                               \n",
       " beta_time_pt_33_squarred (t-test)                                          \n",
       " beta_elapsed_cycle (t-test)           -2.58  (-7.86)       -2.88  (-5.49)  \n",
       " beta_elapsed_time_drive (t-test)      -3.59  (-12.7)       -2.87  (-5.58)  \n",
       " beta_elapsed_time_pt (t-test)          -2.8  (-14.8)       -2.32  (-6.11)  \n",
       " beta_elapsed_walk (t-test)                 -6  (-21)       -5.15  (-12.6)  \n",
       " lambda_boxcox (t-test)                 0.318  (6.34)        0.251  (4.64)  \n",
       " Mu_Drive (t-test)                      1  (5.82e+14)                       \n",
       " Mu_PT (t-test)                        1  (5.56e-309)                       \n",
       " Mu_SoftModes (t-test)                  0.604  (7.89)                       \n",
       " Mu_not_vehicle (t-test)                                    1  (5.56e-309)  \n",
       " Mu_vehicle (t-test)                                          1.14  (6.67)  ,\n",
       " {'Model0': 'Model0',\n",
       "  'Model1': 'Model1',\n",
       "  'Model2': 'Model2',\n",
       "  'Model2_2': 'Model2_2',\n",
       "  'Model_3bis': 'Model_3bis',\n",
       "  'Model_33': 'Model_33',\n",
       "  'Model_3': 'Model_3',\n",
       "  'Model_generic': 'Model_generic',\n",
       "  'Nestmodes': 'Nestmodes',\n",
       "  'Model_nested_vehicle': 'Model_nested_vehicle'})"
      ]
     },
     "execution_count": 230,
     "metadata": {},
     "output_type": "execute_result"
    }
   ],
   "source": [
    "res.compileEstimationResults(all_results)"
   ]
  },
  {
   "cell_type": "code",
   "execution_count": 231,
   "metadata": {
    "execution": {
     "iopub.execute_input": "2023-12-06T17:26:55.361737Z",
     "iopub.status.busy": "2023-12-06T17:26:55.361406Z",
     "iopub.status.idle": "2023-12-06T17:26:58.106860Z",
     "shell.execute_reply": "2023-12-06T17:26:58.104857Z",
     "shell.execute_reply.started": "2023-12-06T17:26:55.361706Z"
    },
    "scrolled": true,
    "tags": []
   },
   "outputs": [
    {
     "data": {
      "text/plain": [
       "LRTuple(message='H0 cannot be rejected at level 5.0%', statistic=0.9045581212012621, threshold=5.991464547107979)"
      ]
     },
     "execution_count": 231,
     "metadata": {},
     "output_type": "execute_result"
    }
   ],
   "source": [
    "results_base=model_base.estimate()\n",
    "results_model_nestedvehicle.likelihood_ratio_test(results_base, 0.05)"
   ]
  },
  {
   "cell_type": "markdown",
   "metadata": {},
   "source": [
    "So the model pref keeps being Model_3 (Box-cox transformation)"
   ]
  },
  {
   "cell_type": "markdown",
   "metadata": {},
   "source": [
    "## Market Shares"
   ]
  },
  {
   "cell_type": "markdown",
   "metadata": {},
   "source": [
    "The census data report the following number $N_g$ of individuals in each segment $g$."
   ]
  },
  {
   "cell_type": "code",
   "execution_count": 232,
   "metadata": {
    "execution": {
     "iopub.execute_input": "2023-12-06T17:27:31.337510Z",
     "iopub.status.busy": "2023-12-06T17:27:31.336707Z",
     "iopub.status.idle": "2023-12-06T17:27:31.346505Z",
     "shell.execute_reply": "2023-12-06T17:27:31.344339Z",
     "shell.execute_reply.started": "2023-12-06T17:27:31.337451Z"
    },
    "tags": []
   },
   "outputs": [],
   "source": [
    "census = {\n",
    "    'male_45_more':  1379198,\n",
    "    'male_45_less':  2926408,\n",
    "    'female_45_more':   1519948,\n",
    "    'female_45_less':  2841376,\n",
    "}"
   ]
  },
  {
   "cell_type": "markdown",
   "metadata": {},
   "source": [
    "The total size $N$ of the population is the sum over all segments."
   ]
  },
  {
   "cell_type": "code",
   "execution_count": 233,
   "metadata": {
    "execution": {
     "iopub.execute_input": "2023-12-06T17:27:32.691151Z",
     "iopub.status.busy": "2023-12-06T17:27:32.690374Z",
     "iopub.status.idle": "2023-12-06T17:27:32.702506Z",
     "shell.execute_reply": "2023-12-06T17:27:32.700927Z",
     "shell.execute_reply.started": "2023-12-06T17:27:32.691094Z"
    },
    "tags": []
   },
   "outputs": [
    {
     "data": {
      "text/plain": [
       "8666930"
      ]
     },
     "execution_count": 233,
     "metadata": {},
     "output_type": "execute_result"
    }
   ],
   "source": [
    "total = sum(census.values())\n",
    "total"
   ]
  },
  {
   "cell_type": "markdown",
   "metadata": {},
   "source": [
    "Identify each segment in the database."
   ]
  },
  {
   "cell_type": "code",
   "execution_count": 234,
   "metadata": {
    "execution": {
     "iopub.execute_input": "2023-12-06T17:27:33.548149Z",
     "iopub.status.busy": "2023-12-06T17:27:33.547251Z",
     "iopub.status.idle": "2023-12-06T17:27:33.562403Z",
     "shell.execute_reply": "2023-12-06T17:27:33.560996Z",
     "shell.execute_reply.started": "2023-12-06T17:27:33.548092Z"
    },
    "tags": []
   },
   "outputs": [],
   "source": [
    "filters = {\n",
    "    'male_45_more': (LPMC.age >=45) & (LPMC.female == 0),\n",
    "    'male_45_less': (LPMC.age < 45) & (LPMC.female == 0),\n",
    "    'female_45_more': (LPMC.age >= 45) & (LPMC.female == 1),\n",
    "    'female_45_less': (LPMC.age < 45) & (LPMC.female == 1),\n",
    "}"
   ]
  },
  {
   "cell_type": "markdown",
   "metadata": {},
   "source": [
    "We count the number \n",
    "$S_g$ of individuals in each segment $g$ in the sample."
   ]
  },
  {
   "cell_type": "code",
   "execution_count": 235,
   "metadata": {
    "execution": {
     "iopub.execute_input": "2023-12-06T17:27:33.962464Z",
     "iopub.status.busy": "2023-12-06T17:27:33.961692Z",
     "iopub.status.idle": "2023-12-06T17:27:33.978516Z",
     "shell.execute_reply": "2023-12-06T17:27:33.976279Z",
     "shell.execute_reply.started": "2023-12-06T17:27:33.962407Z"
    },
    "tags": []
   },
   "outputs": [
    {
     "data": {
      "text/plain": [
       "{'male_45_more': 903,\n",
       " 'male_45_less': 1436,\n",
       " 'female_45_more': 997,\n",
       " 'female_45_less': 1664}"
      ]
     },
     "execution_count": 235,
     "metadata": {},
     "output_type": "execute_result"
    }
   ],
   "source": [
    "\n",
    "sample_segments = {\n",
    "    k: v.sum() for k, v in filters.items()\n",
    "}\n",
    "sample_segments"
   ]
  },
  {
   "cell_type": "markdown",
   "metadata": {},
   "source": [
    "We check the total sample size $S$."
   ]
  },
  {
   "cell_type": "code",
   "execution_count": 236,
   "metadata": {
    "execution": {
     "iopub.execute_input": "2023-12-06T17:27:34.466986Z",
     "iopub.status.busy": "2023-12-06T17:27:34.466273Z",
     "iopub.status.idle": "2023-12-06T17:27:34.479779Z",
     "shell.execute_reply": "2023-12-06T17:27:34.477921Z",
     "shell.execute_reply.started": "2023-12-06T17:27:34.466930Z"
    },
    "tags": []
   },
   "outputs": [
    {
     "data": {
      "text/plain": [
       "5000"
      ]
     },
     "execution_count": 236,
     "metadata": {},
     "output_type": "execute_result"
    }
   ],
   "source": [
    "total_sample = sum(sample_segments.values())\n",
    "total_sample"
   ]
  },
  {
   "cell_type": "markdown",
   "metadata": {},
   "source": [
    "The weight $w_g$ associated with segment $g$ is defined as\n",
    "$$\n",
    "w_g = \\frac{N_g}{N}\\frac{S}{S_g}.\n",
    "$$"
   ]
  },
  {
   "cell_type": "code",
   "execution_count": 237,
   "metadata": {
    "execution": {
     "iopub.execute_input": "2023-12-06T17:27:34.948565Z",
     "iopub.status.busy": "2023-12-06T17:27:34.947788Z",
     "iopub.status.idle": "2023-12-06T17:27:34.960946Z",
     "shell.execute_reply": "2023-12-06T17:27:34.959496Z",
     "shell.execute_reply.started": "2023-12-06T17:27:34.948519Z"
    },
    "tags": []
   },
   "outputs": [
    {
     "data": {
      "text/plain": [
       "{'male_45_more': 0.881137295471826,\n",
       " 'male_45_less': 1.17566922738916,\n",
       " 'female_45_more': 0.8795049485193039,\n",
       " 'female_45_less': 0.9850995060002171}"
      ]
     },
     "execution_count": 237,
     "metadata": {},
     "output_type": "execute_result"
    }
   ],
   "source": [
    "weights = {\n",
    "    k: census[k] * total_sample / (v * total) \n",
    "    for k, v in sample_segments.items()\n",
    "}\n",
    "weights"
   ]
  },
  {
   "cell_type": "markdown",
   "metadata": {},
   "source": [
    "We insert the weight as a new column in the database."
   ]
  },
  {
   "cell_type": "code",
   "execution_count": 238,
   "metadata": {
    "execution": {
     "iopub.execute_input": "2023-12-06T17:27:35.574586Z",
     "iopub.status.busy": "2023-12-06T17:27:35.573879Z",
     "iopub.status.idle": "2023-12-06T17:27:35.587444Z",
     "shell.execute_reply": "2023-12-06T17:27:35.585617Z",
     "shell.execute_reply.started": "2023-12-06T17:27:35.574528Z"
    },
    "tags": []
   },
   "outputs": [],
   "source": [
    "for k, f in filters.items():\n",
    "    LPMC.loc[f, 'Weight'] = weights[k] "
   ]
  },
  {
   "cell_type": "markdown",
   "metadata": {},
   "source": [
    "We check that the sum of the weights is the sample size."
   ]
  },
  {
   "cell_type": "code",
   "execution_count": 239,
   "metadata": {
    "execution": {
     "iopub.execute_input": "2023-12-06T17:27:36.018661Z",
     "iopub.status.busy": "2023-12-06T17:27:36.018076Z",
     "iopub.status.idle": "2023-12-06T17:27:36.030633Z",
     "shell.execute_reply": "2023-12-06T17:27:36.028802Z",
     "shell.execute_reply.started": "2023-12-06T17:27:36.018607Z"
    },
    "tags": []
   },
   "outputs": [
    {
     "data": {
      "text/plain": [
       "5000.0"
      ]
     },
     "execution_count": 239,
     "metadata": {},
     "output_type": "execute_result"
    }
   ],
   "source": [
    "sum_weights = LPMC['Weight'].sum()\n",
    "sum_weights"
   ]
  },
  {
   "cell_type": "markdown",
   "metadata": {},
   "source": [
    "It is equal."
   ]
  },
  {
   "cell_type": "markdown",
   "metadata": {},
   "source": [
    "#### Perform sample enumeration"
   ]
  },
  {
   "cell_type": "markdown",
   "metadata": {},
   "source": [
    "The goal is to estimate predicted shares using the formula :\n",
    "    $$Ŵ(i) = \\frac{1}{S}\\sum_{n=1}^{S}w_n*P(i|x_n; θ)$$"
   ]
  },
  {
   "cell_type": "markdown",
   "metadata": {},
   "source": [
    "First we need to obtain $P(i|x_n; θ)$ for each option $i$"
   ]
  },
  {
   "cell_type": "markdown",
   "metadata": {},
   "source": [
    "Using Model 3 ( the preferred model so far ) and the logit model $$ P(i|x_n; θ)= \\frac{exp(V_{in})}{\\sum_{j \\in C}{exp(V_{jn})}}$$ where $\\mu$ is normalized to 1."
   ]
  },
  {
   "cell_type": "code",
   "execution_count": 240,
   "metadata": {
    "execution": {
     "iopub.execute_input": "2023-12-06T17:27:37.162298Z",
     "iopub.status.busy": "2023-12-06T17:27:37.161578Z",
     "iopub.status.idle": "2023-12-06T17:27:37.175337Z",
     "shell.execute_reply": "2023-12-06T17:27:37.173060Z",
     "shell.execute_reply.started": "2023-12-06T17:27:37.162240Z"
    },
    "tags": []
   },
   "outputs": [],
   "source": [
    "prob_walk =  exp(v_walk_model3) /( exp(v_walk_model3)+ exp(v_drive_model3)+exp(v_pt_model3)+exp(v_cycle_model3))\n",
    "prob_drive = exp(v_drive_model3) /( exp(v_walk_model3)+ exp(v_drive_model3)+exp(v_pt_model3)+exp(v_cycle_model3))\n",
    "prob_cycle = exp(v_cycle_model3) /( exp(v_walk_model3)+ exp(v_drive_model3)+exp(v_pt_model3)+exp(v_cycle_model3))\n",
    "prob_pt =  exp(v_pt_model3) /( exp(v_walk_model3)+ exp(v_drive_model3)+exp(v_pt_model3)+exp(v_cycle_model3))"
   ]
  },
  {
   "cell_type": "markdown",
   "metadata": {},
   "source": [
    "We calculate the choice probability of each alternative for each observation. We include the weight in the simulation results."
   ]
  },
  {
   "cell_type": "code",
   "execution_count": 241,
   "metadata": {
    "execution": {
     "iopub.execute_input": "2023-12-06T17:27:38.002381Z",
     "iopub.status.busy": "2023-12-06T17:27:38.001664Z",
     "iopub.status.idle": "2023-12-06T17:27:38.010312Z",
     "shell.execute_reply": "2023-12-06T17:27:38.008463Z",
     "shell.execute_reply.started": "2023-12-06T17:27:38.002325Z"
    },
    "tags": []
   },
   "outputs": [],
   "source": [
    "Weight = Variable('Weight')"
   ]
  },
  {
   "cell_type": "code",
   "execution_count": 242,
   "metadata": {
    "execution": {
     "iopub.execute_input": "2023-12-06T17:27:38.567326Z",
     "iopub.status.busy": "2023-12-06T17:27:38.566119Z",
     "iopub.status.idle": "2023-12-06T17:27:38.575138Z",
     "shell.execute_reply": "2023-12-06T17:27:38.573056Z",
     "shell.execute_reply.started": "2023-12-06T17:27:38.567269Z"
    },
    "tags": []
   },
   "outputs": [],
   "source": [
    "simulate = {\n",
    "    'Weight': Weight,\n",
    "    'Prob. walk': prob_walk,\n",
    "    'Prob. drive': prob_drive,\n",
    "    'Prob. cycle': prob_cycle,\n",
    "    'Prob. pt': prob_pt,    \n",
    "}"
   ]
  },
  {
   "cell_type": "code",
   "execution_count": 243,
   "metadata": {
    "execution": {
     "iopub.execute_input": "2023-12-06T17:27:38.896991Z",
     "iopub.status.busy": "2023-12-06T17:27:38.896356Z",
     "iopub.status.idle": "2023-12-06T17:27:39.170660Z",
     "shell.execute_reply": "2023-12-06T17:27:39.168747Z",
     "shell.execute_reply.started": "2023-12-06T17:27:38.896935Z"
    },
    "tags": []
   },
   "outputs": [],
   "source": [
    "database = db.Database('LPMC',  LPMC)\n",
    "biosim = bio.BIOGEME(database, simulate)\n",
    "simulated_values = biosim.simulate(results_model3.getBetaValues())"
   ]
  },
  {
   "cell_type": "code",
   "execution_count": 244,
   "metadata": {
    "execution": {
     "iopub.execute_input": "2023-12-06T17:27:39.190681Z",
     "iopub.status.busy": "2023-12-06T17:27:39.190133Z",
     "iopub.status.idle": "2023-12-06T17:27:39.272947Z",
     "shell.execute_reply": "2023-12-06T17:27:39.271374Z",
     "shell.execute_reply.started": "2023-12-06T17:27:39.190630Z"
    },
    "tags": []
   },
   "outputs": [
    {
     "data": {
      "text/html": [
       "<div>\n",
       "<style scoped>\n",
       "    .dataframe tbody tr th:only-of-type {\n",
       "        vertical-align: middle;\n",
       "    }\n",
       "\n",
       "    .dataframe tbody tr th {\n",
       "        vertical-align: top;\n",
       "    }\n",
       "\n",
       "    .dataframe thead th {\n",
       "        text-align: right;\n",
       "    }\n",
       "</style>\n",
       "<table border=\"1\" class=\"dataframe\">\n",
       "  <thead>\n",
       "    <tr style=\"text-align: right;\">\n",
       "      <th></th>\n",
       "      <th>Weight</th>\n",
       "      <th>Prob. walk</th>\n",
       "      <th>Prob. drive</th>\n",
       "      <th>Prob. cycle</th>\n",
       "      <th>Prob. pt</th>\n",
       "    </tr>\n",
       "  </thead>\n",
       "  <tbody>\n",
       "    <tr>\n",
       "      <th>0</th>\n",
       "      <td>0.879505</td>\n",
       "      <td>0.001361</td>\n",
       "      <td>0.231612</td>\n",
       "      <td>0.010644</td>\n",
       "      <td>0.756383</td>\n",
       "    </tr>\n",
       "    <tr>\n",
       "      <th>1</th>\n",
       "      <td>0.881137</td>\n",
       "      <td>0.000098</td>\n",
       "      <td>0.199560</td>\n",
       "      <td>0.020164</td>\n",
       "      <td>0.780178</td>\n",
       "    </tr>\n",
       "    <tr>\n",
       "      <th>2</th>\n",
       "      <td>1.175669</td>\n",
       "      <td>0.029810</td>\n",
       "      <td>0.441930</td>\n",
       "      <td>0.037850</td>\n",
       "      <td>0.490409</td>\n",
       "    </tr>\n",
       "    <tr>\n",
       "      <th>3</th>\n",
       "      <td>1.175669</td>\n",
       "      <td>0.586454</td>\n",
       "      <td>0.203987</td>\n",
       "      <td>0.027478</td>\n",
       "      <td>0.182082</td>\n",
       "    </tr>\n",
       "    <tr>\n",
       "      <th>4</th>\n",
       "      <td>0.879505</td>\n",
       "      <td>0.413058</td>\n",
       "      <td>0.343854</td>\n",
       "      <td>0.017955</td>\n",
       "      <td>0.225134</td>\n",
       "    </tr>\n",
       "    <tr>\n",
       "      <th>...</th>\n",
       "      <td>...</td>\n",
       "      <td>...</td>\n",
       "      <td>...</td>\n",
       "      <td>...</td>\n",
       "      <td>...</td>\n",
       "    </tr>\n",
       "    <tr>\n",
       "      <th>4995</th>\n",
       "      <td>1.175669</td>\n",
       "      <td>0.449571</td>\n",
       "      <td>0.387903</td>\n",
       "      <td>0.044240</td>\n",
       "      <td>0.118286</td>\n",
       "    </tr>\n",
       "    <tr>\n",
       "      <th>4996</th>\n",
       "      <td>1.175669</td>\n",
       "      <td>0.000237</td>\n",
       "      <td>0.859190</td>\n",
       "      <td>0.010705</td>\n",
       "      <td>0.129868</td>\n",
       "    </tr>\n",
       "    <tr>\n",
       "      <th>4997</th>\n",
       "      <td>1.175669</td>\n",
       "      <td>0.105457</td>\n",
       "      <td>0.717432</td>\n",
       "      <td>0.063042</td>\n",
       "      <td>0.114069</td>\n",
       "    </tr>\n",
       "    <tr>\n",
       "      <th>4998</th>\n",
       "      <td>0.879505</td>\n",
       "      <td>0.123393</td>\n",
       "      <td>0.532410</td>\n",
       "      <td>0.026802</td>\n",
       "      <td>0.317396</td>\n",
       "    </tr>\n",
       "    <tr>\n",
       "      <th>4999</th>\n",
       "      <td>1.175669</td>\n",
       "      <td>0.002112</td>\n",
       "      <td>0.711795</td>\n",
       "      <td>0.020129</td>\n",
       "      <td>0.265964</td>\n",
       "    </tr>\n",
       "  </tbody>\n",
       "</table>\n",
       "<p>5000 rows × 5 columns</p>\n",
       "</div>"
      ],
      "text/plain": [
       "        Weight  Prob. walk  Prob. drive  Prob. cycle  Prob. pt\n",
       "0     0.879505    0.001361     0.231612     0.010644  0.756383\n",
       "1     0.881137    0.000098     0.199560     0.020164  0.780178\n",
       "2     1.175669    0.029810     0.441930     0.037850  0.490409\n",
       "3     1.175669    0.586454     0.203987     0.027478  0.182082\n",
       "4     0.879505    0.413058     0.343854     0.017955  0.225134\n",
       "...        ...         ...          ...          ...       ...\n",
       "4995  1.175669    0.449571     0.387903     0.044240  0.118286\n",
       "4996  1.175669    0.000237     0.859190     0.010705  0.129868\n",
       "4997  1.175669    0.105457     0.717432     0.063042  0.114069\n",
       "4998  0.879505    0.123393     0.532410     0.026802  0.317396\n",
       "4999  1.175669    0.002112     0.711795     0.020129  0.265964\n",
       "\n",
       "[5000 rows x 5 columns]"
      ]
     },
     "execution_count": 244,
     "metadata": {},
     "output_type": "execute_result"
    }
   ],
   "source": [
    "simulated_values\n"
   ]
  },
  {
   "cell_type": "markdown",
   "metadata": {},
   "source": [
    "Market shares are calculated using the weighted mean of the\n",
    "individual probabilities."
   ]
  },
  {
   "cell_type": "code",
   "execution_count": 245,
   "metadata": {
    "execution": {
     "iopub.execute_input": "2023-12-06T17:27:39.714470Z",
     "iopub.status.busy": "2023-12-06T17:27:39.713777Z",
     "iopub.status.idle": "2023-12-06T17:27:39.731236Z",
     "shell.execute_reply": "2023-12-06T17:27:39.729559Z",
     "shell.execute_reply.started": "2023-12-06T17:27:39.714414Z"
    },
    "tags": []
   },
   "outputs": [],
   "source": [
    "simulated_values['Weighted walk'] = (\n",
    "    simulated_values['Weight'] * \n",
    "    simulated_values['Prob. walk']\n",
    ")\n",
    "simulated_values['Weighted drive'] = (\n",
    "    simulated_values['Weight'] * \n",
    "    simulated_values['Prob. drive']\n",
    ")\n",
    "simulated_values['Weighted cycle'] = (\n",
    "    simulated_values['Weight'] * \n",
    "    simulated_values['Prob. cycle']\n",
    ")\n",
    "simulated_values['Weighted pt'] = (\n",
    "    simulated_values['Weight'] * \n",
    "    simulated_values['Prob. pt']\n",
    ")"
   ]
  },
  {
   "cell_type": "code",
   "execution_count": 246,
   "metadata": {
    "execution": {
     "iopub.execute_input": "2023-12-06T17:27:39.933048Z",
     "iopub.status.busy": "2023-12-06T17:27:39.932486Z",
     "iopub.status.idle": "2023-12-06T17:27:39.948114Z",
     "shell.execute_reply": "2023-12-06T17:27:39.946437Z",
     "shell.execute_reply.started": "2023-12-06T17:27:39.932994Z"
    },
    "tags": []
   },
   "outputs": [
    {
     "name": "stdout",
     "output_type": "stream",
     "text": [
      "Market share for walk: 17.8%\n",
      "Market share for drive: 43.0%\n",
      "Market share for cycle: 3.0%\n",
      "Market share for pt: 36.2%\n",
      "0.17802347584028297\n",
      "0.42950515854071875\n"
     ]
    }
   ],
   "source": [
    "market_share_walk = simulated_values['Weighted walk'].mean()\n",
    "print(f'Market share for walk: {100*market_share_walk:.1f}%')\n",
    "market_share_drive = simulated_values['Weighted drive'].mean()\n",
    "print(f'Market share for drive: {100*market_share_drive:.1f}%')\n",
    "market_share_cycle = simulated_values['Weighted cycle'].mean()\n",
    "print(f'Market share for cycle: {100*market_share_cycle:.1f}%')\n",
    "market_share_pt = simulated_values['Weighted pt'].mean()\n",
    "print(f'Market share for pt: {100*market_share_pt:.1f}%')\n",
    "\n",
    "print(market_share_walk)\n",
    "print(market_share_drive)\n",
    "\n"
   ]
  },
  {
   "cell_type": "markdown",
   "metadata": {},
   "source": [
    "#### Perform sample enumeration"
   ]
  },
  {
   "cell_type": "markdown",
   "metadata": {},
   "source": [
    "In order to calculate confidence intervals, we need to re-estimate the parameters using bootstrapping."
   ]
  },
  {
   "cell_type": "code",
   "execution_count": 297,
   "metadata": {
    "execution": {
     "iopub.execute_input": "2023-12-06T17:36:05.844837Z",
     "iopub.status.busy": "2023-12-06T17:36:05.844067Z",
     "iopub.status.idle": "2023-12-06T17:36:08.499325Z",
     "shell.execute_reply": "2023-12-06T17:36:08.497383Z",
     "shell.execute_reply.started": "2023-12-06T17:36:05.844779Z"
    },
    "tags": []
   },
   "outputs": [
    {
     "name": "stderr",
     "output_type": "stream",
     "text": [
      "You have not defined a name for the model. The output files are named from the model name. The default is [biogemeModelDefaultName]\n",
      " 40%|████████████████████████████████▍                                                | 40/100 [00:30<00:45,  1.33it/s]\n"
     ]
    },
    {
     "ename": "PermissionError",
     "evalue": "[Errno 13] Permission denied: '__biogemeModelDefaultName.iter'",
     "output_type": "error",
     "traceback": [
      "\u001b[1;31m---------------------------------------------------------------------------\u001b[0m",
      "\u001b[1;31mPermissionError\u001b[0m                           Traceback (most recent call last)",
      "\u001b[1;32m<ipython-input-297-1f236cafbc72>\u001b[0m in \u001b[0;36m<module>\u001b[1;34m\u001b[0m\n\u001b[0;32m      1\u001b[0m \u001b[0mbiogeme_model3\u001b[0m \u001b[1;33m=\u001b[0m \u001b[0mbio\u001b[0m\u001b[1;33m.\u001b[0m\u001b[0mBIOGEME\u001b[0m\u001b[1;33m(\u001b[0m\u001b[0mdatabase\u001b[0m\u001b[1;33m,\u001b[0m \u001b[0mlogprob_model3\u001b[0m\u001b[1;33m)\u001b[0m\u001b[1;33m\u001b[0m\u001b[1;33m\u001b[0m\u001b[0m\n\u001b[0;32m      2\u001b[0m \u001b[0mbiogeme_model3\u001b[0m\u001b[1;33m.\u001b[0m\u001b[0mbootstrap_samples\u001b[0m\u001b[1;33m=\u001b[0m\u001b[1;36m100\u001b[0m\u001b[1;33m\u001b[0m\u001b[1;33m\u001b[0m\u001b[0m\n\u001b[1;32m----> 3\u001b[1;33m \u001b[0mresults_bootstrapping\u001b[0m \u001b[1;33m=\u001b[0m \u001b[0mbiogeme_model3\u001b[0m\u001b[1;33m.\u001b[0m\u001b[0mestimate\u001b[0m\u001b[1;33m(\u001b[0m\u001b[0mrun_bootstrap\u001b[0m\u001b[1;33m=\u001b[0m\u001b[1;32mTrue\u001b[0m\u001b[1;33m)\u001b[0m\u001b[1;33m\u001b[0m\u001b[1;33m\u001b[0m\u001b[0m\n\u001b[0m",
      "\u001b[1;32m~\\anaconda3\\lib\\site-packages\\biogeme\\biogeme.py\u001b[0m in \u001b[0;36mestimate\u001b[1;34m(self, recycle, run_bootstrap, **kwargs)\u001b[0m\n\u001b[0;32m   1504\u001b[0m                     \u001b[0msample\u001b[0m \u001b[1;33m=\u001b[0m \u001b[0mself\u001b[0m\u001b[1;33m.\u001b[0m\u001b[0mdatabase\u001b[0m\u001b[1;33m.\u001b[0m\u001b[0msampleWithReplacement\u001b[0m\u001b[1;33m(\u001b[0m\u001b[1;33m)\u001b[0m\u001b[1;33m\u001b[0m\u001b[1;33m\u001b[0m\u001b[0m\n\u001b[0;32m   1505\u001b[0m                     \u001b[0mself\u001b[0m\u001b[1;33m.\u001b[0m\u001b[0mtheC\u001b[0m\u001b[1;33m.\u001b[0m\u001b[0msetData\u001b[0m\u001b[1;33m(\u001b[0m\u001b[0msample\u001b[0m\u001b[1;33m)\u001b[0m\u001b[1;33m\u001b[0m\u001b[1;33m\u001b[0m\u001b[0m\n\u001b[1;32m-> 1506\u001b[1;33m                 \u001b[0mx_br\u001b[0m\u001b[1;33m,\u001b[0m \u001b[0m_\u001b[0m \u001b[1;33m=\u001b[0m \u001b[0mself\u001b[0m\u001b[1;33m.\u001b[0m\u001b[0moptimize\u001b[0m\u001b[1;33m(\u001b[0m\u001b[0mxstar\u001b[0m\u001b[1;33m)\u001b[0m\u001b[1;33m\u001b[0m\u001b[1;33m\u001b[0m\u001b[0m\n\u001b[0m\u001b[0;32m   1507\u001b[0m                 \u001b[0mself\u001b[0m\u001b[1;33m.\u001b[0m\u001b[0mbootstrap_results\u001b[0m\u001b[1;33m[\u001b[0m\u001b[0mb\u001b[0m\u001b[1;33m]\u001b[0m \u001b[1;33m=\u001b[0m \u001b[0mx_br\u001b[0m\u001b[1;33m\u001b[0m\u001b[1;33m\u001b[0m\u001b[0m\n\u001b[0;32m   1508\u001b[0m \u001b[1;33m\u001b[0m\u001b[0m\n",
      "\u001b[1;32m~\\anaconda3\\lib\\site-packages\\biogeme\\biogeme.py\u001b[0m in \u001b[0;36moptimize\u001b[1;34m(self, starting_values)\u001b[0m\n\u001b[0;32m   1708\u001b[0m         )\n\u001b[0;32m   1709\u001b[0m \u001b[1;33m\u001b[0m\u001b[0m\n\u001b[1;32m-> 1710\u001b[1;33m         results = self._algorithm(\n\u001b[0m\u001b[0;32m   1711\u001b[0m             \u001b[0mfct\u001b[0m\u001b[1;33m=\u001b[0m\u001b[0mthe_function\u001b[0m\u001b[1;33m,\u001b[0m\u001b[1;33m\u001b[0m\u001b[1;33m\u001b[0m\u001b[0m\n\u001b[0;32m   1712\u001b[0m             \u001b[0minitBetas\u001b[0m\u001b[1;33m=\u001b[0m\u001b[0mstarting_values\u001b[0m\u001b[1;33m,\u001b[0m\u001b[1;33m\u001b[0m\u001b[1;33m\u001b[0m\u001b[0m\n",
      "\u001b[1;32m~\\anaconda3\\lib\\site-packages\\biogeme\\optimization.py\u001b[0m in \u001b[0;36msimple_bounds_newton_algorithm_for_biogeme\u001b[1;34m(fct, initBetas, bounds, variable_names, parameters)\u001b[0m\n\u001b[0;32m    495\u001b[0m             \u001b[1;34mf'with trust region for simple bounds'\u001b[0m\u001b[1;33m\u001b[0m\u001b[1;33m\u001b[0m\u001b[0m\n\u001b[0;32m    496\u001b[0m         )\n\u001b[1;32m--> 497\u001b[1;33m     return simple_bounds_newton_algorithm(\n\u001b[0m\u001b[0;32m    498\u001b[0m         \u001b[0mthe_function\u001b[0m\u001b[1;33m=\u001b[0m\u001b[0mfct\u001b[0m\u001b[1;33m,\u001b[0m\u001b[1;33m\u001b[0m\u001b[1;33m\u001b[0m\u001b[0m\n\u001b[0;32m    499\u001b[0m         \u001b[0mbounds\u001b[0m\u001b[1;33m=\u001b[0m\u001b[0mBounds\u001b[0m\u001b[1;33m(\u001b[0m\u001b[0mbounds\u001b[0m\u001b[1;33m)\u001b[0m\u001b[1;33m,\u001b[0m\u001b[1;33m\u001b[0m\u001b[1;33m\u001b[0m\u001b[0m\n",
      "\u001b[1;32m~\\anaconda3\\lib\\site-packages\\biogeme_optimization\\simple_bounds.py\u001b[0m in \u001b[0;36msimple_bounds_newton_algorithm\u001b[1;34m(the_function, bounds, starting_point, variable_names, proportion_analytical_hessian, first_radius, cgtol, maxiter, eta1, eta2, enlarging_factor)\u001b[0m\n\u001b[0;32m    160\u001b[0m \u001b[1;33m\u001b[0m\u001b[0m\n\u001b[0;32m    161\u001b[0m     \u001b[0miterate\u001b[0m \u001b[1;33m=\u001b[0m \u001b[0mbounds\u001b[0m\u001b[1;33m.\u001b[0m\u001b[0mproject\u001b[0m\u001b[1;33m(\u001b[0m\u001b[0mstarting_point\u001b[0m\u001b[1;33m)\u001b[0m\u001b[1;33m\u001b[0m\u001b[1;33m\u001b[0m\u001b[0m\n\u001b[1;32m--> 162\u001b[1;33m     \u001b[0mcurrent_function\u001b[0m \u001b[1;33m=\u001b[0m \u001b[0mthe_hybrid_function\u001b[0m\u001b[1;33m.\u001b[0m\u001b[0mcalculate_function_and_derivatives\u001b[0m\u001b[1;33m(\u001b[0m\u001b[0miterate\u001b[0m\u001b[1;33m)\u001b[0m\u001b[1;33m\u001b[0m\u001b[1;33m\u001b[0m\u001b[0m\n\u001b[0m\u001b[0;32m    163\u001b[0m     \u001b[1;32mif\u001b[0m \u001b[0mcurrent_function\u001b[0m \u001b[1;32mis\u001b[0m \u001b[1;32mNone\u001b[0m\u001b[1;33m:\u001b[0m\u001b[1;33m\u001b[0m\u001b[1;33m\u001b[0m\u001b[0m\n\u001b[0;32m    164\u001b[0m         \u001b[0mmessages\u001b[0m \u001b[1;33m=\u001b[0m \u001b[0mthe_function\u001b[0m\u001b[1;33m.\u001b[0m\u001b[0mmessages\u001b[0m\u001b[1;33m\u001b[0m\u001b[1;33m\u001b[0m\u001b[0m\n",
      "\u001b[1;32m~\\anaconda3\\lib\\site-packages\\biogeme_optimization\\hybrid_function.py\u001b[0m in \u001b[0;36mcalculate_function_and_derivatives\u001b[1;34m(self, iterate)\u001b[0m\n\u001b[0;32m     81\u001b[0m         \"\"\"\n\u001b[0;32m     82\u001b[0m         \u001b[1;32mif\u001b[0m \u001b[0mself\u001b[0m\u001b[1;33m.\u001b[0m\u001b[0mcan_calculate_analytical\u001b[0m\u001b[1;33m(\u001b[0m\u001b[1;33m)\u001b[0m\u001b[1;33m:\u001b[0m\u001b[1;33m\u001b[0m\u001b[1;33m\u001b[0m\u001b[0m\n\u001b[1;32m---> 83\u001b[1;33m             \u001b[0mfunction_data\u001b[0m \u001b[1;33m=\u001b[0m \u001b[0mself\u001b[0m\u001b[1;33m.\u001b[0m\u001b[0m_calculate_function_and_derivatives_analytical\u001b[0m\u001b[1;33m(\u001b[0m\u001b[0miterate\u001b[0m\u001b[1;33m)\u001b[0m\u001b[1;33m\u001b[0m\u001b[1;33m\u001b[0m\u001b[0m\n\u001b[0m\u001b[0;32m     84\u001b[0m         \u001b[1;32melse\u001b[0m\u001b[1;33m:\u001b[0m\u001b[1;33m\u001b[0m\u001b[1;33m\u001b[0m\u001b[0m\n\u001b[0;32m     85\u001b[0m             \u001b[0mfunction_data\u001b[0m \u001b[1;33m=\u001b[0m \u001b[0mself\u001b[0m\u001b[1;33m.\u001b[0m\u001b[0m_calculate_function_and_derivatives_bfgs\u001b[0m\u001b[1;33m(\u001b[0m\u001b[0miterate\u001b[0m\u001b[1;33m)\u001b[0m\u001b[1;33m\u001b[0m\u001b[1;33m\u001b[0m\u001b[0m\n",
      "\u001b[1;32m~\\anaconda3\\lib\\site-packages\\biogeme_optimization\\hybrid_function.py\u001b[0m in \u001b[0;36m_calculate_function_and_derivatives_analytical\u001b[1;34m(self, iterate)\u001b[0m\n\u001b[0;32m    133\u001b[0m             \u001b[1;32mif\u001b[0m \u001b[0mself\u001b[0m\u001b[1;33m.\u001b[0m\u001b[0mthe_function\u001b[0m\u001b[1;33m.\u001b[0m\u001b[0mcheck_insufficient_progress\u001b[0m\u001b[1;33m(\u001b[0m\u001b[0mself\u001b[0m\u001b[1;33m.\u001b[0m\u001b[0mprevious_x\u001b[0m\u001b[1;33m)\u001b[0m\u001b[1;33m:\u001b[0m\u001b[1;33m\u001b[0m\u001b[1;33m\u001b[0m\u001b[0m\n\u001b[0;32m    134\u001b[0m                 \u001b[1;32mreturn\u001b[0m \u001b[1;32mNone\u001b[0m\u001b[1;33m\u001b[0m\u001b[1;33m\u001b[0m\u001b[0m\n\u001b[1;32m--> 135\u001b[1;33m         \u001b[0mfunction_data\u001b[0m \u001b[1;33m=\u001b[0m \u001b[0mself\u001b[0m\u001b[1;33m.\u001b[0m\u001b[0mthe_function\u001b[0m\u001b[1;33m.\u001b[0m\u001b[0mf_g_h\u001b[0m\u001b[1;33m(\u001b[0m\u001b[1;33m)\u001b[0m\u001b[1;33m\u001b[0m\u001b[1;33m\u001b[0m\u001b[0m\n\u001b[0m\u001b[0;32m    136\u001b[0m         \u001b[0mself\u001b[0m\u001b[1;33m.\u001b[0m\u001b[0mnumber_of_analytical_hessians\u001b[0m \u001b[1;33m+=\u001b[0m \u001b[1;36m1\u001b[0m\u001b[1;33m\u001b[0m\u001b[1;33m\u001b[0m\u001b[0m\n\u001b[0;32m    137\u001b[0m         \u001b[0mself\u001b[0m\u001b[1;33m.\u001b[0m\u001b[0mnumber_of_matrices\u001b[0m \u001b[1;33m+=\u001b[0m \u001b[1;36m1\u001b[0m\u001b[1;33m\u001b[0m\u001b[1;33m\u001b[0m\u001b[0m\n",
      "\u001b[1;32m~\\anaconda3\\lib\\site-packages\\biogeme_optimization\\function.py\u001b[0m in \u001b[0;36mf_g_h\u001b[1;34m(self)\u001b[0m\n\u001b[0;32m    212\u001b[0m         \u001b[0mfunction_data\u001b[0m \u001b[1;33m=\u001b[0m \u001b[0mself\u001b[0m\u001b[1;33m.\u001b[0m\u001b[0mstored_hessian\u001b[0m\u001b[1;33m.\u001b[0m\u001b[0mget\u001b[0m\u001b[1;33m(\u001b[0m\u001b[0mself\u001b[0m\u001b[1;33m.\u001b[0m\u001b[0mx_tuple\u001b[0m\u001b[1;33m)\u001b[0m\u001b[1;33m\u001b[0m\u001b[1;33m\u001b[0m\u001b[0m\n\u001b[0;32m    213\u001b[0m         \u001b[1;32mif\u001b[0m \u001b[0mfunction_data\u001b[0m \u001b[1;32mis\u001b[0m \u001b[1;32mNone\u001b[0m\u001b[1;33m:\u001b[0m\u001b[1;33m\u001b[0m\u001b[1;33m\u001b[0m\u001b[0m\n\u001b[1;32m--> 214\u001b[1;33m             \u001b[0mfunction_data\u001b[0m \u001b[1;33m=\u001b[0m \u001b[0mself\u001b[0m\u001b[1;33m.\u001b[0m\u001b[0m_f_g_h\u001b[0m\u001b[1;33m(\u001b[0m\u001b[1;33m)\u001b[0m\u001b[1;33m\u001b[0m\u001b[1;33m\u001b[0m\u001b[0m\n\u001b[0m\u001b[0;32m    215\u001b[0m             \u001b[0mself\u001b[0m\u001b[1;33m.\u001b[0m\u001b[0mstored_hessian\u001b[0m\u001b[1;33m[\u001b[0m\u001b[0mself\u001b[0m\u001b[1;33m.\u001b[0m\u001b[0mx_tuple\u001b[0m\u001b[1;33m]\u001b[0m \u001b[1;33m=\u001b[0m \u001b[0mfunction_data\u001b[0m\u001b[1;33m\u001b[0m\u001b[1;33m\u001b[0m\u001b[0m\n\u001b[0;32m    216\u001b[0m             \u001b[0mself\u001b[0m\u001b[1;33m.\u001b[0m\u001b[0mstored_gradient\u001b[0m\u001b[1;33m[\u001b[0m\u001b[0mself\u001b[0m\u001b[1;33m.\u001b[0m\u001b[0mx_tuple\u001b[0m\u001b[1;33m]\u001b[0m \u001b[1;33m=\u001b[0m \u001b[0mfunction_data\u001b[0m\u001b[1;33m\u001b[0m\u001b[1;33m\u001b[0m\u001b[0m\n",
      "\u001b[1;32m~\\anaconda3\\lib\\site-packages\\biogeme\\negative_likelihood.py\u001b[0m in \u001b[0;36m_f_g_h\u001b[1;34m(self)\u001b[0m\n\u001b[0;32m     66\u001b[0m             \u001b[1;32mraise\u001b[0m \u001b[0mexcep\u001b[0m\u001b[1;33m.\u001b[0m\u001b[0mBiogemeError\u001b[0m\u001b[1;33m(\u001b[0m\u001b[1;34m'The variables must be set first.'\u001b[0m\u001b[1;33m)\u001b[0m\u001b[1;33m\u001b[0m\u001b[1;33m\u001b[0m\u001b[0m\n\u001b[0;32m     67\u001b[0m \u001b[1;33m\u001b[0m\u001b[0m\n\u001b[1;32m---> 68\u001b[1;33m         f, g, h, _ = self.like_deriv(\n\u001b[0m\u001b[0;32m     69\u001b[0m             \u001b[0mself\u001b[0m\u001b[1;33m.\u001b[0m\u001b[0mx\u001b[0m\u001b[1;33m,\u001b[0m \u001b[0mscaled\u001b[0m\u001b[1;33m=\u001b[0m\u001b[1;32mFalse\u001b[0m\u001b[1;33m,\u001b[0m \u001b[0mhessian\u001b[0m\u001b[1;33m=\u001b[0m\u001b[1;32mTrue\u001b[0m\u001b[1;33m,\u001b[0m \u001b[0mbhhh\u001b[0m\u001b[1;33m=\u001b[0m\u001b[1;32mFalse\u001b[0m\u001b[1;33m,\u001b[0m \u001b[0mbatch\u001b[0m\u001b[1;33m=\u001b[0m\u001b[1;32mNone\u001b[0m\u001b[1;33m\u001b[0m\u001b[1;33m\u001b[0m\u001b[0m\n\u001b[0;32m     70\u001b[0m         )\n",
      "\u001b[1;32m~\\anaconda3\\lib\\site-packages\\biogeme\\biogeme.py\u001b[0m in \u001b[0;36mcalculateLikelihoodAndDerivatives\u001b[1;34m(self, x, scaled, hessian, bhhh, batch)\u001b[0m\n\u001b[0;32m   1102\u001b[0m                 \u001b[0mself\u001b[0m\u001b[1;33m.\u001b[0m\u001b[0mbestIteration\u001b[0m \u001b[1;33m=\u001b[0m \u001b[0mf\u001b[0m\u001b[1;33m\u001b[0m\u001b[1;33m\u001b[0m\u001b[0m\n\u001b[0;32m   1103\u001b[0m             \u001b[1;32mif\u001b[0m \u001b[0mf\u001b[0m \u001b[1;33m>=\u001b[0m \u001b[0mself\u001b[0m\u001b[1;33m.\u001b[0m\u001b[0mbestIteration\u001b[0m\u001b[1;33m:\u001b[0m\u001b[1;33m\u001b[0m\u001b[1;33m\u001b[0m\u001b[0m\n\u001b[1;32m-> 1104\u001b[1;33m                 with open(\n\u001b[0m\u001b[0;32m   1105\u001b[0m                     \u001b[0mself\u001b[0m\u001b[1;33m.\u001b[0m\u001b[0m_saveIterationsFileName\u001b[0m\u001b[1;33m(\u001b[0m\u001b[1;33m)\u001b[0m\u001b[1;33m,\u001b[0m\u001b[1;33m\u001b[0m\u001b[1;33m\u001b[0m\u001b[0m\n\u001b[0;32m   1106\u001b[0m                     \u001b[1;34m'w'\u001b[0m\u001b[1;33m,\u001b[0m\u001b[1;33m\u001b[0m\u001b[1;33m\u001b[0m\u001b[0m\n",
      "\u001b[1;31mPermissionError\u001b[0m: [Errno 13] Permission denied: '__biogemeModelDefaultName.iter'"
     ]
    }
   ],
   "source": [
    "biogeme_model3 = bio.BIOGEME(database, logprob_model3)\n",
    "biogeme_model3.bootstrap_samples=100\n",
    "results_bootstrapping = biogeme_model3.estimate(run_bootstrap=True)"
   ]
  },
  {
   "cell_type": "markdown",
   "metadata": {},
   "source": [
    "We obtain a sample of values for the parameters. We use then to calculate empirically (that is, using simulation), the 90% confidence intervals on the simulated quantities."
   ]
  },
  {
   "cell_type": "code",
   "execution_count": null,
   "metadata": {
    "execution": {
     "iopub.execute_input": "2023-12-06T17:36:08.502935Z",
     "iopub.status.busy": "2023-12-06T17:36:08.502234Z",
     "iopub.status.idle": "2023-12-06T17:36:08.511872Z",
     "shell.execute_reply": "2023-12-06T17:36:08.510695Z",
     "shell.execute_reply.started": "2023-12-06T17:36:08.502866Z"
    },
    "tags": []
   },
   "outputs": [],
   "source": [
    "betas = biogeme_model3.freeBetaNames()\n",
    "b = results_bootstrapping.getBetasForSensitivityAnalysis(betas, useBootstrap = False)"
   ]
  },
  {
   "cell_type": "code",
   "execution_count": null,
   "metadata": {
    "execution": {
     "iopub.execute_input": "2023-12-06T17:36:08.513495Z",
     "iopub.status.busy": "2023-12-06T17:36:08.513128Z",
     "iopub.status.idle": "2023-12-06T17:36:37.441613Z",
     "shell.execute_reply": "2023-12-06T17:36:37.440612Z",
     "shell.execute_reply.started": "2023-12-06T17:36:08.513463Z"
    },
    "tags": []
   },
   "outputs": [],
   "source": [
    "left, right = biosim.confidenceIntervals(b, 0.9)"
   ]
  },
  {
   "cell_type": "code",
   "execution_count": null,
   "metadata": {
    "execution": {
     "iopub.execute_input": "2023-12-06T17:36:37.443829Z",
     "iopub.status.busy": "2023-12-06T17:36:37.443550Z",
     "iopub.status.idle": "2023-12-06T17:36:37.457052Z",
     "shell.execute_reply": "2023-12-06T17:36:37.455961Z",
     "shell.execute_reply.started": "2023-12-06T17:36:37.443804Z"
    },
    "tags": []
   },
   "outputs": [],
   "source": [
    "left['Weighted walk'] = (\n",
    "    left['Weight'] * \n",
    "    left['Prob. walk']\n",
    ")\n",
    "left['Weighted drive'] = (\n",
    "    left['Weight'] * \n",
    "    left['Prob. drive']\n",
    ")\n",
    "left['Weighted pt'] = (\n",
    "    left['Weight'] * \n",
    "    left['Prob. pt']\n",
    ")\n",
    "left['Weighted cycle'] = (\n",
    "    left['Weight'] * \n",
    "    left['Prob. cycle']\n",
    ")"
   ]
  },
  {
   "cell_type": "code",
   "execution_count": null,
   "metadata": {
    "execution": {
     "iopub.execute_input": "2023-12-06T17:36:37.458368Z",
     "iopub.status.busy": "2023-12-06T17:36:37.458095Z",
     "iopub.status.idle": "2023-12-06T17:36:37.498633Z",
     "shell.execute_reply": "2023-12-06T17:36:37.497171Z",
     "shell.execute_reply.started": "2023-12-06T17:36:37.458343Z"
    },
    "tags": []
   },
   "outputs": [],
   "source": [
    "left_market_share_walk = left['Weighted walk'].mean()\n",
    "left_market_share_drive = left['Weighted drive'].mean()\n",
    "left_market_share_pt = left['Weighted pt'].mean()\n",
    "left_market_share_cycle = left['Weighted cycle'].mean()"
   ]
  },
  {
   "cell_type": "code",
   "execution_count": null,
   "metadata": {
    "execution": {
     "iopub.execute_input": "2023-12-06T17:36:37.500571Z",
     "iopub.status.busy": "2023-12-06T17:36:37.500150Z",
     "iopub.status.idle": "2023-12-06T17:36:37.538345Z",
     "shell.execute_reply": "2023-12-06T17:36:37.536903Z",
     "shell.execute_reply.started": "2023-12-06T17:36:37.500528Z"
    },
    "tags": []
   },
   "outputs": [],
   "source": [
    "right['Weighted walk'] = (\n",
    "    right['Weight'] * \n",
    "    right['Prob. walk']\n",
    ")\n",
    "right['Weighted drive'] = (\n",
    "    right['Weight'] * \n",
    "    right['Prob. drive']\n",
    ")\n",
    "right['Weighted pt'] = (\n",
    "    right['Weight'] * \n",
    "    right['Prob. pt']\n",
    ")\n",
    "right['Weighted cycle'] = (\n",
    "    right['Weight'] * \n",
    "    right['Prob. cycle']\n",
    ")"
   ]
  },
  {
   "cell_type": "code",
   "execution_count": null,
   "metadata": {
    "execution": {
     "iopub.execute_input": "2023-12-06T17:36:37.539856Z",
     "iopub.status.busy": "2023-12-06T17:36:37.539560Z",
     "iopub.status.idle": "2023-12-06T17:36:37.583017Z",
     "shell.execute_reply": "2023-12-06T17:36:37.581334Z",
     "shell.execute_reply.started": "2023-12-06T17:36:37.539827Z"
    },
    "tags": []
   },
   "outputs": [],
   "source": [
    "right_market_share_walk = right['Weighted walk'].mean()\n",
    "right_market_share_drive = right['Weighted drive'].mean()\n",
    "right_market_share_pt = right['Weighted pt'].mean()\n",
    "right_market_share_cycle = right['Weighted cycle'].mean()\n"
   ]
  },
  {
   "cell_type": "code",
   "execution_count": null,
   "metadata": {
    "execution": {
     "iopub.execute_input": "2023-12-06T17:36:37.585638Z",
     "iopub.status.busy": "2023-12-06T17:36:37.585246Z",
     "iopub.status.idle": "2023-12-06T17:36:37.630377Z",
     "shell.execute_reply": "2023-12-06T17:36:37.627966Z",
     "shell.execute_reply.started": "2023-12-06T17:36:37.585604Z"
    },
    "tags": []
   },
   "outputs": [],
   "source": [
    "print(\n",
    "    f'Market share for walking: {100*market_share_walk:.1f}% '\n",
    "    f'CI: ['\n",
    "    f'{100*left_market_share_walk:.1f}%-'\n",
    "    f'{100*right_market_share_walk:.1f}'\n",
    "    f']'\n",
    ")\n",
    "print(\n",
    "    f'Market share for driving: {100*market_share_drive:.1f}% '\n",
    "    f'CI: ['\n",
    "    f'{100*left_market_share_drive:.1f}%-'\n",
    "    f'{100*right_market_share_drive:.1f}'\n",
    "    f']'\n",
    ")\n",
    "print(\n",
    "    f'Market share for public transportation: {100*market_share_pt:.1f}% '\n",
    "    f'CI: ['\n",
    "    f'{100*left_market_share_pt:.1f}%-'\n",
    "    f'{100*right_market_share_pt:.1f}'\n",
    "    f']'\n",
    ")\n",
    "print(\n",
    "    f'Market share for cycling: {100*market_share_cycle:.1f}% '\n",
    "    f'CI: ['\n",
    "    f'{100*left_market_share_cycle:.1f}%-'\n",
    "    f'{100*right_market_share_cycle:.1f}'\n",
    "    f']'\n",
    ")"
   ]
  },
  {
   "cell_type": "markdown",
   "metadata": {},
   "source": [
    "#### Comparing with the weighted market shares computed using the actual choices"
   ]
  },
  {
   "cell_type": "markdown",
   "metadata": {},
   "source": [
    "Instead of using the predictive Model we will use the actual choice of the individual from the sample and the weights computed earlier to calculate the Markets shares."
   ]
  },
  {
   "cell_type": "code",
   "execution_count": null,
   "metadata": {
    "execution": {
     "iopub.execute_input": "2023-12-06T17:36:52.238948Z",
     "iopub.status.busy": "2023-12-06T17:36:52.238051Z",
     "iopub.status.idle": "2023-12-06T17:36:52.255209Z",
     "shell.execute_reply": "2023-12-06T17:36:52.253181Z",
     "shell.execute_reply.started": "2023-12-06T17:36:52.238888Z"
    },
    "tags": []
   },
   "outputs": [],
   "source": [
    "LPMC['walk']= (LPMC.travel_mode==1)\n",
    "LPMC['drive']= (LPMC.travel_mode==4)\n",
    "LPMC['cycle']=(LPMC.travel_mode==2)\n",
    "LPMC['pt']=(LPMC.travel_mode==3)"
   ]
  },
  {
   "cell_type": "code",
   "execution_count": null,
   "metadata": {
    "execution": {
     "iopub.execute_input": "2023-12-06T17:36:52.645522Z",
     "iopub.status.busy": "2023-12-06T17:36:52.644771Z",
     "iopub.status.idle": "2023-12-06T17:36:52.662101Z",
     "shell.execute_reply": "2023-12-06T17:36:52.660406Z",
     "shell.execute_reply.started": "2023-12-06T17:36:52.645463Z"
    },
    "tags": []
   },
   "outputs": [],
   "source": [
    "LPMC ['Weighted walk real'] = (\n",
    "    LPMC ['Weight'] * \n",
    "    LPMC ['walk']\n",
    ")\n",
    "LPMC ['Weighted drive real'] = (\n",
    "    LPMC ['Weight'] * \n",
    "    LPMC ['drive']\n",
    ")\n",
    "LPMC ['Weighted cycle real'] = (\n",
    "    LPMC ['Weight'] * \n",
    "    LPMC ['cycle']\n",
    ")\n",
    "LPMC ['Weighted pt real'] = (\n",
    "    LPMC ['Weight'] * \n",
    "    LPMC ['pt']\n",
    ")"
   ]
  },
  {
   "cell_type": "code",
   "execution_count": null,
   "metadata": {
    "execution": {
     "iopub.execute_input": "2023-12-06T17:36:52.981152Z",
     "iopub.status.busy": "2023-12-06T17:36:52.980505Z",
     "iopub.status.idle": "2023-12-06T17:36:52.997786Z",
     "shell.execute_reply": "2023-12-06T17:36:52.996319Z",
     "shell.execute_reply.started": "2023-12-06T17:36:52.981096Z"
    },
    "tags": []
   },
   "outputs": [],
   "source": [
    "market_share_walk_real = (LPMC['Weighted walk real'].sum())/5000\n",
    "print(f'Market share for walking from the sample: {100*market_share_walk_real:.1f}%')\n",
    "\n",
    "market_share_cycle_real = (LPMC['Weighted cycle real'].sum())/5000\n",
    "print(f'Market share for cycling from the sample: {100*market_share_cycle_real:.1f}%')\n",
    "\n",
    "market_share_drive_real = (LPMC['Weighted drive real'].sum())/5000\n",
    "print(f'Market share for driving from the sample: {100*market_share_drive_real:.1f}%')\n",
    "\n",
    "market_share_pt_real = (LPMC['Weighted pt real'].sum())/5000\n",
    "print(f'Market share for public transport from the sample: {100*market_share_pt_real:.1f}%')"
   ]
  },
  {
   "cell_type": "markdown",
   "metadata": {},
   "source": [
    "## Quick Data Cleaning"
   ]
  },
  {
   "cell_type": "markdown",
   "metadata": {},
   "source": [
    "We need to exlude the boolean variables created during the caluclation of market share because Jupyter can't simulate bolean"
   ]
  },
  {
   "cell_type": "code",
   "execution_count": null,
   "metadata": {
    "execution": {
     "iopub.execute_input": "2023-12-06T17:38:47.804235Z",
     "iopub.status.busy": "2023-12-06T17:38:47.803420Z",
     "iopub.status.idle": "2023-12-06T17:38:47.819943Z",
     "shell.execute_reply": "2023-12-06T17:38:47.818420Z",
     "shell.execute_reply.started": "2023-12-06T17:38:47.804176Z"
    },
    "tags": []
   },
   "outputs": [],
   "source": [
    "my_cols = list(LPMC.columns)\n",
    " \n",
    "# removing the desired column\n",
    "my_cols.remove('walk')\n",
    "my_cols.remove('drive')\n",
    "my_cols.remove('cycle')\n",
    "my_cols.remove('pt')\n",
    "\n",
    "\n",
    "\n",
    "LPMC2 = LPMC[my_cols]"
   ]
  },
  {
   "cell_type": "markdown",
   "metadata": {},
   "source": [
    "# Forecasting"
   ]
  },
  {
   "cell_type": "markdown",
   "metadata": {},
   "source": [
    "### Scenario 1"
   ]
  },
  {
   "cell_type": "markdown",
   "metadata": {},
   "source": [
    "Taking Model pref ( model 3) implemantation of the first scenario, where the price for automobilist increase by 1.5£ "
   ]
  },
  {
   "cell_type": "code",
   "execution_count": null,
   "metadata": {
    "execution": {
     "iopub.execute_input": "2023-12-06T18:05:21.437230Z",
     "iopub.status.busy": "2023-12-06T18:05:21.436466Z",
     "iopub.status.idle": "2023-12-06T18:05:21.446298Z",
     "shell.execute_reply": "2023-12-06T18:05:21.444387Z",
     "shell.execute_reply.started": "2023-12-06T18:05:21.437172Z"
    },
    "tags": []
   },
   "outputs": [],
   "source": [
    "\n",
    "v_drive_scenario1  = segmented_asc_drive + beta_elapsed_time_drive * boxcox_time_drive + beta_cost * (cost_drive+1.5)\n"
   ]
  },
  {
   "cell_type": "markdown",
   "metadata": {},
   "source": [
    "Using the same method as the one we used to compute the market share before, we update the probability : $P(i|x_n; θ)$ for each option $i$ "
   ]
  },
  {
   "cell_type": "code",
   "execution_count": null,
   "metadata": {
    "execution": {
     "iopub.execute_input": "2023-12-06T18:05:23.424816Z",
     "iopub.status.busy": "2023-12-06T18:05:23.424034Z",
     "iopub.status.idle": "2023-12-06T18:05:23.437287Z",
     "shell.execute_reply": "2023-12-06T18:05:23.435768Z",
     "shell.execute_reply.started": "2023-12-06T18:05:23.424756Z"
    },
    "tags": []
   },
   "outputs": [],
   "source": [
    "prob_walk_s1 =  exp(v_walk_model3) /( exp(v_walk_model3)+ exp(v_drive_scenario1)+exp(v_pt_model3)+exp(v_cycle_model3))\n",
    "prob_drive_s1 = exp(v_drive_scenario1) /( exp(v_walk_model3)+ exp(v_drive_scenario1)+exp(v_pt_model3)+exp(v_cycle_model3))\n",
    "prob_cycle_s1 = exp(v_cycle_model3) /( exp(v_walk_model3)+ exp(v_drive_scenario1)+exp(v_pt_model3)+exp(v_cycle_model3))\n",
    "prob_pt_s1 =  exp(v_pt_model3) /( exp(v_walk_model3)+ exp(v_drive_scenario1)+exp(v_pt_model3)+exp(v_cycle_model3))"
   ]
  },
  {
   "cell_type": "markdown",
   "metadata": {},
   "source": [
    "Simulating the results"
   ]
  },
  {
   "cell_type": "code",
   "execution_count": null,
   "metadata": {
    "execution": {
     "iopub.execute_input": "2023-12-06T18:05:23.531714Z",
     "iopub.status.busy": "2023-12-06T18:05:23.531090Z",
     "iopub.status.idle": "2023-12-06T18:05:23.540949Z",
     "shell.execute_reply": "2023-12-06T18:05:23.538981Z",
     "shell.execute_reply.started": "2023-12-06T18:05:23.531659Z"
    },
    "tags": []
   },
   "outputs": [],
   "source": [
    "simulate_1 = {\n",
    "    'Weight': Weight,\n",
    "    'Prob. walk s1': prob_walk_s1,\n",
    "    'Prob. drive s1': prob_drive_s1,\n",
    "    'Prob. cycle s1': prob_cycle_s1,\n",
    "    'Prob. pt s1': prob_pt_s1,    \n",
    "}\n"
   ]
  },
  {
   "cell_type": "code",
   "execution_count": null,
   "metadata": {
    "execution": {
     "iopub.execute_input": "2023-12-06T18:05:23.904584Z",
     "iopub.status.busy": "2023-12-06T18:05:23.903911Z",
     "iopub.status.idle": "2023-12-06T18:05:24.181722Z",
     "shell.execute_reply": "2023-12-06T18:05:24.180231Z",
     "shell.execute_reply.started": "2023-12-06T18:05:23.904529Z"
    },
    "tags": []
   },
   "outputs": [],
   "source": [
    "database = db.Database('LPMC2',  LPMC2)\n",
    "biosim1 = bio.BIOGEME(database, simulate_1)\n",
    "simulated_values_s1 = biosim1.simulate(results_model3.getBetaValues())\n",
    "simulated_values_s1\n"
   ]
  },
  {
   "cell_type": "markdown",
   "metadata": {},
   "source": [
    "Observing the simulated data, we can see a slight decrease in Probability for the drive option"
   ]
  },
  {
   "cell_type": "code",
   "execution_count": null,
   "metadata": {
    "execution": {
     "iopub.execute_input": "2023-12-06T18:05:24.528888Z",
     "iopub.status.busy": "2023-12-06T18:05:24.528286Z",
     "iopub.status.idle": "2023-12-06T18:05:24.544357Z",
     "shell.execute_reply": "2023-12-06T18:05:24.542572Z",
     "shell.execute_reply.started": "2023-12-06T18:05:24.528833Z"
    },
    "tags": []
   },
   "outputs": [],
   "source": [
    "\n",
    "\n",
    "simulated_values_s1['Weighted walk s1'] = (\n",
    "    simulated_values_s1['Weight'] * \n",
    "    simulated_values_s1['Prob. walk s1']\n",
    ")\n",
    "simulated_values_s1['Weighted drive s1'] = (\n",
    "    simulated_values_s1['Weight'] * \n",
    "    simulated_values_s1['Prob. drive s1']\n",
    ")\n",
    "simulated_values_s1['Weighted cycle s1'] = (\n",
    "    simulated_values_s1['Weight'] * \n",
    "    simulated_values_s1['Prob. cycle s1']\n",
    ")\n",
    "simulated_values_s1['Weighted pt s1'] = (\n",
    "    simulated_values_s1['Weight'] * \n",
    "    simulated_values_s1['Prob. pt s1']\n",
    ")\n",
    "\n"
   ]
  },
  {
   "cell_type": "markdown",
   "metadata": {},
   "source": [
    "Using the weight as before we compute the weighted of each option, and print the market share"
   ]
  },
  {
   "cell_type": "code",
   "execution_count": null,
   "metadata": {
    "execution": {
     "iopub.execute_input": "2023-12-06T18:05:25.325183Z",
     "iopub.status.busy": "2023-12-06T18:05:25.324468Z",
     "iopub.status.idle": "2023-12-06T18:05:25.341700Z",
     "shell.execute_reply": "2023-12-06T18:05:25.339830Z",
     "shell.execute_reply.started": "2023-12-06T18:05:25.325120Z"
    },
    "tags": []
   },
   "outputs": [],
   "source": [
    "market_share_walk_s1 = simulated_values_s1['Weighted walk s1'].mean()\n",
    "\n",
    "print(f'Market share for walk: {100*market_share_walk_s1:.1f}%')\n",
    "market_share_drive_s1 = simulated_values_s1['Weighted drive s1'].mean()\n",
    "print(f'Market share for drive: {100*market_share_drive_s1:.1f}%')\n",
    "market_share_cycle_s1 = simulated_values_s1['Weighted cycle s1'].mean()\n",
    "print(f'Market share for cycle: {100*market_share_cycle_s1:.1f}%')\n",
    "market_share_pt_s1 = simulated_values_s1['Weighted pt s1'].mean()\n",
    "print(f'Market share for pt: {100*market_share_pt_s1:.1f}%')"
   ]
  },
  {
   "cell_type": "markdown",
   "metadata": {},
   "source": [
    "### Scenario 2"
   ]
  },
  {
   "cell_type": "markdown",
   "metadata": {},
   "source": [
    "Taking Model pref ( model 3) we create the first scenario, where the price for public transport decrease by 20% "
   ]
  },
  {
   "cell_type": "code",
   "execution_count": null,
   "metadata": {
    "execution": {
     "iopub.execute_input": "2023-12-06T18:05:26.771427Z",
     "iopub.status.busy": "2023-12-06T18:05:26.770725Z",
     "iopub.status.idle": "2023-12-06T18:05:26.780364Z",
     "shell.execute_reply": "2023-12-06T18:05:26.778484Z",
     "shell.execute_reply.started": "2023-12-06T18:05:26.771370Z"
    },
    "tags": []
   },
   "outputs": [],
   "source": [
    "\n",
    "v_pt_scenario2  = segmented_asc_pt + beta_elapsed_time_pt * boxcox_time_pt   + beta_cost * cost_pt*0.8\n"
   ]
  },
  {
   "cell_type": "code",
   "execution_count": null,
   "metadata": {
    "execution": {
     "iopub.execute_input": "2023-12-06T18:05:27.122322Z",
     "iopub.status.busy": "2023-12-06T18:05:27.120987Z",
     "iopub.status.idle": "2023-12-06T18:05:27.133574Z",
     "shell.execute_reply": "2023-12-06T18:05:27.131724Z",
     "shell.execute_reply.started": "2023-12-06T18:05:27.122265Z"
    },
    "tags": []
   },
   "outputs": [],
   "source": [
    "prob_walk_s2 =  exp(v_walk_model3) /( exp(v_walk_model3)+ exp(v_drive_model3)+exp(v_pt_scenario2)+exp(v_cycle_model3))\n",
    "prob_drive_s2 = exp(v_drive_model3) /( exp(v_walk_model3)+ exp(v_drive_model3)+exp(v_pt_scenario2)+exp(v_cycle_model3))\n",
    "prob_cycle_s2 = exp(v_cycle_model3) /( exp(v_walk_model3)+ exp(v_drive_model3)+exp(v_pt_scenario2)+exp(v_cycle_model3))\n",
    "prob_pt_s2 =  exp(v_pt_scenario2) /( exp(v_walk_model3)+ exp(v_drive_model3)+exp(v_pt_scenario2)+exp(v_cycle_model3))"
   ]
  },
  {
   "cell_type": "code",
   "execution_count": null,
   "metadata": {
    "execution": {
     "iopub.execute_input": "2023-12-06T18:05:27.634485Z",
     "iopub.status.busy": "2023-12-06T18:05:27.633785Z",
     "iopub.status.idle": "2023-12-06T18:05:27.643323Z",
     "shell.execute_reply": "2023-12-06T18:05:27.641417Z",
     "shell.execute_reply.started": "2023-12-06T18:05:27.634425Z"
    },
    "tags": []
   },
   "outputs": [],
   "source": [
    "simulate_2 = {\n",
    "    'Weight': Weight,\n",
    "    'Prob. walk s2': prob_walk_s2,\n",
    "    'Prob. drive s2': prob_drive_s2,\n",
    "    'Prob. cycle s2': prob_cycle_s2,\n",
    "    'Prob. pt s2': prob_pt_s2,    \n",
    "}\n"
   ]
  },
  {
   "cell_type": "code",
   "execution_count": null,
   "metadata": {
    "execution": {
     "iopub.execute_input": "2023-12-06T18:05:28.881795Z",
     "iopub.status.busy": "2023-12-06T18:05:28.881028Z",
     "iopub.status.idle": "2023-12-06T18:05:29.178880Z",
     "shell.execute_reply": "2023-12-06T18:05:29.177641Z",
     "shell.execute_reply.started": "2023-12-06T18:05:28.881737Z"
    },
    "tags": []
   },
   "outputs": [],
   "source": [
    "database = db.Database('LPMC2',  LPMC2)\n",
    "biosim2 = bio.BIOGEME(database, simulate_2)\n",
    "simulated_values_s2 = biosim2.simulate(results_model3.getBetaValues())\n",
    "simulated_values_s2\n",
    "\n"
   ]
  },
  {
   "cell_type": "code",
   "execution_count": null,
   "metadata": {
    "execution": {
     "iopub.execute_input": "2023-12-06T18:05:29.862543Z",
     "iopub.status.busy": "2023-12-06T18:05:29.861858Z",
     "iopub.status.idle": "2023-12-06T18:05:29.878427Z",
     "shell.execute_reply": "2023-12-06T18:05:29.876816Z",
     "shell.execute_reply.started": "2023-12-06T18:05:29.862485Z"
    },
    "tags": []
   },
   "outputs": [],
   "source": [
    "simulated_values_s2['Weighted walk s2'] = (\n",
    "    simulated_values_s2['Weight'] * \n",
    "    simulated_values_s2['Prob. walk s2']\n",
    ")\n",
    "simulated_values_s2['Weighted drive s2'] = (\n",
    "    simulated_values_s2['Weight'] * \n",
    "    simulated_values_s2['Prob. drive s2']\n",
    ")\n",
    "simulated_values_s2['Weighted cycle s2'] = (\n",
    "    simulated_values_s2['Weight'] * \n",
    "    simulated_values_s2['Prob. cycle s2']\n",
    ")\n",
    "simulated_values_s2['Weighted pt s2'] = (\n",
    "    simulated_values_s2['Weight'] * \n",
    "    simulated_values_s2['Prob. pt s2']\n",
    ")\n"
   ]
  },
  {
   "cell_type": "code",
   "execution_count": null,
   "metadata": {
    "execution": {
     "iopub.execute_input": "2023-12-06T18:05:30.575891Z",
     "iopub.status.busy": "2023-12-06T18:05:30.575208Z",
     "iopub.status.idle": "2023-12-06T18:05:30.590851Z",
     "shell.execute_reply": "2023-12-06T18:05:30.589434Z",
     "shell.execute_reply.started": "2023-12-06T18:05:30.575834Z"
    },
    "tags": []
   },
   "outputs": [],
   "source": [
    "market_share_walk_s2 = simulated_values_s2['Weighted walk s2'].mean()\n",
    "\n",
    "\n",
    "print(f'Market share for walk: {100*market_share_walk_s2:.1f}%')\n",
    "market_share_drive_s2 = simulated_values_s2['Weighted drive s2'].mean()\n",
    "print(f'Market share for drive: {100*market_share_drive_s2:.1f}%')\n",
    "market_share_cycle_s2 = simulated_values_s2['Weighted cycle s2'].mean()\n",
    "print(f'Market share for cycle: {100*market_share_cycle_s1:.1f}%')\n",
    "market_share_pt_s2 = simulated_values_s2['Weighted pt s2'].mean()\n",
    "print(f'Market share for pt: {100*market_share_pt_s2:.1f}%')"
   ]
  },
  {
   "cell_type": "markdown",
   "metadata": {},
   "source": [
    "The change is quite small !"
   ]
  },
  {
   "cell_type": "markdown",
   "metadata": {},
   "source": [
    "#### Quick intuition on impact "
   ]
  },
  {
   "cell_type": "code",
   "execution_count": null,
   "metadata": {
    "execution": {
     "iopub.execute_input": "2023-12-06T18:05:32.210261Z",
     "iopub.status.busy": "2023-12-06T18:05:32.208386Z",
     "iopub.status.idle": "2023-12-06T18:05:32.220301Z",
     "shell.execute_reply": "2023-12-06T18:05:32.218686Z",
     "shell.execute_reply.started": "2023-12-06T18:05:32.210195Z"
    },
    "tags": []
   },
   "outputs": [],
   "source": [
    "LPMC['cost_transit'].mean()"
   ]
  },
  {
   "cell_type": "markdown",
   "metadata": {},
   "source": [
    "Personnal Remark : On average the cost for public transportation is 1.5£ so decreasing it by 20% decrease in average would be 0.157 as the $beta$ is equal to -0.170998 ie it will increase the value function of pt by 0.026846686\n",
    "Wheras increasing the price of car by 1.5 decrease its car value fucntion by 0.256497 (much bigger impact)"
   ]
  },
  {
   "cell_type": "markdown",
   "metadata": {},
   "source": [
    "**Question 3**"
   ]
  },
  {
   "cell_type": "code",
   "execution_count": null,
   "metadata": {
    "execution": {
     "iopub.execute_input": "2023-12-06T18:20:32.309390Z",
     "iopub.status.busy": "2023-12-06T18:20:32.308650Z",
     "iopub.status.idle": "2023-12-06T18:20:32.324575Z",
     "shell.execute_reply": "2023-12-06T18:20:32.322924Z",
     "shell.execute_reply.started": "2023-12-06T18:20:32.309330Z"
    },
    "tags": []
   },
   "outputs": [],
   "source": [
    "Total_revenue_no_scenario = (simulated_values['Weighted pt'].mean() * LPMC[\"cost_transit\"]).sum()\n",
    "\n",
    "Total_revenue_scenario_1 = (simulated_values_s1['Weighted pt s1'].mean() * LPMC[\"cost_transit\"]).sum()\n",
    "\n",
    "Total_revenue_scenario_2 = (simulated_values_s1['Weighted pt s1'].mean() * LPMC[\"cost_transit\"] * 0.8).sum()"
   ]
  },
  {
   "cell_type": "code",
   "execution_count": null,
   "metadata": {
    "execution": {
     "iopub.execute_input": "2023-12-06T18:20:34.181997Z",
     "iopub.status.busy": "2023-12-06T18:20:34.181195Z",
     "iopub.status.idle": "2023-12-06T18:20:34.192403Z",
     "shell.execute_reply": "2023-12-06T18:20:34.190528Z",
     "shell.execute_reply.started": "2023-12-06T18:20:34.181935Z"
    },
    "tags": []
   },
   "outputs": [],
   "source": [
    "# Print the results\n",
    "print(f\"Total Revenue - No Scenario: {Total_revenue_no_scenario }\")\n",
    "print(f\"Total Revenue - Scenario 1: {Total_revenue_scenario_1 }\")\n",
    "print(f\"Total Revenue - Scenario 2: {Total_revenue_scenario_2 }\")"
   ]
  },
  {
   "cell_type": "markdown",
   "metadata": {
    "tags": []
   },
   "source": [
    "\n",
    "**Question 4**"
   ]
  },
  {
   "cell_type": "code",
   "execution_count": 317,
   "metadata": {},
   "outputs": [],
   "source": [
    "vot_pt = (Derive(v_pt_model3,'dur_pt') / Derive(v_pt_model3, 'cost_transit') )"
   ]
  },
  {
   "cell_type": "code",
   "execution_count": 323,
   "metadata": {},
   "outputs": [],
   "source": [
    "vot_drive = (Derive(v_drive_model3 ,'dur_driving') / Derive(v_drive_model3 , 'cost_drive') )"
   ]
  },
  {
   "cell_type": "code",
   "execution_count": 324,
   "metadata": {},
   "outputs": [
    {
     "name": "stdout",
     "output_type": "stream",
     "text": [
      "0       1.23\n",
      "1       2.60\n",
      "2       0.72\n",
      "3       0.33\n",
      "4       0.30\n",
      "        ... \n",
      "4995    0.29\n",
      "4996    1.31\n",
      "4997    0.39\n",
      "4998    0.58\n",
      "4999    0.88\n",
      "Name: cost_drive, Length: 5000, dtype: float64\n",
      "0       32.901543\n",
      "1       21.007323\n",
      "2       53.197513\n",
      "3       79.158031\n",
      "4       84.592133\n",
      "          ...    \n",
      "4995    92.623011\n",
      "4996    42.596552\n",
      "4997    79.967009\n",
      "4998    57.389318\n",
      "4999    50.673290\n",
      "Name: VOT CAR, Length: 5000, dtype: float64\n"
     ]
    }
   ],
   "source": [
    "simulate = {\n",
    "    'Weight': Weight,\n",
    "    'Prob. walk': prob_walk,\n",
    "    'Prob. drive': prob_drive,\n",
    "    'Prob. cycle': prob_cycle,\n",
    "    'Prob. pt': prob_pt,    \n",
    "    'VOT PT': vot_pt,\n",
    "    'VOT CAR': vot_drive,\n",
    "    'cost_transit': cost_pt,\n",
    "    'cost_drive' : cost_drive,\n",
    "    'dur_pt' : time_pt,\n",
    "    'dur_driving' : time_drive\n",
    "}\n",
    "biosim = bio.BIOGEME(database, simulate)\n",
    "simulated_vot_values = biosim.simulate(results_model3.getBetaValues())\n",
    "print(simulated_vot_values['cost_drive'])\n",
    "print(simulated_vot_values['VOT CAR'])"
   ]
  },
  {
   "cell_type": "code",
   "execution_count": 332,
   "metadata": {},
   "outputs": [],
   "source": [
    "simulated_vot_values.loc[simulated_vot_values.cost_transit == 0, 'VOT PT'] = 0\n",
    "simulated_vot_values.loc[simulated_vot_values.cost_drive == 0, 'VOT CAR'] = 0"
   ]
  },
  {
   "cell_type": "code",
   "execution_count": 333,
   "metadata": {},
   "outputs": [
    {
     "data": {
      "image/png": "[encoded data removed]",
      "text/plain": [
       "<Figure size 432x288 with 1 Axes>"
      ]
     },
     "metadata": {
      "needs_background": "light"
     },
     "output_type": "display_data"
    }
   ],
   "source": [
    "_ = simulated_vot_values[simulated_vot_values['VOT CAR'] != 0]['VOT CAR'].hist(bins=200)"
   ]
  },
  {
   "cell_type": "code",
   "execution_count": 334,
   "metadata": {},
   "outputs": [
    {
     "data": {
      "image/png": "[encoded data removed]",
      "text/plain": [
       "<Figure size 432x288 with 1 Axes>"
      ]
     },
     "metadata": {
      "needs_background": "light"
     },
     "output_type": "display_data"
    }
   ],
   "source": [
    "\n",
    "_ = simulated_vot_values[simulated_vot_values['VOT PT'] != 0]['VOT PT'].hist(bins=200)"
   ]
  },
  {
   "cell_type": "code",
   "execution_count": 335,
   "metadata": {},
   "outputs": [
    {
     "name": "stdout",
     "output_type": "stream",
     "text": [
      "Average value of time for PT: 23.4 CHF/hour\n"
     ]
    }
   ],
   "source": [
    "avg_vot_pt = (\n",
    "    simulated_vot_values['VOT PT'] * \n",
    "    simulated_vot_values['Weight']\n",
    ").sum() / simulated_vot_values['Weight'].sum()\n",
    "print(f'Average value of time for PT: {avg_vot_pt:.3g} CHF/hour')"
   ]
  },
  {
   "cell_type": "code",
   "execution_count": 330,
   "metadata": {},
   "outputs": [
    {
     "name": "stdout",
     "output_type": "stream",
     "text": [
      "Average value of time for car: 74.1 CHF/hour\n"
     ]
    }
   ],
   "source": [
    "avg_vot_car = (\n",
    "    simulated_vot_values['VOT CAR'] * \n",
    "    simulated_vot_values['Weight']\n",
    ").sum() / simulated_vot_values['Weight'].sum()\n",
    "print(f'Average value of time for car: {avg_vot_car:.3g} CHF/hour')"
   ]
  },
  {
   "cell_type": "markdown",
   "metadata": {},
   "source": [
    "**Question 5**"
   ]
  },
  {
   "cell_type": "code",
   "execution_count": 339,
   "metadata": {},
   "outputs": [],
   "source": [
    " #Choice proba:\n",
    "prob_drive = exp(v_drive_model3) /( exp(v_walk_model3)+ exp(v_drive_model3)+exp(v_pt_model3)+exp(v_cycle_model3))\n",
    "prob_pt =  exp(v_pt_model3) /( exp(v_walk_model3)+ exp(v_drive_model3)+exp(v_pt_model3)+exp(v_cycle_model3))"
   ]
  },
  {
   "cell_type": "code",
   "execution_count": 340,
   "metadata": {},
   "outputs": [],
   "source": [
    "#Direct point elasticity of car cost\n",
    "direct_elas_drive_cost= (Derive(prob_drive,'cost_drive')*cost_drive/prob_drive) \n",
    "#Direct point elasticity of public transportation cost \n",
    "direct_elas_pt_cost=(Derive(prob_pt,'cost_transit')*cost_pt/prob_pt)\n",
    "#Cross point elasticity\n",
    "cross_elas_Pdrive_Dpt=(Derive(prob_drive,'cost_transit')*cost_pt/prob_drive)\n",
    "cross_elas_Ppt_Ddrive=(Derive(prob_pt,'cost_drive')*cost_drive/prob_pt)"
   ]
  },
  {
   "cell_type": "code",
   "execution_count": 344,
   "metadata": {},
   "outputs": [],
   "source": [
    "\n",
    "#Simulate\n",
    "simulate_elast={\n",
    "    'Weight': Weight,\n",
    "    'Prob DRIVE': prob_drive,\n",
    "    'Prob PT': prob_pt,\n",
    "    'direct_elas_drive_cost':direct_elas_drive_cost,\n",
    "    'direct_elas_pt_cost':direct_elas_pt_cost,\n",
    "    'cross_elas_Pdrive_Dpt':cross_elas_Pdrive_Dpt,\n",
    "    'cross_elas_Ppt_Ddrive':cross_elas_Ppt_Ddrive,\n",
    "}"
   ]
  },
  {
   "cell_type": "code",
   "execution_count": 346,
   "metadata": {},
   "outputs": [],
   "source": [
    "biosim = bio.BIOGEME(database, simulate_elast)\n",
    "simulated_values_elast = biosim.simulate(results_model3.getBetaValues())  "
   ]
  },
  {
   "cell_type": "code",
   "execution_count": 349,
   "metadata": {},
   "outputs": [
    {
     "data": {
      "text/plain": [
       "Weight                    0.879505\n",
       "Prob DRIVE                0.231612\n",
       "Prob PT                   0.756383\n",
       "direct_elas_drive_cost   -0.165292\n",
       "direct_elas_pt_cost      -0.063909\n",
       "cross_elas_Pdrive_Dpt     0.198427\n",
       "cross_elas_Ppt_Ddrive     0.049823\n",
       "denominator_pt            0.665243\n",
       "denominator_drive         0.203704\n",
       "numerator_pt_dir         -0.042515\n",
       "numerator_drive_dir      -0.033671\n",
       "Name: 0, dtype: float64"
      ]
     },
     "execution_count": 349,
     "metadata": {},
     "output_type": "execute_result"
    }
   ],
   "source": [
    "simulated_values_elast.iloc[0]"
   ]
  },
  {
   "cell_type": "code",
   "execution_count": 351,
   "metadata": {},
   "outputs": [],
   "source": [
    "#Aggregations numerator/denominator\n",
    "simulated_values_elast['denominator_pt'] = (\n",
    "    simulated_values_elast['Weight'] *\n",
    "    simulated_values_elast['Prob PT']\n",
    ")\n",
    "simulated_values_elast['denominator_drive'] = (\n",
    "    simulated_values_elast['Weight'] *\n",
    "    simulated_values_elast['Prob DRIVE']\n",
    ")\n",
    "#direct\n",
    "simulated_values_elast['numerator_pt_dir']=(\n",
    "    simulated_values_elast['Weight'] *\n",
    "    simulated_values_elast['Prob PT']*\n",
    "    simulated_values_elast['direct_elas_pt_cost']\n",
    ")\n",
    "simulated_values_elast['numerator_drive_dir']=(\n",
    "    simulated_values_elast['Weight'] *\n",
    "    simulated_values_elast['Prob DRIVE']*\n",
    "    simulated_values_elast['direct_elas_drive_cost'])\n",
    "#cross\n",
    "simulated_values_elast['numerator_Pdrive_Dpt']=(\n",
    "    simulated_values_elast['Weight'] *\n",
    "    simulated_values_elast['Prob DRIVE']*\n",
    "    simulated_values_elast['cross_elas_Pdrive_Dpt']\n",
    ")\n",
    "simulated_values_elast['numerator_Ppt_Ddrive']=(\n",
    "    simulated_values_elast['Weight'] *\n",
    "    simulated_values_elast['Prob PT']*\n",
    "    simulated_values_elast['cross_elas_Ppt_Ddrive']\n",
    ")"
   ]
  },
  {
   "cell_type": "code",
   "execution_count": 352,
   "metadata": {},
   "outputs": [],
   "source": [
    "#Aggregation\n",
    "agg_direct_elas_pt_cost=simulated_values_elast['numerator_pt_dir'].sum()/simulated_values_elast['denominator_pt'].sum()\n",
    "agg_direct_elas_drive_cost=simulated_values_elast['numerator_drive_dir'].sum()/simulated_values_elast['denominator_drive'].sum()\n",
    "agg_cross_elas_Pdrive_Dpt=simulated_values_elast['numerator_Pdrive_Dpt'].sum()/simulated_values_elast['denominator_drive'].sum()\n",
    "agg_cross_elas_Ppt_Ddrive=simulated_values_elast['numerator_Ppt_Ddrive'].sum()/simulated_values_elast['denominator_pt'].sum()"
   ]
  },
  {
   "cell_type": "code",
   "execution_count": 353,
   "metadata": {},
   "outputs": [
    {
     "name": "stdout",
     "output_type": "stream",
     "text": [
      "denominator pt 1810.1952771512779\n",
      "denominator drive 2147.5257927035937\n",
      "agg_direct_elas_pt_cost -0.12731195427781558\n",
      "agg_direct_elas_drive_cost -0.08574203921750838\n",
      "agg_cross_elas_Pdrive_Dpt 0.08730541994976708\n",
      "agg_cross_elas_Ppt_Ddrive 0.08536073697894282\n"
     ]
    }
   ],
   "source": [
    "print('denominator pt',simulated_values_elast['denominator_pt'].sum())\n",
    "print('denominator drive',simulated_values_elast['denominator_drive'].sum())\n",
    "print('agg_direct_elas_pt_cost',agg_direct_elas_pt_cost)\n",
    "print('agg_direct_elas_drive_cost',agg_direct_elas_drive_cost)\n",
    "print('agg_cross_elas_Pdrive_Dpt',agg_cross_elas_Pdrive_Dpt)\n",
    "print('agg_cross_elas_Ppt_Ddrive',agg_cross_elas_Ppt_Ddrive)"
   ]
  },
  {
   "cell_type": "code",
   "execution_count": 354,
   "metadata": {},
   "outputs": [
    {
     "data": {
      "text/plain": [
       "<matplotlib.axes._subplots.AxesSubplot at 0x197293c2a90>"
      ]
     },
     "execution_count": 354,
     "metadata": {},
     "output_type": "execute_result"
    },
    {
     "data": {
      "image/png": "[encoded data removed]",
      "text/plain": [
       "<Figure size 432x288 with 1 Axes>"
      ]
     },
     "metadata": {
      "needs_background": "light"
     },
     "output_type": "display_data"
    }
   ],
   "source": [
    "simulated_values_elast['numerator_Ppt_Ddrive'].hist(bins=200)"
   ]
  },
  {
   "cell_type": "code",
   "execution_count": null,
   "metadata": {},
   "outputs": [],
   "source": []
  },
  {
   "cell_type": "code",
   "execution_count": null,
   "metadata": {},
   "outputs": [],
   "source": []
  },
  {
   "cell_type": "code",
   "execution_count": null,
   "metadata": {},
   "outputs": [],
   "source": []
  },
  {
   "cell_type": "code",
   "execution_count": null,
   "metadata": {},
   "outputs": [],
   "source": []
  },
  {
   "cell_type": "code",
   "execution_count": null,
   "metadata": {},
   "outputs": [],
   "source": []
  },
  {
   "cell_type": "code",
   "execution_count": null,
   "metadata": {},
   "outputs": [],
   "source": []
  }
 ],
 "metadata": {
  "kernelspec": {
   "display_name": "Python 3",
   "language": "python",
   "name": "python3"
  },
  "language_info": {
   "codemirror_mode": {
    "name": "ipython",
    "version": 3
   },
   "file_extension": ".py",
   "mimetype": "text/x-python",
   "name": "python",
   "nbconvert_exporter": "python",
   "pygments_lexer": "ipython3",
   "version": "3.8.3"
  }
 },
 "nbformat": 4,
 "nbformat_minor": 5
}
