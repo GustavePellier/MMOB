{
 "cells": [
  {
   "cell_type": "markdown",
   "id": "d5e158ed",
   "metadata": {},
   "source": [
    "# Import packages and database"
   ]
  },
  {
   "cell_type": "code",
   "execution_count": 61,
   "id": "a6abb197",
   "metadata": {},
   "outputs": [],
   "source": [
    "import pandas as pd\n",
    "import numpy as np\n",
    "import biogeme.database as db\n",
    "import biogeme.biogeme as bio\n",
    "import biogeme.segmentation as seg\n",
    "from biogeme.expressions import Beta, Variable, Derive\n",
    "from biogeme import models\n",
    "from biogeme import results as res\n",
    "from biogeme.expressions import DefineVariable, log\n",
    "from collections import namedtuple\n",
    "\n",
    "data_file ='https://raw.githubusercontent.com/GustavePellier/MMOB/main/lpmc19.dat'\n",
    "LPMC = pd.read_csv(data_file, sep='\\t')\n",
    "LPMC\n",
    "\n",
    "database = db.Database('LPMC', LPMC)\n",
    "all_results = {}"
   ]
  },
  {
   "cell_type": "markdown",
   "id": "c50cce66",
   "metadata": {},
   "source": [
    "# Model 0"
   ]
  },
  {
   "cell_type": "markdown",
   "id": "457b8a7a",
   "metadata": {},
   "source": [
    "We calculate the total public transport duration and the total driving cost"
   ]
  },
  {
   "cell_type": "code",
   "execution_count": 62,
   "id": "7e754a5d",
   "metadata": {},
   "outputs": [],
   "source": [
    "LPMC[\"dur_pt\"]= LPMC[\"dur_pt_access\"] + LPMC[\"dur_pt_rail\"] + LPMC[\"dur_pt_bus\"] + LPMC[\"dur_pt_int\"] \n",
    "LPMC[\"cost_drive\"] = LPMC[\"cost_driving_ccharge\"] + LPMC[\"cost_driving_fuel\"]"
   ]
  },
  {
   "cell_type": "markdown",
   "id": "66233335",
   "metadata": {},
   "source": [
    "Some variables are created with the columns that seem to be useful"
   ]
  },
  {
   "cell_type": "code",
   "execution_count": 63,
   "id": "257d7bbc",
   "metadata": {},
   "outputs": [],
   "source": [
    "travel_mode=Variable('travel_mode')\n",
    "\n",
    "dur_pt_access=Variable('dur_pt_access')\n",
    "dur_pt_rail=Variable('dur_pt_rail')\n",
    "dur_pt_bus=Variable('dur_pt_bus')\n",
    "dur_pt_int=Variable('dur_pt_int')\n",
    "\n",
    "pt_interchanges=Variable('pt_interchanges')\n",
    "\n",
    "cost_driving_fuel=Variable('cost_driving_fuel')\n",
    "cost_driving_ccharge=Variable('cost_driving_ccharge')\n",
    "cost_drive=Variable('cost_drive')\n",
    "cost_pt=Variable('cost_transit')\n",
    "\n",
    "time_walk=Variable('dur_walking')\n",
    "time_cycle=Variable('dur_cycling')\n",
    "time_pt=Variable('dur_pt')\n",
    "time_drive=Variable('dur_driving')\n",
    "\n",
    "female=Variable('female')\n",
    "age=Variable('age')"
   ]
  },
  {
   "cell_type": "markdown",
   "id": "7f8ff102",
   "metadata": {},
   "source": [
    "There are 4 different travel mode, we will thus build a model with 4 utility functions, we create 3 alternative specific constant, a generic parameter for travel time and a generic parameter for cost"
   ]
  },
  {
   "cell_type": "code",
   "execution_count": 64,
   "id": "c2d6736e",
   "metadata": {},
   "outputs": [],
   "source": [
    "asc_cycle = Beta('asc_cycle', 0, None, None, 0)\n",
    "asc_pt = Beta('asc_pt', 0, None, None, 0)\n",
    "asc_drive = Beta('asc_drive', 0, None, None, 0)\n",
    "beta_cost = Beta('beta_cost', 0, None, None, 0)\n",
    "beta_time = Beta('beta_time', 0, None, None, 0)"
   ]
  },
  {
   "cell_type": "markdown",
   "id": "86848c67",
   "metadata": {},
   "source": [
    "Utility functions creation"
   ]
  },
  {
   "cell_type": "code",
   "execution_count": 65,
   "id": "50658ba2",
   "metadata": {},
   "outputs": [],
   "source": [
    "v_walk_model0= beta_time * time_walk  \n",
    "v_cycle_model0= asc_cycle + beta_time * time_cycle \n",
    "v_pt_model0= asc_pt + beta_time * time_pt + beta_cost * cost_pt\n",
    "v_drive_model0= asc_drive + beta_time * time_drive + beta_cost * cost_drive"
   ]
  },
  {
   "cell_type": "markdown",
   "id": "abf9dda3",
   "metadata": {},
   "source": [
    "availability of each mode, all available here"
   ]
  },
  {
   "cell_type": "code",
   "execution_count": 66,
   "id": "d06082e5",
   "metadata": {},
   "outputs": [],
   "source": [
    "av = {1: 1, 2: 1, 3: 1, 4:1}"
   ]
  },
  {
   "cell_type": "markdown",
   "id": "57c0d342",
   "metadata": {},
   "source": [
    "The estimation results (parameter values, t-tests or p-values, null and final log likelihoods)"
   ]
  },
  {
   "cell_type": "code",
   "execution_count": 67,
   "id": "b475a4fd",
   "metadata": {},
   "outputs": [
    {
     "data": {
      "text/html": [
       "<div>\n",
       "<style scoped>\n",
       "    .dataframe tbody tr th:only-of-type {\n",
       "        vertical-align: middle;\n",
       "    }\n",
       "\n",
       "    .dataframe tbody tr th {\n",
       "        vertical-align: top;\n",
       "    }\n",
       "\n",
       "    .dataframe thead th {\n",
       "        text-align: right;\n",
       "    }\n",
       "</style>\n",
       "<table border=\"1\" class=\"dataframe\">\n",
       "  <thead>\n",
       "    <tr style=\"text-align: right;\">\n",
       "      <th></th>\n",
       "      <th>Value</th>\n",
       "      <th>Rob. Std err</th>\n",
       "      <th>Rob. t-test</th>\n",
       "      <th>Rob. p-value</th>\n",
       "    </tr>\n",
       "  </thead>\n",
       "  <tbody>\n",
       "    <tr>\n",
       "      <th>asc_cycle</th>\n",
       "      <td>-3.878619</td>\n",
       "      <td>0.107672</td>\n",
       "      <td>-36.022418</td>\n",
       "      <td>0.0</td>\n",
       "    </tr>\n",
       "    <tr>\n",
       "      <th>asc_drive</th>\n",
       "      <td>-1.295191</td>\n",
       "      <td>0.080505</td>\n",
       "      <td>-16.088354</td>\n",
       "      <td>0.0</td>\n",
       "    </tr>\n",
       "    <tr>\n",
       "      <th>asc_pt</th>\n",
       "      <td>-0.503354</td>\n",
       "      <td>0.054123</td>\n",
       "      <td>-9.300119</td>\n",
       "      <td>0.0</td>\n",
       "    </tr>\n",
       "    <tr>\n",
       "      <th>beta_cost</th>\n",
       "      <td>-0.193629</td>\n",
       "      <td>0.013958</td>\n",
       "      <td>-13.871889</td>\n",
       "      <td>0.0</td>\n",
       "    </tr>\n",
       "    <tr>\n",
       "      <th>beta_time</th>\n",
       "      <td>-5.495527</td>\n",
       "      <td>0.208596</td>\n",
       "      <td>-26.345342</td>\n",
       "      <td>0.0</td>\n",
       "    </tr>\n",
       "  </tbody>\n",
       "</table>\n",
       "</div>"
      ],
      "text/plain": [
       "              Value  Rob. Std err  Rob. t-test  Rob. p-value\n",
       "asc_cycle -3.878619      0.107672   -36.022418           0.0\n",
       "asc_drive -1.295191      0.080505   -16.088354           0.0\n",
       "asc_pt    -0.503354      0.054123    -9.300119           0.0\n",
       "beta_cost -0.193629      0.013958   -13.871889           0.0\n",
       "beta_time -5.495527      0.208596   -26.345342           0.0"
      ]
     },
     "execution_count": 67,
     "metadata": {},
     "output_type": "execute_result"
    }
   ],
   "source": [
    "V_model0 = {1: v_walk_model0 , 2: v_cycle_model0, 3: v_pt_model0, 4: v_drive_model0}\n",
    "logprob_model0 = models.loglogit(V_model0, av, travel_mode)\n",
    "biogeme_model0 = bio.BIOGEME(database, logprob_model0)\n",
    "biogeme_model0.modelName = 'Model_0'\n",
    "all_results['Model0'] = biogeme_model0.estimate()\n",
    "results_generic = biogeme_model0.estimate()\n",
    "results_generic.getEstimatedParameters()"
   ]
  },
  {
   "cell_type": "code",
   "execution_count": 68,
   "id": "05acabb0",
   "metadata": {
    "scrolled": true
   },
   "outputs": [
    {
     "data": {
      "text/plain": [
       "(                                         Model0\n",
       " Number of estimated parameters                5\n",
       " Sample size                                5000\n",
       " Final log likelihood               -4587.818071\n",
       " Akaike Information Criterion        9185.636142\n",
       " Bayesian Information Criterion      9218.222108\n",
       " asc_cycle (t-test)                 -3.88  (-36)\n",
       " asc_drive (t-test)                -1.3  (-16.1)\n",
       " asc_pt (t-test)                  -0.503  (-9.3)\n",
       " beta_cost (t-test)              -0.194  (-13.9)\n",
       " beta_time (t-test)                -5.5  (-26.3),\n",
       " {'Model0': 'Model0'})"
      ]
     },
     "execution_count": 68,
     "metadata": {},
     "output_type": "execute_result"
    }
   ],
   "source": [
    "res.compile_estimation_results(all_results)"
   ]
  },
  {
   "cell_type": "code",
   "execution_count": 69,
   "id": "d9ae5a6a",
   "metadata": {},
   "outputs": [
    {
     "name": "stdout",
     "output_type": "stream",
     "text": [
      "Null Loglikelihood : \n"
     ]
    },
    {
     "data": {
      "text/plain": [
       "-6931.471805599917"
      ]
     },
     "execution_count": 69,
     "metadata": {},
     "output_type": "execute_result"
    }
   ],
   "source": [
    "print(\"Null Loglikelihood : \")\n",
    "biogeme_model0.calculateNullLoglikelihood(av)"
   ]
  },
  {
   "cell_type": "markdown",
   "id": "df7ce50b",
   "metadata": {},
   "source": [
    "# Model 1"
   ]
  },
  {
   "cell_type": "markdown",
   "id": "c79928a0",
   "metadata": {},
   "source": [
    "We choose to do a specification for the time attribute, the cost stays generic in this model. Therefore we obtain a beta_time parameter for each transportation mode. "
   ]
  },
  {
   "cell_type": "code",
   "execution_count": 70,
   "id": "47758ef0",
   "metadata": {},
   "outputs": [],
   "source": [
    "beta_time_walk = Beta('beta_time_walk', 0, None, None, 0)\n",
    "beta_time_cycle = Beta('beta_time_cycle', 0, None, None, 0)\n",
    "beta_time_pt = Beta('beta_time_pt', 0, None, None, 0)\n",
    "beta_time_drive = Beta('beta_time_drive', 0, None, None, 0)"
   ]
  },
  {
   "cell_type": "markdown",
   "id": "3f80fd72",
   "metadata": {},
   "source": [
    "The utility functions are rewritten with the new parameters :"
   ]
  },
  {
   "cell_type": "code",
   "execution_count": 71,
   "id": "52e9db3c",
   "metadata": {},
   "outputs": [],
   "source": [
    "v_walk_model1= beta_time_walk * time_walk  \n",
    "v_cycle_model1= asc_cycle + beta_time_cycle * time_cycle \n",
    "v_pt_model1= asc_pt + beta_time_pt * time_pt + beta_cost * cost_pt\n",
    "v_drive_model1= asc_drive + beta_time_drive * time_drive + beta_cost * cost_drive"
   ]
  },
  {
   "cell_type": "markdown",
   "id": "975a88c9",
   "metadata": {},
   "source": [
    "The results are computed (parameter values, t-tests or p-values, null and final log likelihoods)"
   ]
  },
  {
   "cell_type": "code",
   "execution_count": 72,
   "id": "f6b9fc37",
   "metadata": {},
   "outputs": [
    {
     "data": {
      "text/html": [
       "<div>\n",
       "<style scoped>\n",
       "    .dataframe tbody tr th:only-of-type {\n",
       "        vertical-align: middle;\n",
       "    }\n",
       "\n",
       "    .dataframe tbody tr th {\n",
       "        vertical-align: top;\n",
       "    }\n",
       "\n",
       "    .dataframe thead th {\n",
       "        text-align: right;\n",
       "    }\n",
       "</style>\n",
       "<table border=\"1\" class=\"dataframe\">\n",
       "  <thead>\n",
       "    <tr style=\"text-align: right;\">\n",
       "      <th></th>\n",
       "      <th>Value</th>\n",
       "      <th>Rob. Std err</th>\n",
       "      <th>Rob. t-test</th>\n",
       "      <th>Rob. p-value</th>\n",
       "    </tr>\n",
       "  </thead>\n",
       "  <tbody>\n",
       "    <tr>\n",
       "      <th>asc_cycle</th>\n",
       "      <td>-4.847224</td>\n",
       "      <td>0.202570</td>\n",
       "      <td>-23.928654</td>\n",
       "      <td>0.0</td>\n",
       "    </tr>\n",
       "    <tr>\n",
       "      <th>asc_drive</th>\n",
       "      <td>-1.969873</td>\n",
       "      <td>0.137929</td>\n",
       "      <td>-14.281808</td>\n",
       "      <td>0.0</td>\n",
       "    </tr>\n",
       "    <tr>\n",
       "      <th>asc_pt</th>\n",
       "      <td>-2.337196</td>\n",
       "      <td>0.139506</td>\n",
       "      <td>-16.753342</td>\n",
       "      <td>0.0</td>\n",
       "    </tr>\n",
       "    <tr>\n",
       "      <th>beta_cost</th>\n",
       "      <td>-0.182008</td>\n",
       "      <td>0.016087</td>\n",
       "      <td>-11.314047</td>\n",
       "      <td>0.0</td>\n",
       "    </tr>\n",
       "    <tr>\n",
       "      <th>beta_time_cycle</th>\n",
       "      <td>-5.312452</td>\n",
       "      <td>0.462002</td>\n",
       "      <td>-11.498762</td>\n",
       "      <td>0.0</td>\n",
       "    </tr>\n",
       "    <tr>\n",
       "      <th>beta_time_drive</th>\n",
       "      <td>-6.474307</td>\n",
       "      <td>0.378989</td>\n",
       "      <td>-17.083106</td>\n",
       "      <td>0.0</td>\n",
       "    </tr>\n",
       "    <tr>\n",
       "      <th>beta_time_pt</th>\n",
       "      <td>-3.538619</td>\n",
       "      <td>0.250656</td>\n",
       "      <td>-14.117426</td>\n",
       "      <td>0.0</td>\n",
       "    </tr>\n",
       "    <tr>\n",
       "      <th>beta_time_walk</th>\n",
       "      <td>-8.430765</td>\n",
       "      <td>0.418990</td>\n",
       "      <td>-20.121621</td>\n",
       "      <td>0.0</td>\n",
       "    </tr>\n",
       "  </tbody>\n",
       "</table>\n",
       "</div>"
      ],
      "text/plain": [
       "                    Value  Rob. Std err  Rob. t-test  Rob. p-value\n",
       "asc_cycle       -4.847224      0.202570   -23.928654           0.0\n",
       "asc_drive       -1.969873      0.137929   -14.281808           0.0\n",
       "asc_pt          -2.337196      0.139506   -16.753342           0.0\n",
       "beta_cost       -0.182008      0.016087   -11.314047           0.0\n",
       "beta_time_cycle -5.312452      0.462002   -11.498762           0.0\n",
       "beta_time_drive -6.474307      0.378989   -17.083106           0.0\n",
       "beta_time_pt    -3.538619      0.250656   -14.117426           0.0\n",
       "beta_time_walk  -8.430765      0.418990   -20.121621           0.0"
      ]
     },
     "execution_count": 72,
     "metadata": {},
     "output_type": "execute_result"
    }
   ],
   "source": [
    "V_model1 = {1: v_walk_model1 , 2: v_cycle_model1, 3: v_pt_model1, 4: v_drive_model1}\n",
    "logprob_model1 = models.loglogit(V_model1, av, travel_mode)\n",
    "biogeme_model1 = bio.BIOGEME(database, logprob_model1)\n",
    "biogeme_model1.modelName = 'Model_1'\n",
    "all_results['Model1'] = biogeme_model1.estimate()\n",
    "results_specific_time = biogeme_model1.estimate()\n",
    "results_specific_time.getEstimatedParameters()"
   ]
  },
  {
   "cell_type": "code",
   "execution_count": 73,
   "id": "8fc9db6b",
   "metadata": {},
   "outputs": [
    {
     "data": {
      "text/plain": [
       "(                                         Model0           Model1\n",
       " Number of estimated parameters                5                8\n",
       " Sample size                                5000             5000\n",
       " Final log likelihood               -4587.818071     -4275.496542\n",
       " Akaike Information Criterion        9185.636142      8566.993084\n",
       " Bayesian Information Criterion      9218.222108       8619.13063\n",
       " asc_cycle (t-test)                 -3.88  (-36)   -4.85  (-23.9)\n",
       " asc_drive (t-test)                -1.3  (-16.1)   -1.97  (-14.3)\n",
       " asc_pt (t-test)                  -0.503  (-9.3)   -2.34  (-16.8)\n",
       " beta_cost (t-test)              -0.194  (-13.9)  -0.182  (-11.3)\n",
       " beta_time (t-test)                -5.5  (-26.3)                 \n",
       " beta_time_cycle (t-test)                          -5.31  (-11.5)\n",
       " beta_time_drive (t-test)                          -6.47  (-17.1)\n",
       " beta_time_pt (t-test)                             -3.54  (-14.1)\n",
       " beta_time_walk (t-test)                           -8.43  (-20.1),\n",
       " {'Model0': 'Model0', 'Model1': 'Model1'})"
      ]
     },
     "execution_count": 73,
     "metadata": {},
     "output_type": "execute_result"
    }
   ],
   "source": [
    "res.compile_estimation_results(all_results)"
   ]
  },
  {
   "cell_type": "code",
   "execution_count": 74,
   "id": "5e1d12cb",
   "metadata": {},
   "outputs": [
    {
     "data": {
      "text/plain": [
       "-6931.471805599917"
      ]
     },
     "execution_count": 74,
     "metadata": {},
     "output_type": "execute_result"
    }
   ],
   "source": [
    "biogeme_model1.calculateNullLoglikelihood(av)"
   ]
  },
  {
   "cell_type": "markdown",
   "id": "f36d4b1b",
   "metadata": {},
   "source": [
    "We compare the 2 models with the likelihood ratio test because model 0 is a reduction of model 1.  "
   ]
  },
  {
   "cell_type": "code",
   "execution_count": 75,
   "id": "b22e126c",
   "metadata": {},
   "outputs": [
    {
     "data": {
      "text/plain": [
       "LRTuple(message='H0 can be rejected at level 5.0%', statistic=624.6430583499878, threshold=7.814727903251179)"
      ]
     },
     "execution_count": 75,
     "metadata": {},
     "output_type": "execute_result"
    }
   ],
   "source": [
    "results_specific_time.likelihood_ratio_test(results_generic, 0.05)"
   ]
  },
  {
   "cell_type": "markdown",
   "id": "e8d602fe",
   "metadata": {},
   "source": [
    "# Model 2"
   ]
  },
  {
   "cell_type": "markdown",
   "id": "72cdf1ed",
   "metadata": {},
   "source": [
    "Using Model 1 as the base model, we choose to study how gender interact with the\n",
    "ASCs and the alternative attributes. "
   ]
  },
  {
   "cell_type": "markdown",
   "id": "ad9c3f16",
   "metadata": {},
   "source": [
    "Lets start by segmenting the population by gender"
   ]
  },
  {
   "cell_type": "code",
   "execution_count": 76,
   "id": "db20090d",
   "metadata": {},
   "outputs": [],
   "source": [
    "gender_segmentation = seg.DiscreteSegmentationTuple(variable=female, mapping={1: 'female', 0: 'male'})"
   ]
  },
  {
   "cell_type": "markdown",
   "id": "3efdc164",
   "metadata": {},
   "source": [
    "### ASC segmentation"
   ]
  },
  {
   "cell_type": "code",
   "execution_count": 77,
   "id": "96ce8232",
   "metadata": {},
   "outputs": [],
   "source": [
    "asc_cycle = Beta('asc_cycle', 0, None, None, 0)\n",
    "segmented_asc_cycle = seg.Segmentation(asc_cycle,[gender_segmentation]).segmented_beta()\n",
    "\n",
    "asc_pt = Beta('asc_pt', 0, None, None, 0)\n",
    "segmented_asc_pt = seg.Segmentation(asc_pt,[gender_segmentation]).segmented_beta()\n",
    "\n",
    "asc_drive = Beta('asc_drive', 0, None, None, 0)\n",
    "segmented_asc_drive = seg.Segmentation(asc_drive,[gender_segmentation]).segmented_beta()"
   ]
  },
  {
   "cell_type": "markdown",
   "id": "f67213bd",
   "metadata": {},
   "source": [
    "We redefine the value function of the 4 alternatives, introducing the segmented ASC and the segmented cost attribute"
   ]
  },
  {
   "cell_type": "code",
   "execution_count": 78,
   "id": "bf868d8e",
   "metadata": {},
   "outputs": [],
   "source": [
    "v_walk_model2= beta_time_walk * time_walk  \n",
    "v_cycle_model2= segmented_asc_cycle + beta_time_cycle * time_cycle \n",
    "v_pt_model2= segmented_asc_pt + beta_time_pt * time_pt + beta_cost * cost_pt\n",
    "v_drive_model2= segmented_asc_drive + beta_time_drive * time_drive + beta_cost * cost_drive"
   ]
  },
  {
   "cell_type": "markdown",
   "id": "55584126",
   "metadata": {},
   "source": [
    "We can compute the result of the new model"
   ]
  },
  {
   "cell_type": "code",
   "execution_count": 79,
   "id": "4b27684e",
   "metadata": {},
   "outputs": [
    {
     "data": {
      "text/html": [
       "<div>\n",
       "<style scoped>\n",
       "    .dataframe tbody tr th:only-of-type {\n",
       "        vertical-align: middle;\n",
       "    }\n",
       "\n",
       "    .dataframe tbody tr th {\n",
       "        vertical-align: top;\n",
       "    }\n",
       "\n",
       "    .dataframe thead th {\n",
       "        text-align: right;\n",
       "    }\n",
       "</style>\n",
       "<table border=\"1\" class=\"dataframe\">\n",
       "  <thead>\n",
       "    <tr style=\"text-align: right;\">\n",
       "      <th></th>\n",
       "      <th>Value</th>\n",
       "      <th>Rob. Std err</th>\n",
       "      <th>Rob. t-test</th>\n",
       "      <th>Rob. p-value</th>\n",
       "    </tr>\n",
       "  </thead>\n",
       "  <tbody>\n",
       "    <tr>\n",
       "      <th>asc_cycle</th>\n",
       "      <td>-5.454910</td>\n",
       "      <td>0.253347</td>\n",
       "      <td>-21.531354</td>\n",
       "      <td>0.000000e+00</td>\n",
       "    </tr>\n",
       "    <tr>\n",
       "      <th>asc_cycle_male</th>\n",
       "      <td>1.051802</td>\n",
       "      <td>0.208766</td>\n",
       "      <td>5.038188</td>\n",
       "      <td>4.699608e-07</td>\n",
       "    </tr>\n",
       "    <tr>\n",
       "      <th>asc_drive</th>\n",
       "      <td>-1.893661</td>\n",
       "      <td>0.144300</td>\n",
       "      <td>-13.123043</td>\n",
       "      <td>0.000000e+00</td>\n",
       "    </tr>\n",
       "    <tr>\n",
       "      <th>asc_drive_male</th>\n",
       "      <td>-0.197962</td>\n",
       "      <td>0.095253</td>\n",
       "      <td>-2.078277</td>\n",
       "      <td>3.768381e-02</td>\n",
       "    </tr>\n",
       "    <tr>\n",
       "      <th>asc_pt</th>\n",
       "      <td>-2.208490</td>\n",
       "      <td>0.146370</td>\n",
       "      <td>-15.088352</td>\n",
       "      <td>0.000000e+00</td>\n",
       "    </tr>\n",
       "    <tr>\n",
       "      <th>asc_pt_male</th>\n",
       "      <td>-0.333165</td>\n",
       "      <td>0.099554</td>\n",
       "      <td>-3.346591</td>\n",
       "      <td>8.181180e-04</td>\n",
       "    </tr>\n",
       "    <tr>\n",
       "      <th>beta_cost</th>\n",
       "      <td>-0.182827</td>\n",
       "      <td>0.016154</td>\n",
       "      <td>-11.317822</td>\n",
       "      <td>0.000000e+00</td>\n",
       "    </tr>\n",
       "    <tr>\n",
       "      <th>beta_time_cycle</th>\n",
       "      <td>-5.580780</td>\n",
       "      <td>0.473118</td>\n",
       "      <td>-11.795745</td>\n",
       "      <td>0.000000e+00</td>\n",
       "    </tr>\n",
       "    <tr>\n",
       "      <th>beta_time_drive</th>\n",
       "      <td>-6.487957</td>\n",
       "      <td>0.380056</td>\n",
       "      <td>-17.071074</td>\n",
       "      <td>0.000000e+00</td>\n",
       "    </tr>\n",
       "    <tr>\n",
       "      <th>beta_time_pt</th>\n",
       "      <td>-3.527004</td>\n",
       "      <td>0.251404</td>\n",
       "      <td>-14.029204</td>\n",
       "      <td>0.000000e+00</td>\n",
       "    </tr>\n",
       "    <tr>\n",
       "      <th>beta_time_walk</th>\n",
       "      <td>-8.456644</td>\n",
       "      <td>0.417761</td>\n",
       "      <td>-20.242755</td>\n",
       "      <td>0.000000e+00</td>\n",
       "    </tr>\n",
       "  </tbody>\n",
       "</table>\n",
       "</div>"
      ],
      "text/plain": [
       "                    Value  Rob. Std err  Rob. t-test  Rob. p-value\n",
       "asc_cycle       -5.454910      0.253347   -21.531354  0.000000e+00\n",
       "asc_cycle_male   1.051802      0.208766     5.038188  4.699608e-07\n",
       "asc_drive       -1.893661      0.144300   -13.123043  0.000000e+00\n",
       "asc_drive_male  -0.197962      0.095253    -2.078277  3.768381e-02\n",
       "asc_pt          -2.208490      0.146370   -15.088352  0.000000e+00\n",
       "asc_pt_male     -0.333165      0.099554    -3.346591  8.181180e-04\n",
       "beta_cost       -0.182827      0.016154   -11.317822  0.000000e+00\n",
       "beta_time_cycle -5.580780      0.473118   -11.795745  0.000000e+00\n",
       "beta_time_drive -6.487957      0.380056   -17.071074  0.000000e+00\n",
       "beta_time_pt    -3.527004      0.251404   -14.029204  0.000000e+00\n",
       "beta_time_walk  -8.456644      0.417761   -20.242755  0.000000e+00"
      ]
     },
     "execution_count": 79,
     "metadata": {},
     "output_type": "execute_result"
    }
   ],
   "source": [
    "V_model2 = {1: v_walk_model2 , 2: v_cycle_model2, 3: v_pt_model2, 4: v_drive_model2}\n",
    "logprob_model2 = models.loglogit(V_model2, av, travel_mode)\n",
    "biogeme_model2 = bio.BIOGEME(database, logprob_model2)\n",
    "biogeme_model2.modelName = 'Model_2'\n",
    "all_results['Model2'] = biogeme_model2.estimate()\n",
    "results_segmented_gender = biogeme_model2.estimate()\n",
    "results_segmented_gender.getEstimatedParameters()"
   ]
  },
  {
   "cell_type": "code",
   "execution_count": 80,
   "id": "710c9e7b",
   "metadata": {},
   "outputs": [
    {
     "data": {
      "text/plain": [
       "-6931.471805599917"
      ]
     },
     "execution_count": 80,
     "metadata": {},
     "output_type": "execute_result"
    }
   ],
   "source": [
    "biogeme_model2.calculateNullLoglikelihood(av)"
   ]
  },
  {
   "cell_type": "markdown",
   "id": "83116db7",
   "metadata": {},
   "source": [
    "### Cost segmentation"
   ]
  },
  {
   "cell_type": "markdown",
   "id": "3fa78a34",
   "metadata": {},
   "source": [
    "And its interaction on the cost attribute in the car and public transport alternative."
   ]
  },
  {
   "cell_type": "code",
   "execution_count": 81,
   "id": "c92a1c7b",
   "metadata": {},
   "outputs": [],
   "source": [
    "beta_cost = Beta('beta_cost', 0, None, None, 0)\n",
    "segmented_beta_cost = seg.Segmentation(beta_cost, [gender_segmentation]).segmented_beta()"
   ]
  },
  {
   "cell_type": "code",
   "execution_count": 82,
   "id": "007e2465",
   "metadata": {},
   "outputs": [],
   "source": [
    "v_walk_model2_2= beta_time_walk * time_walk  \n",
    "v_cycle_model2_2= asc_cycle + beta_time_cycle * time_cycle \n",
    "v_pt_model2_2= asc_pt + beta_time_pt * time_pt + segmented_beta_cost * cost_pt\n",
    "v_drive_model2_2= asc_drive + beta_time_drive * time_drive + segmented_beta_cost * cost_drive"
   ]
  },
  {
   "cell_type": "markdown",
   "id": "06d64d74",
   "metadata": {},
   "source": [
    "We can compute the result of the new model"
   ]
  },
  {
   "cell_type": "code",
   "execution_count": 83,
   "id": "573b49fd",
   "metadata": {},
   "outputs": [
    {
     "data": {
      "text/html": [
       "<div>\n",
       "<style scoped>\n",
       "    .dataframe tbody tr th:only-of-type {\n",
       "        vertical-align: middle;\n",
       "    }\n",
       "\n",
       "    .dataframe tbody tr th {\n",
       "        vertical-align: top;\n",
       "    }\n",
       "\n",
       "    .dataframe thead th {\n",
       "        text-align: right;\n",
       "    }\n",
       "</style>\n",
       "<table border=\"1\" class=\"dataframe\">\n",
       "  <thead>\n",
       "    <tr style=\"text-align: right;\">\n",
       "      <th></th>\n",
       "      <th>Value</th>\n",
       "      <th>Rob. Std err</th>\n",
       "      <th>Rob. t-test</th>\n",
       "      <th>Rob. p-value</th>\n",
       "    </tr>\n",
       "  </thead>\n",
       "  <tbody>\n",
       "    <tr>\n",
       "      <th>asc_cycle</th>\n",
       "      <td>-4.843766</td>\n",
       "      <td>0.202192</td>\n",
       "      <td>-23.956237</td>\n",
       "      <td>0.000000e+00</td>\n",
       "    </tr>\n",
       "    <tr>\n",
       "      <th>asc_drive</th>\n",
       "      <td>-1.971716</td>\n",
       "      <td>0.137731</td>\n",
       "      <td>-14.315753</td>\n",
       "      <td>0.000000e+00</td>\n",
       "    </tr>\n",
       "    <tr>\n",
       "      <th>asc_pt</th>\n",
       "      <td>-2.343113</td>\n",
       "      <td>0.139307</td>\n",
       "      <td>-16.819783</td>\n",
       "      <td>0.000000e+00</td>\n",
       "    </tr>\n",
       "    <tr>\n",
       "      <th>beta_cost</th>\n",
       "      <td>-0.151590</td>\n",
       "      <td>0.018749</td>\n",
       "      <td>-8.085464</td>\n",
       "      <td>6.661338e-16</td>\n",
       "    </tr>\n",
       "    <tr>\n",
       "      <th>beta_cost_male</th>\n",
       "      <td>-0.065393</td>\n",
       "      <td>0.031840</td>\n",
       "      <td>-2.053794</td>\n",
       "      <td>3.999566e-02</td>\n",
       "    </tr>\n",
       "    <tr>\n",
       "      <th>beta_time_cycle</th>\n",
       "      <td>-5.348638</td>\n",
       "      <td>0.459249</td>\n",
       "      <td>-11.646498</td>\n",
       "      <td>0.000000e+00</td>\n",
       "    </tr>\n",
       "    <tr>\n",
       "      <th>beta_time_drive</th>\n",
       "      <td>-6.483025</td>\n",
       "      <td>0.380413</td>\n",
       "      <td>-17.042049</td>\n",
       "      <td>0.000000e+00</td>\n",
       "    </tr>\n",
       "    <tr>\n",
       "      <th>beta_time_pt</th>\n",
       "      <td>-3.536891</td>\n",
       "      <td>0.250704</td>\n",
       "      <td>-14.107830</td>\n",
       "      <td>0.000000e+00</td>\n",
       "    </tr>\n",
       "    <tr>\n",
       "      <th>beta_time_walk</th>\n",
       "      <td>-8.435602</td>\n",
       "      <td>0.418400</td>\n",
       "      <td>-20.161583</td>\n",
       "      <td>0.000000e+00</td>\n",
       "    </tr>\n",
       "  </tbody>\n",
       "</table>\n",
       "</div>"
      ],
      "text/plain": [
       "                    Value  Rob. Std err  Rob. t-test  Rob. p-value\n",
       "asc_cycle       -4.843766      0.202192   -23.956237  0.000000e+00\n",
       "asc_drive       -1.971716      0.137731   -14.315753  0.000000e+00\n",
       "asc_pt          -2.343113      0.139307   -16.819783  0.000000e+00\n",
       "beta_cost       -0.151590      0.018749    -8.085464  6.661338e-16\n",
       "beta_cost_male  -0.065393      0.031840    -2.053794  3.999566e-02\n",
       "beta_time_cycle -5.348638      0.459249   -11.646498  0.000000e+00\n",
       "beta_time_drive -6.483025      0.380413   -17.042049  0.000000e+00\n",
       "beta_time_pt    -3.536891      0.250704   -14.107830  0.000000e+00\n",
       "beta_time_walk  -8.435602      0.418400   -20.161583  0.000000e+00"
      ]
     },
     "execution_count": 83,
     "metadata": {},
     "output_type": "execute_result"
    }
   ],
   "source": [
    "V_model2_2 = {1: v_walk_model2_2 , 2: v_cycle_model2_2, 3: v_pt_model2_2, 4: v_drive_model2_2}\n",
    "logprob_model2_2 = models.loglogit(V_model2_2, av, travel_mode)\n",
    "biogeme_model2_2 = bio.BIOGEME(database, logprob_model2_2)\n",
    "biogeme_model2_2.modelName = 'Model_2_2'\n",
    "all_results['Model2_2'] = biogeme_model2_2.estimate()\n",
    "results_segmented_gender_2 = biogeme_model2_2.estimate()\n",
    "results_segmented_gender_2.getEstimatedParameters()"
   ]
  },
  {
   "cell_type": "code",
   "execution_count": 84,
   "id": "be195af2",
   "metadata": {},
   "outputs": [
    {
     "data": {
      "text/plain": [
       "-6931.471805599917"
      ]
     },
     "execution_count": 84,
     "metadata": {},
     "output_type": "execute_result"
    }
   ],
   "source": [
    "biogeme_model2_2.calculateNullLoglikelihood(av)"
   ]
  },
  {
   "cell_type": "markdown",
   "id": "12f856bb",
   "metadata": {},
   "source": [
    "### Compiling all results from the different models"
   ]
  },
  {
   "cell_type": "code",
   "execution_count": 85,
   "id": "77b46352",
   "metadata": {},
   "outputs": [
    {
     "data": {
      "text/plain": [
       "(                                         Model0           Model1  \\\n",
       " Number of estimated parameters                5                8   \n",
       " Sample size                                5000             5000   \n",
       " Final log likelihood               -4587.818071     -4275.496542   \n",
       " Akaike Information Criterion        9185.636142      8566.993084   \n",
       " Bayesian Information Criterion      9218.222108       8619.13063   \n",
       " asc_cycle (t-test)                 -3.88  (-36)   -4.85  (-23.9)   \n",
       " asc_drive (t-test)                -1.3  (-16.1)   -1.97  (-14.3)   \n",
       " asc_pt (t-test)                  -0.503  (-9.3)   -2.34  (-16.8)   \n",
       " beta_cost (t-test)              -0.194  (-13.9)  -0.182  (-11.3)   \n",
       " beta_time (t-test)                -5.5  (-26.3)                    \n",
       " beta_time_cycle (t-test)                          -5.31  (-11.5)   \n",
       " beta_time_drive (t-test)                          -6.47  (-17.1)   \n",
       " beta_time_pt (t-test)                             -3.54  (-14.1)   \n",
       " beta_time_walk (t-test)                           -8.43  (-20.1)   \n",
       " asc_cycle_male (t-test)                                            \n",
       " asc_drive_male (t-test)                                            \n",
       " asc_pt_male (t-test)                                               \n",
       " beta_cost_male (t-test)                                            \n",
       " \n",
       "                                          Model2          Model2_2  \n",
       " Number of estimated parameters               11                 9  \n",
       " Sample size                                5000              5000  \n",
       " Final log likelihood               -4245.240231      -4273.204021  \n",
       " Akaike Information Criterion        8512.480463       8564.408041  \n",
       " Bayesian Information Criterion      8584.169588        8623.06278  \n",
       " asc_cycle (t-test)               -5.45  (-21.5)      -4.84  (-24)  \n",
       " asc_drive (t-test)               -1.89  (-13.1)    -1.97  (-14.3)  \n",
       " asc_pt (t-test)                  -2.21  (-15.1)    -2.34  (-16.8)  \n",
       " beta_cost (t-test)              -0.183  (-11.3)   -0.152  (-8.09)  \n",
       " beta_time (t-test)                                                 \n",
       " beta_time_cycle (t-test)         -5.58  (-11.8)    -5.35  (-11.6)  \n",
       " beta_time_drive (t-test)         -6.49  (-17.1)      -6.48  (-17)  \n",
       " beta_time_pt (t-test)              -3.53  (-14)    -3.54  (-14.1)  \n",
       " beta_time_walk (t-test)          -8.46  (-20.2)    -8.44  (-20.2)  \n",
       " asc_cycle_male (t-test)            1.05  (5.04)                    \n",
       " asc_drive_male (t-test)         -0.198  (-2.08)                    \n",
       " asc_pt_male (t-test)            -0.333  (-3.35)                    \n",
       " beta_cost_male (t-test)                          -0.0654  (-2.05)  ,\n",
       " {'Model0': 'Model0',\n",
       "  'Model1': 'Model1',\n",
       "  'Model2': 'Model2',\n",
       "  'Model2_2': 'Model2_2'})"
      ]
     },
     "execution_count": 85,
     "metadata": {},
     "output_type": "execute_result"
    }
   ],
   "source": [
    "res.compile_estimation_results(all_results)"
   ]
  },
  {
   "cell_type": "markdown",
   "id": "ba30ee54",
   "metadata": {},
   "source": [
    "### Likelihood ratio test to check if model_2 and model_2_2 are equivalent or not"
   ]
  },
  {
   "cell_type": "code",
   "execution_count": 86,
   "id": "fcbcacce",
   "metadata": {},
   "outputs": [
    {
     "data": {
      "text/plain": [
       "LRTuple(message='H0 can be rejected at level 5.0%', statistic=55.92757888516644, threshold=5.991464547107979)"
      ]
     },
     "execution_count": 86,
     "metadata": {},
     "output_type": "execute_result"
    }
   ],
   "source": [
    "results_segmented_gender.likelihood_ratio_test(results_segmented_gender_2, 0.05)"
   ]
  },
  {
   "cell_type": "markdown",
   "id": "1a9d818c",
   "metadata": {},
   "source": [
    "Model_2 is preferred because they are not equivalent. The BIC and AIC are smaller and the final likelihood is bigger for model 2"
   ]
  },
  {
   "cell_type": "markdown",
   "id": "dce53b05",
   "metadata": {},
   "source": [
    "### Comparison with model 1"
   ]
  },
  {
   "cell_type": "code",
   "execution_count": 87,
   "id": "955192ec",
   "metadata": {},
   "outputs": [
    {
     "data": {
      "text/plain": [
       "LRTuple(message='H0 can be rejected at level 5.0%', statistic=60.51262152961135, threshold=7.814727903251179)"
      ]
     },
     "execution_count": 87,
     "metadata": {},
     "output_type": "execute_result"
    }
   ],
   "source": [
    "results_segmented_gender.likelihood_ratio_test(results_specific_time, 0.05)"
   ]
  },
  {
   "cell_type": "markdown",
   "id": "c7630c71",
   "metadata": {},
   "source": [
    "Model_2 is preferred to Model_1 because they are not equivalent. The BIC and AIC are smaller and the final likelihood is bigger for model 2."
   ]
  },
  {
   "cell_type": "markdown",
   "id": "63390388",
   "metadata": {},
   "source": [
    "# Model 3 - Thomas"
   ]
  },
  {
   "cell_type": "code",
   "execution_count": 88,
   "id": "1e98a5f0",
   "metadata": {},
   "outputs": [],
   "source": [
    "# Repartir du model segmenté, Modèle 2"
   ]
  },
  {
   "cell_type": "code",
   "execution_count": 89,
   "id": "a90aa09f",
   "metadata": {
    "tags": []
   },
   "outputs": [],
   "source": [
    "#GENDER segmentation\n",
    "gender_segmentation_3bis = seg.DiscreteSegmentationTuple(variable=female, mapping={1: 'female', 0: 'male'})"
   ]
  },
  {
   "cell_type": "code",
   "execution_count": 90,
   "id": "e32c4808",
   "metadata": {},
   "outputs": [],
   "source": [
    "asc_cycle_3bis = Beta('asc_cycle_3bis', 0, None, None, 0)\n",
    "segmented_asc_cycle_3bis = seg.Segmentation(asc_cycle,[gender_segmentation]).segmented_beta()\n",
    "\n",
    "asc_pt_3bis = Beta('asc_pt_3bis', 0, None, None, 0)\n",
    "segmented_asc_pt_3bis = seg.Segmentation(asc_pt,[gender_segmentation]).segmented_beta()\n",
    "\n",
    "asc_drive_3bis = Beta('asc_drive_3bis', 0, None, None, 0)\n",
    "segmented_asc_drive_3bis = seg.Segmentation(asc_drive_3bis,[gender_segmentation_3bis]).segmented_beta()"
   ]
  },
  {
   "cell_type": "code",
   "execution_count": 91,
   "id": "f8c5dd93",
   "metadata": {
    "tags": []
   },
   "outputs": [],
   "source": [
    "beta_time_walk_3bis = Beta('beta_time_walk_3bis', 0, None, None, 0)\n",
    "beta_time_cycle_3bis = Beta('beta_time_cycle_3bis', 0, None, None, 0)\n",
    "\n",
    "beta_time_pt_3bis = Beta('beta_time_pt_3bis', 0, None, None, 0)\n",
    "beta_time_pt_3bis_squarred = Beta('beta_time_pt_3bis_squarred', 0, None, None, 0)\n",
    "\n",
    "beta_time_drive_3bis = Beta('beta_time_drive_3bis', 0, None, None, 0)\n",
    "beta_cost_3bis = Beta('beta_cost_3bis', 0, None, None, 0)\n",
    "\n",
    "\n",
    "v_walk_model_3bis= beta_time_walk_3bis * time_walk  \n",
    "\n",
    "v_cycle_model_3bis= segmented_asc_cycle_3bis + beta_time_cycle_3bis * time_cycle \n",
    "\n",
    "v_pt_model_3bis= segmented_asc_pt_3bis + beta_time_pt_3bis * time_pt + beta_time_pt_3bis_squarred *time_pt*time_pt + beta_cost_3bis * cost_pt\n",
    "\n",
    "v_drive_model_3bis= segmented_asc_drive_3bis + beta_time_drive_3bis * time_drive + beta_cost_3bis * cost_drive"
   ]
  },
  {
   "cell_type": "code",
   "execution_count": 92,
   "id": "20c08b22",
   "metadata": {
    "tags": []
   },
   "outputs": [
    {
     "data": {
      "text/html": [
       "<div>\n",
       "<style scoped>\n",
       "    .dataframe tbody tr th:only-of-type {\n",
       "        vertical-align: middle;\n",
       "    }\n",
       "\n",
       "    .dataframe tbody tr th {\n",
       "        vertical-align: top;\n",
       "    }\n",
       "\n",
       "    .dataframe thead th {\n",
       "        text-align: right;\n",
       "    }\n",
       "</style>\n",
       "<table border=\"1\" class=\"dataframe\">\n",
       "  <thead>\n",
       "    <tr style=\"text-align: right;\">\n",
       "      <th></th>\n",
       "      <th>Value</th>\n",
       "      <th>Rob. Std err</th>\n",
       "      <th>Rob. t-test</th>\n",
       "      <th>Rob. p-value</th>\n",
       "    </tr>\n",
       "  </thead>\n",
       "  <tbody>\n",
       "    <tr>\n",
       "      <th>asc_cycle</th>\n",
       "      <td>-5.373633</td>\n",
       "      <td>0.250689</td>\n",
       "      <td>-21.435415</td>\n",
       "      <td>0.000000e+00</td>\n",
       "    </tr>\n",
       "    <tr>\n",
       "      <th>asc_cycle_male</th>\n",
       "      <td>1.052224</td>\n",
       "      <td>0.208454</td>\n",
       "      <td>5.047748</td>\n",
       "      <td>4.470479e-07</td>\n",
       "    </tr>\n",
       "    <tr>\n",
       "      <th>asc_drive_3bis</th>\n",
       "      <td>-1.802140</td>\n",
       "      <td>0.145490</td>\n",
       "      <td>-12.386675</td>\n",
       "      <td>0.000000e+00</td>\n",
       "    </tr>\n",
       "    <tr>\n",
       "      <th>asc_drive_3bis_male</th>\n",
       "      <td>-0.198042</td>\n",
       "      <td>0.094447</td>\n",
       "      <td>-2.096845</td>\n",
       "      <td>3.600733e-02</td>\n",
       "    </tr>\n",
       "    <tr>\n",
       "      <th>asc_pt</th>\n",
       "      <td>-2.490305</td>\n",
       "      <td>0.160124</td>\n",
       "      <td>-15.552319</td>\n",
       "      <td>0.000000e+00</td>\n",
       "    </tr>\n",
       "    <tr>\n",
       "      <th>asc_pt_male</th>\n",
       "      <td>-0.339756</td>\n",
       "      <td>0.101136</td>\n",
       "      <td>-3.359391</td>\n",
       "      <td>7.811442e-04</td>\n",
       "    </tr>\n",
       "    <tr>\n",
       "      <th>beta_cost_3bis</th>\n",
       "      <td>-0.180475</td>\n",
       "      <td>0.016392</td>\n",
       "      <td>-11.010049</td>\n",
       "      <td>0.000000e+00</td>\n",
       "    </tr>\n",
       "    <tr>\n",
       "      <th>beta_time_cycle_3bis</th>\n",
       "      <td>-5.573343</td>\n",
       "      <td>0.458404</td>\n",
       "      <td>-12.158134</td>\n",
       "      <td>0.000000e+00</td>\n",
       "    </tr>\n",
       "    <tr>\n",
       "      <th>beta_time_drive_3bis</th>\n",
       "      <td>-6.562530</td>\n",
       "      <td>0.388238</td>\n",
       "      <td>-16.903348</td>\n",
       "      <td>0.000000e+00</td>\n",
       "    </tr>\n",
       "    <tr>\n",
       "      <th>beta_time_pt_3bis</th>\n",
       "      <td>-1.983146</td>\n",
       "      <td>0.470332</td>\n",
       "      <td>-4.216483</td>\n",
       "      <td>2.481418e-05</td>\n",
       "    </tr>\n",
       "    <tr>\n",
       "      <th>beta_time_pt_3bis_squarred</th>\n",
       "      <td>-1.234442</td>\n",
       "      <td>0.350105</td>\n",
       "      <td>-3.525923</td>\n",
       "      <td>4.220091e-04</td>\n",
       "    </tr>\n",
       "    <tr>\n",
       "      <th>beta_time_walk_3bis</th>\n",
       "      <td>-8.308049</td>\n",
       "      <td>0.418052</td>\n",
       "      <td>-19.873241</td>\n",
       "      <td>0.000000e+00</td>\n",
       "    </tr>\n",
       "  </tbody>\n",
       "</table>\n",
       "</div>"
      ],
      "text/plain": [
       "                               Value  Rob. Std err  Rob. t-test  Rob. p-value\n",
       "asc_cycle                  -5.373633      0.250689   -21.435415  0.000000e+00\n",
       "asc_cycle_male              1.052224      0.208454     5.047748  4.470479e-07\n",
       "asc_drive_3bis             -1.802140      0.145490   -12.386675  0.000000e+00\n",
       "asc_drive_3bis_male        -0.198042      0.094447    -2.096845  3.600733e-02\n",
       "asc_pt                     -2.490305      0.160124   -15.552319  0.000000e+00\n",
       "asc_pt_male                -0.339756      0.101136    -3.359391  7.811442e-04\n",
       "beta_cost_3bis             -0.180475      0.016392   -11.010049  0.000000e+00\n",
       "beta_time_cycle_3bis       -5.573343      0.458404   -12.158134  0.000000e+00\n",
       "beta_time_drive_3bis       -6.562530      0.388238   -16.903348  0.000000e+00\n",
       "beta_time_pt_3bis          -1.983146      0.470332    -4.216483  2.481418e-05\n",
       "beta_time_pt_3bis_squarred -1.234442      0.350105    -3.525923  4.220091e-04\n",
       "beta_time_walk_3bis        -8.308049      0.418052   -19.873241  0.000000e+00"
      ]
     },
     "execution_count": 92,
     "metadata": {},
     "output_type": "execute_result"
    }
   ],
   "source": [
    "V_model_3bis = {1: v_walk_model_3bis , 2: v_cycle_model_3bis, 3: v_pt_model_3bis, 4: v_drive_model_3bis}\n",
    "logprob_model_3bis = models.loglogit(V_model_3bis, av, travel_mode)\n",
    "biogeme_model_3bis = bio.BIOGEME(database, logprob_model_3bis)\n",
    "biogeme_model_3bis.modelName = 'Model_3bis'\n",
    "all_results['Model_3bis'] = biogeme_model_3bis.estimate()\n",
    "results_segmented_gender_3bis = biogeme_model_3bis.estimate()\n",
    "results_segmented_gender_3bis.getEstimatedParameters()"
   ]
  },
  {
   "cell_type": "code",
   "execution_count": 93,
   "id": "9588e35f",
   "metadata": {
    "tags": []
   },
   "outputs": [],
   "source": [
    "#COST segmentation"
   ]
  },
  {
   "cell_type": "code",
   "execution_count": 94,
   "id": "bac426fa",
   "metadata": {
    "tags": []
   },
   "outputs": [],
   "source": [
    "beta_cost_33 = Beta('beta_cost_33', 0, None, None, 0)\n",
    "segmented_beta_cost_33 = seg.Segmentation(beta_cost_33, [gender_segmentation_3bis]).segmented_beta()"
   ]
  },
  {
   "cell_type": "code",
   "execution_count": 95,
   "id": "641607b6",
   "metadata": {
    "tags": []
   },
   "outputs": [],
   "source": [
    "beta_time_pt_33_squarred = Beta('beta_time_pt_33_squarred', 0, None, None, 0)\n",
    "\n",
    "v_walk_model_33= beta_time_walk * time_walk  \n",
    "\n",
    "v_cycle_model_33= asc_cycle + beta_time_cycle * time_cycle \n",
    "\n",
    "v_pt_model_33= asc_pt + beta_time_pt * time_pt + beta_time_pt_33_squarred * time_pt * time_pt + segmented_beta_cost * cost_pt\n",
    "\n",
    "v_drive_model_33= asc_drive + beta_time_drive * time_drive + segmented_beta_cost * cost_drive"
   ]
  },
  {
   "cell_type": "code",
   "execution_count": 96,
   "id": "5298c7fb",
   "metadata": {
    "tags": []
   },
   "outputs": [
    {
     "data": {
      "text/html": [
       "<div>\n",
       "<style scoped>\n",
       "    .dataframe tbody tr th:only-of-type {\n",
       "        vertical-align: middle;\n",
       "    }\n",
       "\n",
       "    .dataframe tbody tr th {\n",
       "        vertical-align: top;\n",
       "    }\n",
       "\n",
       "    .dataframe thead th {\n",
       "        text-align: right;\n",
       "    }\n",
       "</style>\n",
       "<table border=\"1\" class=\"dataframe\">\n",
       "  <thead>\n",
       "    <tr style=\"text-align: right;\">\n",
       "      <th></th>\n",
       "      <th>Value</th>\n",
       "      <th>Rob. Std err</th>\n",
       "      <th>Rob. t-test</th>\n",
       "      <th>Rob. p-value</th>\n",
       "    </tr>\n",
       "  </thead>\n",
       "  <tbody>\n",
       "    <tr>\n",
       "      <th>asc_cycle</th>\n",
       "      <td>-4.761755</td>\n",
       "      <td>0.199492</td>\n",
       "      <td>-23.869348</td>\n",
       "      <td>0.000000e+00</td>\n",
       "    </tr>\n",
       "    <tr>\n",
       "      <th>asc_drive</th>\n",
       "      <td>-1.881506</td>\n",
       "      <td>0.139071</td>\n",
       "      <td>-13.529130</td>\n",
       "      <td>0.000000e+00</td>\n",
       "    </tr>\n",
       "    <tr>\n",
       "      <th>asc_pt</th>\n",
       "      <td>-2.623362</td>\n",
       "      <td>0.154063</td>\n",
       "      <td>-17.027877</td>\n",
       "      <td>0.000000e+00</td>\n",
       "    </tr>\n",
       "    <tr>\n",
       "      <th>beta_cost</th>\n",
       "      <td>-0.149036</td>\n",
       "      <td>0.018924</td>\n",
       "      <td>-7.875293</td>\n",
       "      <td>3.330669e-15</td>\n",
       "    </tr>\n",
       "    <tr>\n",
       "      <th>beta_cost_male</th>\n",
       "      <td>-0.065963</td>\n",
       "      <td>0.032233</td>\n",
       "      <td>-2.046409</td>\n",
       "      <td>4.071610e-02</td>\n",
       "    </tr>\n",
       "    <tr>\n",
       "      <th>beta_time_cycle</th>\n",
       "      <td>-5.345590</td>\n",
       "      <td>0.445806</td>\n",
       "      <td>-11.990847</td>\n",
       "      <td>0.000000e+00</td>\n",
       "    </tr>\n",
       "    <tr>\n",
       "      <th>beta_time_drive</th>\n",
       "      <td>-6.555686</td>\n",
       "      <td>0.388303</td>\n",
       "      <td>-16.882896</td>\n",
       "      <td>0.000000e+00</td>\n",
       "    </tr>\n",
       "    <tr>\n",
       "      <th>beta_time_pt</th>\n",
       "      <td>-2.013958</td>\n",
       "      <td>0.470791</td>\n",
       "      <td>-4.277818</td>\n",
       "      <td>1.887340e-05</td>\n",
       "    </tr>\n",
       "    <tr>\n",
       "      <th>beta_time_pt_33_squarred</th>\n",
       "      <td>-1.219255</td>\n",
       "      <td>0.352239</td>\n",
       "      <td>-3.461446</td>\n",
       "      <td>5.372810e-04</td>\n",
       "    </tr>\n",
       "    <tr>\n",
       "      <th>beta_time_walk</th>\n",
       "      <td>-8.288549</td>\n",
       "      <td>0.418766</td>\n",
       "      <td>-19.792813</td>\n",
       "      <td>0.000000e+00</td>\n",
       "    </tr>\n",
       "  </tbody>\n",
       "</table>\n",
       "</div>"
      ],
      "text/plain": [
       "                             Value  Rob. Std err  Rob. t-test  Rob. p-value\n",
       "asc_cycle                -4.761755      0.199492   -23.869348  0.000000e+00\n",
       "asc_drive                -1.881506      0.139071   -13.529130  0.000000e+00\n",
       "asc_pt                   -2.623362      0.154063   -17.027877  0.000000e+00\n",
       "beta_cost                -0.149036      0.018924    -7.875293  3.330669e-15\n",
       "beta_cost_male           -0.065963      0.032233    -2.046409  4.071610e-02\n",
       "beta_time_cycle          -5.345590      0.445806   -11.990847  0.000000e+00\n",
       "beta_time_drive          -6.555686      0.388303   -16.882896  0.000000e+00\n",
       "beta_time_pt             -2.013958      0.470791    -4.277818  1.887340e-05\n",
       "beta_time_pt_33_squarred -1.219255      0.352239    -3.461446  5.372810e-04\n",
       "beta_time_walk           -8.288549      0.418766   -19.792813  0.000000e+00"
      ]
     },
     "execution_count": 96,
     "metadata": {},
     "output_type": "execute_result"
    }
   ],
   "source": [
    "V_model_33 = {1: v_walk_model_33 , 2: v_cycle_model_33, 3: v_pt_model_33, 4: v_drive_model_33}\n",
    "logprob_model_33 = models.loglogit(V_model_33, av, travel_mode)\n",
    "biogeme_model_33 = bio.BIOGEME(database, logprob_model_33)\n",
    "biogeme_model_33.modelName = 'Model__33'\n",
    "all_results['Model_33'] = biogeme_model_33.estimate()\n",
    "results_segmented_gender_33 = biogeme_model_33.estimate()\n",
    "results_segmented_gender_33.getEstimatedParameters()"
   ]
  },
  {
   "cell_type": "markdown",
   "id": "0bb3f84e",
   "metadata": {},
   "source": [
    "### Comparison model_3bis and model_33"
   ]
  },
  {
   "cell_type": "code",
   "execution_count": 97,
   "id": "0ae44d6b",
   "metadata": {
    "tags": []
   },
   "outputs": [
    {
     "data": {
      "text/plain": [
       "LRTuple(message='H0 can be rejected at level 5.0%', statistic=56.37685236132165, threshold=5.991464547107979)"
      ]
     },
     "execution_count": 97,
     "metadata": {},
     "output_type": "execute_result"
    }
   ],
   "source": [
    "\n",
    "\n",
    "results_segmented_gender_3bis.likelihood_ratio_test(results_segmented_gender_33, 0.05)\n"
   ]
  },
  {
   "cell_type": "code",
   "execution_count": 98,
   "id": "7e48a6bc",
   "metadata": {
    "tags": []
   },
   "outputs": [
    {
     "name": "stdout",
     "output_type": "stream",
     "text": [
      "Number of estimated parameters:\t12\n",
      "Sample size:\t5000\n",
      "Excluded observations:\t0\n",
      "Init log likelihood:\t-4236.589\n",
      "Final log likelihood:\t-4236.589\n",
      "Likelihood ratio test for the init. model:\t-0\n",
      "Rho-square for the init. model:\t0\n",
      "Rho-square-bar for the init. model:\t-0.00283\n",
      "Akaike Information Criterion:\t8497.178\n",
      "Bayesian Information Criterion:\t8575.385\n",
      "Final gradient norm:\t2.8424E-04\n",
      "Nbr of threads:\t8\n",
      "\n"
     ]
    }
   ],
   "source": [
    "print(results_segmented_gender_3bis.printGeneralStatistics())"
   ]
  },
  {
   "cell_type": "code",
   "execution_count": 99,
   "id": "691441b6",
   "metadata": {
    "tags": []
   },
   "outputs": [
    {
     "name": "stdout",
     "output_type": "stream",
     "text": [
      "Number of estimated parameters:\t10\n",
      "Sample size:\t5000\n",
      "Excluded observations:\t0\n",
      "Init log likelihood:\t-4264.778\n",
      "Final log likelihood:\t-4264.778\n",
      "Likelihood ratio test for the init. model:\t-0\n",
      "Rho-square for the init. model:\t0\n",
      "Rho-square-bar for the init. model:\t-0.00234\n",
      "Akaike Information Criterion:\t8549.555\n",
      "Bayesian Information Criterion:\t8614.727\n",
      "Final gradient norm:\t2.1479E-03\n",
      "Nbr of threads:\t8\n",
      "\n"
     ]
    }
   ],
   "source": [
    "print(results_segmented_gender_33.printGeneralStatistics())"
   ]
  },
  {
   "cell_type": "markdown",
   "id": "4f2ece33",
   "metadata": {},
   "source": [
    "### Preferred model is model_3bis\n",
    "\n",
    "The model_3bis is preferred to model_33 as its log likelihood is greater and the AIC and BIC are smaller as well for this model."
   ]
  },
  {
   "cell_type": "markdown",
   "id": "64a24eba",
   "metadata": {},
   "source": [
    "### Comparison model_3bis and model_2"
   ]
  },
  {
   "cell_type": "code",
   "execution_count": 100,
   "id": "80bab76f",
   "metadata": {
    "tags": []
   },
   "outputs": [
    {
     "data": {
      "text/plain": [
       "LRTuple(message='H0 can be rejected at level 5.0%', statistic=17.302101969298747, threshold=3.841458820694124)"
      ]
     },
     "execution_count": 100,
     "metadata": {},
     "output_type": "execute_result"
    }
   ],
   "source": [
    "results_segmented_gender_3bis.likelihood_ratio_test(results_segmented_gender, 0.05)"
   ]
  },
  {
   "cell_type": "code",
   "execution_count": 101,
   "id": "0c1c5171",
   "metadata": {
    "tags": []
   },
   "outputs": [
    {
     "name": "stdout",
     "output_type": "stream",
     "text": [
      "Number of estimated parameters:\t11\n",
      "Sample size:\t5000\n",
      "Excluded observations:\t0\n",
      "Init log likelihood:\t-4245.24\n",
      "Final log likelihood:\t-4245.24\n",
      "Likelihood ratio test for the init. model:\t-0\n",
      "Rho-square for the init. model:\t0\n",
      "Rho-square-bar for the init. model:\t-0.00259\n",
      "Akaike Information Criterion:\t8512.48\n",
      "Bayesian Information Criterion:\t8584.17\n",
      "Final gradient norm:\t6.6512E-03\n",
      "Nbr of threads:\t8\n",
      "\n"
     ]
    }
   ],
   "source": [
    "print(results_segmented_gender.printGeneralStatistics())"
   ]
  },
  {
   "cell_type": "markdown",
   "id": "654f9e6c",
   "metadata": {},
   "source": [
    "We notice that the Final loglikelyhood as well as AIC & BIC are lower for the model_3bis than for model_2.\n",
    "As those two model are not equivalent at the 5% significance level, we can conclude that the model 3 bis is preferred"
   ]
  },
  {
   "cell_type": "markdown",
   "id": "2d8b19e2",
   "metadata": {},
   "source": [
    "### Version ancienne du power series "
   ]
  },
  {
   "cell_type": "code",
   "execution_count": 102,
   "id": "77365dba",
   "metadata": {},
   "outputs": [],
   "source": [
    "# Power Series transformation on 'pt_dur'.\n",
    "\n",
    "asc_cycle_3 = Beta('asc_cycle_3', 0, None, None, 0)\n",
    "\n",
    "asc_pt_3 = Beta('asc_pt_3', 0, None, None, 0)\n",
    "\n",
    "asc_drive_3 = Beta('asc_drive_3', 0, None, None, 0)\n",
    "\n",
    "\n",
    "beta_time_walk_3 = Beta('beta_time_walk_3', 0, None, None, 0)\n",
    "beta_time_cycle_3 = Beta('beta_time_cycle_3', 0, None, None, 0)\n",
    "\n",
    "beta_time_pt_3 = Beta('beta_time_pt_3', 0, None, None, 0)\n",
    "beta_time_pt_3_squarred = Beta('beta_time_pt_3_squarred', 0, None, None, 0)\n",
    "\n",
    "beta_time_drive_3 = Beta('beta_time_drive_3', 0, None, None, 0)\n",
    "beta_cost_3 = Beta('beta_cost_3', 0, None, None, 0)\n",
    "\n",
    "\n",
    "\n",
    "v_walk_model_3= beta_time_walk_3 * time_walk \n",
    "\n",
    "v_cycle_model_3= asc_cycle_3 + beta_time_cycle_3 * time_cycle \n",
    "\n",
    "v_pt_model_3= asc_pt_3 + beta_time_pt_3 * time_pt +beta_time_pt_3_squarred * time_pt * time_pt + beta_cost * cost_pt\n",
    "\n",
    "v_drive_model_3= asc_drive_3 + beta_time_drive_3 * time_drive + beta_cost_3 * cost_drive"
   ]
  },
  {
   "cell_type": "code",
   "execution_count": 103,
   "id": "74f820dd",
   "metadata": {
    "tags": []
   },
   "outputs": [
    {
     "data": {
      "text/html": [
       "<div>\n",
       "<style scoped>\n",
       "    .dataframe tbody tr th:only-of-type {\n",
       "        vertical-align: middle;\n",
       "    }\n",
       "\n",
       "    .dataframe tbody tr th {\n",
       "        vertical-align: top;\n",
       "    }\n",
       "\n",
       "    .dataframe thead th {\n",
       "        text-align: right;\n",
       "    }\n",
       "</style>\n",
       "<table border=\"1\" class=\"dataframe\">\n",
       "  <thead>\n",
       "    <tr style=\"text-align: right;\">\n",
       "      <th></th>\n",
       "      <th>Value</th>\n",
       "      <th>Rob. Std err</th>\n",
       "      <th>Rob. t-test</th>\n",
       "      <th>Rob. p-value</th>\n",
       "    </tr>\n",
       "  </thead>\n",
       "  <tbody>\n",
       "    <tr>\n",
       "      <th>asc_cycle_3</th>\n",
       "      <td>-4.763434</td>\n",
       "      <td>0.199847</td>\n",
       "      <td>-23.835399</td>\n",
       "      <td>0.000000e+00</td>\n",
       "    </tr>\n",
       "    <tr>\n",
       "      <th>asc_drive_3</th>\n",
       "      <td>-1.873748</td>\n",
       "      <td>0.139320</td>\n",
       "      <td>-13.449256</td>\n",
       "      <td>0.000000e+00</td>\n",
       "    </tr>\n",
       "    <tr>\n",
       "      <th>asc_pt_3</th>\n",
       "      <td>-2.601264</td>\n",
       "      <td>0.155172</td>\n",
       "      <td>-16.763701</td>\n",
       "      <td>0.000000e+00</td>\n",
       "    </tr>\n",
       "    <tr>\n",
       "      <th>beta_cost</th>\n",
       "      <td>-0.210770</td>\n",
       "      <td>0.031140</td>\n",
       "      <td>-6.768429</td>\n",
       "      <td>1.301892e-11</td>\n",
       "    </tr>\n",
       "    <tr>\n",
       "      <th>beta_cost_3</th>\n",
       "      <td>-0.168058</td>\n",
       "      <td>0.017600</td>\n",
       "      <td>-9.548949</td>\n",
       "      <td>0.000000e+00</td>\n",
       "    </tr>\n",
       "    <tr>\n",
       "      <th>beta_time_cycle_3</th>\n",
       "      <td>-5.431875</td>\n",
       "      <td>0.464148</td>\n",
       "      <td>-11.702905</td>\n",
       "      <td>0.000000e+00</td>\n",
       "    </tr>\n",
       "    <tr>\n",
       "      <th>beta_time_drive_3</th>\n",
       "      <td>-6.753131</td>\n",
       "      <td>0.442152</td>\n",
       "      <td>-15.273340</td>\n",
       "      <td>0.000000e+00</td>\n",
       "    </tr>\n",
       "    <tr>\n",
       "      <th>beta_time_pt_3</th>\n",
       "      <td>-2.024758</td>\n",
       "      <td>0.471819</td>\n",
       "      <td>-4.291384</td>\n",
       "      <td>1.775633e-05</td>\n",
       "    </tr>\n",
       "    <tr>\n",
       "      <th>beta_time_pt_3_squarred</th>\n",
       "      <td>-1.228550</td>\n",
       "      <td>0.352701</td>\n",
       "      <td>-3.483262</td>\n",
       "      <td>4.953435e-04</td>\n",
       "    </tr>\n",
       "    <tr>\n",
       "      <th>beta_time_walk_3</th>\n",
       "      <td>-8.319325</td>\n",
       "      <td>0.421317</td>\n",
       "      <td>-19.746000</td>\n",
       "      <td>0.000000e+00</td>\n",
       "    </tr>\n",
       "  </tbody>\n",
       "</table>\n",
       "</div>"
      ],
      "text/plain": [
       "                            Value  Rob. Std err  Rob. t-test  Rob. p-value\n",
       "asc_cycle_3             -4.763434      0.199847   -23.835399  0.000000e+00\n",
       "asc_drive_3             -1.873748      0.139320   -13.449256  0.000000e+00\n",
       "asc_pt_3                -2.601264      0.155172   -16.763701  0.000000e+00\n",
       "beta_cost               -0.210770      0.031140    -6.768429  1.301892e-11\n",
       "beta_cost_3             -0.168058      0.017600    -9.548949  0.000000e+00\n",
       "beta_time_cycle_3       -5.431875      0.464148   -11.702905  0.000000e+00\n",
       "beta_time_drive_3       -6.753131      0.442152   -15.273340  0.000000e+00\n",
       "beta_time_pt_3          -2.024758      0.471819    -4.291384  1.775633e-05\n",
       "beta_time_pt_3_squarred -1.228550      0.352701    -3.483262  4.953435e-04\n",
       "beta_time_walk_3        -8.319325      0.421317   -19.746000  0.000000e+00"
      ]
     },
     "execution_count": 103,
     "metadata": {},
     "output_type": "execute_result"
    }
   ],
   "source": [
    "V_model_3 = {1: v_walk_model_3 , 2: v_cycle_model_3, 3: v_pt_model_3, 4: v_drive_model_3}\n",
    "\n",
    "logprob_model_3 = models.loglogit(V_model_3, av, travel_mode)\n",
    "\n",
    "biogeme_model_3 = bio.BIOGEME(database, logprob_model_3)\n",
    "\n",
    "biogeme_model_3.modelName = 'Model_3'\n",
    "\n",
    "all_results['Model_3'] = biogeme_model_3.estimate()\n",
    "\n",
    "results_power_3 = biogeme_model_3.estimate()\n",
    "\n",
    "results_power_3.getEstimatedParameters()"
   ]
  },
  {
   "cell_type": "code",
   "execution_count": 104,
   "id": "fdef7384",
   "metadata": {
    "tags": []
   },
   "outputs": [
    {
     "data": {
      "text/plain": [
       "-6931.471805599917"
      ]
     },
     "execution_count": 104,
     "metadata": {},
     "output_type": "execute_result"
    }
   ],
   "source": [
    "#Calculate Null Log likelihood\n",
    "\n",
    "biogeme_model_3.calculateNullLoglikelihood(av)"
   ]
  },
  {
   "cell_type": "code",
   "execution_count": 105,
   "id": "187a02e3",
   "metadata": {
    "tags": []
   },
   "outputs": [
    {
     "data": {
      "text/plain": [
       "LRTuple(message='H0 can be rejected at level 5.0%', statistic=18.422522396929708, threshold=5.991464547107979)"
      ]
     },
     "execution_count": 105,
     "metadata": {},
     "output_type": "execute_result"
    }
   ],
   "source": [
    "#Comparison to model 1\n",
    "\n",
    "results_power_3.likelihood_ratio_test(results_specific_time, 0.05)\n",
    "\n",
    "\n"
   ]
  },
  {
   "cell_type": "markdown",
   "id": "fe319ce0",
   "metadata": {},
   "source": [
    "The model 3 is not preferred compare to model 1.\n",
    "\n",
    "-Is it due to the non linear transformation that is not appropriate ? Should we use boxplot instead ? --> Yes we should \n",
    "\n",
    "-Is it stated 'non-linear transfronation on one of the variables' so I just took public transport time, should I apply to the other time ? --> I think but I will ask\n",
    "\n",
    "-Should the non linear transformation be applied to an other time variable like car ? Yes I think but I will ask\n",
    "\n",
    "-Is the loglikelyhood ratio test still appropirate ? --> Maybe we should use a cox-text instead \n",
    "\n",
    "Remarks: I think that the non-linear transformation is not done on beta but rather on variables such as time, cost, etc.!\n"
   ]
  },
  {
   "cell_type": "markdown",
   "id": "8e1163d3",
   "metadata": {},
   "source": [
    "# Model 3 - Salomé"
   ]
  },
  {
   "cell_type": "code",
   "execution_count": 106,
   "id": "1b2ba158",
   "metadata": {},
   "outputs": [
    {
     "name": "stderr",
     "output_type": "stream",
     "text": [
      "It is advised to set the bounds on parameter lambda_boxcox. A value of -10 and 10 should be appropriate: Beta(\"lambda_boxcox\", 1, -10, 10, 0)\n",
      "It is advised to set the bounds on parameter lambda_boxcox. A value of -10 and 10 should be appropriate: Beta(\"lambda_boxcox\", 1, -10, 10, 0)\n",
      "It is advised to set the bounds on parameter lambda_boxcox. A value of -10 and 10 should be appropriate: Beta(\"lambda_boxcox\", 1, -10, 10, 0)\n",
      "It is advised to set the bounds on parameter lambda_boxcox. A value of -10 and 10 should be appropriate: Beta(\"lambda_boxcox\", 1, -10, 10, 0)\n"
     ]
    }
   ],
   "source": [
    "\n",
    "lambda_boxcox = Beta('lambda_boxcox', 1, None, None, 0) #vu dans le modèle 01-logit_airline_solution\n",
    "boxcox_time_walk = models.boxcox(time_walk, lambda_boxcox)\n",
    "boxcox_time_cycle = models.boxcox(time_cycle, lambda_boxcox)\n",
    "boxcox_time_pt = models.boxcox(time_pt, lambda_boxcox)\n",
    "boxcox_time_drive = models.boxcox(time_drive , lambda_boxcox)\n",
    "beta_elapsed_time_walk = Beta('beta_elapsed_walk', 0, None, None, 0)\n",
    "beta_elapsed_time_cycle = Beta('beta_elapsed_cycle', 0, None, None, 0)\n",
    "beta_elapsed_time_pt = Beta('beta_elapsed_time_pt', 0, None, None, 0)\n",
    "beta_elapsed_time_drive = Beta('beta_elapsed_time_drive', 0, None, None, 0)\n",
    "\n",
    "\n",
    "v_walk_model2= beta_time_walk * time_walk  \n",
    "v_cycle_model2= segmented_asc_cycle + beta_time_cycle * time_cycle \n",
    "v_pt_model2= segmented_asc_pt + beta_time_pt * time_pt + beta_cost * cost_pt\n",
    "v_drive_model2= segmented_asc_drive + beta_time_drive * time_drive + beta_cost * cost_drive\n",
    "\n",
    "\n",
    "v_walk_model3 = beta_elapsed_time_walk * boxcox_time_walk\n",
    "v_cycle_model3  = segmented_asc_cycle + beta_elapsed_time_cycle * boxcox_time_cycle \n",
    "v_pt_model3  = segmented_asc_pt + beta_elapsed_time_pt * boxcox_time_pt   + beta_cost * cost_pt \n",
    "v_drive_model3  = segmented_asc_drive + beta_elapsed_time_drive * boxcox_time_drive + beta_cost * cost_drive "
   ]
  },
  {
   "cell_type": "code",
   "execution_count": 107,
   "id": "609deaee",
   "metadata": {},
   "outputs": [
    {
     "data": {
      "text/html": [
       "<div>\n",
       "<style scoped>\n",
       "    .dataframe tbody tr th:only-of-type {\n",
       "        vertical-align: middle;\n",
       "    }\n",
       "\n",
       "    .dataframe tbody tr th {\n",
       "        vertical-align: top;\n",
       "    }\n",
       "\n",
       "    .dataframe thead th {\n",
       "        text-align: right;\n",
       "    }\n",
       "</style>\n",
       "<table border=\"1\" class=\"dataframe\">\n",
       "  <thead>\n",
       "    <tr style=\"text-align: right;\">\n",
       "      <th></th>\n",
       "      <th>Value</th>\n",
       "      <th>Rob. Std err</th>\n",
       "      <th>Rob. t-test</th>\n",
       "      <th>Rob. p-value</th>\n",
       "    </tr>\n",
       "  </thead>\n",
       "  <tbody>\n",
       "    <tr>\n",
       "      <th>asc_cycle</th>\n",
       "      <td>-3.218621</td>\n",
       "      <td>0.303923</td>\n",
       "      <td>-10.590245</td>\n",
       "      <td>0.000000e+00</td>\n",
       "    </tr>\n",
       "    <tr>\n",
       "      <th>asc_cycle_male</th>\n",
       "      <td>1.053236</td>\n",
       "      <td>0.210050</td>\n",
       "      <td>5.014205</td>\n",
       "      <td>5.325310e-07</td>\n",
       "    </tr>\n",
       "    <tr>\n",
       "      <th>asc_drive</th>\n",
       "      <td>0.068988</td>\n",
       "      <td>0.217652</td>\n",
       "      <td>0.316965</td>\n",
       "      <td>7.512698e-01</td>\n",
       "    </tr>\n",
       "    <tr>\n",
       "      <th>asc_drive_male</th>\n",
       "      <td>-0.226070</td>\n",
       "      <td>0.101484</td>\n",
       "      <td>-2.227646</td>\n",
       "      <td>2.590414e-02</td>\n",
       "    </tr>\n",
       "    <tr>\n",
       "      <th>asc_pt</th>\n",
       "      <td>1.844831</td>\n",
       "      <td>0.170761</td>\n",
       "      <td>10.803566</td>\n",
       "      <td>0.000000e+00</td>\n",
       "    </tr>\n",
       "    <tr>\n",
       "      <th>asc_pt_male</th>\n",
       "      <td>-0.375193</td>\n",
       "      <td>0.107310</td>\n",
       "      <td>-3.496337</td>\n",
       "      <td>4.716931e-04</td>\n",
       "    </tr>\n",
       "    <tr>\n",
       "      <th>beta_cost</th>\n",
       "      <td>-0.174891</td>\n",
       "      <td>0.015669</td>\n",
       "      <td>-11.161362</td>\n",
       "      <td>0.000000e+00</td>\n",
       "    </tr>\n",
       "    <tr>\n",
       "      <th>beta_elapsed_cycle</th>\n",
       "      <td>-3.318150</td>\n",
       "      <td>0.268401</td>\n",
       "      <td>-12.362676</td>\n",
       "      <td>0.000000e+00</td>\n",
       "    </tr>\n",
       "    <tr>\n",
       "      <th>beta_elapsed_time_drive</th>\n",
       "      <td>-3.301160</td>\n",
       "      <td>0.265807</td>\n",
       "      <td>-12.419397</td>\n",
       "      <td>0.000000e+00</td>\n",
       "    </tr>\n",
       "    <tr>\n",
       "      <th>beta_elapsed_time_pt</th>\n",
       "      <td>-2.637904</td>\n",
       "      <td>0.182666</td>\n",
       "      <td>-14.441112</td>\n",
       "      <td>0.000000e+00</td>\n",
       "    </tr>\n",
       "    <tr>\n",
       "      <th>beta_elapsed_walk</th>\n",
       "      <td>-5.446318</td>\n",
       "      <td>0.252868</td>\n",
       "      <td>-21.538176</td>\n",
       "      <td>0.000000e+00</td>\n",
       "    </tr>\n",
       "    <tr>\n",
       "      <th>lambda_boxcox</th>\n",
       "      <td>0.268649</td>\n",
       "      <td>0.049841</td>\n",
       "      <td>5.390137</td>\n",
       "      <td>7.040407e-08</td>\n",
       "    </tr>\n",
       "  </tbody>\n",
       "</table>\n",
       "</div>"
      ],
      "text/plain": [
       "                            Value  Rob. Std err  Rob. t-test  Rob. p-value\n",
       "asc_cycle               -3.218621      0.303923   -10.590245  0.000000e+00\n",
       "asc_cycle_male           1.053236      0.210050     5.014205  5.325310e-07\n",
       "asc_drive                0.068988      0.217652     0.316965  7.512698e-01\n",
       "asc_drive_male          -0.226070      0.101484    -2.227646  2.590414e-02\n",
       "asc_pt                   1.844831      0.170761    10.803566  0.000000e+00\n",
       "asc_pt_male             -0.375193      0.107310    -3.496337  4.716931e-04\n",
       "beta_cost               -0.174891      0.015669   -11.161362  0.000000e+00\n",
       "beta_elapsed_cycle      -3.318150      0.268401   -12.362676  0.000000e+00\n",
       "beta_elapsed_time_drive -3.301160      0.265807   -12.419397  0.000000e+00\n",
       "beta_elapsed_time_pt    -2.637904      0.182666   -14.441112  0.000000e+00\n",
       "beta_elapsed_walk       -5.446318      0.252868   -21.538176  0.000000e+00\n",
       "lambda_boxcox            0.268649      0.049841     5.390137  7.040407e-08"
      ]
     },
     "execution_count": 107,
     "metadata": {},
     "output_type": "execute_result"
    }
   ],
   "source": [
    "V_model3 = {1: v_walk_model3 , 2: v_cycle_model3, 3: v_pt_model3, 4: v_drive_model3}\n",
    "logprob_model3 = models.loglogit(V_model3, av, travel_mode)\n",
    "biogeme_model3 = bio.BIOGEME(database, logprob_model3)\n",
    "biogeme_model3.modelName = 'Model_3'\n",
    "all_results['Model_3'] = biogeme_model3.estimate()\n",
    "results_model3 = biogeme_model3.estimate()\n",
    "results_model3.getEstimatedParameters()"
   ]
  },
  {
   "cell_type": "code",
   "execution_count": 108,
   "id": "aaac9920",
   "metadata": {},
   "outputs": [
    {
     "name": "stderr",
     "output_type": "stream",
     "text": [
      "The syntax \"compileEstimationResults\" is deprecated and is replaced by the syntax \"compile_estimation_results\".\n"
     ]
    },
    {
     "data": {
      "text/plain": [
       "(                                              Model0           Model1  \\\n",
       " Number of estimated parameters                     5                8   \n",
       " Sample size                                     5000             5000   \n",
       " Final log likelihood                    -4587.818071     -4275.496542   \n",
       " Akaike Information Criterion             9185.636142      8566.993084   \n",
       " Bayesian Information Criterion           9218.222108       8619.13063   \n",
       " asc_cycle (t-test)                      -3.88  (-36)   -4.85  (-23.9)   \n",
       " asc_drive (t-test)                     -1.3  (-16.1)   -1.97  (-14.3)   \n",
       " asc_pt (t-test)                       -0.503  (-9.3)   -2.34  (-16.8)   \n",
       " beta_cost (t-test)                   -0.194  (-13.9)  -0.182  (-11.3)   \n",
       " beta_time (t-test)                     -5.5  (-26.3)                    \n",
       " beta_time_cycle (t-test)                               -5.31  (-11.5)   \n",
       " beta_time_drive (t-test)                               -6.47  (-17.1)   \n",
       " beta_time_pt (t-test)                                  -3.54  (-14.1)   \n",
       " beta_time_walk (t-test)                                -8.43  (-20.1)   \n",
       " asc_cycle_male (t-test)                                                 \n",
       " asc_drive_male (t-test)                                                 \n",
       " asc_pt_male (t-test)                                                    \n",
       " beta_cost_male (t-test)                                                 \n",
       " asc_drive_3bis (t-test)                                                 \n",
       " asc_drive_3bis_male (t-test)                                            \n",
       " beta_cost_3bis (t-test)                                                 \n",
       " beta_time_cycle_3bis (t-test)                                           \n",
       " beta_time_drive_3bis (t-test)                                           \n",
       " beta_time_pt_3bis (t-test)                                              \n",
       " beta_time_pt_3bis_squarred (t-test)                                     \n",
       " beta_time_walk_3bis (t-test)                                            \n",
       " beta_time_pt_33_squarred (t-test)                                       \n",
       " beta_elapsed_cycle (t-test)                                             \n",
       " beta_elapsed_time_drive (t-test)                                        \n",
       " beta_elapsed_time_pt (t-test)                                           \n",
       " beta_elapsed_walk (t-test)                                              \n",
       " lambda_boxcox (t-test)                                                  \n",
       " \n",
       "                                               Model2          Model2_2  \\\n",
       " Number of estimated parameters                    11                 9   \n",
       " Sample size                                     5000              5000   \n",
       " Final log likelihood                    -4245.240231      -4273.204021   \n",
       " Akaike Information Criterion             8512.480463       8564.408041   \n",
       " Bayesian Information Criterion           8584.169588        8623.06278   \n",
       " asc_cycle (t-test)                    -5.45  (-21.5)      -4.84  (-24)   \n",
       " asc_drive (t-test)                    -1.89  (-13.1)    -1.97  (-14.3)   \n",
       " asc_pt (t-test)                       -2.21  (-15.1)    -2.34  (-16.8)   \n",
       " beta_cost (t-test)                   -0.183  (-11.3)   -0.152  (-8.09)   \n",
       " beta_time (t-test)                                                       \n",
       " beta_time_cycle (t-test)              -5.58  (-11.8)    -5.35  (-11.6)   \n",
       " beta_time_drive (t-test)              -6.49  (-17.1)      -6.48  (-17)   \n",
       " beta_time_pt (t-test)                   -3.53  (-14)    -3.54  (-14.1)   \n",
       " beta_time_walk (t-test)               -8.46  (-20.2)    -8.44  (-20.2)   \n",
       " asc_cycle_male (t-test)                 1.05  (5.04)                     \n",
       " asc_drive_male (t-test)              -0.198  (-2.08)                     \n",
       " asc_pt_male (t-test)                 -0.333  (-3.35)                     \n",
       " beta_cost_male (t-test)                               -0.0654  (-2.05)   \n",
       " asc_drive_3bis (t-test)                                                  \n",
       " asc_drive_3bis_male (t-test)                                             \n",
       " beta_cost_3bis (t-test)                                                  \n",
       " beta_time_cycle_3bis (t-test)                                            \n",
       " beta_time_drive_3bis (t-test)                                            \n",
       " beta_time_pt_3bis (t-test)                                               \n",
       " beta_time_pt_3bis_squarred (t-test)                                      \n",
       " beta_time_walk_3bis (t-test)                                             \n",
       " beta_time_pt_33_squarred (t-test)                                        \n",
       " beta_elapsed_cycle (t-test)                                              \n",
       " beta_elapsed_time_drive (t-test)                                         \n",
       " beta_elapsed_time_pt (t-test)                                            \n",
       " beta_elapsed_walk (t-test)                                               \n",
       " lambda_boxcox (t-test)                                                   \n",
       " \n",
       "                                          Model_3bis         Model_33  \\\n",
       " Number of estimated parameters                   12               10   \n",
       " Sample size                                    5000             5000   \n",
       " Final log likelihood                    -4236.58918     -4264.777606   \n",
       " Akaike Information Criterion            8497.178361      8549.555213   \n",
       " Bayesian Information Criterion          8575.384679      8614.727145   \n",
       " asc_cycle (t-test)                   -5.37  (-21.4)   -4.76  (-23.9)   \n",
       " asc_drive (t-test)                                    -1.88  (-13.5)   \n",
       " asc_pt (t-test)                      -2.49  (-15.6)     -2.62  (-17)   \n",
       " beta_cost (t-test)                                   -0.149  (-7.88)   \n",
       " beta_time (t-test)                                                     \n",
       " beta_time_cycle (t-test)                                -5.35  (-12)   \n",
       " beta_time_drive (t-test)                              -6.56  (-16.9)   \n",
       " beta_time_pt (t-test)                                 -2.01  (-4.28)   \n",
       " beta_time_walk (t-test)                               -8.29  (-19.8)   \n",
       " asc_cycle_male (t-test)                1.05  (5.05)                    \n",
       " asc_drive_male (t-test)                                                \n",
       " asc_pt_male (t-test)                 -0.34  (-3.36)                    \n",
       " beta_cost_male (t-test)                              -0.066  (-2.05)   \n",
       " asc_drive_3bis (t-test)               -1.8  (-12.4)                    \n",
       " asc_drive_3bis_male (t-test)         -0.198  (-2.1)                    \n",
       " beta_cost_3bis (t-test)                -0.18  (-11)                    \n",
       " beta_time_cycle_3bis (t-test)        -5.57  (-12.2)                    \n",
       " beta_time_drive_3bis (t-test)        -6.56  (-16.9)                    \n",
       " beta_time_pt_3bis (t-test)           -1.98  (-4.22)                    \n",
       " beta_time_pt_3bis_squarred (t-test)  -1.23  (-3.53)                    \n",
       " beta_time_walk_3bis (t-test)         -8.31  (-19.9)                    \n",
       " beta_time_pt_33_squarred (t-test)                     -1.22  (-3.46)   \n",
       " beta_elapsed_cycle (t-test)                                            \n",
       " beta_elapsed_time_drive (t-test)                                       \n",
       " beta_elapsed_time_pt (t-test)                                          \n",
       " beta_elapsed_walk (t-test)                                             \n",
       " lambda_boxcox (t-test)                                                 \n",
       " \n",
       "                                              Model_3  \n",
       " Number of estimated parameters                    12  \n",
       " Sample size                                     5000  \n",
       " Final log likelihood                    -4157.246366  \n",
       " Akaike Information Criterion             8338.492732  \n",
       " Bayesian Information Criterion           8416.699051  \n",
       " asc_cycle (t-test)                    -3.22  (-10.6)  \n",
       " asc_drive (t-test)                    0.069  (0.317)  \n",
       " asc_pt (t-test)                         1.84  (10.8)  \n",
       " beta_cost (t-test)                   -0.175  (-11.2)  \n",
       " beta_time (t-test)                                    \n",
       " beta_time_cycle (t-test)                              \n",
       " beta_time_drive (t-test)                              \n",
       " beta_time_pt (t-test)                                 \n",
       " beta_time_walk (t-test)                               \n",
       " asc_cycle_male (t-test)                 1.05  (5.01)  \n",
       " asc_drive_male (t-test)              -0.226  (-2.23)  \n",
       " asc_pt_male (t-test)                  -0.375  (-3.5)  \n",
       " beta_cost_male (t-test)                               \n",
       " asc_drive_3bis (t-test)                               \n",
       " asc_drive_3bis_male (t-test)                          \n",
       " beta_cost_3bis (t-test)                               \n",
       " beta_time_cycle_3bis (t-test)                         \n",
       " beta_time_drive_3bis (t-test)                         \n",
       " beta_time_pt_3bis (t-test)                            \n",
       " beta_time_pt_3bis_squarred (t-test)                   \n",
       " beta_time_walk_3bis (t-test)                          \n",
       " beta_time_pt_33_squarred (t-test)                     \n",
       " beta_elapsed_cycle (t-test)           -3.32  (-12.4)  \n",
       " beta_elapsed_time_drive (t-test)       -3.3  (-12.4)  \n",
       " beta_elapsed_time_pt (t-test)         -2.64  (-14.4)  \n",
       " beta_elapsed_walk (t-test)            -5.45  (-21.5)  \n",
       " lambda_boxcox (t-test)                 0.269  (5.39)  ,\n",
       " {'Model0': 'Model0',\n",
       "  'Model1': 'Model1',\n",
       "  'Model2': 'Model2',\n",
       "  'Model2_2': 'Model2_2',\n",
       "  'Model_3bis': 'Model_3bis',\n",
       "  'Model_33': 'Model_33',\n",
       "  'Model_3': 'Model_3'})"
      ]
     },
     "execution_count": 108,
     "metadata": {},
     "output_type": "execute_result"
    }
   ],
   "source": [
    "res.compileEstimationResults(all_results)"
   ]
  },
  {
   "cell_type": "code",
   "execution_count": 109,
   "id": "8ec027b6",
   "metadata": {},
   "outputs": [
    {
     "name": "stdout",
     "output_type": "stream",
     "text": [
      "Null Loglikelihood : \n"
     ]
    },
    {
     "data": {
      "text/plain": [
       "-6931.471805599917"
      ]
     },
     "execution_count": 109,
     "metadata": {},
     "output_type": "execute_result"
    }
   ],
   "source": [
    "print(\"Null Loglikelihood : \")\n",
    "biogeme_model3.calculateNullLoglikelihood(av)"
   ]
  },
  {
   "cell_type": "code",
   "execution_count": 110,
   "id": "dc3d2404",
   "metadata": {
    "tags": []
   },
   "outputs": [
    {
     "data": {
      "text/plain": [
       "LRTuple(message='H0 can be rejected at level 5.0%', statistic=175.9877300601147, threshold=3.841458820694124)"
      ]
     },
     "execution_count": 110,
     "metadata": {},
     "output_type": "execute_result"
    }
   ],
   "source": [
    "results_model3.likelihood_ratio_test(results_segmented_gender, 0.05)"
   ]
  },
  {
   "cell_type": "code",
   "execution_count": 111,
   "id": "977c325b",
   "metadata": {
    "tags": []
   },
   "outputs": [
    {
     "name": "stdout",
     "output_type": "stream",
     "text": [
      "Number of estimated parameters:\t12\n",
      "Sample size:\t5000\n",
      "Excluded observations:\t0\n",
      "Init log likelihood:\t-4157.246\n",
      "Final log likelihood:\t-4157.246\n",
      "Likelihood ratio test for the init. model:\t-0\n",
      "Rho-square for the init. model:\t0\n",
      "Rho-square-bar for the init. model:\t-0.00289\n",
      "Akaike Information Criterion:\t8338.493\n",
      "Bayesian Information Criterion:\t8416.699\n",
      "Final gradient norm:\t8.8281E-04\n",
      "Nbr of threads:\t8\n",
      "\n"
     ]
    }
   ],
   "source": [
    "print(results_model3.printGeneralStatistics())"
   ]
  },
  {
   "cell_type": "markdown",
   "id": "facacbc9",
   "metadata": {},
   "source": [
    "To compare Model 2 and Model 3 I think we should use a Cox test as Model 3 is not a a linear restriction of Model 2, to do that we create a composite model C such that both models 1 and 2 are restricted cases of model C.\n"
   ]
  },
  {
   "cell_type": "code",
   "execution_count": 112,
   "id": "a0a16213",
   "metadata": {},
   "outputs": [],
   "source": [
    "v_walk_model2= beta_time_walk * time_walk  \n",
    "v_cycle_model2= segmented_asc_cycle + beta_time_cycle * time_cycle \n",
    "v_pt_model2= segmented_asc_pt + beta_time_pt * time_pt + beta_cost * cost_pt\n",
    "v_drive_model2= segmented_asc_drive + beta_time_drive * time_drive + beta_cost * cost_drive\n",
    "\n",
    "\n",
    "v_walk_model3 = beta_elapsed_time_walk * boxcox_time_walk\n",
    "v_cycle_model3  = segmented_asc_cycle + beta_elapsed_time_cycle * boxcox_time_cycle \n",
    "v_pt_model3  = segmented_asc_pt + beta_elapsed_time_pt * boxcox_time_pt   + beta_cost * cost_pt \n",
    "v_drive_model3  = segmented_asc_drive + beta_elapsed_time_drive * boxcox_time_drive + beta_cost * cost_drive \n",
    "\n",
    "\n",
    "v_walk_model_generic = beta_time_walk * time_walk + beta_elapsed_time_walk * boxcox_time_walk\n",
    "v_cycle_model_generic = segmented_asc_cycle + beta_time_cycle * time_cycle +  beta_elapsed_time_cycle * boxcox_time_cycle \n",
    "v_pt_model_generic = segmented_asc_pt + beta_time_pt * time_pt + beta_cost * cost_pt + beta_elapsed_time_pt * boxcox_time_pt \n",
    "v_drive_model_generic = segmented_asc_drive + beta_time_drive * time_drive + beta_cost * cost_drive + beta_elapsed_time_drive * boxcox_time_drive"
   ]
  },
  {
   "cell_type": "code",
   "execution_count": 113,
   "id": "2867b8c9",
   "metadata": {},
   "outputs": [
    {
     "data": {
      "text/html": [
       "<div>\n",
       "<style scoped>\n",
       "    .dataframe tbody tr th:only-of-type {\n",
       "        vertical-align: middle;\n",
       "    }\n",
       "\n",
       "    .dataframe tbody tr th {\n",
       "        vertical-align: top;\n",
       "    }\n",
       "\n",
       "    .dataframe thead th {\n",
       "        text-align: right;\n",
       "    }\n",
       "</style>\n",
       "<table border=\"1\" class=\"dataframe\">\n",
       "  <thead>\n",
       "    <tr style=\"text-align: right;\">\n",
       "      <th></th>\n",
       "      <th>Value</th>\n",
       "      <th>Rob. Std err</th>\n",
       "      <th>Rob. t-test</th>\n",
       "      <th>Rob. p-value</th>\n",
       "    </tr>\n",
       "  </thead>\n",
       "  <tbody>\n",
       "    <tr>\n",
       "      <th>asc_cycle</th>\n",
       "      <td>-2.703620</td>\n",
       "      <td>1.211728</td>\n",
       "      <td>-2.231211</td>\n",
       "      <td>2.566717e-02</td>\n",
       "    </tr>\n",
       "    <tr>\n",
       "      <th>asc_cycle_male</th>\n",
       "      <td>1.056108</td>\n",
       "      <td>0.209812</td>\n",
       "      <td>5.033580</td>\n",
       "      <td>4.814035e-07</td>\n",
       "    </tr>\n",
       "    <tr>\n",
       "      <th>asc_drive</th>\n",
       "      <td>0.712607</td>\n",
       "      <td>0.896057</td>\n",
       "      <td>0.795269</td>\n",
       "      <td>4.264570e-01</td>\n",
       "    </tr>\n",
       "    <tr>\n",
       "      <th>asc_drive_male</th>\n",
       "      <td>-0.224654</td>\n",
       "      <td>0.101186</td>\n",
       "      <td>-2.220203</td>\n",
       "      <td>2.640501e-02</td>\n",
       "    </tr>\n",
       "    <tr>\n",
       "      <th>asc_pt</th>\n",
       "      <td>5.548916</td>\n",
       "      <td>1.717761</td>\n",
       "      <td>3.230318</td>\n",
       "      <td>1.236526e-03</td>\n",
       "    </tr>\n",
       "    <tr>\n",
       "      <th>asc_pt_male</th>\n",
       "      <td>-0.369701</td>\n",
       "      <td>0.108179</td>\n",
       "      <td>-3.417483</td>\n",
       "      <td>6.320305e-04</td>\n",
       "    </tr>\n",
       "    <tr>\n",
       "      <th>beta_cost</th>\n",
       "      <td>-0.170996</td>\n",
       "      <td>0.015857</td>\n",
       "      <td>-10.783554</td>\n",
       "      <td>0.000000e+00</td>\n",
       "    </tr>\n",
       "    <tr>\n",
       "      <th>beta_elapsed_cycle</th>\n",
       "      <td>-5.482310</td>\n",
       "      <td>2.093502</td>\n",
       "      <td>-2.618727</td>\n",
       "      <td>8.825845e-03</td>\n",
       "    </tr>\n",
       "    <tr>\n",
       "      <th>beta_elapsed_time_drive</th>\n",
       "      <td>-5.385735</td>\n",
       "      <td>2.386486</td>\n",
       "      <td>-2.256763</td>\n",
       "      <td>2.402286e-02</td>\n",
       "    </tr>\n",
       "    <tr>\n",
       "      <th>beta_elapsed_time_pt</th>\n",
       "      <td>-2.435589</td>\n",
       "      <td>1.026143</td>\n",
       "      <td>-2.373539</td>\n",
       "      <td>1.761854e-02</td>\n",
       "    </tr>\n",
       "    <tr>\n",
       "      <th>beta_elapsed_walk</th>\n",
       "      <td>-8.170560</td>\n",
       "      <td>2.474407</td>\n",
       "      <td>-3.302027</td>\n",
       "      <td>9.598879e-04</td>\n",
       "    </tr>\n",
       "    <tr>\n",
       "      <th>beta_time_cycle</th>\n",
       "      <td>2.314887</td>\n",
       "      <td>2.177313</td>\n",
       "      <td>1.063185</td>\n",
       "      <td>2.876980e-01</td>\n",
       "    </tr>\n",
       "    <tr>\n",
       "      <th>beta_time_drive</th>\n",
       "      <td>2.095412</td>\n",
       "      <td>2.767150</td>\n",
       "      <td>0.757246</td>\n",
       "      <td>4.489028e-01</td>\n",
       "    </tr>\n",
       "    <tr>\n",
       "      <th>beta_time_pt</th>\n",
       "      <td>-1.002463</td>\n",
       "      <td>1.172531</td>\n",
       "      <td>-0.854956</td>\n",
       "      <td>3.925755e-01</td>\n",
       "    </tr>\n",
       "    <tr>\n",
       "      <th>beta_time_walk</th>\n",
       "      <td>2.957149</td>\n",
       "      <td>2.352270</td>\n",
       "      <td>1.257147</td>\n",
       "      <td>2.087004e-01</td>\n",
       "    </tr>\n",
       "    <tr>\n",
       "      <th>lambda_boxcox</th>\n",
       "      <td>0.449040</td>\n",
       "      <td>0.136889</td>\n",
       "      <td>3.280324</td>\n",
       "      <td>1.036880e-03</td>\n",
       "    </tr>\n",
       "  </tbody>\n",
       "</table>\n",
       "</div>"
      ],
      "text/plain": [
       "                            Value  Rob. Std err  Rob. t-test  Rob. p-value\n",
       "asc_cycle               -2.703620      1.211728    -2.231211  2.566717e-02\n",
       "asc_cycle_male           1.056108      0.209812     5.033580  4.814035e-07\n",
       "asc_drive                0.712607      0.896057     0.795269  4.264570e-01\n",
       "asc_drive_male          -0.224654      0.101186    -2.220203  2.640501e-02\n",
       "asc_pt                   5.548916      1.717761     3.230318  1.236526e-03\n",
       "asc_pt_male             -0.369701      0.108179    -3.417483  6.320305e-04\n",
       "beta_cost               -0.170996      0.015857   -10.783554  0.000000e+00\n",
       "beta_elapsed_cycle      -5.482310      2.093502    -2.618727  8.825845e-03\n",
       "beta_elapsed_time_drive -5.385735      2.386486    -2.256763  2.402286e-02\n",
       "beta_elapsed_time_pt    -2.435589      1.026143    -2.373539  1.761854e-02\n",
       "beta_elapsed_walk       -8.170560      2.474407    -3.302027  9.598879e-04\n",
       "beta_time_cycle          2.314887      2.177313     1.063185  2.876980e-01\n",
       "beta_time_drive          2.095412      2.767150     0.757246  4.489028e-01\n",
       "beta_time_pt            -1.002463      1.172531    -0.854956  3.925755e-01\n",
       "beta_time_walk           2.957149      2.352270     1.257147  2.087004e-01\n",
       "lambda_boxcox            0.449040      0.136889     3.280324  1.036880e-03"
      ]
     },
     "execution_count": 113,
     "metadata": {},
     "output_type": "execute_result"
    }
   ],
   "source": [
    "V_model_generic = {1: v_walk_model_generic , 2: v_cycle_model_generic, 3: v_pt_model_generic, 4: v_drive_model_generic}\n",
    "logprob_model_generic = models.loglogit(V_model_generic, av, travel_mode)\n",
    "biogeme_model_generic = bio.BIOGEME(database, logprob_model_generic)\n",
    "biogeme_model_generic.modelName = 'Model_generic'\n",
    "all_results['Model_generic'] = biogeme_model_generic.estimate()\n",
    "results_model_generic = biogeme_model_generic.estimate()\n",
    "results_model_generic.getEstimatedParameters()"
   ]
  },
  {
   "cell_type": "code",
   "execution_count": 114,
   "id": "1cb82353",
   "metadata": {},
   "outputs": [
    {
     "name": "stderr",
     "output_type": "stream",
     "text": [
      "The syntax \"compileEstimationResults\" is deprecated and is replaced by the syntax \"compile_estimation_results\".\n"
     ]
    },
    {
     "data": {
      "text/plain": [
       "(                                              Model0           Model1  \\\n",
       " Number of estimated parameters                     5                8   \n",
       " Sample size                                     5000             5000   \n",
       " Final log likelihood                    -4587.818071     -4275.496542   \n",
       " Akaike Information Criterion             9185.636142      8566.993084   \n",
       " Bayesian Information Criterion           9218.222108       8619.13063   \n",
       " asc_cycle (t-test)                      -3.88  (-36)   -4.85  (-23.9)   \n",
       " asc_drive (t-test)                     -1.3  (-16.1)   -1.97  (-14.3)   \n",
       " asc_pt (t-test)                       -0.503  (-9.3)   -2.34  (-16.8)   \n",
       " beta_cost (t-test)                   -0.194  (-13.9)  -0.182  (-11.3)   \n",
       " beta_time (t-test)                     -5.5  (-26.3)                    \n",
       " beta_time_cycle (t-test)                               -5.31  (-11.5)   \n",
       " beta_time_drive (t-test)                               -6.47  (-17.1)   \n",
       " beta_time_pt (t-test)                                  -3.54  (-14.1)   \n",
       " beta_time_walk (t-test)                                -8.43  (-20.1)   \n",
       " asc_cycle_male (t-test)                                                 \n",
       " asc_drive_male (t-test)                                                 \n",
       " asc_pt_male (t-test)                                                    \n",
       " beta_cost_male (t-test)                                                 \n",
       " asc_drive_3bis (t-test)                                                 \n",
       " asc_drive_3bis_male (t-test)                                            \n",
       " beta_cost_3bis (t-test)                                                 \n",
       " beta_time_cycle_3bis (t-test)                                           \n",
       " beta_time_drive_3bis (t-test)                                           \n",
       " beta_time_pt_3bis (t-test)                                              \n",
       " beta_time_pt_3bis_squarred (t-test)                                     \n",
       " beta_time_walk_3bis (t-test)                                            \n",
       " beta_time_pt_33_squarred (t-test)                                       \n",
       " beta_elapsed_cycle (t-test)                                             \n",
       " beta_elapsed_time_drive (t-test)                                        \n",
       " beta_elapsed_time_pt (t-test)                                           \n",
       " beta_elapsed_walk (t-test)                                              \n",
       " lambda_boxcox (t-test)                                                  \n",
       " \n",
       "                                               Model2          Model2_2  \\\n",
       " Number of estimated parameters                    11                 9   \n",
       " Sample size                                     5000              5000   \n",
       " Final log likelihood                    -4245.240231      -4273.204021   \n",
       " Akaike Information Criterion             8512.480463       8564.408041   \n",
       " Bayesian Information Criterion           8584.169588        8623.06278   \n",
       " asc_cycle (t-test)                    -5.45  (-21.5)      -4.84  (-24)   \n",
       " asc_drive (t-test)                    -1.89  (-13.1)    -1.97  (-14.3)   \n",
       " asc_pt (t-test)                       -2.21  (-15.1)    -2.34  (-16.8)   \n",
       " beta_cost (t-test)                   -0.183  (-11.3)   -0.152  (-8.09)   \n",
       " beta_time (t-test)                                                       \n",
       " beta_time_cycle (t-test)              -5.58  (-11.8)    -5.35  (-11.6)   \n",
       " beta_time_drive (t-test)              -6.49  (-17.1)      -6.48  (-17)   \n",
       " beta_time_pt (t-test)                   -3.53  (-14)    -3.54  (-14.1)   \n",
       " beta_time_walk (t-test)               -8.46  (-20.2)    -8.44  (-20.2)   \n",
       " asc_cycle_male (t-test)                 1.05  (5.04)                     \n",
       " asc_drive_male (t-test)              -0.198  (-2.08)                     \n",
       " asc_pt_male (t-test)                 -0.333  (-3.35)                     \n",
       " beta_cost_male (t-test)                               -0.0654  (-2.05)   \n",
       " asc_drive_3bis (t-test)                                                  \n",
       " asc_drive_3bis_male (t-test)                                             \n",
       " beta_cost_3bis (t-test)                                                  \n",
       " beta_time_cycle_3bis (t-test)                                            \n",
       " beta_time_drive_3bis (t-test)                                            \n",
       " beta_time_pt_3bis (t-test)                                               \n",
       " beta_time_pt_3bis_squarred (t-test)                                      \n",
       " beta_time_walk_3bis (t-test)                                             \n",
       " beta_time_pt_33_squarred (t-test)                                        \n",
       " beta_elapsed_cycle (t-test)                                              \n",
       " beta_elapsed_time_drive (t-test)                                         \n",
       " beta_elapsed_time_pt (t-test)                                            \n",
       " beta_elapsed_walk (t-test)                                               \n",
       " lambda_boxcox (t-test)                                                   \n",
       " \n",
       "                                          Model_3bis         Model_33  \\\n",
       " Number of estimated parameters                   12               10   \n",
       " Sample size                                    5000             5000   \n",
       " Final log likelihood                    -4236.58918     -4264.777606   \n",
       " Akaike Information Criterion            8497.178361      8549.555213   \n",
       " Bayesian Information Criterion          8575.384679      8614.727145   \n",
       " asc_cycle (t-test)                   -5.37  (-21.4)   -4.76  (-23.9)   \n",
       " asc_drive (t-test)                                    -1.88  (-13.5)   \n",
       " asc_pt (t-test)                      -2.49  (-15.6)     -2.62  (-17)   \n",
       " beta_cost (t-test)                                   -0.149  (-7.88)   \n",
       " beta_time (t-test)                                                     \n",
       " beta_time_cycle (t-test)                                -5.35  (-12)   \n",
       " beta_time_drive (t-test)                              -6.56  (-16.9)   \n",
       " beta_time_pt (t-test)                                 -2.01  (-4.28)   \n",
       " beta_time_walk (t-test)                               -8.29  (-19.8)   \n",
       " asc_cycle_male (t-test)                1.05  (5.05)                    \n",
       " asc_drive_male (t-test)                                                \n",
       " asc_pt_male (t-test)                 -0.34  (-3.36)                    \n",
       " beta_cost_male (t-test)                              -0.066  (-2.05)   \n",
       " asc_drive_3bis (t-test)               -1.8  (-12.4)                    \n",
       " asc_drive_3bis_male (t-test)         -0.198  (-2.1)                    \n",
       " beta_cost_3bis (t-test)                -0.18  (-11)                    \n",
       " beta_time_cycle_3bis (t-test)        -5.57  (-12.2)                    \n",
       " beta_time_drive_3bis (t-test)        -6.56  (-16.9)                    \n",
       " beta_time_pt_3bis (t-test)           -1.98  (-4.22)                    \n",
       " beta_time_pt_3bis_squarred (t-test)  -1.23  (-3.53)                    \n",
       " beta_time_walk_3bis (t-test)         -8.31  (-19.9)                    \n",
       " beta_time_pt_33_squarred (t-test)                     -1.22  (-3.46)   \n",
       " beta_elapsed_cycle (t-test)                                            \n",
       " beta_elapsed_time_drive (t-test)                                       \n",
       " beta_elapsed_time_pt (t-test)                                          \n",
       " beta_elapsed_walk (t-test)                                             \n",
       " lambda_boxcox (t-test)                                                 \n",
       " \n",
       "                                              Model_3    Model_generic  \n",
       " Number of estimated parameters                    12               16  \n",
       " Sample size                                     5000             5000  \n",
       " Final log likelihood                    -4157.246366     -4149.464501  \n",
       " Akaike Information Criterion             8338.492732      8330.929003  \n",
       " Bayesian Information Criterion           8416.699051      8435.204094  \n",
       " asc_cycle (t-test)                    -3.22  (-10.6)    -2.7  (-2.23)  \n",
       " asc_drive (t-test)                    0.069  (0.317)   0.713  (0.795)  \n",
       " asc_pt (t-test)                         1.84  (10.8)     5.55  (3.23)  \n",
       " beta_cost (t-test)                   -0.175  (-11.2)  -0.171  (-10.8)  \n",
       " beta_time (t-test)                                                     \n",
       " beta_time_cycle (t-test)                                 2.31  (1.06)  \n",
       " beta_time_drive (t-test)                                 2.1  (0.757)  \n",
       " beta_time_pt (t-test)                                    -1  (-0.855)  \n",
       " beta_time_walk (t-test)                                  2.96  (1.26)  \n",
       " asc_cycle_male (t-test)                 1.05  (5.01)     1.06  (5.03)  \n",
       " asc_drive_male (t-test)              -0.226  (-2.23)  -0.225  (-2.22)  \n",
       " asc_pt_male (t-test)                  -0.375  (-3.5)   -0.37  (-3.42)  \n",
       " beta_cost_male (t-test)                                                \n",
       " asc_drive_3bis (t-test)                                                \n",
       " asc_drive_3bis_male (t-test)                                           \n",
       " beta_cost_3bis (t-test)                                                \n",
       " beta_time_cycle_3bis (t-test)                                          \n",
       " beta_time_drive_3bis (t-test)                                          \n",
       " beta_time_pt_3bis (t-test)                                             \n",
       " beta_time_pt_3bis_squarred (t-test)                                    \n",
       " beta_time_walk_3bis (t-test)                                           \n",
       " beta_time_pt_33_squarred (t-test)                                      \n",
       " beta_elapsed_cycle (t-test)           -3.32  (-12.4)   -5.48  (-2.62)  \n",
       " beta_elapsed_time_drive (t-test)       -3.3  (-12.4)   -5.39  (-2.26)  \n",
       " beta_elapsed_time_pt (t-test)         -2.64  (-14.4)   -2.44  (-2.37)  \n",
       " beta_elapsed_walk (t-test)            -5.45  (-21.5)    -8.17  (-3.3)  \n",
       " lambda_boxcox (t-test)                 0.269  (5.39)    0.449  (3.28)  ,\n",
       " {'Model0': 'Model0',\n",
       "  'Model1': 'Model1',\n",
       "  'Model2': 'Model2',\n",
       "  'Model2_2': 'Model2_2',\n",
       "  'Model_3bis': 'Model_3bis',\n",
       "  'Model_33': 'Model_33',\n",
       "  'Model_3': 'Model_3',\n",
       "  'Model_generic': 'Model_generic'})"
      ]
     },
     "execution_count": 114,
     "metadata": {},
     "output_type": "execute_result"
    }
   ],
   "source": [
    "res.compileEstimationResults(all_results)"
   ]
  },
  {
   "cell_type": "code",
   "execution_count": 115,
   "id": "56c500b5",
   "metadata": {},
   "outputs": [
    {
     "data": {
      "text/plain": [
       "LRTuple(message='H0 can be rejected at level 5.0%', statistic=191.55145975720916, threshold=11.070497693516351)"
      ]
     },
     "execution_count": 115,
     "metadata": {},
     "output_type": "execute_result"
    }
   ],
   "source": [
    "model_base=biogeme_model2\n",
    "results_base=model_base.estimate()\n",
    "results_model_generic.likelihood_ratio_test(results_base, 0.05)"
   ]
  },
  {
   "cell_type": "code",
   "execution_count": 116,
   "id": "82b1d36e",
   "metadata": {
    "tags": []
   },
   "outputs": [
    {
     "data": {
      "text/plain": [
       "LRTuple(message='H0 can be rejected at level 5.0%', statistic=15.563729697094459, threshold=9.487729036781154)"
      ]
     },
     "execution_count": 116,
     "metadata": {},
     "output_type": "execute_result"
    }
   ],
   "source": [
    "model_base=biogeme_model3\n",
    "results_base=model_base.estimate()\n",
    "results_model_generic.likelihood_ratio_test(results_base, 0.05)"
   ]
  },
  {
   "cell_type": "markdown",
   "id": "b0129f46",
   "metadata": {},
   "source": [
    "## Model 4"
   ]
  },
  {
   "cell_type": "markdown",
   "id": "e9bb587f",
   "metadata": {},
   "source": [
    "We chose to separate the modes by nesting walking and cycling as \"soft modes\" and keeping driving and PT separeted. "
   ]
  },
  {
   "cell_type": "code",
   "execution_count": 117,
   "id": "ca542886",
   "metadata": {},
   "outputs": [],
   "source": [
    "model_base=biogeme_model3\n",
    "V_nested=V_model3\n",
    "#create the nests\n",
    "Mu_Drive =Beta(\"Mu_Drive\",1,0,None,0)\n",
    "Mu_PT =Beta(\"Mu_PT\",1,0,None,0)\n",
    "Mu_SM =Beta(\"Mu_SoftModes\",1,0,None,0)\n",
    "drive= Mu_Drive,[4]\n",
    "PT=Mu_PT, [3]\n",
    "SM=Mu_SM, [1,2]\n",
    "nests_modes=drive, PT, SM"
   ]
  },
  {
   "cell_type": "code",
   "execution_count": 118,
   "id": "f247548a",
   "metadata": {},
   "outputs": [
    {
     "data": {
      "text/html": [
       "<div>\n",
       "<style scoped>\n",
       "    .dataframe tbody tr th:only-of-type {\n",
       "        vertical-align: middle;\n",
       "    }\n",
       "\n",
       "    .dataframe tbody tr th {\n",
       "        vertical-align: top;\n",
       "    }\n",
       "\n",
       "    .dataframe thead th {\n",
       "        text-align: right;\n",
       "    }\n",
       "</style>\n",
       "<table border=\"1\" class=\"dataframe\">\n",
       "  <thead>\n",
       "    <tr style=\"text-align: right;\">\n",
       "      <th></th>\n",
       "      <th>Value</th>\n",
       "      <th>Rob. Std err</th>\n",
       "      <th>Rob. t-test</th>\n",
       "      <th>Rob. p-value</th>\n",
       "    </tr>\n",
       "  </thead>\n",
       "  <tbody>\n",
       "    <tr>\n",
       "      <th>Mu_Drive</th>\n",
       "      <td>1.000000</td>\n",
       "      <td>1.797693e+308</td>\n",
       "      <td>5.562685e-309</td>\n",
       "      <td>1.000000e+00</td>\n",
       "    </tr>\n",
       "    <tr>\n",
       "      <th>Mu_PT</th>\n",
       "      <td>1.000000</td>\n",
       "      <td>2.584659e-15</td>\n",
       "      <td>3.868982e+14</td>\n",
       "      <td>0.000000e+00</td>\n",
       "    </tr>\n",
       "    <tr>\n",
       "      <th>Mu_SoftModes</th>\n",
       "      <td>0.603680</td>\n",
       "      <td>7.647243e-02</td>\n",
       "      <td>7.894088e+00</td>\n",
       "      <td>2.886580e-15</td>\n",
       "    </tr>\n",
       "    <tr>\n",
       "      <th>asc_cycle</th>\n",
       "      <td>-2.955126</td>\n",
       "      <td>3.748133e-01</td>\n",
       "      <td>-7.884260e+00</td>\n",
       "      <td>3.108624e-15</td>\n",
       "    </tr>\n",
       "    <tr>\n",
       "      <th>asc_cycle_male</th>\n",
       "      <td>1.574252</td>\n",
       "      <td>3.494973e-01</td>\n",
       "      <td>4.504333e+00</td>\n",
       "      <td>6.658165e-06</td>\n",
       "    </tr>\n",
       "    <tr>\n",
       "      <th>asc_drive</th>\n",
       "      <td>0.294558</td>\n",
       "      <td>2.368810e-01</td>\n",
       "      <td>1.243484e+00</td>\n",
       "      <td>2.136895e-01</td>\n",
       "    </tr>\n",
       "    <tr>\n",
       "      <th>asc_drive_male</th>\n",
       "      <td>-0.147821</td>\n",
       "      <td>1.109199e-01</td>\n",
       "      <td>-1.332681e+00</td>\n",
       "      <td>1.826365e-01</td>\n",
       "    </tr>\n",
       "    <tr>\n",
       "      <th>asc_pt</th>\n",
       "      <td>2.181106</td>\n",
       "      <td>1.969323e-01</td>\n",
       "      <td>1.107541e+01</td>\n",
       "      <td>0.000000e+00</td>\n",
       "    </tr>\n",
       "    <tr>\n",
       "      <th>asc_pt_male</th>\n",
       "      <td>-0.290546</td>\n",
       "      <td>1.165381e-01</td>\n",
       "      <td>-2.493145e+00</td>\n",
       "      <td>1.266173e-02</td>\n",
       "    </tr>\n",
       "    <tr>\n",
       "      <th>beta_cost</th>\n",
       "      <td>-0.171546</td>\n",
       "      <td>1.569916e-02</td>\n",
       "      <td>-1.092708e+01</td>\n",
       "      <td>0.000000e+00</td>\n",
       "    </tr>\n",
       "    <tr>\n",
       "      <th>beta_elapsed_cycle</th>\n",
       "      <td>-2.579132</td>\n",
       "      <td>3.283195e-01</td>\n",
       "      <td>-7.855556e+00</td>\n",
       "      <td>3.996803e-15</td>\n",
       "    </tr>\n",
       "    <tr>\n",
       "      <th>beta_elapsed_time_drive</th>\n",
       "      <td>-3.589863</td>\n",
       "      <td>2.820849e-01</td>\n",
       "      <td>-1.272618e+01</td>\n",
       "      <td>0.000000e+00</td>\n",
       "    </tr>\n",
       "    <tr>\n",
       "      <th>beta_elapsed_time_pt</th>\n",
       "      <td>-2.801978</td>\n",
       "      <td>1.889614e-01</td>\n",
       "      <td>-1.482831e+01</td>\n",
       "      <td>0.000000e+00</td>\n",
       "    </tr>\n",
       "    <tr>\n",
       "      <th>beta_elapsed_walk</th>\n",
       "      <td>-5.995689</td>\n",
       "      <td>2.853938e-01</td>\n",
       "      <td>-2.100848e+01</td>\n",
       "      <td>0.000000e+00</td>\n",
       "    </tr>\n",
       "    <tr>\n",
       "      <th>lambda_boxcox</th>\n",
       "      <td>0.318275</td>\n",
       "      <td>5.021258e-02</td>\n",
       "      <td>6.338556e+00</td>\n",
       "      <td>2.319291e-10</td>\n",
       "    </tr>\n",
       "  </tbody>\n",
       "</table>\n",
       "</div>"
      ],
      "text/plain": [
       "                            Value   Rob. Std err    Rob. t-test  Rob. p-value\n",
       "Mu_Drive                 1.000000  1.797693e+308  5.562685e-309  1.000000e+00\n",
       "Mu_PT                    1.000000   2.584659e-15   3.868982e+14  0.000000e+00\n",
       "Mu_SoftModes             0.603680   7.647243e-02   7.894088e+00  2.886580e-15\n",
       "asc_cycle               -2.955126   3.748133e-01  -7.884260e+00  3.108624e-15\n",
       "asc_cycle_male           1.574252   3.494973e-01   4.504333e+00  6.658165e-06\n",
       "asc_drive                0.294558   2.368810e-01   1.243484e+00  2.136895e-01\n",
       "asc_drive_male          -0.147821   1.109199e-01  -1.332681e+00  1.826365e-01\n",
       "asc_pt                   2.181106   1.969323e-01   1.107541e+01  0.000000e+00\n",
       "asc_pt_male             -0.290546   1.165381e-01  -2.493145e+00  1.266173e-02\n",
       "beta_cost               -0.171546   1.569916e-02  -1.092708e+01  0.000000e+00\n",
       "beta_elapsed_cycle      -2.579132   3.283195e-01  -7.855556e+00  3.996803e-15\n",
       "beta_elapsed_time_drive -3.589863   2.820849e-01  -1.272618e+01  0.000000e+00\n",
       "beta_elapsed_time_pt    -2.801978   1.889614e-01  -1.482831e+01  0.000000e+00\n",
       "beta_elapsed_walk       -5.995689   2.853938e-01  -2.100848e+01  0.000000e+00\n",
       "lambda_boxcox            0.318275   5.021258e-02   6.338556e+00  2.319291e-10"
      ]
     },
     "execution_count": 118,
     "metadata": {},
     "output_type": "execute_result"
    }
   ],
   "source": [
    "logprob_model_nested = models.lognested(V_nested, av, nests_modes, travel_mode)\n",
    "biogeme_model_nested = bio.BIOGEME(database, logprob_model_nested)\n",
    "biogeme_model_nested.modelName = 'nestmodes'\n",
    "all_results['Nestmodes'] = biogeme_model_nested.estimate()\n",
    "results_model_nested = biogeme_model_nested.estimate()\n",
    "results_model_nested.getEstimatedParameters()"
   ]
  },
  {
   "cell_type": "markdown",
   "id": "3e191cdf",
   "metadata": {},
   "source": [
    "The model is rejected as Mu soft modes in < 1"
   ]
  },
  {
   "cell_type": "markdown",
   "id": "69ecd781",
   "metadata": {},
   "source": [
    "We try another model : vehicles (bikes, cars, PT) and not vehicle (walk) "
   ]
  },
  {
   "cell_type": "code",
   "execution_count": 123,
   "id": "35073d29",
   "metadata": {},
   "outputs": [],
   "source": [
    "Mu_vehicle=Beta(\"Mu_vehicle\",1,0,None,0)\n",
    "Mu_not_vehicle=Beta(\"Mu_not_vehicle\",1,0,None,0)\n",
    "vehicle= Mu_vehicle,[2,3,4]\n",
    "not_vehicle=Mu_not_vehicle,[1]\n",
    "nests_vehicle=vehicle, not_vehicle\n"
   ]
  },
  {
   "cell_type": "code",
   "execution_count": 124,
   "id": "a1c8173d",
   "metadata": {},
   "outputs": [
    {
     "data": {
      "text/html": [
       "<div>\n",
       "<style scoped>\n",
       "    .dataframe tbody tr th:only-of-type {\n",
       "        vertical-align: middle;\n",
       "    }\n",
       "\n",
       "    .dataframe tbody tr th {\n",
       "        vertical-align: top;\n",
       "    }\n",
       "\n",
       "    .dataframe thead th {\n",
       "        text-align: right;\n",
       "    }\n",
       "</style>\n",
       "<table border=\"1\" class=\"dataframe\">\n",
       "  <thead>\n",
       "    <tr style=\"text-align: right;\">\n",
       "      <th></th>\n",
       "      <th>Value</th>\n",
       "      <th>Rob. Std err</th>\n",
       "      <th>Rob. t-test</th>\n",
       "      <th>Rob. p-value</th>\n",
       "    </tr>\n",
       "  </thead>\n",
       "  <tbody>\n",
       "    <tr>\n",
       "      <th>Mu_not_vehicle</th>\n",
       "      <td>1.000000</td>\n",
       "      <td>2.329809e-15</td>\n",
       "      <td>4.292198e+14</td>\n",
       "      <td>0.000000e+00</td>\n",
       "    </tr>\n",
       "    <tr>\n",
       "      <th>Mu_vehicle</th>\n",
       "      <td>1.141439</td>\n",
       "      <td>1.710136e-01</td>\n",
       "      <td>6.674552e+00</td>\n",
       "      <td>2.479883e-11</td>\n",
       "    </tr>\n",
       "    <tr>\n",
       "      <th>asc_cycle</th>\n",
       "      <td>-2.353217</td>\n",
       "      <td>9.590802e-01</td>\n",
       "      <td>-2.453618e+00</td>\n",
       "      <td>1.414270e-02</td>\n",
       "    </tr>\n",
       "    <tr>\n",
       "      <th>asc_cycle_male</th>\n",
       "      <td>0.899900</td>\n",
       "      <td>2.487290e-01</td>\n",
       "      <td>3.617992e+00</td>\n",
       "      <td>2.968973e-04</td>\n",
       "    </tr>\n",
       "    <tr>\n",
       "      <th>asc_drive</th>\n",
       "      <td>0.520684</td>\n",
       "      <td>5.210931e-01</td>\n",
       "      <td>9.992150e-01</td>\n",
       "      <td>3.176905e-01</td>\n",
       "    </tr>\n",
       "    <tr>\n",
       "      <th>asc_drive_male</th>\n",
       "      <td>-0.221829</td>\n",
       "      <td>1.000797e-01</td>\n",
       "      <td>-2.216522e+00</td>\n",
       "      <td>2.665578e-02</td>\n",
       "    </tr>\n",
       "    <tr>\n",
       "      <th>asc_pt</th>\n",
       "      <td>2.075987</td>\n",
       "      <td>2.938340e-01</td>\n",
       "      <td>7.065171e+00</td>\n",
       "      <td>1.604272e-12</td>\n",
       "    </tr>\n",
       "    <tr>\n",
       "      <th>asc_pt_male</th>\n",
       "      <td>-0.352449</td>\n",
       "      <td>1.071100e-01</td>\n",
       "      <td>-3.290530e+00</td>\n",
       "      <td>9.999871e-04</td>\n",
       "    </tr>\n",
       "    <tr>\n",
       "      <th>beta_cost</th>\n",
       "      <td>-0.153334</td>\n",
       "      <td>2.783686e-02</td>\n",
       "      <td>-5.508319e+00</td>\n",
       "      <td>3.622770e-08</td>\n",
       "    </tr>\n",
       "    <tr>\n",
       "      <th>beta_elapsed_cycle</th>\n",
       "      <td>-2.882245</td>\n",
       "      <td>5.248855e-01</td>\n",
       "      <td>-5.491187e+00</td>\n",
       "      <td>3.992416e-08</td>\n",
       "    </tr>\n",
       "    <tr>\n",
       "      <th>beta_elapsed_time_drive</th>\n",
       "      <td>-2.872354</td>\n",
       "      <td>5.148302e-01</td>\n",
       "      <td>-5.579225e+00</td>\n",
       "      <td>2.415920e-08</td>\n",
       "    </tr>\n",
       "    <tr>\n",
       "      <th>beta_elapsed_time_pt</th>\n",
       "      <td>-2.320604</td>\n",
       "      <td>3.801239e-01</td>\n",
       "      <td>-6.104863e+00</td>\n",
       "      <td>1.028889e-09</td>\n",
       "    </tr>\n",
       "    <tr>\n",
       "      <th>beta_elapsed_walk</th>\n",
       "      <td>-5.148042</td>\n",
       "      <td>4.091177e-01</td>\n",
       "      <td>-1.258328e+01</td>\n",
       "      <td>0.000000e+00</td>\n",
       "    </tr>\n",
       "    <tr>\n",
       "      <th>lambda_boxcox</th>\n",
       "      <td>0.250623</td>\n",
       "      <td>5.402045e-02</td>\n",
       "      <td>4.639401e+00</td>\n",
       "      <td>3.494212e-06</td>\n",
       "    </tr>\n",
       "  </tbody>\n",
       "</table>\n",
       "</div>"
      ],
      "text/plain": [
       "                            Value  Rob. Std err   Rob. t-test  Rob. p-value\n",
       "Mu_not_vehicle           1.000000  2.329809e-15  4.292198e+14  0.000000e+00\n",
       "Mu_vehicle               1.141439  1.710136e-01  6.674552e+00  2.479883e-11\n",
       "asc_cycle               -2.353217  9.590802e-01 -2.453618e+00  1.414270e-02\n",
       "asc_cycle_male           0.899900  2.487290e-01  3.617992e+00  2.968973e-04\n",
       "asc_drive                0.520684  5.210931e-01  9.992150e-01  3.176905e-01\n",
       "asc_drive_male          -0.221829  1.000797e-01 -2.216522e+00  2.665578e-02\n",
       "asc_pt                   2.075987  2.938340e-01  7.065171e+00  1.604272e-12\n",
       "asc_pt_male             -0.352449  1.071100e-01 -3.290530e+00  9.999871e-04\n",
       "beta_cost               -0.153334  2.783686e-02 -5.508319e+00  3.622770e-08\n",
       "beta_elapsed_cycle      -2.882245  5.248855e-01 -5.491187e+00  3.992416e-08\n",
       "beta_elapsed_time_drive -2.872354  5.148302e-01 -5.579225e+00  2.415920e-08\n",
       "beta_elapsed_time_pt    -2.320604  3.801239e-01 -6.104863e+00  1.028889e-09\n",
       "beta_elapsed_walk       -5.148042  4.091177e-01 -1.258328e+01  0.000000e+00\n",
       "lambda_boxcox            0.250623  5.402045e-02  4.639401e+00  3.494212e-06"
      ]
     },
     "execution_count": 124,
     "metadata": {},
     "output_type": "execute_result"
    }
   ],
   "source": [
    "logprob_model_nestedvehicle = models.lognested(V_nested, av, nests_vehicle, travel_mode)\n",
    "biogeme_model_nestedvehicle = bio.BIOGEME(database, logprob_model_nestedvehicle)\n",
    "biogeme_model_nestedvehicle.modelName = 'Model_nested_vehicle'\n",
    "results_model_nestedvehicle = biogeme_model_nestedvehicle.estimate()\n",
    "all_results['Model_nested_vehicle'] = results_model_nestedvehicle\n",
    "table_nestedvehicle=results_model_nestedvehicle.getEstimatedParameters()\n",
    "table_nestedvehicle"
   ]
  },
  {
   "cell_type": "code",
   "execution_count": 127,
   "id": "afbbc1fc",
   "metadata": {},
   "outputs": [
    {
     "name": "stderr",
     "output_type": "stream",
     "text": [
      "The syntax \"compileEstimationResults\" is deprecated and is replaced by the syntax \"compile_estimation_results\".\n"
     ]
    },
    {
     "data": {
      "text/plain": [
       "(                                              Model0           Model1  \\\n",
       " Number of estimated parameters                     5                8   \n",
       " Sample size                                     5000             5000   \n",
       " Final log likelihood                    -4587.818071     -4275.496542   \n",
       " Akaike Information Criterion             9185.636142      8566.993084   \n",
       " Bayesian Information Criterion           9218.222108       8619.13063   \n",
       " asc_cycle (t-test)                      -3.88  (-36)   -4.85  (-23.9)   \n",
       " asc_drive (t-test)                     -1.3  (-16.1)   -1.97  (-14.3)   \n",
       " asc_pt (t-test)                       -0.503  (-9.3)   -2.34  (-16.8)   \n",
       " beta_cost (t-test)                   -0.194  (-13.9)  -0.182  (-11.3)   \n",
       " beta_time (t-test)                     -5.5  (-26.3)                    \n",
       " beta_time_cycle (t-test)                               -5.31  (-11.5)   \n",
       " beta_time_drive (t-test)                               -6.47  (-17.1)   \n",
       " beta_time_pt (t-test)                                  -3.54  (-14.1)   \n",
       " beta_time_walk (t-test)                                -8.43  (-20.1)   \n",
       " asc_cycle_male (t-test)                                                 \n",
       " asc_drive_male (t-test)                                                 \n",
       " asc_pt_male (t-test)                                                    \n",
       " beta_cost_male (t-test)                                                 \n",
       " asc_drive_3bis (t-test)                                                 \n",
       " asc_drive_3bis_male (t-test)                                            \n",
       " beta_cost_3bis (t-test)                                                 \n",
       " beta_time_cycle_3bis (t-test)                                           \n",
       " beta_time_drive_3bis (t-test)                                           \n",
       " beta_time_pt_3bis (t-test)                                              \n",
       " beta_time_pt_3bis_squarred (t-test)                                     \n",
       " beta_time_walk_3bis (t-test)                                            \n",
       " beta_time_pt_33_squarred (t-test)                                       \n",
       " beta_elapsed_cycle (t-test)                                             \n",
       " beta_elapsed_time_drive (t-test)                                        \n",
       " beta_elapsed_time_pt (t-test)                                           \n",
       " beta_elapsed_walk (t-test)                                              \n",
       " lambda_boxcox (t-test)                                                  \n",
       " Mu_Drive (t-test)                                                       \n",
       " Mu_PT (t-test)                                                          \n",
       " Mu_SoftModes (t-test)                                                   \n",
       " Mu_not_vehicle (t-test)                                                 \n",
       " Mu_vehicle (t-test)                                                     \n",
       " \n",
       "                                               Model2          Model2_2  \\\n",
       " Number of estimated parameters                    11                 9   \n",
       " Sample size                                     5000              5000   \n",
       " Final log likelihood                    -4245.240231      -4273.204021   \n",
       " Akaike Information Criterion             8512.480463       8564.408041   \n",
       " Bayesian Information Criterion           8584.169588        8623.06278   \n",
       " asc_cycle (t-test)                    -5.45  (-21.5)      -4.84  (-24)   \n",
       " asc_drive (t-test)                    -1.89  (-13.1)    -1.97  (-14.3)   \n",
       " asc_pt (t-test)                       -2.21  (-15.1)    -2.34  (-16.8)   \n",
       " beta_cost (t-test)                   -0.183  (-11.3)   -0.152  (-8.09)   \n",
       " beta_time (t-test)                                                       \n",
       " beta_time_cycle (t-test)              -5.58  (-11.8)    -5.35  (-11.6)   \n",
       " beta_time_drive (t-test)              -6.49  (-17.1)      -6.48  (-17)   \n",
       " beta_time_pt (t-test)                   -3.53  (-14)    -3.54  (-14.1)   \n",
       " beta_time_walk (t-test)               -8.46  (-20.2)    -8.44  (-20.2)   \n",
       " asc_cycle_male (t-test)                 1.05  (5.04)                     \n",
       " asc_drive_male (t-test)              -0.198  (-2.08)                     \n",
       " asc_pt_male (t-test)                 -0.333  (-3.35)                     \n",
       " beta_cost_male (t-test)                               -0.0654  (-2.05)   \n",
       " asc_drive_3bis (t-test)                                                  \n",
       " asc_drive_3bis_male (t-test)                                             \n",
       " beta_cost_3bis (t-test)                                                  \n",
       " beta_time_cycle_3bis (t-test)                                            \n",
       " beta_time_drive_3bis (t-test)                                            \n",
       " beta_time_pt_3bis (t-test)                                               \n",
       " beta_time_pt_3bis_squarred (t-test)                                      \n",
       " beta_time_walk_3bis (t-test)                                             \n",
       " beta_time_pt_33_squarred (t-test)                                        \n",
       " beta_elapsed_cycle (t-test)                                              \n",
       " beta_elapsed_time_drive (t-test)                                         \n",
       " beta_elapsed_time_pt (t-test)                                            \n",
       " beta_elapsed_walk (t-test)                                               \n",
       " lambda_boxcox (t-test)                                                   \n",
       " Mu_Drive (t-test)                                                        \n",
       " Mu_PT (t-test)                                                           \n",
       " Mu_SoftModes (t-test)                                                    \n",
       " Mu_not_vehicle (t-test)                                                  \n",
       " Mu_vehicle (t-test)                                                      \n",
       " \n",
       "                                          Model_3bis         Model_33  \\\n",
       " Number of estimated parameters                   12               10   \n",
       " Sample size                                    5000             5000   \n",
       " Final log likelihood                    -4236.58918     -4264.777606   \n",
       " Akaike Information Criterion            8497.178361      8549.555213   \n",
       " Bayesian Information Criterion          8575.384679      8614.727145   \n",
       " asc_cycle (t-test)                   -5.37  (-21.4)   -4.76  (-23.9)   \n",
       " asc_drive (t-test)                                    -1.88  (-13.5)   \n",
       " asc_pt (t-test)                      -2.49  (-15.6)     -2.62  (-17)   \n",
       " beta_cost (t-test)                                   -0.149  (-7.88)   \n",
       " beta_time (t-test)                                                     \n",
       " beta_time_cycle (t-test)                                -5.35  (-12)   \n",
       " beta_time_drive (t-test)                              -6.56  (-16.9)   \n",
       " beta_time_pt (t-test)                                 -2.01  (-4.28)   \n",
       " beta_time_walk (t-test)                               -8.29  (-19.8)   \n",
       " asc_cycle_male (t-test)                1.05  (5.05)                    \n",
       " asc_drive_male (t-test)                                                \n",
       " asc_pt_male (t-test)                 -0.34  (-3.36)                    \n",
       " beta_cost_male (t-test)                              -0.066  (-2.05)   \n",
       " asc_drive_3bis (t-test)               -1.8  (-12.4)                    \n",
       " asc_drive_3bis_male (t-test)         -0.198  (-2.1)                    \n",
       " beta_cost_3bis (t-test)                -0.18  (-11)                    \n",
       " beta_time_cycle_3bis (t-test)        -5.57  (-12.2)                    \n",
       " beta_time_drive_3bis (t-test)        -6.56  (-16.9)                    \n",
       " beta_time_pt_3bis (t-test)           -1.98  (-4.22)                    \n",
       " beta_time_pt_3bis_squarred (t-test)  -1.23  (-3.53)                    \n",
       " beta_time_walk_3bis (t-test)         -8.31  (-19.9)                    \n",
       " beta_time_pt_33_squarred (t-test)                     -1.22  (-3.46)   \n",
       " beta_elapsed_cycle (t-test)                                            \n",
       " beta_elapsed_time_drive (t-test)                                       \n",
       " beta_elapsed_time_pt (t-test)                                          \n",
       " beta_elapsed_walk (t-test)                                             \n",
       " lambda_boxcox (t-test)                                                 \n",
       " Mu_Drive (t-test)                                                      \n",
       " Mu_PT (t-test)                                                         \n",
       " Mu_SoftModes (t-test)                                                  \n",
       " Mu_not_vehicle (t-test)                                                \n",
       " Mu_vehicle (t-test)                                                    \n",
       " \n",
       "                                              Model_3    Model_generic  \\\n",
       " Number of estimated parameters                    12               16   \n",
       " Sample size                                     5000             5000   \n",
       " Final log likelihood                    -4157.246366     -4149.464501   \n",
       " Akaike Information Criterion             8338.492732      8330.929003   \n",
       " Bayesian Information Criterion           8416.699051      8435.204094   \n",
       " asc_cycle (t-test)                    -3.22  (-10.6)    -2.7  (-2.23)   \n",
       " asc_drive (t-test)                    0.069  (0.317)   0.713  (0.795)   \n",
       " asc_pt (t-test)                         1.84  (10.8)     5.55  (3.23)   \n",
       " beta_cost (t-test)                   -0.175  (-11.2)  -0.171  (-10.8)   \n",
       " beta_time (t-test)                                                      \n",
       " beta_time_cycle (t-test)                                 2.31  (1.06)   \n",
       " beta_time_drive (t-test)                                 2.1  (0.757)   \n",
       " beta_time_pt (t-test)                                    -1  (-0.855)   \n",
       " beta_time_walk (t-test)                                  2.96  (1.26)   \n",
       " asc_cycle_male (t-test)                 1.05  (5.01)     1.06  (5.03)   \n",
       " asc_drive_male (t-test)              -0.226  (-2.23)  -0.225  (-2.22)   \n",
       " asc_pt_male (t-test)                  -0.375  (-3.5)   -0.37  (-3.42)   \n",
       " beta_cost_male (t-test)                                                 \n",
       " asc_drive_3bis (t-test)                                                 \n",
       " asc_drive_3bis_male (t-test)                                            \n",
       " beta_cost_3bis (t-test)                                                 \n",
       " beta_time_cycle_3bis (t-test)                                           \n",
       " beta_time_drive_3bis (t-test)                                           \n",
       " beta_time_pt_3bis (t-test)                                              \n",
       " beta_time_pt_3bis_squarred (t-test)                                     \n",
       " beta_time_walk_3bis (t-test)                                            \n",
       " beta_time_pt_33_squarred (t-test)                                       \n",
       " beta_elapsed_cycle (t-test)           -3.32  (-12.4)   -5.48  (-2.62)   \n",
       " beta_elapsed_time_drive (t-test)       -3.3  (-12.4)   -5.39  (-2.26)   \n",
       " beta_elapsed_time_pt (t-test)         -2.64  (-14.4)   -2.44  (-2.37)   \n",
       " beta_elapsed_walk (t-test)            -5.45  (-21.5)    -8.17  (-3.3)   \n",
       " lambda_boxcox (t-test)                 0.269  (5.39)    0.449  (3.28)   \n",
       " Mu_Drive (t-test)                                                       \n",
       " Mu_PT (t-test)                                                          \n",
       " Mu_SoftModes (t-test)                                                   \n",
       " Mu_not_vehicle (t-test)                                                 \n",
       " Mu_vehicle (t-test)                                                     \n",
       " \n",
       "                                            Nestmodes Model_nested_vehicle  \n",
       " Number of estimated parameters                    15                   14  \n",
       " Sample size                                     5000                 5000  \n",
       " Final log likelihood                    -4149.661795         -4156.794094  \n",
       " Akaike Information Criterion             8329.323589          8341.588187  \n",
       " Bayesian Information Criterion           8427.081487          8432.828892  \n",
       " asc_cycle (t-test)                    -2.96  (-7.88)       -2.35  (-2.45)  \n",
       " asc_drive (t-test)                     0.295  (1.24)       0.521  (0.999)  \n",
       " asc_pt (t-test)                         2.18  (11.1)         2.08  (7.07)  \n",
       " beta_cost (t-test)                   -0.172  (-10.9)      -0.153  (-5.51)  \n",
       " beta_time (t-test)                                                         \n",
       " beta_time_cycle (t-test)                                                   \n",
       " beta_time_drive (t-test)                                                   \n",
       " beta_time_pt (t-test)                                                      \n",
       " beta_time_walk (t-test)                                                    \n",
       " asc_cycle_male (t-test)                  1.57  (4.5)          0.9  (3.62)  \n",
       " asc_drive_male (t-test)              -0.148  (-1.33)      -0.222  (-2.22)  \n",
       " asc_pt_male (t-test)                 -0.291  (-2.49)      -0.352  (-3.29)  \n",
       " beta_cost_male (t-test)                                                    \n",
       " asc_drive_3bis (t-test)                                                    \n",
       " asc_drive_3bis_male (t-test)                                               \n",
       " beta_cost_3bis (t-test)                                                    \n",
       " beta_time_cycle_3bis (t-test)                                              \n",
       " beta_time_drive_3bis (t-test)                                              \n",
       " beta_time_pt_3bis (t-test)                                                 \n",
       " beta_time_pt_3bis_squarred (t-test)                                        \n",
       " beta_time_walk_3bis (t-test)                                               \n",
       " beta_time_pt_33_squarred (t-test)                                          \n",
       " beta_elapsed_cycle (t-test)           -2.58  (-7.86)       -2.88  (-5.49)  \n",
       " beta_elapsed_time_drive (t-test)      -3.59  (-12.7)       -2.87  (-5.58)  \n",
       " beta_elapsed_time_pt (t-test)          -2.8  (-14.8)        -2.32  (-6.1)  \n",
       " beta_elapsed_walk (t-test)                 -6  (-21)       -5.15  (-12.6)  \n",
       " lambda_boxcox (t-test)                 0.318  (6.34)        0.251  (4.64)  \n",
       " Mu_Drive (t-test)                     1  (5.56e-309)                       \n",
       " Mu_PT (t-test)                         1  (3.87e+14)                       \n",
       " Mu_SoftModes (t-test)                  0.604  (7.89)                       \n",
       " Mu_not_vehicle (t-test)                                     1  (4.29e+14)  \n",
       " Mu_vehicle (t-test)                                          1.14  (6.67)  ,\n",
       " {'Model0': 'Model0',\n",
       "  'Model1': 'Model1',\n",
       "  'Model2': 'Model2',\n",
       "  'Model2_2': 'Model2_2',\n",
       "  'Model_3bis': 'Model_3bis',\n",
       "  'Model_33': 'Model_33',\n",
       "  'Model_3': 'Model_3',\n",
       "  'Model_generic': 'Model_generic',\n",
       "  'Nestmodes': 'Nestmodes',\n",
       "  'Model_nested_vehicle': 'Model_nested_vehicle'})"
      ]
     },
     "execution_count": 127,
     "metadata": {},
     "output_type": "execute_result"
    }
   ],
   "source": [
    "res.compileEstimationResults(all_results)"
   ]
  },
  {
   "cell_type": "code",
   "execution_count": 128,
   "id": "dac64394",
   "metadata": {
    "scrolled": true
   },
   "outputs": [
    {
     "data": {
      "text/plain": [
       "LRTuple(message='H0 cannot be rejected at level 5.0%', statistic=0.904545037627031, threshold=5.991464547107979)"
      ]
     },
     "execution_count": 128,
     "metadata": {},
     "output_type": "execute_result"
    }
   ],
   "source": [
    "results_base=model_base.estimate()\n",
    "results_model_nestedvehicle.likelihood_ratio_test(results_base, 0.05)"
   ]
  },
  {
   "cell_type": "markdown",
   "id": "ffda17d3",
   "metadata": {},
   "source": [
    "So the model pref keeps being Model_3 (Box-cox transformation)"
   ]
  },
  {
   "cell_type": "markdown",
   "id": "c7c90efa",
   "metadata": {},
   "source": [
    "## Market Shares"
   ]
  }
 ],
 "metadata": {
  "kernelspec": {
   "display_name": "Python 3 (ipykernel)",
   "language": "python",
   "name": "python3"
  },
  "language_info": {
   "codemirror_mode": {
    "name": "ipython",
    "version": 3
   },
   "file_extension": ".py",
   "mimetype": "text/x-python",
   "name": "python",
   "nbconvert_exporter": "python",
   "pygments_lexer": "ipython3",
   "version": "3.9.18"
  }
 },
 "nbformat": 4,
 "nbformat_minor": 5
}
