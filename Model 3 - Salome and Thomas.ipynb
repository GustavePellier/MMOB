{
 "cells": [
  {
   "cell_type": "markdown",
   "metadata": {},
   "source": [
    "# Import packages and database"
   ]
  },
  {
   "cell_type": "code",
   "execution_count": 1,
   "metadata": {},
   "outputs": [
    {
     "name": "stderr",
     "output_type": "stream",
     "text": [
      "C:\\Users\\glion\\anaconda3\\lib\\site-packages\\pandas\\core\\computation\\expressions.py:20: UserWarning: Pandas requires version '2.7.3' or newer of 'numexpr' (version '2.7.1' currently installed).\n",
      "  from pandas.core.computation.check import NUMEXPR_INSTALLED\n"
     ]
    }
   ],
   "source": [
    "import pandas as pd\n",
    "import numpy as np\n",
    "import biogeme.database as db\n",
    "import biogeme.biogeme as bio\n",
    "import biogeme.segmentation as seg\n",
    "from biogeme.expressions import Beta, Variable, Derive\n",
    "from biogeme import models\n",
    "from biogeme import results as res\n",
    "from biogeme.expressions import DefineVariable, log\n",
    "from collections import namedtuple\n",
    "\n",
    "data_file ='https://raw.githubusercontent.com/GustavePellier/MMOB/main/lpmc19.dat'\n",
    "LPMC = pd.read_csv(data_file, sep='\\t')\n",
    "LPMC\n",
    "\n",
    "database = db.Database('LPMC', LPMC)\n",
    "all_results = {}"
   ]
  },
  {
   "cell_type": "markdown",
   "metadata": {},
   "source": [
    "# Model 0"
   ]
  },
  {
   "cell_type": "markdown",
   "metadata": {},
   "source": [
    "We calculate the total public transport duration and the total driving cost"
   ]
  },
  {
   "cell_type": "code",
   "execution_count": 2,
   "metadata": {},
   "outputs": [],
   "source": [
    "LPMC[\"dur_pt\"]= LPMC[\"dur_pt_access\"] + LPMC[\"dur_pt_rail\"] + LPMC[\"dur_pt_bus\"] + LPMC[\"dur_pt_int\"] \n",
    "LPMC[\"cost_drive\"] = LPMC[\"cost_driving_ccharge\"] + LPMC[\"cost_driving_fuel\"]"
   ]
  },
  {
   "cell_type": "markdown",
   "metadata": {},
   "source": [
    "Some variables are created with the columns that seem to be useful"
   ]
  },
  {
   "cell_type": "code",
   "execution_count": 3,
   "metadata": {},
   "outputs": [],
   "source": [
    "travel_mode=Variable('travel_mode')\n",
    "\n",
    "dur_pt_access=Variable('dur_pt_access')\n",
    "dur_pt_rail=Variable('dur_pt_rail')\n",
    "dur_pt_bus=Variable('dur_pt_bus')\n",
    "dur_pt_int=Variable('dur_pt_int')\n",
    "\n",
    "pt_interchanges=Variable('pt_interchanges')\n",
    "\n",
    "cost_driving_fuel=Variable('cost_driving_fuel')\n",
    "cost_driving_ccharge=Variable('cost_driving_ccharge')\n",
    "cost_drive=Variable('cost_drive')\n",
    "cost_pt=Variable('cost_transit')\n",
    "\n",
    "time_walk=Variable('dur_walking')\n",
    "time_cycle=Variable('dur_cycling')\n",
    "time_pt=Variable('dur_pt')\n",
    "time_drive=Variable('dur_driving')\n",
    "\n",
    "female=Variable('female')\n",
    "age=Variable('age')"
   ]
  },
  {
   "cell_type": "markdown",
   "metadata": {},
   "source": [
    "There are 4 different travel mode, we will thus build a model with 4 utility functions, we create 3 alternative specific constant, a generic parameter for travel time and a generic parameter for cost"
   ]
  },
  {
   "cell_type": "code",
   "execution_count": 4,
   "metadata": {},
   "outputs": [],
   "source": [
    "asc_cycle = Beta('asc_cycle', 0, None, None, 0)\n",
    "asc_pt = Beta('asc_pt', 0, None, None, 0)\n",
    "asc_drive = Beta('asc_drive', 0, None, None, 0)\n",
    "beta_cost = Beta('beta_cost', 0, None, None, 0)\n",
    "beta_time = Beta('beta_time', 0, None, None, 0)"
   ]
  },
  {
   "cell_type": "markdown",
   "metadata": {},
   "source": [
    "Utility functions creation"
   ]
  },
  {
   "cell_type": "code",
   "execution_count": 5,
   "metadata": {},
   "outputs": [],
   "source": [
    "v_walk_model0= beta_time * time_walk  \n",
    "v_cycle_model0= asc_cycle + beta_time * time_cycle \n",
    "v_pt_model0= asc_pt + beta_time * time_pt + beta_cost * cost_pt\n",
    "v_drive_model0= asc_drive + beta_time * time_drive + beta_cost * cost_drive"
   ]
  },
  {
   "cell_type": "markdown",
   "metadata": {},
   "source": [
    "availability of each mode, all available here"
   ]
  },
  {
   "cell_type": "code",
   "execution_count": 6,
   "metadata": {},
   "outputs": [],
   "source": [
    "av = {1: 1, 2: 1, 3: 1, 4:1}"
   ]
  },
  {
   "cell_type": "markdown",
   "metadata": {},
   "source": [
    "The estimation results (parameter values, t-tests or p-values, null and final log likelihoods)"
   ]
  },
  {
   "cell_type": "code",
   "execution_count": 7,
   "metadata": {},
   "outputs": [
    {
     "data": {
      "text/html": [
       "<div>\n",
       "<style scoped>\n",
       "    .dataframe tbody tr th:only-of-type {\n",
       "        vertical-align: middle;\n",
       "    }\n",
       "\n",
       "    .dataframe tbody tr th {\n",
       "        vertical-align: top;\n",
       "    }\n",
       "\n",
       "    .dataframe thead th {\n",
       "        text-align: right;\n",
       "    }\n",
       "</style>\n",
       "<table border=\"1\" class=\"dataframe\">\n",
       "  <thead>\n",
       "    <tr style=\"text-align: right;\">\n",
       "      <th></th>\n",
       "      <th>Value</th>\n",
       "      <th>Rob. Std err</th>\n",
       "      <th>Rob. t-test</th>\n",
       "      <th>Rob. p-value</th>\n",
       "    </tr>\n",
       "  </thead>\n",
       "  <tbody>\n",
       "    <tr>\n",
       "      <th>asc_cycle</th>\n",
       "      <td>-3.878620</td>\n",
       "      <td>0.107672</td>\n",
       "      <td>-36.022417</td>\n",
       "      <td>0.0</td>\n",
       "    </tr>\n",
       "    <tr>\n",
       "      <th>asc_drive</th>\n",
       "      <td>-1.295192</td>\n",
       "      <td>0.080505</td>\n",
       "      <td>-16.088357</td>\n",
       "      <td>0.0</td>\n",
       "    </tr>\n",
       "    <tr>\n",
       "      <th>asc_pt</th>\n",
       "      <td>-0.503354</td>\n",
       "      <td>0.054123</td>\n",
       "      <td>-9.300121</td>\n",
       "      <td>0.0</td>\n",
       "    </tr>\n",
       "    <tr>\n",
       "      <th>beta_cost</th>\n",
       "      <td>-0.193629</td>\n",
       "      <td>0.013958</td>\n",
       "      <td>-13.871886</td>\n",
       "      <td>0.0</td>\n",
       "    </tr>\n",
       "    <tr>\n",
       "      <th>beta_time</th>\n",
       "      <td>-5.495530</td>\n",
       "      <td>0.208596</td>\n",
       "      <td>-26.345334</td>\n",
       "      <td>0.0</td>\n",
       "    </tr>\n",
       "  </tbody>\n",
       "</table>\n",
       "</div>"
      ],
      "text/plain": [
       "              Value  Rob. Std err  Rob. t-test  Rob. p-value\n",
       "asc_cycle -3.878620      0.107672   -36.022417           0.0\n",
       "asc_drive -1.295192      0.080505   -16.088357           0.0\n",
       "asc_pt    -0.503354      0.054123    -9.300121           0.0\n",
       "beta_cost -0.193629      0.013958   -13.871886           0.0\n",
       "beta_time -5.495530      0.208596   -26.345334           0.0"
      ]
     },
     "execution_count": 7,
     "metadata": {},
     "output_type": "execute_result"
    }
   ],
   "source": [
    "V_model0 = {1: v_walk_model0 , 2: v_cycle_model0, 3: v_pt_model0, 4: v_drive_model0}\n",
    "logprob_model0 = models.loglogit(V_model0, av, travel_mode)\n",
    "biogeme_model0 = bio.BIOGEME(database, logprob_model0)\n",
    "biogeme_model0.modelName = 'Model_0'\n",
    "all_results['Model0'] = biogeme_model0.estimate()\n",
    "results_generic = biogeme_model0.estimate()\n",
    "results_generic.getEstimatedParameters()"
   ]
  },
  {
   "cell_type": "code",
   "execution_count": 8,
   "metadata": {
    "scrolled": true
   },
   "outputs": [
    {
     "data": {
      "text/plain": [
       "(                                         Model0\n",
       " Number of estimated parameters                5\n",
       " Sample size                                5000\n",
       " Final log likelihood               -4587.818071\n",
       " Akaike Information Criterion        9185.636142\n",
       " Bayesian Information Criterion      9218.222108\n",
       " asc_cycle (t-test)                 -3.88  (-36)\n",
       " asc_drive (t-test)                -1.3  (-16.1)\n",
       " asc_pt (t-test)                  -0.503  (-9.3)\n",
       " beta_cost (t-test)              -0.194  (-13.9)\n",
       " beta_time (t-test)                -5.5  (-26.3),\n",
       " {'Model0': 'Model0'})"
      ]
     },
     "execution_count": 8,
     "metadata": {},
     "output_type": "execute_result"
    }
   ],
   "source": [
    "res.compile_estimation_results(all_results)"
   ]
  },
  {
   "cell_type": "code",
   "execution_count": 9,
   "metadata": {},
   "outputs": [
    {
     "name": "stdout",
     "output_type": "stream",
     "text": [
      "Null Loglikelihood : \n"
     ]
    },
    {
     "data": {
      "text/plain": [
       "-6931.471805599917"
      ]
     },
     "execution_count": 9,
     "metadata": {},
     "output_type": "execute_result"
    }
   ],
   "source": [
    "print(\"Null Loglikelihood : \")\n",
    "biogeme_model0.calculateNullLoglikelihood(av)"
   ]
  },
  {
   "cell_type": "markdown",
   "metadata": {},
   "source": [
    "# Model 1"
   ]
  },
  {
   "cell_type": "markdown",
   "metadata": {},
   "source": [
    "We choose to do a specification for the time attribute, the cost stays generic in this model. Therefore we obtain a beta_time parameter for each transportation mode. "
   ]
  },
  {
   "cell_type": "code",
   "execution_count": 10,
   "metadata": {},
   "outputs": [],
   "source": [
    "beta_time_walk = Beta('beta_time_walk', 0, None, None, 0)\n",
    "beta_time_cycle = Beta('beta_time_cycle', 0, None, None, 0)\n",
    "beta_time_pt = Beta('beta_time_pt', 0, None, None, 0)\n",
    "beta_time_drive = Beta('beta_time_drive', 0, None, None, 0)"
   ]
  },
  {
   "cell_type": "markdown",
   "metadata": {},
   "source": [
    "The utility functions are rewritten with the new parameters :"
   ]
  },
  {
   "cell_type": "code",
   "execution_count": 11,
   "metadata": {},
   "outputs": [],
   "source": [
    "v_walk_model1= beta_time_walk * time_walk  \n",
    "v_cycle_model1= asc_cycle + beta_time_cycle * time_cycle \n",
    "v_pt_model1= asc_pt + beta_time_pt * time_pt + beta_cost * cost_pt\n",
    "v_drive_model1= asc_drive + beta_time_drive * time_drive + beta_cost * cost_drive"
   ]
  },
  {
   "cell_type": "markdown",
   "metadata": {},
   "source": [
    "The results are computed (parameter values, t-tests or p-values, null and final log likelihoods)"
   ]
  },
  {
   "cell_type": "code",
   "execution_count": 12,
   "metadata": {},
   "outputs": [
    {
     "data": {
      "text/html": [
       "<div>\n",
       "<style scoped>\n",
       "    .dataframe tbody tr th:only-of-type {\n",
       "        vertical-align: middle;\n",
       "    }\n",
       "\n",
       "    .dataframe tbody tr th {\n",
       "        vertical-align: top;\n",
       "    }\n",
       "\n",
       "    .dataframe thead th {\n",
       "        text-align: right;\n",
       "    }\n",
       "</style>\n",
       "<table border=\"1\" class=\"dataframe\">\n",
       "  <thead>\n",
       "    <tr style=\"text-align: right;\">\n",
       "      <th></th>\n",
       "      <th>Value</th>\n",
       "      <th>Rob. Std err</th>\n",
       "      <th>Rob. t-test</th>\n",
       "      <th>Rob. p-value</th>\n",
       "    </tr>\n",
       "  </thead>\n",
       "  <tbody>\n",
       "    <tr>\n",
       "      <th>asc_cycle</th>\n",
       "      <td>-4.847224</td>\n",
       "      <td>0.202570</td>\n",
       "      <td>-23.928655</td>\n",
       "      <td>0.0</td>\n",
       "    </tr>\n",
       "    <tr>\n",
       "      <th>asc_drive</th>\n",
       "      <td>-1.969874</td>\n",
       "      <td>0.137929</td>\n",
       "      <td>-14.281807</td>\n",
       "      <td>0.0</td>\n",
       "    </tr>\n",
       "    <tr>\n",
       "      <th>asc_pt</th>\n",
       "      <td>-2.337196</td>\n",
       "      <td>0.139506</td>\n",
       "      <td>-16.753340</td>\n",
       "      <td>0.0</td>\n",
       "    </tr>\n",
       "    <tr>\n",
       "      <th>beta_cost</th>\n",
       "      <td>-0.182009</td>\n",
       "      <td>0.016087</td>\n",
       "      <td>-11.314048</td>\n",
       "      <td>0.0</td>\n",
       "    </tr>\n",
       "    <tr>\n",
       "      <th>beta_time_cycle</th>\n",
       "      <td>-5.312452</td>\n",
       "      <td>0.462002</td>\n",
       "      <td>-11.498765</td>\n",
       "      <td>0.0</td>\n",
       "    </tr>\n",
       "    <tr>\n",
       "      <th>beta_time_drive</th>\n",
       "      <td>-6.474307</td>\n",
       "      <td>0.378989</td>\n",
       "      <td>-17.083106</td>\n",
       "      <td>0.0</td>\n",
       "    </tr>\n",
       "    <tr>\n",
       "      <th>beta_time_pt</th>\n",
       "      <td>-3.538619</td>\n",
       "      <td>0.250656</td>\n",
       "      <td>-14.117425</td>\n",
       "      <td>0.0</td>\n",
       "    </tr>\n",
       "    <tr>\n",
       "      <th>beta_time_walk</th>\n",
       "      <td>-8.430768</td>\n",
       "      <td>0.418991</td>\n",
       "      <td>-20.121615</td>\n",
       "      <td>0.0</td>\n",
       "    </tr>\n",
       "  </tbody>\n",
       "</table>\n",
       "</div>"
      ],
      "text/plain": [
       "                    Value  Rob. Std err  Rob. t-test  Rob. p-value\n",
       "asc_cycle       -4.847224      0.202570   -23.928655           0.0\n",
       "asc_drive       -1.969874      0.137929   -14.281807           0.0\n",
       "asc_pt          -2.337196      0.139506   -16.753340           0.0\n",
       "beta_cost       -0.182009      0.016087   -11.314048           0.0\n",
       "beta_time_cycle -5.312452      0.462002   -11.498765           0.0\n",
       "beta_time_drive -6.474307      0.378989   -17.083106           0.0\n",
       "beta_time_pt    -3.538619      0.250656   -14.117425           0.0\n",
       "beta_time_walk  -8.430768      0.418991   -20.121615           0.0"
      ]
     },
     "execution_count": 12,
     "metadata": {},
     "output_type": "execute_result"
    }
   ],
   "source": [
    "V_model1 = {1: v_walk_model1 , 2: v_cycle_model1, 3: v_pt_model1, 4: v_drive_model1}\n",
    "logprob_model1 = models.loglogit(V_model1, av, travel_mode)\n",
    "biogeme_model1 = bio.BIOGEME(database, logprob_model1)\n",
    "biogeme_model1.modelName = 'Model_1'\n",
    "all_results['Model1'] = biogeme_model1.estimate()\n",
    "results_specific_time = biogeme_model1.estimate()\n",
    "results_specific_time.getEstimatedParameters()"
   ]
  },
  {
   "cell_type": "code",
   "execution_count": 13,
   "metadata": {},
   "outputs": [
    {
     "data": {
      "text/plain": [
       "(                                         Model0           Model1\n",
       " Number of estimated parameters                5                8\n",
       " Sample size                                5000             5000\n",
       " Final log likelihood               -4587.818071     -4275.496542\n",
       " Akaike Information Criterion        9185.636142      8566.993084\n",
       " Bayesian Information Criterion      9218.222108       8619.13063\n",
       " asc_cycle (t-test)                 -3.88  (-36)   -4.85  (-23.9)\n",
       " asc_drive (t-test)                -1.3  (-16.1)   -1.97  (-14.3)\n",
       " asc_pt (t-test)                  -0.503  (-9.3)   -2.34  (-16.8)\n",
       " beta_cost (t-test)              -0.194  (-13.9)  -0.182  (-11.3)\n",
       " beta_time (t-test)                -5.5  (-26.3)                 \n",
       " beta_time_cycle (t-test)                          -5.31  (-11.5)\n",
       " beta_time_drive (t-test)                          -6.47  (-17.1)\n",
       " beta_time_pt (t-test)                             -3.54  (-14.1)\n",
       " beta_time_walk (t-test)                           -8.43  (-20.1),\n",
       " {'Model0': 'Model0', 'Model1': 'Model1'})"
      ]
     },
     "execution_count": 13,
     "metadata": {},
     "output_type": "execute_result"
    }
   ],
   "source": [
    "res.compile_estimation_results(all_results)"
   ]
  },
  {
   "cell_type": "code",
   "execution_count": 14,
   "metadata": {},
   "outputs": [
    {
     "data": {
      "text/plain": [
       "-6931.471805599917"
      ]
     },
     "execution_count": 14,
     "metadata": {},
     "output_type": "execute_result"
    }
   ],
   "source": [
    "biogeme_model1.calculateNullLoglikelihood(av)"
   ]
  },
  {
   "cell_type": "markdown",
   "metadata": {},
   "source": [
    "We compare the 2 models with the likelihood ratio test because model 0 is a reduction of model 1.  "
   ]
  },
  {
   "cell_type": "code",
   "execution_count": 15,
   "metadata": {},
   "outputs": [
    {
     "data": {
      "text/plain": [
       "LRTuple(message='H0 can be rejected at level 5.0%', statistic=624.6430583536785, threshold=7.814727903251179)"
      ]
     },
     "execution_count": 15,
     "metadata": {},
     "output_type": "execute_result"
    }
   ],
   "source": [
    "results_specific_time.likelihood_ratio_test(results_generic, 0.05)"
   ]
  },
  {
   "cell_type": "markdown",
   "metadata": {},
   "source": [
    "# Model 2"
   ]
  },
  {
   "cell_type": "markdown",
   "metadata": {},
   "source": [
    "Using Model 1 as the base model, we choose to study how gender interact with the\n",
    "ASCs and the alternative attributes. "
   ]
  },
  {
   "cell_type": "markdown",
   "metadata": {},
   "source": [
    "Lets start by segmenting the population by gender"
   ]
  },
  {
   "cell_type": "code",
   "execution_count": 16,
   "metadata": {},
   "outputs": [],
   "source": [
    "gender_segmentation = seg.DiscreteSegmentationTuple(variable=female, mapping={1: 'female', 0: 'male'})"
   ]
  },
  {
   "cell_type": "markdown",
   "metadata": {},
   "source": [
    "### ASC segmentation"
   ]
  },
  {
   "cell_type": "code",
   "execution_count": 17,
   "metadata": {},
   "outputs": [],
   "source": [
    "asc_cycle = Beta('asc_cycle', 0, None, None, 0)\n",
    "segmented_asc_cycle = seg.Segmentation(asc_cycle,[gender_segmentation]).segmented_beta()\n",
    "\n",
    "asc_pt = Beta('asc_pt', 0, None, None, 0)\n",
    "segmented_asc_pt = seg.Segmentation(asc_pt,[gender_segmentation]).segmented_beta()\n",
    "\n",
    "asc_drive = Beta('asc_drive', 0, None, None, 0)\n",
    "segmented_asc_drive = seg.Segmentation(asc_drive,[gender_segmentation]).segmented_beta()"
   ]
  },
  {
   "cell_type": "markdown",
   "metadata": {},
   "source": [
    "We redefine the value function of the 4 alternatives, introducing the segmented ASC and the segmented cost attribute"
   ]
  },
  {
   "cell_type": "code",
   "execution_count": 18,
   "metadata": {},
   "outputs": [],
   "source": [
    "v_walk_model2= beta_time_walk * time_walk  \n",
    "v_cycle_model2= segmented_asc_cycle + beta_time_cycle * time_cycle \n",
    "v_pt_model2= segmented_asc_pt + beta_time_pt * time_pt + beta_cost * cost_pt\n",
    "v_drive_model2= segmented_asc_drive + beta_time_drive * time_drive + beta_cost * cost_drive"
   ]
  },
  {
   "cell_type": "markdown",
   "metadata": {},
   "source": [
    "We can compute the result of the new model"
   ]
  },
  {
   "cell_type": "code",
   "execution_count": 19,
   "metadata": {},
   "outputs": [
    {
     "data": {
      "text/html": [
       "<div>\n",
       "<style scoped>\n",
       "    .dataframe tbody tr th:only-of-type {\n",
       "        vertical-align: middle;\n",
       "    }\n",
       "\n",
       "    .dataframe tbody tr th {\n",
       "        vertical-align: top;\n",
       "    }\n",
       "\n",
       "    .dataframe thead th {\n",
       "        text-align: right;\n",
       "    }\n",
       "</style>\n",
       "<table border=\"1\" class=\"dataframe\">\n",
       "  <thead>\n",
       "    <tr style=\"text-align: right;\">\n",
       "      <th></th>\n",
       "      <th>Value</th>\n",
       "      <th>Rob. Std err</th>\n",
       "      <th>Rob. t-test</th>\n",
       "      <th>Rob. p-value</th>\n",
       "    </tr>\n",
       "  </thead>\n",
       "  <tbody>\n",
       "    <tr>\n",
       "      <th>asc_cycle</th>\n",
       "      <td>-5.454906</td>\n",
       "      <td>0.253359</td>\n",
       "      <td>-21.530353</td>\n",
       "      <td>0.000000e+00</td>\n",
       "    </tr>\n",
       "    <tr>\n",
       "      <th>asc_cycle_male</th>\n",
       "      <td>1.051966</td>\n",
       "      <td>0.208777</td>\n",
       "      <td>5.038696</td>\n",
       "      <td>4.687141e-07</td>\n",
       "    </tr>\n",
       "    <tr>\n",
       "      <th>asc_drive</th>\n",
       "      <td>-1.893648</td>\n",
       "      <td>0.144299</td>\n",
       "      <td>-13.123111</td>\n",
       "      <td>0.000000e+00</td>\n",
       "    </tr>\n",
       "    <tr>\n",
       "      <th>asc_drive_male</th>\n",
       "      <td>-0.197931</td>\n",
       "      <td>0.095253</td>\n",
       "      <td>-2.077955</td>\n",
       "      <td>3.771347e-02</td>\n",
       "    </tr>\n",
       "    <tr>\n",
       "      <th>asc_pt</th>\n",
       "      <td>-2.208481</td>\n",
       "      <td>0.146369</td>\n",
       "      <td>-15.088464</td>\n",
       "      <td>0.000000e+00</td>\n",
       "    </tr>\n",
       "    <tr>\n",
       "      <th>asc_pt_male</th>\n",
       "      <td>-0.333133</td>\n",
       "      <td>0.099553</td>\n",
       "      <td>-3.346279</td>\n",
       "      <td>8.190405e-04</td>\n",
       "    </tr>\n",
       "    <tr>\n",
       "      <th>beta_cost</th>\n",
       "      <td>-0.182829</td>\n",
       "      <td>0.016154</td>\n",
       "      <td>-11.317962</td>\n",
       "      <td>0.000000e+00</td>\n",
       "    </tr>\n",
       "    <tr>\n",
       "      <th>beta_time_cycle</th>\n",
       "      <td>-5.580986</td>\n",
       "      <td>0.473158</td>\n",
       "      <td>-11.795183</td>\n",
       "      <td>0.000000e+00</td>\n",
       "    </tr>\n",
       "    <tr>\n",
       "      <th>beta_time_drive</th>\n",
       "      <td>-6.487796</td>\n",
       "      <td>0.380048</td>\n",
       "      <td>-17.070999</td>\n",
       "      <td>0.000000e+00</td>\n",
       "    </tr>\n",
       "    <tr>\n",
       "      <th>beta_time_pt</th>\n",
       "      <td>-3.526902</td>\n",
       "      <td>0.251400</td>\n",
       "      <td>-14.029021</td>\n",
       "      <td>0.000000e+00</td>\n",
       "    </tr>\n",
       "    <tr>\n",
       "      <th>beta_time_walk</th>\n",
       "      <td>-8.456516</td>\n",
       "      <td>0.417752</td>\n",
       "      <td>-20.242889</td>\n",
       "      <td>0.000000e+00</td>\n",
       "    </tr>\n",
       "  </tbody>\n",
       "</table>\n",
       "</div>"
      ],
      "text/plain": [
       "                    Value  Rob. Std err  Rob. t-test  Rob. p-value\n",
       "asc_cycle       -5.454906      0.253359   -21.530353  0.000000e+00\n",
       "asc_cycle_male   1.051966      0.208777     5.038696  4.687141e-07\n",
       "asc_drive       -1.893648      0.144299   -13.123111  0.000000e+00\n",
       "asc_drive_male  -0.197931      0.095253    -2.077955  3.771347e-02\n",
       "asc_pt          -2.208481      0.146369   -15.088464  0.000000e+00\n",
       "asc_pt_male     -0.333133      0.099553    -3.346279  8.190405e-04\n",
       "beta_cost       -0.182829      0.016154   -11.317962  0.000000e+00\n",
       "beta_time_cycle -5.580986      0.473158   -11.795183  0.000000e+00\n",
       "beta_time_drive -6.487796      0.380048   -17.070999  0.000000e+00\n",
       "beta_time_pt    -3.526902      0.251400   -14.029021  0.000000e+00\n",
       "beta_time_walk  -8.456516      0.417752   -20.242889  0.000000e+00"
      ]
     },
     "execution_count": 19,
     "metadata": {},
     "output_type": "execute_result"
    }
   ],
   "source": [
    "V_model2 = {1: v_walk_model2 , 2: v_cycle_model2, 3: v_pt_model2, 4: v_drive_model2}\n",
    "logprob_model2 = models.loglogit(V_model2, av, travel_mode)\n",
    "biogeme_model2 = bio.BIOGEME(database, logprob_model2)\n",
    "biogeme_model2.modelName = 'Model_2'\n",
    "all_results['Model2'] = biogeme_model2.estimate()\n",
    "results_segmented_gender = biogeme_model2.estimate()\n",
    "results_segmented_gender.getEstimatedParameters()"
   ]
  },
  {
   "cell_type": "code",
   "execution_count": 20,
   "metadata": {},
   "outputs": [
    {
     "data": {
      "text/plain": [
       "-6931.471805599917"
      ]
     },
     "execution_count": 20,
     "metadata": {},
     "output_type": "execute_result"
    }
   ],
   "source": [
    "biogeme_model2.calculateNullLoglikelihood(av)"
   ]
  },
  {
   "cell_type": "markdown",
   "metadata": {},
   "source": [
    "### Cost segmentation"
   ]
  },
  {
   "cell_type": "markdown",
   "metadata": {},
   "source": [
    "And its interaction on the cost attribute in the car and public transport alternative."
   ]
  },
  {
   "cell_type": "code",
   "execution_count": 21,
   "metadata": {},
   "outputs": [],
   "source": [
    "beta_cost = Beta('beta_cost', 0, None, None, 0)\n",
    "segmented_beta_cost = seg.Segmentation(beta_cost, [gender_segmentation]).segmented_beta()"
   ]
  },
  {
   "cell_type": "code",
   "execution_count": 22,
   "metadata": {},
   "outputs": [],
   "source": [
    "v_walk_model2_2= beta_time_walk * time_walk  \n",
    "v_cycle_model2_2= asc_cycle + beta_time_cycle * time_cycle \n",
    "v_pt_model2_2= asc_pt + beta_time_pt * time_pt + segmented_beta_cost * cost_pt\n",
    "v_drive_model2_2= asc_drive + beta_time_drive * time_drive + segmented_beta_cost * cost_drive"
   ]
  },
  {
   "cell_type": "markdown",
   "metadata": {},
   "source": [
    "We can compute the result of the new model"
   ]
  },
  {
   "cell_type": "code",
   "execution_count": 23,
   "metadata": {},
   "outputs": [
    {
     "data": {
      "text/html": [
       "<div>\n",
       "<style scoped>\n",
       "    .dataframe tbody tr th:only-of-type {\n",
       "        vertical-align: middle;\n",
       "    }\n",
       "\n",
       "    .dataframe tbody tr th {\n",
       "        vertical-align: top;\n",
       "    }\n",
       "\n",
       "    .dataframe thead th {\n",
       "        text-align: right;\n",
       "    }\n",
       "</style>\n",
       "<table border=\"1\" class=\"dataframe\">\n",
       "  <thead>\n",
       "    <tr style=\"text-align: right;\">\n",
       "      <th></th>\n",
       "      <th>Value</th>\n",
       "      <th>Rob. Std err</th>\n",
       "      <th>Rob. t-test</th>\n",
       "      <th>Rob. p-value</th>\n",
       "    </tr>\n",
       "  </thead>\n",
       "  <tbody>\n",
       "    <tr>\n",
       "      <th>asc_cycle</th>\n",
       "      <td>-4.843793</td>\n",
       "      <td>0.202194</td>\n",
       "      <td>-23.956159</td>\n",
       "      <td>0.000000e+00</td>\n",
       "    </tr>\n",
       "    <tr>\n",
       "      <th>asc_drive</th>\n",
       "      <td>-1.971743</td>\n",
       "      <td>0.137733</td>\n",
       "      <td>-14.315669</td>\n",
       "      <td>0.000000e+00</td>\n",
       "    </tr>\n",
       "    <tr>\n",
       "      <th>asc_pt</th>\n",
       "      <td>-2.343140</td>\n",
       "      <td>0.139310</td>\n",
       "      <td>-16.819666</td>\n",
       "      <td>0.000000e+00</td>\n",
       "    </tr>\n",
       "    <tr>\n",
       "      <th>beta_cost</th>\n",
       "      <td>-0.151591</td>\n",
       "      <td>0.018749</td>\n",
       "      <td>-8.085476</td>\n",
       "      <td>6.661338e-16</td>\n",
       "    </tr>\n",
       "    <tr>\n",
       "      <th>beta_cost_male</th>\n",
       "      <td>-0.065394</td>\n",
       "      <td>0.031840</td>\n",
       "      <td>-2.053794</td>\n",
       "      <td>3.999561e-02</td>\n",
       "    </tr>\n",
       "    <tr>\n",
       "      <th>beta_time_cycle</th>\n",
       "      <td>-5.348638</td>\n",
       "      <td>0.459248</td>\n",
       "      <td>-11.646508</td>\n",
       "      <td>0.000000e+00</td>\n",
       "    </tr>\n",
       "    <tr>\n",
       "      <th>beta_time_drive</th>\n",
       "      <td>-6.483024</td>\n",
       "      <td>0.380414</td>\n",
       "      <td>-17.042046</td>\n",
       "      <td>0.000000e+00</td>\n",
       "    </tr>\n",
       "    <tr>\n",
       "      <th>beta_time_pt</th>\n",
       "      <td>-3.536891</td>\n",
       "      <td>0.250704</td>\n",
       "      <td>-14.107825</td>\n",
       "      <td>0.000000e+00</td>\n",
       "    </tr>\n",
       "    <tr>\n",
       "      <th>beta_time_walk</th>\n",
       "      <td>-8.435703</td>\n",
       "      <td>0.418411</td>\n",
       "      <td>-20.161281</td>\n",
       "      <td>0.000000e+00</td>\n",
       "    </tr>\n",
       "  </tbody>\n",
       "</table>\n",
       "</div>"
      ],
      "text/plain": [
       "                    Value  Rob. Std err  Rob. t-test  Rob. p-value\n",
       "asc_cycle       -4.843793      0.202194   -23.956159  0.000000e+00\n",
       "asc_drive       -1.971743      0.137733   -14.315669  0.000000e+00\n",
       "asc_pt          -2.343140      0.139310   -16.819666  0.000000e+00\n",
       "beta_cost       -0.151591      0.018749    -8.085476  6.661338e-16\n",
       "beta_cost_male  -0.065394      0.031840    -2.053794  3.999561e-02\n",
       "beta_time_cycle -5.348638      0.459248   -11.646508  0.000000e+00\n",
       "beta_time_drive -6.483024      0.380414   -17.042046  0.000000e+00\n",
       "beta_time_pt    -3.536891      0.250704   -14.107825  0.000000e+00\n",
       "beta_time_walk  -8.435703      0.418411   -20.161281  0.000000e+00"
      ]
     },
     "execution_count": 23,
     "metadata": {},
     "output_type": "execute_result"
    }
   ],
   "source": [
    "V_model2_2 = {1: v_walk_model2_2 , 2: v_cycle_model2_2, 3: v_pt_model2_2, 4: v_drive_model2_2}\n",
    "logprob_model2_2 = models.loglogit(V_model2_2, av, travel_mode)\n",
    "biogeme_model2_2 = bio.BIOGEME(database, logprob_model2_2)\n",
    "biogeme_model2_2.modelName = 'Model_2_2'\n",
    "all_results['Model2_2'] = biogeme_model2_2.estimate()\n",
    "results_segmented_gender_2 = biogeme_model2_2.estimate()\n",
    "results_segmented_gender_2.getEstimatedParameters()"
   ]
  },
  {
   "cell_type": "code",
   "execution_count": 24,
   "metadata": {},
   "outputs": [
    {
     "data": {
      "text/plain": [
       "-6931.471805599917"
      ]
     },
     "execution_count": 24,
     "metadata": {},
     "output_type": "execute_result"
    }
   ],
   "source": [
    "biogeme_model2_2.calculateNullLoglikelihood(av)"
   ]
  },
  {
   "cell_type": "markdown",
   "metadata": {},
   "source": [
    "### Compiling all results from the different models"
   ]
  },
  {
   "cell_type": "code",
   "execution_count": 25,
   "metadata": {},
   "outputs": [
    {
     "data": {
      "text/plain": [
       "(                                         Model0           Model1  \\\n",
       " Number of estimated parameters                5                8   \n",
       " Sample size                                5000             5000   \n",
       " Final log likelihood               -4587.818071     -4275.496542   \n",
       " Akaike Information Criterion        9185.636142      8566.993084   \n",
       " Bayesian Information Criterion      9218.222108       8619.13063   \n",
       " asc_cycle (t-test)                 -3.88  (-36)   -4.85  (-23.9)   \n",
       " asc_drive (t-test)                -1.3  (-16.1)   -1.97  (-14.3)   \n",
       " asc_pt (t-test)                  -0.503  (-9.3)   -2.34  (-16.8)   \n",
       " beta_cost (t-test)              -0.194  (-13.9)  -0.182  (-11.3)   \n",
       " beta_time (t-test)                -5.5  (-26.3)                    \n",
       " beta_time_cycle (t-test)                          -5.31  (-11.5)   \n",
       " beta_time_drive (t-test)                          -6.47  (-17.1)   \n",
       " beta_time_pt (t-test)                             -3.54  (-14.1)   \n",
       " beta_time_walk (t-test)                           -8.43  (-20.1)   \n",
       " asc_cycle_male (t-test)                                            \n",
       " asc_drive_male (t-test)                                            \n",
       " asc_pt_male (t-test)                                               \n",
       " beta_cost_male (t-test)                                            \n",
       " \n",
       "                                          Model2          Model2_2  \n",
       " Number of estimated parameters               11                 9  \n",
       " Sample size                                5000              5000  \n",
       " Final log likelihood               -4245.240231      -4273.204021  \n",
       " Akaike Information Criterion        8512.480462       8564.408041  \n",
       " Bayesian Information Criterion      8584.169587        8623.06278  \n",
       " asc_cycle (t-test)               -5.45  (-21.5)      -4.84  (-24)  \n",
       " asc_drive (t-test)               -1.89  (-13.1)    -1.97  (-14.3)  \n",
       " asc_pt (t-test)                  -2.21  (-15.1)    -2.34  (-16.8)  \n",
       " beta_cost (t-test)              -0.183  (-11.3)   -0.152  (-8.09)  \n",
       " beta_time (t-test)                                                 \n",
       " beta_time_cycle (t-test)         -5.58  (-11.8)    -5.35  (-11.6)  \n",
       " beta_time_drive (t-test)         -6.49  (-17.1)      -6.48  (-17)  \n",
       " beta_time_pt (t-test)              -3.53  (-14)    -3.54  (-14.1)  \n",
       " beta_time_walk (t-test)          -8.46  (-20.2)    -8.44  (-20.2)  \n",
       " asc_cycle_male (t-test)            1.05  (5.04)                    \n",
       " asc_drive_male (t-test)         -0.198  (-2.08)                    \n",
       " asc_pt_male (t-test)            -0.333  (-3.35)                    \n",
       " beta_cost_male (t-test)                          -0.0654  (-2.05)  ,\n",
       " {'Model0': 'Model0',\n",
       "  'Model1': 'Model1',\n",
       "  'Model2': 'Model2',\n",
       "  'Model2_2': 'Model2_2'})"
      ]
     },
     "execution_count": 25,
     "metadata": {},
     "output_type": "execute_result"
    }
   ],
   "source": [
    "res.compile_estimation_results(all_results)"
   ]
  },
  {
   "cell_type": "markdown",
   "metadata": {},
   "source": [
    "### Likelihood ratio test to check if model_2 and model_2_2 are equivalent or not"
   ]
  },
  {
   "cell_type": "code",
   "execution_count": 26,
   "metadata": {},
   "outputs": [
    {
     "data": {
      "text/plain": [
       "LRTuple(message='H0 can be rejected at level 5.0%', statistic=55.92757903317943, threshold=5.991464547107979)"
      ]
     },
     "execution_count": 26,
     "metadata": {},
     "output_type": "execute_result"
    }
   ],
   "source": [
    "results_segmented_gender.likelihood_ratio_test(results_segmented_gender_2, 0.05)"
   ]
  },
  {
   "cell_type": "markdown",
   "metadata": {},
   "source": [
    "Model_2 is preferred because they are not equivalent. The BIC and AIC are smaller and the final likelihood is bigger for model 2"
   ]
  },
  {
   "cell_type": "markdown",
   "metadata": {},
   "source": [
    "### Comparison with model 1"
   ]
  },
  {
   "cell_type": "code",
   "execution_count": 27,
   "metadata": {},
   "outputs": [
    {
     "data": {
      "text/plain": [
       "LRTuple(message='H0 can be rejected at level 5.0%', statistic=60.51262181686252, threshold=7.814727903251179)"
      ]
     },
     "execution_count": 27,
     "metadata": {},
     "output_type": "execute_result"
    }
   ],
   "source": [
    "results_segmented_gender.likelihood_ratio_test(results_specific_time, 0.05)"
   ]
  },
  {
   "cell_type": "markdown",
   "metadata": {},
   "source": [
    "Model_2 is preferred to Model_1 because they are not equivalent. The BIC and AIC are smaller and the final likelihood is bigger for model 2."
   ]
  },
  {
   "cell_type": "markdown",
   "metadata": {},
   "source": [
    "# Model 3 - Thomas"
   ]
  },
  {
   "cell_type": "code",
   "execution_count": 28,
   "metadata": {},
   "outputs": [],
   "source": [
    "# Repartir du model segmenté, Modèle 2"
   ]
  },
  {
   "cell_type": "code",
   "execution_count": 29,
   "metadata": {
    "tags": []
   },
   "outputs": [],
   "source": [
    "#GENDER segmentation\n",
    "gender_segmentation_3bis = seg.DiscreteSegmentationTuple(variable=female, mapping={1: 'female', 0: 'male'})"
   ]
  },
  {
   "cell_type": "code",
   "execution_count": 30,
   "metadata": {},
   "outputs": [],
   "source": [
    "asc_cycle_3bis = Beta('asc_cycle_3bis', 0, None, None, 0)\n",
    "segmented_asc_cycle_3bis = seg.Segmentation(asc_cycle,[gender_segmentation]).segmented_beta()\n",
    "\n",
    "asc_pt_3bis = Beta('asc_pt_3bis', 0, None, None, 0)\n",
    "segmented_asc_pt_3bis = seg.Segmentation(asc_pt,[gender_segmentation]).segmented_beta()\n",
    "\n",
    "asc_drive_3bis = Beta('asc_drive_3bis', 0, None, None, 0)\n",
    "segmented_asc_drive_3bis = seg.Segmentation(asc_drive_3bis,[gender_segmentation_3bis]).segmented_beta()"
   ]
  },
  {
   "cell_type": "code",
   "execution_count": 31,
   "metadata": {
    "tags": []
   },
   "outputs": [],
   "source": [
    "beta_time_walk_3bis = Beta('beta_time_walk_3bis', 0, None, None, 0)\n",
    "beta_time_cycle_3bis = Beta('beta_time_cycle_3bis', 0, None, None, 0)\n",
    "\n",
    "beta_time_pt_3bis = Beta('beta_time_pt_3bis', 0, None, None, 0)\n",
    "beta_time_pt_3bis_squarred = Beta('beta_time_pt_3bis_squarred', 0, None, None, 0)\n",
    "\n",
    "beta_time_drive_3bis = Beta('beta_time_drive_3bis', 0, None, None, 0)\n",
    "beta_cost_3bis = Beta('beta_cost_3bis', 0, None, None, 0)\n",
    "\n",
    "\n",
    "v_walk_model_3bis= beta_time_walk_3bis * time_walk  \n",
    "\n",
    "v_cycle_model_3bis= segmented_asc_cycle_3bis + beta_time_cycle_3bis * time_cycle \n",
    "\n",
    "v_pt_model_3bis= segmented_asc_pt_3bis + beta_time_pt_3bis * time_pt + beta_time_pt_3bis_squarred *time_pt*time_pt + beta_cost_3bis * cost_pt\n",
    "\n",
    "v_drive_model_3bis= segmented_asc_drive_3bis + beta_time_drive_3bis * time_drive + beta_cost_3bis * cost_drive"
   ]
  },
  {
   "cell_type": "code",
   "execution_count": 32,
   "metadata": {
    "tags": []
   },
   "outputs": [
    {
     "data": {
      "text/html": [
       "<div>\n",
       "<style scoped>\n",
       "    .dataframe tbody tr th:only-of-type {\n",
       "        vertical-align: middle;\n",
       "    }\n",
       "\n",
       "    .dataframe tbody tr th {\n",
       "        vertical-align: top;\n",
       "    }\n",
       "\n",
       "    .dataframe thead th {\n",
       "        text-align: right;\n",
       "    }\n",
       "</style>\n",
       "<table border=\"1\" class=\"dataframe\">\n",
       "  <thead>\n",
       "    <tr style=\"text-align: right;\">\n",
       "      <th></th>\n",
       "      <th>Value</th>\n",
       "      <th>Rob. Std err</th>\n",
       "      <th>Rob. t-test</th>\n",
       "      <th>Rob. p-value</th>\n",
       "    </tr>\n",
       "  </thead>\n",
       "  <tbody>\n",
       "    <tr>\n",
       "      <th>asc_cycle</th>\n",
       "      <td>-5.373633</td>\n",
       "      <td>0.250689</td>\n",
       "      <td>-21.435415</td>\n",
       "      <td>0.000000e+00</td>\n",
       "    </tr>\n",
       "    <tr>\n",
       "      <th>asc_cycle_male</th>\n",
       "      <td>1.052224</td>\n",
       "      <td>0.208454</td>\n",
       "      <td>5.047748</td>\n",
       "      <td>4.470478e-07</td>\n",
       "    </tr>\n",
       "    <tr>\n",
       "      <th>asc_drive_3bis</th>\n",
       "      <td>-1.802140</td>\n",
       "      <td>0.145490</td>\n",
       "      <td>-12.386676</td>\n",
       "      <td>0.000000e+00</td>\n",
       "    </tr>\n",
       "    <tr>\n",
       "      <th>asc_drive_3bis_male</th>\n",
       "      <td>-0.198042</td>\n",
       "      <td>0.094447</td>\n",
       "      <td>-2.096845</td>\n",
       "      <td>3.600732e-02</td>\n",
       "    </tr>\n",
       "    <tr>\n",
       "      <th>asc_pt</th>\n",
       "      <td>-2.490305</td>\n",
       "      <td>0.160124</td>\n",
       "      <td>-15.552319</td>\n",
       "      <td>0.000000e+00</td>\n",
       "    </tr>\n",
       "    <tr>\n",
       "      <th>asc_pt_male</th>\n",
       "      <td>-0.339756</td>\n",
       "      <td>0.101136</td>\n",
       "      <td>-3.359391</td>\n",
       "      <td>7.811443e-04</td>\n",
       "    </tr>\n",
       "    <tr>\n",
       "      <th>beta_cost_3bis</th>\n",
       "      <td>-0.180475</td>\n",
       "      <td>0.016392</td>\n",
       "      <td>-11.010049</td>\n",
       "      <td>0.000000e+00</td>\n",
       "    </tr>\n",
       "    <tr>\n",
       "      <th>beta_time_cycle_3bis</th>\n",
       "      <td>-5.573343</td>\n",
       "      <td>0.458404</td>\n",
       "      <td>-12.158134</td>\n",
       "      <td>0.000000e+00</td>\n",
       "    </tr>\n",
       "    <tr>\n",
       "      <th>beta_time_drive_3bis</th>\n",
       "      <td>-6.562530</td>\n",
       "      <td>0.388238</td>\n",
       "      <td>-16.903348</td>\n",
       "      <td>0.000000e+00</td>\n",
       "    </tr>\n",
       "    <tr>\n",
       "      <th>beta_time_pt_3bis</th>\n",
       "      <td>-1.983146</td>\n",
       "      <td>0.470332</td>\n",
       "      <td>-4.216483</td>\n",
       "      <td>2.481418e-05</td>\n",
       "    </tr>\n",
       "    <tr>\n",
       "      <th>beta_time_pt_3bis_squarred</th>\n",
       "      <td>-1.234442</td>\n",
       "      <td>0.350105</td>\n",
       "      <td>-3.525923</td>\n",
       "      <td>4.220091e-04</td>\n",
       "    </tr>\n",
       "    <tr>\n",
       "      <th>beta_time_walk_3bis</th>\n",
       "      <td>-8.308048</td>\n",
       "      <td>0.418052</td>\n",
       "      <td>-19.873241</td>\n",
       "      <td>0.000000e+00</td>\n",
       "    </tr>\n",
       "  </tbody>\n",
       "</table>\n",
       "</div>"
      ],
      "text/plain": [
       "                               Value  Rob. Std err  Rob. t-test  Rob. p-value\n",
       "asc_cycle                  -5.373633      0.250689   -21.435415  0.000000e+00\n",
       "asc_cycle_male              1.052224      0.208454     5.047748  4.470478e-07\n",
       "asc_drive_3bis             -1.802140      0.145490   -12.386676  0.000000e+00\n",
       "asc_drive_3bis_male        -0.198042      0.094447    -2.096845  3.600732e-02\n",
       "asc_pt                     -2.490305      0.160124   -15.552319  0.000000e+00\n",
       "asc_pt_male                -0.339756      0.101136    -3.359391  7.811443e-04\n",
       "beta_cost_3bis             -0.180475      0.016392   -11.010049  0.000000e+00\n",
       "beta_time_cycle_3bis       -5.573343      0.458404   -12.158134  0.000000e+00\n",
       "beta_time_drive_3bis       -6.562530      0.388238   -16.903348  0.000000e+00\n",
       "beta_time_pt_3bis          -1.983146      0.470332    -4.216483  2.481418e-05\n",
       "beta_time_pt_3bis_squarred -1.234442      0.350105    -3.525923  4.220091e-04\n",
       "beta_time_walk_3bis        -8.308048      0.418052   -19.873241  0.000000e+00"
      ]
     },
     "execution_count": 32,
     "metadata": {},
     "output_type": "execute_result"
    }
   ],
   "source": [
    "V_model_3bis = {1: v_walk_model_3bis , 2: v_cycle_model_3bis, 3: v_pt_model_3bis, 4: v_drive_model_3bis}\n",
    "logprob_model_3bis = models.loglogit(V_model_3bis, av, travel_mode)\n",
    "biogeme_model_3bis = bio.BIOGEME(database, logprob_model_3bis)\n",
    "biogeme_model_3bis.modelName = 'Model_3bis'\n",
    "all_results['Model_3bis'] = biogeme_model_3bis.estimate()\n",
    "results_segmented_gender_3bis = biogeme_model_3bis.estimate()\n",
    "results_segmented_gender_3bis.getEstimatedParameters()"
   ]
  },
  {
   "cell_type": "code",
   "execution_count": 33,
   "metadata": {
    "tags": []
   },
   "outputs": [],
   "source": [
    "#COST segmentation"
   ]
  },
  {
   "cell_type": "code",
   "execution_count": 34,
   "metadata": {
    "tags": []
   },
   "outputs": [],
   "source": [
    "beta_cost_33 = Beta('beta_cost_33', 0, None, None, 0)\n",
    "segmented_beta_cost_33 = seg.Segmentation(beta_cost_33, [gender_segmentation_3bis]).segmented_beta()"
   ]
  },
  {
   "cell_type": "code",
   "execution_count": 35,
   "metadata": {
    "tags": []
   },
   "outputs": [],
   "source": [
    "beta_time_pt_33_squarred = Beta('beta_time_pt_33_squarred', 0, None, None, 0)\n",
    "\n",
    "v_walk_model_33= beta_time_walk * time_walk  \n",
    "\n",
    "v_cycle_model_33= asc_cycle + beta_time_cycle * time_cycle \n",
    "\n",
    "v_pt_model_33= asc_pt + beta_time_pt * time_pt + beta_time_pt_33_squarred * time_pt * time_pt + segmented_beta_cost * cost_pt\n",
    "\n",
    "v_drive_model_33= asc_drive + beta_time_drive * time_drive + segmented_beta_cost * cost_drive"
   ]
  },
  {
   "cell_type": "code",
   "execution_count": 36,
   "metadata": {
    "tags": []
   },
   "outputs": [
    {
     "data": {
      "text/html": [
       "<div>\n",
       "<style scoped>\n",
       "    .dataframe tbody tr th:only-of-type {\n",
       "        vertical-align: middle;\n",
       "    }\n",
       "\n",
       "    .dataframe tbody tr th {\n",
       "        vertical-align: top;\n",
       "    }\n",
       "\n",
       "    .dataframe thead th {\n",
       "        text-align: right;\n",
       "    }\n",
       "</style>\n",
       "<table border=\"1\" class=\"dataframe\">\n",
       "  <thead>\n",
       "    <tr style=\"text-align: right;\">\n",
       "      <th></th>\n",
       "      <th>Value</th>\n",
       "      <th>Rob. Std err</th>\n",
       "      <th>Rob. t-test</th>\n",
       "      <th>Rob. p-value</th>\n",
       "    </tr>\n",
       "  </thead>\n",
       "  <tbody>\n",
       "    <tr>\n",
       "      <th>asc_cycle</th>\n",
       "      <td>-4.761737</td>\n",
       "      <td>0.199493</td>\n",
       "      <td>-23.869146</td>\n",
       "      <td>0.000000e+00</td>\n",
       "    </tr>\n",
       "    <tr>\n",
       "      <th>asc_drive</th>\n",
       "      <td>-1.881527</td>\n",
       "      <td>0.139072</td>\n",
       "      <td>-13.529112</td>\n",
       "      <td>0.000000e+00</td>\n",
       "    </tr>\n",
       "    <tr>\n",
       "      <th>asc_pt</th>\n",
       "      <td>-2.623410</td>\n",
       "      <td>0.154065</td>\n",
       "      <td>-17.027935</td>\n",
       "      <td>0.000000e+00</td>\n",
       "    </tr>\n",
       "    <tr>\n",
       "      <th>beta_cost</th>\n",
       "      <td>-0.149036</td>\n",
       "      <td>0.018925</td>\n",
       "      <td>-7.875277</td>\n",
       "      <td>3.330669e-15</td>\n",
       "    </tr>\n",
       "    <tr>\n",
       "      <th>beta_cost_male</th>\n",
       "      <td>-0.065963</td>\n",
       "      <td>0.032234</td>\n",
       "      <td>-2.046418</td>\n",
       "      <td>4.071531e-02</td>\n",
       "    </tr>\n",
       "    <tr>\n",
       "      <th>beta_time_cycle</th>\n",
       "      <td>-5.345713</td>\n",
       "      <td>0.445822</td>\n",
       "      <td>-11.990691</td>\n",
       "      <td>0.000000e+00</td>\n",
       "    </tr>\n",
       "    <tr>\n",
       "      <th>beta_time_drive</th>\n",
       "      <td>-6.555686</td>\n",
       "      <td>0.388305</td>\n",
       "      <td>-16.882845</td>\n",
       "      <td>0.000000e+00</td>\n",
       "    </tr>\n",
       "    <tr>\n",
       "      <th>beta_time_pt</th>\n",
       "      <td>-2.013847</td>\n",
       "      <td>0.470794</td>\n",
       "      <td>-4.277554</td>\n",
       "      <td>1.889584e-05</td>\n",
       "    </tr>\n",
       "    <tr>\n",
       "      <th>beta_time_pt_33_squarred</th>\n",
       "      <td>-1.219341</td>\n",
       "      <td>0.352244</td>\n",
       "      <td>-3.461636</td>\n",
       "      <td>5.369018e-04</td>\n",
       "    </tr>\n",
       "    <tr>\n",
       "      <th>beta_time_walk</th>\n",
       "      <td>-8.288616</td>\n",
       "      <td>0.418773</td>\n",
       "      <td>-19.792639</td>\n",
       "      <td>0.000000e+00</td>\n",
       "    </tr>\n",
       "  </tbody>\n",
       "</table>\n",
       "</div>"
      ],
      "text/plain": [
       "                             Value  Rob. Std err  Rob. t-test  Rob. p-value\n",
       "asc_cycle                -4.761737      0.199493   -23.869146  0.000000e+00\n",
       "asc_drive                -1.881527      0.139072   -13.529112  0.000000e+00\n",
       "asc_pt                   -2.623410      0.154065   -17.027935  0.000000e+00\n",
       "beta_cost                -0.149036      0.018925    -7.875277  3.330669e-15\n",
       "beta_cost_male           -0.065963      0.032234    -2.046418  4.071531e-02\n",
       "beta_time_cycle          -5.345713      0.445822   -11.990691  0.000000e+00\n",
       "beta_time_drive          -6.555686      0.388305   -16.882845  0.000000e+00\n",
       "beta_time_pt             -2.013847      0.470794    -4.277554  1.889584e-05\n",
       "beta_time_pt_33_squarred -1.219341      0.352244    -3.461636  5.369018e-04\n",
       "beta_time_walk           -8.288616      0.418773   -19.792639  0.000000e+00"
      ]
     },
     "execution_count": 36,
     "metadata": {},
     "output_type": "execute_result"
    }
   ],
   "source": [
    "V_model_33 = {1: v_walk_model_33 , 2: v_cycle_model_33, 3: v_pt_model_33, 4: v_drive_model_33}\n",
    "logprob_model_33 = models.loglogit(V_model_33, av, travel_mode)\n",
    "biogeme_model_33 = bio.BIOGEME(database, logprob_model_33)\n",
    "biogeme_model_33.modelName = 'Model__33'\n",
    "all_results['Model_33'] = biogeme_model_33.estimate()\n",
    "results_segmented_gender_33 = biogeme_model_33.estimate()\n",
    "results_segmented_gender_33.getEstimatedParameters()"
   ]
  },
  {
   "cell_type": "markdown",
   "metadata": {},
   "source": [
    "### Comparison model_3bis and model_33"
   ]
  },
  {
   "cell_type": "code",
   "execution_count": 37,
   "metadata": {
    "tags": []
   },
   "outputs": [
    {
     "data": {
      "text/plain": [
       "LRTuple(message='H0 can be rejected at level 5.0%', statistic=56.37685201186832, threshold=5.991464547107979)"
      ]
     },
     "execution_count": 37,
     "metadata": {},
     "output_type": "execute_result"
    }
   ],
   "source": [
    "\n",
    "\n",
    "results_segmented_gender_3bis.likelihood_ratio_test(results_segmented_gender_33, 0.05)\n"
   ]
  },
  {
   "cell_type": "code",
   "execution_count": 38,
   "metadata": {
    "tags": []
   },
   "outputs": [
    {
     "name": "stdout",
     "output_type": "stream",
     "text": [
      "Number of estimated parameters:\t12\n",
      "Sample size:\t5000\n",
      "Excluded observations:\t0\n",
      "Init log likelihood:\t-4236.589\n",
      "Final log likelihood:\t-4236.589\n",
      "Likelihood ratio test for the init. model:\t-0\n",
      "Rho-square for the init. model:\t0\n",
      "Rho-square-bar for the init. model:\t-0.00283\n",
      "Akaike Information Criterion:\t8497.178\n",
      "Bayesian Information Criterion:\t8575.385\n",
      "Final gradient norm:\t2.8382E-04\n",
      "Nbr of threads:\t8\n",
      "\n"
     ]
    }
   ],
   "source": [
    "print(results_segmented_gender_3bis.printGeneralStatistics())"
   ]
  },
  {
   "cell_type": "code",
   "execution_count": 39,
   "metadata": {
    "tags": []
   },
   "outputs": [
    {
     "name": "stdout",
     "output_type": "stream",
     "text": [
      "Number of estimated parameters:\t10\n",
      "Sample size:\t5000\n",
      "Excluded observations:\t0\n",
      "Init log likelihood:\t-4264.778\n",
      "Final log likelihood:\t-4264.778\n",
      "Likelihood ratio test for the init. model:\t-0\n",
      "Rho-square for the init. model:\t0\n",
      "Rho-square-bar for the init. model:\t-0.00234\n",
      "Akaike Information Criterion:\t8549.555\n",
      "Bayesian Information Criterion:\t8614.727\n",
      "Final gradient norm:\t1.9340E-04\n",
      "Nbr of threads:\t8\n",
      "\n"
     ]
    }
   ],
   "source": [
    "print(results_segmented_gender_33.printGeneralStatistics())"
   ]
  },
  {
   "cell_type": "markdown",
   "metadata": {},
   "source": [
    "### Preferred model is model_3bis\n",
    "\n",
    "The model_3bis is preferred to model_33 as its log likelihood is greater and the AIC and BIC are smaller as well for this model."
   ]
  },
  {
   "cell_type": "markdown",
   "metadata": {},
   "source": [
    "### Comparison model_3bis and model_2"
   ]
  },
  {
   "cell_type": "code",
   "execution_count": 40,
   "metadata": {
    "tags": []
   },
   "outputs": [
    {
     "data": {
      "text/plain": [
       "LRTuple(message='H0 can be rejected at level 5.0%', statistic=17.302101677916653, threshold=3.841458820694124)"
      ]
     },
     "execution_count": 40,
     "metadata": {},
     "output_type": "execute_result"
    }
   ],
   "source": [
    "results_segmented_gender_3bis.likelihood_ratio_test(results_segmented_gender, 0.05)"
   ]
  },
  {
   "cell_type": "code",
   "execution_count": 41,
   "metadata": {
    "tags": []
   },
   "outputs": [
    {
     "name": "stdout",
     "output_type": "stream",
     "text": [
      "Number of estimated parameters:\t11\n",
      "Sample size:\t5000\n",
      "Excluded observations:\t0\n",
      "Init log likelihood:\t-4245.24\n",
      "Final log likelihood:\t-4245.24\n",
      "Likelihood ratio test for the init. model:\t-0\n",
      "Rho-square for the init. model:\t0\n",
      "Rho-square-bar for the init. model:\t-0.00259\n",
      "Akaike Information Criterion:\t8512.48\n",
      "Bayesian Information Criterion:\t8584.17\n",
      "Final gradient norm:\t1.9456E-03\n",
      "Nbr of threads:\t8\n",
      "\n"
     ]
    }
   ],
   "source": [
    "print(results_segmented_gender.printGeneralStatistics())"
   ]
  },
  {
   "cell_type": "markdown",
   "metadata": {},
   "source": [
    "We notice that the Final loglikelyhood as well as AIC & BIC are lower for the model_3bis than for model_2.\n",
    "As those two model are not equivalent at the 5% significance level, we can conclude that the model 3 bis is preferred"
   ]
  },
  {
   "cell_type": "markdown",
   "metadata": {},
   "source": [
    "### Version ancienne du power series "
   ]
  },
  {
   "cell_type": "code",
   "execution_count": 42,
   "metadata": {},
   "outputs": [],
   "source": [
    "# Power Series transformation on 'pt_dur'.\n",
    "\n",
    "asc_cycle_3 = Beta('asc_cycle_3', 0, None, None, 0)\n",
    "\n",
    "asc_pt_3 = Beta('asc_pt_3', 0, None, None, 0)\n",
    "\n",
    "asc_drive_3 = Beta('asc_drive_3', 0, None, None, 0)\n",
    "\n",
    "\n",
    "beta_time_walk_3 = Beta('beta_time_walk_3', 0, None, None, 0)\n",
    "beta_time_cycle_3 = Beta('beta_time_cycle_3', 0, None, None, 0)\n",
    "\n",
    "beta_time_pt_3 = Beta('beta_time_pt_3', 0, None, None, 0)\n",
    "beta_time_pt_3_squarred = Beta('beta_time_pt_3_squarred', 0, None, None, 0)\n",
    "\n",
    "beta_time_drive_3 = Beta('beta_time_drive_3', 0, None, None, 0)\n",
    "beta_cost_3 = Beta('beta_cost_3', 0, None, None, 0)\n",
    "\n",
    "\n",
    "\n",
    "v_walk_model_3= beta_time_walk_3 * time_walk \n",
    "\n",
    "v_cycle_model_3= asc_cycle_3 + beta_time_cycle_3 * time_cycle \n",
    "\n",
    "v_pt_model_3= asc_pt_3 + beta_time_pt_3 * time_pt +beta_time_pt_3_squarred * time_pt * time_pt + beta_cost * cost_pt\n",
    "\n",
    "v_drive_model_3= asc_drive_3 + beta_time_drive_3 * time_drive + beta_cost_3 * cost_drive"
   ]
  },
  {
   "cell_type": "code",
   "execution_count": 43,
   "metadata": {
    "tags": []
   },
   "outputs": [
    {
     "data": {
      "text/html": [
       "<div>\n",
       "<style scoped>\n",
       "    .dataframe tbody tr th:only-of-type {\n",
       "        vertical-align: middle;\n",
       "    }\n",
       "\n",
       "    .dataframe tbody tr th {\n",
       "        vertical-align: top;\n",
       "    }\n",
       "\n",
       "    .dataframe thead th {\n",
       "        text-align: right;\n",
       "    }\n",
       "</style>\n",
       "<table border=\"1\" class=\"dataframe\">\n",
       "  <thead>\n",
       "    <tr style=\"text-align: right;\">\n",
       "      <th></th>\n",
       "      <th>Value</th>\n",
       "      <th>Rob. Std err</th>\n",
       "      <th>Rob. t-test</th>\n",
       "      <th>Rob. p-value</th>\n",
       "    </tr>\n",
       "  </thead>\n",
       "  <tbody>\n",
       "    <tr>\n",
       "      <th>asc_cycle_3</th>\n",
       "      <td>-4.763432</td>\n",
       "      <td>0.199847</td>\n",
       "      <td>-23.835396</td>\n",
       "      <td>0.000000e+00</td>\n",
       "    </tr>\n",
       "    <tr>\n",
       "      <th>asc_drive_3</th>\n",
       "      <td>-1.873746</td>\n",
       "      <td>0.139320</td>\n",
       "      <td>-13.449254</td>\n",
       "      <td>0.000000e+00</td>\n",
       "    </tr>\n",
       "    <tr>\n",
       "      <th>asc_pt_3</th>\n",
       "      <td>-2.601265</td>\n",
       "      <td>0.155172</td>\n",
       "      <td>-16.763707</td>\n",
       "      <td>0.000000e+00</td>\n",
       "    </tr>\n",
       "    <tr>\n",
       "      <th>beta_cost</th>\n",
       "      <td>-0.210770</td>\n",
       "      <td>0.031140</td>\n",
       "      <td>-6.768433</td>\n",
       "      <td>1.301848e-11</td>\n",
       "    </tr>\n",
       "    <tr>\n",
       "      <th>beta_cost_3</th>\n",
       "      <td>-0.168058</td>\n",
       "      <td>0.017600</td>\n",
       "      <td>-9.548945</td>\n",
       "      <td>0.000000e+00</td>\n",
       "    </tr>\n",
       "    <tr>\n",
       "      <th>beta_time_cycle_3</th>\n",
       "      <td>-5.431881</td>\n",
       "      <td>0.464148</td>\n",
       "      <td>-11.702904</td>\n",
       "      <td>0.000000e+00</td>\n",
       "    </tr>\n",
       "    <tr>\n",
       "      <th>beta_time_drive_3</th>\n",
       "      <td>-6.753135</td>\n",
       "      <td>0.442152</td>\n",
       "      <td>-15.273340</td>\n",
       "      <td>0.000000e+00</td>\n",
       "    </tr>\n",
       "    <tr>\n",
       "      <th>beta_time_pt_3</th>\n",
       "      <td>-2.024749</td>\n",
       "      <td>0.471820</td>\n",
       "      <td>-4.291364</td>\n",
       "      <td>1.775791e-05</td>\n",
       "    </tr>\n",
       "    <tr>\n",
       "      <th>beta_time_pt_3_squarred</th>\n",
       "      <td>-1.228558</td>\n",
       "      <td>0.352702</td>\n",
       "      <td>-3.483279</td>\n",
       "      <td>4.953121e-04</td>\n",
       "    </tr>\n",
       "    <tr>\n",
       "      <th>beta_time_walk_3</th>\n",
       "      <td>-8.319323</td>\n",
       "      <td>0.421317</td>\n",
       "      <td>-19.746007</td>\n",
       "      <td>0.000000e+00</td>\n",
       "    </tr>\n",
       "  </tbody>\n",
       "</table>\n",
       "</div>"
      ],
      "text/plain": [
       "                            Value  Rob. Std err  Rob. t-test  Rob. p-value\n",
       "asc_cycle_3             -4.763432      0.199847   -23.835396  0.000000e+00\n",
       "asc_drive_3             -1.873746      0.139320   -13.449254  0.000000e+00\n",
       "asc_pt_3                -2.601265      0.155172   -16.763707  0.000000e+00\n",
       "beta_cost               -0.210770      0.031140    -6.768433  1.301848e-11\n",
       "beta_cost_3             -0.168058      0.017600    -9.548945  0.000000e+00\n",
       "beta_time_cycle_3       -5.431881      0.464148   -11.702904  0.000000e+00\n",
       "beta_time_drive_3       -6.753135      0.442152   -15.273340  0.000000e+00\n",
       "beta_time_pt_3          -2.024749      0.471820    -4.291364  1.775791e-05\n",
       "beta_time_pt_3_squarred -1.228558      0.352702    -3.483279  4.953121e-04\n",
       "beta_time_walk_3        -8.319323      0.421317   -19.746007  0.000000e+00"
      ]
     },
     "execution_count": 43,
     "metadata": {},
     "output_type": "execute_result"
    }
   ],
   "source": [
    "V_model_3 = {1: v_walk_model_3 , 2: v_cycle_model_3, 3: v_pt_model_3, 4: v_drive_model_3}\n",
    "\n",
    "logprob_model_3 = models.loglogit(V_model_3, av, travel_mode)\n",
    "\n",
    "biogeme_model_3 = bio.BIOGEME(database, logprob_model_3)\n",
    "\n",
    "biogeme_model_3.modelName = 'Model_3'\n",
    "\n",
    "all_results['Model_3'] = biogeme_model_3.estimate()\n",
    "\n",
    "results_power_3 = biogeme_model_3.estimate()\n",
    "\n",
    "results_power_3.getEstimatedParameters()"
   ]
  },
  {
   "cell_type": "code",
   "execution_count": 44,
   "metadata": {
    "tags": []
   },
   "outputs": [
    {
     "data": {
      "text/plain": [
       "-6931.471805599917"
      ]
     },
     "execution_count": 44,
     "metadata": {},
     "output_type": "execute_result"
    }
   ],
   "source": [
    "#Calculate Null Log likelihood\n",
    "\n",
    "biogeme_model_3.calculateNullLoglikelihood(av)"
   ]
  },
  {
   "cell_type": "code",
   "execution_count": 45,
   "metadata": {
    "tags": []
   },
   "outputs": [
    {
     "data": {
      "text/plain": [
       "LRTuple(message='H0 can be rejected at level 5.0%', statistic=18.42252239055415, threshold=5.991464547107979)"
      ]
     },
     "execution_count": 45,
     "metadata": {},
     "output_type": "execute_result"
    }
   ],
   "source": [
    "#Comparison to model 1\n",
    "\n",
    "results_power_3.likelihood_ratio_test(results_specific_time, 0.05)\n",
    "\n",
    "\n"
   ]
  },
  {
   "cell_type": "markdown",
   "metadata": {},
   "source": [
    "The model 3 is not preferred compare to model 1.\n",
    "\n",
    "-Is it due to the non linear transformation that is not appropriate ? Should we use boxplot instead ? --> Yes we should \n",
    "\n",
    "-Is it stated 'non-linear transfronation on one of the variables' so I just took public transport time, should I apply to the other time ? --> I think but I will ask\n",
    "\n",
    "-Should the non linear transformation be applied to an other time variable like car ? Yes I think but I will ask\n",
    "\n",
    "-Is the loglikelyhood ratio test still appropirate ? --> Maybe we should use a cox-text instead \n",
    "\n",
    "Remarks: I think that the non-linear transformation is not done on beta but rather on variables such as time, cost, etc.!\n"
   ]
  },
  {
   "cell_type": "markdown",
   "metadata": {},
   "source": [
    "# Model 3 - Salomé"
   ]
  },
  {
   "cell_type": "code",
   "execution_count": 46,
   "metadata": {},
   "outputs": [
    {
     "name": "stderr",
     "output_type": "stream",
     "text": [
      "It is advised to set the bounds on parameter lambda_boxcox. A value of -10 and 10 should be appropriate: Beta(\"lambda_boxcox\", 1, -10, 10, 0)\n",
      "It is advised to set the bounds on parameter lambda_boxcox. A value of -10 and 10 should be appropriate: Beta(\"lambda_boxcox\", 1, -10, 10, 0)\n",
      "It is advised to set the bounds on parameter lambda_boxcox. A value of -10 and 10 should be appropriate: Beta(\"lambda_boxcox\", 1, -10, 10, 0)\n",
      "It is advised to set the bounds on parameter lambda_boxcox. A value of -10 and 10 should be appropriate: Beta(\"lambda_boxcox\", 1, -10, 10, 0)\n"
     ]
    }
   ],
   "source": [
    "\n",
    "lambda_boxcox = Beta('lambda_boxcox', 1, None, None, 0) #vu dans le modèle 01-logit_airline_solution\n",
    "boxcox_time_walk = models.boxcox(time_walk, lambda_boxcox)\n",
    "boxcox_time_cycle = models.boxcox(time_cycle, lambda_boxcox)\n",
    "boxcox_time_pt = models.boxcox(time_pt, lambda_boxcox)\n",
    "boxcox_time_drive = models.boxcox(time_drive , lambda_boxcox)\n",
    "beta_elapsed_time_walk = Beta('beta_elapsed_walk', 0, None, None, 0)\n",
    "beta_elapsed_time_cycle = Beta('beta_elapsed_cycle', 0, None, None, 0)\n",
    "beta_elapsed_time_pt = Beta('beta_elapsed_time_pt', 0, None, None, 0)\n",
    "beta_elapsed_time_drive = Beta('beta_elapsed_time_drive', 0, None, None, 0)\n",
    "\n",
    "\n",
    "v_walk_model2= beta_time_walk * time_walk  \n",
    "v_cycle_model2= segmented_asc_cycle + beta_time_cycle * time_cycle \n",
    "v_pt_model2= segmented_asc_pt + beta_time_pt * time_pt + beta_cost * cost_pt\n",
    "v_drive_model2= segmented_asc_drive + beta_time_drive * time_drive + beta_cost * cost_drive\n",
    "\n",
    "\n",
    "v_walk_model3 = beta_elapsed_time_walk * boxcox_time_walk\n",
    "v_cycle_model3  = segmented_asc_cycle + beta_elapsed_time_cycle * boxcox_time_cycle \n",
    "v_pt_model3  = segmented_asc_pt + beta_elapsed_time_pt * boxcox_time_pt   + beta_cost * cost_pt \n",
    "v_drive_model3  = segmented_asc_drive + beta_elapsed_time_drive * boxcox_time_drive + beta_cost * cost_drive "
   ]
  },
  {
   "cell_type": "code",
   "execution_count": 47,
   "metadata": {},
   "outputs": [
    {
     "data": {
      "text/html": [
       "<div>\n",
       "<style scoped>\n",
       "    .dataframe tbody tr th:only-of-type {\n",
       "        vertical-align: middle;\n",
       "    }\n",
       "\n",
       "    .dataframe tbody tr th {\n",
       "        vertical-align: top;\n",
       "    }\n",
       "\n",
       "    .dataframe thead th {\n",
       "        text-align: right;\n",
       "    }\n",
       "</style>\n",
       "<table border=\"1\" class=\"dataframe\">\n",
       "  <thead>\n",
       "    <tr style=\"text-align: right;\">\n",
       "      <th></th>\n",
       "      <th>Value</th>\n",
       "      <th>Rob. Std err</th>\n",
       "      <th>Rob. t-test</th>\n",
       "      <th>Rob. p-value</th>\n",
       "    </tr>\n",
       "  </thead>\n",
       "  <tbody>\n",
       "    <tr>\n",
       "      <th>asc_cycle</th>\n",
       "      <td>-3.218624</td>\n",
       "      <td>0.303923</td>\n",
       "      <td>-10.590267</td>\n",
       "      <td>0.000000e+00</td>\n",
       "    </tr>\n",
       "    <tr>\n",
       "      <th>asc_cycle_male</th>\n",
       "      <td>1.053238</td>\n",
       "      <td>0.210050</td>\n",
       "      <td>5.014214</td>\n",
       "      <td>5.325061e-07</td>\n",
       "    </tr>\n",
       "    <tr>\n",
       "      <th>asc_drive</th>\n",
       "      <td>0.068987</td>\n",
       "      <td>0.217651</td>\n",
       "      <td>0.316960</td>\n",
       "      <td>7.512740e-01</td>\n",
       "    </tr>\n",
       "    <tr>\n",
       "      <th>asc_drive_male</th>\n",
       "      <td>-0.226069</td>\n",
       "      <td>0.101484</td>\n",
       "      <td>-2.227634</td>\n",
       "      <td>2.590491e-02</td>\n",
       "    </tr>\n",
       "    <tr>\n",
       "      <th>asc_pt</th>\n",
       "      <td>1.844827</td>\n",
       "      <td>0.170761</td>\n",
       "      <td>10.803572</td>\n",
       "      <td>0.000000e+00</td>\n",
       "    </tr>\n",
       "    <tr>\n",
       "      <th>asc_pt_male</th>\n",
       "      <td>-0.375192</td>\n",
       "      <td>0.107310</td>\n",
       "      <td>-3.496325</td>\n",
       "      <td>4.717138e-04</td>\n",
       "    </tr>\n",
       "    <tr>\n",
       "      <th>beta_cost</th>\n",
       "      <td>-0.174891</td>\n",
       "      <td>0.015669</td>\n",
       "      <td>-11.161366</td>\n",
       "      <td>0.000000e+00</td>\n",
       "    </tr>\n",
       "    <tr>\n",
       "      <th>beta_elapsed_cycle</th>\n",
       "      <td>-3.318143</td>\n",
       "      <td>0.268400</td>\n",
       "      <td>-12.362690</td>\n",
       "      <td>0.000000e+00</td>\n",
       "    </tr>\n",
       "    <tr>\n",
       "      <th>beta_elapsed_time_drive</th>\n",
       "      <td>-3.301152</td>\n",
       "      <td>0.265806</td>\n",
       "      <td>-12.419409</td>\n",
       "      <td>0.000000e+00</td>\n",
       "    </tr>\n",
       "    <tr>\n",
       "      <th>beta_elapsed_time_pt</th>\n",
       "      <td>-2.637899</td>\n",
       "      <td>0.182666</td>\n",
       "      <td>-14.441115</td>\n",
       "      <td>0.000000e+00</td>\n",
       "    </tr>\n",
       "    <tr>\n",
       "      <th>beta_elapsed_walk</th>\n",
       "      <td>-5.446308</td>\n",
       "      <td>0.252867</td>\n",
       "      <td>-21.538244</td>\n",
       "      <td>0.000000e+00</td>\n",
       "    </tr>\n",
       "    <tr>\n",
       "      <th>lambda_boxcox</th>\n",
       "      <td>0.268648</td>\n",
       "      <td>0.049841</td>\n",
       "      <td>5.390121</td>\n",
       "      <td>7.041038e-08</td>\n",
       "    </tr>\n",
       "  </tbody>\n",
       "</table>\n",
       "</div>"
      ],
      "text/plain": [
       "                            Value  Rob. Std err  Rob. t-test  Rob. p-value\n",
       "asc_cycle               -3.218624      0.303923   -10.590267  0.000000e+00\n",
       "asc_cycle_male           1.053238      0.210050     5.014214  5.325061e-07\n",
       "asc_drive                0.068987      0.217651     0.316960  7.512740e-01\n",
       "asc_drive_male          -0.226069      0.101484    -2.227634  2.590491e-02\n",
       "asc_pt                   1.844827      0.170761    10.803572  0.000000e+00\n",
       "asc_pt_male             -0.375192      0.107310    -3.496325  4.717138e-04\n",
       "beta_cost               -0.174891      0.015669   -11.161366  0.000000e+00\n",
       "beta_elapsed_cycle      -3.318143      0.268400   -12.362690  0.000000e+00\n",
       "beta_elapsed_time_drive -3.301152      0.265806   -12.419409  0.000000e+00\n",
       "beta_elapsed_time_pt    -2.637899      0.182666   -14.441115  0.000000e+00\n",
       "beta_elapsed_walk       -5.446308      0.252867   -21.538244  0.000000e+00\n",
       "lambda_boxcox            0.268648      0.049841     5.390121  7.041038e-08"
      ]
     },
     "execution_count": 47,
     "metadata": {},
     "output_type": "execute_result"
    }
   ],
   "source": [
    "V_model3 = {1: v_walk_model3 , 2: v_cycle_model3, 3: v_pt_model3, 4: v_drive_model3}\n",
    "logprob_model3 = models.loglogit(V_model3, av, travel_mode)\n",
    "biogeme_model3 = bio.BIOGEME(database, logprob_model3)\n",
    "biogeme_model3.modelName = 'Model_3'\n",
    "all_results['Model_3'] = biogeme_model3.estimate()\n",
    "results_model3 = biogeme_model3.estimate()\n",
    "results_model3.getEstimatedParameters()"
   ]
  },
  {
   "cell_type": "code",
   "execution_count": 48,
   "metadata": {},
   "outputs": [
    {
     "name": "stderr",
     "output_type": "stream",
     "text": [
      "The syntax \"compileEstimationResults\" is deprecated and is replaced by the syntax \"compile_estimation_results\".\n"
     ]
    },
    {
     "data": {
      "text/plain": [
       "(                                              Model0           Model1  \\\n",
       " Number of estimated parameters                     5                8   \n",
       " Sample size                                     5000             5000   \n",
       " Final log likelihood                    -4587.818071     -4275.496542   \n",
       " Akaike Information Criterion             9185.636142      8566.993084   \n",
       " Bayesian Information Criterion           9218.222108       8619.13063   \n",
       " asc_cycle (t-test)                      -3.88  (-36)   -4.85  (-23.9)   \n",
       " asc_drive (t-test)                     -1.3  (-16.1)   -1.97  (-14.3)   \n",
       " asc_pt (t-test)                       -0.503  (-9.3)   -2.34  (-16.8)   \n",
       " beta_cost (t-test)                   -0.194  (-13.9)  -0.182  (-11.3)   \n",
       " beta_time (t-test)                     -5.5  (-26.3)                    \n",
       " beta_time_cycle (t-test)                               -5.31  (-11.5)   \n",
       " beta_time_drive (t-test)                               -6.47  (-17.1)   \n",
       " beta_time_pt (t-test)                                  -3.54  (-14.1)   \n",
       " beta_time_walk (t-test)                                -8.43  (-20.1)   \n",
       " asc_cycle_male (t-test)                                                 \n",
       " asc_drive_male (t-test)                                                 \n",
       " asc_pt_male (t-test)                                                    \n",
       " beta_cost_male (t-test)                                                 \n",
       " asc_drive_3bis (t-test)                                                 \n",
       " asc_drive_3bis_male (t-test)                                            \n",
       " beta_cost_3bis (t-test)                                                 \n",
       " beta_time_cycle_3bis (t-test)                                           \n",
       " beta_time_drive_3bis (t-test)                                           \n",
       " beta_time_pt_3bis (t-test)                                              \n",
       " beta_time_pt_3bis_squarred (t-test)                                     \n",
       " beta_time_walk_3bis (t-test)                                            \n",
       " beta_time_pt_33_squarred (t-test)                                       \n",
       " beta_elapsed_cycle (t-test)                                             \n",
       " beta_elapsed_time_drive (t-test)                                        \n",
       " beta_elapsed_time_pt (t-test)                                           \n",
       " beta_elapsed_walk (t-test)                                              \n",
       " lambda_boxcox (t-test)                                                  \n",
       " \n",
       "                                               Model2          Model2_2  \\\n",
       " Number of estimated parameters                    11                 9   \n",
       " Sample size                                     5000              5000   \n",
       " Final log likelihood                    -4245.240231      -4273.204021   \n",
       " Akaike Information Criterion             8512.480462       8564.408041   \n",
       " Bayesian Information Criterion           8584.169587        8623.06278   \n",
       " asc_cycle (t-test)                    -5.45  (-21.5)      -4.84  (-24)   \n",
       " asc_drive (t-test)                    -1.89  (-13.1)    -1.97  (-14.3)   \n",
       " asc_pt (t-test)                       -2.21  (-15.1)    -2.34  (-16.8)   \n",
       " beta_cost (t-test)                   -0.183  (-11.3)   -0.152  (-8.09)   \n",
       " beta_time (t-test)                                                       \n",
       " beta_time_cycle (t-test)              -5.58  (-11.8)    -5.35  (-11.6)   \n",
       " beta_time_drive (t-test)              -6.49  (-17.1)      -6.48  (-17)   \n",
       " beta_time_pt (t-test)                   -3.53  (-14)    -3.54  (-14.1)   \n",
       " beta_time_walk (t-test)               -8.46  (-20.2)    -8.44  (-20.2)   \n",
       " asc_cycle_male (t-test)                 1.05  (5.04)                     \n",
       " asc_drive_male (t-test)              -0.198  (-2.08)                     \n",
       " asc_pt_male (t-test)                 -0.333  (-3.35)                     \n",
       " beta_cost_male (t-test)                               -0.0654  (-2.05)   \n",
       " asc_drive_3bis (t-test)                                                  \n",
       " asc_drive_3bis_male (t-test)                                             \n",
       " beta_cost_3bis (t-test)                                                  \n",
       " beta_time_cycle_3bis (t-test)                                            \n",
       " beta_time_drive_3bis (t-test)                                            \n",
       " beta_time_pt_3bis (t-test)                                               \n",
       " beta_time_pt_3bis_squarred (t-test)                                      \n",
       " beta_time_walk_3bis (t-test)                                             \n",
       " beta_time_pt_33_squarred (t-test)                                        \n",
       " beta_elapsed_cycle (t-test)                                              \n",
       " beta_elapsed_time_drive (t-test)                                         \n",
       " beta_elapsed_time_pt (t-test)                                            \n",
       " beta_elapsed_walk (t-test)                                               \n",
       " lambda_boxcox (t-test)                                                   \n",
       " \n",
       "                                          Model_3bis         Model_33  \\\n",
       " Number of estimated parameters                   12               10   \n",
       " Sample size                                    5000             5000   \n",
       " Final log likelihood                    -4236.58918     -4264.777606   \n",
       " Akaike Information Criterion            8497.178361      8549.555213   \n",
       " Bayesian Information Criterion          8575.384679      8614.727144   \n",
       " asc_cycle (t-test)                   -5.37  (-21.4)   -4.76  (-23.9)   \n",
       " asc_drive (t-test)                                    -1.88  (-13.5)   \n",
       " asc_pt (t-test)                      -2.49  (-15.6)     -2.62  (-17)   \n",
       " beta_cost (t-test)                                   -0.149  (-7.88)   \n",
       " beta_time (t-test)                                                     \n",
       " beta_time_cycle (t-test)                                -5.35  (-12)   \n",
       " beta_time_drive (t-test)                              -6.56  (-16.9)   \n",
       " beta_time_pt (t-test)                                 -2.01  (-4.28)   \n",
       " beta_time_walk (t-test)                               -8.29  (-19.8)   \n",
       " asc_cycle_male (t-test)                1.05  (5.05)                    \n",
       " asc_drive_male (t-test)                                                \n",
       " asc_pt_male (t-test)                 -0.34  (-3.36)                    \n",
       " beta_cost_male (t-test)                              -0.066  (-2.05)   \n",
       " asc_drive_3bis (t-test)               -1.8  (-12.4)                    \n",
       " asc_drive_3bis_male (t-test)         -0.198  (-2.1)                    \n",
       " beta_cost_3bis (t-test)                -0.18  (-11)                    \n",
       " beta_time_cycle_3bis (t-test)        -5.57  (-12.2)                    \n",
       " beta_time_drive_3bis (t-test)        -6.56  (-16.9)                    \n",
       " beta_time_pt_3bis (t-test)           -1.98  (-4.22)                    \n",
       " beta_time_pt_3bis_squarred (t-test)  -1.23  (-3.53)                    \n",
       " beta_time_walk_3bis (t-test)         -8.31  (-19.9)                    \n",
       " beta_time_pt_33_squarred (t-test)                     -1.22  (-3.46)   \n",
       " beta_elapsed_cycle (t-test)                                            \n",
       " beta_elapsed_time_drive (t-test)                                       \n",
       " beta_elapsed_time_pt (t-test)                                          \n",
       " beta_elapsed_walk (t-test)                                             \n",
       " lambda_boxcox (t-test)                                                 \n",
       " \n",
       "                                              Model_3  \n",
       " Number of estimated parameters                    12  \n",
       " Sample size                                     5000  \n",
       " Final log likelihood                    -4157.246366  \n",
       " Akaike Information Criterion             8338.492732  \n",
       " Bayesian Information Criterion           8416.699051  \n",
       " asc_cycle (t-test)                    -3.22  (-10.6)  \n",
       " asc_drive (t-test)                    0.069  (0.317)  \n",
       " asc_pt (t-test)                         1.84  (10.8)  \n",
       " beta_cost (t-test)                   -0.175  (-11.2)  \n",
       " beta_time (t-test)                                    \n",
       " beta_time_cycle (t-test)                              \n",
       " beta_time_drive (t-test)                              \n",
       " beta_time_pt (t-test)                                 \n",
       " beta_time_walk (t-test)                               \n",
       " asc_cycle_male (t-test)                 1.05  (5.01)  \n",
       " asc_drive_male (t-test)              -0.226  (-2.23)  \n",
       " asc_pt_male (t-test)                  -0.375  (-3.5)  \n",
       " beta_cost_male (t-test)                               \n",
       " asc_drive_3bis (t-test)                               \n",
       " asc_drive_3bis_male (t-test)                          \n",
       " beta_cost_3bis (t-test)                               \n",
       " beta_time_cycle_3bis (t-test)                         \n",
       " beta_time_drive_3bis (t-test)                         \n",
       " beta_time_pt_3bis (t-test)                            \n",
       " beta_time_pt_3bis_squarred (t-test)                   \n",
       " beta_time_walk_3bis (t-test)                          \n",
       " beta_time_pt_33_squarred (t-test)                     \n",
       " beta_elapsed_cycle (t-test)           -3.32  (-12.4)  \n",
       " beta_elapsed_time_drive (t-test)       -3.3  (-12.4)  \n",
       " beta_elapsed_time_pt (t-test)         -2.64  (-14.4)  \n",
       " beta_elapsed_walk (t-test)            -5.45  (-21.5)  \n",
       " lambda_boxcox (t-test)                 0.269  (5.39)  ,\n",
       " {'Model0': 'Model0',\n",
       "  'Model1': 'Model1',\n",
       "  'Model2': 'Model2',\n",
       "  'Model2_2': 'Model2_2',\n",
       "  'Model_3bis': 'Model_3bis',\n",
       "  'Model_33': 'Model_33',\n",
       "  'Model_3': 'Model_3'})"
      ]
     },
     "execution_count": 48,
     "metadata": {},
     "output_type": "execute_result"
    }
   ],
   "source": [
    "res.compileEstimationResults(all_results)"
   ]
  },
  {
   "cell_type": "code",
   "execution_count": 49,
   "metadata": {},
   "outputs": [
    {
     "name": "stdout",
     "output_type": "stream",
     "text": [
      "Null Loglikelihood : \n"
     ]
    },
    {
     "data": {
      "text/plain": [
       "-6931.471805599917"
      ]
     },
     "execution_count": 49,
     "metadata": {},
     "output_type": "execute_result"
    }
   ],
   "source": [
    "print(\"Null Loglikelihood : \")\n",
    "biogeme_model3.calculateNullLoglikelihood(av)"
   ]
  },
  {
   "cell_type": "code",
   "execution_count": 50,
   "metadata": {
    "tags": []
   },
   "outputs": [
    {
     "data": {
      "text/plain": [
       "LRTuple(message='H0 can be rejected at level 5.0%', statistic=175.98772974595704, threshold=3.841458820694124)"
      ]
     },
     "execution_count": 50,
     "metadata": {},
     "output_type": "execute_result"
    }
   ],
   "source": [
    "results_model3.likelihood_ratio_test(results_segmented_gender, 0.05)"
   ]
  },
  {
   "cell_type": "code",
   "execution_count": 51,
   "metadata": {
    "tags": []
   },
   "outputs": [
    {
     "name": "stdout",
     "output_type": "stream",
     "text": [
      "Number of estimated parameters:\t12\n",
      "Sample size:\t5000\n",
      "Excluded observations:\t0\n",
      "Init log likelihood:\t-4157.246\n",
      "Final log likelihood:\t-4157.246\n",
      "Likelihood ratio test for the init. model:\t-0\n",
      "Rho-square for the init. model:\t0\n",
      "Rho-square-bar for the init. model:\t-0.00289\n",
      "Akaike Information Criterion:\t8338.493\n",
      "Bayesian Information Criterion:\t8416.699\n",
      "Final gradient norm:\t9.3359E-04\n",
      "Nbr of threads:\t8\n",
      "\n"
     ]
    }
   ],
   "source": [
    "print(results_model3.printGeneralStatistics())"
   ]
  },
  {
   "cell_type": "markdown",
   "metadata": {},
   "source": [
    "To compare Model 2 and Model 3 I think we should use a Cox test as Model 3 is not a a linear restriction of Model 2, to do that we create a composite model C such that both models 1 and 2 are restricted cases of model C.\n"
   ]
  },
  {
   "cell_type": "code",
   "execution_count": 54,
   "metadata": {},
   "outputs": [],
   "source": [
    "v_walk_model2= beta_time_walk * time_walk  \n",
    "v_cycle_model2= segmented_asc_cycle + beta_time_cycle * time_cycle \n",
    "v_pt_model2= segmented_asc_pt + beta_time_pt * time_pt + beta_cost * cost_pt\n",
    "v_drive_model2= segmented_asc_drive + beta_time_drive * time_drive + beta_cost * cost_drive\n",
    "\n",
    "\n",
    "v_walk_model3 = beta_elapsed_time_walk * boxcox_time_walk\n",
    "v_cycle_model3  = segmented_asc_cycle + beta_elapsed_time_cycle * boxcox_time_cycle \n",
    "v_pt_model3  = segmented_asc_pt + beta_elapsed_time_pt * boxcox_time_pt   + beta_cost * cost_pt \n",
    "v_drive_model3  = segmented_asc_drive + beta_elapsed_time_drive * boxcox_time_drive + beta_cost * cost_drive \n",
    "\n",
    "\n",
    "v_walk_model_generic = beta_time_walk * time_walk + beta_elapsed_time_walk * boxcox_time_walk\n",
    "v_cycle_model_generic = segmented_asc_cycle + beta_time_cycle * time_cycle +  beta_elapsed_time_cycle * boxcox_time_cycle \n",
    "v_pt_model_generic = segmented_asc_pt + beta_time_pt * time_pt + beta_cost * cost_pt + beta_elapsed_time_pt * boxcox_time_pt \n",
    "v_drive_model_generic = segmented_asc_drive + beta_time_drive * time_drive + beta_cost * cost_drive + beta_elapsed_time_drive * boxcox_time_drive"
   ]
  },
  {
   "cell_type": "code",
   "execution_count": 55,
   "metadata": {},
   "outputs": [
    {
     "data": {
      "text/html": [
       "<div>\n",
       "<style scoped>\n",
       "    .dataframe tbody tr th:only-of-type {\n",
       "        vertical-align: middle;\n",
       "    }\n",
       "\n",
       "    .dataframe tbody tr th {\n",
       "        vertical-align: top;\n",
       "    }\n",
       "\n",
       "    .dataframe thead th {\n",
       "        text-align: right;\n",
       "    }\n",
       "</style>\n",
       "<table border=\"1\" class=\"dataframe\">\n",
       "  <thead>\n",
       "    <tr style=\"text-align: right;\">\n",
       "      <th></th>\n",
       "      <th>Value</th>\n",
       "      <th>Rob. Std err</th>\n",
       "      <th>Rob. t-test</th>\n",
       "      <th>Rob. p-value</th>\n",
       "    </tr>\n",
       "  </thead>\n",
       "  <tbody>\n",
       "    <tr>\n",
       "      <th>asc_cycle</th>\n",
       "      <td>-2.698422</td>\n",
       "      <td>1.213660</td>\n",
       "      <td>-2.223376</td>\n",
       "      <td>2.619047e-02</td>\n",
       "    </tr>\n",
       "    <tr>\n",
       "      <th>asc_cycle_male</th>\n",
       "      <td>1.056072</td>\n",
       "      <td>0.209817</td>\n",
       "      <td>5.033312</td>\n",
       "      <td>4.820785e-07</td>\n",
       "    </tr>\n",
       "    <tr>\n",
       "      <th>asc_drive</th>\n",
       "      <td>0.707880</td>\n",
       "      <td>0.899774</td>\n",
       "      <td>0.786731</td>\n",
       "      <td>4.314391e-01</td>\n",
       "    </tr>\n",
       "    <tr>\n",
       "      <th>asc_drive_male</th>\n",
       "      <td>-0.224704</td>\n",
       "      <td>0.101182</td>\n",
       "      <td>-2.220782</td>\n",
       "      <td>2.636573e-02</td>\n",
       "    </tr>\n",
       "    <tr>\n",
       "      <th>asc_pt</th>\n",
       "      <td>5.573208</td>\n",
       "      <td>1.725705</td>\n",
       "      <td>3.229526</td>\n",
       "      <td>1.239958e-03</td>\n",
       "    </tr>\n",
       "    <tr>\n",
       "      <th>asc_pt_male</th>\n",
       "      <td>-0.369760</td>\n",
       "      <td>0.108178</td>\n",
       "      <td>-3.418072</td>\n",
       "      <td>6.306631e-04</td>\n",
       "    </tr>\n",
       "    <tr>\n",
       "      <th>beta_cost</th>\n",
       "      <td>-0.170998</td>\n",
       "      <td>0.015858</td>\n",
       "      <td>-10.783335</td>\n",
       "      <td>0.000000e+00</td>\n",
       "    </tr>\n",
       "    <tr>\n",
       "      <th>beta_elapsed_cycle</th>\n",
       "      <td>-5.516379</td>\n",
       "      <td>2.115851</td>\n",
       "      <td>-2.607168</td>\n",
       "      <td>9.129461e-03</td>\n",
       "    </tr>\n",
       "    <tr>\n",
       "      <th>beta_elapsed_time_drive</th>\n",
       "      <td>-5.425926</td>\n",
       "      <td>2.415002</td>\n",
       "      <td>-2.246759</td>\n",
       "      <td>2.465546e-02</td>\n",
       "    </tr>\n",
       "    <tr>\n",
       "      <th>beta_elapsed_time_pt</th>\n",
       "      <td>-2.451080</td>\n",
       "      <td>1.035965</td>\n",
       "      <td>-2.365988</td>\n",
       "      <td>1.798201e-02</td>\n",
       "    </tr>\n",
       "    <tr>\n",
       "      <th>beta_elapsed_walk</th>\n",
       "      <td>-8.212161</td>\n",
       "      <td>2.495039</td>\n",
       "      <td>-3.291396</td>\n",
       "      <td>9.969152e-04</td>\n",
       "    </tr>\n",
       "    <tr>\n",
       "      <th>beta_time_cycle</th>\n",
       "      <td>2.348950</td>\n",
       "      <td>2.198550</td>\n",
       "      <td>1.068409</td>\n",
       "      <td>2.853362e-01</td>\n",
       "    </tr>\n",
       "    <tr>\n",
       "      <th>beta_time_drive</th>\n",
       "      <td>2.141094</td>\n",
       "      <td>2.795791</td>\n",
       "      <td>0.765828</td>\n",
       "      <td>4.437789e-01</td>\n",
       "    </tr>\n",
       "    <tr>\n",
       "      <th>beta_time_pt</th>\n",
       "      <td>-0.986738</td>\n",
       "      <td>1.181504</td>\n",
       "      <td>-0.835154</td>\n",
       "      <td>4.036308e-01</td>\n",
       "    </tr>\n",
       "    <tr>\n",
       "      <th>beta_time_walk</th>\n",
       "      <td>2.996234</td>\n",
       "      <td>2.368153</td>\n",
       "      <td>1.265220</td>\n",
       "      <td>2.057926e-01</td>\n",
       "    </tr>\n",
       "    <tr>\n",
       "      <th>lambda_boxcox</th>\n",
       "      <td>0.451287</td>\n",
       "      <td>0.137270</td>\n",
       "      <td>3.287598</td>\n",
       "      <td>1.010459e-03</td>\n",
       "    </tr>\n",
       "  </tbody>\n",
       "</table>\n",
       "</div>"
      ],
      "text/plain": [
       "                            Value  Rob. Std err  Rob. t-test  Rob. p-value\n",
       "asc_cycle               -2.698422      1.213660    -2.223376  2.619047e-02\n",
       "asc_cycle_male           1.056072      0.209817     5.033312  4.820785e-07\n",
       "asc_drive                0.707880      0.899774     0.786731  4.314391e-01\n",
       "asc_drive_male          -0.224704      0.101182    -2.220782  2.636573e-02\n",
       "asc_pt                   5.573208      1.725705     3.229526  1.239958e-03\n",
       "asc_pt_male             -0.369760      0.108178    -3.418072  6.306631e-04\n",
       "beta_cost               -0.170998      0.015858   -10.783335  0.000000e+00\n",
       "beta_elapsed_cycle      -5.516379      2.115851    -2.607168  9.129461e-03\n",
       "beta_elapsed_time_drive -5.425926      2.415002    -2.246759  2.465546e-02\n",
       "beta_elapsed_time_pt    -2.451080      1.035965    -2.365988  1.798201e-02\n",
       "beta_elapsed_walk       -8.212161      2.495039    -3.291396  9.969152e-04\n",
       "beta_time_cycle          2.348950      2.198550     1.068409  2.853362e-01\n",
       "beta_time_drive          2.141094      2.795791     0.765828  4.437789e-01\n",
       "beta_time_pt            -0.986738      1.181504    -0.835154  4.036308e-01\n",
       "beta_time_walk           2.996234      2.368153     1.265220  2.057926e-01\n",
       "lambda_boxcox            0.451287      0.137270     3.287598  1.010459e-03"
      ]
     },
     "execution_count": 55,
     "metadata": {},
     "output_type": "execute_result"
    }
   ],
   "source": [
    "V_model_generic = {1: v_walk_model_generic , 2: v_cycle_model_generic, 3: v_pt_model_generic, 4: v_drive_model_generic}\n",
    "logprob_model_generic = models.loglogit(V_model_generic, av, travel_mode)\n",
    "biogeme_model_generic = bio.BIOGEME(database, logprob_model_generic)\n",
    "biogeme_model_generic.modelName = 'Model_generic'\n",
    "all_results['Model_generic'] = biogeme_model_generic.estimate()\n",
    "results_model_generic = biogeme_model_generic.estimate()\n",
    "results_model_generic.getEstimatedParameters()"
   ]
  },
  {
   "cell_type": "code",
   "execution_count": 56,
   "metadata": {},
   "outputs": [
    {
     "name": "stderr",
     "output_type": "stream",
     "text": [
      "The syntax \"compileEstimationResults\" is deprecated and is replaced by the syntax \"compile_estimation_results\".\n"
     ]
    },
    {
     "data": {
      "text/plain": [
       "(                                              Model0           Model1  \\\n",
       " Number of estimated parameters                     5                8   \n",
       " Sample size                                     5000             5000   \n",
       " Final log likelihood                    -4587.818071     -4275.496542   \n",
       " Akaike Information Criterion             9185.636142      8566.993084   \n",
       " Bayesian Information Criterion           9218.222108       8619.13063   \n",
       " asc_cycle (t-test)                      -3.88  (-36)   -4.85  (-23.9)   \n",
       " asc_drive (t-test)                     -1.3  (-16.1)   -1.97  (-14.3)   \n",
       " asc_pt (t-test)                       -0.503  (-9.3)   -2.34  (-16.8)   \n",
       " beta_cost (t-test)                   -0.194  (-13.9)  -0.182  (-11.3)   \n",
       " beta_time (t-test)                     -5.5  (-26.3)                    \n",
       " beta_time_cycle (t-test)                               -5.31  (-11.5)   \n",
       " beta_time_drive (t-test)                               -6.47  (-17.1)   \n",
       " beta_time_pt (t-test)                                  -3.54  (-14.1)   \n",
       " beta_time_walk (t-test)                                -8.43  (-20.1)   \n",
       " asc_cycle_male (t-test)                                                 \n",
       " asc_drive_male (t-test)                                                 \n",
       " asc_pt_male (t-test)                                                    \n",
       " beta_cost_male (t-test)                                                 \n",
       " asc_drive_3bis (t-test)                                                 \n",
       " asc_drive_3bis_male (t-test)                                            \n",
       " beta_cost_3bis (t-test)                                                 \n",
       " beta_time_cycle_3bis (t-test)                                           \n",
       " beta_time_drive_3bis (t-test)                                           \n",
       " beta_time_pt_3bis (t-test)                                              \n",
       " beta_time_pt_3bis_squarred (t-test)                                     \n",
       " beta_time_walk_3bis (t-test)                                            \n",
       " beta_time_pt_33_squarred (t-test)                                       \n",
       " beta_elapsed_cycle (t-test)                                             \n",
       " beta_elapsed_time_drive (t-test)                                        \n",
       " beta_elapsed_time_pt (t-test)                                           \n",
       " beta_elapsed_walk (t-test)                                              \n",
       " lambda_boxcox (t-test)                                                  \n",
       " \n",
       "                                               Model2          Model2_2  \\\n",
       " Number of estimated parameters                    11                 9   \n",
       " Sample size                                     5000              5000   \n",
       " Final log likelihood                    -4245.240231      -4273.204021   \n",
       " Akaike Information Criterion             8512.480462       8564.408041   \n",
       " Bayesian Information Criterion           8584.169587        8623.06278   \n",
       " asc_cycle (t-test)                    -5.45  (-21.5)      -4.84  (-24)   \n",
       " asc_drive (t-test)                    -1.89  (-13.1)    -1.97  (-14.3)   \n",
       " asc_pt (t-test)                       -2.21  (-15.1)    -2.34  (-16.8)   \n",
       " beta_cost (t-test)                   -0.183  (-11.3)   -0.152  (-8.09)   \n",
       " beta_time (t-test)                                                       \n",
       " beta_time_cycle (t-test)              -5.58  (-11.8)    -5.35  (-11.6)   \n",
       " beta_time_drive (t-test)              -6.49  (-17.1)      -6.48  (-17)   \n",
       " beta_time_pt (t-test)                   -3.53  (-14)    -3.54  (-14.1)   \n",
       " beta_time_walk (t-test)               -8.46  (-20.2)    -8.44  (-20.2)   \n",
       " asc_cycle_male (t-test)                 1.05  (5.04)                     \n",
       " asc_drive_male (t-test)              -0.198  (-2.08)                     \n",
       " asc_pt_male (t-test)                 -0.333  (-3.35)                     \n",
       " beta_cost_male (t-test)                               -0.0654  (-2.05)   \n",
       " asc_drive_3bis (t-test)                                                  \n",
       " asc_drive_3bis_male (t-test)                                             \n",
       " beta_cost_3bis (t-test)                                                  \n",
       " beta_time_cycle_3bis (t-test)                                            \n",
       " beta_time_drive_3bis (t-test)                                            \n",
       " beta_time_pt_3bis (t-test)                                               \n",
       " beta_time_pt_3bis_squarred (t-test)                                      \n",
       " beta_time_walk_3bis (t-test)                                             \n",
       " beta_time_pt_33_squarred (t-test)                                        \n",
       " beta_elapsed_cycle (t-test)                                              \n",
       " beta_elapsed_time_drive (t-test)                                         \n",
       " beta_elapsed_time_pt (t-test)                                            \n",
       " beta_elapsed_walk (t-test)                                               \n",
       " lambda_boxcox (t-test)                                                   \n",
       " \n",
       "                                          Model_3bis         Model_33  \\\n",
       " Number of estimated parameters                   12               10   \n",
       " Sample size                                    5000             5000   \n",
       " Final log likelihood                    -4236.58918     -4264.777606   \n",
       " Akaike Information Criterion            8497.178361      8549.555213   \n",
       " Bayesian Information Criterion          8575.384679      8614.727144   \n",
       " asc_cycle (t-test)                   -5.37  (-21.4)   -4.76  (-23.9)   \n",
       " asc_drive (t-test)                                    -1.88  (-13.5)   \n",
       " asc_pt (t-test)                      -2.49  (-15.6)     -2.62  (-17)   \n",
       " beta_cost (t-test)                                   -0.149  (-7.88)   \n",
       " beta_time (t-test)                                                     \n",
       " beta_time_cycle (t-test)                                -5.35  (-12)   \n",
       " beta_time_drive (t-test)                              -6.56  (-16.9)   \n",
       " beta_time_pt (t-test)                                 -2.01  (-4.28)   \n",
       " beta_time_walk (t-test)                               -8.29  (-19.8)   \n",
       " asc_cycle_male (t-test)                1.05  (5.05)                    \n",
       " asc_drive_male (t-test)                                                \n",
       " asc_pt_male (t-test)                 -0.34  (-3.36)                    \n",
       " beta_cost_male (t-test)                              -0.066  (-2.05)   \n",
       " asc_drive_3bis (t-test)               -1.8  (-12.4)                    \n",
       " asc_drive_3bis_male (t-test)         -0.198  (-2.1)                    \n",
       " beta_cost_3bis (t-test)                -0.18  (-11)                    \n",
       " beta_time_cycle_3bis (t-test)        -5.57  (-12.2)                    \n",
       " beta_time_drive_3bis (t-test)        -6.56  (-16.9)                    \n",
       " beta_time_pt_3bis (t-test)           -1.98  (-4.22)                    \n",
       " beta_time_pt_3bis_squarred (t-test)  -1.23  (-3.53)                    \n",
       " beta_time_walk_3bis (t-test)         -8.31  (-19.9)                    \n",
       " beta_time_pt_33_squarred (t-test)                     -1.22  (-3.46)   \n",
       " beta_elapsed_cycle (t-test)                                            \n",
       " beta_elapsed_time_drive (t-test)                                       \n",
       " beta_elapsed_time_pt (t-test)                                          \n",
       " beta_elapsed_walk (t-test)                                             \n",
       " lambda_boxcox (t-test)                                                 \n",
       " \n",
       "                                              Model_3     Model_generic  \n",
       " Number of estimated parameters                    12                16  \n",
       " Sample size                                     5000              5000  \n",
       " Final log likelihood                    -4157.246366      -4149.464368  \n",
       " Akaike Information Criterion             8338.492732       8330.928737  \n",
       " Bayesian Information Criterion           8416.699051       8435.203828  \n",
       " asc_cycle (t-test)                    -3.22  (-10.6)     -2.7  (-2.22)  \n",
       " asc_drive (t-test)                    0.069  (0.317)    0.708  (0.787)  \n",
       " asc_pt (t-test)                         1.84  (10.8)      5.57  (3.23)  \n",
       " beta_cost (t-test)                   -0.175  (-11.2)   -0.171  (-10.8)  \n",
       " beta_time (t-test)                                                      \n",
       " beta_time_cycle (t-test)                                  2.35  (1.07)  \n",
       " beta_time_drive (t-test)                                 2.14  (0.766)  \n",
       " beta_time_pt (t-test)                                 -0.987  (-0.835)  \n",
       " beta_time_walk (t-test)                                      3  (1.27)  \n",
       " asc_cycle_male (t-test)                 1.05  (5.01)      1.06  (5.03)  \n",
       " asc_drive_male (t-test)              -0.226  (-2.23)   -0.225  (-2.22)  \n",
       " asc_pt_male (t-test)                  -0.375  (-3.5)    -0.37  (-3.42)  \n",
       " beta_cost_male (t-test)                                                 \n",
       " asc_drive_3bis (t-test)                                                 \n",
       " asc_drive_3bis_male (t-test)                                            \n",
       " beta_cost_3bis (t-test)                                                 \n",
       " beta_time_cycle_3bis (t-test)                                           \n",
       " beta_time_drive_3bis (t-test)                                           \n",
       " beta_time_pt_3bis (t-test)                                              \n",
       " beta_time_pt_3bis_squarred (t-test)                                     \n",
       " beta_time_walk_3bis (t-test)                                            \n",
       " beta_time_pt_33_squarred (t-test)                                       \n",
       " beta_elapsed_cycle (t-test)           -3.32  (-12.4)    -5.52  (-2.61)  \n",
       " beta_elapsed_time_drive (t-test)       -3.3  (-12.4)    -5.43  (-2.25)  \n",
       " beta_elapsed_time_pt (t-test)         -2.64  (-14.4)    -2.45  (-2.37)  \n",
       " beta_elapsed_walk (t-test)            -5.45  (-21.5)    -8.21  (-3.29)  \n",
       " lambda_boxcox (t-test)                 0.269  (5.39)     0.451  (3.29)  ,\n",
       " {'Model0': 'Model0',\n",
       "  'Model1': 'Model1',\n",
       "  'Model2': 'Model2',\n",
       "  'Model2_2': 'Model2_2',\n",
       "  'Model_3bis': 'Model_3bis',\n",
       "  'Model_33': 'Model_33',\n",
       "  'Model_3': 'Model_3',\n",
       "  'Model_generic': 'Model_generic'})"
      ]
     },
     "execution_count": 56,
     "metadata": {},
     "output_type": "execute_result"
    }
   ],
   "source": [
    "res.compileEstimationResults(all_results)"
   ]
  },
  {
   "cell_type": "code",
   "execution_count": 58,
   "metadata": {},
   "outputs": [
    {
     "data": {
      "text/plain": [
       "LRTuple(message='H0 can be rejected at level 5.0%', statistic=191.55172530098207, threshold=11.070497693516351)"
      ]
     },
     "execution_count": 58,
     "metadata": {},
     "output_type": "execute_result"
    }
   ],
   "source": [
    "model_base=biogeme_model2\n",
    "results_base=model_base.estimate()\n",
    "results_model_generic.likelihood_ratio_test(results_base, 0.05)"
   ]
  },
  {
   "cell_type": "code",
   "execution_count": 60,
   "metadata": {
    "tags": []
   },
   "outputs": [
    {
     "data": {
      "text/plain": [
       "LRTuple(message='H0 can be rejected at level 5.0%', statistic=15.56399555502503, threshold=9.487729036781154)"
      ]
     },
     "execution_count": 60,
     "metadata": {},
     "output_type": "execute_result"
    }
   ],
   "source": [
    "model_base=biogeme_model3\n",
    "results_base=model_base.estimate()\n",
    "results_model_generic.likelihood_ratio_test(results_base, 0.05)"
   ]
  },
  {
   "cell_type": "code",
   "execution_count": null,
   "metadata": {},
   "outputs": [],
   "source": []
  }
 ],
 "metadata": {
  "kernelspec": {
   "display_name": "Python 3",
   "language": "python",
   "name": "python3"
  },
  "language_info": {
   "codemirror_mode": {
    "name": "ipython",
    "version": 3
   },
   "file_extension": ".py",
   "mimetype": "text/x-python",
   "name": "python",
   "nbconvert_exporter": "python",
   "pygments_lexer": "ipython3",
   "version": "3.8.3"
  }
 },
 "nbformat": 4,
 "nbformat_minor": 5
}
