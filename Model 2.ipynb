{
 "cells": [
  {
   "cell_type": "markdown",
   "id": "1964c73b",
   "metadata": {},
   "source": [
    "# Import packages and database"
   ]
  },
  {
   "cell_type": "code",
   "execution_count": 170,
   "id": "aeef4878",
   "metadata": {},
   "outputs": [],
   "source": [
    "import pandas as pd\n",
    "import numpy as np\n",
    "import biogeme.database as db\n",
    "import biogeme.biogeme as bio\n",
    "import biogeme.segmentation as seg\n",
    "from biogeme.expressions import Beta, Variable, Derive\n",
    "from biogeme import models\n",
    "from biogeme import results as res\n",
    "from biogeme.expressions import DefineVariable, log\n",
    "from collections import namedtuple\n",
    "\n",
    "data_file ='https://raw.githubusercontent.com/GustavePellier/MMOB/main/lpmc19.dat'\n",
    "LPMC = pd.read_csv(data_file, sep='\\t')\n",
    "LPMC\n",
    "\n",
    "database = db.Database('LPMC', LPMC)\n",
    "all_results = {}"
   ]
  },
  {
   "cell_type": "markdown",
   "id": "c268198d",
   "metadata": {},
   "source": [
    "# Model 0"
   ]
  },
  {
   "cell_type": "markdown",
   "id": "8c051382",
   "metadata": {},
   "source": [
    "We calculate the total public transport duration and the total driving cost"
   ]
  },
  {
   "cell_type": "code",
   "execution_count": 171,
   "id": "30ef41fc",
   "metadata": {},
   "outputs": [],
   "source": [
    "LPMC[\"dur_pt\"]= LPMC[\"dur_pt_access\"] + LPMC[\"dur_pt_rail\"] + LPMC[\"dur_pt_bus\"] + LPMC[\"dur_pt_int\"] \n",
    "LPMC[\"cost_drive\"] = LPMC[\"cost_driving_ccharge\"] + LPMC[\"cost_driving_fuel\"]"
   ]
  },
  {
   "cell_type": "markdown",
   "id": "431d5e32",
   "metadata": {},
   "source": [
    "Some variables are created with the columns that seem to be useful"
   ]
  },
  {
   "cell_type": "code",
   "execution_count": 172,
   "id": "fef3c95d",
   "metadata": {},
   "outputs": [],
   "source": [
    "travel_mode=Variable('travel_mode')\n",
    "\n",
    "dur_pt_access=Variable('dur_pt_access')\n",
    "dur_pt_rail=Variable('dur_pt_rail')\n",
    "dur_pt_bus=Variable('dur_pt_bus')\n",
    "dur_pt_int=Variable('dur_pt_int')\n",
    "\n",
    "pt_interchanges=Variable('pt_interchanges')\n",
    "\n",
    "cost_driving_fuel=Variable('cost_driving_fuel')\n",
    "cost_driving_ccharge=Variable('cost_driving_ccharge')\n",
    "cost_drive=Variable('cost_drive')\n",
    "cost_pt=Variable('cost_transit')\n",
    "\n",
    "time_walk=Variable('dur_walking')\n",
    "time_cycle=Variable('dur_cycling')\n",
    "time_pt=Variable('dur_pt')\n",
    "time_drive=Variable('dur_driving')\n",
    "\n",
    "female=Variable('female')\n",
    "age=Variable('age')"
   ]
  },
  {
   "cell_type": "markdown",
   "id": "d85f942d",
   "metadata": {},
   "source": [
    "There are 4 different travel mode, we will thus build a model with 4 utility functions, we create 3 alternative specific constant, a generic parameter for travel time and a generic parameter for cost"
   ]
  },
  {
   "cell_type": "code",
   "execution_count": 173,
   "id": "a4cbb192",
   "metadata": {},
   "outputs": [],
   "source": [
    "asc_cycle = Beta('asc_cycle', 0, None, None, 0)\n",
    "asc_pt = Beta('asc_pt', 0, None, None, 0)\n",
    "asc_drive = Beta('asc_drive', 0, None, None, 0)\n",
    "beta_cost = Beta('beta_cost', 0, None, None, 0)\n",
    "beta_time = Beta('beta_time', 0, None, None, 0)"
   ]
  },
  {
   "cell_type": "markdown",
   "id": "a3fda92c",
   "metadata": {},
   "source": [
    "Utility functions creation"
   ]
  },
  {
   "cell_type": "code",
   "execution_count": 174,
   "id": "f3d95590",
   "metadata": {},
   "outputs": [],
   "source": [
    "v_walk_model0= beta_time * time_walk  \n",
    "v_cycle_model0= asc_cycle + beta_time * time_cycle \n",
    "v_pt_model0= asc_pt + beta_time * time_pt + beta_cost * cost_pt\n",
    "v_drive_model0= asc_drive + beta_time * time_drive + beta_cost * cost_drive"
   ]
  },
  {
   "cell_type": "markdown",
   "id": "e0704b2a",
   "metadata": {},
   "source": [
    "availability of each mode, all available here"
   ]
  },
  {
   "cell_type": "code",
   "execution_count": 175,
   "id": "aed6d638",
   "metadata": {},
   "outputs": [],
   "source": [
    "av = {1: 1, 2: 1, 3: 1, 4:1}"
   ]
  },
  {
   "cell_type": "markdown",
   "id": "11cd2038",
   "metadata": {},
   "source": [
    "The estimation results (parameter values, t-tests or p-values, null and final log likelihoods)"
   ]
  },
  {
   "cell_type": "code",
   "execution_count": 176,
   "id": "e676e8d9",
   "metadata": {},
   "outputs": [
    {
     "data": {
      "text/html": [
       "<div>\n",
       "<style scoped>\n",
       "    .dataframe tbody tr th:only-of-type {\n",
       "        vertical-align: middle;\n",
       "    }\n",
       "\n",
       "    .dataframe tbody tr th {\n",
       "        vertical-align: top;\n",
       "    }\n",
       "\n",
       "    .dataframe thead th {\n",
       "        text-align: right;\n",
       "    }\n",
       "</style>\n",
       "<table border=\"1\" class=\"dataframe\">\n",
       "  <thead>\n",
       "    <tr style=\"text-align: right;\">\n",
       "      <th></th>\n",
       "      <th>Value</th>\n",
       "      <th>Rob. Std err</th>\n",
       "      <th>Rob. t-test</th>\n",
       "      <th>Rob. p-value</th>\n",
       "    </tr>\n",
       "  </thead>\n",
       "  <tbody>\n",
       "    <tr>\n",
       "      <th>asc_cycle</th>\n",
       "      <td>-3.878619</td>\n",
       "      <td>0.107672</td>\n",
       "      <td>-36.022418</td>\n",
       "      <td>0.0</td>\n",
       "    </tr>\n",
       "    <tr>\n",
       "      <th>asc_drive</th>\n",
       "      <td>-1.295191</td>\n",
       "      <td>0.080505</td>\n",
       "      <td>-16.088354</td>\n",
       "      <td>0.0</td>\n",
       "    </tr>\n",
       "    <tr>\n",
       "      <th>asc_pt</th>\n",
       "      <td>-0.503354</td>\n",
       "      <td>0.054123</td>\n",
       "      <td>-9.300119</td>\n",
       "      <td>0.0</td>\n",
       "    </tr>\n",
       "    <tr>\n",
       "      <th>beta_cost</th>\n",
       "      <td>-0.193629</td>\n",
       "      <td>0.013958</td>\n",
       "      <td>-13.871889</td>\n",
       "      <td>0.0</td>\n",
       "    </tr>\n",
       "    <tr>\n",
       "      <th>beta_time</th>\n",
       "      <td>-5.495527</td>\n",
       "      <td>0.208596</td>\n",
       "      <td>-26.345342</td>\n",
       "      <td>0.0</td>\n",
       "    </tr>\n",
       "  </tbody>\n",
       "</table>\n",
       "</div>"
      ],
      "text/plain": [
       "              Value  Rob. Std err  Rob. t-test  Rob. p-value\n",
       "asc_cycle -3.878619      0.107672   -36.022418           0.0\n",
       "asc_drive -1.295191      0.080505   -16.088354           0.0\n",
       "asc_pt    -0.503354      0.054123    -9.300119           0.0\n",
       "beta_cost -0.193629      0.013958   -13.871889           0.0\n",
       "beta_time -5.495527      0.208596   -26.345342           0.0"
      ]
     },
     "execution_count": 176,
     "metadata": {},
     "output_type": "execute_result"
    }
   ],
   "source": [
    "V_model0 = {1: v_walk_model0 , 2: v_cycle_model0, 3: v_pt_model0, 4: v_drive_model0}\n",
    "logprob_model0 = models.loglogit(V_model0, av, travel_mode)\n",
    "biogeme_model0 = bio.BIOGEME(database, logprob_model0)\n",
    "biogeme_model0.modelName = 'Model_0'\n",
    "all_results['Model0'] = biogeme_model0.estimate()\n",
    "results_generic = biogeme_model0.estimate()\n",
    "results_generic.getEstimatedParameters()"
   ]
  },
  {
   "cell_type": "code",
   "execution_count": 177,
   "id": "fc317c62",
   "metadata": {
    "scrolled": true
   },
   "outputs": [
    {
     "data": {
      "text/plain": [
       "(                                         Model0\n",
       " Number of estimated parameters                5\n",
       " Sample size                                5000\n",
       " Final log likelihood               -4587.818071\n",
       " Akaike Information Criterion        9185.636142\n",
       " Bayesian Information Criterion      9218.222108\n",
       " asc_cycle (t-test)                 -3.88  (-36)\n",
       " asc_drive (t-test)                -1.3  (-16.1)\n",
       " asc_pt (t-test)                  -0.503  (-9.3)\n",
       " beta_cost (t-test)              -0.194  (-13.9)\n",
       " beta_time (t-test)                -5.5  (-26.3),\n",
       " {'Model0': 'Model0'})"
      ]
     },
     "execution_count": 177,
     "metadata": {},
     "output_type": "execute_result"
    }
   ],
   "source": [
    "res.compile_estimation_results(all_results)"
   ]
  },
  {
   "cell_type": "code",
   "execution_count": 178,
   "id": "a850d111",
   "metadata": {},
   "outputs": [
    {
     "name": "stdout",
     "output_type": "stream",
     "text": [
      "Null Loglikelihood : \n"
     ]
    },
    {
     "data": {
      "text/plain": [
       "-6931.471805599917"
      ]
     },
     "execution_count": 178,
     "metadata": {},
     "output_type": "execute_result"
    }
   ],
   "source": [
    "print(\"Null Loglikelihood : \")\n",
    "biogeme_model0.calculateNullLoglikelihood(av)"
   ]
  },
  {
   "cell_type": "markdown",
   "id": "09df3561",
   "metadata": {},
   "source": [
    "# Model 1"
   ]
  },
  {
   "cell_type": "markdown",
   "id": "f716ade7",
   "metadata": {},
   "source": [
    "We choose to do a specification for the time attribute, the cost stays generic in this model. Therefore we obtain a beta_time parameter for each transportation mode. "
   ]
  },
  {
   "cell_type": "code",
   "execution_count": 179,
   "id": "0d5bca53",
   "metadata": {},
   "outputs": [],
   "source": [
    "beta_time_walk = Beta('beta_time_walk', 0, None, None, 0)\n",
    "beta_time_cycle = Beta('beta_time_cycle', 0, None, None, 0)\n",
    "beta_time_pt = Beta('beta_time_pt', 0, None, None, 0)\n",
    "beta_time_drive = Beta('beta_time_drive', 0, None, None, 0)"
   ]
  },
  {
   "cell_type": "markdown",
   "id": "acd1d560",
   "metadata": {},
   "source": [
    "The utility functions are rewritten with the new parameters :"
   ]
  },
  {
   "cell_type": "code",
   "execution_count": 180,
   "id": "7f1de385",
   "metadata": {},
   "outputs": [],
   "source": [
    "v_walk_model1= beta_time_walk * time_walk  \n",
    "v_cycle_model1= asc_cycle + beta_time_cycle * time_cycle \n",
    "v_pt_model1= asc_pt + beta_time_pt * time_pt + beta_cost * cost_pt\n",
    "v_drive_model1= asc_drive + beta_time_drive * time_drive + beta_cost * cost_drive"
   ]
  },
  {
   "cell_type": "markdown",
   "id": "751f1767",
   "metadata": {},
   "source": [
    "The results are computed (parameter values, t-tests or p-values, null and final log likelihoods)"
   ]
  },
  {
   "cell_type": "code",
   "execution_count": 181,
   "id": "2c6a6eef",
   "metadata": {},
   "outputs": [
    {
     "data": {
      "text/html": [
       "<div>\n",
       "<style scoped>\n",
       "    .dataframe tbody tr th:only-of-type {\n",
       "        vertical-align: middle;\n",
       "    }\n",
       "\n",
       "    .dataframe tbody tr th {\n",
       "        vertical-align: top;\n",
       "    }\n",
       "\n",
       "    .dataframe thead th {\n",
       "        text-align: right;\n",
       "    }\n",
       "</style>\n",
       "<table border=\"1\" class=\"dataframe\">\n",
       "  <thead>\n",
       "    <tr style=\"text-align: right;\">\n",
       "      <th></th>\n",
       "      <th>Value</th>\n",
       "      <th>Rob. Std err</th>\n",
       "      <th>Rob. t-test</th>\n",
       "      <th>Rob. p-value</th>\n",
       "    </tr>\n",
       "  </thead>\n",
       "  <tbody>\n",
       "    <tr>\n",
       "      <th>asc_cycle</th>\n",
       "      <td>-4.847224</td>\n",
       "      <td>0.202570</td>\n",
       "      <td>-23.928654</td>\n",
       "      <td>0.0</td>\n",
       "    </tr>\n",
       "    <tr>\n",
       "      <th>asc_drive</th>\n",
       "      <td>-1.969873</td>\n",
       "      <td>0.137929</td>\n",
       "      <td>-14.281808</td>\n",
       "      <td>0.0</td>\n",
       "    </tr>\n",
       "    <tr>\n",
       "      <th>asc_pt</th>\n",
       "      <td>-2.337196</td>\n",
       "      <td>0.139506</td>\n",
       "      <td>-16.753342</td>\n",
       "      <td>0.0</td>\n",
       "    </tr>\n",
       "    <tr>\n",
       "      <th>beta_cost</th>\n",
       "      <td>-0.182008</td>\n",
       "      <td>0.016087</td>\n",
       "      <td>-11.314047</td>\n",
       "      <td>0.0</td>\n",
       "    </tr>\n",
       "    <tr>\n",
       "      <th>beta_time_cycle</th>\n",
       "      <td>-5.312452</td>\n",
       "      <td>0.462002</td>\n",
       "      <td>-11.498762</td>\n",
       "      <td>0.0</td>\n",
       "    </tr>\n",
       "    <tr>\n",
       "      <th>beta_time_drive</th>\n",
       "      <td>-6.474307</td>\n",
       "      <td>0.378989</td>\n",
       "      <td>-17.083106</td>\n",
       "      <td>0.0</td>\n",
       "    </tr>\n",
       "    <tr>\n",
       "      <th>beta_time_pt</th>\n",
       "      <td>-3.538619</td>\n",
       "      <td>0.250656</td>\n",
       "      <td>-14.117426</td>\n",
       "      <td>0.0</td>\n",
       "    </tr>\n",
       "    <tr>\n",
       "      <th>beta_time_walk</th>\n",
       "      <td>-8.430765</td>\n",
       "      <td>0.418990</td>\n",
       "      <td>-20.121621</td>\n",
       "      <td>0.0</td>\n",
       "    </tr>\n",
       "  </tbody>\n",
       "</table>\n",
       "</div>"
      ],
      "text/plain": [
       "                    Value  Rob. Std err  Rob. t-test  Rob. p-value\n",
       "asc_cycle       -4.847224      0.202570   -23.928654           0.0\n",
       "asc_drive       -1.969873      0.137929   -14.281808           0.0\n",
       "asc_pt          -2.337196      0.139506   -16.753342           0.0\n",
       "beta_cost       -0.182008      0.016087   -11.314047           0.0\n",
       "beta_time_cycle -5.312452      0.462002   -11.498762           0.0\n",
       "beta_time_drive -6.474307      0.378989   -17.083106           0.0\n",
       "beta_time_pt    -3.538619      0.250656   -14.117426           0.0\n",
       "beta_time_walk  -8.430765      0.418990   -20.121621           0.0"
      ]
     },
     "execution_count": 181,
     "metadata": {},
     "output_type": "execute_result"
    }
   ],
   "source": [
    "V_model1 = {1: v_walk_model1 , 2: v_cycle_model1, 3: v_pt_model1, 4: v_drive_model1}\n",
    "logprob_model1 = models.loglogit(V_model1, av, travel_mode)\n",
    "biogeme_model1 = bio.BIOGEME(database, logprob_model1)\n",
    "biogeme_model1.modelName = 'Model_1'\n",
    "all_results['Model1'] = biogeme_model1.estimate()\n",
    "results_specific_time = biogeme_model1.estimate()\n",
    "results_specific_time.getEstimatedParameters()"
   ]
  },
  {
   "cell_type": "code",
   "execution_count": 182,
   "id": "76f02ab9",
   "metadata": {},
   "outputs": [
    {
     "data": {
      "text/plain": [
       "(                                         Model0           Model1\n",
       " Number of estimated parameters                5                8\n",
       " Sample size                                5000             5000\n",
       " Final log likelihood               -4587.818071     -4275.496542\n",
       " Akaike Information Criterion        9185.636142      8566.993084\n",
       " Bayesian Information Criterion      9218.222108       8619.13063\n",
       " asc_cycle (t-test)                 -3.88  (-36)   -4.85  (-23.9)\n",
       " asc_drive (t-test)                -1.3  (-16.1)   -1.97  (-14.3)\n",
       " asc_pt (t-test)                  -0.503  (-9.3)   -2.34  (-16.8)\n",
       " beta_cost (t-test)              -0.194  (-13.9)  -0.182  (-11.3)\n",
       " beta_time (t-test)                -5.5  (-26.3)                 \n",
       " beta_time_cycle (t-test)                          -5.31  (-11.5)\n",
       " beta_time_drive (t-test)                          -6.47  (-17.1)\n",
       " beta_time_pt (t-test)                             -3.54  (-14.1)\n",
       " beta_time_walk (t-test)                           -8.43  (-20.1),\n",
       " {'Model0': 'Model0', 'Model1': 'Model1'})"
      ]
     },
     "execution_count": 182,
     "metadata": {},
     "output_type": "execute_result"
    }
   ],
   "source": [
    "res.compile_estimation_results(all_results)"
   ]
  },
  {
   "cell_type": "code",
   "execution_count": 183,
   "id": "71ad50b5",
   "metadata": {},
   "outputs": [
    {
     "data": {
      "text/plain": [
       "-6931.471805599917"
      ]
     },
     "execution_count": 183,
     "metadata": {},
     "output_type": "execute_result"
    }
   ],
   "source": [
    "biogeme_model1.calculateNullLoglikelihood(av)"
   ]
  },
  {
   "cell_type": "markdown",
   "id": "b19aadad",
   "metadata": {},
   "source": [
    "We compare the 2 models with the likelihood ratio test because model 0 is a reduction of model 1.  "
   ]
  },
  {
   "cell_type": "code",
   "execution_count": 184,
   "id": "2a9466c0",
   "metadata": {},
   "outputs": [
    {
     "data": {
      "text/plain": [
       "LRTuple(message='H0 can be rejected at level 5.0%', statistic=624.6430583499878, threshold=7.814727903251179)"
      ]
     },
     "execution_count": 184,
     "metadata": {},
     "output_type": "execute_result"
    }
   ],
   "source": [
    "results_specific_time.likelihood_ratio_test(results_generic, 0.05)"
   ]
  },
  {
   "cell_type": "markdown",
   "id": "cc52485a",
   "metadata": {},
   "source": [
    "# Model 2"
   ]
  },
  {
   "cell_type": "markdown",
   "id": "9a67bff2",
   "metadata": {},
   "source": [
    "Using Model 1 as the base model, we choose to study how gender interact with the\n",
    "ASCs and the alternative attributes. "
   ]
  },
  {
   "cell_type": "markdown",
   "id": "c4c75d47",
   "metadata": {},
   "source": [
    "Lets start by segmenting the population by gender"
   ]
  },
  {
   "cell_type": "code",
   "execution_count": 185,
   "id": "4caeeb4b",
   "metadata": {},
   "outputs": [],
   "source": [
    "gender_segmentation = seg.DiscreteSegmentationTuple(variable=female, mapping={1: 'female', 0: 'male'})"
   ]
  },
  {
   "cell_type": "markdown",
   "id": "1dc35831",
   "metadata": {},
   "source": [
    "### ASC segmentation"
   ]
  },
  {
   "cell_type": "code",
   "execution_count": 186,
   "id": "d1c8b819",
   "metadata": {},
   "outputs": [],
   "source": [
    "asc_cycle = Beta('asc_cycle', 0, None, None, 0)\n",
    "segmented_asc_cycle = seg.Segmentation(asc_cycle,[gender_segmentation]).segmented_beta()\n",
    "\n",
    "asc_pt = Beta('asc_pt', 0, None, None, 0)\n",
    "segmented_asc_pt = seg.Segmentation(asc_pt,[gender_segmentation]).segmented_beta()\n",
    "\n",
    "asc_drive = Beta('asc_drive', 0, None, None, 0)\n",
    "segmented_asc_drive = seg.Segmentation(asc_drive,[gender_segmentation]).segmented_beta()"
   ]
  },
  {
   "cell_type": "markdown",
   "id": "5373e0ca",
   "metadata": {},
   "source": [
    "We redefine the value function of the 4 alternatives, introducing the segmented ASC and the segmented cost attribute"
   ]
  },
  {
   "cell_type": "code",
   "execution_count": 187,
   "id": "1bb503fb",
   "metadata": {},
   "outputs": [],
   "source": [
    "v_walk_model2= beta_time_walk * time_walk  \n",
    "v_cycle_model2= segmented_asc_cycle + beta_time_cycle * time_cycle \n",
    "v_pt_model2= segmented_asc_pt + beta_time_pt * time_pt + beta_cost * cost_pt\n",
    "v_drive_model2= segmented_asc_drive + beta_time_drive * time_drive + beta_cost * cost_drive"
   ]
  },
  {
   "cell_type": "markdown",
   "id": "1f6295d2",
   "metadata": {},
   "source": [
    "We can compute the result of the new model"
   ]
  },
  {
   "cell_type": "code",
   "execution_count": 188,
   "id": "e34e852a",
   "metadata": {},
   "outputs": [
    {
     "data": {
      "text/html": [
       "<div>\n",
       "<style scoped>\n",
       "    .dataframe tbody tr th:only-of-type {\n",
       "        vertical-align: middle;\n",
       "    }\n",
       "\n",
       "    .dataframe tbody tr th {\n",
       "        vertical-align: top;\n",
       "    }\n",
       "\n",
       "    .dataframe thead th {\n",
       "        text-align: right;\n",
       "    }\n",
       "</style>\n",
       "<table border=\"1\" class=\"dataframe\">\n",
       "  <thead>\n",
       "    <tr style=\"text-align: right;\">\n",
       "      <th></th>\n",
       "      <th>Value</th>\n",
       "      <th>Rob. Std err</th>\n",
       "      <th>Rob. t-test</th>\n",
       "      <th>Rob. p-value</th>\n",
       "    </tr>\n",
       "  </thead>\n",
       "  <tbody>\n",
       "    <tr>\n",
       "      <th>asc_cycle</th>\n",
       "      <td>-5.454910</td>\n",
       "      <td>0.253347</td>\n",
       "      <td>-21.531354</td>\n",
       "      <td>0.000000e+00</td>\n",
       "    </tr>\n",
       "    <tr>\n",
       "      <th>asc_cycle_male</th>\n",
       "      <td>1.051802</td>\n",
       "      <td>0.208766</td>\n",
       "      <td>5.038188</td>\n",
       "      <td>4.699608e-07</td>\n",
       "    </tr>\n",
       "    <tr>\n",
       "      <th>asc_drive</th>\n",
       "      <td>-1.893661</td>\n",
       "      <td>0.144300</td>\n",
       "      <td>-13.123043</td>\n",
       "      <td>0.000000e+00</td>\n",
       "    </tr>\n",
       "    <tr>\n",
       "      <th>asc_drive_male</th>\n",
       "      <td>-0.197962</td>\n",
       "      <td>0.095253</td>\n",
       "      <td>-2.078277</td>\n",
       "      <td>3.768381e-02</td>\n",
       "    </tr>\n",
       "    <tr>\n",
       "      <th>asc_pt</th>\n",
       "      <td>-2.208490</td>\n",
       "      <td>0.146370</td>\n",
       "      <td>-15.088352</td>\n",
       "      <td>0.000000e+00</td>\n",
       "    </tr>\n",
       "    <tr>\n",
       "      <th>asc_pt_male</th>\n",
       "      <td>-0.333165</td>\n",
       "      <td>0.099554</td>\n",
       "      <td>-3.346591</td>\n",
       "      <td>8.181180e-04</td>\n",
       "    </tr>\n",
       "    <tr>\n",
       "      <th>beta_cost</th>\n",
       "      <td>-0.182827</td>\n",
       "      <td>0.016154</td>\n",
       "      <td>-11.317822</td>\n",
       "      <td>0.000000e+00</td>\n",
       "    </tr>\n",
       "    <tr>\n",
       "      <th>beta_time_cycle</th>\n",
       "      <td>-5.580780</td>\n",
       "      <td>0.473118</td>\n",
       "      <td>-11.795745</td>\n",
       "      <td>0.000000e+00</td>\n",
       "    </tr>\n",
       "    <tr>\n",
       "      <th>beta_time_drive</th>\n",
       "      <td>-6.487957</td>\n",
       "      <td>0.380056</td>\n",
       "      <td>-17.071074</td>\n",
       "      <td>0.000000e+00</td>\n",
       "    </tr>\n",
       "    <tr>\n",
       "      <th>beta_time_pt</th>\n",
       "      <td>-3.527004</td>\n",
       "      <td>0.251404</td>\n",
       "      <td>-14.029204</td>\n",
       "      <td>0.000000e+00</td>\n",
       "    </tr>\n",
       "    <tr>\n",
       "      <th>beta_time_walk</th>\n",
       "      <td>-8.456644</td>\n",
       "      <td>0.417761</td>\n",
       "      <td>-20.242755</td>\n",
       "      <td>0.000000e+00</td>\n",
       "    </tr>\n",
       "  </tbody>\n",
       "</table>\n",
       "</div>"
      ],
      "text/plain": [
       "                    Value  Rob. Std err  Rob. t-test  Rob. p-value\n",
       "asc_cycle       -5.454910      0.253347   -21.531354  0.000000e+00\n",
       "asc_cycle_male   1.051802      0.208766     5.038188  4.699608e-07\n",
       "asc_drive       -1.893661      0.144300   -13.123043  0.000000e+00\n",
       "asc_drive_male  -0.197962      0.095253    -2.078277  3.768381e-02\n",
       "asc_pt          -2.208490      0.146370   -15.088352  0.000000e+00\n",
       "asc_pt_male     -0.333165      0.099554    -3.346591  8.181180e-04\n",
       "beta_cost       -0.182827      0.016154   -11.317822  0.000000e+00\n",
       "beta_time_cycle -5.580780      0.473118   -11.795745  0.000000e+00\n",
       "beta_time_drive -6.487957      0.380056   -17.071074  0.000000e+00\n",
       "beta_time_pt    -3.527004      0.251404   -14.029204  0.000000e+00\n",
       "beta_time_walk  -8.456644      0.417761   -20.242755  0.000000e+00"
      ]
     },
     "execution_count": 188,
     "metadata": {},
     "output_type": "execute_result"
    }
   ],
   "source": [
    "V_model2 = {1: v_walk_model2 , 2: v_cycle_model2, 3: v_pt_model2, 4: v_drive_model2}\n",
    "logprob_model2 = models.loglogit(V_model2, av, travel_mode)\n",
    "biogeme_model2 = bio.BIOGEME(database, logprob_model2)\n",
    "biogeme_model2.modelName = 'Model_2'\n",
    "all_results['Model2'] = biogeme_model2.estimate()\n",
    "results_segmented_gender = biogeme_model2.estimate()\n",
    "results_segmented_gender.getEstimatedParameters()"
   ]
  },
  {
   "cell_type": "code",
   "execution_count": 189,
   "id": "f931221b",
   "metadata": {},
   "outputs": [
    {
     "data": {
      "text/plain": [
       "-6931.471805599917"
      ]
     },
     "execution_count": 189,
     "metadata": {},
     "output_type": "execute_result"
    }
   ],
   "source": [
    "biogeme_model2.calculateNullLoglikelihood(av)"
   ]
  },
  {
   "cell_type": "markdown",
   "id": "b07556b1",
   "metadata": {},
   "source": [
    "### Cost segmentation"
   ]
  },
  {
   "cell_type": "markdown",
   "id": "82eb7f24",
   "metadata": {},
   "source": [
    "And its interaction on the cost attribute in the car and public transport alternative."
   ]
  },
  {
   "cell_type": "code",
   "execution_count": 190,
   "id": "411de8a2",
   "metadata": {},
   "outputs": [],
   "source": [
    "beta_cost = Beta('beta_cost', 0, None, None, 0)\n",
    "segmented_beta_cost = seg.Segmentation(beta_cost, [gender_segmentation]).segmented_beta()"
   ]
  },
  {
   "cell_type": "code",
   "execution_count": 191,
   "id": "5cbf159f",
   "metadata": {},
   "outputs": [],
   "source": [
    "v_walk_model2_2= beta_time_walk * time_walk  \n",
    "v_cycle_model2_2= asc_cycle + beta_time_cycle * time_cycle \n",
    "v_pt_model2_2= asc_pt + beta_time_pt * time_pt + segmented_beta_cost * cost_pt\n",
    "v_drive_model2_2= asc_drive + beta_time_drive * time_drive + segmented_beta_cost * cost_drive"
   ]
  },
  {
   "cell_type": "markdown",
   "id": "38328738",
   "metadata": {},
   "source": [
    "We can compute the result of the new model"
   ]
  },
  {
   "cell_type": "code",
   "execution_count": 192,
   "id": "69ad286d",
   "metadata": {},
   "outputs": [
    {
     "data": {
      "text/html": [
       "<div>\n",
       "<style scoped>\n",
       "    .dataframe tbody tr th:only-of-type {\n",
       "        vertical-align: middle;\n",
       "    }\n",
       "\n",
       "    .dataframe tbody tr th {\n",
       "        vertical-align: top;\n",
       "    }\n",
       "\n",
       "    .dataframe thead th {\n",
       "        text-align: right;\n",
       "    }\n",
       "</style>\n",
       "<table border=\"1\" class=\"dataframe\">\n",
       "  <thead>\n",
       "    <tr style=\"text-align: right;\">\n",
       "      <th></th>\n",
       "      <th>Value</th>\n",
       "      <th>Rob. Std err</th>\n",
       "      <th>Rob. t-test</th>\n",
       "      <th>Rob. p-value</th>\n",
       "    </tr>\n",
       "  </thead>\n",
       "  <tbody>\n",
       "    <tr>\n",
       "      <th>asc_cycle</th>\n",
       "      <td>-4.843766</td>\n",
       "      <td>0.202192</td>\n",
       "      <td>-23.956237</td>\n",
       "      <td>0.000000e+00</td>\n",
       "    </tr>\n",
       "    <tr>\n",
       "      <th>asc_drive</th>\n",
       "      <td>-1.971716</td>\n",
       "      <td>0.137731</td>\n",
       "      <td>-14.315753</td>\n",
       "      <td>0.000000e+00</td>\n",
       "    </tr>\n",
       "    <tr>\n",
       "      <th>asc_pt</th>\n",
       "      <td>-2.343113</td>\n",
       "      <td>0.139307</td>\n",
       "      <td>-16.819783</td>\n",
       "      <td>0.000000e+00</td>\n",
       "    </tr>\n",
       "    <tr>\n",
       "      <th>beta_cost</th>\n",
       "      <td>-0.151590</td>\n",
       "      <td>0.018749</td>\n",
       "      <td>-8.085464</td>\n",
       "      <td>6.661338e-16</td>\n",
       "    </tr>\n",
       "    <tr>\n",
       "      <th>beta_cost_male</th>\n",
       "      <td>-0.065393</td>\n",
       "      <td>0.031840</td>\n",
       "      <td>-2.053794</td>\n",
       "      <td>3.999566e-02</td>\n",
       "    </tr>\n",
       "    <tr>\n",
       "      <th>beta_time_cycle</th>\n",
       "      <td>-5.348638</td>\n",
       "      <td>0.459249</td>\n",
       "      <td>-11.646498</td>\n",
       "      <td>0.000000e+00</td>\n",
       "    </tr>\n",
       "    <tr>\n",
       "      <th>beta_time_drive</th>\n",
       "      <td>-6.483025</td>\n",
       "      <td>0.380413</td>\n",
       "      <td>-17.042049</td>\n",
       "      <td>0.000000e+00</td>\n",
       "    </tr>\n",
       "    <tr>\n",
       "      <th>beta_time_pt</th>\n",
       "      <td>-3.536891</td>\n",
       "      <td>0.250704</td>\n",
       "      <td>-14.107830</td>\n",
       "      <td>0.000000e+00</td>\n",
       "    </tr>\n",
       "    <tr>\n",
       "      <th>beta_time_walk</th>\n",
       "      <td>-8.435602</td>\n",
       "      <td>0.418400</td>\n",
       "      <td>-20.161583</td>\n",
       "      <td>0.000000e+00</td>\n",
       "    </tr>\n",
       "  </tbody>\n",
       "</table>\n",
       "</div>"
      ],
      "text/plain": [
       "                    Value  Rob. Std err  Rob. t-test  Rob. p-value\n",
       "asc_cycle       -4.843766      0.202192   -23.956237  0.000000e+00\n",
       "asc_drive       -1.971716      0.137731   -14.315753  0.000000e+00\n",
       "asc_pt          -2.343113      0.139307   -16.819783  0.000000e+00\n",
       "beta_cost       -0.151590      0.018749    -8.085464  6.661338e-16\n",
       "beta_cost_male  -0.065393      0.031840    -2.053794  3.999566e-02\n",
       "beta_time_cycle -5.348638      0.459249   -11.646498  0.000000e+00\n",
       "beta_time_drive -6.483025      0.380413   -17.042049  0.000000e+00\n",
       "beta_time_pt    -3.536891      0.250704   -14.107830  0.000000e+00\n",
       "beta_time_walk  -8.435602      0.418400   -20.161583  0.000000e+00"
      ]
     },
     "execution_count": 192,
     "metadata": {},
     "output_type": "execute_result"
    }
   ],
   "source": [
    "V_model2_2 = {1: v_walk_model2_2 , 2: v_cycle_model2_2, 3: v_pt_model2_2, 4: v_drive_model2_2}\n",
    "logprob_model2_2 = models.loglogit(V_model2_2, av, travel_mode)\n",
    "biogeme_model2_2 = bio.BIOGEME(database, logprob_model2_2)\n",
    "biogeme_model2_2.modelName = 'Model_2_2'\n",
    "all_results['Model2_2'] = biogeme_model2_2.estimate()\n",
    "results_segmented_gender_2 = biogeme_model2_2.estimate()\n",
    "results_segmented_gender_2.getEstimatedParameters()"
   ]
  },
  {
   "cell_type": "code",
   "execution_count": 193,
   "id": "a7628026",
   "metadata": {},
   "outputs": [
    {
     "data": {
      "text/plain": [
       "-6931.471805599917"
      ]
     },
     "execution_count": 193,
     "metadata": {},
     "output_type": "execute_result"
    }
   ],
   "source": [
    "biogeme_model2_2.calculateNullLoglikelihood(av)"
   ]
  },
  {
   "cell_type": "markdown",
   "id": "3b179c4d",
   "metadata": {},
   "source": [
    "### Compiling all results from the different models"
   ]
  },
  {
   "cell_type": "code",
   "execution_count": 194,
   "id": "f7868a3e",
   "metadata": {},
   "outputs": [
    {
     "data": {
      "text/plain": [
       "(                                         Model0           Model1  \\\n",
       " Number of estimated parameters                5                8   \n",
       " Sample size                                5000             5000   \n",
       " Final log likelihood               -4587.818071     -4275.496542   \n",
       " Akaike Information Criterion        9185.636142      8566.993084   \n",
       " Bayesian Information Criterion      9218.222108       8619.13063   \n",
       " asc_cycle (t-test)                 -3.88  (-36)   -4.85  (-23.9)   \n",
       " asc_drive (t-test)                -1.3  (-16.1)   -1.97  (-14.3)   \n",
       " asc_pt (t-test)                  -0.503  (-9.3)   -2.34  (-16.8)   \n",
       " beta_cost (t-test)              -0.194  (-13.9)  -0.182  (-11.3)   \n",
       " beta_time (t-test)                -5.5  (-26.3)                    \n",
       " beta_time_cycle (t-test)                          -5.31  (-11.5)   \n",
       " beta_time_drive (t-test)                          -6.47  (-17.1)   \n",
       " beta_time_pt (t-test)                             -3.54  (-14.1)   \n",
       " beta_time_walk (t-test)                           -8.43  (-20.1)   \n",
       " asc_cycle_male (t-test)                                            \n",
       " asc_drive_male (t-test)                                            \n",
       " asc_pt_male (t-test)                                               \n",
       " beta_cost_male (t-test)                                            \n",
       " \n",
       "                                          Model2          Model2_2  \n",
       " Number of estimated parameters               11                 9  \n",
       " Sample size                                5000              5000  \n",
       " Final log likelihood               -4245.240231      -4273.204021  \n",
       " Akaike Information Criterion        8512.480463       8564.408041  \n",
       " Bayesian Information Criterion      8584.169588        8623.06278  \n",
       " asc_cycle (t-test)               -5.45  (-21.5)      -4.84  (-24)  \n",
       " asc_drive (t-test)               -1.89  (-13.1)    -1.97  (-14.3)  \n",
       " asc_pt (t-test)                  -2.21  (-15.1)    -2.34  (-16.8)  \n",
       " beta_cost (t-test)              -0.183  (-11.3)   -0.152  (-8.09)  \n",
       " beta_time (t-test)                                                 \n",
       " beta_time_cycle (t-test)         -5.58  (-11.8)    -5.35  (-11.6)  \n",
       " beta_time_drive (t-test)         -6.49  (-17.1)      -6.48  (-17)  \n",
       " beta_time_pt (t-test)              -3.53  (-14)    -3.54  (-14.1)  \n",
       " beta_time_walk (t-test)          -8.46  (-20.2)    -8.44  (-20.2)  \n",
       " asc_cycle_male (t-test)            1.05  (5.04)                    \n",
       " asc_drive_male (t-test)         -0.198  (-2.08)                    \n",
       " asc_pt_male (t-test)            -0.333  (-3.35)                    \n",
       " beta_cost_male (t-test)                          -0.0654  (-2.05)  ,\n",
       " {'Model0': 'Model0',\n",
       "  'Model1': 'Model1',\n",
       "  'Model2': 'Model2',\n",
       "  'Model2_2': 'Model2_2'})"
      ]
     },
     "execution_count": 194,
     "metadata": {},
     "output_type": "execute_result"
    }
   ],
   "source": [
    "res.compile_estimation_results(all_results)"
   ]
  },
  {
   "cell_type": "markdown",
   "id": "81fb6d76",
   "metadata": {},
   "source": [
    "### Likelihood ratio test to check if model_2 and model_2_2 are equivalent or not"
   ]
  },
  {
   "cell_type": "code",
   "execution_count": 195,
   "id": "3330555f",
   "metadata": {},
   "outputs": [
    {
     "data": {
      "text/plain": [
       "LRTuple(message='H0 can be rejected at level 5.0%', statistic=55.92757888516644, threshold=5.991464547107979)"
      ]
     },
     "execution_count": 195,
     "metadata": {},
     "output_type": "execute_result"
    }
   ],
   "source": [
    "results_segmented_gender.likelihood_ratio_test(results_segmented_gender_2, 0.05)"
   ]
  },
  {
   "cell_type": "markdown",
   "id": "b71fa033",
   "metadata": {},
   "source": [
    "Model_2 is preferred because they are not equivalent. The BIC and AIC are smaller and the final likelihood is bigger for model 2"
   ]
  },
  {
   "cell_type": "markdown",
   "id": "20f25e11",
   "metadata": {},
   "source": [
    "### Comparison with model 1"
   ]
  },
  {
   "cell_type": "code",
   "execution_count": 197,
   "id": "0d294de8",
   "metadata": {},
   "outputs": [
    {
     "data": {
      "text/plain": [
       "LRTuple(message='H0 can be rejected at level 5.0%', statistic=60.51262152961135, threshold=7.814727903251179)"
      ]
     },
     "execution_count": 197,
     "metadata": {},
     "output_type": "execute_result"
    }
   ],
   "source": [
    "results_segmented_gender.likelihood_ratio_test(results_specific_time, 0.05)"
   ]
  },
  {
   "cell_type": "markdown",
   "id": "25396943",
   "metadata": {},
   "source": [
    "Model_2 is preferred to Model_1 because they are not equivalent. The BIC and AIC are smaller and the final likelihood is bigger for model 2."
   ]
  },
  {
   "cell_type": "markdown",
   "id": "893bfb74",
   "metadata": {},
   "source": [
    "# Model 3"
   ]
  }
 ],
 "metadata": {
  "kernelspec": {
   "display_name": "Python 3 (ipykernel)",
   "language": "python",
   "name": "python3"
  },
  "language_info": {
   "codemirror_mode": {
    "name": "ipython",
    "version": 3
   },
   "file_extension": ".py",
   "mimetype": "text/x-python",
   "name": "python",
   "nbconvert_exporter": "python",
   "pygments_lexer": "ipython3",
   "version": "3.9.18"
  }
 },
 "nbformat": 4,
 "nbformat_minor": 5
}
